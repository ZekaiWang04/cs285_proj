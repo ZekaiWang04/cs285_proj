{
 "cells": [
  {
   "cell_type": "code",
   "execution_count": 1,
   "metadata": {},
   "outputs": [],
   "source": [
    "%load_ext autoreload\n",
    "%autoreload 2\n",
    "%load_ext line_profiler\n",
    "from cs285.envs.pendulum.pendulum_env import PendulumEnv\n",
    "from cs285.envs.dt_sampler import ConstantSampler\n",
    "from cs285.infrastructure.replay_buffer import ReplayBufferTrajectories\n",
    "from cs285.infrastructure.utils import sample_n_trajectories, RandomPolicy\n",
    "from cs285.agents.ode_agent import ODEAgent_Vanilla\n",
    "from cs285.agents.utils import save_leaves, load_leaves\n",
    "from typing import Callable, Optional, Tuple, Sequence\n",
    "import numpy as np\n",
    "import gym\n",
    "from cs285.infrastructure import pytorch_util as ptu\n",
    "from torchdiffeq import odeint\n",
    "from tqdm import trange\n",
    "import jax\n",
    "import jax.numpy as jnp\n",
    "import equinox as eqx\n",
    "import diffrax\n",
    "from diffrax import diffeqsolve, Dopri5\n",
    "import optax"
   ]
  },
  {
   "cell_type": "code",
   "execution_count": 2,
   "metadata": {},
   "outputs": [
    {
     "name": "stdout",
     "output_type": "stream",
     "text": [
      "gpu\n"
     ]
    }
   ],
   "source": [
    "key = jax.random.PRNGKey(0)\n",
    "from jax.lib import xla_bridge\n",
    "print(xla_bridge.get_backend().platform)"
   ]
  },
  {
   "cell_type": "code",
   "execution_count": 3,
   "metadata": {},
   "outputs": [
    {
     "name": "stderr",
     "output_type": "stream",
     "text": [
      "100%|██████████| 10/10 [00:02<00:00,  4.68it/s]\n",
      "100%|██████████| 2/2 [00:40<00:00, 20.40s/it]\n",
      "100%|██████████| 10/10 [00:18<00:00,  1.85s/it]\n"
     ]
    }
   ],
   "source": [
    "dt_sampler = ConstantSampler(dt=0.05)\n",
    "env = PendulumEnv(\n",
    "    dt_sampler=dt_sampler\n",
    ")\n",
    "mpc_dt_sampler = ConstantSampler(dt=0.05)\n",
    "agent_key, new_agent_key = jax.random.split(key)\n",
    "mlp_dyanmics_setup = {\n",
    "    \"hidden_size\":128,\n",
    "    \"num_layers\":4,\n",
    "    \"activation\":\"relu\",\n",
    "    \"output_activation\":\"identity\"\n",
    "}\n",
    "optimizer_name = \"adamw\"\n",
    "optimizer_kwargs = {\"learning_rate\": 1e-3}\n",
    "mb_agent = ODEAgent_Vanilla(\n",
    "    env=env,\n",
    "    key=agent_key,\n",
    "    mlp_dynamics_setup=mlp_dyanmics_setup,\n",
    "    optimizer_name=optimizer_name,\n",
    "    optimizer_kwargs=optimizer_kwargs,\n",
    "    ensemble_size=10,\n",
    "    train_timestep=0.005,\n",
    "    train_discount=1,\n",
    "    mpc_horizon_steps=100,\n",
    "    mpc_dt_sampler=mpc_dt_sampler,\n",
    "    mpc_strategy=\"cem\",\n",
    "    mpc_discount=0.9,\n",
    "    mpc_num_action_sequences=1000,\n",
    "    mpc_timestep=0.05,\n",
    "    cem_num_iters=4,\n",
    "    cem_num_elites=5,\n",
    "    cem_alpha=1,\n",
    ")\n",
    "replay_buffer = ReplayBufferTrajectories(seed=42)\n",
    "trajs, _ = sample_n_trajectories(env, RandomPolicy(env=env), ntraj=10, max_length=200, key=key)\n",
    "replay_buffer.add_rollouts(trajs)\n",
    "\n",
    "batch_size = 64\n",
    "for n in trange(2):\n",
    "    for i in range(mb_agent.ensemble_size):\n",
    "        obs, acs, times = jnp.empty(shape=(batch_size, 201, 3)), jnp.empty(shape=(batch_size, 201, 1)), jnp.empty(shape=(batch_size, 201))\n",
    "        for m in range(batch_size):\n",
    "            traj = replay_buffer.sample_rollout()\n",
    "            obs.at[m].set(traj[\"observations\"])\n",
    "            acs.at[m].set(traj[\"actions\"])\n",
    "            times.at[m].set(jnp.cumsum(traj[\"dts\"]))\n",
    "        loss = mb_agent.batched_update(i=i, obs=obs, acs=acs, times=times)\n",
    "# well, on cpu and gpu it all takes around 16 seconds per iteration\n",
    "\n",
    "trajs, _ = sample_n_trajectories(\n",
    "    env=env,\n",
    "    policy=mb_agent,\n",
    "    ntraj=10,\n",
    "    max_length=200,\n",
    "    key=key\n",
    ")"
   ]
  },
  {
   "cell_type": "code",
   "execution_count": null,
   "metadata": {},
   "outputs": [],
   "source": []
  }
 ],
 "metadata": {
  "kernelspec": {
   "display_name": "cs285_proj",
   "language": "python",
   "name": "python3"
  },
  "language_info": {
   "codemirror_mode": {
    "name": "ipython",
    "version": 3
   },
   "file_extension": ".py",
   "mimetype": "text/x-python",
   "name": "python",
   "nbconvert_exporter": "python",
   "pygments_lexer": "ipython3",
   "version": "3.9.18"
  }
 },
 "nbformat": 4,
 "nbformat_minor": 2
}
