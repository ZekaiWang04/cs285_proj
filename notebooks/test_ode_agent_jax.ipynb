{
 "cells": [
  {
   "cell_type": "code",
   "execution_count": 1,
   "metadata": {},
   "outputs": [],
   "source": [
    "%load_ext autoreload\n",
    "%autoreload 2\n",
    "%load_ext line_profiler\n",
    "from cs285.envs.pendulum.pendulum_env import PendulumEnv\n",
    "from cs285.envs.dt_sampler import ConstantSampler\n",
    "from cs285.infrastructure.replay_buffer import ReplayBufferTrajectories\n",
    "from cs285.infrastructure.utils import sample_n_trajectories, RandomPolicy\n",
    "from cs285.agents.ode_agent_jax import ODEAgent_jax\n",
    "from typing import Callable, Optional, Tuple, Sequence\n",
    "import numpy as np\n",
    "import torch.nn as nn\n",
    "import torch\n",
    "import gym\n",
    "from cs285.infrastructure import pytorch_util as ptu\n",
    "from torchdiffeq import odeint\n",
    "from tqdm import trange\n",
    "import jax\n",
    "import jax.numpy as jnp\n",
    "import equinox as eqx\n",
    "import diffrax\n",
    "from diffrax import diffeqsolve, Dopri5\n",
    "import optax"
   ]
  },
  {
   "cell_type": "code",
   "execution_count": 2,
   "metadata": {},
   "outputs": [
    {
     "name": "stdout",
     "output_type": "stream",
     "text": [
      "cpu\n"
     ]
    }
   ],
   "source": [
    "key = jax.random.PRNGKey(0)\n",
    "from jax.lib import xla_bridge\n",
    "print(xla_bridge.get_backend().platform)\n",
    "device = \"gpu\" if torch.cuda.is_available() else \"cpu\""
   ]
  },
  {
   "cell_type": "code",
   "execution_count": 3,
   "metadata": {},
   "outputs": [
    {
     "name": "stderr",
     "output_type": "stream",
     "text": [
      "100%|██████████| 10/10 [00:00<00:00, 47.00it/s]\n"
     ]
    }
   ],
   "source": [
    "dt_sampler = ConstantSampler(dt=0.05)\n",
    "env = PendulumEnv(\n",
    "    dt_sampler=dt_sampler\n",
    ")\n",
    "mb_agent_jax = ODEAgent_jax(\n",
    "    env=env,\n",
    "    hidden_size=128,\n",
    "    num_layers=4,\n",
    "    ensemble_size=10,\n",
    "    train_timestep=0.005,\n",
    "    mpc_horizon_steps=100,\n",
    "    mpc_timestep=0.005,\n",
    "    mpc_strategy=\"random\",\n",
    "    mpc_num_action_sequences=10,\n",
    "    key=key\n",
    ")\n",
    "replay_buffer = ReplayBufferTrajectories(seed=42)\n",
    "trajs, _ = sample_n_trajectories(env, RandomPolicy(env=env), ntraj=10, max_length=200)\n",
    "replay_buffer.add_rollouts(trajs)"
   ]
  },
  {
   "cell_type": "code",
   "execution_count": 10,
   "metadata": {},
   "outputs": [
    {
     "name": "stderr",
     "output_type": "stream",
     "text": [
      "100%|██████████| 2/2 [00:33<00:00, 16.97s/it]\n"
     ]
    }
   ],
   "source": [
    "for n in trange(2):\n",
    "    for i in range(mb_agent_jax.ensemble_size):\n",
    "        traj = replay_buffer.sample_rollout()\n",
    "        loss = mb_agent_jax.update(i, traj[\"observations\"], traj[\"actions\"], jnp.cumsum(traj[\"dts\"]), discount=0.9)\n",
    "# TODO: change the implementation to allow sampling batched rollouts"
   ]
  },
  {
   "cell_type": "code",
   "execution_count": 12,
   "metadata": {},
   "outputs": [
    {
     "data": {
      "text/plain": [
       "0.15550266206264496"
      ]
     },
     "execution_count": 12,
     "metadata": {},
     "output_type": "execute_result"
    }
   ],
   "source": [
    "loss"
   ]
  },
  {
   "cell_type": "code",
   "execution_count": 4,
   "metadata": {},
   "outputs": [
    {
     "name": "stderr",
     "output_type": "stream",
     "text": [
      "  0%|          | 0/2 [00:00<?, ?it/s]"
     ]
    },
    {
     "name": "stderr",
     "output_type": "stream",
     "text": [
      "100%|██████████| 2/2 [00:39<00:00, 19.80s/it]\n"
     ]
    }
   ],
   "source": [
    "batch_size = 64\n",
    "for n in trange(2):\n",
    "    for i in range(mb_agent_jax.ensemble_size):\n",
    "        obs, acs, times = jnp.empty(shape=(batch_size, 201, 3)), jnp.empty(shape=(batch_size, 201, 1)), jnp.empty(shape=(batch_size, 201))\n",
    "        for m in range(batch_size):\n",
    "            traj = replay_buffer.sample_rollout()\n",
    "            obs.at[m].set(traj[\"observations\"])\n",
    "            acs.at[m].set(traj[\"actions\"])\n",
    "            times.at[m].set(jnp.cumsum(traj[\"dts\"]))\n",
    "        loss = mb_agent_jax.batched_update_gd(i=i, obs=obs, acs=acs, times=times, discount=0.9)\n"
   ]
  },
  {
   "cell_type": "code",
   "execution_count": 5,
   "metadata": {},
   "outputs": [],
   "source": [
    "def func():\n",
    "    batch_size = 64\n",
    "    for n in trange(2):\n",
    "        for i in range(mb_agent_jax.ensemble_size):\n",
    "            obs, acs, times = jnp.empty(shape=(batch_size, 201, 3)), jnp.empty(shape=(batch_size, 201, 1)), jnp.empty(shape=(batch_size, 201))\n",
    "            for m in range(batch_size):\n",
    "                traj = replay_buffer.sample_rollout()\n",
    "                obs.at[m].set(traj[\"observations\"]) # takes 1% of time\n",
    "                acs.at[m].set(traj[\"actions\"]) # takes 1% of time\n",
    "                times.at[m].set(jnp.cumsum(traj[\"dts\"])) # takes 1% of time\n",
    "            loss = mb_agent_jax.batched_update_gd(i=i, obs=obs, acs=acs, times=times, discount=0.9)"
   ]
  },
  {
   "cell_type": "code",
   "execution_count": 6,
   "metadata": {},
   "outputs": [
    {
     "name": "stderr",
     "output_type": "stream",
     "text": [
      "100%|██████████| 2/2 [00:42<00:00, 21.12s/it]\n"
     ]
    },
    {
     "name": "stdout",
     "output_type": "stream",
     "text": [
      "Timer unit: 1e-09 s\n",
      "\n",
      "Total time: 42.2433 s\n",
      "File: /var/folders/nd/k3zbj8ys0v544bkn7b8pjnf80000gn/T/ipykernel_8554/2015805227.py\n",
      "Function: func at line 1\n",
      "\n",
      "Line #      Hits         Time  Per Hit   % Time  Line Contents\n",
      "==============================================================\n",
      "     1                                           def func():\n",
      "     2         1          0.0      0.0      0.0      batch_size = 64\n",
      "     3         3   11058000.0    4e+06      0.0      for n in trange(2):\n",
      "     4        22      15000.0    681.8      0.0          for i in range(mb_agent_jax.ensemble_size):\n",
      "     5        20    6805000.0 340250.0      0.0              obs, acs, times = jnp.empty(shape=(batch_size, 201, 3)), jnp.empty(shape=(batch_size, 201, 1)), jnp.empty(shape=(batch_size, 201))\n",
      "     6      1300     291000.0    223.8      0.0              for m in range(batch_size):\n",
      "     7      1280    6186000.0   4832.8      0.0                  traj = replay_buffer.sample_rollout()\n",
      "     8      1280  540241000.0 422063.3      1.3                  obs.at[m].set(traj[\"observations\"])\n",
      "     9      1280  531409000.0 415163.3      1.3                  acs.at[m].set(traj[\"actions\"])\n",
      "    10      1280  498498000.0 389451.6      1.2                  times.at[m].set(jnp.cumsum(traj[\"dts\"]))\n",
      "    11        20        4e+10    2e+09     96.2              loss = mb_agent_jax.batched_update_gd(i=i, obs=obs, acs=acs, times=times, discount=0.9)"
     ]
    }
   ],
   "source": [
    "%lprun -f func func()"
   ]
  },
  {
   "cell_type": "code",
   "execution_count": null,
   "metadata": {},
   "outputs": [],
   "source": []
  }
 ],
 "metadata": {
  "kernelspec": {
   "display_name": "cs285_proj",
   "language": "python",
   "name": "python3"
  },
  "language_info": {
   "codemirror_mode": {
    "name": "ipython",
    "version": 3
   },
   "file_extension": ".py",
   "mimetype": "text/x-python",
   "name": "python",
   "nbconvert_exporter": "python",
   "pygments_lexer": "ipython3",
   "version": "3.9.18"
  }
 },
 "nbformat": 4,
 "nbformat_minor": 2
}
