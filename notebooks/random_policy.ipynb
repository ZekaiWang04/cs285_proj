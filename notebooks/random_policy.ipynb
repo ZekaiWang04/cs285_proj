{
 "cells": [
  {
   "cell_type": "code",
   "execution_count": 11,
   "metadata": {},
   "outputs": [],
   "source": [
    "from cs285.envs.pendulum import PendulumEnv\n",
    "from cs285.infrastructure.utils import RandomPolicy, sample_n_trajectories\n",
    "from cs285.envs.dt_sampler import BaseSampler, ConstantSampler, UniformSampler, ExponentialSampler\n",
    "import matplotlib.pyplot as plt\n",
    "import numpy as np"
   ]
  },
  {
   "cell_type": "markdown",
   "metadata": {},
   "source": [
    "## Pendulum"
   ]
  },
  {
   "cell_type": "code",
   "execution_count": 4,
   "metadata": {},
   "outputs": [
    {
     "name": "stderr",
     "output_type": "stream",
     "text": [
      "100%|██████████| 100/100 [00:02<00:00, 44.69it/s]\n"
     ]
    }
   ],
   "source": [
    "ntraj = 100\n",
    "ep_len = 200\n",
    "dt_sampler = ConstantSampler(dt=0.05)\n",
    "env = PendulumEnv(dt_sampler=dt_sampler)\n",
    "random_agent = RandomPolicy(env=env)\n",
    "trajs, _ = sample_n_trajectories(\n",
    "        env=env,\n",
    "        policy=random_agent,\n",
    "        ntraj=ntraj,\n",
    "        max_length=ep_len,\n",
    "        )\n",
    "returns = [t[\"episode_statistics\"][\"r\"] for t in trajs]"
   ]
  },
  {
   "cell_type": "code",
   "execution_count": 10,
   "metadata": {},
   "outputs": [
    {
     "data": {
      "text/plain": [
       "(array([ 2.,  3.,  3.,  7.,  2.,  3.,  5.,  1.,  2.,  8.,  4.,  9.,  8.,\n",
       "         8.,  0., 16.,  4., 10.,  1.,  4.]),\n",
       " array([-1773.37222827, -1722.5086384 , -1671.64504853, -1620.78145867,\n",
       "        -1569.9178688 , -1519.05427893, -1468.19068907, -1417.3270992 ,\n",
       "        -1366.46350933, -1315.59991947, -1264.7363296 , -1213.87273973,\n",
       "        -1163.00914987, -1112.14556   , -1061.28197013, -1010.41838027,\n",
       "         -959.5547904 ,  -908.69120053,  -857.82761067,  -806.9640208 ,\n",
       "         -756.10043093]),\n",
       " <BarContainer object of 20 artists>)"
      ]
     },
     "execution_count": 10,
     "metadata": {},
     "output_type": "execute_result"
    },
    {
     "data": {
      "image/png": "[encoded data removed]",
      "text/plain": [
       "<Figure size 640x480 with 1 Axes>"
      ]
     },
     "metadata": {},
     "output_type": "display_data"
    }
   ],
   "source": [
    "plt.hist(returns, bins=20)"
   ]
  },
  {
   "cell_type": "code",
   "execution_count": 12,
   "metadata": {},
   "outputs": [
    {
     "name": "stdout",
     "output_type": "stream",
     "text": [
      "mean\n",
      "-1194.5652715748633\n",
      "std\n",
      "265.82533383743197\n"
     ]
    }
   ],
   "source": [
    "print(\"mean\")\n",
    "print(np.mean(returns))\n",
    "print(\"std\")\n",
    "print(np.std(returns))"
   ]
  },
  {
   "cell_type": "code",
   "execution_count": null,
   "metadata": {},
   "outputs": [],
   "source": []
  }
 ],
 "metadata": {
  "kernelspec": {
   "display_name": "cs285_proj",
   "language": "python",
   "name": "python3"
  },
  "language_info": {
   "codemirror_mode": {
    "name": "ipython",
    "version": 3
   },
   "file_extension": ".py",
   "mimetype": "text/x-python",
   "name": "python",
   "nbconvert_exporter": "python",
   "pygments_lexer": "ipython3",
   "version": "3.9.18"
  }
 },
 "nbformat": 4,
 "nbformat_minor": 2
}
