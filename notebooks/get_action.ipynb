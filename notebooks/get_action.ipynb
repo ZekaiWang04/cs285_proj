{
 "cells": [
  {
   "cell_type": "code",
   "execution_count": 18,
   "metadata": {},
   "outputs": [
    {
     "name": "stdout",
     "output_type": "stream",
     "text": [
      "The autoreload extension is already loaded. To reload it, use:\n",
      "  %reload_ext autoreload\n"
     ]
    }
   ],
   "source": [
    "%load_ext autoreload\n",
    "%autoreload 2\n",
    "from cs285.envs.pendulum.pendulum_env import PendulumEnv\n",
    "from cs285.envs.dt_sampler import ConstantSampler\n",
    "from cs285.infrastructure.replay_buffer import ReplayBufferTrajectories\n",
    "from cs285.infrastructure.utils import sample_n_trajectories, RandomPolicy\n",
    "from cs285.agents.ode_agent import ODEAgent\n",
    "from cs285.agents.ode_agent_true_dynamics import ODEAgent_True_Dynamics\n",
    "from typing import Callable, Optional, Tuple, Sequence\n",
    "import numpy as np\n",
    "import torch.nn as nn\n",
    "import torch\n",
    "import gym\n",
    "from cs285.infrastructure import pytorch_util as ptu\n",
    "from torchdiffeq import odeint\n",
    "from tqdm import trange\n",
    "import jax\n",
    "import jax.numpy as jnp\n",
    "import equinox as eqx\n",
    "import diffrax\n",
    "from diffrax import diffeqsolve, Dopri5\n",
    "import optax\n",
    "import matplotlib.pyplot as plt\n",
    "import wandb\n",
    "import pprint\n",
    "\n",
    "\n",
    "import pprint\n"
   ]
  },
  {
   "cell_type": "code",
   "execution_count": 19,
   "metadata": {},
   "outputs": [
    {
     "name": "stdout",
     "output_type": "stream",
     "text": [
      "gpu\n",
      "Using GPU id 0\n"
     ]
    }
   ],
   "source": [
    "key = jax.random.PRNGKey(0)\n",
    "from jax.lib import xla_bridge\n",
    "print(xla_bridge.get_backend().platform)\n",
    "device = \"cuda\" if torch.cuda.is_available() else \"cpu\"\n",
    "ptu.init_gpu(use_gpu=True if device==\"cuda\" else False)"
   ]
  },
  {
   "cell_type": "code",
   "execution_count": 20,
   "metadata": {},
   "outputs": [],
   "source": [
    "dt_sampler = ConstantSampler(dt=0.05)\n",
    "env = PendulumEnv(\n",
    "    dt_sampler=dt_sampler\n",
    ")"
   ]
  },
  {
   "cell_type": "code",
   "execution_count": 21,
   "metadata": {},
   "outputs": [],
   "source": [
    "def test_true_dynamics_agent(agent, ntraj):\n",
    "    trajs, _ = sample_n_trajectories(env, agent, ntraj=ntraj, max_length=200, key=key)\n",
    "    rewards = [t[\"episode_statistics\"][\"r\"] for t in trajs]\n",
    "    # plt.hist(returns, bins=20)\n",
    "    mean, std, min, max = np.mean(rewards), np.std(rewards), np.min(rewards), np.max(rewards)\n",
    "    print(\"mean\", mean)\n",
    "    print(\"std\", std)\n",
    "    print(\"min\", min)\n",
    "    print(\"max\", max)\n",
    "    stats = {\n",
    "        \"mean\": mean,\n",
    "        \"std\": std,\n",
    "        \"min\": min,\n",
    "        \"max\": max\n",
    "    }\n",
    "    return rewards, stats"
   ]
  },
  {
   "cell_type": "code",
   "execution_count": 24,
   "metadata": {},
   "outputs": [
    {
     "name": "stderr",
     "output_type": "stream",
     "text": [
      "100%|██████████| 10/10 [06:28<00:00, 38.85s/it]"
     ]
    },
    {
     "name": "stdout",
     "output_type": "stream",
     "text": [
      "mean -1207.9994\n",
      "std 602.4616\n",
      "min -1541.8062\n",
      "max -3.2999287\n"
     ]
    },
    {
     "name": "stderr",
     "output_type": "stream",
     "text": [
      "\n"
     ]
    },
    {
     "data": {
      "image/png": "[encoded data removed]",
      "text/plain": [
       "<Figure size 640x480 with 1 Axes>"
      ]
     },
     "metadata": {},
     "output_type": "display_data"
    }
   ],
   "source": [
    "agent = ODEAgent_True_Dynamics(\n",
    "    env=env,\n",
    "    mpc_horizon_steps=100,\n",
    "    mpc_timestep=0.005,\n",
    "    mpc_strategy=\"cem\",\n",
    "    mpc_discount=0.9,\n",
    "    mpc_num_action_sequences=1000,\n",
    "    cem_num_iters=4,\n",
    "    cem_num_elites=5,\n",
    "    cem_alpha=1,\n",
    ")\n",
    "rewards, stats = test_true_dynamics_agent(agent, ntraj=10)\n"
   ]
  },
  {
   "cell_type": "code",
   "execution_count": 22,
   "metadata": {},
   "outputs": [
    {
     "name": "stderr",
     "output_type": "stream",
     "text": [
      "/home/zekai/miniconda3/envs/cs285_proj/lib/python3.9/site-packages/ipywidgets/widgets/widget.py:528: DeprecationWarning: The `ipykernel.comm.Comm` class has been deprecated. Please use the `comm` module instead.For creating comms, use the function `from comm import create_comm`.\n",
      "  self.comm = Comm(**args)\n"
     ]
    },
    {
     "data": {
      "text/html": [
       "Changes to your `wandb` environment variables will be ignored because your `wandb` session has already started. For more information on how to modify your settings with `wandb.init()` arguments, please refer to <a href='https://wandb.me/wandb-init' target=\"_blank\">the W&B docs</a>."
      ],
      "text/plain": [
       "<IPython.core.display.HTML object>"
      ]
     },
     "metadata": {},
     "output_type": "display_data"
    },
    {
     "name": "stderr",
     "output_type": "stream",
     "text": [
      "/home/zekai/miniconda3/envs/cs285_proj/lib/python3.9/site-packages/wandb/sdk/lib/ipython.py:77: DeprecationWarning: Importing display from IPython.core.display is deprecated since IPython 7.14, please import from IPython display\n",
      "  from IPython.core.display import HTML, display  # type: ignore\n"
     ]
    },
    {
     "data": {
      "text/html": [
       "Tracking run with wandb version 0.16.1"
      ],
      "text/plain": [
       "<IPython.core.display.HTML object>"
      ]
     },
     "metadata": {},
     "output_type": "display_data"
    },
    {
     "data": {
      "text/html": [
       "Run data is saved locally in <code>/home/zekai/repos/cs285_proj/notebooks/wandb/run-20231207_124607-di4ix6qv</code>"
      ],
      "text/plain": [
       "<IPython.core.display.HTML object>"
      ]
     },
     "metadata": {},
     "output_type": "display_data"
    },
    {
     "data": {
      "text/html": [
       "Syncing run <strong><a href='https://wandb.ai/zekai-wang/cs285_proj_get_action_true_dynamics/runs/di4ix6qv' target=\"_blank\">worldly-sweep-2</a></strong> to <a href='https://wandb.ai/zekai-wang/cs285_proj_get_action_true_dynamics' target=\"_blank\">Weights & Biases</a> (<a href='https://wandb.me/run' target=\"_blank\">docs</a>)<br/>Sweep page: <a href='https://wandb.ai/zekai-wang/cs285_proj_get_action_true_dynamics/sweeps/5ozr4vy5' target=\"_blank\">https://wandb.ai/zekai-wang/cs285_proj_get_action_true_dynamics/sweeps/5ozr4vy5</a>"
      ],
      "text/plain": [
       "<IPython.core.display.HTML object>"
      ]
     },
     "metadata": {},
     "output_type": "display_data"
    },
    {
     "data": {
      "text/html": [
       " View project at <a href='https://wandb.ai/zekai-wang/cs285_proj_get_action_true_dynamics' target=\"_blank\">https://wandb.ai/zekai-wang/cs285_proj_get_action_true_dynamics</a>"
      ],
      "text/plain": [
       "<IPython.core.display.HTML object>"
      ]
     },
     "metadata": {},
     "output_type": "display_data"
    },
    {
     "data": {
      "text/html": [
       " View sweep at <a href='https://wandb.ai/zekai-wang/cs285_proj_get_action_true_dynamics/sweeps/5ozr4vy5' target=\"_blank\">https://wandb.ai/zekai-wang/cs285_proj_get_action_true_dynamics/sweeps/5ozr4vy5</a>"
      ],
      "text/plain": [
       "<IPython.core.display.HTML object>"
      ]
     },
     "metadata": {},
     "output_type": "display_data"
    },
    {
     "data": {
      "text/html": [
       " View run at <a href='https://wandb.ai/zekai-wang/cs285_proj_get_action_true_dynamics/runs/di4ix6qv' target=\"_blank\">https://wandb.ai/zekai-wang/cs285_proj_get_action_true_dynamics/runs/di4ix6qv</a>"
      ],
      "text/plain": [
       "<IPython.core.display.HTML object>"
      ]
     },
     "metadata": {},
     "output_type": "display_data"
    },
    {
     "data": {
      "text/html": [
       "<button onClick=\"this.nextSibling.style.display='block';this.style.display='none';\">Display W&B run</button><iframe src='https://wandb.ai/zekai-wang/cs285_proj_get_action_true_dynamics/runs/di4ix6qv?jupyter=true' style='border:none;width:100%;height:420px;display:none;'></iframe>"
      ],
      "text/plain": [
       "<wandb.sdk.wandb_run.Run at 0x7ff7f46d20a0>"
      ]
     },
     "execution_count": 22,
     "metadata": {},
     "output_type": "execute_result"
    }
   ],
   "source": [
    "wandb.init()"
   ]
  },
  {
   "cell_type": "code",
   "execution_count": 23,
   "metadata": {},
   "outputs": [
    {
     "name": "stdout",
     "output_type": "stream",
     "text": [
      "{'method': 'random',\n",
      " 'metric': {'goal': 'maximize', 'name': 'mean'},\n",
      " 'parameters': {'cem_alpha': {'values': [1.0, 0.99, 0.95, 0.9, 0.8, 0.5]},\n",
      "                'cem_num_elites': {'values': [1, 2, 4, 8, 16, 32, 64]},\n",
      "                'cem_num_iters': {'values': [2, 4, 8, 16]},\n",
      "                'mpc_discount': {'values': [1.0, 0.99, 0.95, 0.9, 0.8, 0.5]},\n",
      "                'mpc_horizon_steps': {'values': [1,\n",
      "                                                 2,\n",
      "                                                 5,\n",
      "                                                 10,\n",
      "                                                 20,\n",
      "                                                 50,\n",
      "                                                 100,\n",
      "                                                 200]},\n",
      "                'mpc_num_action_sequences': {'values': [100,\n",
      "                                                        200,\n",
      "                                                        500,\n",
      "                                                        1000,\n",
      "                                                        2000,\n",
      "                                                        5000]},\n",
      "                'mpc_strategy': {'values': ['random', 'cem']},\n",
      "                'mpc_timestep': {'value': 0.05}}}\n"
     ]
    }
   ],
   "source": [
    "sweep_config = {\n",
    "    'method': 'random'\n",
    "    }\n",
    "metric = {\n",
    "    'name': 'mean',\n",
    "    'goal': 'maximize'   \n",
    "    }\n",
    "\n",
    "sweep_config['metric'] = metric\n",
    "\n",
    "parameters_dict = {\n",
    "    'mpc_horizon_steps': {\n",
    "        'values': [1, 2, 5, 10, 20, 50, 100, 200]\n",
    "        },\n",
    "    'mpc_timestep': {\n",
    "        'value': 0.05\n",
    "        },\n",
    "    'mpc_discount': {\n",
    "        'values': [1.0, 0.99, 0.95, 0.9, 0.8, 0.5]\n",
    "        },\n",
    "    \"mpc_num_action_sequences\": {\n",
    "        'values': [100, 200, 500, 1000, 2000, 5000]\n",
    "        },\n",
    "    'mpc_strategy': {\n",
    "        'values': [\"random\", \"cem\"]\n",
    "        },\n",
    "    'cem_num_iters': {\n",
    "        'values': [2, 4, 8, 16],\n",
    "        },\n",
    "    'cem_num_elites': {\n",
    "        'values': [1, 2, 4, 8, 16, 32, 64],\n",
    "        },\n",
    "    'cem_alpha': {\n",
    "        'values': [1.0, 0.99, 0.95, 0.9, 0.8, 0.5],\n",
    "        },\n",
    "    }\n",
    "\n",
    "sweep_config['parameters'] = parameters_dict\n",
    "pprint.pprint(sweep_config)\n"
   ]
  },
  {
   "cell_type": "code",
   "execution_count": 24,
   "metadata": {},
   "outputs": [
    {
     "name": "stdout",
     "output_type": "stream",
     "text": [
      "Create sweep with ID: a84q0755\n",
      "Sweep URL: https://wandb.ai/zekai-wang/cs285_proj_get_action_true_dynamics/sweeps/a84q0755\n"
     ]
    }
   ],
   "source": [
    "sweep_id = wandb.sweep(sweep_config, project=\"cs285_proj_get_action_true_dynamics\")"
   ]
  },
  {
   "cell_type": "code",
   "execution_count": 25,
   "metadata": {},
   "outputs": [],
   "source": [
    "def evaluate(config=None):\n",
    "    with wandb.init(config=config):\n",
    "        config = wandb.config\n",
    "        agent = ODEAgent_True_Dynamics(\n",
    "            env=env,\n",
    "            mpc_horizon_steps=config.mpc_horizon_steps,\n",
    "            mpc_timestep=config.mpc_timestep,\n",
    "            mpc_strategy=config.mpc_strategy,\n",
    "            mpc_discount=config.mpc_discount,\n",
    "            mpc_num_action_sequences=config.mpc_num_action_sequences,\n",
    "            cem_num_iters=config.cem_num_iters,\n",
    "            cem_num_elites=config.cem_num_elites,\n",
    "            cem_alpha=config.cem_alpha,\n",
    "        )\n",
    "        rewards, stats = test_true_dynamics_agent(agent, ntraj=10)\n",
    "        wandb.log({\"rewards\": rewards,\n",
    "                   \"stats\": stats,\n",
    "                   \"min\": stats[\"min\"],\n",
    "                   \"max\": stats[\"max\"],\n",
    "                   \"mean\": stats[\"mean\"],\n",
    "                   \"std\": stats[\"std\"],})\n"
   ]
  },
  {
   "cell_type": "code",
   "execution_count": 26,
   "metadata": {},
   "outputs": [
    {
     "name": "stderr",
     "output_type": "stream",
     "text": [
      "\u001b[34m\u001b[1mwandb\u001b[0m: \u001b[33mWARNING\u001b[0m Calling wandb.login() after wandb.init() has no effect.\n"
     ]
    },
    {
     "name": "stdout",
     "output_type": "stream",
     "text": [
      "<IPython.core.display.HTML object>\n",
      "<IPython.core.display.HTML object>\n"
     ]
    },
    {
     "name": "stderr",
     "output_type": "stream",
     "text": [
      "Exception in thread ChkStopThr:\n",
      "Traceback (most recent call last):\n",
      "  File \"/home/zekai/miniconda3/envs/cs285_proj/lib/python3.9/threading.py\", line 980, in _bootstrap_inner\n",
      "Exception in thread NetStatThr:\n",
      "Traceback (most recent call last):\n",
      "  File \"/home/zekai/miniconda3/envs/cs285_proj/lib/python3.9/threading.py\", line 980, in _bootstrap_inner\n",
      "Exception in thread IntMsgThr:\n",
      "Traceback (most recent call last):\n",
      "  File \"/home/zekai/miniconda3/envs/cs285_proj/lib/python3.9/threading.py\", line 980, in _bootstrap_inner\n",
      "    self.run()\n",
      "  File \"/home/zekai/miniconda3/envs/cs285_proj/lib/python3.9/threading.py\", line 917, in run\n",
      "    self.run()\n",
      "  File \"/home/zekai/miniconda3/envs/cs285_proj/lib/python3.9/threading.py\", line 917, in run\n",
      "    self._target(*self._args, **self._kwargs)\n",
      "  File \"/home/zekai/miniconda3/envs/cs285_proj/lib/python3.9/site-packages/wandb/sdk/wandb_run.py\", line 268, in check_network_status\n",
      "    self._loop_check_status(\n",
      "  File \"/home/zekai/miniconda3/envs/cs285_proj/lib/python3.9/site-packages/wandb/sdk/wandb_run.py\", line 224, in _loop_check_status\n",
      "    local_handle = request()\n",
      "  File \"/home/zekai/miniconda3/envs/cs285_proj/lib/python3.9/site-packages/wandb/sdk/interface/interface.py\", line 756, in deliver_network_status\n",
      "    return self._deliver_network_status(status)\n",
      "  File \"/home/zekai/miniconda3/envs/cs285_proj/lib/python3.9/site-packages/wandb/sdk/interface/interface_shared.py\", line 484, in _deliver_network_status\n",
      "    self.run()\n",
      "  File \"/home/zekai/miniconda3/envs/cs285_proj/lib/python3.9/threading.py\", line 917, in run\n",
      "    return self._deliver_record(record)\n",
      "  File \"/home/zekai/miniconda3/envs/cs285_proj/lib/python3.9/site-packages/wandb/sdk/interface/interface_shared.py\", line 437, in _deliver_record\n",
      "    handle = mailbox._deliver_record(record, interface=self)\n",
      "  File \"/home/zekai/miniconda3/envs/cs285_proj/lib/python3.9/site-packages/wandb/sdk/lib/mailbox.py\", line 455, in _deliver_record\n",
      "    self._target(*self._args, **self._kwargs)\n",
      "  File \"/home/zekai/miniconda3/envs/cs285_proj/lib/python3.9/site-packages/wandb/sdk/wandb_run.py\", line 286, in check_stop_status\n",
      "    interface._publish(record)\n",
      "  File \"/home/zekai/miniconda3/envs/cs285_proj/lib/python3.9/site-packages/wandb/sdk/interface/interface_sock.py\", line 51, in _publish\n",
      "    self._loop_check_status(\n",
      "  File \"/home/zekai/miniconda3/envs/cs285_proj/lib/python3.9/site-packages/wandb/sdk/wandb_run.py\", line 224, in _loop_check_status\n",
      "    self._target(*self._args, **self._kwargs)\n",
      "  File \"/home/zekai/miniconda3/envs/cs285_proj/lib/python3.9/site-packages/wandb/sdk/wandb_run.py\", line 300, in check_internal_messages\n",
      "    self._sock_client.send_record_publish(record)\n",
      "  File \"/home/zekai/miniconda3/envs/cs285_proj/lib/python3.9/site-packages/wandb/sdk/lib/sock_client.py\", line 221, in send_record_publish\n",
      "    self._loop_check_status(\n",
      "  File \"/home/zekai/miniconda3/envs/cs285_proj/lib/python3.9/site-packages/wandb/sdk/wandb_run.py\", line 224, in _loop_check_status\n",
      "    local_handle = request()\n",
      "  File \"/home/zekai/miniconda3/envs/cs285_proj/lib/python3.9/site-packages/wandb/sdk/interface/interface.py\", line 764, in deliver_internal_messages\n",
      "    self.send_server_request(server_req)\n",
      "  File \"/home/zekai/miniconda3/envs/cs285_proj/lib/python3.9/site-packages/wandb/sdk/lib/sock_client.py\", line 155, in send_server_request\n",
      "    self._send_message(msg)\n",
      "  File \"/home/zekai/miniconda3/envs/cs285_proj/lib/python3.9/site-packages/wandb/sdk/lib/sock_client.py\", line 152, in _send_message\n",
      "    local_handle = request()\n",
      "  File \"/home/zekai/miniconda3/envs/cs285_proj/lib/python3.9/site-packages/wandb/sdk/interface/interface.py\", line 748, in deliver_stop_status\n",
      "    return self._deliver_internal_messages(internal_message)\n",
      "  File \"/home/zekai/miniconda3/envs/cs285_proj/lib/python3.9/site-packages/wandb/sdk/interface/interface_shared.py\", line 490, in _deliver_internal_messages\n",
      "    self._sendall_with_error_handle(header + data)\n",
      "  File \"/home/zekai/miniconda3/envs/cs285_proj/lib/python3.9/site-packages/wandb/sdk/lib/sock_client.py\", line 130, in _sendall_with_error_handle\n",
      "    return self._deliver_stop_status(status)\n",
      "  File \"/home/zekai/miniconda3/envs/cs285_proj/lib/python3.9/site-packages/wandb/sdk/interface/interface_shared.py\", line 468, in _deliver_stop_status\n",
      "    return self._deliver_record(record)\n",
      "  File \"/home/zekai/miniconda3/envs/cs285_proj/lib/python3.9/site-packages/wandb/sdk/interface/interface_shared.py\", line 437, in _deliver_record\n",
      "    handle = mailbox._deliver_record(record, interface=self)\n",
      "  File \"/home/zekai/miniconda3/envs/cs285_proj/lib/python3.9/site-packages/wandb/sdk/lib/mailbox.py\", line 455, in _deliver_record\n",
      "    sent = self._sock.send(data)\n",
      "BrokenPipeError: [Errno 32] Broken pipe\n",
      "    return self._deliver_record(record)\n",
      "  File \"/home/zekai/miniconda3/envs/cs285_proj/lib/python3.9/site-packages/wandb/sdk/interface/interface_shared.py\", line 437, in _deliver_record\n",
      "    handle = mailbox._deliver_record(record, interface=self)\n",
      "  File \"/home/zekai/miniconda3/envs/cs285_proj/lib/python3.9/site-packages/wandb/sdk/lib/mailbox.py\", line 455, in _deliver_record\n",
      "    interface._publish(record)\n",
      "  File \"/home/zekai/miniconda3/envs/cs285_proj/lib/python3.9/site-packages/wandb/sdk/interface/interface_sock.py\", line 51, in _publish\n",
      "    self._sock_client.send_record_publish(record)\n",
      "  File \"/home/zekai/miniconda3/envs/cs285_proj/lib/python3.9/site-packages/wandb/sdk/lib/sock_client.py\", line 221, in send_record_publish\n",
      "    interface._publish(record)\n",
      "  File \"/home/zekai/miniconda3/envs/cs285_proj/lib/python3.9/site-packages/wandb/sdk/interface/interface_sock.py\", line 51, in _publish\n",
      "    self.send_server_request(server_req)\n",
      "  File \"/home/zekai/miniconda3/envs/cs285_proj/lib/python3.9/site-packages/wandb/sdk/lib/sock_client.py\", line 155, in send_server_request\n",
      "    self._send_message(msg)\n",
      "  File \"/home/zekai/miniconda3/envs/cs285_proj/lib/python3.9/site-packages/wandb/sdk/lib/sock_client.py\", line 152, in _send_message\n",
      "    self._sock_client.send_record_publish(record)\n",
      "  File \"/home/zekai/miniconda3/envs/cs285_proj/lib/python3.9/site-packages/wandb/sdk/lib/sock_client.py\", line 221, in send_record_publish\n",
      "    self._sendall_with_error_handle(header + data)\n",
      "  File \"/home/zekai/miniconda3/envs/cs285_proj/lib/python3.9/site-packages/wandb/sdk/lib/sock_client.py\", line 130, in _sendall_with_error_handle\n",
      "    self.send_server_request(server_req)\n",
      "  File \"/home/zekai/miniconda3/envs/cs285_proj/lib/python3.9/site-packages/wandb/sdk/lib/sock_client.py\", line 155, in send_server_request\n",
      "    sent = self._sock.send(data)\n",
      "BrokenPipeError: [Errno 32] Broken pipe\n",
      "    self._send_message(msg)\n",
      "  File \"/home/zekai/miniconda3/envs/cs285_proj/lib/python3.9/site-packages/wandb/sdk/lib/sock_client.py\", line 152, in _send_message\n",
      "    self._sendall_with_error_handle(header + data)\n",
      "  File \"/home/zekai/miniconda3/envs/cs285_proj/lib/python3.9/site-packages/wandb/sdk/lib/sock_client.py\", line 130, in _sendall_with_error_handle\n",
      "    sent = self._sock.send(data)\n",
      "BrokenPipeError: [Errno 32] Broken pipe\n",
      "\u001b[34m\u001b[1mwandb\u001b[0m: Agent Starting Run: r6hdod4g with config:\n",
      "\u001b[34m\u001b[1mwandb\u001b[0m: \tcem_alpha: 0.8\n",
      "\u001b[34m\u001b[1mwandb\u001b[0m: \tcem_num_elites: 4\n",
      "\u001b[34m\u001b[1mwandb\u001b[0m: \tcem_num_iters: 4\n",
      "\u001b[34m\u001b[1mwandb\u001b[0m: \tmpc_discount: 0.9\n",
      "\u001b[34m\u001b[1mwandb\u001b[0m: \tmpc_horizon_steps: 200\n",
      "\u001b[34m\u001b[1mwandb\u001b[0m: \tmpc_num_action_sequences: 100\n",
      "\u001b[34m\u001b[1mwandb\u001b[0m: \tmpc_strategy: random\n",
      "\u001b[34m\u001b[1mwandb\u001b[0m: \tmpc_timestep: 0.05\n",
      "/home/zekai/miniconda3/envs/cs285_proj/lib/python3.9/site-packages/ipywidgets/widgets/widget.py:528: DeprecationWarning: The `ipykernel.comm.Comm` class has been deprecated. Please use the `comm` module instead.For creating comms, use the function `from comm import create_comm`.\n",
      "  self.comm = Comm(**args)\n",
      "/home/zekai/miniconda3/envs/cs285_proj/lib/python3.9/site-packages/wandb/sdk/lib/ipython.py:77: DeprecationWarning: Importing display from IPython.core.display is deprecated since IPython 7.14, please import from IPython display\n",
      "  from IPython.core.display import HTML, display  # type: ignore\n"
     ]
    },
    {
     "data": {
      "text/html": [
       "Tracking run with wandb version 0.16.1"
      ],
      "text/plain": [
       "<IPython.core.display.HTML object>"
      ]
     },
     "metadata": {},
     "output_type": "display_data"
    },
    {
     "data": {
      "text/html": [
       "Run data is saved locally in <code>/home/zekai/repos/cs285_proj/notebooks/wandb/run-20231207_124625-r6hdod4g</code>"
      ],
      "text/plain": [
       "<IPython.core.display.HTML object>"
      ]
     },
     "metadata": {},
     "output_type": "display_data"
    },
    {
     "data": {
      "text/html": [
       "Syncing run <strong><a href='https://wandb.ai/zekai-wang/cs285_proj_get_action_true_dynamics/runs/r6hdod4g' target=\"_blank\">ethereal-sweep-1</a></strong> to <a href='https://wandb.ai/zekai-wang/cs285_proj_get_action_true_dynamics' target=\"_blank\">Weights & Biases</a> (<a href='https://wandb.me/run' target=\"_blank\">docs</a>)<br/>Sweep page: <a href='https://wandb.ai/zekai-wang/cs285_proj_get_action_true_dynamics/sweeps/a84q0755' target=\"_blank\">https://wandb.ai/zekai-wang/cs285_proj_get_action_true_dynamics/sweeps/a84q0755</a>"
      ],
      "text/plain": [
       "<IPython.core.display.HTML object>"
      ]
     },
     "metadata": {},
     "output_type": "display_data"
    },
    {
     "data": {
      "text/html": [
       " View project at <a href='https://wandb.ai/zekai-wang/cs285_proj_get_action_true_dynamics' target=\"_blank\">https://wandb.ai/zekai-wang/cs285_proj_get_action_true_dynamics</a>"
      ],
      "text/plain": [
       "<IPython.core.display.HTML object>"
      ]
     },
     "metadata": {},
     "output_type": "display_data"
    },
    {
     "data": {
      "text/html": [
       " View sweep at <a href='https://wandb.ai/zekai-wang/cs285_proj_get_action_true_dynamics/sweeps/a84q0755' target=\"_blank\">https://wandb.ai/zekai-wang/cs285_proj_get_action_true_dynamics/sweeps/a84q0755</a>"
      ],
      "text/plain": [
       "<IPython.core.display.HTML object>"
      ]
     },
     "metadata": {},
     "output_type": "display_data"
    },
    {
     "data": {
      "text/html": [
       " View run at <a href='https://wandb.ai/zekai-wang/cs285_proj_get_action_true_dynamics/runs/r6hdod4g' target=\"_blank\">https://wandb.ai/zekai-wang/cs285_proj_get_action_true_dynamics/runs/r6hdod4g</a>"
      ],
      "text/plain": [
       "<IPython.core.display.HTML object>"
      ]
     },
     "metadata": {},
     "output_type": "display_data"
    },
    {
     "name": "stderr",
     "output_type": "stream",
     "text": [
      "100%|██████████| 10/10 [03:49<00:00, 22.99s/it]\n"
     ]
    },
    {
     "name": "stdout",
     "output_type": "stream",
     "text": [
      "mean -722.0479\n",
      "std 282.66434\n",
      "min -1008.9755\n",
      "max -129.62756\n"
     ]
    },
    {
     "name": "stderr",
     "output_type": "stream",
     "text": [
      "/home/zekai/miniconda3/envs/cs285_proj/lib/python3.9/site-packages/wandb/sdk/lib/ipython.py:89: DeprecationWarning: Importing display from IPython.core.display is deprecated since IPython 7.14, please import from IPython display\n",
      "  from IPython.core.display import display\n"
     ]
    },
    {
     "data": {
      "application/vnd.jupyter.widget-view+json": {
       "model_id": "2af37b7505114686b04ff9163608654a",
       "version_major": 2,
       "version_minor": 0
      },
      "text/plain": [
       "VBox(children=(Label(value='0.004 MB of 0.004 MB uploaded\\r'), FloatProgress(value=1.0, max=1.0)))"
      ]
     },
     "metadata": {},
     "output_type": "display_data"
    },
    {
     "data": {
      "text/html": [
       "<style>\n",
       "    table.wandb td:nth-child(1) { padding: 0 10px; text-align: left ; width: auto;} td:nth-child(2) {text-align: left ; width: 100%}\n",
       "    .wandb-row { display: flex; flex-direction: row; flex-wrap: wrap; justify-content: flex-start; width: 100% }\n",
       "    .wandb-col { display: flex; flex-direction: column; flex-basis: 100%; flex: 1; padding: 10px; }\n",
       "    </style>\n",
       "<div class=\"wandb-row\"><div class=\"wandb-col\"><h3>Run history:</h3><br/><table class=\"wandb\"><tr><td>max</td><td>▁</td></tr><tr><td>mean</td><td>▁</td></tr><tr><td>min</td><td>▁</td></tr><tr><td>std</td><td>▁</td></tr></table><br/></div><div class=\"wandb-col\"><h3>Run summary:</h3><br/><table class=\"wandb\"><tr><td>max</td><td>-129.62756</td></tr><tr><td>mean</td><td>-722.04791</td></tr><tr><td>min</td><td>-1008.97552</td></tr><tr><td>std</td><td>282.66434</td></tr></table><br/></div></div>"
      ],
      "text/plain": [
       "<IPython.core.display.HTML object>"
      ]
     },
     "metadata": {},
     "output_type": "display_data"
    },
    {
     "data": {
      "text/html": [
       " View run <strong style=\"color:#cdcd00\">ethereal-sweep-1</strong> at: <a href='https://wandb.ai/zekai-wang/cs285_proj_get_action_true_dynamics/runs/r6hdod4g' target=\"_blank\">https://wandb.ai/zekai-wang/cs285_proj_get_action_true_dynamics/runs/r6hdod4g</a><br/>Synced 6 W&B file(s), 0 media file(s), 0 artifact file(s) and 0 other file(s)"
      ],
      "text/plain": [
       "<IPython.core.display.HTML object>"
      ]
     },
     "metadata": {},
     "output_type": "display_data"
    },
    {
     "data": {
      "text/html": [
       "Find logs at: <code>./wandb/run-20231207_124625-r6hdod4g/logs</code>"
      ],
      "text/plain": [
       "<IPython.core.display.HTML object>"
      ]
     },
     "metadata": {},
     "output_type": "display_data"
    },
    {
     "name": "stderr",
     "output_type": "stream",
     "text": [
      "\u001b[34m\u001b[1mwandb\u001b[0m: Agent Starting Run: cx1nlers with config:\n",
      "\u001b[34m\u001b[1mwandb\u001b[0m: \tcem_alpha: 0.8\n",
      "\u001b[34m\u001b[1mwandb\u001b[0m: \tcem_num_elites: 32\n",
      "\u001b[34m\u001b[1mwandb\u001b[0m: \tcem_num_iters: 2\n",
      "\u001b[34m\u001b[1mwandb\u001b[0m: \tmpc_discount: 0.8\n",
      "\u001b[34m\u001b[1mwandb\u001b[0m: \tmpc_horizon_steps: 50\n",
      "\u001b[34m\u001b[1mwandb\u001b[0m: \tmpc_num_action_sequences: 2000\n",
      "\u001b[34m\u001b[1mwandb\u001b[0m: \tmpc_strategy: cem\n",
      "\u001b[34m\u001b[1mwandb\u001b[0m: \tmpc_timestep: 0.05\n",
      "/home/zekai/miniconda3/envs/cs285_proj/lib/python3.9/site-packages/ipywidgets/widgets/widget.py:528: DeprecationWarning: The `ipykernel.comm.Comm` class has been deprecated. Please use the `comm` module instead.For creating comms, use the function `from comm import create_comm`.\n",
      "  self.comm = Comm(**args)\n",
      "/home/zekai/miniconda3/envs/cs285_proj/lib/python3.9/site-packages/wandb/sdk/lib/ipython.py:89: DeprecationWarning: Importing display from IPython.core.display is deprecated since IPython 7.14, please import from IPython display\n",
      "  from IPython.core.display import display\n"
     ]
    },
    {
     "data": {
      "application/vnd.jupyter.widget-view+json": {
       "model_id": "9f4b8fb001684501a3639ff31f31f0c2",
       "version_major": 2,
       "version_minor": 0
      },
      "text/plain": [
       "VBox(children=(Label(value='Waiting for wandb.init()...\\r'), FloatProgress(value=0.011112018288824604, max=1.0…"
      ]
     },
     "metadata": {},
     "output_type": "display_data"
    },
    {
     "data": {
      "text/html": [
       "Tracking run with wandb version 0.16.1"
      ],
      "text/plain": [
       "<IPython.core.display.HTML object>"
      ]
     },
     "metadata": {},
     "output_type": "display_data"
    },
    {
     "data": {
      "text/html": [
       "Run data is saved locally in <code>/home/zekai/repos/cs285_proj/notebooks/wandb/run-20231207_125027-cx1nlers</code>"
      ],
      "text/plain": [
       "<IPython.core.display.HTML object>"
      ]
     },
     "metadata": {},
     "output_type": "display_data"
    },
    {
     "data": {
      "text/html": [
       "Syncing run <strong><a href='https://wandb.ai/zekai-wang/cs285_proj_get_action_true_dynamics/runs/cx1nlers' target=\"_blank\">mild-sweep-2</a></strong> to <a href='https://wandb.ai/zekai-wang/cs285_proj_get_action_true_dynamics' target=\"_blank\">Weights & Biases</a> (<a href='https://wandb.me/run' target=\"_blank\">docs</a>)<br/>Sweep page: <a href='https://wandb.ai/zekai-wang/cs285_proj_get_action_true_dynamics/sweeps/a84q0755' target=\"_blank\">https://wandb.ai/zekai-wang/cs285_proj_get_action_true_dynamics/sweeps/a84q0755</a>"
      ],
      "text/plain": [
       "<IPython.core.display.HTML object>"
      ]
     },
     "metadata": {},
     "output_type": "display_data"
    },
    {
     "data": {
      "text/html": [
       " View project at <a href='https://wandb.ai/zekai-wang/cs285_proj_get_action_true_dynamics' target=\"_blank\">https://wandb.ai/zekai-wang/cs285_proj_get_action_true_dynamics</a>"
      ],
      "text/plain": [
       "<IPython.core.display.HTML object>"
      ]
     },
     "metadata": {},
     "output_type": "display_data"
    },
    {
     "data": {
      "text/html": [
       " View sweep at <a href='https://wandb.ai/zekai-wang/cs285_proj_get_action_true_dynamics/sweeps/a84q0755' target=\"_blank\">https://wandb.ai/zekai-wang/cs285_proj_get_action_true_dynamics/sweeps/a84q0755</a>"
      ],
      "text/plain": [
       "<IPython.core.display.HTML object>"
      ]
     },
     "metadata": {},
     "output_type": "display_data"
    },
    {
     "data": {
      "text/html": [
       " View run at <a href='https://wandb.ai/zekai-wang/cs285_proj_get_action_true_dynamics/runs/cx1nlers' target=\"_blank\">https://wandb.ai/zekai-wang/cs285_proj_get_action_true_dynamics/runs/cx1nlers</a>"
      ],
      "text/plain": [
       "<IPython.core.display.HTML object>"
      ]
     },
     "metadata": {},
     "output_type": "display_data"
    },
    {
     "name": "stderr",
     "output_type": "stream",
     "text": [
      "100%|██████████| 10/10 [01:45<00:00, 10.51s/it]\n"
     ]
    },
    {
     "name": "stdout",
     "output_type": "stream",
     "text": [
      "mean -470.13452\n",
      "std 547.89136\n",
      "min -1523.1104\n",
      "max -0.16351229\n"
     ]
    },
    {
     "name": "stderr",
     "output_type": "stream",
     "text": [
      "/home/zekai/miniconda3/envs/cs285_proj/lib/python3.9/site-packages/wandb/sdk/lib/ipython.py:89: DeprecationWarning: Importing display from IPython.core.display is deprecated since IPython 7.14, please import from IPython display\n",
      "  from IPython.core.display import display\n"
     ]
    },
    {
     "data": {
      "application/vnd.jupyter.widget-view+json": {
       "model_id": "5183c9c89f6f4b31a1001588e16a8460",
       "version_major": 2,
       "version_minor": 0
      },
      "text/plain": [
       "VBox(children=(Label(value='0.004 MB of 0.004 MB uploaded\\r'), FloatProgress(value=1.0, max=1.0)))"
      ]
     },
     "metadata": {},
     "output_type": "display_data"
    },
    {
     "data": {
      "text/html": [
       "<style>\n",
       "    table.wandb td:nth-child(1) { padding: 0 10px; text-align: left ; width: auto;} td:nth-child(2) {text-align: left ; width: 100%}\n",
       "    .wandb-row { display: flex; flex-direction: row; flex-wrap: wrap; justify-content: flex-start; width: 100% }\n",
       "    .wandb-col { display: flex; flex-direction: column; flex-basis: 100%; flex: 1; padding: 10px; }\n",
       "    </style>\n",
       "<div class=\"wandb-row\"><div class=\"wandb-col\"><h3>Run history:</h3><br/><table class=\"wandb\"><tr><td>max</td><td>▁</td></tr><tr><td>mean</td><td>▁</td></tr><tr><td>min</td><td>▁</td></tr><tr><td>std</td><td>▁</td></tr></table><br/></div><div class=\"wandb-col\"><h3>Run summary:</h3><br/><table class=\"wandb\"><tr><td>max</td><td>-0.16351</td></tr><tr><td>mean</td><td>-470.13452</td></tr><tr><td>min</td><td>-1523.11035</td></tr><tr><td>std</td><td>547.89136</td></tr></table><br/></div></div>"
      ],
      "text/plain": [
       "<IPython.core.display.HTML object>"
      ]
     },
     "metadata": {},
     "output_type": "display_data"
    },
    {
     "data": {
      "text/html": [
       " View run <strong style=\"color:#cdcd00\">mild-sweep-2</strong> at: <a href='https://wandb.ai/zekai-wang/cs285_proj_get_action_true_dynamics/runs/cx1nlers' target=\"_blank\">https://wandb.ai/zekai-wang/cs285_proj_get_action_true_dynamics/runs/cx1nlers</a><br/>Synced 6 W&B file(s), 0 media file(s), 0 artifact file(s) and 0 other file(s)"
      ],
      "text/plain": [
       "<IPython.core.display.HTML object>"
      ]
     },
     "metadata": {},
     "output_type": "display_data"
    },
    {
     "data": {
      "text/html": [
       "Find logs at: <code>./wandb/run-20231207_125027-cx1nlers/logs</code>"
      ],
      "text/plain": [
       "<IPython.core.display.HTML object>"
      ]
     },
     "metadata": {},
     "output_type": "display_data"
    },
    {
     "name": "stderr",
     "output_type": "stream",
     "text": [
      "\u001b[34m\u001b[1mwandb\u001b[0m: Agent Starting Run: 56sa5n0j with config:\n",
      "\u001b[34m\u001b[1mwandb\u001b[0m: \tcem_alpha: 1\n",
      "\u001b[34m\u001b[1mwandb\u001b[0m: \tcem_num_elites: 4\n",
      "\u001b[34m\u001b[1mwandb\u001b[0m: \tcem_num_iters: 16\n",
      "\u001b[34m\u001b[1mwandb\u001b[0m: \tmpc_discount: 0.5\n",
      "\u001b[34m\u001b[1mwandb\u001b[0m: \tmpc_horizon_steps: 20\n",
      "\u001b[34m\u001b[1mwandb\u001b[0m: \tmpc_num_action_sequences: 100\n",
      "\u001b[34m\u001b[1mwandb\u001b[0m: \tmpc_strategy: random\n",
      "\u001b[34m\u001b[1mwandb\u001b[0m: \tmpc_timestep: 0.05\n",
      "/home/zekai/miniconda3/envs/cs285_proj/lib/python3.9/site-packages/ipywidgets/widgets/widget.py:528: DeprecationWarning: The `ipykernel.comm.Comm` class has been deprecated. Please use the `comm` module instead.For creating comms, use the function `from comm import create_comm`.\n",
      "  self.comm = Comm(**args)\n",
      "/home/zekai/miniconda3/envs/cs285_proj/lib/python3.9/site-packages/wandb/sdk/lib/ipython.py:77: DeprecationWarning: Importing display from IPython.core.display is deprecated since IPython 7.14, please import from IPython display\n",
      "  from IPython.core.display import HTML, display  # type: ignore\n"
     ]
    },
    {
     "data": {
      "text/html": [
       "Tracking run with wandb version 0.16.1"
      ],
      "text/plain": [
       "<IPython.core.display.HTML object>"
      ]
     },
     "metadata": {},
     "output_type": "display_data"
    },
    {
     "data": {
      "text/html": [
       "Run data is saved locally in <code>/home/zekai/repos/cs285_proj/notebooks/wandb/run-20231207_125223-56sa5n0j</code>"
      ],
      "text/plain": [
       "<IPython.core.display.HTML object>"
      ]
     },
     "metadata": {},
     "output_type": "display_data"
    },
    {
     "data": {
      "text/html": [
       "Syncing run <strong><a href='https://wandb.ai/zekai-wang/cs285_proj_get_action_true_dynamics/runs/56sa5n0j' target=\"_blank\">super-sweep-3</a></strong> to <a href='https://wandb.ai/zekai-wang/cs285_proj_get_action_true_dynamics' target=\"_blank\">Weights & Biases</a> (<a href='https://wandb.me/run' target=\"_blank\">docs</a>)<br/>Sweep page: <a href='https://wandb.ai/zekai-wang/cs285_proj_get_action_true_dynamics/sweeps/a84q0755' target=\"_blank\">https://wandb.ai/zekai-wang/cs285_proj_get_action_true_dynamics/sweeps/a84q0755</a>"
      ],
      "text/plain": [
       "<IPython.core.display.HTML object>"
      ]
     },
     "metadata": {},
     "output_type": "display_data"
    },
    {
     "data": {
      "text/html": [
       " View project at <a href='https://wandb.ai/zekai-wang/cs285_proj_get_action_true_dynamics' target=\"_blank\">https://wandb.ai/zekai-wang/cs285_proj_get_action_true_dynamics</a>"
      ],
      "text/plain": [
       "<IPython.core.display.HTML object>"
      ]
     },
     "metadata": {},
     "output_type": "display_data"
    },
    {
     "data": {
      "text/html": [
       " View sweep at <a href='https://wandb.ai/zekai-wang/cs285_proj_get_action_true_dynamics/sweeps/a84q0755' target=\"_blank\">https://wandb.ai/zekai-wang/cs285_proj_get_action_true_dynamics/sweeps/a84q0755</a>"
      ],
      "text/plain": [
       "<IPython.core.display.HTML object>"
      ]
     },
     "metadata": {},
     "output_type": "display_data"
    },
    {
     "data": {
      "text/html": [
       " View run at <a href='https://wandb.ai/zekai-wang/cs285_proj_get_action_true_dynamics/runs/56sa5n0j' target=\"_blank\">https://wandb.ai/zekai-wang/cs285_proj_get_action_true_dynamics/runs/56sa5n0j</a>"
      ],
      "text/plain": [
       "<IPython.core.display.HTML object>"
      ]
     },
     "metadata": {},
     "output_type": "display_data"
    },
    {
     "name": "stderr",
     "output_type": "stream",
     "text": [
      "100%|██████████| 10/10 [00:32<00:00,  3.28s/it]\n"
     ]
    },
    {
     "name": "stdout",
     "output_type": "stream",
     "text": [
      "mean -1199.508\n",
      "std 425.01773\n",
      "min -1583.6694\n",
      "max -0.62472725\n"
     ]
    },
    {
     "name": "stderr",
     "output_type": "stream",
     "text": [
      "/home/zekai/miniconda3/envs/cs285_proj/lib/python3.9/site-packages/wandb/sdk/lib/ipython.py:89: DeprecationWarning: Importing display from IPython.core.display is deprecated since IPython 7.14, please import from IPython display\n",
      "  from IPython.core.display import display\n"
     ]
    },
    {
     "data": {
      "application/vnd.jupyter.widget-view+json": {
       "model_id": "7170584d3e034534b87f4c0bb9d70cd2",
       "version_major": 2,
       "version_minor": 0
      },
      "text/plain": [
       "VBox(children=(Label(value='0.004 MB of 0.004 MB uploaded\\r'), FloatProgress(value=1.0, max=1.0)))"
      ]
     },
     "metadata": {},
     "output_type": "display_data"
    },
    {
     "data": {
      "text/html": [
       "<style>\n",
       "    table.wandb td:nth-child(1) { padding: 0 10px; text-align: left ; width: auto;} td:nth-child(2) {text-align: left ; width: 100%}\n",
       "    .wandb-row { display: flex; flex-direction: row; flex-wrap: wrap; justify-content: flex-start; width: 100% }\n",
       "    .wandb-col { display: flex; flex-direction: column; flex-basis: 100%; flex: 1; padding: 10px; }\n",
       "    </style>\n",
       "<div class=\"wandb-row\"><div class=\"wandb-col\"><h3>Run history:</h3><br/><table class=\"wandb\"><tr><td>max</td><td>▁</td></tr><tr><td>mean</td><td>▁</td></tr><tr><td>min</td><td>▁</td></tr><tr><td>std</td><td>▁</td></tr></table><br/></div><div class=\"wandb-col\"><h3>Run summary:</h3><br/><table class=\"wandb\"><tr><td>max</td><td>-0.62473</td></tr><tr><td>mean</td><td>-1199.50806</td></tr><tr><td>min</td><td>-1583.66943</td></tr><tr><td>std</td><td>425.01773</td></tr></table><br/></div></div>"
      ],
      "text/plain": [
       "<IPython.core.display.HTML object>"
      ]
     },
     "metadata": {},
     "output_type": "display_data"
    },
    {
     "data": {
      "text/html": [
       " View run <strong style=\"color:#cdcd00\">super-sweep-3</strong> at: <a href='https://wandb.ai/zekai-wang/cs285_proj_get_action_true_dynamics/runs/56sa5n0j' target=\"_blank\">https://wandb.ai/zekai-wang/cs285_proj_get_action_true_dynamics/runs/56sa5n0j</a><br/>Synced 6 W&B file(s), 0 media file(s), 0 artifact file(s) and 0 other file(s)"
      ],
      "text/plain": [
       "<IPython.core.display.HTML object>"
      ]
     },
     "metadata": {},
     "output_type": "display_data"
    },
    {
     "data": {
      "text/html": [
       "Find logs at: <code>./wandb/run-20231207_125223-56sa5n0j/logs</code>"
      ],
      "text/plain": [
       "<IPython.core.display.HTML object>"
      ]
     },
     "metadata": {},
     "output_type": "display_data"
    },
    {
     "name": "stderr",
     "output_type": "stream",
     "text": [
      "\u001b[34m\u001b[1mwandb\u001b[0m: Agent Starting Run: 8wiqshqg with config:\n",
      "\u001b[34m\u001b[1mwandb\u001b[0m: \tcem_alpha: 0.9\n",
      "\u001b[34m\u001b[1mwandb\u001b[0m: \tcem_num_elites: 32\n",
      "\u001b[34m\u001b[1mwandb\u001b[0m: \tcem_num_iters: 16\n",
      "\u001b[34m\u001b[1mwandb\u001b[0m: \tmpc_discount: 1\n",
      "\u001b[34m\u001b[1mwandb\u001b[0m: \tmpc_horizon_steps: 1\n",
      "\u001b[34m\u001b[1mwandb\u001b[0m: \tmpc_num_action_sequences: 2000\n",
      "\u001b[34m\u001b[1mwandb\u001b[0m: \tmpc_strategy: cem\n",
      "\u001b[34m\u001b[1mwandb\u001b[0m: \tmpc_timestep: 0.05\n",
      "/home/zekai/miniconda3/envs/cs285_proj/lib/python3.9/site-packages/ipywidgets/widgets/widget.py:528: DeprecationWarning: The `ipykernel.comm.Comm` class has been deprecated. Please use the `comm` module instead.For creating comms, use the function `from comm import create_comm`.\n",
      "  self.comm = Comm(**args)\n",
      "/home/zekai/miniconda3/envs/cs285_proj/lib/python3.9/site-packages/wandb/sdk/lib/ipython.py:77: DeprecationWarning: Importing display from IPython.core.display is deprecated since IPython 7.14, please import from IPython display\n",
      "  from IPython.core.display import HTML, display  # type: ignore\n"
     ]
    },
    {
     "data": {
      "text/html": [
       "Tracking run with wandb version 0.16.1"
      ],
      "text/plain": [
       "<IPython.core.display.HTML object>"
      ]
     },
     "metadata": {},
     "output_type": "display_data"
    },
    {
     "data": {
      "text/html": [
       "Run data is saved locally in <code>/home/zekai/repos/cs285_proj/notebooks/wandb/run-20231207_125306-8wiqshqg</code>"
      ],
      "text/plain": [
       "<IPython.core.display.HTML object>"
      ]
     },
     "metadata": {},
     "output_type": "display_data"
    },
    {
     "data": {
      "text/html": [
       "Syncing run <strong><a href='https://wandb.ai/zekai-wang/cs285_proj_get_action_true_dynamics/runs/8wiqshqg' target=\"_blank\">happy-sweep-4</a></strong> to <a href='https://wandb.ai/zekai-wang/cs285_proj_get_action_true_dynamics' target=\"_blank\">Weights & Biases</a> (<a href='https://wandb.me/run' target=\"_blank\">docs</a>)<br/>Sweep page: <a href='https://wandb.ai/zekai-wang/cs285_proj_get_action_true_dynamics/sweeps/a84q0755' target=\"_blank\">https://wandb.ai/zekai-wang/cs285_proj_get_action_true_dynamics/sweeps/a84q0755</a>"
      ],
      "text/plain": [
       "<IPython.core.display.HTML object>"
      ]
     },
     "metadata": {},
     "output_type": "display_data"
    },
    {
     "data": {
      "text/html": [
       " View project at <a href='https://wandb.ai/zekai-wang/cs285_proj_get_action_true_dynamics' target=\"_blank\">https://wandb.ai/zekai-wang/cs285_proj_get_action_true_dynamics</a>"
      ],
      "text/plain": [
       "<IPython.core.display.HTML object>"
      ]
     },
     "metadata": {},
     "output_type": "display_data"
    },
    {
     "data": {
      "text/html": [
       " View sweep at <a href='https://wandb.ai/zekai-wang/cs285_proj_get_action_true_dynamics/sweeps/a84q0755' target=\"_blank\">https://wandb.ai/zekai-wang/cs285_proj_get_action_true_dynamics/sweeps/a84q0755</a>"
      ],
      "text/plain": [
       "<IPython.core.display.HTML object>"
      ]
     },
     "metadata": {},
     "output_type": "display_data"
    },
    {
     "data": {
      "text/html": [
       " View run at <a href='https://wandb.ai/zekai-wang/cs285_proj_get_action_true_dynamics/runs/8wiqshqg' target=\"_blank\">https://wandb.ai/zekai-wang/cs285_proj_get_action_true_dynamics/runs/8wiqshqg</a>"
      ],
      "text/plain": [
       "<IPython.core.display.HTML object>"
      ]
     },
     "metadata": {},
     "output_type": "display_data"
    },
    {
     "name": "stderr",
     "output_type": "stream",
     "text": [
      "  0%|          | 0/10 [00:00<?, ?it/s]\n",
      "Traceback (most recent call last):\n",
      "  File \"/tmp/ipykernel_163285/2625986174.py\", line 15, in evaluate\n",
      "    rewards, stats = test_true_dynamics_agent(agent, ntraj=10)\n",
      "  File \"/tmp/ipykernel_163285/1321374163.py\", line 2, in test_true_dynamics_agent\n",
      "    trajs, _ = sample_n_trajectories(env, agent, ntraj=ntraj, max_length=200, key=key)\n",
      "  File \"/home/zekai/repos/cs285_proj/cs285/infrastructure/utils.py\", line 123, in sample_n_trajectories\n",
      "    traj = sample_trajectory(env, policy, max_length, sample_key, render)\n",
      "  File \"/home/zekai/repos/cs285_proj/cs285/infrastructure/utils.py\", line 49, in sample_trajectory\n",
      "    ac = policy.get_action(ob, key=ac_key)\n",
      "  File \"/home/zekai/miniconda3/envs/cs285_proj/lib/python3.9/site-packages/equinox/_module.py\", line 1011, in __call__\n",
      "    return self.func(*self.args, *args, **kwargs, **self.keywords)\n",
      "  File \"/home/zekai/miniconda3/envs/cs285_proj/lib/python3.9/site-packages/equinox/_jit.py\", line 206, in __call__\n",
      "    return self._call(False, args, kwargs)\n",
      "  File \"/home/zekai/miniconda3/envs/cs285_proj/lib/python3.9/site-packages/equinox/_module.py\", line 875, in __call__\n",
      "    return self.__func__(self.__self__, *args, **kwargs)\n",
      "  File \"/home/zekai/miniconda3/envs/cs285_proj/lib/python3.9/site-packages/equinox/_jit.py\", line 200, in _call\n",
      "    out = self._cached(dynamic_donate, dynamic_nodonate, static)\n",
      "  File \"/home/zekai/miniconda3/envs/cs285_proj/lib/python3.9/site-packages/jax/_src/traceback_util.py\", line 177, in reraise_with_filtered_traceback\n",
      "    return fun(*args, **kwargs)\n",
      "  File \"/home/zekai/miniconda3/envs/cs285_proj/lib/python3.9/site-packages/jax/_src/pjit.py\", line 255, in cache_miss\n",
      "    outs, out_flat, out_tree, args_flat, jaxpr = _python_pjit_helper(\n",
      "  File \"/home/zekai/miniconda3/envs/cs285_proj/lib/python3.9/site-packages/jax/_src/pjit.py\", line 161, in _python_pjit_helper\n",
      "    args_flat, _, params, in_tree, out_tree, _, _, _ = infer_params_fn(\n",
      "  File \"/home/zekai/miniconda3/envs/cs285_proj/lib/python3.9/site-packages/jax/_src/api.py\", line 317, in infer_params\n",
      "    return pjit.common_infer_params(pjit_info_args, *args, **kwargs)\n",
      "  File \"/home/zekai/miniconda3/envs/cs285_proj/lib/python3.9/site-packages/jax/_src/pjit.py\", line 491, in common_infer_params\n",
      "    jaxpr, consts, canonicalized_out_shardings_flat, out_layouts_flat = _pjit_jaxpr(\n",
      "  File \"/home/zekai/miniconda3/envs/cs285_proj/lib/python3.9/site-packages/jax/_src/pjit.py\", line 989, in _pjit_jaxpr\n",
      "    jaxpr, final_consts, out_type = _create_pjit_jaxpr(\n",
      "  File \"/home/zekai/miniconda3/envs/cs285_proj/lib/python3.9/site-packages/jax/_src/linear_util.py\", line 349, in memoized_fun\n",
      "    ans = call(fun, *args)\n",
      "  File \"/home/zekai/miniconda3/envs/cs285_proj/lib/python3.9/site-packages/jax/_src/pjit.py\", line 934, in _create_pjit_jaxpr\n",
      "    jaxpr, global_out_avals, consts = pe.trace_to_jaxpr_dynamic(\n",
      "  File \"/home/zekai/miniconda3/envs/cs285_proj/lib/python3.9/site-packages/jax/_src/profiler.py\", line 334, in wrapper\n",
      "    return func(*args, **kwargs)\n",
      "  File \"/home/zekai/miniconda3/envs/cs285_proj/lib/python3.9/site-packages/jax/_src/interpreters/partial_eval.py\", line 2283, in trace_to_jaxpr_dynamic\n",
      "    jaxpr, out_avals, consts = trace_to_subjaxpr_dynamic(\n",
      "  File \"/home/zekai/miniconda3/envs/cs285_proj/lib/python3.9/site-packages/jax/_src/interpreters/partial_eval.py\", line 2305, in trace_to_subjaxpr_dynamic\n",
      "    ans = fun.call_wrapped(*in_tracers_)\n",
      "  File \"/home/zekai/miniconda3/envs/cs285_proj/lib/python3.9/site-packages/jax/_src/linear_util.py\", line 191, in call_wrapped\n",
      "    ans = self.f(*args, **dict(self.params, **kwargs))\n",
      "  File \"/home/zekai/miniconda3/envs/cs285_proj/lib/python3.9/site-packages/equinox/_jit.py\", line 49, in fun_wrapped\n",
      "    out = fun(*args, **kwargs)\n",
      "  File \"/home/zekai/repos/cs285_proj/cs285/agents/ode_agent.py\", line 276, in get_action\n",
      "    rewards = self.evaluate_action_sequences(obs, action_sequences, mpc_discount_arr)\n",
      "  File \"/home/zekai/miniconda3/envs/cs285_proj/lib/python3.9/site-packages/equinox/_module.py\", line 1011, in __call__\n",
      "    return self.func(*self.args, *args, **kwargs, **self.keywords)\n",
      "  File \"/home/zekai/miniconda3/envs/cs285_proj/lib/python3.9/site-packages/equinox/_jit.py\", line 206, in __call__\n",
      "    return self._call(False, args, kwargs)\n",
      "  File \"/home/zekai/miniconda3/envs/cs285_proj/lib/python3.9/site-packages/equinox/_module.py\", line 875, in __call__\n",
      "    return self.__func__(self.__self__, *args, **kwargs)\n",
      "  File \"/home/zekai/miniconda3/envs/cs285_proj/lib/python3.9/site-packages/equinox/_jit.py\", line 200, in _call\n",
      "    out = self._cached(dynamic_donate, dynamic_nodonate, static)\n",
      "  File \"/home/zekai/miniconda3/envs/cs285_proj/lib/python3.9/site-packages/jax/_src/traceback_util.py\", line 177, in reraise_with_filtered_traceback\n",
      "    return fun(*args, **kwargs)\n",
      "  File \"/home/zekai/miniconda3/envs/cs285_proj/lib/python3.9/site-packages/jax/_src/pjit.py\", line 255, in cache_miss\n",
      "    outs, out_flat, out_tree, args_flat, jaxpr = _python_pjit_helper(\n",
      "  File \"/home/zekai/miniconda3/envs/cs285_proj/lib/python3.9/site-packages/jax/_src/pjit.py\", line 161, in _python_pjit_helper\n",
      "    args_flat, _, params, in_tree, out_tree, _, _, _ = infer_params_fn(\n",
      "  File \"/home/zekai/miniconda3/envs/cs285_proj/lib/python3.9/site-packages/jax/_src/api.py\", line 317, in infer_params\n",
      "    return pjit.common_infer_params(pjit_info_args, *args, **kwargs)\n",
      "  File \"/home/zekai/miniconda3/envs/cs285_proj/lib/python3.9/site-packages/jax/_src/pjit.py\", line 491, in common_infer_params\n",
      "    jaxpr, consts, canonicalized_out_shardings_flat, out_layouts_flat = _pjit_jaxpr(\n",
      "  File \"/home/zekai/miniconda3/envs/cs285_proj/lib/python3.9/site-packages/jax/_src/pjit.py\", line 989, in _pjit_jaxpr\n",
      "    jaxpr, final_consts, out_type = _create_pjit_jaxpr(\n",
      "  File \"/home/zekai/miniconda3/envs/cs285_proj/lib/python3.9/site-packages/jax/_src/linear_util.py\", line 349, in memoized_fun\n",
      "    ans = call(fun, *args)\n",
      "  File \"/home/zekai/miniconda3/envs/cs285_proj/lib/python3.9/site-packages/jax/_src/pjit.py\", line 934, in _create_pjit_jaxpr\n",
      "    jaxpr, global_out_avals, consts = pe.trace_to_jaxpr_dynamic(\n",
      "  File \"/home/zekai/miniconda3/envs/cs285_proj/lib/python3.9/site-packages/jax/_src/profiler.py\", line 334, in wrapper\n",
      "    return func(*args, **kwargs)\n",
      "  File \"/home/zekai/miniconda3/envs/cs285_proj/lib/python3.9/site-packages/jax/_src/interpreters/partial_eval.py\", line 2283, in trace_to_jaxpr_dynamic\n",
      "    jaxpr, out_avals, consts = trace_to_subjaxpr_dynamic(\n",
      "  File \"/home/zekai/miniconda3/envs/cs285_proj/lib/python3.9/site-packages/jax/_src/interpreters/partial_eval.py\", line 2305, in trace_to_subjaxpr_dynamic\n",
      "    ans = fun.call_wrapped(*in_tracers_)\n",
      "  File \"/home/zekai/miniconda3/envs/cs285_proj/lib/python3.9/site-packages/jax/_src/linear_util.py\", line 191, in call_wrapped\n",
      "    ans = self.f(*args, **dict(self.params, **kwargs))\n",
      "  File \"/home/zekai/miniconda3/envs/cs285_proj/lib/python3.9/site-packages/equinox/_jit.py\", line 49, in fun_wrapped\n",
      "    out = fun(*args, **kwargs)\n",
      "  File \"/home/zekai/repos/cs285_proj/cs285/agents/ode_agent_true_dynamics.py\", line 99, in evaluate_action_sequences\n",
      "    avg_rewards = jax.vmap(evaluate_single_sequence)(acs) # (seqs,)\n",
      "  File \"/home/zekai/miniconda3/envs/cs285_proj/lib/python3.9/site-packages/jax/_src/traceback_util.py\", line 177, in reraise_with_filtered_traceback\n",
      "    return fun(*args, **kwargs)\n",
      "  File \"/home/zekai/miniconda3/envs/cs285_proj/lib/python3.9/site-packages/jax/_src/api.py\", line 1258, in vmap_f\n",
      "    out_flat = batching.batch(\n",
      "  File \"/home/zekai/miniconda3/envs/cs285_proj/lib/python3.9/site-packages/jax/_src/linear_util.py\", line 191, in call_wrapped\n",
      "    ans = self.f(*args, **dict(self.params, **kwargs))\n",
      "  File \"/home/zekai/repos/cs285_proj/cs285/agents/ode_agent_true_dynamics.py\", line 96, in evaluate_single_sequence\n",
      "    rewards, _ = self.env.get_reward_jnp(ode_out.ys, ac)\n",
      "  File \"/home/zekai/repos/cs285_proj/cs285/envs/pendulum/pendulum_env.py\", line 202, in get_reward_jnp\n",
      "    assert u.shape == (observations.shape[0],), f\"u.shape={u.shape}, observations.shape={observations.shape}\"\n",
      "AssertionError: u.shape=(), observations.shape=(1, 3)\n"
     ]
    },
    {
     "data": {
      "application/vnd.jupyter.widget-view+json": {
       "model_id": "f47167f24ec841bfa9f20493a6a044f5",
       "version_major": 2,
       "version_minor": 0
      },
      "text/plain": [
       "VBox(children=(Label(value='0.004 MB of 0.004 MB uploaded\\r'), FloatProgress(value=1.0, max=1.0)))"
      ]
     },
     "metadata": {},
     "output_type": "display_data"
    },
    {
     "data": {
      "text/html": [
       " View run <strong style=\"color:#cdcd00\">happy-sweep-4</strong> at: <a href='https://wandb.ai/zekai-wang/cs285_proj_get_action_true_dynamics/runs/8wiqshqg' target=\"_blank\">https://wandb.ai/zekai-wang/cs285_proj_get_action_true_dynamics/runs/8wiqshqg</a><br/>Synced 6 W&B file(s), 0 media file(s), 0 artifact file(s) and 0 other file(s)"
      ],
      "text/plain": [
       "<IPython.core.display.HTML object>"
      ]
     },
     "metadata": {},
     "output_type": "display_data"
    },
    {
     "data": {
      "text/html": [
       "Find logs at: <code>./wandb/run-20231207_125306-8wiqshqg/logs</code>"
      ],
      "text/plain": [
       "<IPython.core.display.HTML object>"
      ]
     },
     "metadata": {},
     "output_type": "display_data"
    },
    {
     "name": "stderr",
     "output_type": "stream",
     "text": [
      "\u001b[34m\u001b[1mwandb\u001b[0m: \u001b[32m\u001b[41mERROR\u001b[0m Run 8wiqshqg errored: AssertionError('u.shape=(), observations.shape=(1, 3)')\n",
      "\u001b[34m\u001b[1mwandb\u001b[0m: Agent Starting Run: iaqtuzlu with config:\n",
      "\u001b[34m\u001b[1mwandb\u001b[0m: \tcem_alpha: 0.8\n",
      "\u001b[34m\u001b[1mwandb\u001b[0m: \tcem_num_elites: 16\n",
      "\u001b[34m\u001b[1mwandb\u001b[0m: \tcem_num_iters: 4\n",
      "\u001b[34m\u001b[1mwandb\u001b[0m: \tmpc_discount: 0.95\n",
      "\u001b[34m\u001b[1mwandb\u001b[0m: \tmpc_horizon_steps: 200\n",
      "\u001b[34m\u001b[1mwandb\u001b[0m: \tmpc_num_action_sequences: 200\n",
      "\u001b[34m\u001b[1mwandb\u001b[0m: \tmpc_strategy: random\n",
      "\u001b[34m\u001b[1mwandb\u001b[0m: \tmpc_timestep: 0.05\n",
      "/home/zekai/miniconda3/envs/cs285_proj/lib/python3.9/site-packages/ipywidgets/widgets/widget.py:528: DeprecationWarning: The `ipykernel.comm.Comm` class has been deprecated. Please use the `comm` module instead.For creating comms, use the function `from comm import create_comm`.\n",
      "  self.comm = Comm(**args)\n",
      "/home/zekai/miniconda3/envs/cs285_proj/lib/python3.9/site-packages/wandb/sdk/lib/ipython.py:77: DeprecationWarning: Importing display from IPython.core.display is deprecated since IPython 7.14, please import from IPython display\n",
      "  from IPython.core.display import HTML, display  # type: ignore\n"
     ]
    },
    {
     "data": {
      "text/html": [
       "Tracking run with wandb version 0.16.1"
      ],
      "text/plain": [
       "<IPython.core.display.HTML object>"
      ]
     },
     "metadata": {},
     "output_type": "display_data"
    },
    {
     "data": {
      "text/html": [
       "Run data is saved locally in <code>/home/zekai/repos/cs285_proj/notebooks/wandb/run-20231207_125315-iaqtuzlu</code>"
      ],
      "text/plain": [
       "<IPython.core.display.HTML object>"
      ]
     },
     "metadata": {},
     "output_type": "display_data"
    },
    {
     "data": {
      "text/html": [
       "Syncing run <strong><a href='https://wandb.ai/zekai-wang/cs285_proj_get_action_true_dynamics/runs/iaqtuzlu' target=\"_blank\">bright-sweep-5</a></strong> to <a href='https://wandb.ai/zekai-wang/cs285_proj_get_action_true_dynamics' target=\"_blank\">Weights & Biases</a> (<a href='https://wandb.me/run' target=\"_blank\">docs</a>)<br/>Sweep page: <a href='https://wandb.ai/zekai-wang/cs285_proj_get_action_true_dynamics/sweeps/a84q0755' target=\"_blank\">https://wandb.ai/zekai-wang/cs285_proj_get_action_true_dynamics/sweeps/a84q0755</a>"
      ],
      "text/plain": [
       "<IPython.core.display.HTML object>"
      ]
     },
     "metadata": {},
     "output_type": "display_data"
    },
    {
     "data": {
      "text/html": [
       " View project at <a href='https://wandb.ai/zekai-wang/cs285_proj_get_action_true_dynamics' target=\"_blank\">https://wandb.ai/zekai-wang/cs285_proj_get_action_true_dynamics</a>"
      ],
      "text/plain": [
       "<IPython.core.display.HTML object>"
      ]
     },
     "metadata": {},
     "output_type": "display_data"
    },
    {
     "data": {
      "text/html": [
       " View sweep at <a href='https://wandb.ai/zekai-wang/cs285_proj_get_action_true_dynamics/sweeps/a84q0755' target=\"_blank\">https://wandb.ai/zekai-wang/cs285_proj_get_action_true_dynamics/sweeps/a84q0755</a>"
      ],
      "text/plain": [
       "<IPython.core.display.HTML object>"
      ]
     },
     "metadata": {},
     "output_type": "display_data"
    },
    {
     "data": {
      "text/html": [
       " View run at <a href='https://wandb.ai/zekai-wang/cs285_proj_get_action_true_dynamics/runs/iaqtuzlu' target=\"_blank\">https://wandb.ai/zekai-wang/cs285_proj_get_action_true_dynamics/runs/iaqtuzlu</a>"
      ],
      "text/plain": [
       "<IPython.core.display.HTML object>"
      ]
     },
     "metadata": {},
     "output_type": "display_data"
    },
    {
     "name": "stderr",
     "output_type": "stream",
     "text": [
      "100%|██████████| 10/10 [03:41<00:00, 22.14s/it]\n"
     ]
    },
    {
     "name": "stdout",
     "output_type": "stream",
     "text": [
      "mean -650.73206\n",
      "std 345.2816\n",
      "min -1076.7504\n",
      "max -127.02426\n"
     ]
    },
    {
     "data": {
      "application/vnd.jupyter.widget-view+json": {
       "model_id": "12f2fd8407854c92865f11c18e527bc0",
       "version_major": 2,
       "version_minor": 0
      },
      "text/plain": [
       "VBox(children=(Label(value='0.004 MB of 0.004 MB uploaded\\r'), FloatProgress(value=1.0, max=1.0)))"
      ]
     },
     "metadata": {},
     "output_type": "display_data"
    },
    {
     "data": {
      "text/html": [
       "<style>\n",
       "    table.wandb td:nth-child(1) { padding: 0 10px; text-align: left ; width: auto;} td:nth-child(2) {text-align: left ; width: 100%}\n",
       "    .wandb-row { display: flex; flex-direction: row; flex-wrap: wrap; justify-content: flex-start; width: 100% }\n",
       "    .wandb-col { display: flex; flex-direction: column; flex-basis: 100%; flex: 1; padding: 10px; }\n",
       "    </style>\n",
       "<div class=\"wandb-row\"><div class=\"wandb-col\"><h3>Run history:</h3><br/><table class=\"wandb\"><tr><td>max</td><td>▁</td></tr><tr><td>mean</td><td>▁</td></tr><tr><td>min</td><td>▁</td></tr><tr><td>std</td><td>▁</td></tr></table><br/></div><div class=\"wandb-col\"><h3>Run summary:</h3><br/><table class=\"wandb\"><tr><td>max</td><td>-127.02426</td></tr><tr><td>mean</td><td>-650.73206</td></tr><tr><td>min</td><td>-1076.75037</td></tr><tr><td>std</td><td>345.28159</td></tr></table><br/></div></div>"
      ],
      "text/plain": [
       "<IPython.core.display.HTML object>"
      ]
     },
     "metadata": {},
     "output_type": "display_data"
    },
    {
     "data": {
      "text/html": [
       " View run <strong style=\"color:#cdcd00\">bright-sweep-5</strong> at: <a href='https://wandb.ai/zekai-wang/cs285_proj_get_action_true_dynamics/runs/iaqtuzlu' target=\"_blank\">https://wandb.ai/zekai-wang/cs285_proj_get_action_true_dynamics/runs/iaqtuzlu</a><br/>Synced 6 W&B file(s), 0 media file(s), 0 artifact file(s) and 0 other file(s)"
      ],
      "text/plain": [
       "<IPython.core.display.HTML object>"
      ]
     },
     "metadata": {},
     "output_type": "display_data"
    },
    {
     "data": {
      "text/html": [
       "Find logs at: <code>./wandb/run-20231207_125315-iaqtuzlu/logs</code>"
      ],
      "text/plain": [
       "<IPython.core.display.HTML object>"
      ]
     },
     "metadata": {},
     "output_type": "display_data"
    },
    {
     "name": "stderr",
     "output_type": "stream",
     "text": [
      "\u001b[34m\u001b[1mwandb\u001b[0m: Agent Starting Run: 5f0qry80 with config:\n",
      "\u001b[34m\u001b[1mwandb\u001b[0m: \tcem_alpha: 0.95\n",
      "\u001b[34m\u001b[1mwandb\u001b[0m: \tcem_num_elites: 4\n",
      "\u001b[34m\u001b[1mwandb\u001b[0m: \tcem_num_iters: 4\n",
      "\u001b[34m\u001b[1mwandb\u001b[0m: \tmpc_discount: 0.95\n",
      "\u001b[34m\u001b[1mwandb\u001b[0m: \tmpc_horizon_steps: 20\n",
      "\u001b[34m\u001b[1mwandb\u001b[0m: \tmpc_num_action_sequences: 2000\n",
      "\u001b[34m\u001b[1mwandb\u001b[0m: \tmpc_strategy: random\n",
      "\u001b[34m\u001b[1mwandb\u001b[0m: \tmpc_timestep: 0.05\n",
      "/home/zekai/miniconda3/envs/cs285_proj/lib/python3.9/site-packages/ipywidgets/widgets/widget.py:528: DeprecationWarning: The `ipykernel.comm.Comm` class has been deprecated. Please use the `comm` module instead.For creating comms, use the function `from comm import create_comm`.\n",
      "  self.comm = Comm(**args)\n",
      "/home/zekai/miniconda3/envs/cs285_proj/lib/python3.9/site-packages/wandb/sdk/lib/ipython.py:77: DeprecationWarning: Importing display from IPython.core.display is deprecated since IPython 7.14, please import from IPython display\n",
      "  from IPython.core.display import HTML, display  # type: ignore\n"
     ]
    },
    {
     "data": {
      "text/html": [
       "Tracking run with wandb version 0.16.1"
      ],
      "text/plain": [
       "<IPython.core.display.HTML object>"
      ]
     },
     "metadata": {},
     "output_type": "display_data"
    },
    {
     "data": {
      "text/html": [
       "Run data is saved locally in <code>/home/zekai/repos/cs285_proj/notebooks/wandb/run-20231207_125707-5f0qry80</code>"
      ],
      "text/plain": [
       "<IPython.core.display.HTML object>"
      ]
     },
     "metadata": {},
     "output_type": "display_data"
    },
    {
     "data": {
      "text/html": [
       "Syncing run <strong><a href='https://wandb.ai/zekai-wang/cs285_proj_get_action_true_dynamics/runs/5f0qry80' target=\"_blank\">misty-sweep-6</a></strong> to <a href='https://wandb.ai/zekai-wang/cs285_proj_get_action_true_dynamics' target=\"_blank\">Weights & Biases</a> (<a href='https://wandb.me/run' target=\"_blank\">docs</a>)<br/>Sweep page: <a href='https://wandb.ai/zekai-wang/cs285_proj_get_action_true_dynamics/sweeps/a84q0755' target=\"_blank\">https://wandb.ai/zekai-wang/cs285_proj_get_action_true_dynamics/sweeps/a84q0755</a>"
      ],
      "text/plain": [
       "<IPython.core.display.HTML object>"
      ]
     },
     "metadata": {},
     "output_type": "display_data"
    },
    {
     "data": {
      "text/html": [
       " View project at <a href='https://wandb.ai/zekai-wang/cs285_proj_get_action_true_dynamics' target=\"_blank\">https://wandb.ai/zekai-wang/cs285_proj_get_action_true_dynamics</a>"
      ],
      "text/plain": [
       "<IPython.core.display.HTML object>"
      ]
     },
     "metadata": {},
     "output_type": "display_data"
    },
    {
     "data": {
      "text/html": [
       " View sweep at <a href='https://wandb.ai/zekai-wang/cs285_proj_get_action_true_dynamics/sweeps/a84q0755' target=\"_blank\">https://wandb.ai/zekai-wang/cs285_proj_get_action_true_dynamics/sweeps/a84q0755</a>"
      ],
      "text/plain": [
       "<IPython.core.display.HTML object>"
      ]
     },
     "metadata": {},
     "output_type": "display_data"
    },
    {
     "data": {
      "text/html": [
       " View run at <a href='https://wandb.ai/zekai-wang/cs285_proj_get_action_true_dynamics/runs/5f0qry80' target=\"_blank\">https://wandb.ai/zekai-wang/cs285_proj_get_action_true_dynamics/runs/5f0qry80</a>"
      ],
      "text/plain": [
       "<IPython.core.display.HTML object>"
      ]
     },
     "metadata": {},
     "output_type": "display_data"
    },
    {
     "name": "stderr",
     "output_type": "stream",
     "text": [
      "100%|██████████| 10/10 [00:33<00:00,  3.31s/it]\n"
     ]
    },
    {
     "name": "stdout",
     "output_type": "stream",
     "text": [
      "mean -185.77225\n",
      "std 125.30916\n",
      "min -375.0008\n",
      "max -0.8354941\n"
     ]
    },
    {
     "data": {
      "application/vnd.jupyter.widget-view+json": {
       "model_id": "ebc774b5335a4587b35f09572b79f0d2",
       "version_major": 2,
       "version_minor": 0
      },
      "text/plain": [
       "VBox(children=(Label(value='0.004 MB of 0.004 MB uploaded\\r'), FloatProgress(value=1.0, max=1.0)))"
      ]
     },
     "metadata": {},
     "output_type": "display_data"
    },
    {
     "data": {
      "text/html": [
       "<style>\n",
       "    table.wandb td:nth-child(1) { padding: 0 10px; text-align: left ; width: auto;} td:nth-child(2) {text-align: left ; width: 100%}\n",
       "    .wandb-row { display: flex; flex-direction: row; flex-wrap: wrap; justify-content: flex-start; width: 100% }\n",
       "    .wandb-col { display: flex; flex-direction: column; flex-basis: 100%; flex: 1; padding: 10px; }\n",
       "    </style>\n",
       "<div class=\"wandb-row\"><div class=\"wandb-col\"><h3>Run history:</h3><br/><table class=\"wandb\"><tr><td>max</td><td>▁</td></tr><tr><td>mean</td><td>▁</td></tr><tr><td>min</td><td>▁</td></tr><tr><td>std</td><td>▁</td></tr></table><br/></div><div class=\"wandb-col\"><h3>Run summary:</h3><br/><table class=\"wandb\"><tr><td>max</td><td>-0.83549</td></tr><tr><td>mean</td><td>-185.77225</td></tr><tr><td>min</td><td>-375.00079</td></tr><tr><td>std</td><td>125.30916</td></tr></table><br/></div></div>"
      ],
      "text/plain": [
       "<IPython.core.display.HTML object>"
      ]
     },
     "metadata": {},
     "output_type": "display_data"
    },
    {
     "data": {
      "text/html": [
       " View run <strong style=\"color:#cdcd00\">misty-sweep-6</strong> at: <a href='https://wandb.ai/zekai-wang/cs285_proj_get_action_true_dynamics/runs/5f0qry80' target=\"_blank\">https://wandb.ai/zekai-wang/cs285_proj_get_action_true_dynamics/runs/5f0qry80</a><br/>Synced 6 W&B file(s), 0 media file(s), 0 artifact file(s) and 0 other file(s)"
      ],
      "text/plain": [
       "<IPython.core.display.HTML object>"
      ]
     },
     "metadata": {},
     "output_type": "display_data"
    },
    {
     "data": {
      "text/html": [
       "Find logs at: <code>./wandb/run-20231207_125707-5f0qry80/logs</code>"
      ],
      "text/plain": [
       "<IPython.core.display.HTML object>"
      ]
     },
     "metadata": {},
     "output_type": "display_data"
    },
    {
     "name": "stderr",
     "output_type": "stream",
     "text": [
      "\u001b[34m\u001b[1mwandb\u001b[0m: Agent Starting Run: qohpdand with config:\n",
      "\u001b[34m\u001b[1mwandb\u001b[0m: \tcem_alpha: 0.95\n",
      "\u001b[34m\u001b[1mwandb\u001b[0m: \tcem_num_elites: 32\n",
      "\u001b[34m\u001b[1mwandb\u001b[0m: \tcem_num_iters: 8\n",
      "\u001b[34m\u001b[1mwandb\u001b[0m: \tmpc_discount: 0.95\n",
      "\u001b[34m\u001b[1mwandb\u001b[0m: \tmpc_horizon_steps: 20\n",
      "\u001b[34m\u001b[1mwandb\u001b[0m: \tmpc_num_action_sequences: 200\n",
      "\u001b[34m\u001b[1mwandb\u001b[0m: \tmpc_strategy: random\n",
      "\u001b[34m\u001b[1mwandb\u001b[0m: \tmpc_timestep: 0.05\n",
      "/home/zekai/miniconda3/envs/cs285_proj/lib/python3.9/site-packages/ipywidgets/widgets/widget.py:528: DeprecationWarning: The `ipykernel.comm.Comm` class has been deprecated. Please use the `comm` module instead.For creating comms, use the function `from comm import create_comm`.\n",
      "  self.comm = Comm(**args)\n",
      "/home/zekai/miniconda3/envs/cs285_proj/lib/python3.9/site-packages/wandb/sdk/lib/ipython.py:77: DeprecationWarning: Importing display from IPython.core.display is deprecated since IPython 7.14, please import from IPython display\n",
      "  from IPython.core.display import HTML, display  # type: ignore\n"
     ]
    },
    {
     "data": {
      "text/html": [
       "Tracking run with wandb version 0.16.1"
      ],
      "text/plain": [
       "<IPython.core.display.HTML object>"
      ]
     },
     "metadata": {},
     "output_type": "display_data"
    },
    {
     "data": {
      "text/html": [
       "Run data is saved locally in <code>/home/zekai/repos/cs285_proj/notebooks/wandb/run-20231207_125752-qohpdand</code>"
      ],
      "text/plain": [
       "<IPython.core.display.HTML object>"
      ]
     },
     "metadata": {},
     "output_type": "display_data"
    },
    {
     "data": {
      "text/html": [
       "Syncing run <strong><a href='https://wandb.ai/zekai-wang/cs285_proj_get_action_true_dynamics/runs/qohpdand' target=\"_blank\">dandy-sweep-7</a></strong> to <a href='https://wandb.ai/zekai-wang/cs285_proj_get_action_true_dynamics' target=\"_blank\">Weights & Biases</a> (<a href='https://wandb.me/run' target=\"_blank\">docs</a>)<br/>Sweep page: <a href='https://wandb.ai/zekai-wang/cs285_proj_get_action_true_dynamics/sweeps/a84q0755' target=\"_blank\">https://wandb.ai/zekai-wang/cs285_proj_get_action_true_dynamics/sweeps/a84q0755</a>"
      ],
      "text/plain": [
       "<IPython.core.display.HTML object>"
      ]
     },
     "metadata": {},
     "output_type": "display_data"
    },
    {
     "data": {
      "text/html": [
       " View project at <a href='https://wandb.ai/zekai-wang/cs285_proj_get_action_true_dynamics' target=\"_blank\">https://wandb.ai/zekai-wang/cs285_proj_get_action_true_dynamics</a>"
      ],
      "text/plain": [
       "<IPython.core.display.HTML object>"
      ]
     },
     "metadata": {},
     "output_type": "display_data"
    },
    {
     "data": {
      "text/html": [
       " View sweep at <a href='https://wandb.ai/zekai-wang/cs285_proj_get_action_true_dynamics/sweeps/a84q0755' target=\"_blank\">https://wandb.ai/zekai-wang/cs285_proj_get_action_true_dynamics/sweeps/a84q0755</a>"
      ],
      "text/plain": [
       "<IPython.core.display.HTML object>"
      ]
     },
     "metadata": {},
     "output_type": "display_data"
    },
    {
     "data": {
      "text/html": [
       " View run at <a href='https://wandb.ai/zekai-wang/cs285_proj_get_action_true_dynamics/runs/qohpdand' target=\"_blank\">https://wandb.ai/zekai-wang/cs285_proj_get_action_true_dynamics/runs/qohpdand</a>"
      ],
      "text/plain": [
       "<IPython.core.display.HTML object>"
      ]
     },
     "metadata": {},
     "output_type": "display_data"
    },
    {
     "name": "stderr",
     "output_type": "stream",
     "text": [
      "100%|██████████| 10/10 [00:33<00:00,  3.33s/it]\n"
     ]
    },
    {
     "name": "stdout",
     "output_type": "stream",
     "text": [
      "mean -176.6659\n",
      "std 83.98125\n",
      "min -378.369\n",
      "max -121.10578\n"
     ]
    },
    {
     "data": {
      "application/vnd.jupyter.widget-view+json": {
       "model_id": "f6ebd5a14e50495fba5e0502538f4b9e",
       "version_major": 2,
       "version_minor": 0
      },
      "text/plain": [
       "VBox(children=(Label(value='0.004 MB of 0.004 MB uploaded\\r'), FloatProgress(value=1.0, max=1.0)))"
      ]
     },
     "metadata": {},
     "output_type": "display_data"
    },
    {
     "data": {
      "text/html": [
       "<style>\n",
       "    table.wandb td:nth-child(1) { padding: 0 10px; text-align: left ; width: auto;} td:nth-child(2) {text-align: left ; width: 100%}\n",
       "    .wandb-row { display: flex; flex-direction: row; flex-wrap: wrap; justify-content: flex-start; width: 100% }\n",
       "    .wandb-col { display: flex; flex-direction: column; flex-basis: 100%; flex: 1; padding: 10px; }\n",
       "    </style>\n",
       "<div class=\"wandb-row\"><div class=\"wandb-col\"><h3>Run history:</h3><br/><table class=\"wandb\"><tr><td>max</td><td>▁</td></tr><tr><td>mean</td><td>▁</td></tr><tr><td>min</td><td>▁</td></tr><tr><td>std</td><td>▁</td></tr></table><br/></div><div class=\"wandb-col\"><h3>Run summary:</h3><br/><table class=\"wandb\"><tr><td>max</td><td>-121.10578</td></tr><tr><td>mean</td><td>-176.66589</td></tr><tr><td>min</td><td>-378.36899</td></tr><tr><td>std</td><td>83.98125</td></tr></table><br/></div></div>"
      ],
      "text/plain": [
       "<IPython.core.display.HTML object>"
      ]
     },
     "metadata": {},
     "output_type": "display_data"
    },
    {
     "data": {
      "text/html": [
       " View run <strong style=\"color:#cdcd00\">dandy-sweep-7</strong> at: <a href='https://wandb.ai/zekai-wang/cs285_proj_get_action_true_dynamics/runs/qohpdand' target=\"_blank\">https://wandb.ai/zekai-wang/cs285_proj_get_action_true_dynamics/runs/qohpdand</a><br/>Synced 6 W&B file(s), 0 media file(s), 0 artifact file(s) and 0 other file(s)"
      ],
      "text/plain": [
       "<IPython.core.display.HTML object>"
      ]
     },
     "metadata": {},
     "output_type": "display_data"
    },
    {
     "data": {
      "text/html": [
       "Find logs at: <code>./wandb/run-20231207_125752-qohpdand/logs</code>"
      ],
      "text/plain": [
       "<IPython.core.display.HTML object>"
      ]
     },
     "metadata": {},
     "output_type": "display_data"
    },
    {
     "name": "stderr",
     "output_type": "stream",
     "text": [
      "\u001b[34m\u001b[1mwandb\u001b[0m: Agent Starting Run: cjkgu6bo with config:\n",
      "\u001b[34m\u001b[1mwandb\u001b[0m: \tcem_alpha: 0.8\n",
      "\u001b[34m\u001b[1mwandb\u001b[0m: \tcem_num_elites: 1\n",
      "\u001b[34m\u001b[1mwandb\u001b[0m: \tcem_num_iters: 16\n",
      "\u001b[34m\u001b[1mwandb\u001b[0m: \tmpc_discount: 0.9\n",
      "\u001b[34m\u001b[1mwandb\u001b[0m: \tmpc_horizon_steps: 50\n",
      "\u001b[34m\u001b[1mwandb\u001b[0m: \tmpc_num_action_sequences: 1000\n",
      "\u001b[34m\u001b[1mwandb\u001b[0m: \tmpc_strategy: random\n",
      "\u001b[34m\u001b[1mwandb\u001b[0m: \tmpc_timestep: 0.05\n",
      "/home/zekai/miniconda3/envs/cs285_proj/lib/python3.9/site-packages/ipywidgets/widgets/widget.py:528: DeprecationWarning: The `ipykernel.comm.Comm` class has been deprecated. Please use the `comm` module instead.For creating comms, use the function `from comm import create_comm`.\n",
      "  self.comm = Comm(**args)\n",
      "/home/zekai/miniconda3/envs/cs285_proj/lib/python3.9/site-packages/wandb/sdk/lib/ipython.py:77: DeprecationWarning: Importing display from IPython.core.display is deprecated since IPython 7.14, please import from IPython display\n",
      "  from IPython.core.display import HTML, display  # type: ignore\n"
     ]
    },
    {
     "data": {
      "text/html": [
       "Tracking run with wandb version 0.16.1"
      ],
      "text/plain": [
       "<IPython.core.display.HTML object>"
      ]
     },
     "metadata": {},
     "output_type": "display_data"
    },
    {
     "data": {
      "text/html": [
       "Run data is saved locally in <code>/home/zekai/repos/cs285_proj/notebooks/wandb/run-20231207_125838-cjkgu6bo</code>"
      ],
      "text/plain": [
       "<IPython.core.display.HTML object>"
      ]
     },
     "metadata": {},
     "output_type": "display_data"
    },
    {
     "data": {
      "text/html": [
       "Syncing run <strong><a href='https://wandb.ai/zekai-wang/cs285_proj_get_action_true_dynamics/runs/cjkgu6bo' target=\"_blank\">treasured-sweep-8</a></strong> to <a href='https://wandb.ai/zekai-wang/cs285_proj_get_action_true_dynamics' target=\"_blank\">Weights & Biases</a> (<a href='https://wandb.me/run' target=\"_blank\">docs</a>)<br/>Sweep page: <a href='https://wandb.ai/zekai-wang/cs285_proj_get_action_true_dynamics/sweeps/a84q0755' target=\"_blank\">https://wandb.ai/zekai-wang/cs285_proj_get_action_true_dynamics/sweeps/a84q0755</a>"
      ],
      "text/plain": [
       "<IPython.core.display.HTML object>"
      ]
     },
     "metadata": {},
     "output_type": "display_data"
    },
    {
     "data": {
      "text/html": [
       " View project at <a href='https://wandb.ai/zekai-wang/cs285_proj_get_action_true_dynamics' target=\"_blank\">https://wandb.ai/zekai-wang/cs285_proj_get_action_true_dynamics</a>"
      ],
      "text/plain": [
       "<IPython.core.display.HTML object>"
      ]
     },
     "metadata": {},
     "output_type": "display_data"
    },
    {
     "data": {
      "text/html": [
       " View sweep at <a href='https://wandb.ai/zekai-wang/cs285_proj_get_action_true_dynamics/sweeps/a84q0755' target=\"_blank\">https://wandb.ai/zekai-wang/cs285_proj_get_action_true_dynamics/sweeps/a84q0755</a>"
      ],
      "text/plain": [
       "<IPython.core.display.HTML object>"
      ]
     },
     "metadata": {},
     "output_type": "display_data"
    },
    {
     "data": {
      "text/html": [
       " View run at <a href='https://wandb.ai/zekai-wang/cs285_proj_get_action_true_dynamics/runs/cjkgu6bo' target=\"_blank\">https://wandb.ai/zekai-wang/cs285_proj_get_action_true_dynamics/runs/cjkgu6bo</a>"
      ],
      "text/plain": [
       "<IPython.core.display.HTML object>"
      ]
     },
     "metadata": {},
     "output_type": "display_data"
    },
    {
     "name": "stderr",
     "output_type": "stream",
     "text": [
      " 30%|███       | 3/10 [00:19<00:45,  6.45s/it]"
     ]
    }
   ],
   "source": [
    "wandb.agent(sweep_id, evaluate, count=200)"
   ]
  },
  {
   "cell_type": "code",
   "execution_count": null,
   "metadata": {},
   "outputs": [],
   "source": []
  }
 ],
 "metadata": {
  "kernelspec": {
   "display_name": "cs285_proj",
   "language": "python",
   "name": "python3"
  },
  "language_info": {
   "codemirror_mode": {
    "name": "ipython",
    "version": 3
   },
   "file_extension": ".py",
   "mimetype": "text/x-python",
   "name": "python",
   "nbconvert_exporter": "python",
   "pygments_lexer": "ipython3",
   "version": "3.9.18"
  }
 },
 "nbformat": 4,
 "nbformat_minor": 2
}
