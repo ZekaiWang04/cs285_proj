{
 "cells": [
  {
   "cell_type": "code",
   "execution_count": 28,
   "metadata": {},
   "outputs": [
    {
     "name": "stdout",
     "output_type": "stream",
     "text": [
      "The autoreload extension is already loaded. To reload it, use:\n",
      "  %reload_ext autoreload\n"
     ]
    }
   ],
   "source": [
    "%load_ext autoreload\n",
    "%autoreload 2\n",
    "from cs285.envs.pendulum.pendulum_env import PendulumEnv\n",
    "from cs285.envs.dt_sampler import ConstantSampler\n",
    "from cs285.infrastructure.replay_buffer import ReplayBufferTrajectories\n",
    "from cs285.infrastructure.utils import sample_n_trajectories, RandomPolicy\n",
    "from cs285.agents.ode_agent import ODEAgent\n",
    "from typing import Callable, Optional, Tuple, Sequence\n",
    "import numpy as np\n",
    "import gym\n",
    "from cs285.infrastructure import pytorch_util as ptu\n",
    "from tqdm import trange\n",
    "import jax\n",
    "import jax.numpy as jnp\n",
    "import equinox as eqx\n",
    "import diffrax\n",
    "from diffrax import diffeqsolve, Dopri5\n",
    "import optax\n",
    "import matplotlib.pyplot as plt\n",
    "# import wandb\n",
    "import pprint\n",
    "import pprint"
   ]
  },
  {
   "cell_type": "code",
   "execution_count": 29,
   "metadata": {},
   "outputs": [
    {
     "name": "stdout",
     "output_type": "stream",
     "text": [
      "cpu\n"
     ]
    }
   ],
   "source": [
    "key = jax.random.PRNGKey(0)\n",
    "from jax.lib import xla_bridge\n",
    "print(xla_bridge.get_backend().platform)"
   ]
  },
  {
   "cell_type": "code",
   "execution_count": 30,
   "metadata": {},
   "outputs": [],
   "source": [
    "def test_true_dynamics_agent(agent, ntraj, plot=False):\n",
    "    trajs, _ = sample_n_trajectories(agent.env, agent, ntraj=ntraj, max_length=200, key=key)\n",
    "    rewards = [t[\"episode_statistics\"][\"r\"] for t in trajs]\n",
    "    if plot:\n",
    "        plt.hist(rewards, bins=20)\n",
    "    mean, std, min, max = np.mean(rewards), np.std(rewards), np.min(rewards), np.max(rewards)\n",
    "    print(\"mean\", mean)\n",
    "    print(\"std\", std)\n",
    "    print(\"min\", min)\n",
    "    print(\"max\", max)\n",
    "    stats = {\n",
    "        \"mean\": mean,\n",
    "        \"std\": std,\n",
    "        \"min\": min,\n",
    "        \"max\": max\n",
    "    }\n",
    "    return rewards, stats"
   ]
  },
  {
   "cell_type": "code",
   "execution_count": 31,
   "metadata": {},
   "outputs": [],
   "source": [
    "dt_sampler = ConstantSampler(dt=0.05)\n",
    "env = PendulumEnv(\n",
    "    dt_sampler=dt_sampler\n",
    ")\n",
    "mpc_dt_sampler = ConstantSampler(dt=0.05)\n",
    "agent_key, key = jax.random.split(key)\n",
    "neural_ode_name = \"pendulum_true_dynamics\"\n",
    "neural_ode_kwargs = {\n",
    "    \"ode_dt0\": 0.05,\n",
    "}\n",
    "optimizer_name = \"adamw\"\n",
    "optimizer_kwargs = {\"learning_rate\": 1e-3}\n",
    "mb_agent = ODEAgent(\n",
    "    env=env,\n",
    "    key=agent_key,\n",
    "    neural_ode_name=neural_ode_name,\n",
    "    neural_ode_kwargs=neural_ode_kwargs,\n",
    "    optimizer_name=optimizer_name,\n",
    "    optimizer_kwargs=optimizer_kwargs,\n",
    "    ensemble_size=1,\n",
    "    train_discount=1,\n",
    "    mpc_horizon_steps=20,\n",
    "    mpc_dt_sampler=mpc_dt_sampler,\n",
    "    mpc_strategy=\"random\",\n",
    "    mpc_discount=0.95,\n",
    "    mpc_num_action_sequences=1000,\n",
    "    cem_num_iters=4,\n",
    "    cem_num_elites=5,\n",
    "    cem_alpha=1,\n",
    ")"
   ]
  },
  {
   "cell_type": "code",
   "execution_count": 32,
   "metadata": {},
   "outputs": [
    {
     "name": "stderr",
     "output_type": "stream",
     "text": [
      "  0%|          | 0/10 [00:00<?, ?it/s]"
     ]
    },
    {
     "name": "stderr",
     "output_type": "stream",
     "text": [
      "100%|██████████| 10/10 [00:49<00:00,  4.91s/it]"
     ]
    },
    {
     "name": "stdout",
     "output_type": "stream",
     "text": [
      "mean -233.85083\n",
      "std 175.69994\n",
      "min -517.0528\n",
      "max -1.2110192\n"
     ]
    },
    {
     "name": "stderr",
     "output_type": "stream",
     "text": [
      "\n"
     ]
    },
    {
     "data": {
      "text/plain": [
       "([-395.7526,\n",
       "  -517.0528,\n",
       "  -1.2110192,\n",
       "  -126.892845,\n",
       "  -128.19254,\n",
       "  -124.62144,\n",
       "  -1.396589,\n",
       "  -236.36182,\n",
       "  -371.72375,\n",
       "  -435.30276],\n",
       " {'mean': -233.85083, 'std': 175.69994, 'min': -517.0528, 'max': -1.2110192})"
      ]
     },
     "execution_count": 32,
     "metadata": {},
     "output_type": "execute_result"
    },
    {
     "data": {
      "image/png": "[encoded data removed]",
      "text/plain": [
       "<Figure size 640x480 with 1 Axes>"
      ]
     },
     "metadata": {},
     "output_type": "display_data"
    }
   ],
   "source": [
    "test_true_dynamics_agent(mb_agent, ntraj=10, plot=True)"
   ]
  },
  {
   "cell_type": "code",
   "execution_count": 9,
   "metadata": {},
   "outputs": [
    {
     "name": "stderr",
     "output_type": "stream",
     "text": [
      "Failed to detect the name of this notebook, you can set it manually with the WANDB_NOTEBOOK_NAME environment variable to enable code saving.\n",
      "/home/zekai/miniconda3/envs/cs285_proj/lib/python3.9/site-packages/ipywidgets/widgets/widget.py:528: DeprecationWarning: The `ipykernel.comm.Comm` class has been deprecated. Please use the `comm` module instead.For creating comms, use the function `from comm import create_comm`.\n",
      "  self.comm = Comm(**args)\n",
      "\u001b[34m\u001b[1mwandb\u001b[0m: Currently logged in as: \u001b[33mzekai-wang\u001b[0m. Use \u001b[1m`wandb login --relogin`\u001b[0m to force relogin\n",
      "/home/zekai/miniconda3/envs/cs285_proj/lib/python3.9/site-packages/wandb/sdk/lib/ipython.py:77: DeprecationWarning: Importing display from IPython.core.display is deprecated since IPython 7.14, please import from IPython display\n",
      "  from IPython.core.display import HTML, display  # type: ignore\n"
     ]
    },
    {
     "data": {
      "text/html": [
       "Tracking run with wandb version 0.16.1"
      ],
      "text/plain": [
       "<IPython.core.display.HTML object>"
      ]
     },
     "metadata": {},
     "output_type": "display_data"
    },
    {
     "data": {
      "text/html": [
       "Run data is saved locally in <code>/home/zekai/repos/cs285_proj/notebooks/wandb/run-20231209_234507-wxstz200</code>"
      ],
      "text/plain": [
       "<IPython.core.display.HTML object>"
      ]
     },
     "metadata": {},
     "output_type": "display_data"
    },
    {
     "data": {
      "text/html": [
       "Syncing run <strong><a href='https://wandb.ai/zekai-wang/cs285_proj-notebooks/runs/wxstz200' target=\"_blank\">trim-lion-4</a></strong> to <a href='https://wandb.ai/zekai-wang/cs285_proj-notebooks' target=\"_blank\">Weights & Biases</a> (<a href='https://wandb.me/run' target=\"_blank\">docs</a>)<br/>"
      ],
      "text/plain": [
       "<IPython.core.display.HTML object>"
      ]
     },
     "metadata": {},
     "output_type": "display_data"
    },
    {
     "data": {
      "text/html": [
       " View project at <a href='https://wandb.ai/zekai-wang/cs285_proj-notebooks' target=\"_blank\">https://wandb.ai/zekai-wang/cs285_proj-notebooks</a>"
      ],
      "text/plain": [
       "<IPython.core.display.HTML object>"
      ]
     },
     "metadata": {},
     "output_type": "display_data"
    },
    {
     "data": {
      "text/html": [
       " View run at <a href='https://wandb.ai/zekai-wang/cs285_proj-notebooks/runs/wxstz200' target=\"_blank\">https://wandb.ai/zekai-wang/cs285_proj-notebooks/runs/wxstz200</a>"
      ],
      "text/plain": [
       "<IPython.core.display.HTML object>"
      ]
     },
     "metadata": {},
     "output_type": "display_data"
    },
    {
     "data": {
      "text/html": [
       "<button onClick=\"this.nextSibling.style.display='block';this.style.display='none';\">Display W&B run</button><iframe src='https://wandb.ai/zekai-wang/cs285_proj-notebooks/runs/wxstz200?jupyter=true' style='border:none;width:100%;height:420px;display:none;'></iframe>"
      ],
      "text/plain": [
       "<wandb.sdk.wandb_run.Run at 0x7f82307fbdf0>"
      ]
     },
     "execution_count": 9,
     "metadata": {},
     "output_type": "execute_result"
    }
   ],
   "source": [
    "wandb.init()"
   ]
  },
  {
   "cell_type": "code",
   "execution_count": 11,
   "metadata": {},
   "outputs": [
    {
     "name": "stdout",
     "output_type": "stream",
     "text": [
      "{'method': 'random',\n",
      " 'metric': {'goal': 'maximize', 'name': 'mean'},\n",
      " 'parameters': {'cem_alpha': {'values': [1.0, 0.99, 0.95, 0.9, 0.8, 0.5]},\n",
      "                'cem_num_elites': {'values': [1, 2, 4, 8, 16, 32, 64]},\n",
      "                'cem_num_iters': {'values': [2, 4, 8, 16]},\n",
      "                'mpc_discount': {'values': [1.0, 0.99, 0.95, 0.9, 0.8, 0.5]},\n",
      "                'mpc_horizon_steps': {'values': [1,\n",
      "                                                 2,\n",
      "                                                 5,\n",
      "                                                 10,\n",
      "                                                 20,\n",
      "                                                 50,\n",
      "                                                 100,\n",
      "                                                 200]},\n",
      "                'mpc_num_action_sequences': {'values': [100,\n",
      "                                                        200,\n",
      "                                                        500,\n",
      "                                                        1000,\n",
      "                                                        2000,\n",
      "                                                        5000]},\n",
      "                'mpc_strategy': {'values': ['random', 'cem']}}}\n"
     ]
    }
   ],
   "source": [
    "sweep_config = {\n",
    "    'method': 'random'\n",
    "    }\n",
    "metric = {\n",
    "    'name': 'mean',\n",
    "    'goal': 'maximize'   \n",
    "    }\n",
    "\n",
    "sweep_config['metric'] = metric\n",
    "\n",
    "parameters_dict = {\n",
    "    'mpc_horizon_steps': {\n",
    "        'values': [1, 2, 5, 10, 20, 50, 100, 200]\n",
    "        },\n",
    "    'mpc_discount': {\n",
    "        'values': [1.0, 0.99, 0.95, 0.9, 0.8, 0.5]\n",
    "        },\n",
    "    \"mpc_num_action_sequences\": {\n",
    "        'values': [100, 200, 500, 1000, 2000, 5000]\n",
    "        },\n",
    "    'mpc_strategy': {\n",
    "        'values': [\"random\", \"cem\"]\n",
    "        },\n",
    "    'cem_num_iters': {\n",
    "        'values': [2, 4, 8, 16],\n",
    "        },\n",
    "    'cem_num_elites': {\n",
    "        'values': [1, 2, 4, 8, 16, 32, 64],\n",
    "        },\n",
    "    'cem_alpha': {\n",
    "        'values': [1.0, 0.99, 0.95, 0.9, 0.8, 0.5],\n",
    "        },\n",
    "    }\n",
    "\n",
    "sweep_config['parameters'] = parameters_dict\n",
    "pprint.pprint(sweep_config)\n"
   ]
  },
  {
   "cell_type": "code",
   "execution_count": 12,
   "metadata": {},
   "outputs": [
    {
     "name": "stdout",
     "output_type": "stream",
     "text": [
      "Create sweep with ID: ok4muk7m\n",
      "Sweep URL: https://wandb.ai/zekai-wang/cs285_proj_get_action_true_dynamics_updated/sweeps/ok4muk7m\n"
     ]
    }
   ],
   "source": [
    "sweep_id = wandb.sweep(sweep_config, project=\"cs285_proj_get_action_true_dynamics_updated\")"
   ]
  },
  {
   "cell_type": "code",
   "execution_count": 13,
   "metadata": {},
   "outputs": [],
   "source": [
    "key = jax.random.PRNGKey(0)"
   ]
  },
  {
   "cell_type": "code",
   "execution_count": 14,
   "metadata": {},
   "outputs": [],
   "source": [
    "def evaluate(config=None):\n",
    "    with wandb.init(config=config):\n",
    "        config = wandb.config\n",
    "        dt_sampler = ConstantSampler(dt=0.05)\n",
    "        env = PendulumEnv(\n",
    "            dt_sampler=dt_sampler\n",
    "        )\n",
    "        mpc_dt_sampler = ConstantSampler(dt=0.05)\n",
    "        neural_ode_name = \"pendulum_true_dynamics\"\n",
    "        neural_ode_kwargs = {\n",
    "            \"ode_dt0\": 0.005,\n",
    "        }\n",
    "        optimizer_name = \"adamw\"\n",
    "        optimizer_kwargs = {\"learning_rate\": 1e-3}\n",
    "        agent = ODEAgent(\n",
    "            env=env,\n",
    "            key=key,\n",
    "            neural_ode_name=neural_ode_name,\n",
    "            neural_ode_kwargs=neural_ode_kwargs,\n",
    "            optimizer_name=optimizer_name,\n",
    "            optimizer_kwargs=optimizer_kwargs,\n",
    "            ensemble_size=1,\n",
    "            train_discount=1,\n",
    "            mpc_horizon_steps=config.mpc_horizon_steps,\n",
    "            mpc_dt_sampler=mpc_dt_sampler,\n",
    "            mpc_strategy=config.mpc_strategy,\n",
    "            mpc_discount=config.mpc_discount,\n",
    "            mpc_num_action_sequences=config.mpc_num_action_sequences,\n",
    "            cem_num_iters=config.cem_num_iters,\n",
    "            cem_num_elites=config.cem_num_elites,\n",
    "            cem_alpha=config.cem_alpha,\n",
    "        )\n",
    "        rewards, stats = test_true_dynamics_agent(agent, ntraj=10)\n",
    "        wandb.log({\"rewards\": rewards,\n",
    "                   \"min\": stats[\"min\"],\n",
    "                   \"max\": stats[\"max\"],\n",
    "                   \"mean\": stats[\"mean\"],\n",
    "                   \"std\": stats[\"std\"],})\n"
   ]
  },
  {
   "cell_type": "code",
   "execution_count": 15,
   "metadata": {},
   "outputs": [
    {
     "name": "stderr",
     "output_type": "stream",
     "text": [
      "\u001b[34m\u001b[1mwandb\u001b[0m: \u001b[33mWARNING\u001b[0m Calling wandb.login() after wandb.init() has no effect.\n",
      "wandb: WARNING Source type is set to 'repo' but some required information is missing from the environment. A job will not be created from this run. See https://docs.wandb.ai/guides/launch/create-job\n"
     ]
    },
    {
     "name": "stdout",
     "output_type": "stream",
     "text": [
      "<IPython.core.display.HTML object>\n",
      "<IPython.core.display.HTML object>\n"
     ]
    },
    {
     "name": "stderr",
     "output_type": "stream",
     "text": [
      "\u001b[34m\u001b[1mwandb\u001b[0m: Agent Starting Run: 48p88t7v with config:\n",
      "\u001b[34m\u001b[1mwandb\u001b[0m: \tcem_alpha: 0.99\n",
      "\u001b[34m\u001b[1mwandb\u001b[0m: \tcem_num_elites: 16\n",
      "\u001b[34m\u001b[1mwandb\u001b[0m: \tcem_num_iters: 8\n",
      "\u001b[34m\u001b[1mwandb\u001b[0m: \tmpc_discount: 0.99\n",
      "\u001b[34m\u001b[1mwandb\u001b[0m: \tmpc_horizon_steps: 100\n",
      "\u001b[34m\u001b[1mwandb\u001b[0m: \tmpc_num_action_sequences: 1000\n",
      "\u001b[34m\u001b[1mwandb\u001b[0m: \tmpc_strategy: random\n",
      "/home/zekai/miniconda3/envs/cs285_proj/lib/python3.9/site-packages/ipywidgets/widgets/widget.py:528: DeprecationWarning: The `ipykernel.comm.Comm` class has been deprecated. Please use the `comm` module instead.For creating comms, use the function `from comm import create_comm`.\n",
      "  self.comm = Comm(**args)\n",
      "/home/zekai/miniconda3/envs/cs285_proj/lib/python3.9/site-packages/wandb/sdk/lib/ipython.py:77: DeprecationWarning: Importing display from IPython.core.display is deprecated since IPython 7.14, please import from IPython display\n",
      "  from IPython.core.display import HTML, display  # type: ignore\n"
     ]
    },
    {
     "data": {
      "text/html": [
       "Tracking run with wandb version 0.16.1"
      ],
      "text/plain": [
       "<IPython.core.display.HTML object>"
      ]
     },
     "metadata": {},
     "output_type": "display_data"
    },
    {
     "data": {
      "text/html": [
       "Run data is saved locally in <code>/home/zekai/repos/cs285_proj/notebooks/wandb/run-20231209_234533-48p88t7v</code>"
      ],
      "text/plain": [
       "<IPython.core.display.HTML object>"
      ]
     },
     "metadata": {},
     "output_type": "display_data"
    },
    {
     "data": {
      "text/html": [
       "Syncing run <strong><a href='https://wandb.ai/zekai-wang/cs285_proj_get_action_true_dynamics_updated/runs/48p88t7v' target=\"_blank\">fluent-sweep-1</a></strong> to <a href='https://wandb.ai/zekai-wang/cs285_proj_get_action_true_dynamics_updated' target=\"_blank\">Weights & Biases</a> (<a href='https://wandb.me/run' target=\"_blank\">docs</a>)<br/>Sweep page: <a href='https://wandb.ai/zekai-wang/cs285_proj_get_action_true_dynamics_updated/sweeps/ok4muk7m' target=\"_blank\">https://wandb.ai/zekai-wang/cs285_proj_get_action_true_dynamics_updated/sweeps/ok4muk7m</a>"
      ],
      "text/plain": [
       "<IPython.core.display.HTML object>"
      ]
     },
     "metadata": {},
     "output_type": "display_data"
    },
    {
     "data": {
      "text/html": [
       " View project at <a href='https://wandb.ai/zekai-wang/cs285_proj_get_action_true_dynamics_updated' target=\"_blank\">https://wandb.ai/zekai-wang/cs285_proj_get_action_true_dynamics_updated</a>"
      ],
      "text/plain": [
       "<IPython.core.display.HTML object>"
      ]
     },
     "metadata": {},
     "output_type": "display_data"
    },
    {
     "data": {
      "text/html": [
       " View sweep at <a href='https://wandb.ai/zekai-wang/cs285_proj_get_action_true_dynamics_updated/sweeps/ok4muk7m' target=\"_blank\">https://wandb.ai/zekai-wang/cs285_proj_get_action_true_dynamics_updated/sweeps/ok4muk7m</a>"
      ],
      "text/plain": [
       "<IPython.core.display.HTML object>"
      ]
     },
     "metadata": {},
     "output_type": "display_data"
    },
    {
     "data": {
      "text/html": [
       " View run at <a href='https://wandb.ai/zekai-wang/cs285_proj_get_action_true_dynamics_updated/runs/48p88t7v' target=\"_blank\">https://wandb.ai/zekai-wang/cs285_proj_get_action_true_dynamics_updated/runs/48p88t7v</a>"
      ],
      "text/plain": [
       "<IPython.core.display.HTML object>"
      ]
     },
     "metadata": {},
     "output_type": "display_data"
    },
    {
     "name": "stderr",
     "output_type": "stream",
     "text": [
      " 20%|██        | 2/10 [00:03<00:14,  1.82s/it]Exception in thread ChkStopThr:\n",
      "Traceback (most recent call last):\n",
      "  File \"/home/zekai/miniconda3/envs/cs285_proj/lib/python3.9/threading.py\", line 980, in _bootstrap_inner\n",
      "    Exception in thread self.run()Exception in thread NetStatThr\n",
      "IntMsgThr:\n",
      "  File \"/home/zekai/miniconda3/envs/cs285_proj/lib/python3.9/threading.py\", line 917, in run\n",
      ":\n",
      "Traceback (most recent call last):\n",
      "Traceback (most recent call last):\n",
      "  File \"/home/zekai/miniconda3/envs/cs285_proj/lib/python3.9/threading.py\", line 980, in _bootstrap_inner\n",
      "  File \"/home/zekai/miniconda3/envs/cs285_proj/lib/python3.9/threading.py\", line 980, in _bootstrap_inner\n",
      "        self._target(*self._args, **self._kwargs)    self.run()\n",
      "self.run()\n",
      "  File \"/home/zekai/miniconda3/envs/cs285_proj/lib/python3.9/site-packages/wandb/sdk/wandb_run.py\", line 286, in check_stop_status\n",
      "\n",
      "  File \"/home/zekai/miniconda3/envs/cs285_proj/lib/python3.9/threading.py\", line 917, in run\n",
      "  File \"/home/zekai/miniconda3/envs/cs285_proj/lib/python3.9/threading.py\", line 917, in run\n",
      "        self._loop_check_status(    self._target(*self._args, **self._kwargs)\n",
      "self._target(*self._args, **self._kwargs)\n",
      "  File \"/home/zekai/miniconda3/envs/cs285_proj/lib/python3.9/site-packages/wandb/sdk/wandb_run.py\", line 224, in _loop_check_status\n",
      "\n",
      "  File \"/home/zekai/miniconda3/envs/cs285_proj/lib/python3.9/site-packages/wandb/sdk/wandb_run.py\", line 300, in check_internal_messages\n",
      "  File \"/home/zekai/miniconda3/envs/cs285_proj/lib/python3.9/site-packages/wandb/sdk/wandb_run.py\", line 268, in check_network_status\n",
      "    local_handle = request()\n",
      "  File \"/home/zekai/miniconda3/envs/cs285_proj/lib/python3.9/site-packages/wandb/sdk/interface/interface.py\", line 748, in deliver_stop_status\n",
      "    self._loop_check_status(    \n",
      "    self._loop_check_status(  File \"/home/zekai/miniconda3/envs/cs285_proj/lib/python3.9/site-packages/wandb/sdk/wandb_run.py\", line 224, in _loop_check_status\n",
      "return self._deliver_stop_status(status)\n",
      "    \n",
      "  File \"/home/zekai/miniconda3/envs/cs285_proj/lib/python3.9/site-packages/wandb/sdk/wandb_run.py\", line 224, in _loop_check_status\n",
      "local_handle = request()  File \"/home/zekai/miniconda3/envs/cs285_proj/lib/python3.9/site-packages/wandb/sdk/interface/interface_shared.py\", line 468, in _deliver_stop_status\n",
      "    \n",
      "local_handle = request()  File \"/home/zekai/miniconda3/envs/cs285_proj/lib/python3.9/site-packages/wandb/sdk/interface/interface.py\", line 764, in deliver_internal_messages\n",
      "\n",
      "  File \"/home/zekai/miniconda3/envs/cs285_proj/lib/python3.9/site-packages/wandb/sdk/interface/interface.py\", line 756, in deliver_network_status\n",
      "        return self._deliver_internal_messages(internal_message)    return self._deliver_record(record)\n",
      "return self._deliver_network_status(status)\n",
      "  File \"/home/zekai/miniconda3/envs/cs285_proj/lib/python3.9/site-packages/wandb/sdk/interface/interface_shared.py\", line 490, in _deliver_internal_messages\n",
      "\n",
      "  File \"/home/zekai/miniconda3/envs/cs285_proj/lib/python3.9/site-packages/wandb/sdk/interface/interface_shared.py\", line 437, in _deliver_record\n",
      "  File \"/home/zekai/miniconda3/envs/cs285_proj/lib/python3.9/site-packages/wandb/sdk/interface/interface_shared.py\", line 484, in _deliver_network_status\n",
      "            return self._deliver_record(record)handle = mailbox._deliver_record(record, interface=self)return self._deliver_record(record)\n",
      "\n",
      "\n",
      "  File \"/home/zekai/miniconda3/envs/cs285_proj/lib/python3.9/site-packages/wandb/sdk/interface/interface_shared.py\", line 437, in _deliver_record\n",
      "  File \"/home/zekai/miniconda3/envs/cs285_proj/lib/python3.9/site-packages/wandb/sdk/lib/mailbox.py\", line 455, in _deliver_record\n",
      "  File \"/home/zekai/miniconda3/envs/cs285_proj/lib/python3.9/site-packages/wandb/sdk/interface/interface_shared.py\", line 437, in _deliver_record\n",
      "        handle = mailbox._deliver_record(record, interface=self)interface._publish(record)\n",
      "\n",
      "      File \"/home/zekai/miniconda3/envs/cs285_proj/lib/python3.9/site-packages/wandb/sdk/lib/mailbox.py\", line 455, in _deliver_record\n",
      "  File \"/home/zekai/miniconda3/envs/cs285_proj/lib/python3.9/site-packages/wandb/sdk/interface/interface_sock.py\", line 51, in _publish\n",
      "handle = mailbox._deliver_record(record, interface=self)    \n",
      "interface._publish(record)  File \"/home/zekai/miniconda3/envs/cs285_proj/lib/python3.9/site-packages/wandb/sdk/lib/mailbox.py\", line 455, in _deliver_record\n",
      "\n",
      "      File \"/home/zekai/miniconda3/envs/cs285_proj/lib/python3.9/site-packages/wandb/sdk/interface/interface_sock.py\", line 51, in _publish\n",
      "    self._sock_client.send_record_publish(record)    interface._publish(record)\n",
      "self._sock_client.send_record_publish(record)\n",
      "  File \"/home/zekai/miniconda3/envs/cs285_proj/lib/python3.9/site-packages/wandb/sdk/lib/sock_client.py\", line 221, in send_record_publish\n",
      "\n",
      "  File \"/home/zekai/miniconda3/envs/cs285_proj/lib/python3.9/site-packages/wandb/sdk/interface/interface_sock.py\", line 51, in _publish\n",
      "  File \"/home/zekai/miniconda3/envs/cs285_proj/lib/python3.9/site-packages/wandb/sdk/lib/sock_client.py\", line 221, in send_record_publish\n",
      "        self.send_server_request(server_req)self._sock_client.send_record_publish(record)\n",
      "\n",
      "      File \"/home/zekai/miniconda3/envs/cs285_proj/lib/python3.9/site-packages/wandb/sdk/lib/sock_client.py\", line 155, in send_server_request\n",
      "  File \"/home/zekai/miniconda3/envs/cs285_proj/lib/python3.9/site-packages/wandb/sdk/lib/sock_client.py\", line 221, in send_record_publish\n",
      "self.send_server_request(server_req)    \n",
      "self.send_server_request(server_req)      File \"/home/zekai/miniconda3/envs/cs285_proj/lib/python3.9/site-packages/wandb/sdk/lib/sock_client.py\", line 155, in send_server_request\n",
      "\n",
      "self._send_message(msg)  File \"/home/zekai/miniconda3/envs/cs285_proj/lib/python3.9/site-packages/wandb/sdk/lib/sock_client.py\", line 155, in send_server_request\n",
      "\n",
      "          File \"/home/zekai/miniconda3/envs/cs285_proj/lib/python3.9/site-packages/wandb/sdk/lib/sock_client.py\", line 152, in _send_message\n",
      "self._send_message(msg)self._send_message(msg)\n",
      "\n",
      "  File \"/home/zekai/miniconda3/envs/cs285_proj/lib/python3.9/site-packages/wandb/sdk/lib/sock_client.py\", line 152, in _send_message\n",
      "  File \"/home/zekai/miniconda3/envs/cs285_proj/lib/python3.9/site-packages/wandb/sdk/lib/sock_client.py\", line 152, in _send_message\n",
      "            self._sendall_with_error_handle(header + data)self._sendall_with_error_handle(header + data)self._sendall_with_error_handle(header + data)\n",
      "\n",
      "\n",
      "  File \"/home/zekai/miniconda3/envs/cs285_proj/lib/python3.9/site-packages/wandb/sdk/lib/sock_client.py\", line 130, in _sendall_with_error_handle\n",
      "  File \"/home/zekai/miniconda3/envs/cs285_proj/lib/python3.9/site-packages/wandb/sdk/lib/sock_client.py\", line 130, in _sendall_with_error_handle\n",
      "  File \"/home/zekai/miniconda3/envs/cs285_proj/lib/python3.9/site-packages/wandb/sdk/lib/sock_client.py\", line 130, in _sendall_with_error_handle\n",
      "        sent = self._sock.send(data)sent = self._sock.send(data)\n",
      "\n",
      "BrokenPipeErrorBrokenPipeError    : : sent = self._sock.send(data)[Errno 32] Broken pipe[Errno 32] Broken pipe\n",
      "\n",
      "\n",
      "BrokenPipeError: [Errno 32] Broken pipe\n",
      "100%|██████████| 10/10 [00:16<00:00,  1.68s/it]\n"
     ]
    },
    {
     "name": "stdout",
     "output_type": "stream",
     "text": [
      "mean -1368.8225\n",
      "std 272.99777\n",
      "min -1751.8207\n",
      "max -885.83936\n"
     ]
    },
    {
     "name": "stderr",
     "output_type": "stream",
     "text": [
      "/home/zekai/miniconda3/envs/cs285_proj/lib/python3.9/site-packages/wandb/sdk/lib/ipython.py:89: DeprecationWarning: Importing display from IPython.core.display is deprecated since IPython 7.14, please import from IPython display\n",
      "  from IPython.core.display import display\n"
     ]
    },
    {
     "data": {
      "application/vnd.jupyter.widget-view+json": {
       "model_id": "c9f5b72b627e47bfb0f484abdc90c57a",
       "version_major": 2,
       "version_minor": 0
      },
      "text/plain": [
       "VBox(children=(Label(value='0.004 MB of 0.004 MB uploaded\\r'), FloatProgress(value=1.0, max=1.0)))"
      ]
     },
     "metadata": {},
     "output_type": "display_data"
    },
    {
     "data": {
      "text/html": [
       "<style>\n",
       "    table.wandb td:nth-child(1) { padding: 0 10px; text-align: left ; width: auto;} td:nth-child(2) {text-align: left ; width: 100%}\n",
       "    .wandb-row { display: flex; flex-direction: row; flex-wrap: wrap; justify-content: flex-start; width: 100% }\n",
       "    .wandb-col { display: flex; flex-direction: column; flex-basis: 100%; flex: 1; padding: 10px; }\n",
       "    </style>\n",
       "<div class=\"wandb-row\"><div class=\"wandb-col\"><h3>Run history:</h3><br/><table class=\"wandb\"><tr><td>max</td><td>▁</td></tr><tr><td>mean</td><td>▁</td></tr><tr><td>min</td><td>▁</td></tr><tr><td>std</td><td>▁</td></tr></table><br/></div><div class=\"wandb-col\"><h3>Run summary:</h3><br/><table class=\"wandb\"><tr><td>max</td><td>-885.83936</td></tr><tr><td>mean</td><td>-1368.82251</td></tr><tr><td>min</td><td>-1751.82068</td></tr><tr><td>std</td><td>272.99777</td></tr></table><br/></div></div>"
      ],
      "text/plain": [
       "<IPython.core.display.HTML object>"
      ]
     },
     "metadata": {},
     "output_type": "display_data"
    },
    {
     "data": {
      "text/html": [
       " View run <strong style=\"color:#cdcd00\">fluent-sweep-1</strong> at: <a href='https://wandb.ai/zekai-wang/cs285_proj_get_action_true_dynamics_updated/runs/48p88t7v' target=\"_blank\">https://wandb.ai/zekai-wang/cs285_proj_get_action_true_dynamics_updated/runs/48p88t7v</a><br/>Synced 6 W&B file(s), 0 media file(s), 0 artifact file(s) and 0 other file(s)"
      ],
      "text/plain": [
       "<IPython.core.display.HTML object>"
      ]
     },
     "metadata": {},
     "output_type": "display_data"
    },
    {
     "data": {
      "text/html": [
       "Find logs at: <code>./wandb/run-20231209_234533-48p88t7v/logs</code>"
      ],
      "text/plain": [
       "<IPython.core.display.HTML object>"
      ]
     },
     "metadata": {},
     "output_type": "display_data"
    },
    {
     "name": "stderr",
     "output_type": "stream",
     "text": [
      "\u001b[34m\u001b[1mwandb\u001b[0m: Agent Starting Run: cm3jkz4i with config:\n",
      "\u001b[34m\u001b[1mwandb\u001b[0m: \tcem_alpha: 0.5\n",
      "\u001b[34m\u001b[1mwandb\u001b[0m: \tcem_num_elites: 64\n",
      "\u001b[34m\u001b[1mwandb\u001b[0m: \tcem_num_iters: 4\n",
      "\u001b[34m\u001b[1mwandb\u001b[0m: \tmpc_discount: 0.95\n",
      "\u001b[34m\u001b[1mwandb\u001b[0m: \tmpc_horizon_steps: 100\n",
      "\u001b[34m\u001b[1mwandb\u001b[0m: \tmpc_num_action_sequences: 100\n",
      "\u001b[34m\u001b[1mwandb\u001b[0m: \tmpc_strategy: cem\n",
      "/home/zekai/miniconda3/envs/cs285_proj/lib/python3.9/site-packages/ipywidgets/widgets/widget.py:528: DeprecationWarning: The `ipykernel.comm.Comm` class has been deprecated. Please use the `comm` module instead.For creating comms, use the function `from comm import create_comm`.\n",
      "  self.comm = Comm(**args)\n",
      "/home/zekai/miniconda3/envs/cs285_proj/lib/python3.9/site-packages/wandb/sdk/lib/ipython.py:77: DeprecationWarning: Importing display from IPython.core.display is deprecated since IPython 7.14, please import from IPython display\n",
      "  from IPython.core.display import HTML, display  # type: ignore\n"
     ]
    },
    {
     "data": {
      "text/html": [
       "Tracking run with wandb version 0.16.1"
      ],
      "text/plain": [
       "<IPython.core.display.HTML object>"
      ]
     },
     "metadata": {},
     "output_type": "display_data"
    },
    {
     "data": {
      "text/html": [
       "Run data is saved locally in <code>/home/zekai/repos/cs285_proj/notebooks/wandb/run-20231209_234603-cm3jkz4i</code>"
      ],
      "text/plain": [
       "<IPython.core.display.HTML object>"
      ]
     },
     "metadata": {},
     "output_type": "display_data"
    },
    {
     "data": {
      "text/html": [
       "Syncing run <strong><a href='https://wandb.ai/zekai-wang/cs285_proj_get_action_true_dynamics_updated/runs/cm3jkz4i' target=\"_blank\">driven-sweep-2</a></strong> to <a href='https://wandb.ai/zekai-wang/cs285_proj_get_action_true_dynamics_updated' target=\"_blank\">Weights & Biases</a> (<a href='https://wandb.me/run' target=\"_blank\">docs</a>)<br/>Sweep page: <a href='https://wandb.ai/zekai-wang/cs285_proj_get_action_true_dynamics_updated/sweeps/ok4muk7m' target=\"_blank\">https://wandb.ai/zekai-wang/cs285_proj_get_action_true_dynamics_updated/sweeps/ok4muk7m</a>"
      ],
      "text/plain": [
       "<IPython.core.display.HTML object>"
      ]
     },
     "metadata": {},
     "output_type": "display_data"
    },
    {
     "data": {
      "text/html": [
       " View project at <a href='https://wandb.ai/zekai-wang/cs285_proj_get_action_true_dynamics_updated' target=\"_blank\">https://wandb.ai/zekai-wang/cs285_proj_get_action_true_dynamics_updated</a>"
      ],
      "text/plain": [
       "<IPython.core.display.HTML object>"
      ]
     },
     "metadata": {},
     "output_type": "display_data"
    },
    {
     "data": {
      "text/html": [
       " View sweep at <a href='https://wandb.ai/zekai-wang/cs285_proj_get_action_true_dynamics_updated/sweeps/ok4muk7m' target=\"_blank\">https://wandb.ai/zekai-wang/cs285_proj_get_action_true_dynamics_updated/sweeps/ok4muk7m</a>"
      ],
      "text/plain": [
       "<IPython.core.display.HTML object>"
      ]
     },
     "metadata": {},
     "output_type": "display_data"
    },
    {
     "data": {
      "text/html": [
       " View run at <a href='https://wandb.ai/zekai-wang/cs285_proj_get_action_true_dynamics_updated/runs/cm3jkz4i' target=\"_blank\">https://wandb.ai/zekai-wang/cs285_proj_get_action_true_dynamics_updated/runs/cm3jkz4i</a>"
      ],
      "text/plain": [
       "<IPython.core.display.HTML object>"
      ]
     },
     "metadata": {},
     "output_type": "display_data"
    },
    {
     "name": "stderr",
     "output_type": "stream",
     "text": [
      "100%|██████████| 10/10 [00:16<00:00,  1.60s/it]\n"
     ]
    },
    {
     "name": "stdout",
     "output_type": "stream",
     "text": [
      "mean -1160.4425\n",
      "std 335.43506\n",
      "min -1671.1611\n",
      "max -632.54517\n"
     ]
    },
    {
     "data": {
      "application/vnd.jupyter.widget-view+json": {
       "model_id": "aa44f76a9fb54e6790f00241ad7be476",
       "version_major": 2,
       "version_minor": 0
      },
      "text/plain": [
       "VBox(children=(Label(value='0.004 MB of 0.004 MB uploaded\\r'), FloatProgress(value=1.0, max=1.0)))"
      ]
     },
     "metadata": {},
     "output_type": "display_data"
    },
    {
     "data": {
      "text/html": [
       "<style>\n",
       "    table.wandb td:nth-child(1) { padding: 0 10px; text-align: left ; width: auto;} td:nth-child(2) {text-align: left ; width: 100%}\n",
       "    .wandb-row { display: flex; flex-direction: row; flex-wrap: wrap; justify-content: flex-start; width: 100% }\n",
       "    .wandb-col { display: flex; flex-direction: column; flex-basis: 100%; flex: 1; padding: 10px; }\n",
       "    </style>\n",
       "<div class=\"wandb-row\"><div class=\"wandb-col\"><h3>Run history:</h3><br/><table class=\"wandb\"><tr><td>max</td><td>▁</td></tr><tr><td>mean</td><td>▁</td></tr><tr><td>min</td><td>▁</td></tr><tr><td>std</td><td>▁</td></tr></table><br/></div><div class=\"wandb-col\"><h3>Run summary:</h3><br/><table class=\"wandb\"><tr><td>max</td><td>-632.54517</td></tr><tr><td>mean</td><td>-1160.4425</td></tr><tr><td>min</td><td>-1671.16113</td></tr><tr><td>std</td><td>335.43506</td></tr></table><br/></div></div>"
      ],
      "text/plain": [
       "<IPython.core.display.HTML object>"
      ]
     },
     "metadata": {},
     "output_type": "display_data"
    },
    {
     "data": {
      "text/html": [
       " View run <strong style=\"color:#cdcd00\">driven-sweep-2</strong> at: <a href='https://wandb.ai/zekai-wang/cs285_proj_get_action_true_dynamics_updated/runs/cm3jkz4i' target=\"_blank\">https://wandb.ai/zekai-wang/cs285_proj_get_action_true_dynamics_updated/runs/cm3jkz4i</a><br/>Synced 6 W&B file(s), 0 media file(s), 0 artifact file(s) and 0 other file(s)"
      ],
      "text/plain": [
       "<IPython.core.display.HTML object>"
      ]
     },
     "metadata": {},
     "output_type": "display_data"
    },
    {
     "data": {
      "text/html": [
       "Find logs at: <code>./wandb/run-20231209_234603-cm3jkz4i/logs</code>"
      ],
      "text/plain": [
       "<IPython.core.display.HTML object>"
      ]
     },
     "metadata": {},
     "output_type": "display_data"
    },
    {
     "name": "stderr",
     "output_type": "stream",
     "text": [
      "\u001b[34m\u001b[1mwandb\u001b[0m: Agent Starting Run: x2x2t88s with config:\n",
      "\u001b[34m\u001b[1mwandb\u001b[0m: \tcem_alpha: 0.99\n",
      "\u001b[34m\u001b[1mwandb\u001b[0m: \tcem_num_elites: 8\n",
      "\u001b[34m\u001b[1mwandb\u001b[0m: \tcem_num_iters: 4\n",
      "\u001b[34m\u001b[1mwandb\u001b[0m: \tmpc_discount: 0.5\n",
      "\u001b[34m\u001b[1mwandb\u001b[0m: \tmpc_horizon_steps: 200\n",
      "\u001b[34m\u001b[1mwandb\u001b[0m: \tmpc_num_action_sequences: 500\n",
      "\u001b[34m\u001b[1mwandb\u001b[0m: \tmpc_strategy: random\n",
      "/home/zekai/miniconda3/envs/cs285_proj/lib/python3.9/site-packages/ipywidgets/widgets/widget.py:528: DeprecationWarning: The `ipykernel.comm.Comm` class has been deprecated. Please use the `comm` module instead.For creating comms, use the function `from comm import create_comm`.\n",
      "  self.comm = Comm(**args)\n",
      "/home/zekai/miniconda3/envs/cs285_proj/lib/python3.9/site-packages/wandb/sdk/lib/ipython.py:77: DeprecationWarning: Importing display from IPython.core.display is deprecated since IPython 7.14, please import from IPython display\n",
      "  from IPython.core.display import HTML, display  # type: ignore\n"
     ]
    },
    {
     "data": {
      "text/html": [
       "Tracking run with wandb version 0.16.1"
      ],
      "text/plain": [
       "<IPython.core.display.HTML object>"
      ]
     },
     "metadata": {},
     "output_type": "display_data"
    },
    {
     "data": {
      "text/html": [
       "Run data is saved locally in <code>/home/zekai/repos/cs285_proj/notebooks/wandb/run-20231209_234634-x2x2t88s</code>"
      ],
      "text/plain": [
       "<IPython.core.display.HTML object>"
      ]
     },
     "metadata": {},
     "output_type": "display_data"
    },
    {
     "data": {
      "text/html": [
       "Syncing run <strong><a href='https://wandb.ai/zekai-wang/cs285_proj_get_action_true_dynamics_updated/runs/x2x2t88s' target=\"_blank\">revived-sweep-3</a></strong> to <a href='https://wandb.ai/zekai-wang/cs285_proj_get_action_true_dynamics_updated' target=\"_blank\">Weights & Biases</a> (<a href='https://wandb.me/run' target=\"_blank\">docs</a>)<br/>Sweep page: <a href='https://wandb.ai/zekai-wang/cs285_proj_get_action_true_dynamics_updated/sweeps/ok4muk7m' target=\"_blank\">https://wandb.ai/zekai-wang/cs285_proj_get_action_true_dynamics_updated/sweeps/ok4muk7m</a>"
      ],
      "text/plain": [
       "<IPython.core.display.HTML object>"
      ]
     },
     "metadata": {},
     "output_type": "display_data"
    },
    {
     "data": {
      "text/html": [
       " View project at <a href='https://wandb.ai/zekai-wang/cs285_proj_get_action_true_dynamics_updated' target=\"_blank\">https://wandb.ai/zekai-wang/cs285_proj_get_action_true_dynamics_updated</a>"
      ],
      "text/plain": [
       "<IPython.core.display.HTML object>"
      ]
     },
     "metadata": {},
     "output_type": "display_data"
    },
    {
     "data": {
      "text/html": [
       " View sweep at <a href='https://wandb.ai/zekai-wang/cs285_proj_get_action_true_dynamics_updated/sweeps/ok4muk7m' target=\"_blank\">https://wandb.ai/zekai-wang/cs285_proj_get_action_true_dynamics_updated/sweeps/ok4muk7m</a>"
      ],
      "text/plain": [
       "<IPython.core.display.HTML object>"
      ]
     },
     "metadata": {},
     "output_type": "display_data"
    },
    {
     "data": {
      "text/html": [
       " View run at <a href='https://wandb.ai/zekai-wang/cs285_proj_get_action_true_dynamics_updated/runs/x2x2t88s' target=\"_blank\">https://wandb.ai/zekai-wang/cs285_proj_get_action_true_dynamics_updated/runs/x2x2t88s</a>"
      ],
      "text/plain": [
       "<IPython.core.display.HTML object>"
      ]
     },
     "metadata": {},
     "output_type": "display_data"
    },
    {
     "name": "stderr",
     "output_type": "stream",
     "text": [
      "100%|██████████| 10/10 [00:15<00:00,  1.53s/it]\n"
     ]
    },
    {
     "name": "stdout",
     "output_type": "stream",
     "text": [
      "mean -1172.1118\n",
      "std 236.20064\n",
      "min -1626.6975\n",
      "max -894.81177\n"
     ]
    },
    {
     "data": {
      "application/vnd.jupyter.widget-view+json": {
       "model_id": "221b5efe19ef4b69afc9bdefd4407399",
       "version_major": 2,
       "version_minor": 0
      },
      "text/plain": [
       "VBox(children=(Label(value='0.004 MB of 0.004 MB uploaded\\r'), FloatProgress(value=1.0, max=1.0)))"
      ]
     },
     "metadata": {},
     "output_type": "display_data"
    },
    {
     "data": {
      "text/html": [
       "<style>\n",
       "    table.wandb td:nth-child(1) { padding: 0 10px; text-align: left ; width: auto;} td:nth-child(2) {text-align: left ; width: 100%}\n",
       "    .wandb-row { display: flex; flex-direction: row; flex-wrap: wrap; justify-content: flex-start; width: 100% }\n",
       "    .wandb-col { display: flex; flex-direction: column; flex-basis: 100%; flex: 1; padding: 10px; }\n",
       "    </style>\n",
       "<div class=\"wandb-row\"><div class=\"wandb-col\"><h3>Run history:</h3><br/><table class=\"wandb\"><tr><td>max</td><td>▁</td></tr><tr><td>mean</td><td>▁</td></tr><tr><td>min</td><td>▁</td></tr><tr><td>std</td><td>▁</td></tr></table><br/></div><div class=\"wandb-col\"><h3>Run summary:</h3><br/><table class=\"wandb\"><tr><td>max</td><td>-894.81177</td></tr><tr><td>mean</td><td>-1172.11182</td></tr><tr><td>min</td><td>-1626.69751</td></tr><tr><td>std</td><td>236.20064</td></tr></table><br/></div></div>"
      ],
      "text/plain": [
       "<IPython.core.display.HTML object>"
      ]
     },
     "metadata": {},
     "output_type": "display_data"
    },
    {
     "data": {
      "text/html": [
       " View run <strong style=\"color:#cdcd00\">revived-sweep-3</strong> at: <a href='https://wandb.ai/zekai-wang/cs285_proj_get_action_true_dynamics_updated/runs/x2x2t88s' target=\"_blank\">https://wandb.ai/zekai-wang/cs285_proj_get_action_true_dynamics_updated/runs/x2x2t88s</a><br/>Synced 6 W&B file(s), 0 media file(s), 0 artifact file(s) and 0 other file(s)"
      ],
      "text/plain": [
       "<IPython.core.display.HTML object>"
      ]
     },
     "metadata": {},
     "output_type": "display_data"
    },
    {
     "data": {
      "text/html": [
       "Find logs at: <code>./wandb/run-20231209_234634-x2x2t88s/logs</code>"
      ],
      "text/plain": [
       "<IPython.core.display.HTML object>"
      ]
     },
     "metadata": {},
     "output_type": "display_data"
    },
    {
     "name": "stderr",
     "output_type": "stream",
     "text": [
      "\u001b[34m\u001b[1mwandb\u001b[0m: Agent Starting Run: 246837bm with config:\n",
      "\u001b[34m\u001b[1mwandb\u001b[0m: \tcem_alpha: 0.5\n",
      "\u001b[34m\u001b[1mwandb\u001b[0m: \tcem_num_elites: 1\n",
      "\u001b[34m\u001b[1mwandb\u001b[0m: \tcem_num_iters: 2\n",
      "\u001b[34m\u001b[1mwandb\u001b[0m: \tmpc_discount: 0.99\n",
      "\u001b[34m\u001b[1mwandb\u001b[0m: \tmpc_horizon_steps: 100\n",
      "\u001b[34m\u001b[1mwandb\u001b[0m: \tmpc_num_action_sequences: 5000\n",
      "\u001b[34m\u001b[1mwandb\u001b[0m: \tmpc_strategy: random\n",
      "/home/zekai/miniconda3/envs/cs285_proj/lib/python3.9/site-packages/ipywidgets/widgets/widget.py:528: DeprecationWarning: The `ipykernel.comm.Comm` class has been deprecated. Please use the `comm` module instead.For creating comms, use the function `from comm import create_comm`.\n",
      "  self.comm = Comm(**args)\n",
      "/home/zekai/miniconda3/envs/cs285_proj/lib/python3.9/site-packages/wandb/sdk/lib/ipython.py:77: DeprecationWarning: Importing display from IPython.core.display is deprecated since IPython 7.14, please import from IPython display\n",
      "  from IPython.core.display import HTML, display  # type: ignore\n"
     ]
    },
    {
     "data": {
      "text/html": [
       "Tracking run with wandb version 0.16.1"
      ],
      "text/plain": [
       "<IPython.core.display.HTML object>"
      ]
     },
     "metadata": {},
     "output_type": "display_data"
    },
    {
     "data": {
      "text/html": [
       "Run data is saved locally in <code>/home/zekai/repos/cs285_proj/notebooks/wandb/run-20231209_234659-246837bm</code>"
      ],
      "text/plain": [
       "<IPython.core.display.HTML object>"
      ]
     },
     "metadata": {},
     "output_type": "display_data"
    },
    {
     "data": {
      "text/html": [
       "Syncing run <strong><a href='https://wandb.ai/zekai-wang/cs285_proj_get_action_true_dynamics_updated/runs/246837bm' target=\"_blank\">leafy-sweep-4</a></strong> to <a href='https://wandb.ai/zekai-wang/cs285_proj_get_action_true_dynamics_updated' target=\"_blank\">Weights & Biases</a> (<a href='https://wandb.me/run' target=\"_blank\">docs</a>)<br/>Sweep page: <a href='https://wandb.ai/zekai-wang/cs285_proj_get_action_true_dynamics_updated/sweeps/ok4muk7m' target=\"_blank\">https://wandb.ai/zekai-wang/cs285_proj_get_action_true_dynamics_updated/sweeps/ok4muk7m</a>"
      ],
      "text/plain": [
       "<IPython.core.display.HTML object>"
      ]
     },
     "metadata": {},
     "output_type": "display_data"
    },
    {
     "data": {
      "text/html": [
       " View project at <a href='https://wandb.ai/zekai-wang/cs285_proj_get_action_true_dynamics_updated' target=\"_blank\">https://wandb.ai/zekai-wang/cs285_proj_get_action_true_dynamics_updated</a>"
      ],
      "text/plain": [
       "<IPython.core.display.HTML object>"
      ]
     },
     "metadata": {},
     "output_type": "display_data"
    },
    {
     "data": {
      "text/html": [
       " View sweep at <a href='https://wandb.ai/zekai-wang/cs285_proj_get_action_true_dynamics_updated/sweeps/ok4muk7m' target=\"_blank\">https://wandb.ai/zekai-wang/cs285_proj_get_action_true_dynamics_updated/sweeps/ok4muk7m</a>"
      ],
      "text/plain": [
       "<IPython.core.display.HTML object>"
      ]
     },
     "metadata": {},
     "output_type": "display_data"
    },
    {
     "data": {
      "text/html": [
       " View run at <a href='https://wandb.ai/zekai-wang/cs285_proj_get_action_true_dynamics_updated/runs/246837bm' target=\"_blank\">https://wandb.ai/zekai-wang/cs285_proj_get_action_true_dynamics_updated/runs/246837bm</a>"
      ],
      "text/plain": [
       "<IPython.core.display.HTML object>"
      ]
     },
     "metadata": {},
     "output_type": "display_data"
    },
    {
     "name": "stderr",
     "output_type": "stream",
     "text": [
      "100%|██████████| 10/10 [00:15<00:00,  1.51s/it]\n"
     ]
    },
    {
     "name": "stdout",
     "output_type": "stream",
     "text": [
      "mean -1319.9316\n",
      "std 278.18747\n",
      "min -1789.3433\n",
      "max -864.2131\n"
     ]
    },
    {
     "data": {
      "application/vnd.jupyter.widget-view+json": {
       "model_id": "750e4c2a4abe49b7bee149938f0f2bbd",
       "version_major": 2,
       "version_minor": 0
      },
      "text/plain": [
       "VBox(children=(Label(value='0.004 MB of 0.004 MB uploaded\\r'), FloatProgress(value=1.0, max=1.0)))"
      ]
     },
     "metadata": {},
     "output_type": "display_data"
    },
    {
     "data": {
      "text/html": [
       "<style>\n",
       "    table.wandb td:nth-child(1) { padding: 0 10px; text-align: left ; width: auto;} td:nth-child(2) {text-align: left ; width: 100%}\n",
       "    .wandb-row { display: flex; flex-direction: row; flex-wrap: wrap; justify-content: flex-start; width: 100% }\n",
       "    .wandb-col { display: flex; flex-direction: column; flex-basis: 100%; flex: 1; padding: 10px; }\n",
       "    </style>\n",
       "<div class=\"wandb-row\"><div class=\"wandb-col\"><h3>Run history:</h3><br/><table class=\"wandb\"><tr><td>max</td><td>▁</td></tr><tr><td>mean</td><td>▁</td></tr><tr><td>min</td><td>▁</td></tr><tr><td>std</td><td>▁</td></tr></table><br/></div><div class=\"wandb-col\"><h3>Run summary:</h3><br/><table class=\"wandb\"><tr><td>max</td><td>-864.21307</td></tr><tr><td>mean</td><td>-1319.93164</td></tr><tr><td>min</td><td>-1789.34326</td></tr><tr><td>std</td><td>278.18747</td></tr></table><br/></div></div>"
      ],
      "text/plain": [
       "<IPython.core.display.HTML object>"
      ]
     },
     "metadata": {},
     "output_type": "display_data"
    },
    {
     "data": {
      "text/html": [
       " View run <strong style=\"color:#cdcd00\">leafy-sweep-4</strong> at: <a href='https://wandb.ai/zekai-wang/cs285_proj_get_action_true_dynamics_updated/runs/246837bm' target=\"_blank\">https://wandb.ai/zekai-wang/cs285_proj_get_action_true_dynamics_updated/runs/246837bm</a><br/>Synced 6 W&B file(s), 0 media file(s), 0 artifact file(s) and 0 other file(s)"
      ],
      "text/plain": [
       "<IPython.core.display.HTML object>"
      ]
     },
     "metadata": {},
     "output_type": "display_data"
    },
    {
     "data": {
      "text/html": [
       "Find logs at: <code>./wandb/run-20231209_234659-246837bm/logs</code>"
      ],
      "text/plain": [
       "<IPython.core.display.HTML object>"
      ]
     },
     "metadata": {},
     "output_type": "display_data"
    },
    {
     "name": "stderr",
     "output_type": "stream",
     "text": [
      "\u001b[34m\u001b[1mwandb\u001b[0m: Agent Starting Run: jjlmrv48 with config:\n",
      "\u001b[34m\u001b[1mwandb\u001b[0m: \tcem_alpha: 0.99\n",
      "\u001b[34m\u001b[1mwandb\u001b[0m: \tcem_num_elites: 64\n",
      "\u001b[34m\u001b[1mwandb\u001b[0m: \tcem_num_iters: 16\n",
      "\u001b[34m\u001b[1mwandb\u001b[0m: \tmpc_discount: 1\n",
      "\u001b[34m\u001b[1mwandb\u001b[0m: \tmpc_horizon_steps: 2\n",
      "\u001b[34m\u001b[1mwandb\u001b[0m: \tmpc_num_action_sequences: 100\n",
      "\u001b[34m\u001b[1mwandb\u001b[0m: \tmpc_strategy: cem\n",
      "/home/zekai/miniconda3/envs/cs285_proj/lib/python3.9/site-packages/ipywidgets/widgets/widget.py:528: DeprecationWarning: The `ipykernel.comm.Comm` class has been deprecated. Please use the `comm` module instead.For creating comms, use the function `from comm import create_comm`.\n",
      "  self.comm = Comm(**args)\n",
      "/home/zekai/miniconda3/envs/cs285_proj/lib/python3.9/site-packages/wandb/sdk/lib/ipython.py:77: DeprecationWarning: Importing display from IPython.core.display is deprecated since IPython 7.14, please import from IPython display\n",
      "  from IPython.core.display import HTML, display  # type: ignore\n"
     ]
    },
    {
     "data": {
      "text/html": [
       "Tracking run with wandb version 0.16.1"
      ],
      "text/plain": [
       "<IPython.core.display.HTML object>"
      ]
     },
     "metadata": {},
     "output_type": "display_data"
    },
    {
     "data": {
      "text/html": [
       "Run data is saved locally in <code>/home/zekai/repos/cs285_proj/notebooks/wandb/run-20231209_234725-jjlmrv48</code>"
      ],
      "text/plain": [
       "<IPython.core.display.HTML object>"
      ]
     },
     "metadata": {},
     "output_type": "display_data"
    },
    {
     "data": {
      "text/html": [
       "Syncing run <strong><a href='https://wandb.ai/zekai-wang/cs285_proj_get_action_true_dynamics_updated/runs/jjlmrv48' target=\"_blank\">golden-sweep-5</a></strong> to <a href='https://wandb.ai/zekai-wang/cs285_proj_get_action_true_dynamics_updated' target=\"_blank\">Weights & Biases</a> (<a href='https://wandb.me/run' target=\"_blank\">docs</a>)<br/>Sweep page: <a href='https://wandb.ai/zekai-wang/cs285_proj_get_action_true_dynamics_updated/sweeps/ok4muk7m' target=\"_blank\">https://wandb.ai/zekai-wang/cs285_proj_get_action_true_dynamics_updated/sweeps/ok4muk7m</a>"
      ],
      "text/plain": [
       "<IPython.core.display.HTML object>"
      ]
     },
     "metadata": {},
     "output_type": "display_data"
    },
    {
     "data": {
      "text/html": [
       " View project at <a href='https://wandb.ai/zekai-wang/cs285_proj_get_action_true_dynamics_updated' target=\"_blank\">https://wandb.ai/zekai-wang/cs285_proj_get_action_true_dynamics_updated</a>"
      ],
      "text/plain": [
       "<IPython.core.display.HTML object>"
      ]
     },
     "metadata": {},
     "output_type": "display_data"
    },
    {
     "data": {
      "text/html": [
       " View sweep at <a href='https://wandb.ai/zekai-wang/cs285_proj_get_action_true_dynamics_updated/sweeps/ok4muk7m' target=\"_blank\">https://wandb.ai/zekai-wang/cs285_proj_get_action_true_dynamics_updated/sweeps/ok4muk7m</a>"
      ],
      "text/plain": [
       "<IPython.core.display.HTML object>"
      ]
     },
     "metadata": {},
     "output_type": "display_data"
    },
    {
     "data": {
      "text/html": [
       " View run at <a href='https://wandb.ai/zekai-wang/cs285_proj_get_action_true_dynamics_updated/runs/jjlmrv48' target=\"_blank\">https://wandb.ai/zekai-wang/cs285_proj_get_action_true_dynamics_updated/runs/jjlmrv48</a>"
      ],
      "text/plain": [
       "<IPython.core.display.HTML object>"
      ]
     },
     "metadata": {},
     "output_type": "display_data"
    },
    {
     "name": "stderr",
     "output_type": "stream",
     "text": [
      "100%|██████████| 10/10 [00:16<00:00,  1.70s/it]\n"
     ]
    },
    {
     "name": "stdout",
     "output_type": "stream",
     "text": [
      "mean -1253.3903\n",
      "std 305.25302\n",
      "min -1809.4779\n",
      "max -748.06274\n"
     ]
    },
    {
     "data": {
      "application/vnd.jupyter.widget-view+json": {
       "model_id": "60755a76f8b5431999078ee630206b87",
       "version_major": 2,
       "version_minor": 0
      },
      "text/plain": [
       "VBox(children=(Label(value='0.004 MB of 0.004 MB uploaded\\r'), FloatProgress(value=1.0, max=1.0)))"
      ]
     },
     "metadata": {},
     "output_type": "display_data"
    },
    {
     "data": {
      "text/html": [
       "<style>\n",
       "    table.wandb td:nth-child(1) { padding: 0 10px; text-align: left ; width: auto;} td:nth-child(2) {text-align: left ; width: 100%}\n",
       "    .wandb-row { display: flex; flex-direction: row; flex-wrap: wrap; justify-content: flex-start; width: 100% }\n",
       "    .wandb-col { display: flex; flex-direction: column; flex-basis: 100%; flex: 1; padding: 10px; }\n",
       "    </style>\n",
       "<div class=\"wandb-row\"><div class=\"wandb-col\"><h3>Run history:</h3><br/><table class=\"wandb\"><tr><td>max</td><td>▁</td></tr><tr><td>mean</td><td>▁</td></tr><tr><td>min</td><td>▁</td></tr><tr><td>std</td><td>▁</td></tr></table><br/></div><div class=\"wandb-col\"><h3>Run summary:</h3><br/><table class=\"wandb\"><tr><td>max</td><td>-748.06274</td></tr><tr><td>mean</td><td>-1253.39026</td></tr><tr><td>min</td><td>-1809.47791</td></tr><tr><td>std</td><td>305.25302</td></tr></table><br/></div></div>"
      ],
      "text/plain": [
       "<IPython.core.display.HTML object>"
      ]
     },
     "metadata": {},
     "output_type": "display_data"
    },
    {
     "data": {
      "text/html": [
       " View run <strong style=\"color:#cdcd00\">golden-sweep-5</strong> at: <a href='https://wandb.ai/zekai-wang/cs285_proj_get_action_true_dynamics_updated/runs/jjlmrv48' target=\"_blank\">https://wandb.ai/zekai-wang/cs285_proj_get_action_true_dynamics_updated/runs/jjlmrv48</a><br/>Synced 6 W&B file(s), 0 media file(s), 0 artifact file(s) and 0 other file(s)"
      ],
      "text/plain": [
       "<IPython.core.display.HTML object>"
      ]
     },
     "metadata": {},
     "output_type": "display_data"
    },
    {
     "data": {
      "text/html": [
       "Find logs at: <code>./wandb/run-20231209_234725-jjlmrv48/logs</code>"
      ],
      "text/plain": [
       "<IPython.core.display.HTML object>"
      ]
     },
     "metadata": {},
     "output_type": "display_data"
    },
    {
     "name": "stderr",
     "output_type": "stream",
     "text": [
      "\u001b[34m\u001b[1mwandb\u001b[0m: Agent Starting Run: l6j104ki with config:\n",
      "\u001b[34m\u001b[1mwandb\u001b[0m: \tcem_alpha: 0.5\n",
      "\u001b[34m\u001b[1mwandb\u001b[0m: \tcem_num_elites: 2\n",
      "\u001b[34m\u001b[1mwandb\u001b[0m: \tcem_num_iters: 4\n",
      "\u001b[34m\u001b[1mwandb\u001b[0m: \tmpc_discount: 0.9\n",
      "\u001b[34m\u001b[1mwandb\u001b[0m: \tmpc_horizon_steps: 10\n",
      "\u001b[34m\u001b[1mwandb\u001b[0m: \tmpc_num_action_sequences: 500\n",
      "\u001b[34m\u001b[1mwandb\u001b[0m: \tmpc_strategy: cem\n",
      "/home/zekai/miniconda3/envs/cs285_proj/lib/python3.9/site-packages/ipywidgets/widgets/widget.py:528: DeprecationWarning: The `ipykernel.comm.Comm` class has been deprecated. Please use the `comm` module instead.For creating comms, use the function `from comm import create_comm`.\n",
      "  self.comm = Comm(**args)\n",
      "/home/zekai/miniconda3/envs/cs285_proj/lib/python3.9/site-packages/wandb/sdk/lib/ipython.py:77: DeprecationWarning: Importing display from IPython.core.display is deprecated since IPython 7.14, please import from IPython display\n",
      "  from IPython.core.display import HTML, display  # type: ignore\n"
     ]
    },
    {
     "data": {
      "text/html": [
       "Tracking run with wandb version 0.16.1"
      ],
      "text/plain": [
       "<IPython.core.display.HTML object>"
      ]
     },
     "metadata": {},
     "output_type": "display_data"
    },
    {
     "data": {
      "text/html": [
       "Run data is saved locally in <code>/home/zekai/repos/cs285_proj/notebooks/wandb/run-20231209_234755-l6j104ki</code>"
      ],
      "text/plain": [
       "<IPython.core.display.HTML object>"
      ]
     },
     "metadata": {},
     "output_type": "display_data"
    },
    {
     "data": {
      "text/html": [
       "Syncing run <strong><a href='https://wandb.ai/zekai-wang/cs285_proj_get_action_true_dynamics_updated/runs/l6j104ki' target=\"_blank\">zany-sweep-6</a></strong> to <a href='https://wandb.ai/zekai-wang/cs285_proj_get_action_true_dynamics_updated' target=\"_blank\">Weights & Biases</a> (<a href='https://wandb.me/run' target=\"_blank\">docs</a>)<br/>Sweep page: <a href='https://wandb.ai/zekai-wang/cs285_proj_get_action_true_dynamics_updated/sweeps/ok4muk7m' target=\"_blank\">https://wandb.ai/zekai-wang/cs285_proj_get_action_true_dynamics_updated/sweeps/ok4muk7m</a>"
      ],
      "text/plain": [
       "<IPython.core.display.HTML object>"
      ]
     },
     "metadata": {},
     "output_type": "display_data"
    },
    {
     "data": {
      "text/html": [
       " View project at <a href='https://wandb.ai/zekai-wang/cs285_proj_get_action_true_dynamics_updated' target=\"_blank\">https://wandb.ai/zekai-wang/cs285_proj_get_action_true_dynamics_updated</a>"
      ],
      "text/plain": [
       "<IPython.core.display.HTML object>"
      ]
     },
     "metadata": {},
     "output_type": "display_data"
    },
    {
     "data": {
      "text/html": [
       " View sweep at <a href='https://wandb.ai/zekai-wang/cs285_proj_get_action_true_dynamics_updated/sweeps/ok4muk7m' target=\"_blank\">https://wandb.ai/zekai-wang/cs285_proj_get_action_true_dynamics_updated/sweeps/ok4muk7m</a>"
      ],
      "text/plain": [
       "<IPython.core.display.HTML object>"
      ]
     },
     "metadata": {},
     "output_type": "display_data"
    },
    {
     "data": {
      "text/html": [
       " View run at <a href='https://wandb.ai/zekai-wang/cs285_proj_get_action_true_dynamics_updated/runs/l6j104ki' target=\"_blank\">https://wandb.ai/zekai-wang/cs285_proj_get_action_true_dynamics_updated/runs/l6j104ki</a>"
      ],
      "text/plain": [
       "<IPython.core.display.HTML object>"
      ]
     },
     "metadata": {},
     "output_type": "display_data"
    },
    {
     "name": "stderr",
     "output_type": "stream",
     "text": [
      "100%|██████████| 10/10 [00:15<00:00,  1.57s/it]\n"
     ]
    },
    {
     "name": "stdout",
     "output_type": "stream",
     "text": [
      "mean -1380.198\n",
      "std 247.03847\n",
      "min -1728.9589\n",
      "max -1070.552\n"
     ]
    },
    {
     "data": {
      "application/vnd.jupyter.widget-view+json": {
       "model_id": "4704e71289d449e78bebc608e64aa95c",
       "version_major": 2,
       "version_minor": 0
      },
      "text/plain": [
       "VBox(children=(Label(value='0.004 MB of 0.004 MB uploaded\\r'), FloatProgress(value=1.0, max=1.0)))"
      ]
     },
     "metadata": {},
     "output_type": "display_data"
    },
    {
     "data": {
      "text/html": [
       "<style>\n",
       "    table.wandb td:nth-child(1) { padding: 0 10px; text-align: left ; width: auto;} td:nth-child(2) {text-align: left ; width: 100%}\n",
       "    .wandb-row { display: flex; flex-direction: row; flex-wrap: wrap; justify-content: flex-start; width: 100% }\n",
       "    .wandb-col { display: flex; flex-direction: column; flex-basis: 100%; flex: 1; padding: 10px; }\n",
       "    </style>\n",
       "<div class=\"wandb-row\"><div class=\"wandb-col\"><h3>Run history:</h3><br/><table class=\"wandb\"><tr><td>max</td><td>▁</td></tr><tr><td>mean</td><td>▁</td></tr><tr><td>min</td><td>▁</td></tr><tr><td>std</td><td>▁</td></tr></table><br/></div><div class=\"wandb-col\"><h3>Run summary:</h3><br/><table class=\"wandb\"><tr><td>max</td><td>-1070.552</td></tr><tr><td>mean</td><td>-1380.198</td></tr><tr><td>min</td><td>-1728.95886</td></tr><tr><td>std</td><td>247.03847</td></tr></table><br/></div></div>"
      ],
      "text/plain": [
       "<IPython.core.display.HTML object>"
      ]
     },
     "metadata": {},
     "output_type": "display_data"
    },
    {
     "data": {
      "text/html": [
       " View run <strong style=\"color:#cdcd00\">zany-sweep-6</strong> at: <a href='https://wandb.ai/zekai-wang/cs285_proj_get_action_true_dynamics_updated/runs/l6j104ki' target=\"_blank\">https://wandb.ai/zekai-wang/cs285_proj_get_action_true_dynamics_updated/runs/l6j104ki</a><br/>Synced 6 W&B file(s), 0 media file(s), 0 artifact file(s) and 0 other file(s)"
      ],
      "text/plain": [
       "<IPython.core.display.HTML object>"
      ]
     },
     "metadata": {},
     "output_type": "display_data"
    },
    {
     "data": {
      "text/html": [
       "Find logs at: <code>./wandb/run-20231209_234755-l6j104ki/logs</code>"
      ],
      "text/plain": [
       "<IPython.core.display.HTML object>"
      ]
     },
     "metadata": {},
     "output_type": "display_data"
    },
    {
     "name": "stderr",
     "output_type": "stream",
     "text": [
      "\u001b[34m\u001b[1mwandb\u001b[0m: Sweep Agent: Waiting for job.\n",
      "\u001b[34m\u001b[1mwandb\u001b[0m: Job received.\n",
      "\u001b[34m\u001b[1mwandb\u001b[0m: Agent Starting Run: dja2czbh with config:\n",
      "\u001b[34m\u001b[1mwandb\u001b[0m: \tcem_alpha: 0.9\n",
      "\u001b[34m\u001b[1mwandb\u001b[0m: \tcem_num_elites: 32\n",
      "\u001b[34m\u001b[1mwandb\u001b[0m: \tcem_num_iters: 16\n",
      "\u001b[34m\u001b[1mwandb\u001b[0m: \tmpc_discount: 0.5\n",
      "\u001b[34m\u001b[1mwandb\u001b[0m: \tmpc_horizon_steps: 1\n",
      "\u001b[34m\u001b[1mwandb\u001b[0m: \tmpc_num_action_sequences: 200\n",
      "\u001b[34m\u001b[1mwandb\u001b[0m: \tmpc_strategy: cem\n",
      "/home/zekai/miniconda3/envs/cs285_proj/lib/python3.9/site-packages/ipywidgets/widgets/widget.py:528: DeprecationWarning: The `ipykernel.comm.Comm` class has been deprecated. Please use the `comm` module instead.For creating comms, use the function `from comm import create_comm`.\n",
      "  self.comm = Comm(**args)\n",
      "/home/zekai/miniconda3/envs/cs285_proj/lib/python3.9/site-packages/wandb/sdk/lib/ipython.py:77: DeprecationWarning: Importing display from IPython.core.display is deprecated since IPython 7.14, please import from IPython display\n",
      "  from IPython.core.display import HTML, display  # type: ignore\n"
     ]
    },
    {
     "data": {
      "text/html": [
       "Tracking run with wandb version 0.16.1"
      ],
      "text/plain": [
       "<IPython.core.display.HTML object>"
      ]
     },
     "metadata": {},
     "output_type": "display_data"
    },
    {
     "data": {
      "text/html": [
       "Run data is saved locally in <code>/home/zekai/repos/cs285_proj/notebooks/wandb/run-20231209_234831-dja2czbh</code>"
      ],
      "text/plain": [
       "<IPython.core.display.HTML object>"
      ]
     },
     "metadata": {},
     "output_type": "display_data"
    },
    {
     "data": {
      "text/html": [
       "Syncing run <strong><a href='https://wandb.ai/zekai-wang/cs285_proj_get_action_true_dynamics_updated/runs/dja2czbh' target=\"_blank\">glowing-sweep-7</a></strong> to <a href='https://wandb.ai/zekai-wang/cs285_proj_get_action_true_dynamics_updated' target=\"_blank\">Weights & Biases</a> (<a href='https://wandb.me/run' target=\"_blank\">docs</a>)<br/>Sweep page: <a href='https://wandb.ai/zekai-wang/cs285_proj_get_action_true_dynamics_updated/sweeps/ok4muk7m' target=\"_blank\">https://wandb.ai/zekai-wang/cs285_proj_get_action_true_dynamics_updated/sweeps/ok4muk7m</a>"
      ],
      "text/plain": [
       "<IPython.core.display.HTML object>"
      ]
     },
     "metadata": {},
     "output_type": "display_data"
    },
    {
     "data": {
      "text/html": [
       " View project at <a href='https://wandb.ai/zekai-wang/cs285_proj_get_action_true_dynamics_updated' target=\"_blank\">https://wandb.ai/zekai-wang/cs285_proj_get_action_true_dynamics_updated</a>"
      ],
      "text/plain": [
       "<IPython.core.display.HTML object>"
      ]
     },
     "metadata": {},
     "output_type": "display_data"
    },
    {
     "data": {
      "text/html": [
       " View sweep at <a href='https://wandb.ai/zekai-wang/cs285_proj_get_action_true_dynamics_updated/sweeps/ok4muk7m' target=\"_blank\">https://wandb.ai/zekai-wang/cs285_proj_get_action_true_dynamics_updated/sweeps/ok4muk7m</a>"
      ],
      "text/plain": [
       "<IPython.core.display.HTML object>"
      ]
     },
     "metadata": {},
     "output_type": "display_data"
    },
    {
     "data": {
      "text/html": [
       " View run at <a href='https://wandb.ai/zekai-wang/cs285_proj_get_action_true_dynamics_updated/runs/dja2czbh' target=\"_blank\">https://wandb.ai/zekai-wang/cs285_proj_get_action_true_dynamics_updated/runs/dja2czbh</a>"
      ],
      "text/plain": [
       "<IPython.core.display.HTML object>"
      ]
     },
     "metadata": {},
     "output_type": "display_data"
    },
    {
     "name": "stderr",
     "output_type": "stream",
     "text": [
      "100%|██████████| 10/10 [00:17<00:00,  1.74s/it]\n"
     ]
    },
    {
     "name": "stdout",
     "output_type": "stream",
     "text": [
      "mean -1291.184\n",
      "std 349.06216\n",
      "min -1796.3738\n",
      "max -760.8245\n"
     ]
    },
    {
     "data": {
      "application/vnd.jupyter.widget-view+json": {
       "model_id": "f1c6cccf1fe04325aafd15bda17a55cd",
       "version_major": 2,
       "version_minor": 0
      },
      "text/plain": [
       "VBox(children=(Label(value='0.004 MB of 0.004 MB uploaded\\r'), FloatProgress(value=1.0, max=1.0)))"
      ]
     },
     "metadata": {},
     "output_type": "display_data"
    },
    {
     "data": {
      "text/html": [
       "<style>\n",
       "    table.wandb td:nth-child(1) { padding: 0 10px; text-align: left ; width: auto;} td:nth-child(2) {text-align: left ; width: 100%}\n",
       "    .wandb-row { display: flex; flex-direction: row; flex-wrap: wrap; justify-content: flex-start; width: 100% }\n",
       "    .wandb-col { display: flex; flex-direction: column; flex-basis: 100%; flex: 1; padding: 10px; }\n",
       "    </style>\n",
       "<div class=\"wandb-row\"><div class=\"wandb-col\"><h3>Run history:</h3><br/><table class=\"wandb\"><tr><td>max</td><td>▁</td></tr><tr><td>mean</td><td>▁</td></tr><tr><td>min</td><td>▁</td></tr><tr><td>std</td><td>▁</td></tr></table><br/></div><div class=\"wandb-col\"><h3>Run summary:</h3><br/><table class=\"wandb\"><tr><td>max</td><td>-760.82452</td></tr><tr><td>mean</td><td>-1291.18396</td></tr><tr><td>min</td><td>-1796.37378</td></tr><tr><td>std</td><td>349.06216</td></tr></table><br/></div></div>"
      ],
      "text/plain": [
       "<IPython.core.display.HTML object>"
      ]
     },
     "metadata": {},
     "output_type": "display_data"
    },
    {
     "data": {
      "text/html": [
       " View run <strong style=\"color:#cdcd00\">glowing-sweep-7</strong> at: <a href='https://wandb.ai/zekai-wang/cs285_proj_get_action_true_dynamics_updated/runs/dja2czbh' target=\"_blank\">https://wandb.ai/zekai-wang/cs285_proj_get_action_true_dynamics_updated/runs/dja2czbh</a><br/>Synced 6 W&B file(s), 0 media file(s), 0 artifact file(s) and 0 other file(s)"
      ],
      "text/plain": [
       "<IPython.core.display.HTML object>"
      ]
     },
     "metadata": {},
     "output_type": "display_data"
    },
    {
     "data": {
      "text/html": [
       "Find logs at: <code>./wandb/run-20231209_234831-dja2czbh/logs</code>"
      ],
      "text/plain": [
       "<IPython.core.display.HTML object>"
      ]
     },
     "metadata": {},
     "output_type": "display_data"
    },
    {
     "name": "stderr",
     "output_type": "stream",
     "text": [
      "\u001b[34m\u001b[1mwandb\u001b[0m: Agent Starting Run: lk292qt6 with config:\n",
      "\u001b[34m\u001b[1mwandb\u001b[0m: \tcem_alpha: 1\n",
      "\u001b[34m\u001b[1mwandb\u001b[0m: \tcem_num_elites: 4\n",
      "\u001b[34m\u001b[1mwandb\u001b[0m: \tcem_num_iters: 8\n",
      "\u001b[34m\u001b[1mwandb\u001b[0m: \tmpc_discount: 1\n",
      "\u001b[34m\u001b[1mwandb\u001b[0m: \tmpc_horizon_steps: 50\n",
      "\u001b[34m\u001b[1mwandb\u001b[0m: \tmpc_num_action_sequences: 200\n",
      "\u001b[34m\u001b[1mwandb\u001b[0m: \tmpc_strategy: cem\n",
      "/home/zekai/miniconda3/envs/cs285_proj/lib/python3.9/site-packages/ipywidgets/widgets/widget.py:528: DeprecationWarning: The `ipykernel.comm.Comm` class has been deprecated. Please use the `comm` module instead.For creating comms, use the function `from comm import create_comm`.\n",
      "  self.comm = Comm(**args)\n",
      "/home/zekai/miniconda3/envs/cs285_proj/lib/python3.9/site-packages/wandb/sdk/lib/ipython.py:77: DeprecationWarning: Importing display from IPython.core.display is deprecated since IPython 7.14, please import from IPython display\n",
      "  from IPython.core.display import HTML, display  # type: ignore\n"
     ]
    },
    {
     "data": {
      "text/html": [
       "Tracking run with wandb version 0.16.1"
      ],
      "text/plain": [
       "<IPython.core.display.HTML object>"
      ]
     },
     "metadata": {},
     "output_type": "display_data"
    },
    {
     "data": {
      "text/html": [
       "Run data is saved locally in <code>/home/zekai/repos/cs285_proj/notebooks/wandb/run-20231209_234902-lk292qt6</code>"
      ],
      "text/plain": [
       "<IPython.core.display.HTML object>"
      ]
     },
     "metadata": {},
     "output_type": "display_data"
    },
    {
     "data": {
      "text/html": [
       "Syncing run <strong><a href='https://wandb.ai/zekai-wang/cs285_proj_get_action_true_dynamics_updated/runs/lk292qt6' target=\"_blank\">jumping-sweep-8</a></strong> to <a href='https://wandb.ai/zekai-wang/cs285_proj_get_action_true_dynamics_updated' target=\"_blank\">Weights & Biases</a> (<a href='https://wandb.me/run' target=\"_blank\">docs</a>)<br/>Sweep page: <a href='https://wandb.ai/zekai-wang/cs285_proj_get_action_true_dynamics_updated/sweeps/ok4muk7m' target=\"_blank\">https://wandb.ai/zekai-wang/cs285_proj_get_action_true_dynamics_updated/sweeps/ok4muk7m</a>"
      ],
      "text/plain": [
       "<IPython.core.display.HTML object>"
      ]
     },
     "metadata": {},
     "output_type": "display_data"
    },
    {
     "data": {
      "text/html": [
       " View project at <a href='https://wandb.ai/zekai-wang/cs285_proj_get_action_true_dynamics_updated' target=\"_blank\">https://wandb.ai/zekai-wang/cs285_proj_get_action_true_dynamics_updated</a>"
      ],
      "text/plain": [
       "<IPython.core.display.HTML object>"
      ]
     },
     "metadata": {},
     "output_type": "display_data"
    },
    {
     "data": {
      "text/html": [
       " View sweep at <a href='https://wandb.ai/zekai-wang/cs285_proj_get_action_true_dynamics_updated/sweeps/ok4muk7m' target=\"_blank\">https://wandb.ai/zekai-wang/cs285_proj_get_action_true_dynamics_updated/sweeps/ok4muk7m</a>"
      ],
      "text/plain": [
       "<IPython.core.display.HTML object>"
      ]
     },
     "metadata": {},
     "output_type": "display_data"
    },
    {
     "data": {
      "text/html": [
       " View run at <a href='https://wandb.ai/zekai-wang/cs285_proj_get_action_true_dynamics_updated/runs/lk292qt6' target=\"_blank\">https://wandb.ai/zekai-wang/cs285_proj_get_action_true_dynamics_updated/runs/lk292qt6</a>"
      ],
      "text/plain": [
       "<IPython.core.display.HTML object>"
      ]
     },
     "metadata": {},
     "output_type": "display_data"
    },
    {
     "name": "stderr",
     "output_type": "stream",
     "text": [
      "100%|██████████| 10/10 [00:16<00:00,  1.64s/it]\n"
     ]
    },
    {
     "name": "stdout",
     "output_type": "stream",
     "text": [
      "mean -1164.2888\n",
      "std 274.22797\n",
      "min -1634.7144\n",
      "max -770.15784\n"
     ]
    },
    {
     "data": {
      "application/vnd.jupyter.widget-view+json": {
       "model_id": "bdbfae2bed33467b9124672a8f83cf22",
       "version_major": 2,
       "version_minor": 0
      },
      "text/plain": [
       "VBox(children=(Label(value='0.004 MB of 0.004 MB uploaded\\r'), FloatProgress(value=1.0, max=1.0)))"
      ]
     },
     "metadata": {},
     "output_type": "display_data"
    },
    {
     "data": {
      "text/html": [
       "<style>\n",
       "    table.wandb td:nth-child(1) { padding: 0 10px; text-align: left ; width: auto;} td:nth-child(2) {text-align: left ; width: 100%}\n",
       "    .wandb-row { display: flex; flex-direction: row; flex-wrap: wrap; justify-content: flex-start; width: 100% }\n",
       "    .wandb-col { display: flex; flex-direction: column; flex-basis: 100%; flex: 1; padding: 10px; }\n",
       "    </style>\n",
       "<div class=\"wandb-row\"><div class=\"wandb-col\"><h3>Run history:</h3><br/><table class=\"wandb\"><tr><td>max</td><td>▁</td></tr><tr><td>mean</td><td>▁</td></tr><tr><td>min</td><td>▁</td></tr><tr><td>std</td><td>▁</td></tr></table><br/></div><div class=\"wandb-col\"><h3>Run summary:</h3><br/><table class=\"wandb\"><tr><td>max</td><td>-770.15784</td></tr><tr><td>mean</td><td>-1164.28882</td></tr><tr><td>min</td><td>-1634.71436</td></tr><tr><td>std</td><td>274.22797</td></tr></table><br/></div></div>"
      ],
      "text/plain": [
       "<IPython.core.display.HTML object>"
      ]
     },
     "metadata": {},
     "output_type": "display_data"
    },
    {
     "data": {
      "text/html": [
       " View run <strong style=\"color:#cdcd00\">jumping-sweep-8</strong> at: <a href='https://wandb.ai/zekai-wang/cs285_proj_get_action_true_dynamics_updated/runs/lk292qt6' target=\"_blank\">https://wandb.ai/zekai-wang/cs285_proj_get_action_true_dynamics_updated/runs/lk292qt6</a><br/>Synced 6 W&B file(s), 0 media file(s), 0 artifact file(s) and 0 other file(s)"
      ],
      "text/plain": [
       "<IPython.core.display.HTML object>"
      ]
     },
     "metadata": {},
     "output_type": "display_data"
    },
    {
     "data": {
      "text/html": [
       "Find logs at: <code>./wandb/run-20231209_234902-lk292qt6/logs</code>"
      ],
      "text/plain": [
       "<IPython.core.display.HTML object>"
      ]
     },
     "metadata": {},
     "output_type": "display_data"
    },
    {
     "name": "stderr",
     "output_type": "stream",
     "text": [
      "\u001b[34m\u001b[1mwandb\u001b[0m: Sweep Agent: Waiting for job.\n",
      "\u001b[34m\u001b[1mwandb\u001b[0m: Job received.\n",
      "\u001b[34m\u001b[1mwandb\u001b[0m: Agent Starting Run: 7vpjn5wt with config:\n",
      "\u001b[34m\u001b[1mwandb\u001b[0m: \tcem_alpha: 0.9\n",
      "\u001b[34m\u001b[1mwandb\u001b[0m: \tcem_num_elites: 2\n",
      "\u001b[34m\u001b[1mwandb\u001b[0m: \tcem_num_iters: 4\n",
      "\u001b[34m\u001b[1mwandb\u001b[0m: \tmpc_discount: 0.99\n",
      "\u001b[34m\u001b[1mwandb\u001b[0m: \tmpc_horizon_steps: 200\n",
      "\u001b[34m\u001b[1mwandb\u001b[0m: \tmpc_num_action_sequences: 200\n",
      "\u001b[34m\u001b[1mwandb\u001b[0m: \tmpc_strategy: cem\n",
      "/home/zekai/miniconda3/envs/cs285_proj/lib/python3.9/site-packages/ipywidgets/widgets/widget.py:528: DeprecationWarning: The `ipykernel.comm.Comm` class has been deprecated. Please use the `comm` module instead.For creating comms, use the function `from comm import create_comm`.\n",
      "  self.comm = Comm(**args)\n",
      "/home/zekai/miniconda3/envs/cs285_proj/lib/python3.9/site-packages/wandb/sdk/lib/ipython.py:77: DeprecationWarning: Importing display from IPython.core.display is deprecated since IPython 7.14, please import from IPython display\n",
      "  from IPython.core.display import HTML, display  # type: ignore\n"
     ]
    },
    {
     "data": {
      "text/html": [
       "Tracking run with wandb version 0.16.1"
      ],
      "text/plain": [
       "<IPython.core.display.HTML object>"
      ]
     },
     "metadata": {},
     "output_type": "display_data"
    },
    {
     "data": {
      "text/html": [
       "Run data is saved locally in <code>/home/zekai/repos/cs285_proj/notebooks/wandb/run-20231209_234938-7vpjn5wt</code>"
      ],
      "text/plain": [
       "<IPython.core.display.HTML object>"
      ]
     },
     "metadata": {},
     "output_type": "display_data"
    },
    {
     "data": {
      "text/html": [
       "Syncing run <strong><a href='https://wandb.ai/zekai-wang/cs285_proj_get_action_true_dynamics_updated/runs/7vpjn5wt' target=\"_blank\">tough-sweep-9</a></strong> to <a href='https://wandb.ai/zekai-wang/cs285_proj_get_action_true_dynamics_updated' target=\"_blank\">Weights & Biases</a> (<a href='https://wandb.me/run' target=\"_blank\">docs</a>)<br/>Sweep page: <a href='https://wandb.ai/zekai-wang/cs285_proj_get_action_true_dynamics_updated/sweeps/ok4muk7m' target=\"_blank\">https://wandb.ai/zekai-wang/cs285_proj_get_action_true_dynamics_updated/sweeps/ok4muk7m</a>"
      ],
      "text/plain": [
       "<IPython.core.display.HTML object>"
      ]
     },
     "metadata": {},
     "output_type": "display_data"
    },
    {
     "data": {
      "text/html": [
       " View project at <a href='https://wandb.ai/zekai-wang/cs285_proj_get_action_true_dynamics_updated' target=\"_blank\">https://wandb.ai/zekai-wang/cs285_proj_get_action_true_dynamics_updated</a>"
      ],
      "text/plain": [
       "<IPython.core.display.HTML object>"
      ]
     },
     "metadata": {},
     "output_type": "display_data"
    },
    {
     "data": {
      "text/html": [
       " View sweep at <a href='https://wandb.ai/zekai-wang/cs285_proj_get_action_true_dynamics_updated/sweeps/ok4muk7m' target=\"_blank\">https://wandb.ai/zekai-wang/cs285_proj_get_action_true_dynamics_updated/sweeps/ok4muk7m</a>"
      ],
      "text/plain": [
       "<IPython.core.display.HTML object>"
      ]
     },
     "metadata": {},
     "output_type": "display_data"
    },
    {
     "data": {
      "text/html": [
       " View run at <a href='https://wandb.ai/zekai-wang/cs285_proj_get_action_true_dynamics_updated/runs/7vpjn5wt' target=\"_blank\">https://wandb.ai/zekai-wang/cs285_proj_get_action_true_dynamics_updated/runs/7vpjn5wt</a>"
      ],
      "text/plain": [
       "<IPython.core.display.HTML object>"
      ]
     },
     "metadata": {},
     "output_type": "display_data"
    },
    {
     "name": "stderr",
     "output_type": "stream",
     "text": [
      "100%|██████████| 10/10 [00:15<00:00,  1.56s/it]\n"
     ]
    },
    {
     "name": "stdout",
     "output_type": "stream",
     "text": [
      "mean -1214.9603\n",
      "std 262.16977\n",
      "min -1682.6533\n",
      "max -875.84155\n"
     ]
    },
    {
     "data": {
      "application/vnd.jupyter.widget-view+json": {
       "model_id": "0b81faa01d01476fa2df75e3088b9353",
       "version_major": 2,
       "version_minor": 0
      },
      "text/plain": [
       "VBox(children=(Label(value='0.004 MB of 0.004 MB uploaded\\r'), FloatProgress(value=1.0, max=1.0)))"
      ]
     },
     "metadata": {},
     "output_type": "display_data"
    },
    {
     "data": {
      "text/html": [
       "<style>\n",
       "    table.wandb td:nth-child(1) { padding: 0 10px; text-align: left ; width: auto;} td:nth-child(2) {text-align: left ; width: 100%}\n",
       "    .wandb-row { display: flex; flex-direction: row; flex-wrap: wrap; justify-content: flex-start; width: 100% }\n",
       "    .wandb-col { display: flex; flex-direction: column; flex-basis: 100%; flex: 1; padding: 10px; }\n",
       "    </style>\n",
       "<div class=\"wandb-row\"><div class=\"wandb-col\"><h3>Run history:</h3><br/><table class=\"wandb\"><tr><td>max</td><td>▁</td></tr><tr><td>mean</td><td>▁</td></tr><tr><td>min</td><td>▁</td></tr><tr><td>std</td><td>▁</td></tr></table><br/></div><div class=\"wandb-col\"><h3>Run summary:</h3><br/><table class=\"wandb\"><tr><td>max</td><td>-875.84155</td></tr><tr><td>mean</td><td>-1214.96033</td></tr><tr><td>min</td><td>-1682.65332</td></tr><tr><td>std</td><td>262.16977</td></tr></table><br/></div></div>"
      ],
      "text/plain": [
       "<IPython.core.display.HTML object>"
      ]
     },
     "metadata": {},
     "output_type": "display_data"
    },
    {
     "data": {
      "text/html": [
       " View run <strong style=\"color:#cdcd00\">tough-sweep-9</strong> at: <a href='https://wandb.ai/zekai-wang/cs285_proj_get_action_true_dynamics_updated/runs/7vpjn5wt' target=\"_blank\">https://wandb.ai/zekai-wang/cs285_proj_get_action_true_dynamics_updated/runs/7vpjn5wt</a><br/>Synced 6 W&B file(s), 0 media file(s), 0 artifact file(s) and 0 other file(s)"
      ],
      "text/plain": [
       "<IPython.core.display.HTML object>"
      ]
     },
     "metadata": {},
     "output_type": "display_data"
    },
    {
     "data": {
      "text/html": [
       "Find logs at: <code>./wandb/run-20231209_234938-7vpjn5wt/logs</code>"
      ],
      "text/plain": [
       "<IPython.core.display.HTML object>"
      ]
     },
     "metadata": {},
     "output_type": "display_data"
    },
    {
     "name": "stderr",
     "output_type": "stream",
     "text": [
      "\u001b[34m\u001b[1mwandb\u001b[0m: Agent Starting Run: x6vrf7er with config:\n",
      "\u001b[34m\u001b[1mwandb\u001b[0m: \tcem_alpha: 0.5\n",
      "\u001b[34m\u001b[1mwandb\u001b[0m: \tcem_num_elites: 64\n",
      "\u001b[34m\u001b[1mwandb\u001b[0m: \tcem_num_iters: 2\n",
      "\u001b[34m\u001b[1mwandb\u001b[0m: \tmpc_discount: 1\n",
      "\u001b[34m\u001b[1mwandb\u001b[0m: \tmpc_horizon_steps: 5\n",
      "\u001b[34m\u001b[1mwandb\u001b[0m: \tmpc_num_action_sequences: 500\n",
      "\u001b[34m\u001b[1mwandb\u001b[0m: \tmpc_strategy: random\n",
      "/home/zekai/miniconda3/envs/cs285_proj/lib/python3.9/site-packages/ipywidgets/widgets/widget.py:528: DeprecationWarning: The `ipykernel.comm.Comm` class has been deprecated. Please use the `comm` module instead.For creating comms, use the function `from comm import create_comm`.\n",
      "  self.comm = Comm(**args)\n",
      "/home/zekai/miniconda3/envs/cs285_proj/lib/python3.9/site-packages/wandb/sdk/lib/ipython.py:77: DeprecationWarning: Importing display from IPython.core.display is deprecated since IPython 7.14, please import from IPython display\n",
      "  from IPython.core.display import HTML, display  # type: ignore\n"
     ]
    },
    {
     "data": {
      "text/html": [
       "Tracking run with wandb version 0.16.1"
      ],
      "text/plain": [
       "<IPython.core.display.HTML object>"
      ]
     },
     "metadata": {},
     "output_type": "display_data"
    },
    {
     "data": {
      "text/html": [
       "Run data is saved locally in <code>/home/zekai/repos/cs285_proj/notebooks/wandb/run-20231209_235003-x6vrf7er</code>"
      ],
      "text/plain": [
       "<IPython.core.display.HTML object>"
      ]
     },
     "metadata": {},
     "output_type": "display_data"
    },
    {
     "data": {
      "text/html": [
       "Syncing run <strong><a href='https://wandb.ai/zekai-wang/cs285_proj_get_action_true_dynamics_updated/runs/x6vrf7er' target=\"_blank\">different-sweep-10</a></strong> to <a href='https://wandb.ai/zekai-wang/cs285_proj_get_action_true_dynamics_updated' target=\"_blank\">Weights & Biases</a> (<a href='https://wandb.me/run' target=\"_blank\">docs</a>)<br/>Sweep page: <a href='https://wandb.ai/zekai-wang/cs285_proj_get_action_true_dynamics_updated/sweeps/ok4muk7m' target=\"_blank\">https://wandb.ai/zekai-wang/cs285_proj_get_action_true_dynamics_updated/sweeps/ok4muk7m</a>"
      ],
      "text/plain": [
       "<IPython.core.display.HTML object>"
      ]
     },
     "metadata": {},
     "output_type": "display_data"
    },
    {
     "data": {
      "text/html": [
       " View project at <a href='https://wandb.ai/zekai-wang/cs285_proj_get_action_true_dynamics_updated' target=\"_blank\">https://wandb.ai/zekai-wang/cs285_proj_get_action_true_dynamics_updated</a>"
      ],
      "text/plain": [
       "<IPython.core.display.HTML object>"
      ]
     },
     "metadata": {},
     "output_type": "display_data"
    },
    {
     "data": {
      "text/html": [
       " View sweep at <a href='https://wandb.ai/zekai-wang/cs285_proj_get_action_true_dynamics_updated/sweeps/ok4muk7m' target=\"_blank\">https://wandb.ai/zekai-wang/cs285_proj_get_action_true_dynamics_updated/sweeps/ok4muk7m</a>"
      ],
      "text/plain": [
       "<IPython.core.display.HTML object>"
      ]
     },
     "metadata": {},
     "output_type": "display_data"
    },
    {
     "data": {
      "text/html": [
       " View run at <a href='https://wandb.ai/zekai-wang/cs285_proj_get_action_true_dynamics_updated/runs/x6vrf7er' target=\"_blank\">https://wandb.ai/zekai-wang/cs285_proj_get_action_true_dynamics_updated/runs/x6vrf7er</a>"
      ],
      "text/plain": [
       "<IPython.core.display.HTML object>"
      ]
     },
     "metadata": {},
     "output_type": "display_data"
    },
    {
     "name": "stderr",
     "output_type": "stream",
     "text": [
      "100%|██████████| 10/10 [00:15<00:00,  1.57s/it]\n"
     ]
    },
    {
     "name": "stdout",
     "output_type": "stream",
     "text": [
      "mean -1289.3376\n",
      "std 307.50577\n",
      "min -1872.4172\n",
      "max -859.4885\n"
     ]
    },
    {
     "data": {
      "application/vnd.jupyter.widget-view+json": {
       "model_id": "580cdcea8d9a48fd87dc5619d8a421b4",
       "version_major": 2,
       "version_minor": 0
      },
      "text/plain": [
       "VBox(children=(Label(value='0.004 MB of 0.004 MB uploaded\\r'), FloatProgress(value=1.0, max=1.0)))"
      ]
     },
     "metadata": {},
     "output_type": "display_data"
    },
    {
     "data": {
      "text/html": [
       "<style>\n",
       "    table.wandb td:nth-child(1) { padding: 0 10px; text-align: left ; width: auto;} td:nth-child(2) {text-align: left ; width: 100%}\n",
       "    .wandb-row { display: flex; flex-direction: row; flex-wrap: wrap; justify-content: flex-start; width: 100% }\n",
       "    .wandb-col { display: flex; flex-direction: column; flex-basis: 100%; flex: 1; padding: 10px; }\n",
       "    </style>\n",
       "<div class=\"wandb-row\"><div class=\"wandb-col\"><h3>Run history:</h3><br/><table class=\"wandb\"><tr><td>max</td><td>▁</td></tr><tr><td>mean</td><td>▁</td></tr><tr><td>min</td><td>▁</td></tr><tr><td>std</td><td>▁</td></tr></table><br/></div><div class=\"wandb-col\"><h3>Run summary:</h3><br/><table class=\"wandb\"><tr><td>max</td><td>-859.48853</td></tr><tr><td>mean</td><td>-1289.33765</td></tr><tr><td>min</td><td>-1872.41724</td></tr><tr><td>std</td><td>307.50577</td></tr></table><br/></div></div>"
      ],
      "text/plain": [
       "<IPython.core.display.HTML object>"
      ]
     },
     "metadata": {},
     "output_type": "display_data"
    },
    {
     "data": {
      "text/html": [
       " View run <strong style=\"color:#cdcd00\">different-sweep-10</strong> at: <a href='https://wandb.ai/zekai-wang/cs285_proj_get_action_true_dynamics_updated/runs/x6vrf7er' target=\"_blank\">https://wandb.ai/zekai-wang/cs285_proj_get_action_true_dynamics_updated/runs/x6vrf7er</a><br/>Synced 6 W&B file(s), 0 media file(s), 0 artifact file(s) and 0 other file(s)"
      ],
      "text/plain": [
       "<IPython.core.display.HTML object>"
      ]
     },
     "metadata": {},
     "output_type": "display_data"
    },
    {
     "data": {
      "text/html": [
       "Find logs at: <code>./wandb/run-20231209_235003-x6vrf7er/logs</code>"
      ],
      "text/plain": [
       "<IPython.core.display.HTML object>"
      ]
     },
     "metadata": {},
     "output_type": "display_data"
    },
    {
     "name": "stderr",
     "output_type": "stream",
     "text": [
      "\u001b[34m\u001b[1mwandb\u001b[0m: Agent Starting Run: nuamm126 with config:\n",
      "\u001b[34m\u001b[1mwandb\u001b[0m: \tcem_alpha: 0.95\n",
      "\u001b[34m\u001b[1mwandb\u001b[0m: \tcem_num_elites: 4\n",
      "\u001b[34m\u001b[1mwandb\u001b[0m: \tcem_num_iters: 8\n",
      "\u001b[34m\u001b[1mwandb\u001b[0m: \tmpc_discount: 0.99\n",
      "\u001b[34m\u001b[1mwandb\u001b[0m: \tmpc_horizon_steps: 50\n",
      "\u001b[34m\u001b[1mwandb\u001b[0m: \tmpc_num_action_sequences: 5000\n",
      "\u001b[34m\u001b[1mwandb\u001b[0m: \tmpc_strategy: random\n",
      "/home/zekai/miniconda3/envs/cs285_proj/lib/python3.9/site-packages/ipywidgets/widgets/widget.py:528: DeprecationWarning: The `ipykernel.comm.Comm` class has been deprecated. Please use the `comm` module instead.For creating comms, use the function `from comm import create_comm`.\n",
      "  self.comm = Comm(**args)\n",
      "/home/zekai/miniconda3/envs/cs285_proj/lib/python3.9/site-packages/wandb/sdk/lib/ipython.py:77: DeprecationWarning: Importing display from IPython.core.display is deprecated since IPython 7.14, please import from IPython display\n",
      "  from IPython.core.display import HTML, display  # type: ignore\n"
     ]
    },
    {
     "data": {
      "text/html": [
       "Tracking run with wandb version 0.16.1"
      ],
      "text/plain": [
       "<IPython.core.display.HTML object>"
      ]
     },
     "metadata": {},
     "output_type": "display_data"
    },
    {
     "data": {
      "text/html": [
       "Run data is saved locally in <code>/home/zekai/repos/cs285_proj/notebooks/wandb/run-20231209_235033-nuamm126</code>"
      ],
      "text/plain": [
       "<IPython.core.display.HTML object>"
      ]
     },
     "metadata": {},
     "output_type": "display_data"
    },
    {
     "data": {
      "text/html": [
       "Syncing run <strong><a href='https://wandb.ai/zekai-wang/cs285_proj_get_action_true_dynamics_updated/runs/nuamm126' target=\"_blank\">fearless-sweep-11</a></strong> to <a href='https://wandb.ai/zekai-wang/cs285_proj_get_action_true_dynamics_updated' target=\"_blank\">Weights & Biases</a> (<a href='https://wandb.me/run' target=\"_blank\">docs</a>)<br/>Sweep page: <a href='https://wandb.ai/zekai-wang/cs285_proj_get_action_true_dynamics_updated/sweeps/ok4muk7m' target=\"_blank\">https://wandb.ai/zekai-wang/cs285_proj_get_action_true_dynamics_updated/sweeps/ok4muk7m</a>"
      ],
      "text/plain": [
       "<IPython.core.display.HTML object>"
      ]
     },
     "metadata": {},
     "output_type": "display_data"
    },
    {
     "data": {
      "text/html": [
       " View project at <a href='https://wandb.ai/zekai-wang/cs285_proj_get_action_true_dynamics_updated' target=\"_blank\">https://wandb.ai/zekai-wang/cs285_proj_get_action_true_dynamics_updated</a>"
      ],
      "text/plain": [
       "<IPython.core.display.HTML object>"
      ]
     },
     "metadata": {},
     "output_type": "display_data"
    },
    {
     "data": {
      "text/html": [
       " View sweep at <a href='https://wandb.ai/zekai-wang/cs285_proj_get_action_true_dynamics_updated/sweeps/ok4muk7m' target=\"_blank\">https://wandb.ai/zekai-wang/cs285_proj_get_action_true_dynamics_updated/sweeps/ok4muk7m</a>"
      ],
      "text/plain": [
       "<IPython.core.display.HTML object>"
      ]
     },
     "metadata": {},
     "output_type": "display_data"
    },
    {
     "data": {
      "text/html": [
       " View run at <a href='https://wandb.ai/zekai-wang/cs285_proj_get_action_true_dynamics_updated/runs/nuamm126' target=\"_blank\">https://wandb.ai/zekai-wang/cs285_proj_get_action_true_dynamics_updated/runs/nuamm126</a>"
      ],
      "text/plain": [
       "<IPython.core.display.HTML object>"
      ]
     },
     "metadata": {},
     "output_type": "display_data"
    },
    {
     "name": "stderr",
     "output_type": "stream",
     "text": [
      "100%|██████████| 10/10 [00:15<00:00,  1.51s/it]\n"
     ]
    },
    {
     "name": "stdout",
     "output_type": "stream",
     "text": [
      "mean -1233.3231\n",
      "std 261.58942\n",
      "min -1662.9427\n",
      "max -865.40137\n"
     ]
    },
    {
     "data": {
      "application/vnd.jupyter.widget-view+json": {
       "model_id": "ccf1ce44ccdf402199d52eb954e7a0ee",
       "version_major": 2,
       "version_minor": 0
      },
      "text/plain": [
       "VBox(children=(Label(value='0.004 MB of 0.004 MB uploaded\\r'), FloatProgress(value=1.0, max=1.0)))"
      ]
     },
     "metadata": {},
     "output_type": "display_data"
    },
    {
     "data": {
      "text/html": [
       "<style>\n",
       "    table.wandb td:nth-child(1) { padding: 0 10px; text-align: left ; width: auto;} td:nth-child(2) {text-align: left ; width: 100%}\n",
       "    .wandb-row { display: flex; flex-direction: row; flex-wrap: wrap; justify-content: flex-start; width: 100% }\n",
       "    .wandb-col { display: flex; flex-direction: column; flex-basis: 100%; flex: 1; padding: 10px; }\n",
       "    </style>\n",
       "<div class=\"wandb-row\"><div class=\"wandb-col\"><h3>Run history:</h3><br/><table class=\"wandb\"><tr><td>max</td><td>▁</td></tr><tr><td>mean</td><td>▁</td></tr><tr><td>min</td><td>▁</td></tr><tr><td>std</td><td>▁</td></tr></table><br/></div><div class=\"wandb-col\"><h3>Run summary:</h3><br/><table class=\"wandb\"><tr><td>max</td><td>-865.40137</td></tr><tr><td>mean</td><td>-1233.32312</td></tr><tr><td>min</td><td>-1662.94275</td></tr><tr><td>std</td><td>261.58942</td></tr></table><br/></div></div>"
      ],
      "text/plain": [
       "<IPython.core.display.HTML object>"
      ]
     },
     "metadata": {},
     "output_type": "display_data"
    },
    {
     "data": {
      "text/html": [
       " View run <strong style=\"color:#cdcd00\">fearless-sweep-11</strong> at: <a href='https://wandb.ai/zekai-wang/cs285_proj_get_action_true_dynamics_updated/runs/nuamm126' target=\"_blank\">https://wandb.ai/zekai-wang/cs285_proj_get_action_true_dynamics_updated/runs/nuamm126</a><br/>Synced 6 W&B file(s), 0 media file(s), 0 artifact file(s) and 0 other file(s)"
      ],
      "text/plain": [
       "<IPython.core.display.HTML object>"
      ]
     },
     "metadata": {},
     "output_type": "display_data"
    },
    {
     "data": {
      "text/html": [
       "Find logs at: <code>./wandb/run-20231209_235033-nuamm126/logs</code>"
      ],
      "text/plain": [
       "<IPython.core.display.HTML object>"
      ]
     },
     "metadata": {},
     "output_type": "display_data"
    },
    {
     "name": "stderr",
     "output_type": "stream",
     "text": [
      "\u001b[34m\u001b[1mwandb\u001b[0m: Agent Starting Run: ka6ftbon with config:\n",
      "\u001b[34m\u001b[1mwandb\u001b[0m: \tcem_alpha: 1\n",
      "\u001b[34m\u001b[1mwandb\u001b[0m: \tcem_num_elites: 4\n",
      "\u001b[34m\u001b[1mwandb\u001b[0m: \tcem_num_iters: 2\n",
      "\u001b[34m\u001b[1mwandb\u001b[0m: \tmpc_discount: 0.5\n",
      "\u001b[34m\u001b[1mwandb\u001b[0m: \tmpc_horizon_steps: 2\n",
      "\u001b[34m\u001b[1mwandb\u001b[0m: \tmpc_num_action_sequences: 2000\n",
      "\u001b[34m\u001b[1mwandb\u001b[0m: \tmpc_strategy: random\n",
      "/home/zekai/miniconda3/envs/cs285_proj/lib/python3.9/site-packages/ipywidgets/widgets/widget.py:528: DeprecationWarning: The `ipykernel.comm.Comm` class has been deprecated. Please use the `comm` module instead.For creating comms, use the function `from comm import create_comm`.\n",
      "  self.comm = Comm(**args)\n",
      "/home/zekai/miniconda3/envs/cs285_proj/lib/python3.9/site-packages/wandb/sdk/lib/ipython.py:77: DeprecationWarning: Importing display from IPython.core.display is deprecated since IPython 7.14, please import from IPython display\n",
      "  from IPython.core.display import HTML, display  # type: ignore\n"
     ]
    },
    {
     "data": {
      "text/html": [
       "Tracking run with wandb version 0.16.1"
      ],
      "text/plain": [
       "<IPython.core.display.HTML object>"
      ]
     },
     "metadata": {},
     "output_type": "display_data"
    },
    {
     "data": {
      "text/html": [
       "Run data is saved locally in <code>/home/zekai/repos/cs285_proj/notebooks/wandb/run-20231209_235059-ka6ftbon</code>"
      ],
      "text/plain": [
       "<IPython.core.display.HTML object>"
      ]
     },
     "metadata": {},
     "output_type": "display_data"
    },
    {
     "data": {
      "text/html": [
       "Syncing run <strong><a href='https://wandb.ai/zekai-wang/cs285_proj_get_action_true_dynamics_updated/runs/ka6ftbon' target=\"_blank\">vocal-sweep-12</a></strong> to <a href='https://wandb.ai/zekai-wang/cs285_proj_get_action_true_dynamics_updated' target=\"_blank\">Weights & Biases</a> (<a href='https://wandb.me/run' target=\"_blank\">docs</a>)<br/>Sweep page: <a href='https://wandb.ai/zekai-wang/cs285_proj_get_action_true_dynamics_updated/sweeps/ok4muk7m' target=\"_blank\">https://wandb.ai/zekai-wang/cs285_proj_get_action_true_dynamics_updated/sweeps/ok4muk7m</a>"
      ],
      "text/plain": [
       "<IPython.core.display.HTML object>"
      ]
     },
     "metadata": {},
     "output_type": "display_data"
    },
    {
     "data": {
      "text/html": [
       " View project at <a href='https://wandb.ai/zekai-wang/cs285_proj_get_action_true_dynamics_updated' target=\"_blank\">https://wandb.ai/zekai-wang/cs285_proj_get_action_true_dynamics_updated</a>"
      ],
      "text/plain": [
       "<IPython.core.display.HTML object>"
      ]
     },
     "metadata": {},
     "output_type": "display_data"
    },
    {
     "data": {
      "text/html": [
       " View sweep at <a href='https://wandb.ai/zekai-wang/cs285_proj_get_action_true_dynamics_updated/sweeps/ok4muk7m' target=\"_blank\">https://wandb.ai/zekai-wang/cs285_proj_get_action_true_dynamics_updated/sweeps/ok4muk7m</a>"
      ],
      "text/plain": [
       "<IPython.core.display.HTML object>"
      ]
     },
     "metadata": {},
     "output_type": "display_data"
    },
    {
     "data": {
      "text/html": [
       " View run at <a href='https://wandb.ai/zekai-wang/cs285_proj_get_action_true_dynamics_updated/runs/ka6ftbon' target=\"_blank\">https://wandb.ai/zekai-wang/cs285_proj_get_action_true_dynamics_updated/runs/ka6ftbon</a>"
      ],
      "text/plain": [
       "<IPython.core.display.HTML object>"
      ]
     },
     "metadata": {},
     "output_type": "display_data"
    },
    {
     "name": "stderr",
     "output_type": "stream",
     "text": [
      "100%|██████████| 10/10 [00:15<00:00,  1.57s/it]\n"
     ]
    },
    {
     "name": "stdout",
     "output_type": "stream",
     "text": [
      "mean -1259.0624\n",
      "std 250.91978\n",
      "min -1861.1592\n",
      "max -960.386\n"
     ]
    },
    {
     "data": {
      "application/vnd.jupyter.widget-view+json": {
       "model_id": "6e3d99da39294b00abbc594a454ae820",
       "version_major": 2,
       "version_minor": 0
      },
      "text/plain": [
       "VBox(children=(Label(value='0.004 MB of 0.004 MB uploaded\\r'), FloatProgress(value=1.0, max=1.0)))"
      ]
     },
     "metadata": {},
     "output_type": "display_data"
    },
    {
     "data": {
      "text/html": [
       "<style>\n",
       "    table.wandb td:nth-child(1) { padding: 0 10px; text-align: left ; width: auto;} td:nth-child(2) {text-align: left ; width: 100%}\n",
       "    .wandb-row { display: flex; flex-direction: row; flex-wrap: wrap; justify-content: flex-start; width: 100% }\n",
       "    .wandb-col { display: flex; flex-direction: column; flex-basis: 100%; flex: 1; padding: 10px; }\n",
       "    </style>\n",
       "<div class=\"wandb-row\"><div class=\"wandb-col\"><h3>Run history:</h3><br/><table class=\"wandb\"><tr><td>max</td><td>▁</td></tr><tr><td>mean</td><td>▁</td></tr><tr><td>min</td><td>▁</td></tr><tr><td>std</td><td>▁</td></tr></table><br/></div><div class=\"wandb-col\"><h3>Run summary:</h3><br/><table class=\"wandb\"><tr><td>max</td><td>-960.38599</td></tr><tr><td>mean</td><td>-1259.06238</td></tr><tr><td>min</td><td>-1861.15918</td></tr><tr><td>std</td><td>250.91978</td></tr></table><br/></div></div>"
      ],
      "text/plain": [
       "<IPython.core.display.HTML object>"
      ]
     },
     "metadata": {},
     "output_type": "display_data"
    },
    {
     "data": {
      "text/html": [
       " View run <strong style=\"color:#cdcd00\">vocal-sweep-12</strong> at: <a href='https://wandb.ai/zekai-wang/cs285_proj_get_action_true_dynamics_updated/runs/ka6ftbon' target=\"_blank\">https://wandb.ai/zekai-wang/cs285_proj_get_action_true_dynamics_updated/runs/ka6ftbon</a><br/>Synced 6 W&B file(s), 0 media file(s), 0 artifact file(s) and 0 other file(s)"
      ],
      "text/plain": [
       "<IPython.core.display.HTML object>"
      ]
     },
     "metadata": {},
     "output_type": "display_data"
    },
    {
     "data": {
      "text/html": [
       "Find logs at: <code>./wandb/run-20231209_235059-ka6ftbon/logs</code>"
      ],
      "text/plain": [
       "<IPython.core.display.HTML object>"
      ]
     },
     "metadata": {},
     "output_type": "display_data"
    },
    {
     "name": "stderr",
     "output_type": "stream",
     "text": [
      "\u001b[34m\u001b[1mwandb\u001b[0m: Agent Starting Run: nqvau353 with config:\n",
      "\u001b[34m\u001b[1mwandb\u001b[0m: \tcem_alpha: 0.95\n",
      "\u001b[34m\u001b[1mwandb\u001b[0m: \tcem_num_elites: 1\n",
      "\u001b[34m\u001b[1mwandb\u001b[0m: \tcem_num_iters: 16\n",
      "\u001b[34m\u001b[1mwandb\u001b[0m: \tmpc_discount: 0.5\n",
      "\u001b[34m\u001b[1mwandb\u001b[0m: \tmpc_horizon_steps: 20\n",
      "\u001b[34m\u001b[1mwandb\u001b[0m: \tmpc_num_action_sequences: 1000\n",
      "\u001b[34m\u001b[1mwandb\u001b[0m: \tmpc_strategy: cem\n",
      "/home/zekai/miniconda3/envs/cs285_proj/lib/python3.9/site-packages/ipywidgets/widgets/widget.py:528: DeprecationWarning: The `ipykernel.comm.Comm` class has been deprecated. Please use the `comm` module instead.For creating comms, use the function `from comm import create_comm`.\n",
      "  self.comm = Comm(**args)\n",
      "/home/zekai/miniconda3/envs/cs285_proj/lib/python3.9/site-packages/wandb/sdk/lib/ipython.py:77: DeprecationWarning: Importing display from IPython.core.display is deprecated since IPython 7.14, please import from IPython display\n",
      "  from IPython.core.display import HTML, display  # type: ignore\n"
     ]
    },
    {
     "data": {
      "text/html": [
       "Tracking run with wandb version 0.16.1"
      ],
      "text/plain": [
       "<IPython.core.display.HTML object>"
      ]
     },
     "metadata": {},
     "output_type": "display_data"
    },
    {
     "data": {
      "text/html": [
       "Run data is saved locally in <code>/home/zekai/repos/cs285_proj/notebooks/wandb/run-20231209_235125-nqvau353</code>"
      ],
      "text/plain": [
       "<IPython.core.display.HTML object>"
      ]
     },
     "metadata": {},
     "output_type": "display_data"
    },
    {
     "data": {
      "text/html": [
       "Syncing run <strong><a href='https://wandb.ai/zekai-wang/cs285_proj_get_action_true_dynamics_updated/runs/nqvau353' target=\"_blank\">robust-sweep-13</a></strong> to <a href='https://wandb.ai/zekai-wang/cs285_proj_get_action_true_dynamics_updated' target=\"_blank\">Weights & Biases</a> (<a href='https://wandb.me/run' target=\"_blank\">docs</a>)<br/>Sweep page: <a href='https://wandb.ai/zekai-wang/cs285_proj_get_action_true_dynamics_updated/sweeps/ok4muk7m' target=\"_blank\">https://wandb.ai/zekai-wang/cs285_proj_get_action_true_dynamics_updated/sweeps/ok4muk7m</a>"
      ],
      "text/plain": [
       "<IPython.core.display.HTML object>"
      ]
     },
     "metadata": {},
     "output_type": "display_data"
    },
    {
     "data": {
      "text/html": [
       " View project at <a href='https://wandb.ai/zekai-wang/cs285_proj_get_action_true_dynamics_updated' target=\"_blank\">https://wandb.ai/zekai-wang/cs285_proj_get_action_true_dynamics_updated</a>"
      ],
      "text/plain": [
       "<IPython.core.display.HTML object>"
      ]
     },
     "metadata": {},
     "output_type": "display_data"
    },
    {
     "data": {
      "text/html": [
       " View sweep at <a href='https://wandb.ai/zekai-wang/cs285_proj_get_action_true_dynamics_updated/sweeps/ok4muk7m' target=\"_blank\">https://wandb.ai/zekai-wang/cs285_proj_get_action_true_dynamics_updated/sweeps/ok4muk7m</a>"
      ],
      "text/plain": [
       "<IPython.core.display.HTML object>"
      ]
     },
     "metadata": {},
     "output_type": "display_data"
    },
    {
     "data": {
      "text/html": [
       " View run at <a href='https://wandb.ai/zekai-wang/cs285_proj_get_action_true_dynamics_updated/runs/nqvau353' target=\"_blank\">https://wandb.ai/zekai-wang/cs285_proj_get_action_true_dynamics_updated/runs/nqvau353</a>"
      ],
      "text/plain": [
       "<IPython.core.display.HTML object>"
      ]
     },
     "metadata": {},
     "output_type": "display_data"
    },
    {
     "name": "stderr",
     "output_type": "stream",
     "text": [
      "100%|██████████| 10/10 [00:16<00:00,  1.61s/it]\n"
     ]
    },
    {
     "name": "stdout",
     "output_type": "stream",
     "text": [
      "mean -1308.6792\n",
      "std 315.9739\n",
      "min -1731.908\n",
      "max -791.1249\n"
     ]
    },
    {
     "data": {
      "application/vnd.jupyter.widget-view+json": {
       "model_id": "390b4cd791894b279a42c72071c8f5eb",
       "version_major": 2,
       "version_minor": 0
      },
      "text/plain": [
       "VBox(children=(Label(value='0.004 MB of 0.004 MB uploaded\\r'), FloatProgress(value=1.0, max=1.0)))"
      ]
     },
     "metadata": {},
     "output_type": "display_data"
    },
    {
     "data": {
      "text/html": [
       "<style>\n",
       "    table.wandb td:nth-child(1) { padding: 0 10px; text-align: left ; width: auto;} td:nth-child(2) {text-align: left ; width: 100%}\n",
       "    .wandb-row { display: flex; flex-direction: row; flex-wrap: wrap; justify-content: flex-start; width: 100% }\n",
       "    .wandb-col { display: flex; flex-direction: column; flex-basis: 100%; flex: 1; padding: 10px; }\n",
       "    </style>\n",
       "<div class=\"wandb-row\"><div class=\"wandb-col\"><h3>Run history:</h3><br/><table class=\"wandb\"><tr><td>max</td><td>▁</td></tr><tr><td>mean</td><td>▁</td></tr><tr><td>min</td><td>▁</td></tr><tr><td>std</td><td>▁</td></tr></table><br/></div><div class=\"wandb-col\"><h3>Run summary:</h3><br/><table class=\"wandb\"><tr><td>max</td><td>-791.12488</td></tr><tr><td>mean</td><td>-1308.6792</td></tr><tr><td>min</td><td>-1731.90796</td></tr><tr><td>std</td><td>315.97391</td></tr></table><br/></div></div>"
      ],
      "text/plain": [
       "<IPython.core.display.HTML object>"
      ]
     },
     "metadata": {},
     "output_type": "display_data"
    },
    {
     "data": {
      "text/html": [
       " View run <strong style=\"color:#cdcd00\">robust-sweep-13</strong> at: <a href='https://wandb.ai/zekai-wang/cs285_proj_get_action_true_dynamics_updated/runs/nqvau353' target=\"_blank\">https://wandb.ai/zekai-wang/cs285_proj_get_action_true_dynamics_updated/runs/nqvau353</a><br/>Synced 6 W&B file(s), 0 media file(s), 0 artifact file(s) and 0 other file(s)"
      ],
      "text/plain": [
       "<IPython.core.display.HTML object>"
      ]
     },
     "metadata": {},
     "output_type": "display_data"
    },
    {
     "data": {
      "text/html": [
       "Find logs at: <code>./wandb/run-20231209_235125-nqvau353/logs</code>"
      ],
      "text/plain": [
       "<IPython.core.display.HTML object>"
      ]
     },
     "metadata": {},
     "output_type": "display_data"
    },
    {
     "name": "stderr",
     "output_type": "stream",
     "text": [
      "\u001b[34m\u001b[1mwandb\u001b[0m: Agent Starting Run: gvuh1ikc with config:\n",
      "\u001b[34m\u001b[1mwandb\u001b[0m: \tcem_alpha: 0.9\n",
      "\u001b[34m\u001b[1mwandb\u001b[0m: \tcem_num_elites: 8\n",
      "\u001b[34m\u001b[1mwandb\u001b[0m: \tcem_num_iters: 8\n",
      "\u001b[34m\u001b[1mwandb\u001b[0m: \tmpc_discount: 0.95\n",
      "\u001b[34m\u001b[1mwandb\u001b[0m: \tmpc_horizon_steps: 20\n",
      "\u001b[34m\u001b[1mwandb\u001b[0m: \tmpc_num_action_sequences: 1000\n",
      "\u001b[34m\u001b[1mwandb\u001b[0m: \tmpc_strategy: cem\n",
      "/home/zekai/miniconda3/envs/cs285_proj/lib/python3.9/site-packages/ipywidgets/widgets/widget.py:528: DeprecationWarning: The `ipykernel.comm.Comm` class has been deprecated. Please use the `comm` module instead.For creating comms, use the function `from comm import create_comm`.\n",
      "  self.comm = Comm(**args)\n",
      "/home/zekai/miniconda3/envs/cs285_proj/lib/python3.9/site-packages/wandb/sdk/lib/ipython.py:77: DeprecationWarning: Importing display from IPython.core.display is deprecated since IPython 7.14, please import from IPython display\n",
      "  from IPython.core.display import HTML, display  # type: ignore\n"
     ]
    },
    {
     "data": {
      "text/html": [
       "Tracking run with wandb version 0.16.1"
      ],
      "text/plain": [
       "<IPython.core.display.HTML object>"
      ]
     },
     "metadata": {},
     "output_type": "display_data"
    },
    {
     "data": {
      "text/html": [
       "Run data is saved locally in <code>/home/zekai/repos/cs285_proj/notebooks/wandb/run-20231209_235156-gvuh1ikc</code>"
      ],
      "text/plain": [
       "<IPython.core.display.HTML object>"
      ]
     },
     "metadata": {},
     "output_type": "display_data"
    },
    {
     "data": {
      "text/html": [
       "Syncing run <strong><a href='https://wandb.ai/zekai-wang/cs285_proj_get_action_true_dynamics_updated/runs/gvuh1ikc' target=\"_blank\">grateful-sweep-14</a></strong> to <a href='https://wandb.ai/zekai-wang/cs285_proj_get_action_true_dynamics_updated' target=\"_blank\">Weights & Biases</a> (<a href='https://wandb.me/run' target=\"_blank\">docs</a>)<br/>Sweep page: <a href='https://wandb.ai/zekai-wang/cs285_proj_get_action_true_dynamics_updated/sweeps/ok4muk7m' target=\"_blank\">https://wandb.ai/zekai-wang/cs285_proj_get_action_true_dynamics_updated/sweeps/ok4muk7m</a>"
      ],
      "text/plain": [
       "<IPython.core.display.HTML object>"
      ]
     },
     "metadata": {},
     "output_type": "display_data"
    },
    {
     "data": {
      "text/html": [
       " View project at <a href='https://wandb.ai/zekai-wang/cs285_proj_get_action_true_dynamics_updated' target=\"_blank\">https://wandb.ai/zekai-wang/cs285_proj_get_action_true_dynamics_updated</a>"
      ],
      "text/plain": [
       "<IPython.core.display.HTML object>"
      ]
     },
     "metadata": {},
     "output_type": "display_data"
    },
    {
     "data": {
      "text/html": [
       " View sweep at <a href='https://wandb.ai/zekai-wang/cs285_proj_get_action_true_dynamics_updated/sweeps/ok4muk7m' target=\"_blank\">https://wandb.ai/zekai-wang/cs285_proj_get_action_true_dynamics_updated/sweeps/ok4muk7m</a>"
      ],
      "text/plain": [
       "<IPython.core.display.HTML object>"
      ]
     },
     "metadata": {},
     "output_type": "display_data"
    },
    {
     "data": {
      "text/html": [
       " View run at <a href='https://wandb.ai/zekai-wang/cs285_proj_get_action_true_dynamics_updated/runs/gvuh1ikc' target=\"_blank\">https://wandb.ai/zekai-wang/cs285_proj_get_action_true_dynamics_updated/runs/gvuh1ikc</a>"
      ],
      "text/plain": [
       "<IPython.core.display.HTML object>"
      ]
     },
     "metadata": {},
     "output_type": "display_data"
    },
    {
     "name": "stderr",
     "output_type": "stream",
     "text": [
      "100%|██████████| 10/10 [00:16<00:00,  1.60s/it]\n"
     ]
    },
    {
     "name": "stdout",
     "output_type": "stream",
     "text": [
      "mean -1324.8943\n",
      "std 244.92871\n",
      "min -1704.855\n",
      "max -830.54346\n"
     ]
    },
    {
     "data": {
      "application/vnd.jupyter.widget-view+json": {
       "model_id": "6fe688d33c96474996924cea524c4ce7",
       "version_major": 2,
       "version_minor": 0
      },
      "text/plain": [
       "VBox(children=(Label(value='0.004 MB of 0.004 MB uploaded\\r'), FloatProgress(value=1.0, max=1.0)))"
      ]
     },
     "metadata": {},
     "output_type": "display_data"
    },
    {
     "data": {
      "text/html": [
       "<style>\n",
       "    table.wandb td:nth-child(1) { padding: 0 10px; text-align: left ; width: auto;} td:nth-child(2) {text-align: left ; width: 100%}\n",
       "    .wandb-row { display: flex; flex-direction: row; flex-wrap: wrap; justify-content: flex-start; width: 100% }\n",
       "    .wandb-col { display: flex; flex-direction: column; flex-basis: 100%; flex: 1; padding: 10px; }\n",
       "    </style>\n",
       "<div class=\"wandb-row\"><div class=\"wandb-col\"><h3>Run history:</h3><br/><table class=\"wandb\"><tr><td>max</td><td>▁</td></tr><tr><td>mean</td><td>▁</td></tr><tr><td>min</td><td>▁</td></tr><tr><td>std</td><td>▁</td></tr></table><br/></div><div class=\"wandb-col\"><h3>Run summary:</h3><br/><table class=\"wandb\"><tr><td>max</td><td>-830.54346</td></tr><tr><td>mean</td><td>-1324.89429</td></tr><tr><td>min</td><td>-1704.85498</td></tr><tr><td>std</td><td>244.92871</td></tr></table><br/></div></div>"
      ],
      "text/plain": [
       "<IPython.core.display.HTML object>"
      ]
     },
     "metadata": {},
     "output_type": "display_data"
    },
    {
     "data": {
      "text/html": [
       " View run <strong style=\"color:#cdcd00\">grateful-sweep-14</strong> at: <a href='https://wandb.ai/zekai-wang/cs285_proj_get_action_true_dynamics_updated/runs/gvuh1ikc' target=\"_blank\">https://wandb.ai/zekai-wang/cs285_proj_get_action_true_dynamics_updated/runs/gvuh1ikc</a><br/>Synced 6 W&B file(s), 0 media file(s), 0 artifact file(s) and 0 other file(s)"
      ],
      "text/plain": [
       "<IPython.core.display.HTML object>"
      ]
     },
     "metadata": {},
     "output_type": "display_data"
    },
    {
     "data": {
      "text/html": [
       "Find logs at: <code>./wandb/run-20231209_235156-gvuh1ikc/logs</code>"
      ],
      "text/plain": [
       "<IPython.core.display.HTML object>"
      ]
     },
     "metadata": {},
     "output_type": "display_data"
    },
    {
     "name": "stderr",
     "output_type": "stream",
     "text": [
      "\u001b[34m\u001b[1mwandb\u001b[0m: Agent Starting Run: fyqjx7ce with config:\n",
      "\u001b[34m\u001b[1mwandb\u001b[0m: \tcem_alpha: 0.9\n",
      "\u001b[34m\u001b[1mwandb\u001b[0m: \tcem_num_elites: 2\n",
      "\u001b[34m\u001b[1mwandb\u001b[0m: \tcem_num_iters: 8\n",
      "\u001b[34m\u001b[1mwandb\u001b[0m: \tmpc_discount: 1\n",
      "\u001b[34m\u001b[1mwandb\u001b[0m: \tmpc_horizon_steps: 200\n",
      "\u001b[34m\u001b[1mwandb\u001b[0m: \tmpc_num_action_sequences: 500\n",
      "\u001b[34m\u001b[1mwandb\u001b[0m: \tmpc_strategy: cem\n",
      "/home/zekai/miniconda3/envs/cs285_proj/lib/python3.9/site-packages/ipywidgets/widgets/widget.py:528: DeprecationWarning: The `ipykernel.comm.Comm` class has been deprecated. Please use the `comm` module instead.For creating comms, use the function `from comm import create_comm`.\n",
      "  self.comm = Comm(**args)\n",
      "/home/zekai/miniconda3/envs/cs285_proj/lib/python3.9/site-packages/wandb/sdk/lib/ipython.py:77: DeprecationWarning: Importing display from IPython.core.display is deprecated since IPython 7.14, please import from IPython display\n",
      "  from IPython.core.display import HTML, display  # type: ignore\n"
     ]
    },
    {
     "data": {
      "text/html": [
       "Tracking run with wandb version 0.16.1"
      ],
      "text/plain": [
       "<IPython.core.display.HTML object>"
      ]
     },
     "metadata": {},
     "output_type": "display_data"
    },
    {
     "data": {
      "text/html": [
       "Run data is saved locally in <code>/home/zekai/repos/cs285_proj/notebooks/wandb/run-20231209_235227-fyqjx7ce</code>"
      ],
      "text/plain": [
       "<IPython.core.display.HTML object>"
      ]
     },
     "metadata": {},
     "output_type": "display_data"
    },
    {
     "data": {
      "text/html": [
       "Syncing run <strong><a href='https://wandb.ai/zekai-wang/cs285_proj_get_action_true_dynamics_updated/runs/fyqjx7ce' target=\"_blank\">fine-sweep-15</a></strong> to <a href='https://wandb.ai/zekai-wang/cs285_proj_get_action_true_dynamics_updated' target=\"_blank\">Weights & Biases</a> (<a href='https://wandb.me/run' target=\"_blank\">docs</a>)<br/>Sweep page: <a href='https://wandb.ai/zekai-wang/cs285_proj_get_action_true_dynamics_updated/sweeps/ok4muk7m' target=\"_blank\">https://wandb.ai/zekai-wang/cs285_proj_get_action_true_dynamics_updated/sweeps/ok4muk7m</a>"
      ],
      "text/plain": [
       "<IPython.core.display.HTML object>"
      ]
     },
     "metadata": {},
     "output_type": "display_data"
    },
    {
     "data": {
      "text/html": [
       " View project at <a href='https://wandb.ai/zekai-wang/cs285_proj_get_action_true_dynamics_updated' target=\"_blank\">https://wandb.ai/zekai-wang/cs285_proj_get_action_true_dynamics_updated</a>"
      ],
      "text/plain": [
       "<IPython.core.display.HTML object>"
      ]
     },
     "metadata": {},
     "output_type": "display_data"
    },
    {
     "data": {
      "text/html": [
       " View sweep at <a href='https://wandb.ai/zekai-wang/cs285_proj_get_action_true_dynamics_updated/sweeps/ok4muk7m' target=\"_blank\">https://wandb.ai/zekai-wang/cs285_proj_get_action_true_dynamics_updated/sweeps/ok4muk7m</a>"
      ],
      "text/plain": [
       "<IPython.core.display.HTML object>"
      ]
     },
     "metadata": {},
     "output_type": "display_data"
    },
    {
     "data": {
      "text/html": [
       " View run at <a href='https://wandb.ai/zekai-wang/cs285_proj_get_action_true_dynamics_updated/runs/fyqjx7ce' target=\"_blank\">https://wandb.ai/zekai-wang/cs285_proj_get_action_true_dynamics_updated/runs/fyqjx7ce</a>"
      ],
      "text/plain": [
       "<IPython.core.display.HTML object>"
      ]
     },
     "metadata": {},
     "output_type": "display_data"
    },
    {
     "name": "stderr",
     "output_type": "stream",
     "text": [
      "100%|██████████| 10/10 [00:15<00:00,  1.54s/it]\n"
     ]
    },
    {
     "name": "stdout",
     "output_type": "stream",
     "text": [
      "mean -1339.5402\n",
      "std 331.1469\n",
      "min -1834.5083\n",
      "max -860.12463\n"
     ]
    },
    {
     "data": {
      "application/vnd.jupyter.widget-view+json": {
       "model_id": "3619cf77e089469f8e2bcc7aa811bd58",
       "version_major": 2,
       "version_minor": 0
      },
      "text/plain": [
       "VBox(children=(Label(value='0.004 MB of 0.004 MB uploaded\\r'), FloatProgress(value=1.0, max=1.0)))"
      ]
     },
     "metadata": {},
     "output_type": "display_data"
    },
    {
     "data": {
      "text/html": [
       "<style>\n",
       "    table.wandb td:nth-child(1) { padding: 0 10px; text-align: left ; width: auto;} td:nth-child(2) {text-align: left ; width: 100%}\n",
       "    .wandb-row { display: flex; flex-direction: row; flex-wrap: wrap; justify-content: flex-start; width: 100% }\n",
       "    .wandb-col { display: flex; flex-direction: column; flex-basis: 100%; flex: 1; padding: 10px; }\n",
       "    </style>\n",
       "<div class=\"wandb-row\"><div class=\"wandb-col\"><h3>Run history:</h3><br/><table class=\"wandb\"><tr><td>max</td><td>▁</td></tr><tr><td>mean</td><td>▁</td></tr><tr><td>min</td><td>▁</td></tr><tr><td>std</td><td>▁</td></tr></table><br/></div><div class=\"wandb-col\"><h3>Run summary:</h3><br/><table class=\"wandb\"><tr><td>max</td><td>-860.12463</td></tr><tr><td>mean</td><td>-1339.54016</td></tr><tr><td>min</td><td>-1834.5083</td></tr><tr><td>std</td><td>331.14691</td></tr></table><br/></div></div>"
      ],
      "text/plain": [
       "<IPython.core.display.HTML object>"
      ]
     },
     "metadata": {},
     "output_type": "display_data"
    },
    {
     "data": {
      "text/html": [
       " View run <strong style=\"color:#cdcd00\">fine-sweep-15</strong> at: <a href='https://wandb.ai/zekai-wang/cs285_proj_get_action_true_dynamics_updated/runs/fyqjx7ce' target=\"_blank\">https://wandb.ai/zekai-wang/cs285_proj_get_action_true_dynamics_updated/runs/fyqjx7ce</a><br/>Synced 6 W&B file(s), 0 media file(s), 0 artifact file(s) and 0 other file(s)"
      ],
      "text/plain": [
       "<IPython.core.display.HTML object>"
      ]
     },
     "metadata": {},
     "output_type": "display_data"
    },
    {
     "data": {
      "text/html": [
       "Find logs at: <code>./wandb/run-20231209_235227-fyqjx7ce/logs</code>"
      ],
      "text/plain": [
       "<IPython.core.display.HTML object>"
      ]
     },
     "metadata": {},
     "output_type": "display_data"
    },
    {
     "name": "stderr",
     "output_type": "stream",
     "text": [
      "\u001b[34m\u001b[1mwandb\u001b[0m: Agent Starting Run: wme64bf6 with config:\n",
      "\u001b[34m\u001b[1mwandb\u001b[0m: \tcem_alpha: 0.5\n",
      "\u001b[34m\u001b[1mwandb\u001b[0m: \tcem_num_elites: 8\n",
      "\u001b[34m\u001b[1mwandb\u001b[0m: \tcem_num_iters: 16\n",
      "\u001b[34m\u001b[1mwandb\u001b[0m: \tmpc_discount: 0.9\n",
      "\u001b[34m\u001b[1mwandb\u001b[0m: \tmpc_horizon_steps: 10\n",
      "\u001b[34m\u001b[1mwandb\u001b[0m: \tmpc_num_action_sequences: 2000\n",
      "\u001b[34m\u001b[1mwandb\u001b[0m: \tmpc_strategy: cem\n",
      "/home/zekai/miniconda3/envs/cs285_proj/lib/python3.9/site-packages/ipywidgets/widgets/widget.py:528: DeprecationWarning: The `ipykernel.comm.Comm` class has been deprecated. Please use the `comm` module instead.For creating comms, use the function `from comm import create_comm`.\n",
      "  self.comm = Comm(**args)\n",
      "/home/zekai/miniconda3/envs/cs285_proj/lib/python3.9/site-packages/wandb/sdk/lib/ipython.py:77: DeprecationWarning: Importing display from IPython.core.display is deprecated since IPython 7.14, please import from IPython display\n",
      "  from IPython.core.display import HTML, display  # type: ignore\n"
     ]
    },
    {
     "data": {
      "text/html": [
       "Tracking run with wandb version 0.16.1"
      ],
      "text/plain": [
       "<IPython.core.display.HTML object>"
      ]
     },
     "metadata": {},
     "output_type": "display_data"
    },
    {
     "data": {
      "text/html": [
       "Run data is saved locally in <code>/home/zekai/repos/cs285_proj/notebooks/wandb/run-20231209_235252-wme64bf6</code>"
      ],
      "text/plain": [
       "<IPython.core.display.HTML object>"
      ]
     },
     "metadata": {},
     "output_type": "display_data"
    },
    {
     "data": {
      "text/html": [
       "Syncing run <strong><a href='https://wandb.ai/zekai-wang/cs285_proj_get_action_true_dynamics_updated/runs/wme64bf6' target=\"_blank\">celestial-sweep-16</a></strong> to <a href='https://wandb.ai/zekai-wang/cs285_proj_get_action_true_dynamics_updated' target=\"_blank\">Weights & Biases</a> (<a href='https://wandb.me/run' target=\"_blank\">docs</a>)<br/>Sweep page: <a href='https://wandb.ai/zekai-wang/cs285_proj_get_action_true_dynamics_updated/sweeps/ok4muk7m' target=\"_blank\">https://wandb.ai/zekai-wang/cs285_proj_get_action_true_dynamics_updated/sweeps/ok4muk7m</a>"
      ],
      "text/plain": [
       "<IPython.core.display.HTML object>"
      ]
     },
     "metadata": {},
     "output_type": "display_data"
    },
    {
     "data": {
      "text/html": [
       " View project at <a href='https://wandb.ai/zekai-wang/cs285_proj_get_action_true_dynamics_updated' target=\"_blank\">https://wandb.ai/zekai-wang/cs285_proj_get_action_true_dynamics_updated</a>"
      ],
      "text/plain": [
       "<IPython.core.display.HTML object>"
      ]
     },
     "metadata": {},
     "output_type": "display_data"
    },
    {
     "data": {
      "text/html": [
       " View sweep at <a href='https://wandb.ai/zekai-wang/cs285_proj_get_action_true_dynamics_updated/sweeps/ok4muk7m' target=\"_blank\">https://wandb.ai/zekai-wang/cs285_proj_get_action_true_dynamics_updated/sweeps/ok4muk7m</a>"
      ],
      "text/plain": [
       "<IPython.core.display.HTML object>"
      ]
     },
     "metadata": {},
     "output_type": "display_data"
    },
    {
     "data": {
      "text/html": [
       " View run at <a href='https://wandb.ai/zekai-wang/cs285_proj_get_action_true_dynamics_updated/runs/wme64bf6' target=\"_blank\">https://wandb.ai/zekai-wang/cs285_proj_get_action_true_dynamics_updated/runs/wme64bf6</a>"
      ],
      "text/plain": [
       "<IPython.core.display.HTML object>"
      ]
     },
     "metadata": {},
     "output_type": "display_data"
    },
    {
     "name": "stderr",
     "output_type": "stream",
     "text": [
      "100%|██████████| 10/10 [00:16<00:00,  1.68s/it]\n"
     ]
    },
    {
     "name": "stdout",
     "output_type": "stream",
     "text": [
      "mean -1325.9243\n",
      "std 353.90198\n",
      "min -1812.6294\n",
      "max -761.00323\n"
     ]
    },
    {
     "data": {
      "application/vnd.jupyter.widget-view+json": {
       "model_id": "5413b8228a3747d99c27b478b3bcb53e",
       "version_major": 2,
       "version_minor": 0
      },
      "text/plain": [
       "VBox(children=(Label(value='0.004 MB of 0.004 MB uploaded\\r'), FloatProgress(value=1.0, max=1.0)))"
      ]
     },
     "metadata": {},
     "output_type": "display_data"
    },
    {
     "data": {
      "text/html": [
       "<style>\n",
       "    table.wandb td:nth-child(1) { padding: 0 10px; text-align: left ; width: auto;} td:nth-child(2) {text-align: left ; width: 100%}\n",
       "    .wandb-row { display: flex; flex-direction: row; flex-wrap: wrap; justify-content: flex-start; width: 100% }\n",
       "    .wandb-col { display: flex; flex-direction: column; flex-basis: 100%; flex: 1; padding: 10px; }\n",
       "    </style>\n",
       "<div class=\"wandb-row\"><div class=\"wandb-col\"><h3>Run history:</h3><br/><table class=\"wandb\"><tr><td>max</td><td>▁</td></tr><tr><td>mean</td><td>▁</td></tr><tr><td>min</td><td>▁</td></tr><tr><td>std</td><td>▁</td></tr></table><br/></div><div class=\"wandb-col\"><h3>Run summary:</h3><br/><table class=\"wandb\"><tr><td>max</td><td>-761.00323</td></tr><tr><td>mean</td><td>-1325.92432</td></tr><tr><td>min</td><td>-1812.62939</td></tr><tr><td>std</td><td>353.90198</td></tr></table><br/></div></div>"
      ],
      "text/plain": [
       "<IPython.core.display.HTML object>"
      ]
     },
     "metadata": {},
     "output_type": "display_data"
    },
    {
     "data": {
      "text/html": [
       " View run <strong style=\"color:#cdcd00\">celestial-sweep-16</strong> at: <a href='https://wandb.ai/zekai-wang/cs285_proj_get_action_true_dynamics_updated/runs/wme64bf6' target=\"_blank\">https://wandb.ai/zekai-wang/cs285_proj_get_action_true_dynamics_updated/runs/wme64bf6</a><br/>Synced 6 W&B file(s), 0 media file(s), 0 artifact file(s) and 0 other file(s)"
      ],
      "text/plain": [
       "<IPython.core.display.HTML object>"
      ]
     },
     "metadata": {},
     "output_type": "display_data"
    },
    {
     "data": {
      "text/html": [
       "Find logs at: <code>./wandb/run-20231209_235252-wme64bf6/logs</code>"
      ],
      "text/plain": [
       "<IPython.core.display.HTML object>"
      ]
     },
     "metadata": {},
     "output_type": "display_data"
    },
    {
     "name": "stderr",
     "output_type": "stream",
     "text": [
      "\u001b[34m\u001b[1mwandb\u001b[0m: Agent Starting Run: j1mnclrd with config:\n",
      "\u001b[34m\u001b[1mwandb\u001b[0m: \tcem_alpha: 0.8\n",
      "\u001b[34m\u001b[1mwandb\u001b[0m: \tcem_num_elites: 64\n",
      "\u001b[34m\u001b[1mwandb\u001b[0m: \tcem_num_iters: 8\n",
      "\u001b[34m\u001b[1mwandb\u001b[0m: \tmpc_discount: 0.9\n",
      "\u001b[34m\u001b[1mwandb\u001b[0m: \tmpc_horizon_steps: 20\n",
      "\u001b[34m\u001b[1mwandb\u001b[0m: \tmpc_num_action_sequences: 100\n",
      "\u001b[34m\u001b[1mwandb\u001b[0m: \tmpc_strategy: cem\n",
      "/home/zekai/miniconda3/envs/cs285_proj/lib/python3.9/site-packages/ipywidgets/widgets/widget.py:528: DeprecationWarning: The `ipykernel.comm.Comm` class has been deprecated. Please use the `comm` module instead.For creating comms, use the function `from comm import create_comm`.\n",
      "  self.comm = Comm(**args)\n",
      "/home/zekai/miniconda3/envs/cs285_proj/lib/python3.9/site-packages/wandb/sdk/lib/ipython.py:77: DeprecationWarning: Importing display from IPython.core.display is deprecated since IPython 7.14, please import from IPython display\n",
      "  from IPython.core.display import HTML, display  # type: ignore\n"
     ]
    },
    {
     "data": {
      "text/html": [
       "Tracking run with wandb version 0.16.1"
      ],
      "text/plain": [
       "<IPython.core.display.HTML object>"
      ]
     },
     "metadata": {},
     "output_type": "display_data"
    },
    {
     "data": {
      "text/html": [
       "Run data is saved locally in <code>/home/zekai/repos/cs285_proj/notebooks/wandb/run-20231209_235323-j1mnclrd</code>"
      ],
      "text/plain": [
       "<IPython.core.display.HTML object>"
      ]
     },
     "metadata": {},
     "output_type": "display_data"
    },
    {
     "data": {
      "text/html": [
       "Syncing run <strong><a href='https://wandb.ai/zekai-wang/cs285_proj_get_action_true_dynamics_updated/runs/j1mnclrd' target=\"_blank\">skilled-sweep-17</a></strong> to <a href='https://wandb.ai/zekai-wang/cs285_proj_get_action_true_dynamics_updated' target=\"_blank\">Weights & Biases</a> (<a href='https://wandb.me/run' target=\"_blank\">docs</a>)<br/>Sweep page: <a href='https://wandb.ai/zekai-wang/cs285_proj_get_action_true_dynamics_updated/sweeps/ok4muk7m' target=\"_blank\">https://wandb.ai/zekai-wang/cs285_proj_get_action_true_dynamics_updated/sweeps/ok4muk7m</a>"
      ],
      "text/plain": [
       "<IPython.core.display.HTML object>"
      ]
     },
     "metadata": {},
     "output_type": "display_data"
    },
    {
     "data": {
      "text/html": [
       " View project at <a href='https://wandb.ai/zekai-wang/cs285_proj_get_action_true_dynamics_updated' target=\"_blank\">https://wandb.ai/zekai-wang/cs285_proj_get_action_true_dynamics_updated</a>"
      ],
      "text/plain": [
       "<IPython.core.display.HTML object>"
      ]
     },
     "metadata": {},
     "output_type": "display_data"
    },
    {
     "data": {
      "text/html": [
       " View sweep at <a href='https://wandb.ai/zekai-wang/cs285_proj_get_action_true_dynamics_updated/sweeps/ok4muk7m' target=\"_blank\">https://wandb.ai/zekai-wang/cs285_proj_get_action_true_dynamics_updated/sweeps/ok4muk7m</a>"
      ],
      "text/plain": [
       "<IPython.core.display.HTML object>"
      ]
     },
     "metadata": {},
     "output_type": "display_data"
    },
    {
     "data": {
      "text/html": [
       " View run at <a href='https://wandb.ai/zekai-wang/cs285_proj_get_action_true_dynamics_updated/runs/j1mnclrd' target=\"_blank\">https://wandb.ai/zekai-wang/cs285_proj_get_action_true_dynamics_updated/runs/j1mnclrd</a>"
      ],
      "text/plain": [
       "<IPython.core.display.HTML object>"
      ]
     },
     "metadata": {},
     "output_type": "display_data"
    },
    {
     "name": "stderr",
     "output_type": "stream",
     "text": [
      "100%|██████████| 10/10 [00:15<00:00,  1.59s/it]\n"
     ]
    },
    {
     "name": "stdout",
     "output_type": "stream",
     "text": [
      "mean -1145.6116\n",
      "std 216.28084\n",
      "min -1661.4275\n",
      "max -939.4071\n"
     ]
    },
    {
     "data": {
      "application/vnd.jupyter.widget-view+json": {
       "model_id": "673f6f3cbed54750bb9145c18b5d8529",
       "version_major": 2,
       "version_minor": 0
      },
      "text/plain": [
       "VBox(children=(Label(value='0.004 MB of 0.004 MB uploaded\\r'), FloatProgress(value=1.0, max=1.0)))"
      ]
     },
     "metadata": {},
     "output_type": "display_data"
    },
    {
     "data": {
      "text/html": [
       "<style>\n",
       "    table.wandb td:nth-child(1) { padding: 0 10px; text-align: left ; width: auto;} td:nth-child(2) {text-align: left ; width: 100%}\n",
       "    .wandb-row { display: flex; flex-direction: row; flex-wrap: wrap; justify-content: flex-start; width: 100% }\n",
       "    .wandb-col { display: flex; flex-direction: column; flex-basis: 100%; flex: 1; padding: 10px; }\n",
       "    </style>\n",
       "<div class=\"wandb-row\"><div class=\"wandb-col\"><h3>Run history:</h3><br/><table class=\"wandb\"><tr><td>max</td><td>▁</td></tr><tr><td>mean</td><td>▁</td></tr><tr><td>min</td><td>▁</td></tr><tr><td>std</td><td>▁</td></tr></table><br/></div><div class=\"wandb-col\"><h3>Run summary:</h3><br/><table class=\"wandb\"><tr><td>max</td><td>-939.4071</td></tr><tr><td>mean</td><td>-1145.61157</td></tr><tr><td>min</td><td>-1661.42749</td></tr><tr><td>std</td><td>216.28084</td></tr></table><br/></div></div>"
      ],
      "text/plain": [
       "<IPython.core.display.HTML object>"
      ]
     },
     "metadata": {},
     "output_type": "display_data"
    },
    {
     "data": {
      "text/html": [
       " View run <strong style=\"color:#cdcd00\">skilled-sweep-17</strong> at: <a href='https://wandb.ai/zekai-wang/cs285_proj_get_action_true_dynamics_updated/runs/j1mnclrd' target=\"_blank\">https://wandb.ai/zekai-wang/cs285_proj_get_action_true_dynamics_updated/runs/j1mnclrd</a><br/>Synced 6 W&B file(s), 0 media file(s), 0 artifact file(s) and 0 other file(s)"
      ],
      "text/plain": [
       "<IPython.core.display.HTML object>"
      ]
     },
     "metadata": {},
     "output_type": "display_data"
    },
    {
     "data": {
      "text/html": [
       "Find logs at: <code>./wandb/run-20231209_235323-j1mnclrd/logs</code>"
      ],
      "text/plain": [
       "<IPython.core.display.HTML object>"
      ]
     },
     "metadata": {},
     "output_type": "display_data"
    },
    {
     "name": "stderr",
     "output_type": "stream",
     "text": [
      "\u001b[34m\u001b[1mwandb\u001b[0m: Agent Starting Run: 6qmu3mrh with config:\n",
      "\u001b[34m\u001b[1mwandb\u001b[0m: \tcem_alpha: 1\n",
      "\u001b[34m\u001b[1mwandb\u001b[0m: \tcem_num_elites: 8\n",
      "\u001b[34m\u001b[1mwandb\u001b[0m: \tcem_num_iters: 2\n",
      "\u001b[34m\u001b[1mwandb\u001b[0m: \tmpc_discount: 0.8\n",
      "\u001b[34m\u001b[1mwandb\u001b[0m: \tmpc_horizon_steps: 100\n",
      "\u001b[34m\u001b[1mwandb\u001b[0m: \tmpc_num_action_sequences: 1000\n",
      "\u001b[34m\u001b[1mwandb\u001b[0m: \tmpc_strategy: random\n",
      "/home/zekai/miniconda3/envs/cs285_proj/lib/python3.9/site-packages/ipywidgets/widgets/widget.py:528: DeprecationWarning: The `ipykernel.comm.Comm` class has been deprecated. Please use the `comm` module instead.For creating comms, use the function `from comm import create_comm`.\n",
      "  self.comm = Comm(**args)\n",
      "/home/zekai/miniconda3/envs/cs285_proj/lib/python3.9/site-packages/wandb/sdk/lib/ipython.py:77: DeprecationWarning: Importing display from IPython.core.display is deprecated since IPython 7.14, please import from IPython display\n",
      "  from IPython.core.display import HTML, display  # type: ignore\n"
     ]
    },
    {
     "data": {
      "text/html": [
       "Tracking run with wandb version 0.16.1"
      ],
      "text/plain": [
       "<IPython.core.display.HTML object>"
      ]
     },
     "metadata": {},
     "output_type": "display_data"
    },
    {
     "data": {
      "text/html": [
       "Run data is saved locally in <code>/home/zekai/repos/cs285_proj/notebooks/wandb/run-20231209_235348-6qmu3mrh</code>"
      ],
      "text/plain": [
       "<IPython.core.display.HTML object>"
      ]
     },
     "metadata": {},
     "output_type": "display_data"
    },
    {
     "data": {
      "text/html": [
       "Syncing run <strong><a href='https://wandb.ai/zekai-wang/cs285_proj_get_action_true_dynamics_updated/runs/6qmu3mrh' target=\"_blank\">stoic-sweep-18</a></strong> to <a href='https://wandb.ai/zekai-wang/cs285_proj_get_action_true_dynamics_updated' target=\"_blank\">Weights & Biases</a> (<a href='https://wandb.me/run' target=\"_blank\">docs</a>)<br/>Sweep page: <a href='https://wandb.ai/zekai-wang/cs285_proj_get_action_true_dynamics_updated/sweeps/ok4muk7m' target=\"_blank\">https://wandb.ai/zekai-wang/cs285_proj_get_action_true_dynamics_updated/sweeps/ok4muk7m</a>"
      ],
      "text/plain": [
       "<IPython.core.display.HTML object>"
      ]
     },
     "metadata": {},
     "output_type": "display_data"
    },
    {
     "data": {
      "text/html": [
       " View project at <a href='https://wandb.ai/zekai-wang/cs285_proj_get_action_true_dynamics_updated' target=\"_blank\">https://wandb.ai/zekai-wang/cs285_proj_get_action_true_dynamics_updated</a>"
      ],
      "text/plain": [
       "<IPython.core.display.HTML object>"
      ]
     },
     "metadata": {},
     "output_type": "display_data"
    },
    {
     "data": {
      "text/html": [
       " View sweep at <a href='https://wandb.ai/zekai-wang/cs285_proj_get_action_true_dynamics_updated/sweeps/ok4muk7m' target=\"_blank\">https://wandb.ai/zekai-wang/cs285_proj_get_action_true_dynamics_updated/sweeps/ok4muk7m</a>"
      ],
      "text/plain": [
       "<IPython.core.display.HTML object>"
      ]
     },
     "metadata": {},
     "output_type": "display_data"
    },
    {
     "data": {
      "text/html": [
       " View run at <a href='https://wandb.ai/zekai-wang/cs285_proj_get_action_true_dynamics_updated/runs/6qmu3mrh' target=\"_blank\">https://wandb.ai/zekai-wang/cs285_proj_get_action_true_dynamics_updated/runs/6qmu3mrh</a>"
      ],
      "text/plain": [
       "<IPython.core.display.HTML object>"
      ]
     },
     "metadata": {},
     "output_type": "display_data"
    },
    {
     "name": "stderr",
     "output_type": "stream",
     "text": [
      "100%|██████████| 10/10 [00:15<00:00,  1.53s/it]\n"
     ]
    },
    {
     "name": "stdout",
     "output_type": "stream",
     "text": [
      "mean -1366.0017\n",
      "std 328.05676\n",
      "min -1756.1707\n",
      "max -887.9665\n"
     ]
    },
    {
     "data": {
      "application/vnd.jupyter.widget-view+json": {
       "model_id": "3e27878eb4014b7fa528a30896443e62",
       "version_major": 2,
       "version_minor": 0
      },
      "text/plain": [
       "VBox(children=(Label(value='0.004 MB of 0.004 MB uploaded\\r'), FloatProgress(value=1.0, max=1.0)))"
      ]
     },
     "metadata": {},
     "output_type": "display_data"
    },
    {
     "data": {
      "text/html": [
       "<style>\n",
       "    table.wandb td:nth-child(1) { padding: 0 10px; text-align: left ; width: auto;} td:nth-child(2) {text-align: left ; width: 100%}\n",
       "    .wandb-row { display: flex; flex-direction: row; flex-wrap: wrap; justify-content: flex-start; width: 100% }\n",
       "    .wandb-col { display: flex; flex-direction: column; flex-basis: 100%; flex: 1; padding: 10px; }\n",
       "    </style>\n",
       "<div class=\"wandb-row\"><div class=\"wandb-col\"><h3>Run history:</h3><br/><table class=\"wandb\"><tr><td>max</td><td>▁</td></tr><tr><td>mean</td><td>▁</td></tr><tr><td>min</td><td>▁</td></tr><tr><td>std</td><td>▁</td></tr></table><br/></div><div class=\"wandb-col\"><h3>Run summary:</h3><br/><table class=\"wandb\"><tr><td>max</td><td>-887.96649</td></tr><tr><td>mean</td><td>-1366.00171</td></tr><tr><td>min</td><td>-1756.17065</td></tr><tr><td>std</td><td>328.05676</td></tr></table><br/></div></div>"
      ],
      "text/plain": [
       "<IPython.core.display.HTML object>"
      ]
     },
     "metadata": {},
     "output_type": "display_data"
    },
    {
     "data": {
      "text/html": [
       " View run <strong style=\"color:#cdcd00\">stoic-sweep-18</strong> at: <a href='https://wandb.ai/zekai-wang/cs285_proj_get_action_true_dynamics_updated/runs/6qmu3mrh' target=\"_blank\">https://wandb.ai/zekai-wang/cs285_proj_get_action_true_dynamics_updated/runs/6qmu3mrh</a><br/>Synced 6 W&B file(s), 0 media file(s), 0 artifact file(s) and 0 other file(s)"
      ],
      "text/plain": [
       "<IPython.core.display.HTML object>"
      ]
     },
     "metadata": {},
     "output_type": "display_data"
    },
    {
     "data": {
      "text/html": [
       "Find logs at: <code>./wandb/run-20231209_235348-6qmu3mrh/logs</code>"
      ],
      "text/plain": [
       "<IPython.core.display.HTML object>"
      ]
     },
     "metadata": {},
     "output_type": "display_data"
    },
    {
     "name": "stderr",
     "output_type": "stream",
     "text": [
      "\u001b[34m\u001b[1mwandb\u001b[0m: Agent Starting Run: bg5ssmsg with config:\n",
      "\u001b[34m\u001b[1mwandb\u001b[0m: \tcem_alpha: 0.9\n",
      "\u001b[34m\u001b[1mwandb\u001b[0m: \tcem_num_elites: 1\n",
      "\u001b[34m\u001b[1mwandb\u001b[0m: \tcem_num_iters: 2\n",
      "\u001b[34m\u001b[1mwandb\u001b[0m: \tmpc_discount: 0.9\n",
      "\u001b[34m\u001b[1mwandb\u001b[0m: \tmpc_horizon_steps: 1\n",
      "\u001b[34m\u001b[1mwandb\u001b[0m: \tmpc_num_action_sequences: 5000\n",
      "\u001b[34m\u001b[1mwandb\u001b[0m: \tmpc_strategy: random\n",
      "/home/zekai/miniconda3/envs/cs285_proj/lib/python3.9/site-packages/ipywidgets/widgets/widget.py:528: DeprecationWarning: The `ipykernel.comm.Comm` class has been deprecated. Please use the `comm` module instead.For creating comms, use the function `from comm import create_comm`.\n",
      "  self.comm = Comm(**args)\n",
      "/home/zekai/miniconda3/envs/cs285_proj/lib/python3.9/site-packages/wandb/sdk/lib/ipython.py:77: DeprecationWarning: Importing display from IPython.core.display is deprecated since IPython 7.14, please import from IPython display\n",
      "  from IPython.core.display import HTML, display  # type: ignore\n"
     ]
    },
    {
     "data": {
      "text/html": [
       "Tracking run with wandb version 0.16.1"
      ],
      "text/plain": [
       "<IPython.core.display.HTML object>"
      ]
     },
     "metadata": {},
     "output_type": "display_data"
    },
    {
     "data": {
      "text/html": [
       "Run data is saved locally in <code>/home/zekai/repos/cs285_proj/notebooks/wandb/run-20231209_235414-bg5ssmsg</code>"
      ],
      "text/plain": [
       "<IPython.core.display.HTML object>"
      ]
     },
     "metadata": {},
     "output_type": "display_data"
    },
    {
     "data": {
      "text/html": [
       "Syncing run <strong><a href='https://wandb.ai/zekai-wang/cs285_proj_get_action_true_dynamics_updated/runs/bg5ssmsg' target=\"_blank\">solar-sweep-19</a></strong> to <a href='https://wandb.ai/zekai-wang/cs285_proj_get_action_true_dynamics_updated' target=\"_blank\">Weights & Biases</a> (<a href='https://wandb.me/run' target=\"_blank\">docs</a>)<br/>Sweep page: <a href='https://wandb.ai/zekai-wang/cs285_proj_get_action_true_dynamics_updated/sweeps/ok4muk7m' target=\"_blank\">https://wandb.ai/zekai-wang/cs285_proj_get_action_true_dynamics_updated/sweeps/ok4muk7m</a>"
      ],
      "text/plain": [
       "<IPython.core.display.HTML object>"
      ]
     },
     "metadata": {},
     "output_type": "display_data"
    },
    {
     "data": {
      "text/html": [
       " View project at <a href='https://wandb.ai/zekai-wang/cs285_proj_get_action_true_dynamics_updated' target=\"_blank\">https://wandb.ai/zekai-wang/cs285_proj_get_action_true_dynamics_updated</a>"
      ],
      "text/plain": [
       "<IPython.core.display.HTML object>"
      ]
     },
     "metadata": {},
     "output_type": "display_data"
    },
    {
     "data": {
      "text/html": [
       " View sweep at <a href='https://wandb.ai/zekai-wang/cs285_proj_get_action_true_dynamics_updated/sweeps/ok4muk7m' target=\"_blank\">https://wandb.ai/zekai-wang/cs285_proj_get_action_true_dynamics_updated/sweeps/ok4muk7m</a>"
      ],
      "text/plain": [
       "<IPython.core.display.HTML object>"
      ]
     },
     "metadata": {},
     "output_type": "display_data"
    },
    {
     "data": {
      "text/html": [
       " View run at <a href='https://wandb.ai/zekai-wang/cs285_proj_get_action_true_dynamics_updated/runs/bg5ssmsg' target=\"_blank\">https://wandb.ai/zekai-wang/cs285_proj_get_action_true_dynamics_updated/runs/bg5ssmsg</a>"
      ],
      "text/plain": [
       "<IPython.core.display.HTML object>"
      ]
     },
     "metadata": {},
     "output_type": "display_data"
    },
    {
     "name": "stderr",
     "output_type": "stream",
     "text": [
      "100%|██████████| 10/10 [00:15<00:00,  1.50s/it]\n"
     ]
    },
    {
     "name": "stdout",
     "output_type": "stream",
     "text": [
      "mean -1331.2542\n",
      "std 317.20187\n",
      "min -1822.742\n",
      "max -837.68176\n"
     ]
    },
    {
     "data": {
      "application/vnd.jupyter.widget-view+json": {
       "model_id": "aa8bf03cce0b4e3f9234aaee4f73a3f9",
       "version_major": 2,
       "version_minor": 0
      },
      "text/plain": [
       "VBox(children=(Label(value='0.004 MB of 0.004 MB uploaded\\r'), FloatProgress(value=1.0, max=1.0)))"
      ]
     },
     "metadata": {},
     "output_type": "display_data"
    },
    {
     "data": {
      "text/html": [
       "<style>\n",
       "    table.wandb td:nth-child(1) { padding: 0 10px; text-align: left ; width: auto;} td:nth-child(2) {text-align: left ; width: 100%}\n",
       "    .wandb-row { display: flex; flex-direction: row; flex-wrap: wrap; justify-content: flex-start; width: 100% }\n",
       "    .wandb-col { display: flex; flex-direction: column; flex-basis: 100%; flex: 1; padding: 10px; }\n",
       "    </style>\n",
       "<div class=\"wandb-row\"><div class=\"wandb-col\"><h3>Run history:</h3><br/><table class=\"wandb\"><tr><td>max</td><td>▁</td></tr><tr><td>mean</td><td>▁</td></tr><tr><td>min</td><td>▁</td></tr><tr><td>std</td><td>▁</td></tr></table><br/></div><div class=\"wandb-col\"><h3>Run summary:</h3><br/><table class=\"wandb\"><tr><td>max</td><td>-837.68176</td></tr><tr><td>mean</td><td>-1331.25415</td></tr><tr><td>min</td><td>-1822.74194</td></tr><tr><td>std</td><td>317.20187</td></tr></table><br/></div></div>"
      ],
      "text/plain": [
       "<IPython.core.display.HTML object>"
      ]
     },
     "metadata": {},
     "output_type": "display_data"
    },
    {
     "data": {
      "text/html": [
       " View run <strong style=\"color:#cdcd00\">solar-sweep-19</strong> at: <a href='https://wandb.ai/zekai-wang/cs285_proj_get_action_true_dynamics_updated/runs/bg5ssmsg' target=\"_blank\">https://wandb.ai/zekai-wang/cs285_proj_get_action_true_dynamics_updated/runs/bg5ssmsg</a><br/>Synced 6 W&B file(s), 0 media file(s), 0 artifact file(s) and 0 other file(s)"
      ],
      "text/plain": [
       "<IPython.core.display.HTML object>"
      ]
     },
     "metadata": {},
     "output_type": "display_data"
    },
    {
     "data": {
      "text/html": [
       "Find logs at: <code>./wandb/run-20231209_235414-bg5ssmsg/logs</code>"
      ],
      "text/plain": [
       "<IPython.core.display.HTML object>"
      ]
     },
     "metadata": {},
     "output_type": "display_data"
    },
    {
     "name": "stderr",
     "output_type": "stream",
     "text": [
      "\u001b[34m\u001b[1mwandb\u001b[0m: Agent Starting Run: fqo2cpc5 with config:\n",
      "\u001b[34m\u001b[1mwandb\u001b[0m: \tcem_alpha: 0.95\n",
      "\u001b[34m\u001b[1mwandb\u001b[0m: \tcem_num_elites: 16\n",
      "\u001b[34m\u001b[1mwandb\u001b[0m: \tcem_num_iters: 8\n",
      "\u001b[34m\u001b[1mwandb\u001b[0m: \tmpc_discount: 0.95\n",
      "\u001b[34m\u001b[1mwandb\u001b[0m: \tmpc_horizon_steps: 20\n",
      "\u001b[34m\u001b[1mwandb\u001b[0m: \tmpc_num_action_sequences: 500\n",
      "\u001b[34m\u001b[1mwandb\u001b[0m: \tmpc_strategy: random\n",
      "/home/zekai/miniconda3/envs/cs285_proj/lib/python3.9/site-packages/ipywidgets/widgets/widget.py:528: DeprecationWarning: The `ipykernel.comm.Comm` class has been deprecated. Please use the `comm` module instead.For creating comms, use the function `from comm import create_comm`.\n",
      "  self.comm = Comm(**args)\n",
      "/home/zekai/miniconda3/envs/cs285_proj/lib/python3.9/site-packages/wandb/sdk/lib/ipython.py:77: DeprecationWarning: Importing display from IPython.core.display is deprecated since IPython 7.14, please import from IPython display\n",
      "  from IPython.core.display import HTML, display  # type: ignore\n"
     ]
    },
    {
     "data": {
      "text/html": [
       "Tracking run with wandb version 0.16.1"
      ],
      "text/plain": [
       "<IPython.core.display.HTML object>"
      ]
     },
     "metadata": {},
     "output_type": "display_data"
    },
    {
     "data": {
      "text/html": [
       "Run data is saved locally in <code>/home/zekai/repos/cs285_proj/notebooks/wandb/run-20231209_235441-fqo2cpc5</code>"
      ],
      "text/plain": [
       "<IPython.core.display.HTML object>"
      ]
     },
     "metadata": {},
     "output_type": "display_data"
    },
    {
     "data": {
      "text/html": [
       "Syncing run <strong><a href='https://wandb.ai/zekai-wang/cs285_proj_get_action_true_dynamics_updated/runs/fqo2cpc5' target=\"_blank\">generous-sweep-20</a></strong> to <a href='https://wandb.ai/zekai-wang/cs285_proj_get_action_true_dynamics_updated' target=\"_blank\">Weights & Biases</a> (<a href='https://wandb.me/run' target=\"_blank\">docs</a>)<br/>Sweep page: <a href='https://wandb.ai/zekai-wang/cs285_proj_get_action_true_dynamics_updated/sweeps/ok4muk7m' target=\"_blank\">https://wandb.ai/zekai-wang/cs285_proj_get_action_true_dynamics_updated/sweeps/ok4muk7m</a>"
      ],
      "text/plain": [
       "<IPython.core.display.HTML object>"
      ]
     },
     "metadata": {},
     "output_type": "display_data"
    },
    {
     "data": {
      "text/html": [
       " View project at <a href='https://wandb.ai/zekai-wang/cs285_proj_get_action_true_dynamics_updated' target=\"_blank\">https://wandb.ai/zekai-wang/cs285_proj_get_action_true_dynamics_updated</a>"
      ],
      "text/plain": [
       "<IPython.core.display.HTML object>"
      ]
     },
     "metadata": {},
     "output_type": "display_data"
    },
    {
     "data": {
      "text/html": [
       " View sweep at <a href='https://wandb.ai/zekai-wang/cs285_proj_get_action_true_dynamics_updated/sweeps/ok4muk7m' target=\"_blank\">https://wandb.ai/zekai-wang/cs285_proj_get_action_true_dynamics_updated/sweeps/ok4muk7m</a>"
      ],
      "text/plain": [
       "<IPython.core.display.HTML object>"
      ]
     },
     "metadata": {},
     "output_type": "display_data"
    },
    {
     "data": {
      "text/html": [
       " View run at <a href='https://wandb.ai/zekai-wang/cs285_proj_get_action_true_dynamics_updated/runs/fqo2cpc5' target=\"_blank\">https://wandb.ai/zekai-wang/cs285_proj_get_action_true_dynamics_updated/runs/fqo2cpc5</a>"
      ],
      "text/plain": [
       "<IPython.core.display.HTML object>"
      ]
     },
     "metadata": {},
     "output_type": "display_data"
    },
    {
     "name": "stderr",
     "output_type": "stream",
     "text": [
      "100%|██████████| 10/10 [00:15<00:00,  1.51s/it]\n"
     ]
    },
    {
     "name": "stdout",
     "output_type": "stream",
     "text": [
      "mean -1418.8916\n",
      "std 254.7926\n",
      "min -1794.4857\n",
      "max -964.2369\n"
     ]
    },
    {
     "data": {
      "application/vnd.jupyter.widget-view+json": {
       "model_id": "a1b2e670ec6a4ae39ae64277f21cd6b7",
       "version_major": 2,
       "version_minor": 0
      },
      "text/plain": [
       "VBox(children=(Label(value='0.004 MB of 0.004 MB uploaded\\r'), FloatProgress(value=1.0, max=1.0)))"
      ]
     },
     "metadata": {},
     "output_type": "display_data"
    },
    {
     "data": {
      "text/html": [
       "<style>\n",
       "    table.wandb td:nth-child(1) { padding: 0 10px; text-align: left ; width: auto;} td:nth-child(2) {text-align: left ; width: 100%}\n",
       "    .wandb-row { display: flex; flex-direction: row; flex-wrap: wrap; justify-content: flex-start; width: 100% }\n",
       "    .wandb-col { display: flex; flex-direction: column; flex-basis: 100%; flex: 1; padding: 10px; }\n",
       "    </style>\n",
       "<div class=\"wandb-row\"><div class=\"wandb-col\"><h3>Run history:</h3><br/><table class=\"wandb\"><tr><td>max</td><td>▁</td></tr><tr><td>mean</td><td>▁</td></tr><tr><td>min</td><td>▁</td></tr><tr><td>std</td><td>▁</td></tr></table><br/></div><div class=\"wandb-col\"><h3>Run summary:</h3><br/><table class=\"wandb\"><tr><td>max</td><td>-964.23688</td></tr><tr><td>mean</td><td>-1418.8916</td></tr><tr><td>min</td><td>-1794.48572</td></tr><tr><td>std</td><td>254.7926</td></tr></table><br/></div></div>"
      ],
      "text/plain": [
       "<IPython.core.display.HTML object>"
      ]
     },
     "metadata": {},
     "output_type": "display_data"
    },
    {
     "data": {
      "text/html": [
       " View run <strong style=\"color:#cdcd00\">generous-sweep-20</strong> at: <a href='https://wandb.ai/zekai-wang/cs285_proj_get_action_true_dynamics_updated/runs/fqo2cpc5' target=\"_blank\">https://wandb.ai/zekai-wang/cs285_proj_get_action_true_dynamics_updated/runs/fqo2cpc5</a><br/>Synced 6 W&B file(s), 0 media file(s), 0 artifact file(s) and 0 other file(s)"
      ],
      "text/plain": [
       "<IPython.core.display.HTML object>"
      ]
     },
     "metadata": {},
     "output_type": "display_data"
    },
    {
     "data": {
      "text/html": [
       "Find logs at: <code>./wandb/run-20231209_235441-fqo2cpc5/logs</code>"
      ],
      "text/plain": [
       "<IPython.core.display.HTML object>"
      ]
     },
     "metadata": {},
     "output_type": "display_data"
    },
    {
     "name": "stderr",
     "output_type": "stream",
     "text": [
      "\u001b[34m\u001b[1mwandb\u001b[0m: Agent Starting Run: db0ciymn with config:\n",
      "\u001b[34m\u001b[1mwandb\u001b[0m: \tcem_alpha: 0.99\n",
      "\u001b[34m\u001b[1mwandb\u001b[0m: \tcem_num_elites: 16\n",
      "\u001b[34m\u001b[1mwandb\u001b[0m: \tcem_num_iters: 8\n",
      "\u001b[34m\u001b[1mwandb\u001b[0m: \tmpc_discount: 0.95\n",
      "\u001b[34m\u001b[1mwandb\u001b[0m: \tmpc_horizon_steps: 50\n",
      "\u001b[34m\u001b[1mwandb\u001b[0m: \tmpc_num_action_sequences: 500\n",
      "\u001b[34m\u001b[1mwandb\u001b[0m: \tmpc_strategy: cem\n",
      "/home/zekai/miniconda3/envs/cs285_proj/lib/python3.9/site-packages/ipywidgets/widgets/widget.py:528: DeprecationWarning: The `ipykernel.comm.Comm` class has been deprecated. Please use the `comm` module instead.For creating comms, use the function `from comm import create_comm`.\n",
      "  self.comm = Comm(**args)\n",
      "/home/zekai/miniconda3/envs/cs285_proj/lib/python3.9/site-packages/wandb/sdk/lib/ipython.py:77: DeprecationWarning: Importing display from IPython.core.display is deprecated since IPython 7.14, please import from IPython display\n",
      "  from IPython.core.display import HTML, display  # type: ignore\n"
     ]
    },
    {
     "data": {
      "text/html": [
       "Tracking run with wandb version 0.16.1"
      ],
      "text/plain": [
       "<IPython.core.display.HTML object>"
      ]
     },
     "metadata": {},
     "output_type": "display_data"
    },
    {
     "data": {
      "text/html": [
       "Run data is saved locally in <code>/home/zekai/repos/cs285_proj/notebooks/wandb/run-20231209_235506-db0ciymn</code>"
      ],
      "text/plain": [
       "<IPython.core.display.HTML object>"
      ]
     },
     "metadata": {},
     "output_type": "display_data"
    },
    {
     "data": {
      "text/html": [
       "Syncing run <strong><a href='https://wandb.ai/zekai-wang/cs285_proj_get_action_true_dynamics_updated/runs/db0ciymn' target=\"_blank\">wandering-sweep-21</a></strong> to <a href='https://wandb.ai/zekai-wang/cs285_proj_get_action_true_dynamics_updated' target=\"_blank\">Weights & Biases</a> (<a href='https://wandb.me/run' target=\"_blank\">docs</a>)<br/>Sweep page: <a href='https://wandb.ai/zekai-wang/cs285_proj_get_action_true_dynamics_updated/sweeps/ok4muk7m' target=\"_blank\">https://wandb.ai/zekai-wang/cs285_proj_get_action_true_dynamics_updated/sweeps/ok4muk7m</a>"
      ],
      "text/plain": [
       "<IPython.core.display.HTML object>"
      ]
     },
     "metadata": {},
     "output_type": "display_data"
    },
    {
     "data": {
      "text/html": [
       " View project at <a href='https://wandb.ai/zekai-wang/cs285_proj_get_action_true_dynamics_updated' target=\"_blank\">https://wandb.ai/zekai-wang/cs285_proj_get_action_true_dynamics_updated</a>"
      ],
      "text/plain": [
       "<IPython.core.display.HTML object>"
      ]
     },
     "metadata": {},
     "output_type": "display_data"
    },
    {
     "data": {
      "text/html": [
       " View sweep at <a href='https://wandb.ai/zekai-wang/cs285_proj_get_action_true_dynamics_updated/sweeps/ok4muk7m' target=\"_blank\">https://wandb.ai/zekai-wang/cs285_proj_get_action_true_dynamics_updated/sweeps/ok4muk7m</a>"
      ],
      "text/plain": [
       "<IPython.core.display.HTML object>"
      ]
     },
     "metadata": {},
     "output_type": "display_data"
    },
    {
     "data": {
      "text/html": [
       " View run at <a href='https://wandb.ai/zekai-wang/cs285_proj_get_action_true_dynamics_updated/runs/db0ciymn' target=\"_blank\">https://wandb.ai/zekai-wang/cs285_proj_get_action_true_dynamics_updated/runs/db0ciymn</a>"
      ],
      "text/plain": [
       "<IPython.core.display.HTML object>"
      ]
     },
     "metadata": {},
     "output_type": "display_data"
    },
    {
     "name": "stderr",
     "output_type": "stream",
     "text": [
      "100%|██████████| 10/10 [00:15<00:00,  1.57s/it]\n"
     ]
    },
    {
     "name": "stdout",
     "output_type": "stream",
     "text": [
      "mean -1060.4124\n",
      "std 198.80756\n",
      "min -1379.7148\n",
      "max -797.72095\n"
     ]
    },
    {
     "data": {
      "application/vnd.jupyter.widget-view+json": {
       "model_id": "4a92a16d87614014b52498aa89760ff2",
       "version_major": 2,
       "version_minor": 0
      },
      "text/plain": [
       "VBox(children=(Label(value='0.004 MB of 0.004 MB uploaded\\r'), FloatProgress(value=1.0, max=1.0)))"
      ]
     },
     "metadata": {},
     "output_type": "display_data"
    },
    {
     "data": {
      "text/html": [
       "<style>\n",
       "    table.wandb td:nth-child(1) { padding: 0 10px; text-align: left ; width: auto;} td:nth-child(2) {text-align: left ; width: 100%}\n",
       "    .wandb-row { display: flex; flex-direction: row; flex-wrap: wrap; justify-content: flex-start; width: 100% }\n",
       "    .wandb-col { display: flex; flex-direction: column; flex-basis: 100%; flex: 1; padding: 10px; }\n",
       "    </style>\n",
       "<div class=\"wandb-row\"><div class=\"wandb-col\"><h3>Run history:</h3><br/><table class=\"wandb\"><tr><td>max</td><td>▁</td></tr><tr><td>mean</td><td>▁</td></tr><tr><td>min</td><td>▁</td></tr><tr><td>std</td><td>▁</td></tr></table><br/></div><div class=\"wandb-col\"><h3>Run summary:</h3><br/><table class=\"wandb\"><tr><td>max</td><td>-797.72095</td></tr><tr><td>mean</td><td>-1060.41235</td></tr><tr><td>min</td><td>-1379.71484</td></tr><tr><td>std</td><td>198.80756</td></tr></table><br/></div></div>"
      ],
      "text/plain": [
       "<IPython.core.display.HTML object>"
      ]
     },
     "metadata": {},
     "output_type": "display_data"
    },
    {
     "data": {
      "text/html": [
       " View run <strong style=\"color:#cdcd00\">wandering-sweep-21</strong> at: <a href='https://wandb.ai/zekai-wang/cs285_proj_get_action_true_dynamics_updated/runs/db0ciymn' target=\"_blank\">https://wandb.ai/zekai-wang/cs285_proj_get_action_true_dynamics_updated/runs/db0ciymn</a><br/>Synced 6 W&B file(s), 0 media file(s), 0 artifact file(s) and 0 other file(s)"
      ],
      "text/plain": [
       "<IPython.core.display.HTML object>"
      ]
     },
     "metadata": {},
     "output_type": "display_data"
    },
    {
     "data": {
      "text/html": [
       "Find logs at: <code>./wandb/run-20231209_235506-db0ciymn/logs</code>"
      ],
      "text/plain": [
       "<IPython.core.display.HTML object>"
      ]
     },
     "metadata": {},
     "output_type": "display_data"
    },
    {
     "name": "stderr",
     "output_type": "stream",
     "text": [
      "\u001b[34m\u001b[1mwandb\u001b[0m: Agent Starting Run: dfi74s0h with config:\n",
      "\u001b[34m\u001b[1mwandb\u001b[0m: \tcem_alpha: 0.99\n",
      "\u001b[34m\u001b[1mwandb\u001b[0m: \tcem_num_elites: 2\n",
      "\u001b[34m\u001b[1mwandb\u001b[0m: \tcem_num_iters: 4\n",
      "\u001b[34m\u001b[1mwandb\u001b[0m: \tmpc_discount: 0.9\n",
      "\u001b[34m\u001b[1mwandb\u001b[0m: \tmpc_horizon_steps: 100\n",
      "\u001b[34m\u001b[1mwandb\u001b[0m: \tmpc_num_action_sequences: 2000\n",
      "\u001b[34m\u001b[1mwandb\u001b[0m: \tmpc_strategy: random\n",
      "/home/zekai/miniconda3/envs/cs285_proj/lib/python3.9/site-packages/ipywidgets/widgets/widget.py:528: DeprecationWarning: The `ipykernel.comm.Comm` class has been deprecated. Please use the `comm` module instead.For creating comms, use the function `from comm import create_comm`.\n",
      "  self.comm = Comm(**args)\n",
      "/home/zekai/miniconda3/envs/cs285_proj/lib/python3.9/site-packages/wandb/sdk/lib/ipython.py:77: DeprecationWarning: Importing display from IPython.core.display is deprecated since IPython 7.14, please import from IPython display\n",
      "  from IPython.core.display import HTML, display  # type: ignore\n"
     ]
    },
    {
     "data": {
      "text/html": [
       "Tracking run with wandb version 0.16.1"
      ],
      "text/plain": [
       "<IPython.core.display.HTML object>"
      ]
     },
     "metadata": {},
     "output_type": "display_data"
    },
    {
     "data": {
      "text/html": [
       "Run data is saved locally in <code>/home/zekai/repos/cs285_proj/notebooks/wandb/run-20231209_235532-dfi74s0h</code>"
      ],
      "text/plain": [
       "<IPython.core.display.HTML object>"
      ]
     },
     "metadata": {},
     "output_type": "display_data"
    },
    {
     "data": {
      "text/html": [
       "Syncing run <strong><a href='https://wandb.ai/zekai-wang/cs285_proj_get_action_true_dynamics_updated/runs/dfi74s0h' target=\"_blank\">proud-sweep-22</a></strong> to <a href='https://wandb.ai/zekai-wang/cs285_proj_get_action_true_dynamics_updated' target=\"_blank\">Weights & Biases</a> (<a href='https://wandb.me/run' target=\"_blank\">docs</a>)<br/>Sweep page: <a href='https://wandb.ai/zekai-wang/cs285_proj_get_action_true_dynamics_updated/sweeps/ok4muk7m' target=\"_blank\">https://wandb.ai/zekai-wang/cs285_proj_get_action_true_dynamics_updated/sweeps/ok4muk7m</a>"
      ],
      "text/plain": [
       "<IPython.core.display.HTML object>"
      ]
     },
     "metadata": {},
     "output_type": "display_data"
    },
    {
     "data": {
      "text/html": [
       " View project at <a href='https://wandb.ai/zekai-wang/cs285_proj_get_action_true_dynamics_updated' target=\"_blank\">https://wandb.ai/zekai-wang/cs285_proj_get_action_true_dynamics_updated</a>"
      ],
      "text/plain": [
       "<IPython.core.display.HTML object>"
      ]
     },
     "metadata": {},
     "output_type": "display_data"
    },
    {
     "data": {
      "text/html": [
       " View sweep at <a href='https://wandb.ai/zekai-wang/cs285_proj_get_action_true_dynamics_updated/sweeps/ok4muk7m' target=\"_blank\">https://wandb.ai/zekai-wang/cs285_proj_get_action_true_dynamics_updated/sweeps/ok4muk7m</a>"
      ],
      "text/plain": [
       "<IPython.core.display.HTML object>"
      ]
     },
     "metadata": {},
     "output_type": "display_data"
    },
    {
     "data": {
      "text/html": [
       " View run at <a href='https://wandb.ai/zekai-wang/cs285_proj_get_action_true_dynamics_updated/runs/dfi74s0h' target=\"_blank\">https://wandb.ai/zekai-wang/cs285_proj_get_action_true_dynamics_updated/runs/dfi74s0h</a>"
      ],
      "text/plain": [
       "<IPython.core.display.HTML object>"
      ]
     },
     "metadata": {},
     "output_type": "display_data"
    },
    {
     "name": "stderr",
     "output_type": "stream",
     "text": [
      "100%|██████████| 10/10 [00:15<00:00,  1.51s/it]\n"
     ]
    },
    {
     "name": "stdout",
     "output_type": "stream",
     "text": [
      "mean -1328.5276\n",
      "std 262.85782\n",
      "min -1832.2727\n",
      "max -963.12866\n"
     ]
    },
    {
     "data": {
      "application/vnd.jupyter.widget-view+json": {
       "model_id": "674424f9b32045b9b065ecf8a989754a",
       "version_major": 2,
       "version_minor": 0
      },
      "text/plain": [
       "VBox(children=(Label(value='0.004 MB of 0.004 MB uploaded\\r'), FloatProgress(value=1.0, max=1.0)))"
      ]
     },
     "metadata": {},
     "output_type": "display_data"
    },
    {
     "data": {
      "text/html": [
       "<style>\n",
       "    table.wandb td:nth-child(1) { padding: 0 10px; text-align: left ; width: auto;} td:nth-child(2) {text-align: left ; width: 100%}\n",
       "    .wandb-row { display: flex; flex-direction: row; flex-wrap: wrap; justify-content: flex-start; width: 100% }\n",
       "    .wandb-col { display: flex; flex-direction: column; flex-basis: 100%; flex: 1; padding: 10px; }\n",
       "    </style>\n",
       "<div class=\"wandb-row\"><div class=\"wandb-col\"><h3>Run history:</h3><br/><table class=\"wandb\"><tr><td>max</td><td>▁</td></tr><tr><td>mean</td><td>▁</td></tr><tr><td>min</td><td>▁</td></tr><tr><td>std</td><td>▁</td></tr></table><br/></div><div class=\"wandb-col\"><h3>Run summary:</h3><br/><table class=\"wandb\"><tr><td>max</td><td>-963.12866</td></tr><tr><td>mean</td><td>-1328.52759</td></tr><tr><td>min</td><td>-1832.27271</td></tr><tr><td>std</td><td>262.85782</td></tr></table><br/></div></div>"
      ],
      "text/plain": [
       "<IPython.core.display.HTML object>"
      ]
     },
     "metadata": {},
     "output_type": "display_data"
    },
    {
     "data": {
      "text/html": [
       " View run <strong style=\"color:#cdcd00\">proud-sweep-22</strong> at: <a href='https://wandb.ai/zekai-wang/cs285_proj_get_action_true_dynamics_updated/runs/dfi74s0h' target=\"_blank\">https://wandb.ai/zekai-wang/cs285_proj_get_action_true_dynamics_updated/runs/dfi74s0h</a><br/>Synced 6 W&B file(s), 0 media file(s), 0 artifact file(s) and 0 other file(s)"
      ],
      "text/plain": [
       "<IPython.core.display.HTML object>"
      ]
     },
     "metadata": {},
     "output_type": "display_data"
    },
    {
     "data": {
      "text/html": [
       "Find logs at: <code>./wandb/run-20231209_235532-dfi74s0h/logs</code>"
      ],
      "text/plain": [
       "<IPython.core.display.HTML object>"
      ]
     },
     "metadata": {},
     "output_type": "display_data"
    },
    {
     "name": "stderr",
     "output_type": "stream",
     "text": [
      "\u001b[34m\u001b[1mwandb\u001b[0m: Agent Starting Run: vwq7l446 with config:\n",
      "\u001b[34m\u001b[1mwandb\u001b[0m: \tcem_alpha: 0.95\n",
      "\u001b[34m\u001b[1mwandb\u001b[0m: \tcem_num_elites: 64\n",
      "\u001b[34m\u001b[1mwandb\u001b[0m: \tcem_num_iters: 4\n",
      "\u001b[34m\u001b[1mwandb\u001b[0m: \tmpc_discount: 0.99\n",
      "\u001b[34m\u001b[1mwandb\u001b[0m: \tmpc_horizon_steps: 10\n",
      "\u001b[34m\u001b[1mwandb\u001b[0m: \tmpc_num_action_sequences: 100\n",
      "\u001b[34m\u001b[1mwandb\u001b[0m: \tmpc_strategy: cem\n",
      "/home/zekai/miniconda3/envs/cs285_proj/lib/python3.9/site-packages/ipywidgets/widgets/widget.py:528: DeprecationWarning: The `ipykernel.comm.Comm` class has been deprecated. Please use the `comm` module instead.For creating comms, use the function `from comm import create_comm`.\n",
      "  self.comm = Comm(**args)\n",
      "/home/zekai/miniconda3/envs/cs285_proj/lib/python3.9/site-packages/wandb/sdk/lib/ipython.py:77: DeprecationWarning: Importing display from IPython.core.display is deprecated since IPython 7.14, please import from IPython display\n",
      "  from IPython.core.display import HTML, display  # type: ignore\n"
     ]
    },
    {
     "data": {
      "text/html": [
       "Tracking run with wandb version 0.16.1"
      ],
      "text/plain": [
       "<IPython.core.display.HTML object>"
      ]
     },
     "metadata": {},
     "output_type": "display_data"
    },
    {
     "data": {
      "text/html": [
       "Run data is saved locally in <code>/home/zekai/repos/cs285_proj/notebooks/wandb/run-20231209_235557-vwq7l446</code>"
      ],
      "text/plain": [
       "<IPython.core.display.HTML object>"
      ]
     },
     "metadata": {},
     "output_type": "display_data"
    },
    {
     "data": {
      "text/html": [
       "Syncing run <strong><a href='https://wandb.ai/zekai-wang/cs285_proj_get_action_true_dynamics_updated/runs/vwq7l446' target=\"_blank\">different-sweep-23</a></strong> to <a href='https://wandb.ai/zekai-wang/cs285_proj_get_action_true_dynamics_updated' target=\"_blank\">Weights & Biases</a> (<a href='https://wandb.me/run' target=\"_blank\">docs</a>)<br/>Sweep page: <a href='https://wandb.ai/zekai-wang/cs285_proj_get_action_true_dynamics_updated/sweeps/ok4muk7m' target=\"_blank\">https://wandb.ai/zekai-wang/cs285_proj_get_action_true_dynamics_updated/sweeps/ok4muk7m</a>"
      ],
      "text/plain": [
       "<IPython.core.display.HTML object>"
      ]
     },
     "metadata": {},
     "output_type": "display_data"
    },
    {
     "data": {
      "text/html": [
       " View project at <a href='https://wandb.ai/zekai-wang/cs285_proj_get_action_true_dynamics_updated' target=\"_blank\">https://wandb.ai/zekai-wang/cs285_proj_get_action_true_dynamics_updated</a>"
      ],
      "text/plain": [
       "<IPython.core.display.HTML object>"
      ]
     },
     "metadata": {},
     "output_type": "display_data"
    },
    {
     "data": {
      "text/html": [
       " View sweep at <a href='https://wandb.ai/zekai-wang/cs285_proj_get_action_true_dynamics_updated/sweeps/ok4muk7m' target=\"_blank\">https://wandb.ai/zekai-wang/cs285_proj_get_action_true_dynamics_updated/sweeps/ok4muk7m</a>"
      ],
      "text/plain": [
       "<IPython.core.display.HTML object>"
      ]
     },
     "metadata": {},
     "output_type": "display_data"
    },
    {
     "data": {
      "text/html": [
       " View run at <a href='https://wandb.ai/zekai-wang/cs285_proj_get_action_true_dynamics_updated/runs/vwq7l446' target=\"_blank\">https://wandb.ai/zekai-wang/cs285_proj_get_action_true_dynamics_updated/runs/vwq7l446</a>"
      ],
      "text/plain": [
       "<IPython.core.display.HTML object>"
      ]
     },
     "metadata": {},
     "output_type": "display_data"
    },
    {
     "name": "stderr",
     "output_type": "stream",
     "text": [
      "100%|██████████| 10/10 [00:15<00:00,  1.57s/it]\n"
     ]
    },
    {
     "name": "stdout",
     "output_type": "stream",
     "text": [
      "mean -1281.0676\n",
      "std 342.12115\n",
      "min -1807.0696\n",
      "max -747.62463\n"
     ]
    },
    {
     "data": {
      "application/vnd.jupyter.widget-view+json": {
       "model_id": "8e0c7609491c47c0a99f30bb3f241015",
       "version_major": 2,
       "version_minor": 0
      },
      "text/plain": [
       "VBox(children=(Label(value='0.004 MB of 0.004 MB uploaded\\r'), FloatProgress(value=1.0, max=1.0)))"
      ]
     },
     "metadata": {},
     "output_type": "display_data"
    },
    {
     "data": {
      "text/html": [
       "<style>\n",
       "    table.wandb td:nth-child(1) { padding: 0 10px; text-align: left ; width: auto;} td:nth-child(2) {text-align: left ; width: 100%}\n",
       "    .wandb-row { display: flex; flex-direction: row; flex-wrap: wrap; justify-content: flex-start; width: 100% }\n",
       "    .wandb-col { display: flex; flex-direction: column; flex-basis: 100%; flex: 1; padding: 10px; }\n",
       "    </style>\n",
       "<div class=\"wandb-row\"><div class=\"wandb-col\"><h3>Run history:</h3><br/><table class=\"wandb\"><tr><td>max</td><td>▁</td></tr><tr><td>mean</td><td>▁</td></tr><tr><td>min</td><td>▁</td></tr><tr><td>std</td><td>▁</td></tr></table><br/></div><div class=\"wandb-col\"><h3>Run summary:</h3><br/><table class=\"wandb\"><tr><td>max</td><td>-747.62463</td></tr><tr><td>mean</td><td>-1281.06763</td></tr><tr><td>min</td><td>-1807.06958</td></tr><tr><td>std</td><td>342.12115</td></tr></table><br/></div></div>"
      ],
      "text/plain": [
       "<IPython.core.display.HTML object>"
      ]
     },
     "metadata": {},
     "output_type": "display_data"
    },
    {
     "data": {
      "text/html": [
       " View run <strong style=\"color:#cdcd00\">different-sweep-23</strong> at: <a href='https://wandb.ai/zekai-wang/cs285_proj_get_action_true_dynamics_updated/runs/vwq7l446' target=\"_blank\">https://wandb.ai/zekai-wang/cs285_proj_get_action_true_dynamics_updated/runs/vwq7l446</a><br/>Synced 6 W&B file(s), 0 media file(s), 0 artifact file(s) and 0 other file(s)"
      ],
      "text/plain": [
       "<IPython.core.display.HTML object>"
      ]
     },
     "metadata": {},
     "output_type": "display_data"
    },
    {
     "data": {
      "text/html": [
       "Find logs at: <code>./wandb/run-20231209_235557-vwq7l446/logs</code>"
      ],
      "text/plain": [
       "<IPython.core.display.HTML object>"
      ]
     },
     "metadata": {},
     "output_type": "display_data"
    },
    {
     "name": "stderr",
     "output_type": "stream",
     "text": [
      "\u001b[34m\u001b[1mwandb\u001b[0m: Agent Starting Run: ddleltrx with config:\n",
      "\u001b[34m\u001b[1mwandb\u001b[0m: \tcem_alpha: 0.95\n",
      "\u001b[34m\u001b[1mwandb\u001b[0m: \tcem_num_elites: 1\n",
      "\u001b[34m\u001b[1mwandb\u001b[0m: \tcem_num_iters: 4\n",
      "\u001b[34m\u001b[1mwandb\u001b[0m: \tmpc_discount: 0.95\n",
      "\u001b[34m\u001b[1mwandb\u001b[0m: \tmpc_horizon_steps: 10\n",
      "\u001b[34m\u001b[1mwandb\u001b[0m: \tmpc_num_action_sequences: 1000\n",
      "\u001b[34m\u001b[1mwandb\u001b[0m: \tmpc_strategy: random\n",
      "/home/zekai/miniconda3/envs/cs285_proj/lib/python3.9/site-packages/ipywidgets/widgets/widget.py:528: DeprecationWarning: The `ipykernel.comm.Comm` class has been deprecated. Please use the `comm` module instead.For creating comms, use the function `from comm import create_comm`.\n",
      "  self.comm = Comm(**args)\n",
      "/home/zekai/miniconda3/envs/cs285_proj/lib/python3.9/site-packages/wandb/sdk/lib/ipython.py:77: DeprecationWarning: Importing display from IPython.core.display is deprecated since IPython 7.14, please import from IPython display\n",
      "  from IPython.core.display import HTML, display  # type: ignore\n"
     ]
    },
    {
     "data": {
      "text/html": [
       "Tracking run with wandb version 0.16.1"
      ],
      "text/plain": [
       "<IPython.core.display.HTML object>"
      ]
     },
     "metadata": {},
     "output_type": "display_data"
    },
    {
     "data": {
      "text/html": [
       "Run data is saved locally in <code>/home/zekai/repos/cs285_proj/notebooks/wandb/run-20231209_235628-ddleltrx</code>"
      ],
      "text/plain": [
       "<IPython.core.display.HTML object>"
      ]
     },
     "metadata": {},
     "output_type": "display_data"
    },
    {
     "data": {
      "text/html": [
       "Syncing run <strong><a href='https://wandb.ai/zekai-wang/cs285_proj_get_action_true_dynamics_updated/runs/ddleltrx' target=\"_blank\">cool-sweep-24</a></strong> to <a href='https://wandb.ai/zekai-wang/cs285_proj_get_action_true_dynamics_updated' target=\"_blank\">Weights & Biases</a> (<a href='https://wandb.me/run' target=\"_blank\">docs</a>)<br/>Sweep page: <a href='https://wandb.ai/zekai-wang/cs285_proj_get_action_true_dynamics_updated/sweeps/ok4muk7m' target=\"_blank\">https://wandb.ai/zekai-wang/cs285_proj_get_action_true_dynamics_updated/sweeps/ok4muk7m</a>"
      ],
      "text/plain": [
       "<IPython.core.display.HTML object>"
      ]
     },
     "metadata": {},
     "output_type": "display_data"
    },
    {
     "data": {
      "text/html": [
       " View project at <a href='https://wandb.ai/zekai-wang/cs285_proj_get_action_true_dynamics_updated' target=\"_blank\">https://wandb.ai/zekai-wang/cs285_proj_get_action_true_dynamics_updated</a>"
      ],
      "text/plain": [
       "<IPython.core.display.HTML object>"
      ]
     },
     "metadata": {},
     "output_type": "display_data"
    },
    {
     "data": {
      "text/html": [
       " View sweep at <a href='https://wandb.ai/zekai-wang/cs285_proj_get_action_true_dynamics_updated/sweeps/ok4muk7m' target=\"_blank\">https://wandb.ai/zekai-wang/cs285_proj_get_action_true_dynamics_updated/sweeps/ok4muk7m</a>"
      ],
      "text/plain": [
       "<IPython.core.display.HTML object>"
      ]
     },
     "metadata": {},
     "output_type": "display_data"
    },
    {
     "data": {
      "text/html": [
       " View run at <a href='https://wandb.ai/zekai-wang/cs285_proj_get_action_true_dynamics_updated/runs/ddleltrx' target=\"_blank\">https://wandb.ai/zekai-wang/cs285_proj_get_action_true_dynamics_updated/runs/ddleltrx</a>"
      ],
      "text/plain": [
       "<IPython.core.display.HTML object>"
      ]
     },
     "metadata": {},
     "output_type": "display_data"
    },
    {
     "name": "stderr",
     "output_type": "stream",
     "text": [
      "100%|██████████| 10/10 [00:15<00:00,  1.53s/it]\n"
     ]
    },
    {
     "name": "stdout",
     "output_type": "stream",
     "text": [
      "mean -1179.5667\n",
      "std 261.11707\n",
      "min -1697.8394\n",
      "max -868.2554\n"
     ]
    },
    {
     "data": {
      "application/vnd.jupyter.widget-view+json": {
       "model_id": "2adc2fc7138f4de484e5f40b84d9c1e8",
       "version_major": 2,
       "version_minor": 0
      },
      "text/plain": [
       "VBox(children=(Label(value='0.004 MB of 0.004 MB uploaded\\r'), FloatProgress(value=1.0, max=1.0)))"
      ]
     },
     "metadata": {},
     "output_type": "display_data"
    },
    {
     "data": {
      "text/html": [
       "<style>\n",
       "    table.wandb td:nth-child(1) { padding: 0 10px; text-align: left ; width: auto;} td:nth-child(2) {text-align: left ; width: 100%}\n",
       "    .wandb-row { display: flex; flex-direction: row; flex-wrap: wrap; justify-content: flex-start; width: 100% }\n",
       "    .wandb-col { display: flex; flex-direction: column; flex-basis: 100%; flex: 1; padding: 10px; }\n",
       "    </style>\n",
       "<div class=\"wandb-row\"><div class=\"wandb-col\"><h3>Run history:</h3><br/><table class=\"wandb\"><tr><td>max</td><td>▁</td></tr><tr><td>mean</td><td>▁</td></tr><tr><td>min</td><td>▁</td></tr><tr><td>std</td><td>▁</td></tr></table><br/></div><div class=\"wandb-col\"><h3>Run summary:</h3><br/><table class=\"wandb\"><tr><td>max</td><td>-868.25537</td></tr><tr><td>mean</td><td>-1179.56665</td></tr><tr><td>min</td><td>-1697.83936</td></tr><tr><td>std</td><td>261.11707</td></tr></table><br/></div></div>"
      ],
      "text/plain": [
       "<IPython.core.display.HTML object>"
      ]
     },
     "metadata": {},
     "output_type": "display_data"
    },
    {
     "data": {
      "text/html": [
       " View run <strong style=\"color:#cdcd00\">cool-sweep-24</strong> at: <a href='https://wandb.ai/zekai-wang/cs285_proj_get_action_true_dynamics_updated/runs/ddleltrx' target=\"_blank\">https://wandb.ai/zekai-wang/cs285_proj_get_action_true_dynamics_updated/runs/ddleltrx</a><br/>Synced 6 W&B file(s), 0 media file(s), 0 artifact file(s) and 0 other file(s)"
      ],
      "text/plain": [
       "<IPython.core.display.HTML object>"
      ]
     },
     "metadata": {},
     "output_type": "display_data"
    },
    {
     "data": {
      "text/html": [
       "Find logs at: <code>./wandb/run-20231209_235628-ddleltrx/logs</code>"
      ],
      "text/plain": [
       "<IPython.core.display.HTML object>"
      ]
     },
     "metadata": {},
     "output_type": "display_data"
    },
    {
     "name": "stderr",
     "output_type": "stream",
     "text": [
      "\u001b[34m\u001b[1mwandb\u001b[0m: Agent Starting Run: dljh5tvu with config:\n",
      "\u001b[34m\u001b[1mwandb\u001b[0m: \tcem_alpha: 0.9\n",
      "\u001b[34m\u001b[1mwandb\u001b[0m: \tcem_num_elites: 64\n",
      "\u001b[34m\u001b[1mwandb\u001b[0m: \tcem_num_iters: 4\n",
      "\u001b[34m\u001b[1mwandb\u001b[0m: \tmpc_discount: 0.5\n",
      "\u001b[34m\u001b[1mwandb\u001b[0m: \tmpc_horizon_steps: 1\n",
      "\u001b[34m\u001b[1mwandb\u001b[0m: \tmpc_num_action_sequences: 500\n",
      "\u001b[34m\u001b[1mwandb\u001b[0m: \tmpc_strategy: random\n",
      "/home/zekai/miniconda3/envs/cs285_proj/lib/python3.9/site-packages/ipywidgets/widgets/widget.py:528: DeprecationWarning: The `ipykernel.comm.Comm` class has been deprecated. Please use the `comm` module instead.For creating comms, use the function `from comm import create_comm`.\n",
      "  self.comm = Comm(**args)\n",
      "/home/zekai/miniconda3/envs/cs285_proj/lib/python3.9/site-packages/wandb/sdk/lib/ipython.py:77: DeprecationWarning: Importing display from IPython.core.display is deprecated since IPython 7.14, please import from IPython display\n",
      "  from IPython.core.display import HTML, display  # type: ignore\n"
     ]
    },
    {
     "data": {
      "text/html": [
       "Tracking run with wandb version 0.16.1"
      ],
      "text/plain": [
       "<IPython.core.display.HTML object>"
      ]
     },
     "metadata": {},
     "output_type": "display_data"
    },
    {
     "data": {
      "text/html": [
       "Run data is saved locally in <code>/home/zekai/repos/cs285_proj/notebooks/wandb/run-20231209_235654-dljh5tvu</code>"
      ],
      "text/plain": [
       "<IPython.core.display.HTML object>"
      ]
     },
     "metadata": {},
     "output_type": "display_data"
    },
    {
     "data": {
      "text/html": [
       "Syncing run <strong><a href='https://wandb.ai/zekai-wang/cs285_proj_get_action_true_dynamics_updated/runs/dljh5tvu' target=\"_blank\">faithful-sweep-25</a></strong> to <a href='https://wandb.ai/zekai-wang/cs285_proj_get_action_true_dynamics_updated' target=\"_blank\">Weights & Biases</a> (<a href='https://wandb.me/run' target=\"_blank\">docs</a>)<br/>Sweep page: <a href='https://wandb.ai/zekai-wang/cs285_proj_get_action_true_dynamics_updated/sweeps/ok4muk7m' target=\"_blank\">https://wandb.ai/zekai-wang/cs285_proj_get_action_true_dynamics_updated/sweeps/ok4muk7m</a>"
      ],
      "text/plain": [
       "<IPython.core.display.HTML object>"
      ]
     },
     "metadata": {},
     "output_type": "display_data"
    },
    {
     "data": {
      "text/html": [
       " View project at <a href='https://wandb.ai/zekai-wang/cs285_proj_get_action_true_dynamics_updated' target=\"_blank\">https://wandb.ai/zekai-wang/cs285_proj_get_action_true_dynamics_updated</a>"
      ],
      "text/plain": [
       "<IPython.core.display.HTML object>"
      ]
     },
     "metadata": {},
     "output_type": "display_data"
    },
    {
     "data": {
      "text/html": [
       " View sweep at <a href='https://wandb.ai/zekai-wang/cs285_proj_get_action_true_dynamics_updated/sweeps/ok4muk7m' target=\"_blank\">https://wandb.ai/zekai-wang/cs285_proj_get_action_true_dynamics_updated/sweeps/ok4muk7m</a>"
      ],
      "text/plain": [
       "<IPython.core.display.HTML object>"
      ]
     },
     "metadata": {},
     "output_type": "display_data"
    },
    {
     "data": {
      "text/html": [
       " View run at <a href='https://wandb.ai/zekai-wang/cs285_proj_get_action_true_dynamics_updated/runs/dljh5tvu' target=\"_blank\">https://wandb.ai/zekai-wang/cs285_proj_get_action_true_dynamics_updated/runs/dljh5tvu</a>"
      ],
      "text/plain": [
       "<IPython.core.display.HTML object>"
      ]
     },
     "metadata": {},
     "output_type": "display_data"
    },
    {
     "name": "stderr",
     "output_type": "stream",
     "text": [
      "100%|██████████| 10/10 [00:15<00:00,  1.53s/it]\n"
     ]
    },
    {
     "name": "stdout",
     "output_type": "stream",
     "text": [
      "mean -1145.6185\n",
      "std 322.6526\n",
      "min -1807.2755\n",
      "max -851.90283\n"
     ]
    },
    {
     "data": {
      "application/vnd.jupyter.widget-view+json": {
       "model_id": "e1488730a12a4c7398888c8abbe9c59d",
       "version_major": 2,
       "version_minor": 0
      },
      "text/plain": [
       "VBox(children=(Label(value='0.004 MB of 0.004 MB uploaded\\r'), FloatProgress(value=1.0, max=1.0)))"
      ]
     },
     "metadata": {},
     "output_type": "display_data"
    },
    {
     "data": {
      "text/html": [
       "<style>\n",
       "    table.wandb td:nth-child(1) { padding: 0 10px; text-align: left ; width: auto;} td:nth-child(2) {text-align: left ; width: 100%}\n",
       "    .wandb-row { display: flex; flex-direction: row; flex-wrap: wrap; justify-content: flex-start; width: 100% }\n",
       "    .wandb-col { display: flex; flex-direction: column; flex-basis: 100%; flex: 1; padding: 10px; }\n",
       "    </style>\n",
       "<div class=\"wandb-row\"><div class=\"wandb-col\"><h3>Run history:</h3><br/><table class=\"wandb\"><tr><td>max</td><td>▁</td></tr><tr><td>mean</td><td>▁</td></tr><tr><td>min</td><td>▁</td></tr><tr><td>std</td><td>▁</td></tr></table><br/></div><div class=\"wandb-col\"><h3>Run summary:</h3><br/><table class=\"wandb\"><tr><td>max</td><td>-851.90283</td></tr><tr><td>mean</td><td>-1145.61853</td></tr><tr><td>min</td><td>-1807.27551</td></tr><tr><td>std</td><td>322.65259</td></tr></table><br/></div></div>"
      ],
      "text/plain": [
       "<IPython.core.display.HTML object>"
      ]
     },
     "metadata": {},
     "output_type": "display_data"
    },
    {
     "data": {
      "text/html": [
       " View run <strong style=\"color:#cdcd00\">faithful-sweep-25</strong> at: <a href='https://wandb.ai/zekai-wang/cs285_proj_get_action_true_dynamics_updated/runs/dljh5tvu' target=\"_blank\">https://wandb.ai/zekai-wang/cs285_proj_get_action_true_dynamics_updated/runs/dljh5tvu</a><br/>Synced 6 W&B file(s), 0 media file(s), 0 artifact file(s) and 0 other file(s)"
      ],
      "text/plain": [
       "<IPython.core.display.HTML object>"
      ]
     },
     "metadata": {},
     "output_type": "display_data"
    },
    {
     "data": {
      "text/html": [
       "Find logs at: <code>./wandb/run-20231209_235654-dljh5tvu/logs</code>"
      ],
      "text/plain": [
       "<IPython.core.display.HTML object>"
      ]
     },
     "metadata": {},
     "output_type": "display_data"
    },
    {
     "name": "stderr",
     "output_type": "stream",
     "text": [
      "\u001b[34m\u001b[1mwandb\u001b[0m: Agent Starting Run: e016x52r with config:\n",
      "\u001b[34m\u001b[1mwandb\u001b[0m: \tcem_alpha: 0.5\n",
      "\u001b[34m\u001b[1mwandb\u001b[0m: \tcem_num_elites: 1\n",
      "\u001b[34m\u001b[1mwandb\u001b[0m: \tcem_num_iters: 2\n",
      "\u001b[34m\u001b[1mwandb\u001b[0m: \tmpc_discount: 0.99\n",
      "\u001b[34m\u001b[1mwandb\u001b[0m: \tmpc_horizon_steps: 2\n",
      "\u001b[34m\u001b[1mwandb\u001b[0m: \tmpc_num_action_sequences: 200\n",
      "\u001b[34m\u001b[1mwandb\u001b[0m: \tmpc_strategy: cem\n",
      "/home/zekai/miniconda3/envs/cs285_proj/lib/python3.9/site-packages/ipywidgets/widgets/widget.py:528: DeprecationWarning: The `ipykernel.comm.Comm` class has been deprecated. Please use the `comm` module instead.For creating comms, use the function `from comm import create_comm`.\n",
      "  self.comm = Comm(**args)\n",
      "/home/zekai/miniconda3/envs/cs285_proj/lib/python3.9/site-packages/wandb/sdk/lib/ipython.py:77: DeprecationWarning: Importing display from IPython.core.display is deprecated since IPython 7.14, please import from IPython display\n",
      "  from IPython.core.display import HTML, display  # type: ignore\n"
     ]
    },
    {
     "data": {
      "text/html": [
       "Tracking run with wandb version 0.16.1"
      ],
      "text/plain": [
       "<IPython.core.display.HTML object>"
      ]
     },
     "metadata": {},
     "output_type": "display_data"
    },
    {
     "data": {
      "text/html": [
       "Run data is saved locally in <code>/home/zekai/repos/cs285_proj/notebooks/wandb/run-20231209_235719-e016x52r</code>"
      ],
      "text/plain": [
       "<IPython.core.display.HTML object>"
      ]
     },
     "metadata": {},
     "output_type": "display_data"
    },
    {
     "data": {
      "text/html": [
       "Syncing run <strong><a href='https://wandb.ai/zekai-wang/cs285_proj_get_action_true_dynamics_updated/runs/e016x52r' target=\"_blank\">rosy-sweep-26</a></strong> to <a href='https://wandb.ai/zekai-wang/cs285_proj_get_action_true_dynamics_updated' target=\"_blank\">Weights & Biases</a> (<a href='https://wandb.me/run' target=\"_blank\">docs</a>)<br/>Sweep page: <a href='https://wandb.ai/zekai-wang/cs285_proj_get_action_true_dynamics_updated/sweeps/ok4muk7m' target=\"_blank\">https://wandb.ai/zekai-wang/cs285_proj_get_action_true_dynamics_updated/sweeps/ok4muk7m</a>"
      ],
      "text/plain": [
       "<IPython.core.display.HTML object>"
      ]
     },
     "metadata": {},
     "output_type": "display_data"
    },
    {
     "data": {
      "text/html": [
       " View project at <a href='https://wandb.ai/zekai-wang/cs285_proj_get_action_true_dynamics_updated' target=\"_blank\">https://wandb.ai/zekai-wang/cs285_proj_get_action_true_dynamics_updated</a>"
      ],
      "text/plain": [
       "<IPython.core.display.HTML object>"
      ]
     },
     "metadata": {},
     "output_type": "display_data"
    },
    {
     "data": {
      "text/html": [
       " View sweep at <a href='https://wandb.ai/zekai-wang/cs285_proj_get_action_true_dynamics_updated/sweeps/ok4muk7m' target=\"_blank\">https://wandb.ai/zekai-wang/cs285_proj_get_action_true_dynamics_updated/sweeps/ok4muk7m</a>"
      ],
      "text/plain": [
       "<IPython.core.display.HTML object>"
      ]
     },
     "metadata": {},
     "output_type": "display_data"
    },
    {
     "data": {
      "text/html": [
       " View run at <a href='https://wandb.ai/zekai-wang/cs285_proj_get_action_true_dynamics_updated/runs/e016x52r' target=\"_blank\">https://wandb.ai/zekai-wang/cs285_proj_get_action_true_dynamics_updated/runs/e016x52r</a>"
      ],
      "text/plain": [
       "<IPython.core.display.HTML object>"
      ]
     },
     "metadata": {},
     "output_type": "display_data"
    },
    {
     "name": "stderr",
     "output_type": "stream",
     "text": [
      "100%|██████████| 10/10 [00:16<00:00,  1.63s/it]\n"
     ]
    },
    {
     "name": "stdout",
     "output_type": "stream",
     "text": [
      "mean -1175.4014\n",
      "std 348.4563\n",
      "min -1811.4885\n",
      "max -766.0309\n"
     ]
    },
    {
     "data": {
      "application/vnd.jupyter.widget-view+json": {
       "model_id": "93bc3872e8bd4523894d47d7b70cd6d4",
       "version_major": 2,
       "version_minor": 0
      },
      "text/plain": [
       "VBox(children=(Label(value='0.004 MB of 0.004 MB uploaded\\r'), FloatProgress(value=1.0, max=1.0)))"
      ]
     },
     "metadata": {},
     "output_type": "display_data"
    },
    {
     "data": {
      "text/html": [
       "<style>\n",
       "    table.wandb td:nth-child(1) { padding: 0 10px; text-align: left ; width: auto;} td:nth-child(2) {text-align: left ; width: 100%}\n",
       "    .wandb-row { display: flex; flex-direction: row; flex-wrap: wrap; justify-content: flex-start; width: 100% }\n",
       "    .wandb-col { display: flex; flex-direction: column; flex-basis: 100%; flex: 1; padding: 10px; }\n",
       "    </style>\n",
       "<div class=\"wandb-row\"><div class=\"wandb-col\"><h3>Run history:</h3><br/><table class=\"wandb\"><tr><td>max</td><td>▁</td></tr><tr><td>mean</td><td>▁</td></tr><tr><td>min</td><td>▁</td></tr><tr><td>std</td><td>▁</td></tr></table><br/></div><div class=\"wandb-col\"><h3>Run summary:</h3><br/><table class=\"wandb\"><tr><td>max</td><td>-766.03088</td></tr><tr><td>mean</td><td>-1175.40137</td></tr><tr><td>min</td><td>-1811.48853</td></tr><tr><td>std</td><td>348.4563</td></tr></table><br/></div></div>"
      ],
      "text/plain": [
       "<IPython.core.display.HTML object>"
      ]
     },
     "metadata": {},
     "output_type": "display_data"
    },
    {
     "data": {
      "text/html": [
       " View run <strong style=\"color:#cdcd00\">rosy-sweep-26</strong> at: <a href='https://wandb.ai/zekai-wang/cs285_proj_get_action_true_dynamics_updated/runs/e016x52r' target=\"_blank\">https://wandb.ai/zekai-wang/cs285_proj_get_action_true_dynamics_updated/runs/e016x52r</a><br/>Synced 6 W&B file(s), 0 media file(s), 0 artifact file(s) and 0 other file(s)"
      ],
      "text/plain": [
       "<IPython.core.display.HTML object>"
      ]
     },
     "metadata": {},
     "output_type": "display_data"
    },
    {
     "data": {
      "text/html": [
       "Find logs at: <code>./wandb/run-20231209_235719-e016x52r/logs</code>"
      ],
      "text/plain": [
       "<IPython.core.display.HTML object>"
      ]
     },
     "metadata": {},
     "output_type": "display_data"
    },
    {
     "name": "stderr",
     "output_type": "stream",
     "text": [
      "\u001b[34m\u001b[1mwandb\u001b[0m: Agent Starting Run: h69lufo6 with config:\n",
      "\u001b[34m\u001b[1mwandb\u001b[0m: \tcem_alpha: 0.9\n",
      "\u001b[34m\u001b[1mwandb\u001b[0m: \tcem_num_elites: 32\n",
      "\u001b[34m\u001b[1mwandb\u001b[0m: \tcem_num_iters: 2\n",
      "\u001b[34m\u001b[1mwandb\u001b[0m: \tmpc_discount: 0.8\n",
      "\u001b[34m\u001b[1mwandb\u001b[0m: \tmpc_horizon_steps: 5\n",
      "\u001b[34m\u001b[1mwandb\u001b[0m: \tmpc_num_action_sequences: 5000\n",
      "\u001b[34m\u001b[1mwandb\u001b[0m: \tmpc_strategy: random\n",
      "/home/zekai/miniconda3/envs/cs285_proj/lib/python3.9/site-packages/ipywidgets/widgets/widget.py:528: DeprecationWarning: The `ipykernel.comm.Comm` class has been deprecated. Please use the `comm` module instead.For creating comms, use the function `from comm import create_comm`.\n",
      "  self.comm = Comm(**args)\n",
      "/home/zekai/miniconda3/envs/cs285_proj/lib/python3.9/site-packages/wandb/sdk/lib/ipython.py:77: DeprecationWarning: Importing display from IPython.core.display is deprecated since IPython 7.14, please import from IPython display\n",
      "  from IPython.core.display import HTML, display  # type: ignore\n"
     ]
    },
    {
     "data": {
      "text/html": [
       "Tracking run with wandb version 0.16.1"
      ],
      "text/plain": [
       "<IPython.core.display.HTML object>"
      ]
     },
     "metadata": {},
     "output_type": "display_data"
    },
    {
     "data": {
      "text/html": [
       "Run data is saved locally in <code>/home/zekai/repos/cs285_proj/notebooks/wandb/run-20231209_235745-h69lufo6</code>"
      ],
      "text/plain": [
       "<IPython.core.display.HTML object>"
      ]
     },
     "metadata": {},
     "output_type": "display_data"
    },
    {
     "data": {
      "text/html": [
       "Syncing run <strong><a href='https://wandb.ai/zekai-wang/cs285_proj_get_action_true_dynamics_updated/runs/h69lufo6' target=\"_blank\">ethereal-sweep-27</a></strong> to <a href='https://wandb.ai/zekai-wang/cs285_proj_get_action_true_dynamics_updated' target=\"_blank\">Weights & Biases</a> (<a href='https://wandb.me/run' target=\"_blank\">docs</a>)<br/>Sweep page: <a href='https://wandb.ai/zekai-wang/cs285_proj_get_action_true_dynamics_updated/sweeps/ok4muk7m' target=\"_blank\">https://wandb.ai/zekai-wang/cs285_proj_get_action_true_dynamics_updated/sweeps/ok4muk7m</a>"
      ],
      "text/plain": [
       "<IPython.core.display.HTML object>"
      ]
     },
     "metadata": {},
     "output_type": "display_data"
    },
    {
     "data": {
      "text/html": [
       " View project at <a href='https://wandb.ai/zekai-wang/cs285_proj_get_action_true_dynamics_updated' target=\"_blank\">https://wandb.ai/zekai-wang/cs285_proj_get_action_true_dynamics_updated</a>"
      ],
      "text/plain": [
       "<IPython.core.display.HTML object>"
      ]
     },
     "metadata": {},
     "output_type": "display_data"
    },
    {
     "data": {
      "text/html": [
       " View sweep at <a href='https://wandb.ai/zekai-wang/cs285_proj_get_action_true_dynamics_updated/sweeps/ok4muk7m' target=\"_blank\">https://wandb.ai/zekai-wang/cs285_proj_get_action_true_dynamics_updated/sweeps/ok4muk7m</a>"
      ],
      "text/plain": [
       "<IPython.core.display.HTML object>"
      ]
     },
     "metadata": {},
     "output_type": "display_data"
    },
    {
     "data": {
      "text/html": [
       " View run at <a href='https://wandb.ai/zekai-wang/cs285_proj_get_action_true_dynamics_updated/runs/h69lufo6' target=\"_blank\">https://wandb.ai/zekai-wang/cs285_proj_get_action_true_dynamics_updated/runs/h69lufo6</a>"
      ],
      "text/plain": [
       "<IPython.core.display.HTML object>"
      ]
     },
     "metadata": {},
     "output_type": "display_data"
    },
    {
     "name": "stderr",
     "output_type": "stream",
     "text": [
      "100%|██████████| 10/10 [00:14<00:00,  1.49s/it]\n"
     ]
    },
    {
     "name": "stdout",
     "output_type": "stream",
     "text": [
      "mean -1308.2615\n",
      "std 189.66675\n",
      "min -1650.4998\n",
      "max -959.57983\n"
     ]
    },
    {
     "data": {
      "application/vnd.jupyter.widget-view+json": {
       "model_id": "bcf771213bb545e0a875a35b49051e09",
       "version_major": 2,
       "version_minor": 0
      },
      "text/plain": [
       "VBox(children=(Label(value='0.004 MB of 0.004 MB uploaded\\r'), FloatProgress(value=1.0, max=1.0)))"
      ]
     },
     "metadata": {},
     "output_type": "display_data"
    },
    {
     "data": {
      "text/html": [
       "<style>\n",
       "    table.wandb td:nth-child(1) { padding: 0 10px; text-align: left ; width: auto;} td:nth-child(2) {text-align: left ; width: 100%}\n",
       "    .wandb-row { display: flex; flex-direction: row; flex-wrap: wrap; justify-content: flex-start; width: 100% }\n",
       "    .wandb-col { display: flex; flex-direction: column; flex-basis: 100%; flex: 1; padding: 10px; }\n",
       "    </style>\n",
       "<div class=\"wandb-row\"><div class=\"wandb-col\"><h3>Run history:</h3><br/><table class=\"wandb\"><tr><td>max</td><td>▁</td></tr><tr><td>mean</td><td>▁</td></tr><tr><td>min</td><td>▁</td></tr><tr><td>std</td><td>▁</td></tr></table><br/></div><div class=\"wandb-col\"><h3>Run summary:</h3><br/><table class=\"wandb\"><tr><td>max</td><td>-959.57983</td></tr><tr><td>mean</td><td>-1308.26147</td></tr><tr><td>min</td><td>-1650.49976</td></tr><tr><td>std</td><td>189.66675</td></tr></table><br/></div></div>"
      ],
      "text/plain": [
       "<IPython.core.display.HTML object>"
      ]
     },
     "metadata": {},
     "output_type": "display_data"
    },
    {
     "data": {
      "text/html": [
       " View run <strong style=\"color:#cdcd00\">ethereal-sweep-27</strong> at: <a href='https://wandb.ai/zekai-wang/cs285_proj_get_action_true_dynamics_updated/runs/h69lufo6' target=\"_blank\">https://wandb.ai/zekai-wang/cs285_proj_get_action_true_dynamics_updated/runs/h69lufo6</a><br/>Synced 6 W&B file(s), 0 media file(s), 0 artifact file(s) and 0 other file(s)"
      ],
      "text/plain": [
       "<IPython.core.display.HTML object>"
      ]
     },
     "metadata": {},
     "output_type": "display_data"
    },
    {
     "data": {
      "text/html": [
       "Find logs at: <code>./wandb/run-20231209_235745-h69lufo6/logs</code>"
      ],
      "text/plain": [
       "<IPython.core.display.HTML object>"
      ]
     },
     "metadata": {},
     "output_type": "display_data"
    },
    {
     "name": "stderr",
     "output_type": "stream",
     "text": [
      "\u001b[34m\u001b[1mwandb\u001b[0m: Agent Starting Run: iidmjhqa with config:\n",
      "\u001b[34m\u001b[1mwandb\u001b[0m: \tcem_alpha: 1\n",
      "\u001b[34m\u001b[1mwandb\u001b[0m: \tcem_num_elites: 64\n",
      "\u001b[34m\u001b[1mwandb\u001b[0m: \tcem_num_iters: 2\n",
      "\u001b[34m\u001b[1mwandb\u001b[0m: \tmpc_discount: 0.99\n",
      "\u001b[34m\u001b[1mwandb\u001b[0m: \tmpc_horizon_steps: 5\n",
      "\u001b[34m\u001b[1mwandb\u001b[0m: \tmpc_num_action_sequences: 100\n",
      "\u001b[34m\u001b[1mwandb\u001b[0m: \tmpc_strategy: cem\n",
      "/home/zekai/miniconda3/envs/cs285_proj/lib/python3.9/site-packages/ipywidgets/widgets/widget.py:528: DeprecationWarning: The `ipykernel.comm.Comm` class has been deprecated. Please use the `comm` module instead.For creating comms, use the function `from comm import create_comm`.\n",
      "  self.comm = Comm(**args)\n",
      "/home/zekai/miniconda3/envs/cs285_proj/lib/python3.9/site-packages/wandb/sdk/lib/ipython.py:77: DeprecationWarning: Importing display from IPython.core.display is deprecated since IPython 7.14, please import from IPython display\n",
      "  from IPython.core.display import HTML, display  # type: ignore\n"
     ]
    },
    {
     "data": {
      "text/html": [
       "Tracking run with wandb version 0.16.1"
      ],
      "text/plain": [
       "<IPython.core.display.HTML object>"
      ]
     },
     "metadata": {},
     "output_type": "display_data"
    },
    {
     "data": {
      "text/html": [
       "Run data is saved locally in <code>/home/zekai/repos/cs285_proj/notebooks/wandb/run-20231209_235810-iidmjhqa</code>"
      ],
      "text/plain": [
       "<IPython.core.display.HTML object>"
      ]
     },
     "metadata": {},
     "output_type": "display_data"
    },
    {
     "data": {
      "text/html": [
       "Syncing run <strong><a href='https://wandb.ai/zekai-wang/cs285_proj_get_action_true_dynamics_updated/runs/iidmjhqa' target=\"_blank\">trim-sweep-28</a></strong> to <a href='https://wandb.ai/zekai-wang/cs285_proj_get_action_true_dynamics_updated' target=\"_blank\">Weights & Biases</a> (<a href='https://wandb.me/run' target=\"_blank\">docs</a>)<br/>Sweep page: <a href='https://wandb.ai/zekai-wang/cs285_proj_get_action_true_dynamics_updated/sweeps/ok4muk7m' target=\"_blank\">https://wandb.ai/zekai-wang/cs285_proj_get_action_true_dynamics_updated/sweeps/ok4muk7m</a>"
      ],
      "text/plain": [
       "<IPython.core.display.HTML object>"
      ]
     },
     "metadata": {},
     "output_type": "display_data"
    },
    {
     "data": {
      "text/html": [
       " View project at <a href='https://wandb.ai/zekai-wang/cs285_proj_get_action_true_dynamics_updated' target=\"_blank\">https://wandb.ai/zekai-wang/cs285_proj_get_action_true_dynamics_updated</a>"
      ],
      "text/plain": [
       "<IPython.core.display.HTML object>"
      ]
     },
     "metadata": {},
     "output_type": "display_data"
    },
    {
     "data": {
      "text/html": [
       " View sweep at <a href='https://wandb.ai/zekai-wang/cs285_proj_get_action_true_dynamics_updated/sweeps/ok4muk7m' target=\"_blank\">https://wandb.ai/zekai-wang/cs285_proj_get_action_true_dynamics_updated/sweeps/ok4muk7m</a>"
      ],
      "text/plain": [
       "<IPython.core.display.HTML object>"
      ]
     },
     "metadata": {},
     "output_type": "display_data"
    },
    {
     "data": {
      "text/html": [
       " View run at <a href='https://wandb.ai/zekai-wang/cs285_proj_get_action_true_dynamics_updated/runs/iidmjhqa' target=\"_blank\">https://wandb.ai/zekai-wang/cs285_proj_get_action_true_dynamics_updated/runs/iidmjhqa</a>"
      ],
      "text/plain": [
       "<IPython.core.display.HTML object>"
      ]
     },
     "metadata": {},
     "output_type": "display_data"
    },
    {
     "name": "stderr",
     "output_type": "stream",
     "text": [
      "100%|██████████| 10/10 [00:15<00:00,  1.51s/it]\n"
     ]
    },
    {
     "name": "stdout",
     "output_type": "stream",
     "text": [
      "mean -1305.7693\n",
      "std 337.53864\n",
      "min -1704.9857\n",
      "max -751.0709\n"
     ]
    },
    {
     "data": {
      "application/vnd.jupyter.widget-view+json": {
       "model_id": "9855c266c67c4c4aa8a4baf3c235d0ed",
       "version_major": 2,
       "version_minor": 0
      },
      "text/plain": [
       "VBox(children=(Label(value='0.004 MB of 0.004 MB uploaded\\r'), FloatProgress(value=1.0, max=1.0)))"
      ]
     },
     "metadata": {},
     "output_type": "display_data"
    },
    {
     "data": {
      "text/html": [
       "<style>\n",
       "    table.wandb td:nth-child(1) { padding: 0 10px; text-align: left ; width: auto;} td:nth-child(2) {text-align: left ; width: 100%}\n",
       "    .wandb-row { display: flex; flex-direction: row; flex-wrap: wrap; justify-content: flex-start; width: 100% }\n",
       "    .wandb-col { display: flex; flex-direction: column; flex-basis: 100%; flex: 1; padding: 10px; }\n",
       "    </style>\n",
       "<div class=\"wandb-row\"><div class=\"wandb-col\"><h3>Run history:</h3><br/><table class=\"wandb\"><tr><td>max</td><td>▁</td></tr><tr><td>mean</td><td>▁</td></tr><tr><td>min</td><td>▁</td></tr><tr><td>std</td><td>▁</td></tr></table><br/></div><div class=\"wandb-col\"><h3>Run summary:</h3><br/><table class=\"wandb\"><tr><td>max</td><td>-751.07092</td></tr><tr><td>mean</td><td>-1305.76929</td></tr><tr><td>min</td><td>-1704.98572</td></tr><tr><td>std</td><td>337.53864</td></tr></table><br/></div></div>"
      ],
      "text/plain": [
       "<IPython.core.display.HTML object>"
      ]
     },
     "metadata": {},
     "output_type": "display_data"
    },
    {
     "data": {
      "text/html": [
       " View run <strong style=\"color:#cdcd00\">trim-sweep-28</strong> at: <a href='https://wandb.ai/zekai-wang/cs285_proj_get_action_true_dynamics_updated/runs/iidmjhqa' target=\"_blank\">https://wandb.ai/zekai-wang/cs285_proj_get_action_true_dynamics_updated/runs/iidmjhqa</a><br/>Synced 6 W&B file(s), 0 media file(s), 0 artifact file(s) and 0 other file(s)"
      ],
      "text/plain": [
       "<IPython.core.display.HTML object>"
      ]
     },
     "metadata": {},
     "output_type": "display_data"
    },
    {
     "data": {
      "text/html": [
       "Find logs at: <code>./wandb/run-20231209_235810-iidmjhqa/logs</code>"
      ],
      "text/plain": [
       "<IPython.core.display.HTML object>"
      ]
     },
     "metadata": {},
     "output_type": "display_data"
    },
    {
     "name": "stderr",
     "output_type": "stream",
     "text": [
      "\u001b[34m\u001b[1mwandb\u001b[0m: Agent Starting Run: toq8trxp with config:\n",
      "\u001b[34m\u001b[1mwandb\u001b[0m: \tcem_alpha: 0.8\n",
      "\u001b[34m\u001b[1mwandb\u001b[0m: \tcem_num_elites: 2\n",
      "\u001b[34m\u001b[1mwandb\u001b[0m: \tcem_num_iters: 4\n",
      "\u001b[34m\u001b[1mwandb\u001b[0m: \tmpc_discount: 0.9\n",
      "\u001b[34m\u001b[1mwandb\u001b[0m: \tmpc_horizon_steps: 1\n",
      "\u001b[34m\u001b[1mwandb\u001b[0m: \tmpc_num_action_sequences: 100\n",
      "\u001b[34m\u001b[1mwandb\u001b[0m: \tmpc_strategy: random\n",
      "/home/zekai/miniconda3/envs/cs285_proj/lib/python3.9/site-packages/ipywidgets/widgets/widget.py:528: DeprecationWarning: The `ipykernel.comm.Comm` class has been deprecated. Please use the `comm` module instead.For creating comms, use the function `from comm import create_comm`.\n",
      "  self.comm = Comm(**args)\n",
      "/home/zekai/miniconda3/envs/cs285_proj/lib/python3.9/site-packages/wandb/sdk/lib/ipython.py:77: DeprecationWarning: Importing display from IPython.core.display is deprecated since IPython 7.14, please import from IPython display\n",
      "  from IPython.core.display import HTML, display  # type: ignore\n"
     ]
    },
    {
     "data": {
      "text/html": [
       "Tracking run with wandb version 0.16.1"
      ],
      "text/plain": [
       "<IPython.core.display.HTML object>"
      ]
     },
     "metadata": {},
     "output_type": "display_data"
    },
    {
     "data": {
      "text/html": [
       "Run data is saved locally in <code>/home/zekai/repos/cs285_proj/notebooks/wandb/run-20231209_235835-toq8trxp</code>"
      ],
      "text/plain": [
       "<IPython.core.display.HTML object>"
      ]
     },
     "metadata": {},
     "output_type": "display_data"
    },
    {
     "data": {
      "text/html": [
       "Syncing run <strong><a href='https://wandb.ai/zekai-wang/cs285_proj_get_action_true_dynamics_updated/runs/toq8trxp' target=\"_blank\">swift-sweep-29</a></strong> to <a href='https://wandb.ai/zekai-wang/cs285_proj_get_action_true_dynamics_updated' target=\"_blank\">Weights & Biases</a> (<a href='https://wandb.me/run' target=\"_blank\">docs</a>)<br/>Sweep page: <a href='https://wandb.ai/zekai-wang/cs285_proj_get_action_true_dynamics_updated/sweeps/ok4muk7m' target=\"_blank\">https://wandb.ai/zekai-wang/cs285_proj_get_action_true_dynamics_updated/sweeps/ok4muk7m</a>"
      ],
      "text/plain": [
       "<IPython.core.display.HTML object>"
      ]
     },
     "metadata": {},
     "output_type": "display_data"
    },
    {
     "data": {
      "text/html": [
       " View project at <a href='https://wandb.ai/zekai-wang/cs285_proj_get_action_true_dynamics_updated' target=\"_blank\">https://wandb.ai/zekai-wang/cs285_proj_get_action_true_dynamics_updated</a>"
      ],
      "text/plain": [
       "<IPython.core.display.HTML object>"
      ]
     },
     "metadata": {},
     "output_type": "display_data"
    },
    {
     "data": {
      "text/html": [
       " View sweep at <a href='https://wandb.ai/zekai-wang/cs285_proj_get_action_true_dynamics_updated/sweeps/ok4muk7m' target=\"_blank\">https://wandb.ai/zekai-wang/cs285_proj_get_action_true_dynamics_updated/sweeps/ok4muk7m</a>"
      ],
      "text/plain": [
       "<IPython.core.display.HTML object>"
      ]
     },
     "metadata": {},
     "output_type": "display_data"
    },
    {
     "data": {
      "text/html": [
       " View run at <a href='https://wandb.ai/zekai-wang/cs285_proj_get_action_true_dynamics_updated/runs/toq8trxp' target=\"_blank\">https://wandb.ai/zekai-wang/cs285_proj_get_action_true_dynamics_updated/runs/toq8trxp</a>"
      ],
      "text/plain": [
       "<IPython.core.display.HTML object>"
      ]
     },
     "metadata": {},
     "output_type": "display_data"
    },
    {
     "name": "stderr",
     "output_type": "stream",
     "text": [
      "100%|██████████| 10/10 [00:16<00:00,  1.63s/it]\n"
     ]
    },
    {
     "name": "stdout",
     "output_type": "stream",
     "text": [
      "mean -1235.4666\n",
      "std 304.0858\n",
      "min -1708.2769\n",
      "max -777.0954\n"
     ]
    },
    {
     "data": {
      "application/vnd.jupyter.widget-view+json": {
       "model_id": "09e06253f4f749deb62541080b639a67",
       "version_major": 2,
       "version_minor": 0
      },
      "text/plain": [
       "VBox(children=(Label(value='0.004 MB of 0.004 MB uploaded\\r'), FloatProgress(value=1.0, max=1.0)))"
      ]
     },
     "metadata": {},
     "output_type": "display_data"
    },
    {
     "data": {
      "text/html": [
       "<style>\n",
       "    table.wandb td:nth-child(1) { padding: 0 10px; text-align: left ; width: auto;} td:nth-child(2) {text-align: left ; width: 100%}\n",
       "    .wandb-row { display: flex; flex-direction: row; flex-wrap: wrap; justify-content: flex-start; width: 100% }\n",
       "    .wandb-col { display: flex; flex-direction: column; flex-basis: 100%; flex: 1; padding: 10px; }\n",
       "    </style>\n",
       "<div class=\"wandb-row\"><div class=\"wandb-col\"><h3>Run history:</h3><br/><table class=\"wandb\"><tr><td>max</td><td>▁</td></tr><tr><td>mean</td><td>▁</td></tr><tr><td>min</td><td>▁</td></tr><tr><td>std</td><td>▁</td></tr></table><br/></div><div class=\"wandb-col\"><h3>Run summary:</h3><br/><table class=\"wandb\"><tr><td>max</td><td>-777.0954</td></tr><tr><td>mean</td><td>-1235.46655</td></tr><tr><td>min</td><td>-1708.27686</td></tr><tr><td>std</td><td>304.08578</td></tr></table><br/></div></div>"
      ],
      "text/plain": [
       "<IPython.core.display.HTML object>"
      ]
     },
     "metadata": {},
     "output_type": "display_data"
    },
    {
     "data": {
      "text/html": [
       " View run <strong style=\"color:#cdcd00\">swift-sweep-29</strong> at: <a href='https://wandb.ai/zekai-wang/cs285_proj_get_action_true_dynamics_updated/runs/toq8trxp' target=\"_blank\">https://wandb.ai/zekai-wang/cs285_proj_get_action_true_dynamics_updated/runs/toq8trxp</a><br/>Synced 6 W&B file(s), 0 media file(s), 0 artifact file(s) and 0 other file(s)"
      ],
      "text/plain": [
       "<IPython.core.display.HTML object>"
      ]
     },
     "metadata": {},
     "output_type": "display_data"
    },
    {
     "data": {
      "text/html": [
       "Find logs at: <code>./wandb/run-20231209_235835-toq8trxp/logs</code>"
      ],
      "text/plain": [
       "<IPython.core.display.HTML object>"
      ]
     },
     "metadata": {},
     "output_type": "display_data"
    },
    {
     "name": "stderr",
     "output_type": "stream",
     "text": [
      "\u001b[34m\u001b[1mwandb\u001b[0m: Agent Starting Run: mmwl13f2 with config:\n",
      "\u001b[34m\u001b[1mwandb\u001b[0m: \tcem_alpha: 0.9\n",
      "\u001b[34m\u001b[1mwandb\u001b[0m: \tcem_num_elites: 4\n",
      "\u001b[34m\u001b[1mwandb\u001b[0m: \tcem_num_iters: 2\n",
      "\u001b[34m\u001b[1mwandb\u001b[0m: \tmpc_discount: 0.8\n",
      "\u001b[34m\u001b[1mwandb\u001b[0m: \tmpc_horizon_steps: 200\n",
      "\u001b[34m\u001b[1mwandb\u001b[0m: \tmpc_num_action_sequences: 1000\n",
      "\u001b[34m\u001b[1mwandb\u001b[0m: \tmpc_strategy: cem\n",
      "/home/zekai/miniconda3/envs/cs285_proj/lib/python3.9/site-packages/ipywidgets/widgets/widget.py:528: DeprecationWarning: The `ipykernel.comm.Comm` class has been deprecated. Please use the `comm` module instead.For creating comms, use the function `from comm import create_comm`.\n",
      "  self.comm = Comm(**args)\n",
      "/home/zekai/miniconda3/envs/cs285_proj/lib/python3.9/site-packages/wandb/sdk/lib/ipython.py:77: DeprecationWarning: Importing display from IPython.core.display is deprecated since IPython 7.14, please import from IPython display\n",
      "  from IPython.core.display import HTML, display  # type: ignore\n"
     ]
    },
    {
     "data": {
      "text/html": [
       "Tracking run with wandb version 0.16.1"
      ],
      "text/plain": [
       "<IPython.core.display.HTML object>"
      ]
     },
     "metadata": {},
     "output_type": "display_data"
    },
    {
     "data": {
      "text/html": [
       "Run data is saved locally in <code>/home/zekai/repos/cs285_proj/notebooks/wandb/run-20231209_235902-mmwl13f2</code>"
      ],
      "text/plain": [
       "<IPython.core.display.HTML object>"
      ]
     },
     "metadata": {},
     "output_type": "display_data"
    },
    {
     "data": {
      "text/html": [
       "Syncing run <strong><a href='https://wandb.ai/zekai-wang/cs285_proj_get_action_true_dynamics_updated/runs/mmwl13f2' target=\"_blank\">classic-sweep-30</a></strong> to <a href='https://wandb.ai/zekai-wang/cs285_proj_get_action_true_dynamics_updated' target=\"_blank\">Weights & Biases</a> (<a href='https://wandb.me/run' target=\"_blank\">docs</a>)<br/>Sweep page: <a href='https://wandb.ai/zekai-wang/cs285_proj_get_action_true_dynamics_updated/sweeps/ok4muk7m' target=\"_blank\">https://wandb.ai/zekai-wang/cs285_proj_get_action_true_dynamics_updated/sweeps/ok4muk7m</a>"
      ],
      "text/plain": [
       "<IPython.core.display.HTML object>"
      ]
     },
     "metadata": {},
     "output_type": "display_data"
    },
    {
     "data": {
      "text/html": [
       " View project at <a href='https://wandb.ai/zekai-wang/cs285_proj_get_action_true_dynamics_updated' target=\"_blank\">https://wandb.ai/zekai-wang/cs285_proj_get_action_true_dynamics_updated</a>"
      ],
      "text/plain": [
       "<IPython.core.display.HTML object>"
      ]
     },
     "metadata": {},
     "output_type": "display_data"
    },
    {
     "data": {
      "text/html": [
       " View sweep at <a href='https://wandb.ai/zekai-wang/cs285_proj_get_action_true_dynamics_updated/sweeps/ok4muk7m' target=\"_blank\">https://wandb.ai/zekai-wang/cs285_proj_get_action_true_dynamics_updated/sweeps/ok4muk7m</a>"
      ],
      "text/plain": [
       "<IPython.core.display.HTML object>"
      ]
     },
     "metadata": {},
     "output_type": "display_data"
    },
    {
     "data": {
      "text/html": [
       " View run at <a href='https://wandb.ai/zekai-wang/cs285_proj_get_action_true_dynamics_updated/runs/mmwl13f2' target=\"_blank\">https://wandb.ai/zekai-wang/cs285_proj_get_action_true_dynamics_updated/runs/mmwl13f2</a>"
      ],
      "text/plain": [
       "<IPython.core.display.HTML object>"
      ]
     },
     "metadata": {},
     "output_type": "display_data"
    },
    {
     "name": "stderr",
     "output_type": "stream",
     "text": [
      "100%|██████████| 10/10 [00:16<00:00,  1.65s/it]\n"
     ]
    },
    {
     "name": "stdout",
     "output_type": "stream",
     "text": [
      "mean -1379.9244\n",
      "std 337.4129\n",
      "min -1786.8221\n",
      "max -876.0994\n"
     ]
    },
    {
     "data": {
      "application/vnd.jupyter.widget-view+json": {
       "model_id": "925a90fa24dd488bb5ef0a75a9f8738a",
       "version_major": 2,
       "version_minor": 0
      },
      "text/plain": [
       "VBox(children=(Label(value='0.004 MB of 0.004 MB uploaded\\r'), FloatProgress(value=1.0, max=1.0)))"
      ]
     },
     "metadata": {},
     "output_type": "display_data"
    },
    {
     "data": {
      "text/html": [
       "<style>\n",
       "    table.wandb td:nth-child(1) { padding: 0 10px; text-align: left ; width: auto;} td:nth-child(2) {text-align: left ; width: 100%}\n",
       "    .wandb-row { display: flex; flex-direction: row; flex-wrap: wrap; justify-content: flex-start; width: 100% }\n",
       "    .wandb-col { display: flex; flex-direction: column; flex-basis: 100%; flex: 1; padding: 10px; }\n",
       "    </style>\n",
       "<div class=\"wandb-row\"><div class=\"wandb-col\"><h3>Run history:</h3><br/><table class=\"wandb\"><tr><td>max</td><td>▁</td></tr><tr><td>mean</td><td>▁</td></tr><tr><td>min</td><td>▁</td></tr><tr><td>std</td><td>▁</td></tr></table><br/></div><div class=\"wandb-col\"><h3>Run summary:</h3><br/><table class=\"wandb\"><tr><td>max</td><td>-876.09943</td></tr><tr><td>mean</td><td>-1379.92444</td></tr><tr><td>min</td><td>-1786.82214</td></tr><tr><td>std</td><td>337.4129</td></tr></table><br/></div></div>"
      ],
      "text/plain": [
       "<IPython.core.display.HTML object>"
      ]
     },
     "metadata": {},
     "output_type": "display_data"
    },
    {
     "data": {
      "text/html": [
       " View run <strong style=\"color:#cdcd00\">classic-sweep-30</strong> at: <a href='https://wandb.ai/zekai-wang/cs285_proj_get_action_true_dynamics_updated/runs/mmwl13f2' target=\"_blank\">https://wandb.ai/zekai-wang/cs285_proj_get_action_true_dynamics_updated/runs/mmwl13f2</a><br/>Synced 6 W&B file(s), 0 media file(s), 0 artifact file(s) and 0 other file(s)"
      ],
      "text/plain": [
       "<IPython.core.display.HTML object>"
      ]
     },
     "metadata": {},
     "output_type": "display_data"
    },
    {
     "data": {
      "text/html": [
       "Find logs at: <code>./wandb/run-20231209_235902-mmwl13f2/logs</code>"
      ],
      "text/plain": [
       "<IPython.core.display.HTML object>"
      ]
     },
     "metadata": {},
     "output_type": "display_data"
    },
    {
     "name": "stderr",
     "output_type": "stream",
     "text": [
      "\u001b[34m\u001b[1mwandb\u001b[0m: Agent Starting Run: wsr7z9yv with config:\n",
      "\u001b[34m\u001b[1mwandb\u001b[0m: \tcem_alpha: 0.5\n",
      "\u001b[34m\u001b[1mwandb\u001b[0m: \tcem_num_elites: 2\n",
      "\u001b[34m\u001b[1mwandb\u001b[0m: \tcem_num_iters: 4\n",
      "\u001b[34m\u001b[1mwandb\u001b[0m: \tmpc_discount: 0.99\n",
      "\u001b[34m\u001b[1mwandb\u001b[0m: \tmpc_horizon_steps: 20\n",
      "\u001b[34m\u001b[1mwandb\u001b[0m: \tmpc_num_action_sequences: 5000\n",
      "\u001b[34m\u001b[1mwandb\u001b[0m: \tmpc_strategy: cem\n",
      "/home/zekai/miniconda3/envs/cs285_proj/lib/python3.9/site-packages/ipywidgets/widgets/widget.py:528: DeprecationWarning: The `ipykernel.comm.Comm` class has been deprecated. Please use the `comm` module instead.For creating comms, use the function `from comm import create_comm`.\n",
      "  self.comm = Comm(**args)\n",
      "/home/zekai/miniconda3/envs/cs285_proj/lib/python3.9/site-packages/wandb/sdk/lib/ipython.py:77: DeprecationWarning: Importing display from IPython.core.display is deprecated since IPython 7.14, please import from IPython display\n",
      "  from IPython.core.display import HTML, display  # type: ignore\n"
     ]
    },
    {
     "data": {
      "text/html": [
       "Tracking run with wandb version 0.16.1"
      ],
      "text/plain": [
       "<IPython.core.display.HTML object>"
      ]
     },
     "metadata": {},
     "output_type": "display_data"
    },
    {
     "data": {
      "text/html": [
       "Run data is saved locally in <code>/home/zekai/repos/cs285_proj/notebooks/wandb/run-20231209_235932-wsr7z9yv</code>"
      ],
      "text/plain": [
       "<IPython.core.display.HTML object>"
      ]
     },
     "metadata": {},
     "output_type": "display_data"
    },
    {
     "data": {
      "text/html": [
       "Syncing run <strong><a href='https://wandb.ai/zekai-wang/cs285_proj_get_action_true_dynamics_updated/runs/wsr7z9yv' target=\"_blank\">ethereal-sweep-31</a></strong> to <a href='https://wandb.ai/zekai-wang/cs285_proj_get_action_true_dynamics_updated' target=\"_blank\">Weights & Biases</a> (<a href='https://wandb.me/run' target=\"_blank\">docs</a>)<br/>Sweep page: <a href='https://wandb.ai/zekai-wang/cs285_proj_get_action_true_dynamics_updated/sweeps/ok4muk7m' target=\"_blank\">https://wandb.ai/zekai-wang/cs285_proj_get_action_true_dynamics_updated/sweeps/ok4muk7m</a>"
      ],
      "text/plain": [
       "<IPython.core.display.HTML object>"
      ]
     },
     "metadata": {},
     "output_type": "display_data"
    },
    {
     "data": {
      "text/html": [
       " View project at <a href='https://wandb.ai/zekai-wang/cs285_proj_get_action_true_dynamics_updated' target=\"_blank\">https://wandb.ai/zekai-wang/cs285_proj_get_action_true_dynamics_updated</a>"
      ],
      "text/plain": [
       "<IPython.core.display.HTML object>"
      ]
     },
     "metadata": {},
     "output_type": "display_data"
    },
    {
     "data": {
      "text/html": [
       " View sweep at <a href='https://wandb.ai/zekai-wang/cs285_proj_get_action_true_dynamics_updated/sweeps/ok4muk7m' target=\"_blank\">https://wandb.ai/zekai-wang/cs285_proj_get_action_true_dynamics_updated/sweeps/ok4muk7m</a>"
      ],
      "text/plain": [
       "<IPython.core.display.HTML object>"
      ]
     },
     "metadata": {},
     "output_type": "display_data"
    },
    {
     "data": {
      "text/html": [
       " View run at <a href='https://wandb.ai/zekai-wang/cs285_proj_get_action_true_dynamics_updated/runs/wsr7z9yv' target=\"_blank\">https://wandb.ai/zekai-wang/cs285_proj_get_action_true_dynamics_updated/runs/wsr7z9yv</a>"
      ],
      "text/plain": [
       "<IPython.core.display.HTML object>"
      ]
     },
     "metadata": {},
     "output_type": "display_data"
    },
    {
     "name": "stderr",
     "output_type": "stream",
     "text": [
      "100%|██████████| 10/10 [00:16<00:00,  1.66s/it]\n"
     ]
    },
    {
     "name": "stdout",
     "output_type": "stream",
     "text": [
      "mean -1162.076\n",
      "std 139.51476\n",
      "min -1432.876\n",
      "max -912.2076\n"
     ]
    },
    {
     "data": {
      "application/vnd.jupyter.widget-view+json": {
       "model_id": "304199fd0018446e9da6217a184e55ba",
       "version_major": 2,
       "version_minor": 0
      },
      "text/plain": [
       "VBox(children=(Label(value='0.004 MB of 0.004 MB uploaded\\r'), FloatProgress(value=1.0, max=1.0)))"
      ]
     },
     "metadata": {},
     "output_type": "display_data"
    },
    {
     "data": {
      "text/html": [
       "<style>\n",
       "    table.wandb td:nth-child(1) { padding: 0 10px; text-align: left ; width: auto;} td:nth-child(2) {text-align: left ; width: 100%}\n",
       "    .wandb-row { display: flex; flex-direction: row; flex-wrap: wrap; justify-content: flex-start; width: 100% }\n",
       "    .wandb-col { display: flex; flex-direction: column; flex-basis: 100%; flex: 1; padding: 10px; }\n",
       "    </style>\n",
       "<div class=\"wandb-row\"><div class=\"wandb-col\"><h3>Run history:</h3><br/><table class=\"wandb\"><tr><td>max</td><td>▁</td></tr><tr><td>mean</td><td>▁</td></tr><tr><td>min</td><td>▁</td></tr><tr><td>std</td><td>▁</td></tr></table><br/></div><div class=\"wandb-col\"><h3>Run summary:</h3><br/><table class=\"wandb\"><tr><td>max</td><td>-912.20758</td></tr><tr><td>mean</td><td>-1162.07605</td></tr><tr><td>min</td><td>-1432.87598</td></tr><tr><td>std</td><td>139.51476</td></tr></table><br/></div></div>"
      ],
      "text/plain": [
       "<IPython.core.display.HTML object>"
      ]
     },
     "metadata": {},
     "output_type": "display_data"
    },
    {
     "data": {
      "text/html": [
       " View run <strong style=\"color:#cdcd00\">ethereal-sweep-31</strong> at: <a href='https://wandb.ai/zekai-wang/cs285_proj_get_action_true_dynamics_updated/runs/wsr7z9yv' target=\"_blank\">https://wandb.ai/zekai-wang/cs285_proj_get_action_true_dynamics_updated/runs/wsr7z9yv</a><br/>Synced 6 W&B file(s), 0 media file(s), 0 artifact file(s) and 0 other file(s)"
      ],
      "text/plain": [
       "<IPython.core.display.HTML object>"
      ]
     },
     "metadata": {},
     "output_type": "display_data"
    },
    {
     "data": {
      "text/html": [
       "Find logs at: <code>./wandb/run-20231209_235932-wsr7z9yv/logs</code>"
      ],
      "text/plain": [
       "<IPython.core.display.HTML object>"
      ]
     },
     "metadata": {},
     "output_type": "display_data"
    },
    {
     "name": "stderr",
     "output_type": "stream",
     "text": [
      "\u001b[34m\u001b[1mwandb\u001b[0m: Agent Starting Run: p0lsffpb with config:\n",
      "\u001b[34m\u001b[1mwandb\u001b[0m: \tcem_alpha: 0.5\n",
      "\u001b[34m\u001b[1mwandb\u001b[0m: \tcem_num_elites: 16\n",
      "\u001b[34m\u001b[1mwandb\u001b[0m: \tcem_num_iters: 8\n",
      "\u001b[34m\u001b[1mwandb\u001b[0m: \tmpc_discount: 0.9\n",
      "\u001b[34m\u001b[1mwandb\u001b[0m: \tmpc_horizon_steps: 200\n",
      "\u001b[34m\u001b[1mwandb\u001b[0m: \tmpc_num_action_sequences: 1000\n",
      "\u001b[34m\u001b[1mwandb\u001b[0m: \tmpc_strategy: random\n",
      "/home/zekai/miniconda3/envs/cs285_proj/lib/python3.9/site-packages/ipywidgets/widgets/widget.py:528: DeprecationWarning: The `ipykernel.comm.Comm` class has been deprecated. Please use the `comm` module instead.For creating comms, use the function `from comm import create_comm`.\n",
      "  self.comm = Comm(**args)\n",
      "/home/zekai/miniconda3/envs/cs285_proj/lib/python3.9/site-packages/wandb/sdk/lib/ipython.py:77: DeprecationWarning: Importing display from IPython.core.display is deprecated since IPython 7.14, please import from IPython display\n",
      "  from IPython.core.display import HTML, display  # type: ignore\n"
     ]
    },
    {
     "data": {
      "text/html": [
       "Tracking run with wandb version 0.16.1"
      ],
      "text/plain": [
       "<IPython.core.display.HTML object>"
      ]
     },
     "metadata": {},
     "output_type": "display_data"
    },
    {
     "data": {
      "text/html": [
       "Run data is saved locally in <code>/home/zekai/repos/cs285_proj/notebooks/wandb/run-20231210_000002-p0lsffpb</code>"
      ],
      "text/plain": [
       "<IPython.core.display.HTML object>"
      ]
     },
     "metadata": {},
     "output_type": "display_data"
    },
    {
     "data": {
      "text/html": [
       "Syncing run <strong><a href='https://wandb.ai/zekai-wang/cs285_proj_get_action_true_dynamics_updated/runs/p0lsffpb' target=\"_blank\">ethereal-sweep-32</a></strong> to <a href='https://wandb.ai/zekai-wang/cs285_proj_get_action_true_dynamics_updated' target=\"_blank\">Weights & Biases</a> (<a href='https://wandb.me/run' target=\"_blank\">docs</a>)<br/>Sweep page: <a href='https://wandb.ai/zekai-wang/cs285_proj_get_action_true_dynamics_updated/sweeps/ok4muk7m' target=\"_blank\">https://wandb.ai/zekai-wang/cs285_proj_get_action_true_dynamics_updated/sweeps/ok4muk7m</a>"
      ],
      "text/plain": [
       "<IPython.core.display.HTML object>"
      ]
     },
     "metadata": {},
     "output_type": "display_data"
    },
    {
     "data": {
      "text/html": [
       " View project at <a href='https://wandb.ai/zekai-wang/cs285_proj_get_action_true_dynamics_updated' target=\"_blank\">https://wandb.ai/zekai-wang/cs285_proj_get_action_true_dynamics_updated</a>"
      ],
      "text/plain": [
       "<IPython.core.display.HTML object>"
      ]
     },
     "metadata": {},
     "output_type": "display_data"
    },
    {
     "data": {
      "text/html": [
       " View sweep at <a href='https://wandb.ai/zekai-wang/cs285_proj_get_action_true_dynamics_updated/sweeps/ok4muk7m' target=\"_blank\">https://wandb.ai/zekai-wang/cs285_proj_get_action_true_dynamics_updated/sweeps/ok4muk7m</a>"
      ],
      "text/plain": [
       "<IPython.core.display.HTML object>"
      ]
     },
     "metadata": {},
     "output_type": "display_data"
    },
    {
     "data": {
      "text/html": [
       " View run at <a href='https://wandb.ai/zekai-wang/cs285_proj_get_action_true_dynamics_updated/runs/p0lsffpb' target=\"_blank\">https://wandb.ai/zekai-wang/cs285_proj_get_action_true_dynamics_updated/runs/p0lsffpb</a>"
      ],
      "text/plain": [
       "<IPython.core.display.HTML object>"
      ]
     },
     "metadata": {},
     "output_type": "display_data"
    },
    {
     "name": "stderr",
     "output_type": "stream",
     "text": [
      "100%|██████████| 10/10 [00:16<00:00,  1.63s/it]\n"
     ]
    },
    {
     "name": "stdout",
     "output_type": "stream",
     "text": [
      "mean -1277.2253\n",
      "std 257.84543\n",
      "min -1694.237\n",
      "max -785.4103\n"
     ]
    },
    {
     "data": {
      "application/vnd.jupyter.widget-view+json": {
       "model_id": "65ff83f022db41afa2f484809a8b979d",
       "version_major": 2,
       "version_minor": 0
      },
      "text/plain": [
       "VBox(children=(Label(value='0.004 MB of 0.004 MB uploaded\\r'), FloatProgress(value=1.0, max=1.0)))"
      ]
     },
     "metadata": {},
     "output_type": "display_data"
    },
    {
     "data": {
      "text/html": [
       "<style>\n",
       "    table.wandb td:nth-child(1) { padding: 0 10px; text-align: left ; width: auto;} td:nth-child(2) {text-align: left ; width: 100%}\n",
       "    .wandb-row { display: flex; flex-direction: row; flex-wrap: wrap; justify-content: flex-start; width: 100% }\n",
       "    .wandb-col { display: flex; flex-direction: column; flex-basis: 100%; flex: 1; padding: 10px; }\n",
       "    </style>\n",
       "<div class=\"wandb-row\"><div class=\"wandb-col\"><h3>Run history:</h3><br/><table class=\"wandb\"><tr><td>max</td><td>▁</td></tr><tr><td>mean</td><td>▁</td></tr><tr><td>min</td><td>▁</td></tr><tr><td>std</td><td>▁</td></tr></table><br/></div><div class=\"wandb-col\"><h3>Run summary:</h3><br/><table class=\"wandb\"><tr><td>max</td><td>-785.41028</td></tr><tr><td>mean</td><td>-1277.22534</td></tr><tr><td>min</td><td>-1694.23706</td></tr><tr><td>std</td><td>257.84543</td></tr></table><br/></div></div>"
      ],
      "text/plain": [
       "<IPython.core.display.HTML object>"
      ]
     },
     "metadata": {},
     "output_type": "display_data"
    },
    {
     "data": {
      "text/html": [
       " View run <strong style=\"color:#cdcd00\">ethereal-sweep-32</strong> at: <a href='https://wandb.ai/zekai-wang/cs285_proj_get_action_true_dynamics_updated/runs/p0lsffpb' target=\"_blank\">https://wandb.ai/zekai-wang/cs285_proj_get_action_true_dynamics_updated/runs/p0lsffpb</a><br/>Synced 6 W&B file(s), 0 media file(s), 0 artifact file(s) and 0 other file(s)"
      ],
      "text/plain": [
       "<IPython.core.display.HTML object>"
      ]
     },
     "metadata": {},
     "output_type": "display_data"
    },
    {
     "data": {
      "text/html": [
       "Find logs at: <code>./wandb/run-20231210_000002-p0lsffpb/logs</code>"
      ],
      "text/plain": [
       "<IPython.core.display.HTML object>"
      ]
     },
     "metadata": {},
     "output_type": "display_data"
    },
    {
     "name": "stderr",
     "output_type": "stream",
     "text": [
      "\u001b[34m\u001b[1mwandb\u001b[0m: Agent Starting Run: ehjgxgri with config:\n",
      "\u001b[34m\u001b[1mwandb\u001b[0m: \tcem_alpha: 0.95\n",
      "\u001b[34m\u001b[1mwandb\u001b[0m: \tcem_num_elites: 64\n",
      "\u001b[34m\u001b[1mwandb\u001b[0m: \tcem_num_iters: 4\n",
      "\u001b[34m\u001b[1mwandb\u001b[0m: \tmpc_discount: 1\n",
      "\u001b[34m\u001b[1mwandb\u001b[0m: \tmpc_horizon_steps: 20\n",
      "\u001b[34m\u001b[1mwandb\u001b[0m: \tmpc_num_action_sequences: 500\n",
      "\u001b[34m\u001b[1mwandb\u001b[0m: \tmpc_strategy: random\n",
      "/home/zekai/miniconda3/envs/cs285_proj/lib/python3.9/site-packages/ipywidgets/widgets/widget.py:528: DeprecationWarning: The `ipykernel.comm.Comm` class has been deprecated. Please use the `comm` module instead.For creating comms, use the function `from comm import create_comm`.\n",
      "  self.comm = Comm(**args)\n",
      "/home/zekai/miniconda3/envs/cs285_proj/lib/python3.9/site-packages/wandb/sdk/lib/ipython.py:77: DeprecationWarning: Importing display from IPython.core.display is deprecated since IPython 7.14, please import from IPython display\n",
      "  from IPython.core.display import HTML, display  # type: ignore\n"
     ]
    },
    {
     "data": {
      "text/html": [
       "Tracking run with wandb version 0.16.1"
      ],
      "text/plain": [
       "<IPython.core.display.HTML object>"
      ]
     },
     "metadata": {},
     "output_type": "display_data"
    },
    {
     "data": {
      "text/html": [
       "Run data is saved locally in <code>/home/zekai/repos/cs285_proj/notebooks/wandb/run-20231210_000028-ehjgxgri</code>"
      ],
      "text/plain": [
       "<IPython.core.display.HTML object>"
      ]
     },
     "metadata": {},
     "output_type": "display_data"
    },
    {
     "data": {
      "text/html": [
       "Syncing run <strong><a href='https://wandb.ai/zekai-wang/cs285_proj_get_action_true_dynamics_updated/runs/ehjgxgri' target=\"_blank\">jolly-sweep-33</a></strong> to <a href='https://wandb.ai/zekai-wang/cs285_proj_get_action_true_dynamics_updated' target=\"_blank\">Weights & Biases</a> (<a href='https://wandb.me/run' target=\"_blank\">docs</a>)<br/>Sweep page: <a href='https://wandb.ai/zekai-wang/cs285_proj_get_action_true_dynamics_updated/sweeps/ok4muk7m' target=\"_blank\">https://wandb.ai/zekai-wang/cs285_proj_get_action_true_dynamics_updated/sweeps/ok4muk7m</a>"
      ],
      "text/plain": [
       "<IPython.core.display.HTML object>"
      ]
     },
     "metadata": {},
     "output_type": "display_data"
    },
    {
     "data": {
      "text/html": [
       " View project at <a href='https://wandb.ai/zekai-wang/cs285_proj_get_action_true_dynamics_updated' target=\"_blank\">https://wandb.ai/zekai-wang/cs285_proj_get_action_true_dynamics_updated</a>"
      ],
      "text/plain": [
       "<IPython.core.display.HTML object>"
      ]
     },
     "metadata": {},
     "output_type": "display_data"
    },
    {
     "data": {
      "text/html": [
       " View sweep at <a href='https://wandb.ai/zekai-wang/cs285_proj_get_action_true_dynamics_updated/sweeps/ok4muk7m' target=\"_blank\">https://wandb.ai/zekai-wang/cs285_proj_get_action_true_dynamics_updated/sweeps/ok4muk7m</a>"
      ],
      "text/plain": [
       "<IPython.core.display.HTML object>"
      ]
     },
     "metadata": {},
     "output_type": "display_data"
    },
    {
     "data": {
      "text/html": [
       " View run at <a href='https://wandb.ai/zekai-wang/cs285_proj_get_action_true_dynamics_updated/runs/ehjgxgri' target=\"_blank\">https://wandb.ai/zekai-wang/cs285_proj_get_action_true_dynamics_updated/runs/ehjgxgri</a>"
      ],
      "text/plain": [
       "<IPython.core.display.HTML object>"
      ]
     },
     "metadata": {},
     "output_type": "display_data"
    },
    {
     "name": "stderr",
     "output_type": "stream",
     "text": [
      "100%|██████████| 10/10 [00:16<00:00,  1.64s/it]\n"
     ]
    },
    {
     "name": "stdout",
     "output_type": "stream",
     "text": [
      "mean -1260.0793\n",
      "std 321.4868\n",
      "min -1766.2046\n",
      "max -898.9603\n"
     ]
    },
    {
     "data": {
      "application/vnd.jupyter.widget-view+json": {
       "model_id": "184f0ef07a2f464e9e0235af1c35f211",
       "version_major": 2,
       "version_minor": 0
      },
      "text/plain": [
       "VBox(children=(Label(value='0.004 MB of 0.004 MB uploaded\\r'), FloatProgress(value=1.0, max=1.0)))"
      ]
     },
     "metadata": {},
     "output_type": "display_data"
    },
    {
     "data": {
      "text/html": [
       "<style>\n",
       "    table.wandb td:nth-child(1) { padding: 0 10px; text-align: left ; width: auto;} td:nth-child(2) {text-align: left ; width: 100%}\n",
       "    .wandb-row { display: flex; flex-direction: row; flex-wrap: wrap; justify-content: flex-start; width: 100% }\n",
       "    .wandb-col { display: flex; flex-direction: column; flex-basis: 100%; flex: 1; padding: 10px; }\n",
       "    </style>\n",
       "<div class=\"wandb-row\"><div class=\"wandb-col\"><h3>Run history:</h3><br/><table class=\"wandb\"><tr><td>max</td><td>▁</td></tr><tr><td>mean</td><td>▁</td></tr><tr><td>min</td><td>▁</td></tr><tr><td>std</td><td>▁</td></tr></table><br/></div><div class=\"wandb-col\"><h3>Run summary:</h3><br/><table class=\"wandb\"><tr><td>max</td><td>-898.96033</td></tr><tr><td>mean</td><td>-1260.07935</td></tr><tr><td>min</td><td>-1766.20459</td></tr><tr><td>std</td><td>321.48679</td></tr></table><br/></div></div>"
      ],
      "text/plain": [
       "<IPython.core.display.HTML object>"
      ]
     },
     "metadata": {},
     "output_type": "display_data"
    },
    {
     "data": {
      "text/html": [
       " View run <strong style=\"color:#cdcd00\">jolly-sweep-33</strong> at: <a href='https://wandb.ai/zekai-wang/cs285_proj_get_action_true_dynamics_updated/runs/ehjgxgri' target=\"_blank\">https://wandb.ai/zekai-wang/cs285_proj_get_action_true_dynamics_updated/runs/ehjgxgri</a><br/>Synced 6 W&B file(s), 0 media file(s), 0 artifact file(s) and 0 other file(s)"
      ],
      "text/plain": [
       "<IPython.core.display.HTML object>"
      ]
     },
     "metadata": {},
     "output_type": "display_data"
    },
    {
     "data": {
      "text/html": [
       "Find logs at: <code>./wandb/run-20231210_000028-ehjgxgri/logs</code>"
      ],
      "text/plain": [
       "<IPython.core.display.HTML object>"
      ]
     },
     "metadata": {},
     "output_type": "display_data"
    },
    {
     "name": "stderr",
     "output_type": "stream",
     "text": [
      "\u001b[34m\u001b[1mwandb\u001b[0m: Agent Starting Run: 2xbki2uh with config:\n",
      "\u001b[34m\u001b[1mwandb\u001b[0m: \tcem_alpha: 0.8\n",
      "\u001b[34m\u001b[1mwandb\u001b[0m: \tcem_num_elites: 8\n",
      "\u001b[34m\u001b[1mwandb\u001b[0m: \tcem_num_iters: 8\n",
      "\u001b[34m\u001b[1mwandb\u001b[0m: \tmpc_discount: 0.95\n",
      "\u001b[34m\u001b[1mwandb\u001b[0m: \tmpc_horizon_steps: 1\n",
      "\u001b[34m\u001b[1mwandb\u001b[0m: \tmpc_num_action_sequences: 500\n",
      "\u001b[34m\u001b[1mwandb\u001b[0m: \tmpc_strategy: random\n",
      "/home/zekai/miniconda3/envs/cs285_proj/lib/python3.9/site-packages/ipywidgets/widgets/widget.py:528: DeprecationWarning: The `ipykernel.comm.Comm` class has been deprecated. Please use the `comm` module instead.For creating comms, use the function `from comm import create_comm`.\n",
      "  self.comm = Comm(**args)\n",
      "/home/zekai/miniconda3/envs/cs285_proj/lib/python3.9/site-packages/wandb/sdk/lib/ipython.py:77: DeprecationWarning: Importing display from IPython.core.display is deprecated since IPython 7.14, please import from IPython display\n",
      "  from IPython.core.display import HTML, display  # type: ignore\n"
     ]
    },
    {
     "data": {
      "text/html": [
       "Tracking run with wandb version 0.16.1"
      ],
      "text/plain": [
       "<IPython.core.display.HTML object>"
      ]
     },
     "metadata": {},
     "output_type": "display_data"
    },
    {
     "data": {
      "text/html": [
       "Run data is saved locally in <code>/home/zekai/repos/cs285_proj/notebooks/wandb/run-20231210_000059-2xbki2uh</code>"
      ],
      "text/plain": [
       "<IPython.core.display.HTML object>"
      ]
     },
     "metadata": {},
     "output_type": "display_data"
    },
    {
     "data": {
      "text/html": [
       "Syncing run <strong><a href='https://wandb.ai/zekai-wang/cs285_proj_get_action_true_dynamics_updated/runs/2xbki2uh' target=\"_blank\">fallen-sweep-34</a></strong> to <a href='https://wandb.ai/zekai-wang/cs285_proj_get_action_true_dynamics_updated' target=\"_blank\">Weights & Biases</a> (<a href='https://wandb.me/run' target=\"_blank\">docs</a>)<br/>Sweep page: <a href='https://wandb.ai/zekai-wang/cs285_proj_get_action_true_dynamics_updated/sweeps/ok4muk7m' target=\"_blank\">https://wandb.ai/zekai-wang/cs285_proj_get_action_true_dynamics_updated/sweeps/ok4muk7m</a>"
      ],
      "text/plain": [
       "<IPython.core.display.HTML object>"
      ]
     },
     "metadata": {},
     "output_type": "display_data"
    },
    {
     "data": {
      "text/html": [
       " View project at <a href='https://wandb.ai/zekai-wang/cs285_proj_get_action_true_dynamics_updated' target=\"_blank\">https://wandb.ai/zekai-wang/cs285_proj_get_action_true_dynamics_updated</a>"
      ],
      "text/plain": [
       "<IPython.core.display.HTML object>"
      ]
     },
     "metadata": {},
     "output_type": "display_data"
    },
    {
     "data": {
      "text/html": [
       " View sweep at <a href='https://wandb.ai/zekai-wang/cs285_proj_get_action_true_dynamics_updated/sweeps/ok4muk7m' target=\"_blank\">https://wandb.ai/zekai-wang/cs285_proj_get_action_true_dynamics_updated/sweeps/ok4muk7m</a>"
      ],
      "text/plain": [
       "<IPython.core.display.HTML object>"
      ]
     },
     "metadata": {},
     "output_type": "display_data"
    },
    {
     "data": {
      "text/html": [
       " View run at <a href='https://wandb.ai/zekai-wang/cs285_proj_get_action_true_dynamics_updated/runs/2xbki2uh' target=\"_blank\">https://wandb.ai/zekai-wang/cs285_proj_get_action_true_dynamics_updated/runs/2xbki2uh</a>"
      ],
      "text/plain": [
       "<IPython.core.display.HTML object>"
      ]
     },
     "metadata": {},
     "output_type": "display_data"
    },
    {
     "name": "stderr",
     "output_type": "stream",
     "text": [
      "100%|██████████| 10/10 [00:16<00:00,  1.62s/it]\n"
     ]
    },
    {
     "name": "stdout",
     "output_type": "stream",
     "text": [
      "mean -1212.0873\n",
      "std 235.46313\n",
      "min -1540.3375\n",
      "max -864.8971\n"
     ]
    },
    {
     "data": {
      "application/vnd.jupyter.widget-view+json": {
       "model_id": "739b344a700949c1a553c60aca9edcb0",
       "version_major": 2,
       "version_minor": 0
      },
      "text/plain": [
       "VBox(children=(Label(value='0.004 MB of 0.004 MB uploaded\\r'), FloatProgress(value=1.0, max=1.0)))"
      ]
     },
     "metadata": {},
     "output_type": "display_data"
    },
    {
     "data": {
      "text/html": [
       "<style>\n",
       "    table.wandb td:nth-child(1) { padding: 0 10px; text-align: left ; width: auto;} td:nth-child(2) {text-align: left ; width: 100%}\n",
       "    .wandb-row { display: flex; flex-direction: row; flex-wrap: wrap; justify-content: flex-start; width: 100% }\n",
       "    .wandb-col { display: flex; flex-direction: column; flex-basis: 100%; flex: 1; padding: 10px; }\n",
       "    </style>\n",
       "<div class=\"wandb-row\"><div class=\"wandb-col\"><h3>Run history:</h3><br/><table class=\"wandb\"><tr><td>max</td><td>▁</td></tr><tr><td>mean</td><td>▁</td></tr><tr><td>min</td><td>▁</td></tr><tr><td>std</td><td>▁</td></tr></table><br/></div><div class=\"wandb-col\"><h3>Run summary:</h3><br/><table class=\"wandb\"><tr><td>max</td><td>-864.89709</td></tr><tr><td>mean</td><td>-1212.08728</td></tr><tr><td>min</td><td>-1540.33752</td></tr><tr><td>std</td><td>235.46313</td></tr></table><br/></div></div>"
      ],
      "text/plain": [
       "<IPython.core.display.HTML object>"
      ]
     },
     "metadata": {},
     "output_type": "display_data"
    },
    {
     "data": {
      "text/html": [
       " View run <strong style=\"color:#cdcd00\">fallen-sweep-34</strong> at: <a href='https://wandb.ai/zekai-wang/cs285_proj_get_action_true_dynamics_updated/runs/2xbki2uh' target=\"_blank\">https://wandb.ai/zekai-wang/cs285_proj_get_action_true_dynamics_updated/runs/2xbki2uh</a><br/>Synced 6 W&B file(s), 0 media file(s), 0 artifact file(s) and 0 other file(s)"
      ],
      "text/plain": [
       "<IPython.core.display.HTML object>"
      ]
     },
     "metadata": {},
     "output_type": "display_data"
    },
    {
     "data": {
      "text/html": [
       "Find logs at: <code>./wandb/run-20231210_000059-2xbki2uh/logs</code>"
      ],
      "text/plain": [
       "<IPython.core.display.HTML object>"
      ]
     },
     "metadata": {},
     "output_type": "display_data"
    },
    {
     "name": "stderr",
     "output_type": "stream",
     "text": [
      "\u001b[34m\u001b[1mwandb\u001b[0m: Agent Starting Run: 15xs20cr with config:\n",
      "\u001b[34m\u001b[1mwandb\u001b[0m: \tcem_alpha: 0.8\n",
      "\u001b[34m\u001b[1mwandb\u001b[0m: \tcem_num_elites: 8\n",
      "\u001b[34m\u001b[1mwandb\u001b[0m: \tcem_num_iters: 8\n",
      "\u001b[34m\u001b[1mwandb\u001b[0m: \tmpc_discount: 0.5\n",
      "\u001b[34m\u001b[1mwandb\u001b[0m: \tmpc_horizon_steps: 100\n",
      "\u001b[34m\u001b[1mwandb\u001b[0m: \tmpc_num_action_sequences: 200\n",
      "\u001b[34m\u001b[1mwandb\u001b[0m: \tmpc_strategy: cem\n",
      "/home/zekai/miniconda3/envs/cs285_proj/lib/python3.9/site-packages/ipywidgets/widgets/widget.py:528: DeprecationWarning: The `ipykernel.comm.Comm` class has been deprecated. Please use the `comm` module instead.For creating comms, use the function `from comm import create_comm`.\n",
      "  self.comm = Comm(**args)\n",
      "/home/zekai/miniconda3/envs/cs285_proj/lib/python3.9/site-packages/wandb/sdk/lib/ipython.py:77: DeprecationWarning: Importing display from IPython.core.display is deprecated since IPython 7.14, please import from IPython display\n",
      "  from IPython.core.display import HTML, display  # type: ignore\n"
     ]
    },
    {
     "data": {
      "text/html": [
       "Tracking run with wandb version 0.16.1"
      ],
      "text/plain": [
       "<IPython.core.display.HTML object>"
      ]
     },
     "metadata": {},
     "output_type": "display_data"
    },
    {
     "data": {
      "text/html": [
       "Run data is saved locally in <code>/home/zekai/repos/cs285_proj/notebooks/wandb/run-20231210_000125-15xs20cr</code>"
      ],
      "text/plain": [
       "<IPython.core.display.HTML object>"
      ]
     },
     "metadata": {},
     "output_type": "display_data"
    },
    {
     "data": {
      "text/html": [
       "Syncing run <strong><a href='https://wandb.ai/zekai-wang/cs285_proj_get_action_true_dynamics_updated/runs/15xs20cr' target=\"_blank\">winter-sweep-35</a></strong> to <a href='https://wandb.ai/zekai-wang/cs285_proj_get_action_true_dynamics_updated' target=\"_blank\">Weights & Biases</a> (<a href='https://wandb.me/run' target=\"_blank\">docs</a>)<br/>Sweep page: <a href='https://wandb.ai/zekai-wang/cs285_proj_get_action_true_dynamics_updated/sweeps/ok4muk7m' target=\"_blank\">https://wandb.ai/zekai-wang/cs285_proj_get_action_true_dynamics_updated/sweeps/ok4muk7m</a>"
      ],
      "text/plain": [
       "<IPython.core.display.HTML object>"
      ]
     },
     "metadata": {},
     "output_type": "display_data"
    },
    {
     "data": {
      "text/html": [
       " View project at <a href='https://wandb.ai/zekai-wang/cs285_proj_get_action_true_dynamics_updated' target=\"_blank\">https://wandb.ai/zekai-wang/cs285_proj_get_action_true_dynamics_updated</a>"
      ],
      "text/plain": [
       "<IPython.core.display.HTML object>"
      ]
     },
     "metadata": {},
     "output_type": "display_data"
    },
    {
     "data": {
      "text/html": [
       " View sweep at <a href='https://wandb.ai/zekai-wang/cs285_proj_get_action_true_dynamics_updated/sweeps/ok4muk7m' target=\"_blank\">https://wandb.ai/zekai-wang/cs285_proj_get_action_true_dynamics_updated/sweeps/ok4muk7m</a>"
      ],
      "text/plain": [
       "<IPython.core.display.HTML object>"
      ]
     },
     "metadata": {},
     "output_type": "display_data"
    },
    {
     "data": {
      "text/html": [
       " View run at <a href='https://wandb.ai/zekai-wang/cs285_proj_get_action_true_dynamics_updated/runs/15xs20cr' target=\"_blank\">https://wandb.ai/zekai-wang/cs285_proj_get_action_true_dynamics_updated/runs/15xs20cr</a>"
      ],
      "text/plain": [
       "<IPython.core.display.HTML object>"
      ]
     },
     "metadata": {},
     "output_type": "display_data"
    },
    {
     "name": "stderr",
     "output_type": "stream",
     "text": [
      "100%|██████████| 10/10 [00:17<00:00,  1.71s/it]\n"
     ]
    },
    {
     "name": "stdout",
     "output_type": "stream",
     "text": [
      "mean -1315.4016\n",
      "std 342.5913\n",
      "min -1806.6589\n",
      "max -889.40027\n"
     ]
    },
    {
     "data": {
      "application/vnd.jupyter.widget-view+json": {
       "model_id": "dc73957ac91a4d6ab18732b5b0f9be59",
       "version_major": 2,
       "version_minor": 0
      },
      "text/plain": [
       "VBox(children=(Label(value='0.004 MB of 0.004 MB uploaded\\r'), FloatProgress(value=1.0, max=1.0)))"
      ]
     },
     "metadata": {},
     "output_type": "display_data"
    },
    {
     "data": {
      "text/html": [
       "<style>\n",
       "    table.wandb td:nth-child(1) { padding: 0 10px; text-align: left ; width: auto;} td:nth-child(2) {text-align: left ; width: 100%}\n",
       "    .wandb-row { display: flex; flex-direction: row; flex-wrap: wrap; justify-content: flex-start; width: 100% }\n",
       "    .wandb-col { display: flex; flex-direction: column; flex-basis: 100%; flex: 1; padding: 10px; }\n",
       "    </style>\n",
       "<div class=\"wandb-row\"><div class=\"wandb-col\"><h3>Run history:</h3><br/><table class=\"wandb\"><tr><td>max</td><td>▁</td></tr><tr><td>mean</td><td>▁</td></tr><tr><td>min</td><td>▁</td></tr><tr><td>std</td><td>▁</td></tr></table><br/></div><div class=\"wandb-col\"><h3>Run summary:</h3><br/><table class=\"wandb\"><tr><td>max</td><td>-889.40027</td></tr><tr><td>mean</td><td>-1315.40161</td></tr><tr><td>min</td><td>-1806.65894</td></tr><tr><td>std</td><td>342.59131</td></tr></table><br/></div></div>"
      ],
      "text/plain": [
       "<IPython.core.display.HTML object>"
      ]
     },
     "metadata": {},
     "output_type": "display_data"
    },
    {
     "data": {
      "text/html": [
       " View run <strong style=\"color:#cdcd00\">winter-sweep-35</strong> at: <a href='https://wandb.ai/zekai-wang/cs285_proj_get_action_true_dynamics_updated/runs/15xs20cr' target=\"_blank\">https://wandb.ai/zekai-wang/cs285_proj_get_action_true_dynamics_updated/runs/15xs20cr</a><br/>Synced 6 W&B file(s), 0 media file(s), 0 artifact file(s) and 0 other file(s)"
      ],
      "text/plain": [
       "<IPython.core.display.HTML object>"
      ]
     },
     "metadata": {},
     "output_type": "display_data"
    },
    {
     "data": {
      "text/html": [
       "Find logs at: <code>./wandb/run-20231210_000125-15xs20cr/logs</code>"
      ],
      "text/plain": [
       "<IPython.core.display.HTML object>"
      ]
     },
     "metadata": {},
     "output_type": "display_data"
    },
    {
     "name": "stderr",
     "output_type": "stream",
     "text": [
      "\u001b[34m\u001b[1mwandb\u001b[0m: Agent Starting Run: ybijrqyd with config:\n",
      "\u001b[34m\u001b[1mwandb\u001b[0m: \tcem_alpha: 0.95\n",
      "\u001b[34m\u001b[1mwandb\u001b[0m: \tcem_num_elites: 2\n",
      "\u001b[34m\u001b[1mwandb\u001b[0m: \tcem_num_iters: 2\n",
      "\u001b[34m\u001b[1mwandb\u001b[0m: \tmpc_discount: 0.8\n",
      "\u001b[34m\u001b[1mwandb\u001b[0m: \tmpc_horizon_steps: 5\n",
      "\u001b[34m\u001b[1mwandb\u001b[0m: \tmpc_num_action_sequences: 2000\n",
      "\u001b[34m\u001b[1mwandb\u001b[0m: \tmpc_strategy: cem\n",
      "/home/zekai/miniconda3/envs/cs285_proj/lib/python3.9/site-packages/ipywidgets/widgets/widget.py:528: DeprecationWarning: The `ipykernel.comm.Comm` class has been deprecated. Please use the `comm` module instead.For creating comms, use the function `from comm import create_comm`.\n",
      "  self.comm = Comm(**args)\n",
      "/home/zekai/miniconda3/envs/cs285_proj/lib/python3.9/site-packages/wandb/sdk/lib/ipython.py:77: DeprecationWarning: Importing display from IPython.core.display is deprecated since IPython 7.14, please import from IPython display\n",
      "  from IPython.core.display import HTML, display  # type: ignore\n"
     ]
    },
    {
     "data": {
      "text/html": [
       "Tracking run with wandb version 0.16.1"
      ],
      "text/plain": [
       "<IPython.core.display.HTML object>"
      ]
     },
     "metadata": {},
     "output_type": "display_data"
    },
    {
     "data": {
      "text/html": [
       "Run data is saved locally in <code>/home/zekai/repos/cs285_proj/notebooks/wandb/run-20231210_000155-ybijrqyd</code>"
      ],
      "text/plain": [
       "<IPython.core.display.HTML object>"
      ]
     },
     "metadata": {},
     "output_type": "display_data"
    },
    {
     "data": {
      "text/html": [
       "Syncing run <strong><a href='https://wandb.ai/zekai-wang/cs285_proj_get_action_true_dynamics_updated/runs/ybijrqyd' target=\"_blank\">autumn-sweep-36</a></strong> to <a href='https://wandb.ai/zekai-wang/cs285_proj_get_action_true_dynamics_updated' target=\"_blank\">Weights & Biases</a> (<a href='https://wandb.me/run' target=\"_blank\">docs</a>)<br/>Sweep page: <a href='https://wandb.ai/zekai-wang/cs285_proj_get_action_true_dynamics_updated/sweeps/ok4muk7m' target=\"_blank\">https://wandb.ai/zekai-wang/cs285_proj_get_action_true_dynamics_updated/sweeps/ok4muk7m</a>"
      ],
      "text/plain": [
       "<IPython.core.display.HTML object>"
      ]
     },
     "metadata": {},
     "output_type": "display_data"
    },
    {
     "data": {
      "text/html": [
       " View project at <a href='https://wandb.ai/zekai-wang/cs285_proj_get_action_true_dynamics_updated' target=\"_blank\">https://wandb.ai/zekai-wang/cs285_proj_get_action_true_dynamics_updated</a>"
      ],
      "text/plain": [
       "<IPython.core.display.HTML object>"
      ]
     },
     "metadata": {},
     "output_type": "display_data"
    },
    {
     "data": {
      "text/html": [
       " View sweep at <a href='https://wandb.ai/zekai-wang/cs285_proj_get_action_true_dynamics_updated/sweeps/ok4muk7m' target=\"_blank\">https://wandb.ai/zekai-wang/cs285_proj_get_action_true_dynamics_updated/sweeps/ok4muk7m</a>"
      ],
      "text/plain": [
       "<IPython.core.display.HTML object>"
      ]
     },
     "metadata": {},
     "output_type": "display_data"
    },
    {
     "data": {
      "text/html": [
       " View run at <a href='https://wandb.ai/zekai-wang/cs285_proj_get_action_true_dynamics_updated/runs/ybijrqyd' target=\"_blank\">https://wandb.ai/zekai-wang/cs285_proj_get_action_true_dynamics_updated/runs/ybijrqyd</a>"
      ],
      "text/plain": [
       "<IPython.core.display.HTML object>"
      ]
     },
     "metadata": {},
     "output_type": "display_data"
    },
    {
     "name": "stderr",
     "output_type": "stream",
     "text": [
      "100%|██████████| 10/10 [00:16<00:00,  1.64s/it]\n"
     ]
    },
    {
     "name": "stdout",
     "output_type": "stream",
     "text": [
      "mean -1169.7751\n",
      "std 277.41992\n",
      "min -1676.272\n",
      "max -765.4935\n"
     ]
    },
    {
     "data": {
      "application/vnd.jupyter.widget-view+json": {
       "model_id": "34bbfc233a2d44808e1caa614c0a15d6",
       "version_major": 2,
       "version_minor": 0
      },
      "text/plain": [
       "VBox(children=(Label(value='0.004 MB of 0.004 MB uploaded\\r'), FloatProgress(value=1.0, max=1.0)))"
      ]
     },
     "metadata": {},
     "output_type": "display_data"
    },
    {
     "data": {
      "text/html": [
       "<style>\n",
       "    table.wandb td:nth-child(1) { padding: 0 10px; text-align: left ; width: auto;} td:nth-child(2) {text-align: left ; width: 100%}\n",
       "    .wandb-row { display: flex; flex-direction: row; flex-wrap: wrap; justify-content: flex-start; width: 100% }\n",
       "    .wandb-col { display: flex; flex-direction: column; flex-basis: 100%; flex: 1; padding: 10px; }\n",
       "    </style>\n",
       "<div class=\"wandb-row\"><div class=\"wandb-col\"><h3>Run history:</h3><br/><table class=\"wandb\"><tr><td>max</td><td>▁</td></tr><tr><td>mean</td><td>▁</td></tr><tr><td>min</td><td>▁</td></tr><tr><td>std</td><td>▁</td></tr></table><br/></div><div class=\"wandb-col\"><h3>Run summary:</h3><br/><table class=\"wandb\"><tr><td>max</td><td>-765.49353</td></tr><tr><td>mean</td><td>-1169.77515</td></tr><tr><td>min</td><td>-1676.27197</td></tr><tr><td>std</td><td>277.41992</td></tr></table><br/></div></div>"
      ],
      "text/plain": [
       "<IPython.core.display.HTML object>"
      ]
     },
     "metadata": {},
     "output_type": "display_data"
    },
    {
     "data": {
      "text/html": [
       " View run <strong style=\"color:#cdcd00\">autumn-sweep-36</strong> at: <a href='https://wandb.ai/zekai-wang/cs285_proj_get_action_true_dynamics_updated/runs/ybijrqyd' target=\"_blank\">https://wandb.ai/zekai-wang/cs285_proj_get_action_true_dynamics_updated/runs/ybijrqyd</a><br/>Synced 6 W&B file(s), 0 media file(s), 0 artifact file(s) and 0 other file(s)"
      ],
      "text/plain": [
       "<IPython.core.display.HTML object>"
      ]
     },
     "metadata": {},
     "output_type": "display_data"
    },
    {
     "data": {
      "text/html": [
       "Find logs at: <code>./wandb/run-20231210_000155-ybijrqyd/logs</code>"
      ],
      "text/plain": [
       "<IPython.core.display.HTML object>"
      ]
     },
     "metadata": {},
     "output_type": "display_data"
    },
    {
     "name": "stderr",
     "output_type": "stream",
     "text": [
      "\u001b[34m\u001b[1mwandb\u001b[0m: Sweep Agent: Waiting for job.\n",
      "\u001b[34m\u001b[1mwandb\u001b[0m: Job received.\n",
      "\u001b[34m\u001b[1mwandb\u001b[0m: Agent Starting Run: sudgn791 with config:\n",
      "\u001b[34m\u001b[1mwandb\u001b[0m: \tcem_alpha: 0.5\n",
      "\u001b[34m\u001b[1mwandb\u001b[0m: \tcem_num_elites: 32\n",
      "\u001b[34m\u001b[1mwandb\u001b[0m: \tcem_num_iters: 8\n",
      "\u001b[34m\u001b[1mwandb\u001b[0m: \tmpc_discount: 1\n",
      "\u001b[34m\u001b[1mwandb\u001b[0m: \tmpc_horizon_steps: 2\n",
      "\u001b[34m\u001b[1mwandb\u001b[0m: \tmpc_num_action_sequences: 1000\n",
      "\u001b[34m\u001b[1mwandb\u001b[0m: \tmpc_strategy: random\n",
      "/home/zekai/miniconda3/envs/cs285_proj/lib/python3.9/site-packages/ipywidgets/widgets/widget.py:528: DeprecationWarning: The `ipykernel.comm.Comm` class has been deprecated. Please use the `comm` module instead.For creating comms, use the function `from comm import create_comm`.\n",
      "  self.comm = Comm(**args)\n",
      "/home/zekai/miniconda3/envs/cs285_proj/lib/python3.9/site-packages/wandb/sdk/lib/ipython.py:77: DeprecationWarning: Importing display from IPython.core.display is deprecated since IPython 7.14, please import from IPython display\n",
      "  from IPython.core.display import HTML, display  # type: ignore\n"
     ]
    },
    {
     "data": {
      "text/html": [
       "Tracking run with wandb version 0.16.1"
      ],
      "text/plain": [
       "<IPython.core.display.HTML object>"
      ]
     },
     "metadata": {},
     "output_type": "display_data"
    },
    {
     "data": {
      "text/html": [
       "Run data is saved locally in <code>/home/zekai/repos/cs285_proj/notebooks/wandb/run-20231210_000231-sudgn791</code>"
      ],
      "text/plain": [
       "<IPython.core.display.HTML object>"
      ]
     },
     "metadata": {},
     "output_type": "display_data"
    },
    {
     "data": {
      "text/html": [
       "Syncing run <strong><a href='https://wandb.ai/zekai-wang/cs285_proj_get_action_true_dynamics_updated/runs/sudgn791' target=\"_blank\">playful-sweep-37</a></strong> to <a href='https://wandb.ai/zekai-wang/cs285_proj_get_action_true_dynamics_updated' target=\"_blank\">Weights & Biases</a> (<a href='https://wandb.me/run' target=\"_blank\">docs</a>)<br/>Sweep page: <a href='https://wandb.ai/zekai-wang/cs285_proj_get_action_true_dynamics_updated/sweeps/ok4muk7m' target=\"_blank\">https://wandb.ai/zekai-wang/cs285_proj_get_action_true_dynamics_updated/sweeps/ok4muk7m</a>"
      ],
      "text/plain": [
       "<IPython.core.display.HTML object>"
      ]
     },
     "metadata": {},
     "output_type": "display_data"
    },
    {
     "data": {
      "text/html": [
       " View project at <a href='https://wandb.ai/zekai-wang/cs285_proj_get_action_true_dynamics_updated' target=\"_blank\">https://wandb.ai/zekai-wang/cs285_proj_get_action_true_dynamics_updated</a>"
      ],
      "text/plain": [
       "<IPython.core.display.HTML object>"
      ]
     },
     "metadata": {},
     "output_type": "display_data"
    },
    {
     "data": {
      "text/html": [
       " View sweep at <a href='https://wandb.ai/zekai-wang/cs285_proj_get_action_true_dynamics_updated/sweeps/ok4muk7m' target=\"_blank\">https://wandb.ai/zekai-wang/cs285_proj_get_action_true_dynamics_updated/sweeps/ok4muk7m</a>"
      ],
      "text/plain": [
       "<IPython.core.display.HTML object>"
      ]
     },
     "metadata": {},
     "output_type": "display_data"
    },
    {
     "data": {
      "text/html": [
       " View run at <a href='https://wandb.ai/zekai-wang/cs285_proj_get_action_true_dynamics_updated/runs/sudgn791' target=\"_blank\">https://wandb.ai/zekai-wang/cs285_proj_get_action_true_dynamics_updated/runs/sudgn791</a>"
      ],
      "text/plain": [
       "<IPython.core.display.HTML object>"
      ]
     },
     "metadata": {},
     "output_type": "display_data"
    },
    {
     "name": "stderr",
     "output_type": "stream",
     "text": [
      "100%|██████████| 10/10 [00:14<00:00,  1.48s/it]\n"
     ]
    },
    {
     "name": "stdout",
     "output_type": "stream",
     "text": [
      "mean -1255.9666\n",
      "std 275.9796\n",
      "min -1658.7927\n",
      "max -871.4061\n"
     ]
    },
    {
     "data": {
      "application/vnd.jupyter.widget-view+json": {
       "model_id": "47d258a588d64f52b4e00c659b9b80ef",
       "version_major": 2,
       "version_minor": 0
      },
      "text/plain": [
       "VBox(children=(Label(value='0.004 MB of 0.004 MB uploaded\\r'), FloatProgress(value=1.0, max=1.0)))"
      ]
     },
     "metadata": {},
     "output_type": "display_data"
    },
    {
     "data": {
      "text/html": [
       "<style>\n",
       "    table.wandb td:nth-child(1) { padding: 0 10px; text-align: left ; width: auto;} td:nth-child(2) {text-align: left ; width: 100%}\n",
       "    .wandb-row { display: flex; flex-direction: row; flex-wrap: wrap; justify-content: flex-start; width: 100% }\n",
       "    .wandb-col { display: flex; flex-direction: column; flex-basis: 100%; flex: 1; padding: 10px; }\n",
       "    </style>\n",
       "<div class=\"wandb-row\"><div class=\"wandb-col\"><h3>Run history:</h3><br/><table class=\"wandb\"><tr><td>max</td><td>▁</td></tr><tr><td>mean</td><td>▁</td></tr><tr><td>min</td><td>▁</td></tr><tr><td>std</td><td>▁</td></tr></table><br/></div><div class=\"wandb-col\"><h3>Run summary:</h3><br/><table class=\"wandb\"><tr><td>max</td><td>-871.40613</td></tr><tr><td>mean</td><td>-1255.96655</td></tr><tr><td>min</td><td>-1658.79272</td></tr><tr><td>std</td><td>275.97961</td></tr></table><br/></div></div>"
      ],
      "text/plain": [
       "<IPython.core.display.HTML object>"
      ]
     },
     "metadata": {},
     "output_type": "display_data"
    },
    {
     "data": {
      "text/html": [
       " View run <strong style=\"color:#cdcd00\">playful-sweep-37</strong> at: <a href='https://wandb.ai/zekai-wang/cs285_proj_get_action_true_dynamics_updated/runs/sudgn791' target=\"_blank\">https://wandb.ai/zekai-wang/cs285_proj_get_action_true_dynamics_updated/runs/sudgn791</a><br/>Synced 6 W&B file(s), 0 media file(s), 0 artifact file(s) and 0 other file(s)"
      ],
      "text/plain": [
       "<IPython.core.display.HTML object>"
      ]
     },
     "metadata": {},
     "output_type": "display_data"
    },
    {
     "data": {
      "text/html": [
       "Find logs at: <code>./wandb/run-20231210_000231-sudgn791/logs</code>"
      ],
      "text/plain": [
       "<IPython.core.display.HTML object>"
      ]
     },
     "metadata": {},
     "output_type": "display_data"
    },
    {
     "name": "stderr",
     "output_type": "stream",
     "text": [
      "\u001b[34m\u001b[1mwandb\u001b[0m: Agent Starting Run: nfugcyl0 with config:\n",
      "\u001b[34m\u001b[1mwandb\u001b[0m: \tcem_alpha: 0.95\n",
      "\u001b[34m\u001b[1mwandb\u001b[0m: \tcem_num_elites: 1\n",
      "\u001b[34m\u001b[1mwandb\u001b[0m: \tcem_num_iters: 2\n",
      "\u001b[34m\u001b[1mwandb\u001b[0m: \tmpc_discount: 0.5\n",
      "\u001b[34m\u001b[1mwandb\u001b[0m: \tmpc_horizon_steps: 20\n",
      "\u001b[34m\u001b[1mwandb\u001b[0m: \tmpc_num_action_sequences: 2000\n",
      "\u001b[34m\u001b[1mwandb\u001b[0m: \tmpc_strategy: random\n",
      "/home/zekai/miniconda3/envs/cs285_proj/lib/python3.9/site-packages/ipywidgets/widgets/widget.py:528: DeprecationWarning: The `ipykernel.comm.Comm` class has been deprecated. Please use the `comm` module instead.For creating comms, use the function `from comm import create_comm`.\n",
      "  self.comm = Comm(**args)\n",
      "/home/zekai/miniconda3/envs/cs285_proj/lib/python3.9/site-packages/wandb/sdk/lib/ipython.py:77: DeprecationWarning: Importing display from IPython.core.display is deprecated since IPython 7.14, please import from IPython display\n",
      "  from IPython.core.display import HTML, display  # type: ignore\n"
     ]
    },
    {
     "data": {
      "text/html": [
       "Tracking run with wandb version 0.16.1"
      ],
      "text/plain": [
       "<IPython.core.display.HTML object>"
      ]
     },
     "metadata": {},
     "output_type": "display_data"
    },
    {
     "data": {
      "text/html": [
       "Run data is saved locally in <code>/home/zekai/repos/cs285_proj/notebooks/wandb/run-20231210_000257-nfugcyl0</code>"
      ],
      "text/plain": [
       "<IPython.core.display.HTML object>"
      ]
     },
     "metadata": {},
     "output_type": "display_data"
    },
    {
     "data": {
      "text/html": [
       "Syncing run <strong><a href='https://wandb.ai/zekai-wang/cs285_proj_get_action_true_dynamics_updated/runs/nfugcyl0' target=\"_blank\">happy-sweep-38</a></strong> to <a href='https://wandb.ai/zekai-wang/cs285_proj_get_action_true_dynamics_updated' target=\"_blank\">Weights & Biases</a> (<a href='https://wandb.me/run' target=\"_blank\">docs</a>)<br/>Sweep page: <a href='https://wandb.ai/zekai-wang/cs285_proj_get_action_true_dynamics_updated/sweeps/ok4muk7m' target=\"_blank\">https://wandb.ai/zekai-wang/cs285_proj_get_action_true_dynamics_updated/sweeps/ok4muk7m</a>"
      ],
      "text/plain": [
       "<IPython.core.display.HTML object>"
      ]
     },
     "metadata": {},
     "output_type": "display_data"
    },
    {
     "data": {
      "text/html": [
       " View project at <a href='https://wandb.ai/zekai-wang/cs285_proj_get_action_true_dynamics_updated' target=\"_blank\">https://wandb.ai/zekai-wang/cs285_proj_get_action_true_dynamics_updated</a>"
      ],
      "text/plain": [
       "<IPython.core.display.HTML object>"
      ]
     },
     "metadata": {},
     "output_type": "display_data"
    },
    {
     "data": {
      "text/html": [
       " View sweep at <a href='https://wandb.ai/zekai-wang/cs285_proj_get_action_true_dynamics_updated/sweeps/ok4muk7m' target=\"_blank\">https://wandb.ai/zekai-wang/cs285_proj_get_action_true_dynamics_updated/sweeps/ok4muk7m</a>"
      ],
      "text/plain": [
       "<IPython.core.display.HTML object>"
      ]
     },
     "metadata": {},
     "output_type": "display_data"
    },
    {
     "data": {
      "text/html": [
       " View run at <a href='https://wandb.ai/zekai-wang/cs285_proj_get_action_true_dynamics_updated/runs/nfugcyl0' target=\"_blank\">https://wandb.ai/zekai-wang/cs285_proj_get_action_true_dynamics_updated/runs/nfugcyl0</a>"
      ],
      "text/plain": [
       "<IPython.core.display.HTML object>"
      ]
     },
     "metadata": {},
     "output_type": "display_data"
    },
    {
     "name": "stderr",
     "output_type": "stream",
     "text": [
      "100%|██████████| 10/10 [00:14<00:00,  1.46s/it]\n"
     ]
    },
    {
     "name": "stdout",
     "output_type": "stream",
     "text": [
      "mean -1131.0264\n",
      "std 256.90244\n",
      "min -1747.8458\n",
      "max -915.6435\n"
     ]
    },
    {
     "data": {
      "application/vnd.jupyter.widget-view+json": {
       "model_id": "24dab1cc044b4f7eb26d944116fba050",
       "version_major": 2,
       "version_minor": 0
      },
      "text/plain": [
       "VBox(children=(Label(value='0.004 MB of 0.004 MB uploaded\\r'), FloatProgress(value=1.0, max=1.0)))"
      ]
     },
     "metadata": {},
     "output_type": "display_data"
    },
    {
     "data": {
      "text/html": [
       "<style>\n",
       "    table.wandb td:nth-child(1) { padding: 0 10px; text-align: left ; width: auto;} td:nth-child(2) {text-align: left ; width: 100%}\n",
       "    .wandb-row { display: flex; flex-direction: row; flex-wrap: wrap; justify-content: flex-start; width: 100% }\n",
       "    .wandb-col { display: flex; flex-direction: column; flex-basis: 100%; flex: 1; padding: 10px; }\n",
       "    </style>\n",
       "<div class=\"wandb-row\"><div class=\"wandb-col\"><h3>Run history:</h3><br/><table class=\"wandb\"><tr><td>max</td><td>▁</td></tr><tr><td>mean</td><td>▁</td></tr><tr><td>min</td><td>▁</td></tr><tr><td>std</td><td>▁</td></tr></table><br/></div><div class=\"wandb-col\"><h3>Run summary:</h3><br/><table class=\"wandb\"><tr><td>max</td><td>-915.64349</td></tr><tr><td>mean</td><td>-1131.02637</td></tr><tr><td>min</td><td>-1747.84583</td></tr><tr><td>std</td><td>256.90244</td></tr></table><br/></div></div>"
      ],
      "text/plain": [
       "<IPython.core.display.HTML object>"
      ]
     },
     "metadata": {},
     "output_type": "display_data"
    },
    {
     "data": {
      "text/html": [
       " View run <strong style=\"color:#cdcd00\">happy-sweep-38</strong> at: <a href='https://wandb.ai/zekai-wang/cs285_proj_get_action_true_dynamics_updated/runs/nfugcyl0' target=\"_blank\">https://wandb.ai/zekai-wang/cs285_proj_get_action_true_dynamics_updated/runs/nfugcyl0</a><br/>Synced 6 W&B file(s), 0 media file(s), 0 artifact file(s) and 0 other file(s)"
      ],
      "text/plain": [
       "<IPython.core.display.HTML object>"
      ]
     },
     "metadata": {},
     "output_type": "display_data"
    },
    {
     "data": {
      "text/html": [
       "Find logs at: <code>./wandb/run-20231210_000257-nfugcyl0/logs</code>"
      ],
      "text/plain": [
       "<IPython.core.display.HTML object>"
      ]
     },
     "metadata": {},
     "output_type": "display_data"
    },
    {
     "name": "stderr",
     "output_type": "stream",
     "text": [
      "\u001b[34m\u001b[1mwandb\u001b[0m: Agent Starting Run: hdoz29zf with config:\n",
      "\u001b[34m\u001b[1mwandb\u001b[0m: \tcem_alpha: 0.99\n",
      "\u001b[34m\u001b[1mwandb\u001b[0m: \tcem_num_elites: 2\n",
      "\u001b[34m\u001b[1mwandb\u001b[0m: \tcem_num_iters: 2\n",
      "\u001b[34m\u001b[1mwandb\u001b[0m: \tmpc_discount: 0.8\n",
      "\u001b[34m\u001b[1mwandb\u001b[0m: \tmpc_horizon_steps: 100\n",
      "\u001b[34m\u001b[1mwandb\u001b[0m: \tmpc_num_action_sequences: 1000\n",
      "\u001b[34m\u001b[1mwandb\u001b[0m: \tmpc_strategy: cem\n",
      "/home/zekai/miniconda3/envs/cs285_proj/lib/python3.9/site-packages/ipywidgets/widgets/widget.py:528: DeprecationWarning: The `ipykernel.comm.Comm` class has been deprecated. Please use the `comm` module instead.For creating comms, use the function `from comm import create_comm`.\n",
      "  self.comm = Comm(**args)\n",
      "/home/zekai/miniconda3/envs/cs285_proj/lib/python3.9/site-packages/wandb/sdk/lib/ipython.py:77: DeprecationWarning: Importing display from IPython.core.display is deprecated since IPython 7.14, please import from IPython display\n",
      "  from IPython.core.display import HTML, display  # type: ignore\n"
     ]
    },
    {
     "data": {
      "text/html": [
       "Tracking run with wandb version 0.16.1"
      ],
      "text/plain": [
       "<IPython.core.display.HTML object>"
      ]
     },
     "metadata": {},
     "output_type": "display_data"
    },
    {
     "data": {
      "text/html": [
       "Run data is saved locally in <code>/home/zekai/repos/cs285_proj/notebooks/wandb/run-20231210_000322-hdoz29zf</code>"
      ],
      "text/plain": [
       "<IPython.core.display.HTML object>"
      ]
     },
     "metadata": {},
     "output_type": "display_data"
    },
    {
     "data": {
      "text/html": [
       "Syncing run <strong><a href='https://wandb.ai/zekai-wang/cs285_proj_get_action_true_dynamics_updated/runs/hdoz29zf' target=\"_blank\">gallant-sweep-39</a></strong> to <a href='https://wandb.ai/zekai-wang/cs285_proj_get_action_true_dynamics_updated' target=\"_blank\">Weights & Biases</a> (<a href='https://wandb.me/run' target=\"_blank\">docs</a>)<br/>Sweep page: <a href='https://wandb.ai/zekai-wang/cs285_proj_get_action_true_dynamics_updated/sweeps/ok4muk7m' target=\"_blank\">https://wandb.ai/zekai-wang/cs285_proj_get_action_true_dynamics_updated/sweeps/ok4muk7m</a>"
      ],
      "text/plain": [
       "<IPython.core.display.HTML object>"
      ]
     },
     "metadata": {},
     "output_type": "display_data"
    },
    {
     "data": {
      "text/html": [
       " View project at <a href='https://wandb.ai/zekai-wang/cs285_proj_get_action_true_dynamics_updated' target=\"_blank\">https://wandb.ai/zekai-wang/cs285_proj_get_action_true_dynamics_updated</a>"
      ],
      "text/plain": [
       "<IPython.core.display.HTML object>"
      ]
     },
     "metadata": {},
     "output_type": "display_data"
    },
    {
     "data": {
      "text/html": [
       " View sweep at <a href='https://wandb.ai/zekai-wang/cs285_proj_get_action_true_dynamics_updated/sweeps/ok4muk7m' target=\"_blank\">https://wandb.ai/zekai-wang/cs285_proj_get_action_true_dynamics_updated/sweeps/ok4muk7m</a>"
      ],
      "text/plain": [
       "<IPython.core.display.HTML object>"
      ]
     },
     "metadata": {},
     "output_type": "display_data"
    },
    {
     "data": {
      "text/html": [
       " View run at <a href='https://wandb.ai/zekai-wang/cs285_proj_get_action_true_dynamics_updated/runs/hdoz29zf' target=\"_blank\">https://wandb.ai/zekai-wang/cs285_proj_get_action_true_dynamics_updated/runs/hdoz29zf</a>"
      ],
      "text/plain": [
       "<IPython.core.display.HTML object>"
      ]
     },
     "metadata": {},
     "output_type": "display_data"
    },
    {
     "name": "stderr",
     "output_type": "stream",
     "text": [
      "100%|██████████| 10/10 [00:14<00:00,  1.46s/it]\n"
     ]
    },
    {
     "name": "stdout",
     "output_type": "stream",
     "text": [
      "mean -1109.11\n",
      "std 277.16943\n",
      "min -1739.5078\n",
      "max -742.2825\n"
     ]
    },
    {
     "data": {
      "application/vnd.jupyter.widget-view+json": {
       "model_id": "cf4128b606af4f13aabc8bff48578271",
       "version_major": 2,
       "version_minor": 0
      },
      "text/plain": [
       "VBox(children=(Label(value='0.004 MB of 0.004 MB uploaded\\r'), FloatProgress(value=1.0, max=1.0)))"
      ]
     },
     "metadata": {},
     "output_type": "display_data"
    },
    {
     "data": {
      "text/html": [
       "<style>\n",
       "    table.wandb td:nth-child(1) { padding: 0 10px; text-align: left ; width: auto;} td:nth-child(2) {text-align: left ; width: 100%}\n",
       "    .wandb-row { display: flex; flex-direction: row; flex-wrap: wrap; justify-content: flex-start; width: 100% }\n",
       "    .wandb-col { display: flex; flex-direction: column; flex-basis: 100%; flex: 1; padding: 10px; }\n",
       "    </style>\n",
       "<div class=\"wandb-row\"><div class=\"wandb-col\"><h3>Run history:</h3><br/><table class=\"wandb\"><tr><td>max</td><td>▁</td></tr><tr><td>mean</td><td>▁</td></tr><tr><td>min</td><td>▁</td></tr><tr><td>std</td><td>▁</td></tr></table><br/></div><div class=\"wandb-col\"><h3>Run summary:</h3><br/><table class=\"wandb\"><tr><td>max</td><td>-742.28247</td></tr><tr><td>mean</td><td>-1109.10999</td></tr><tr><td>min</td><td>-1739.50781</td></tr><tr><td>std</td><td>277.16943</td></tr></table><br/></div></div>"
      ],
      "text/plain": [
       "<IPython.core.display.HTML object>"
      ]
     },
     "metadata": {},
     "output_type": "display_data"
    },
    {
     "data": {
      "text/html": [
       " View run <strong style=\"color:#cdcd00\">gallant-sweep-39</strong> at: <a href='https://wandb.ai/zekai-wang/cs285_proj_get_action_true_dynamics_updated/runs/hdoz29zf' target=\"_blank\">https://wandb.ai/zekai-wang/cs285_proj_get_action_true_dynamics_updated/runs/hdoz29zf</a><br/>Synced 6 W&B file(s), 0 media file(s), 0 artifact file(s) and 0 other file(s)"
      ],
      "text/plain": [
       "<IPython.core.display.HTML object>"
      ]
     },
     "metadata": {},
     "output_type": "display_data"
    },
    {
     "data": {
      "text/html": [
       "Find logs at: <code>./wandb/run-20231210_000322-hdoz29zf/logs</code>"
      ],
      "text/plain": [
       "<IPython.core.display.HTML object>"
      ]
     },
     "metadata": {},
     "output_type": "display_data"
    },
    {
     "name": "stderr",
     "output_type": "stream",
     "text": [
      "\u001b[34m\u001b[1mwandb\u001b[0m: Agent Starting Run: wnl742o0 with config:\n",
      "\u001b[34m\u001b[1mwandb\u001b[0m: \tcem_alpha: 0.5\n",
      "\u001b[34m\u001b[1mwandb\u001b[0m: \tcem_num_elites: 16\n",
      "\u001b[34m\u001b[1mwandb\u001b[0m: \tcem_num_iters: 2\n",
      "\u001b[34m\u001b[1mwandb\u001b[0m: \tmpc_discount: 0.95\n",
      "\u001b[34m\u001b[1mwandb\u001b[0m: \tmpc_horizon_steps: 50\n",
      "\u001b[34m\u001b[1mwandb\u001b[0m: \tmpc_num_action_sequences: 100\n",
      "\u001b[34m\u001b[1mwandb\u001b[0m: \tmpc_strategy: random\n",
      "/home/zekai/miniconda3/envs/cs285_proj/lib/python3.9/site-packages/ipywidgets/widgets/widget.py:528: DeprecationWarning: The `ipykernel.comm.Comm` class has been deprecated. Please use the `comm` module instead.For creating comms, use the function `from comm import create_comm`.\n",
      "  self.comm = Comm(**args)\n",
      "/home/zekai/miniconda3/envs/cs285_proj/lib/python3.9/site-packages/wandb/sdk/lib/ipython.py:77: DeprecationWarning: Importing display from IPython.core.display is deprecated since IPython 7.14, please import from IPython display\n",
      "  from IPython.core.display import HTML, display  # type: ignore\n"
     ]
    },
    {
     "data": {
      "text/html": [
       "Tracking run with wandb version 0.16.1"
      ],
      "text/plain": [
       "<IPython.core.display.HTML object>"
      ]
     },
     "metadata": {},
     "output_type": "display_data"
    },
    {
     "data": {
      "text/html": [
       "Run data is saved locally in <code>/home/zekai/repos/cs285_proj/notebooks/wandb/run-20231210_000347-wnl742o0</code>"
      ],
      "text/plain": [
       "<IPython.core.display.HTML object>"
      ]
     },
     "metadata": {},
     "output_type": "display_data"
    },
    {
     "data": {
      "text/html": [
       "Syncing run <strong><a href='https://wandb.ai/zekai-wang/cs285_proj_get_action_true_dynamics_updated/runs/wnl742o0' target=\"_blank\">pleasant-sweep-40</a></strong> to <a href='https://wandb.ai/zekai-wang/cs285_proj_get_action_true_dynamics_updated' target=\"_blank\">Weights & Biases</a> (<a href='https://wandb.me/run' target=\"_blank\">docs</a>)<br/>Sweep page: <a href='https://wandb.ai/zekai-wang/cs285_proj_get_action_true_dynamics_updated/sweeps/ok4muk7m' target=\"_blank\">https://wandb.ai/zekai-wang/cs285_proj_get_action_true_dynamics_updated/sweeps/ok4muk7m</a>"
      ],
      "text/plain": [
       "<IPython.core.display.HTML object>"
      ]
     },
     "metadata": {},
     "output_type": "display_data"
    },
    {
     "data": {
      "text/html": [
       " View project at <a href='https://wandb.ai/zekai-wang/cs285_proj_get_action_true_dynamics_updated' target=\"_blank\">https://wandb.ai/zekai-wang/cs285_proj_get_action_true_dynamics_updated</a>"
      ],
      "text/plain": [
       "<IPython.core.display.HTML object>"
      ]
     },
     "metadata": {},
     "output_type": "display_data"
    },
    {
     "data": {
      "text/html": [
       " View sweep at <a href='https://wandb.ai/zekai-wang/cs285_proj_get_action_true_dynamics_updated/sweeps/ok4muk7m' target=\"_blank\">https://wandb.ai/zekai-wang/cs285_proj_get_action_true_dynamics_updated/sweeps/ok4muk7m</a>"
      ],
      "text/plain": [
       "<IPython.core.display.HTML object>"
      ]
     },
     "metadata": {},
     "output_type": "display_data"
    },
    {
     "data": {
      "text/html": [
       " View run at <a href='https://wandb.ai/zekai-wang/cs285_proj_get_action_true_dynamics_updated/runs/wnl742o0' target=\"_blank\">https://wandb.ai/zekai-wang/cs285_proj_get_action_true_dynamics_updated/runs/wnl742o0</a>"
      ],
      "text/plain": [
       "<IPython.core.display.HTML object>"
      ]
     },
     "metadata": {},
     "output_type": "display_data"
    },
    {
     "name": "stderr",
     "output_type": "stream",
     "text": [
      "100%|██████████| 10/10 [00:15<00:00,  1.57s/it]\n"
     ]
    },
    {
     "name": "stdout",
     "output_type": "stream",
     "text": [
      "mean -1281.9583\n",
      "std 303.2645\n",
      "min -1644.6613\n",
      "max -865.74335\n"
     ]
    },
    {
     "data": {
      "application/vnd.jupyter.widget-view+json": {
       "model_id": "3671878afb8b413cb5d29b4003da6e7f",
       "version_major": 2,
       "version_minor": 0
      },
      "text/plain": [
       "VBox(children=(Label(value='0.004 MB of 0.004 MB uploaded\\r'), FloatProgress(value=1.0, max=1.0)))"
      ]
     },
     "metadata": {},
     "output_type": "display_data"
    },
    {
     "data": {
      "text/html": [
       "<style>\n",
       "    table.wandb td:nth-child(1) { padding: 0 10px; text-align: left ; width: auto;} td:nth-child(2) {text-align: left ; width: 100%}\n",
       "    .wandb-row { display: flex; flex-direction: row; flex-wrap: wrap; justify-content: flex-start; width: 100% }\n",
       "    .wandb-col { display: flex; flex-direction: column; flex-basis: 100%; flex: 1; padding: 10px; }\n",
       "    </style>\n",
       "<div class=\"wandb-row\"><div class=\"wandb-col\"><h3>Run history:</h3><br/><table class=\"wandb\"><tr><td>max</td><td>▁</td></tr><tr><td>mean</td><td>▁</td></tr><tr><td>min</td><td>▁</td></tr><tr><td>std</td><td>▁</td></tr></table><br/></div><div class=\"wandb-col\"><h3>Run summary:</h3><br/><table class=\"wandb\"><tr><td>max</td><td>-865.74335</td></tr><tr><td>mean</td><td>-1281.95825</td></tr><tr><td>min</td><td>-1644.66125</td></tr><tr><td>std</td><td>303.2645</td></tr></table><br/></div></div>"
      ],
      "text/plain": [
       "<IPython.core.display.HTML object>"
      ]
     },
     "metadata": {},
     "output_type": "display_data"
    },
    {
     "data": {
      "text/html": [
       " View run <strong style=\"color:#cdcd00\">pleasant-sweep-40</strong> at: <a href='https://wandb.ai/zekai-wang/cs285_proj_get_action_true_dynamics_updated/runs/wnl742o0' target=\"_blank\">https://wandb.ai/zekai-wang/cs285_proj_get_action_true_dynamics_updated/runs/wnl742o0</a><br/>Synced 6 W&B file(s), 0 media file(s), 0 artifact file(s) and 0 other file(s)"
      ],
      "text/plain": [
       "<IPython.core.display.HTML object>"
      ]
     },
     "metadata": {},
     "output_type": "display_data"
    },
    {
     "data": {
      "text/html": [
       "Find logs at: <code>./wandb/run-20231210_000347-wnl742o0/logs</code>"
      ],
      "text/plain": [
       "<IPython.core.display.HTML object>"
      ]
     },
     "metadata": {},
     "output_type": "display_data"
    },
    {
     "name": "stderr",
     "output_type": "stream",
     "text": [
      "\u001b[34m\u001b[1mwandb\u001b[0m: Agent Starting Run: dlvml0rj with config:\n",
      "\u001b[34m\u001b[1mwandb\u001b[0m: \tcem_alpha: 0.95\n",
      "\u001b[34m\u001b[1mwandb\u001b[0m: \tcem_num_elites: 8\n",
      "\u001b[34m\u001b[1mwandb\u001b[0m: \tcem_num_iters: 2\n",
      "\u001b[34m\u001b[1mwandb\u001b[0m: \tmpc_discount: 0.5\n",
      "\u001b[34m\u001b[1mwandb\u001b[0m: \tmpc_horizon_steps: 10\n",
      "\u001b[34m\u001b[1mwandb\u001b[0m: \tmpc_num_action_sequences: 200\n",
      "\u001b[34m\u001b[1mwandb\u001b[0m: \tmpc_strategy: cem\n",
      "/home/zekai/miniconda3/envs/cs285_proj/lib/python3.9/site-packages/ipywidgets/widgets/widget.py:528: DeprecationWarning: The `ipykernel.comm.Comm` class has been deprecated. Please use the `comm` module instead.For creating comms, use the function `from comm import create_comm`.\n",
      "  self.comm = Comm(**args)\n",
      "/home/zekai/miniconda3/envs/cs285_proj/lib/python3.9/site-packages/wandb/sdk/lib/ipython.py:77: DeprecationWarning: Importing display from IPython.core.display is deprecated since IPython 7.14, please import from IPython display\n",
      "  from IPython.core.display import HTML, display  # type: ignore\n"
     ]
    },
    {
     "data": {
      "text/html": [
       "Tracking run with wandb version 0.16.1"
      ],
      "text/plain": [
       "<IPython.core.display.HTML object>"
      ]
     },
     "metadata": {},
     "output_type": "display_data"
    },
    {
     "data": {
      "text/html": [
       "Run data is saved locally in <code>/home/zekai/repos/cs285_proj/notebooks/wandb/run-20231210_000418-dlvml0rj</code>"
      ],
      "text/plain": [
       "<IPython.core.display.HTML object>"
      ]
     },
     "metadata": {},
     "output_type": "display_data"
    },
    {
     "data": {
      "text/html": [
       "Syncing run <strong><a href='https://wandb.ai/zekai-wang/cs285_proj_get_action_true_dynamics_updated/runs/dlvml0rj' target=\"_blank\">wild-sweep-41</a></strong> to <a href='https://wandb.ai/zekai-wang/cs285_proj_get_action_true_dynamics_updated' target=\"_blank\">Weights & Biases</a> (<a href='https://wandb.me/run' target=\"_blank\">docs</a>)<br/>Sweep page: <a href='https://wandb.ai/zekai-wang/cs285_proj_get_action_true_dynamics_updated/sweeps/ok4muk7m' target=\"_blank\">https://wandb.ai/zekai-wang/cs285_proj_get_action_true_dynamics_updated/sweeps/ok4muk7m</a>"
      ],
      "text/plain": [
       "<IPython.core.display.HTML object>"
      ]
     },
     "metadata": {},
     "output_type": "display_data"
    },
    {
     "data": {
      "text/html": [
       " View project at <a href='https://wandb.ai/zekai-wang/cs285_proj_get_action_true_dynamics_updated' target=\"_blank\">https://wandb.ai/zekai-wang/cs285_proj_get_action_true_dynamics_updated</a>"
      ],
      "text/plain": [
       "<IPython.core.display.HTML object>"
      ]
     },
     "metadata": {},
     "output_type": "display_data"
    },
    {
     "data": {
      "text/html": [
       " View sweep at <a href='https://wandb.ai/zekai-wang/cs285_proj_get_action_true_dynamics_updated/sweeps/ok4muk7m' target=\"_blank\">https://wandb.ai/zekai-wang/cs285_proj_get_action_true_dynamics_updated/sweeps/ok4muk7m</a>"
      ],
      "text/plain": [
       "<IPython.core.display.HTML object>"
      ]
     },
     "metadata": {},
     "output_type": "display_data"
    },
    {
     "data": {
      "text/html": [
       " View run at <a href='https://wandb.ai/zekai-wang/cs285_proj_get_action_true_dynamics_updated/runs/dlvml0rj' target=\"_blank\">https://wandb.ai/zekai-wang/cs285_proj_get_action_true_dynamics_updated/runs/dlvml0rj</a>"
      ],
      "text/plain": [
       "<IPython.core.display.HTML object>"
      ]
     },
     "metadata": {},
     "output_type": "display_data"
    },
    {
     "name": "stderr",
     "output_type": "stream",
     "text": [
      "100%|██████████| 10/10 [00:14<00:00,  1.46s/it]\n"
     ]
    },
    {
     "name": "stdout",
     "output_type": "stream",
     "text": [
      "mean -1156.5125\n",
      "std 347.0768\n",
      "min -1851.3135\n",
      "max -748.53064\n"
     ]
    },
    {
     "data": {
      "application/vnd.jupyter.widget-view+json": {
       "model_id": "d7fb7638789a412ab00691d908e5f091",
       "version_major": 2,
       "version_minor": 0
      },
      "text/plain": [
       "VBox(children=(Label(value='0.004 MB of 0.004 MB uploaded\\r'), FloatProgress(value=1.0, max=1.0)))"
      ]
     },
     "metadata": {},
     "output_type": "display_data"
    },
    {
     "data": {
      "text/html": [
       "<style>\n",
       "    table.wandb td:nth-child(1) { padding: 0 10px; text-align: left ; width: auto;} td:nth-child(2) {text-align: left ; width: 100%}\n",
       "    .wandb-row { display: flex; flex-direction: row; flex-wrap: wrap; justify-content: flex-start; width: 100% }\n",
       "    .wandb-col { display: flex; flex-direction: column; flex-basis: 100%; flex: 1; padding: 10px; }\n",
       "    </style>\n",
       "<div class=\"wandb-row\"><div class=\"wandb-col\"><h3>Run history:</h3><br/><table class=\"wandb\"><tr><td>max</td><td>▁</td></tr><tr><td>mean</td><td>▁</td></tr><tr><td>min</td><td>▁</td></tr><tr><td>std</td><td>▁</td></tr></table><br/></div><div class=\"wandb-col\"><h3>Run summary:</h3><br/><table class=\"wandb\"><tr><td>max</td><td>-748.53064</td></tr><tr><td>mean</td><td>-1156.51245</td></tr><tr><td>min</td><td>-1851.31348</td></tr><tr><td>std</td><td>347.07681</td></tr></table><br/></div></div>"
      ],
      "text/plain": [
       "<IPython.core.display.HTML object>"
      ]
     },
     "metadata": {},
     "output_type": "display_data"
    },
    {
     "data": {
      "text/html": [
       " View run <strong style=\"color:#cdcd00\">wild-sweep-41</strong> at: <a href='https://wandb.ai/zekai-wang/cs285_proj_get_action_true_dynamics_updated/runs/dlvml0rj' target=\"_blank\">https://wandb.ai/zekai-wang/cs285_proj_get_action_true_dynamics_updated/runs/dlvml0rj</a><br/>Synced 6 W&B file(s), 0 media file(s), 0 artifact file(s) and 0 other file(s)"
      ],
      "text/plain": [
       "<IPython.core.display.HTML object>"
      ]
     },
     "metadata": {},
     "output_type": "display_data"
    },
    {
     "data": {
      "text/html": [
       "Find logs at: <code>./wandb/run-20231210_000418-dlvml0rj/logs</code>"
      ],
      "text/plain": [
       "<IPython.core.display.HTML object>"
      ]
     },
     "metadata": {},
     "output_type": "display_data"
    },
    {
     "name": "stderr",
     "output_type": "stream",
     "text": [
      "\u001b[34m\u001b[1mwandb\u001b[0m: Agent Starting Run: ugo6jkfv with config:\n",
      "\u001b[34m\u001b[1mwandb\u001b[0m: \tcem_alpha: 0.9\n",
      "\u001b[34m\u001b[1mwandb\u001b[0m: \tcem_num_elites: 32\n",
      "\u001b[34m\u001b[1mwandb\u001b[0m: \tcem_num_iters: 8\n",
      "\u001b[34m\u001b[1mwandb\u001b[0m: \tmpc_discount: 1\n",
      "\u001b[34m\u001b[1mwandb\u001b[0m: \tmpc_horizon_steps: 100\n",
      "\u001b[34m\u001b[1mwandb\u001b[0m: \tmpc_num_action_sequences: 200\n",
      "\u001b[34m\u001b[1mwandb\u001b[0m: \tmpc_strategy: cem\n",
      "/home/zekai/miniconda3/envs/cs285_proj/lib/python3.9/site-packages/ipywidgets/widgets/widget.py:528: DeprecationWarning: The `ipykernel.comm.Comm` class has been deprecated. Please use the `comm` module instead.For creating comms, use the function `from comm import create_comm`.\n",
      "  self.comm = Comm(**args)\n",
      "/home/zekai/miniconda3/envs/cs285_proj/lib/python3.9/site-packages/wandb/sdk/lib/ipython.py:77: DeprecationWarning: Importing display from IPython.core.display is deprecated since IPython 7.14, please import from IPython display\n",
      "  from IPython.core.display import HTML, display  # type: ignore\n"
     ]
    },
    {
     "data": {
      "text/html": [
       "Tracking run with wandb version 0.16.1"
      ],
      "text/plain": [
       "<IPython.core.display.HTML object>"
      ]
     },
     "metadata": {},
     "output_type": "display_data"
    },
    {
     "data": {
      "text/html": [
       "Run data is saved locally in <code>/home/zekai/repos/cs285_proj/notebooks/wandb/run-20231210_000444-ugo6jkfv</code>"
      ],
      "text/plain": [
       "<IPython.core.display.HTML object>"
      ]
     },
     "metadata": {},
     "output_type": "display_data"
    },
    {
     "data": {
      "text/html": [
       "Syncing run <strong><a href='https://wandb.ai/zekai-wang/cs285_proj_get_action_true_dynamics_updated/runs/ugo6jkfv' target=\"_blank\">fiery-sweep-42</a></strong> to <a href='https://wandb.ai/zekai-wang/cs285_proj_get_action_true_dynamics_updated' target=\"_blank\">Weights & Biases</a> (<a href='https://wandb.me/run' target=\"_blank\">docs</a>)<br/>Sweep page: <a href='https://wandb.ai/zekai-wang/cs285_proj_get_action_true_dynamics_updated/sweeps/ok4muk7m' target=\"_blank\">https://wandb.ai/zekai-wang/cs285_proj_get_action_true_dynamics_updated/sweeps/ok4muk7m</a>"
      ],
      "text/plain": [
       "<IPython.core.display.HTML object>"
      ]
     },
     "metadata": {},
     "output_type": "display_data"
    },
    {
     "data": {
      "text/html": [
       " View project at <a href='https://wandb.ai/zekai-wang/cs285_proj_get_action_true_dynamics_updated' target=\"_blank\">https://wandb.ai/zekai-wang/cs285_proj_get_action_true_dynamics_updated</a>"
      ],
      "text/plain": [
       "<IPython.core.display.HTML object>"
      ]
     },
     "metadata": {},
     "output_type": "display_data"
    },
    {
     "data": {
      "text/html": [
       " View sweep at <a href='https://wandb.ai/zekai-wang/cs285_proj_get_action_true_dynamics_updated/sweeps/ok4muk7m' target=\"_blank\">https://wandb.ai/zekai-wang/cs285_proj_get_action_true_dynamics_updated/sweeps/ok4muk7m</a>"
      ],
      "text/plain": [
       "<IPython.core.display.HTML object>"
      ]
     },
     "metadata": {},
     "output_type": "display_data"
    },
    {
     "data": {
      "text/html": [
       " View run at <a href='https://wandb.ai/zekai-wang/cs285_proj_get_action_true_dynamics_updated/runs/ugo6jkfv' target=\"_blank\">https://wandb.ai/zekai-wang/cs285_proj_get_action_true_dynamics_updated/runs/ugo6jkfv</a>"
      ],
      "text/plain": [
       "<IPython.core.display.HTML object>"
      ]
     },
     "metadata": {},
     "output_type": "display_data"
    },
    {
     "name": "stderr",
     "output_type": "stream",
     "text": [
      "100%|██████████| 10/10 [00:15<00:00,  1.52s/it]\n"
     ]
    },
    {
     "name": "stdout",
     "output_type": "stream",
     "text": [
      "mean -1301.6637\n",
      "std 360.948\n",
      "min -1860.9885\n",
      "max -866.9353\n"
     ]
    },
    {
     "data": {
      "application/vnd.jupyter.widget-view+json": {
       "model_id": "eb0e926bbed94ccd80ad856fa74f6e64",
       "version_major": 2,
       "version_minor": 0
      },
      "text/plain": [
       "VBox(children=(Label(value='0.004 MB of 0.004 MB uploaded\\r'), FloatProgress(value=1.0, max=1.0)))"
      ]
     },
     "metadata": {},
     "output_type": "display_data"
    },
    {
     "data": {
      "text/html": [
       "<style>\n",
       "    table.wandb td:nth-child(1) { padding: 0 10px; text-align: left ; width: auto;} td:nth-child(2) {text-align: left ; width: 100%}\n",
       "    .wandb-row { display: flex; flex-direction: row; flex-wrap: wrap; justify-content: flex-start; width: 100% }\n",
       "    .wandb-col { display: flex; flex-direction: column; flex-basis: 100%; flex: 1; padding: 10px; }\n",
       "    </style>\n",
       "<div class=\"wandb-row\"><div class=\"wandb-col\"><h3>Run history:</h3><br/><table class=\"wandb\"><tr><td>max</td><td>▁</td></tr><tr><td>mean</td><td>▁</td></tr><tr><td>min</td><td>▁</td></tr><tr><td>std</td><td>▁</td></tr></table><br/></div><div class=\"wandb-col\"><h3>Run summary:</h3><br/><table class=\"wandb\"><tr><td>max</td><td>-866.9353</td></tr><tr><td>mean</td><td>-1301.6637</td></tr><tr><td>min</td><td>-1860.98853</td></tr><tr><td>std</td><td>360.948</td></tr></table><br/></div></div>"
      ],
      "text/plain": [
       "<IPython.core.display.HTML object>"
      ]
     },
     "metadata": {},
     "output_type": "display_data"
    },
    {
     "data": {
      "text/html": [
       " View run <strong style=\"color:#cdcd00\">fiery-sweep-42</strong> at: <a href='https://wandb.ai/zekai-wang/cs285_proj_get_action_true_dynamics_updated/runs/ugo6jkfv' target=\"_blank\">https://wandb.ai/zekai-wang/cs285_proj_get_action_true_dynamics_updated/runs/ugo6jkfv</a><br/>Synced 6 W&B file(s), 0 media file(s), 0 artifact file(s) and 0 other file(s)"
      ],
      "text/plain": [
       "<IPython.core.display.HTML object>"
      ]
     },
     "metadata": {},
     "output_type": "display_data"
    },
    {
     "data": {
      "text/html": [
       "Find logs at: <code>./wandb/run-20231210_000444-ugo6jkfv/logs</code>"
      ],
      "text/plain": [
       "<IPython.core.display.HTML object>"
      ]
     },
     "metadata": {},
     "output_type": "display_data"
    },
    {
     "name": "stderr",
     "output_type": "stream",
     "text": [
      "\u001b[34m\u001b[1mwandb\u001b[0m: Agent Starting Run: t5xffnkl with config:\n",
      "\u001b[34m\u001b[1mwandb\u001b[0m: \tcem_alpha: 1\n",
      "\u001b[34m\u001b[1mwandb\u001b[0m: \tcem_num_elites: 4\n",
      "\u001b[34m\u001b[1mwandb\u001b[0m: \tcem_num_iters: 16\n",
      "\u001b[34m\u001b[1mwandb\u001b[0m: \tmpc_discount: 1\n",
      "\u001b[34m\u001b[1mwandb\u001b[0m: \tmpc_horizon_steps: 2\n",
      "\u001b[34m\u001b[1mwandb\u001b[0m: \tmpc_num_action_sequences: 200\n",
      "\u001b[34m\u001b[1mwandb\u001b[0m: \tmpc_strategy: cem\n",
      "/home/zekai/miniconda3/envs/cs285_proj/lib/python3.9/site-packages/ipywidgets/widgets/widget.py:528: DeprecationWarning: The `ipykernel.comm.Comm` class has been deprecated. Please use the `comm` module instead.For creating comms, use the function `from comm import create_comm`.\n",
      "  self.comm = Comm(**args)\n",
      "/home/zekai/miniconda3/envs/cs285_proj/lib/python3.9/site-packages/wandb/sdk/lib/ipython.py:77: DeprecationWarning: Importing display from IPython.core.display is deprecated since IPython 7.14, please import from IPython display\n",
      "  from IPython.core.display import HTML, display  # type: ignore\n"
     ]
    },
    {
     "data": {
      "text/html": [
       "Tracking run with wandb version 0.16.1"
      ],
      "text/plain": [
       "<IPython.core.display.HTML object>"
      ]
     },
     "metadata": {},
     "output_type": "display_data"
    },
    {
     "data": {
      "text/html": [
       "Run data is saved locally in <code>/home/zekai/repos/cs285_proj/notebooks/wandb/run-20231210_000510-t5xffnkl</code>"
      ],
      "text/plain": [
       "<IPython.core.display.HTML object>"
      ]
     },
     "metadata": {},
     "output_type": "display_data"
    },
    {
     "data": {
      "text/html": [
       "Syncing run <strong><a href='https://wandb.ai/zekai-wang/cs285_proj_get_action_true_dynamics_updated/runs/t5xffnkl' target=\"_blank\">lemon-sweep-43</a></strong> to <a href='https://wandb.ai/zekai-wang/cs285_proj_get_action_true_dynamics_updated' target=\"_blank\">Weights & Biases</a> (<a href='https://wandb.me/run' target=\"_blank\">docs</a>)<br/>Sweep page: <a href='https://wandb.ai/zekai-wang/cs285_proj_get_action_true_dynamics_updated/sweeps/ok4muk7m' target=\"_blank\">https://wandb.ai/zekai-wang/cs285_proj_get_action_true_dynamics_updated/sweeps/ok4muk7m</a>"
      ],
      "text/plain": [
       "<IPython.core.display.HTML object>"
      ]
     },
     "metadata": {},
     "output_type": "display_data"
    },
    {
     "data": {
      "text/html": [
       " View project at <a href='https://wandb.ai/zekai-wang/cs285_proj_get_action_true_dynamics_updated' target=\"_blank\">https://wandb.ai/zekai-wang/cs285_proj_get_action_true_dynamics_updated</a>"
      ],
      "text/plain": [
       "<IPython.core.display.HTML object>"
      ]
     },
     "metadata": {},
     "output_type": "display_data"
    },
    {
     "data": {
      "text/html": [
       " View sweep at <a href='https://wandb.ai/zekai-wang/cs285_proj_get_action_true_dynamics_updated/sweeps/ok4muk7m' target=\"_blank\">https://wandb.ai/zekai-wang/cs285_proj_get_action_true_dynamics_updated/sweeps/ok4muk7m</a>"
      ],
      "text/plain": [
       "<IPython.core.display.HTML object>"
      ]
     },
     "metadata": {},
     "output_type": "display_data"
    },
    {
     "data": {
      "text/html": [
       " View run at <a href='https://wandb.ai/zekai-wang/cs285_proj_get_action_true_dynamics_updated/runs/t5xffnkl' target=\"_blank\">https://wandb.ai/zekai-wang/cs285_proj_get_action_true_dynamics_updated/runs/t5xffnkl</a>"
      ],
      "text/plain": [
       "<IPython.core.display.HTML object>"
      ]
     },
     "metadata": {},
     "output_type": "display_data"
    },
    {
     "name": "stderr",
     "output_type": "stream",
     "text": [
      "100%|██████████| 10/10 [00:15<00:00,  1.57s/it]\n"
     ]
    },
    {
     "name": "stdout",
     "output_type": "stream",
     "text": [
      "mean -1236.5881\n",
      "std 280.08017\n",
      "min -1796.8994\n",
      "max -871.4387\n"
     ]
    },
    {
     "data": {
      "application/vnd.jupyter.widget-view+json": {
       "model_id": "3a16e19119c54eb9b0c681f4f03fb716",
       "version_major": 2,
       "version_minor": 0
      },
      "text/plain": [
       "VBox(children=(Label(value='0.004 MB of 0.004 MB uploaded\\r'), FloatProgress(value=1.0, max=1.0)))"
      ]
     },
     "metadata": {},
     "output_type": "display_data"
    },
    {
     "data": {
      "text/html": [
       "<style>\n",
       "    table.wandb td:nth-child(1) { padding: 0 10px; text-align: left ; width: auto;} td:nth-child(2) {text-align: left ; width: 100%}\n",
       "    .wandb-row { display: flex; flex-direction: row; flex-wrap: wrap; justify-content: flex-start; width: 100% }\n",
       "    .wandb-col { display: flex; flex-direction: column; flex-basis: 100%; flex: 1; padding: 10px; }\n",
       "    </style>\n",
       "<div class=\"wandb-row\"><div class=\"wandb-col\"><h3>Run history:</h3><br/><table class=\"wandb\"><tr><td>max</td><td>▁</td></tr><tr><td>mean</td><td>▁</td></tr><tr><td>min</td><td>▁</td></tr><tr><td>std</td><td>▁</td></tr></table><br/></div><div class=\"wandb-col\"><h3>Run summary:</h3><br/><table class=\"wandb\"><tr><td>max</td><td>-871.43872</td></tr><tr><td>mean</td><td>-1236.58813</td></tr><tr><td>min</td><td>-1796.89941</td></tr><tr><td>std</td><td>280.08017</td></tr></table><br/></div></div>"
      ],
      "text/plain": [
       "<IPython.core.display.HTML object>"
      ]
     },
     "metadata": {},
     "output_type": "display_data"
    },
    {
     "data": {
      "text/html": [
       " View run <strong style=\"color:#cdcd00\">lemon-sweep-43</strong> at: <a href='https://wandb.ai/zekai-wang/cs285_proj_get_action_true_dynamics_updated/runs/t5xffnkl' target=\"_blank\">https://wandb.ai/zekai-wang/cs285_proj_get_action_true_dynamics_updated/runs/t5xffnkl</a><br/>Synced 6 W&B file(s), 0 media file(s), 0 artifact file(s) and 0 other file(s)"
      ],
      "text/plain": [
       "<IPython.core.display.HTML object>"
      ]
     },
     "metadata": {},
     "output_type": "display_data"
    },
    {
     "data": {
      "text/html": [
       "Find logs at: <code>./wandb/run-20231210_000510-t5xffnkl/logs</code>"
      ],
      "text/plain": [
       "<IPython.core.display.HTML object>"
      ]
     },
     "metadata": {},
     "output_type": "display_data"
    },
    {
     "name": "stderr",
     "output_type": "stream",
     "text": [
      "\u001b[34m\u001b[1mwandb\u001b[0m: Agent Starting Run: ecokqy5i with config:\n",
      "\u001b[34m\u001b[1mwandb\u001b[0m: \tcem_alpha: 0.5\n",
      "\u001b[34m\u001b[1mwandb\u001b[0m: \tcem_num_elites: 32\n",
      "\u001b[34m\u001b[1mwandb\u001b[0m: \tcem_num_iters: 2\n",
      "\u001b[34m\u001b[1mwandb\u001b[0m: \tmpc_discount: 0.5\n",
      "\u001b[34m\u001b[1mwandb\u001b[0m: \tmpc_horizon_steps: 50\n",
      "\u001b[34m\u001b[1mwandb\u001b[0m: \tmpc_num_action_sequences: 100\n",
      "\u001b[34m\u001b[1mwandb\u001b[0m: \tmpc_strategy: cem\n",
      "/home/zekai/miniconda3/envs/cs285_proj/lib/python3.9/site-packages/ipywidgets/widgets/widget.py:528: DeprecationWarning: The `ipykernel.comm.Comm` class has been deprecated. Please use the `comm` module instead.For creating comms, use the function `from comm import create_comm`.\n",
      "  self.comm = Comm(**args)\n",
      "/home/zekai/miniconda3/envs/cs285_proj/lib/python3.9/site-packages/wandb/sdk/lib/ipython.py:77: DeprecationWarning: Importing display from IPython.core.display is deprecated since IPython 7.14, please import from IPython display\n",
      "  from IPython.core.display import HTML, display  # type: ignore\n"
     ]
    },
    {
     "data": {
      "text/html": [
       "Tracking run with wandb version 0.16.1"
      ],
      "text/plain": [
       "<IPython.core.display.HTML object>"
      ]
     },
     "metadata": {},
     "output_type": "display_data"
    },
    {
     "data": {
      "text/html": [
       "Run data is saved locally in <code>/home/zekai/repos/cs285_proj/notebooks/wandb/run-20231210_000541-ecokqy5i</code>"
      ],
      "text/plain": [
       "<IPython.core.display.HTML object>"
      ]
     },
     "metadata": {},
     "output_type": "display_data"
    },
    {
     "data": {
      "text/html": [
       "Syncing run <strong><a href='https://wandb.ai/zekai-wang/cs285_proj_get_action_true_dynamics_updated/runs/ecokqy5i' target=\"_blank\">dazzling-sweep-44</a></strong> to <a href='https://wandb.ai/zekai-wang/cs285_proj_get_action_true_dynamics_updated' target=\"_blank\">Weights & Biases</a> (<a href='https://wandb.me/run' target=\"_blank\">docs</a>)<br/>Sweep page: <a href='https://wandb.ai/zekai-wang/cs285_proj_get_action_true_dynamics_updated/sweeps/ok4muk7m' target=\"_blank\">https://wandb.ai/zekai-wang/cs285_proj_get_action_true_dynamics_updated/sweeps/ok4muk7m</a>"
      ],
      "text/plain": [
       "<IPython.core.display.HTML object>"
      ]
     },
     "metadata": {},
     "output_type": "display_data"
    },
    {
     "data": {
      "text/html": [
       " View project at <a href='https://wandb.ai/zekai-wang/cs285_proj_get_action_true_dynamics_updated' target=\"_blank\">https://wandb.ai/zekai-wang/cs285_proj_get_action_true_dynamics_updated</a>"
      ],
      "text/plain": [
       "<IPython.core.display.HTML object>"
      ]
     },
     "metadata": {},
     "output_type": "display_data"
    },
    {
     "data": {
      "text/html": [
       " View sweep at <a href='https://wandb.ai/zekai-wang/cs285_proj_get_action_true_dynamics_updated/sweeps/ok4muk7m' target=\"_blank\">https://wandb.ai/zekai-wang/cs285_proj_get_action_true_dynamics_updated/sweeps/ok4muk7m</a>"
      ],
      "text/plain": [
       "<IPython.core.display.HTML object>"
      ]
     },
     "metadata": {},
     "output_type": "display_data"
    },
    {
     "data": {
      "text/html": [
       " View run at <a href='https://wandb.ai/zekai-wang/cs285_proj_get_action_true_dynamics_updated/runs/ecokqy5i' target=\"_blank\">https://wandb.ai/zekai-wang/cs285_proj_get_action_true_dynamics_updated/runs/ecokqy5i</a>"
      ],
      "text/plain": [
       "<IPython.core.display.HTML object>"
      ]
     },
     "metadata": {},
     "output_type": "display_data"
    },
    {
     "name": "stderr",
     "output_type": "stream",
     "text": [
      "100%|██████████| 10/10 [00:14<00:00,  1.48s/it]\n"
     ]
    },
    {
     "name": "stdout",
     "output_type": "stream",
     "text": [
      "mean -1324.4727\n",
      "std 329.90866\n",
      "min -1779.7454\n",
      "max -853.55566\n"
     ]
    },
    {
     "data": {
      "application/vnd.jupyter.widget-view+json": {
       "model_id": "4f024319c8c04210806b15525d27afe1",
       "version_major": 2,
       "version_minor": 0
      },
      "text/plain": [
       "VBox(children=(Label(value='0.004 MB of 0.004 MB uploaded\\r'), FloatProgress(value=1.0, max=1.0)))"
      ]
     },
     "metadata": {},
     "output_type": "display_data"
    },
    {
     "data": {
      "text/html": [
       "<style>\n",
       "    table.wandb td:nth-child(1) { padding: 0 10px; text-align: left ; width: auto;} td:nth-child(2) {text-align: left ; width: 100%}\n",
       "    .wandb-row { display: flex; flex-direction: row; flex-wrap: wrap; justify-content: flex-start; width: 100% }\n",
       "    .wandb-col { display: flex; flex-direction: column; flex-basis: 100%; flex: 1; padding: 10px; }\n",
       "    </style>\n",
       "<div class=\"wandb-row\"><div class=\"wandb-col\"><h3>Run history:</h3><br/><table class=\"wandb\"><tr><td>max</td><td>▁</td></tr><tr><td>mean</td><td>▁</td></tr><tr><td>min</td><td>▁</td></tr><tr><td>std</td><td>▁</td></tr></table><br/></div><div class=\"wandb-col\"><h3>Run summary:</h3><br/><table class=\"wandb\"><tr><td>max</td><td>-853.55566</td></tr><tr><td>mean</td><td>-1324.47266</td></tr><tr><td>min</td><td>-1779.74536</td></tr><tr><td>std</td><td>329.90866</td></tr></table><br/></div></div>"
      ],
      "text/plain": [
       "<IPython.core.display.HTML object>"
      ]
     },
     "metadata": {},
     "output_type": "display_data"
    },
    {
     "data": {
      "text/html": [
       " View run <strong style=\"color:#cdcd00\">dazzling-sweep-44</strong> at: <a href='https://wandb.ai/zekai-wang/cs285_proj_get_action_true_dynamics_updated/runs/ecokqy5i' target=\"_blank\">https://wandb.ai/zekai-wang/cs285_proj_get_action_true_dynamics_updated/runs/ecokqy5i</a><br/>Synced 6 W&B file(s), 0 media file(s), 0 artifact file(s) and 0 other file(s)"
      ],
      "text/plain": [
       "<IPython.core.display.HTML object>"
      ]
     },
     "metadata": {},
     "output_type": "display_data"
    },
    {
     "data": {
      "text/html": [
       "Find logs at: <code>./wandb/run-20231210_000541-ecokqy5i/logs</code>"
      ],
      "text/plain": [
       "<IPython.core.display.HTML object>"
      ]
     },
     "metadata": {},
     "output_type": "display_data"
    },
    {
     "name": "stderr",
     "output_type": "stream",
     "text": [
      "\u001b[34m\u001b[1mwandb\u001b[0m: Agent Starting Run: bs36odzw with config:\n",
      "\u001b[34m\u001b[1mwandb\u001b[0m: \tcem_alpha: 0.8\n",
      "\u001b[34m\u001b[1mwandb\u001b[0m: \tcem_num_elites: 4\n",
      "\u001b[34m\u001b[1mwandb\u001b[0m: \tcem_num_iters: 4\n",
      "\u001b[34m\u001b[1mwandb\u001b[0m: \tmpc_discount: 0.99\n",
      "\u001b[34m\u001b[1mwandb\u001b[0m: \tmpc_horizon_steps: 2\n",
      "\u001b[34m\u001b[1mwandb\u001b[0m: \tmpc_num_action_sequences: 200\n",
      "\u001b[34m\u001b[1mwandb\u001b[0m: \tmpc_strategy: cem\n",
      "/home/zekai/miniconda3/envs/cs285_proj/lib/python3.9/site-packages/ipywidgets/widgets/widget.py:528: DeprecationWarning: The `ipykernel.comm.Comm` class has been deprecated. Please use the `comm` module instead.For creating comms, use the function `from comm import create_comm`.\n",
      "  self.comm = Comm(**args)\n",
      "/home/zekai/miniconda3/envs/cs285_proj/lib/python3.9/site-packages/wandb/sdk/lib/ipython.py:77: DeprecationWarning: Importing display from IPython.core.display is deprecated since IPython 7.14, please import from IPython display\n",
      "  from IPython.core.display import HTML, display  # type: ignore\n"
     ]
    },
    {
     "data": {
      "text/html": [
       "Tracking run with wandb version 0.16.1"
      ],
      "text/plain": [
       "<IPython.core.display.HTML object>"
      ]
     },
     "metadata": {},
     "output_type": "display_data"
    },
    {
     "data": {
      "text/html": [
       "Run data is saved locally in <code>/home/zekai/repos/cs285_proj/notebooks/wandb/run-20231210_000607-bs36odzw</code>"
      ],
      "text/plain": [
       "<IPython.core.display.HTML object>"
      ]
     },
     "metadata": {},
     "output_type": "display_data"
    },
    {
     "data": {
      "text/html": [
       "Syncing run <strong><a href='https://wandb.ai/zekai-wang/cs285_proj_get_action_true_dynamics_updated/runs/bs36odzw' target=\"_blank\">distinctive-sweep-45</a></strong> to <a href='https://wandb.ai/zekai-wang/cs285_proj_get_action_true_dynamics_updated' target=\"_blank\">Weights & Biases</a> (<a href='https://wandb.me/run' target=\"_blank\">docs</a>)<br/>Sweep page: <a href='https://wandb.ai/zekai-wang/cs285_proj_get_action_true_dynamics_updated/sweeps/ok4muk7m' target=\"_blank\">https://wandb.ai/zekai-wang/cs285_proj_get_action_true_dynamics_updated/sweeps/ok4muk7m</a>"
      ],
      "text/plain": [
       "<IPython.core.display.HTML object>"
      ]
     },
     "metadata": {},
     "output_type": "display_data"
    },
    {
     "data": {
      "text/html": [
       " View project at <a href='https://wandb.ai/zekai-wang/cs285_proj_get_action_true_dynamics_updated' target=\"_blank\">https://wandb.ai/zekai-wang/cs285_proj_get_action_true_dynamics_updated</a>"
      ],
      "text/plain": [
       "<IPython.core.display.HTML object>"
      ]
     },
     "metadata": {},
     "output_type": "display_data"
    },
    {
     "data": {
      "text/html": [
       " View sweep at <a href='https://wandb.ai/zekai-wang/cs285_proj_get_action_true_dynamics_updated/sweeps/ok4muk7m' target=\"_blank\">https://wandb.ai/zekai-wang/cs285_proj_get_action_true_dynamics_updated/sweeps/ok4muk7m</a>"
      ],
      "text/plain": [
       "<IPython.core.display.HTML object>"
      ]
     },
     "metadata": {},
     "output_type": "display_data"
    },
    {
     "data": {
      "text/html": [
       " View run at <a href='https://wandb.ai/zekai-wang/cs285_proj_get_action_true_dynamics_updated/runs/bs36odzw' target=\"_blank\">https://wandb.ai/zekai-wang/cs285_proj_get_action_true_dynamics_updated/runs/bs36odzw</a>"
      ],
      "text/plain": [
       "<IPython.core.display.HTML object>"
      ]
     },
     "metadata": {},
     "output_type": "display_data"
    },
    {
     "name": "stderr",
     "output_type": "stream",
     "text": [
      "100%|██████████| 10/10 [00:15<00:00,  1.55s/it]\n"
     ]
    },
    {
     "name": "stdout",
     "output_type": "stream",
     "text": [
      "mean -1311.3317\n",
      "std 290.68488\n",
      "min -1861.5535\n",
      "max -880.4885\n"
     ]
    },
    {
     "data": {
      "application/vnd.jupyter.widget-view+json": {
       "model_id": "d97da0688ff541258171d165adb48710",
       "version_major": 2,
       "version_minor": 0
      },
      "text/plain": [
       "VBox(children=(Label(value='0.004 MB of 0.004 MB uploaded\\r'), FloatProgress(value=1.0, max=1.0)))"
      ]
     },
     "metadata": {},
     "output_type": "display_data"
    },
    {
     "data": {
      "text/html": [
       "<style>\n",
       "    table.wandb td:nth-child(1) { padding: 0 10px; text-align: left ; width: auto;} td:nth-child(2) {text-align: left ; width: 100%}\n",
       "    .wandb-row { display: flex; flex-direction: row; flex-wrap: wrap; justify-content: flex-start; width: 100% }\n",
       "    .wandb-col { display: flex; flex-direction: column; flex-basis: 100%; flex: 1; padding: 10px; }\n",
       "    </style>\n",
       "<div class=\"wandb-row\"><div class=\"wandb-col\"><h3>Run history:</h3><br/><table class=\"wandb\"><tr><td>max</td><td>▁</td></tr><tr><td>mean</td><td>▁</td></tr><tr><td>min</td><td>▁</td></tr><tr><td>std</td><td>▁</td></tr></table><br/></div><div class=\"wandb-col\"><h3>Run summary:</h3><br/><table class=\"wandb\"><tr><td>max</td><td>-880.48853</td></tr><tr><td>mean</td><td>-1311.33167</td></tr><tr><td>min</td><td>-1861.55347</td></tr><tr><td>std</td><td>290.68488</td></tr></table><br/></div></div>"
      ],
      "text/plain": [
       "<IPython.core.display.HTML object>"
      ]
     },
     "metadata": {},
     "output_type": "display_data"
    },
    {
     "data": {
      "text/html": [
       " View run <strong style=\"color:#cdcd00\">distinctive-sweep-45</strong> at: <a href='https://wandb.ai/zekai-wang/cs285_proj_get_action_true_dynamics_updated/runs/bs36odzw' target=\"_blank\">https://wandb.ai/zekai-wang/cs285_proj_get_action_true_dynamics_updated/runs/bs36odzw</a><br/>Synced 6 W&B file(s), 0 media file(s), 0 artifact file(s) and 0 other file(s)"
      ],
      "text/plain": [
       "<IPython.core.display.HTML object>"
      ]
     },
     "metadata": {},
     "output_type": "display_data"
    },
    {
     "data": {
      "text/html": [
       "Find logs at: <code>./wandb/run-20231210_000607-bs36odzw/logs</code>"
      ],
      "text/plain": [
       "<IPython.core.display.HTML object>"
      ]
     },
     "metadata": {},
     "output_type": "display_data"
    },
    {
     "name": "stderr",
     "output_type": "stream",
     "text": [
      "\u001b[34m\u001b[1mwandb\u001b[0m: Agent Starting Run: d9kv1d7u with config:\n",
      "\u001b[34m\u001b[1mwandb\u001b[0m: \tcem_alpha: 0.95\n",
      "\u001b[34m\u001b[1mwandb\u001b[0m: \tcem_num_elites: 16\n",
      "\u001b[34m\u001b[1mwandb\u001b[0m: \tcem_num_iters: 16\n",
      "\u001b[34m\u001b[1mwandb\u001b[0m: \tmpc_discount: 1\n",
      "\u001b[34m\u001b[1mwandb\u001b[0m: \tmpc_horizon_steps: 10\n",
      "\u001b[34m\u001b[1mwandb\u001b[0m: \tmpc_num_action_sequences: 1000\n",
      "\u001b[34m\u001b[1mwandb\u001b[0m: \tmpc_strategy: cem\n",
      "/home/zekai/miniconda3/envs/cs285_proj/lib/python3.9/site-packages/ipywidgets/widgets/widget.py:528: DeprecationWarning: The `ipykernel.comm.Comm` class has been deprecated. Please use the `comm` module instead.For creating comms, use the function `from comm import create_comm`.\n",
      "  self.comm = Comm(**args)\n",
      "/home/zekai/miniconda3/envs/cs285_proj/lib/python3.9/site-packages/wandb/sdk/lib/ipython.py:77: DeprecationWarning: Importing display from IPython.core.display is deprecated since IPython 7.14, please import from IPython display\n",
      "  from IPython.core.display import HTML, display  # type: ignore\n"
     ]
    },
    {
     "data": {
      "text/html": [
       "Tracking run with wandb version 0.16.1"
      ],
      "text/plain": [
       "<IPython.core.display.HTML object>"
      ]
     },
     "metadata": {},
     "output_type": "display_data"
    },
    {
     "data": {
      "text/html": [
       "Run data is saved locally in <code>/home/zekai/repos/cs285_proj/notebooks/wandb/run-20231210_000633-d9kv1d7u</code>"
      ],
      "text/plain": [
       "<IPython.core.display.HTML object>"
      ]
     },
     "metadata": {},
     "output_type": "display_data"
    },
    {
     "data": {
      "text/html": [
       "Syncing run <strong><a href='https://wandb.ai/zekai-wang/cs285_proj_get_action_true_dynamics_updated/runs/d9kv1d7u' target=\"_blank\">sweepy-sweep-46</a></strong> to <a href='https://wandb.ai/zekai-wang/cs285_proj_get_action_true_dynamics_updated' target=\"_blank\">Weights & Biases</a> (<a href='https://wandb.me/run' target=\"_blank\">docs</a>)<br/>Sweep page: <a href='https://wandb.ai/zekai-wang/cs285_proj_get_action_true_dynamics_updated/sweeps/ok4muk7m' target=\"_blank\">https://wandb.ai/zekai-wang/cs285_proj_get_action_true_dynamics_updated/sweeps/ok4muk7m</a>"
      ],
      "text/plain": [
       "<IPython.core.display.HTML object>"
      ]
     },
     "metadata": {},
     "output_type": "display_data"
    },
    {
     "data": {
      "text/html": [
       " View project at <a href='https://wandb.ai/zekai-wang/cs285_proj_get_action_true_dynamics_updated' target=\"_blank\">https://wandb.ai/zekai-wang/cs285_proj_get_action_true_dynamics_updated</a>"
      ],
      "text/plain": [
       "<IPython.core.display.HTML object>"
      ]
     },
     "metadata": {},
     "output_type": "display_data"
    },
    {
     "data": {
      "text/html": [
       " View sweep at <a href='https://wandb.ai/zekai-wang/cs285_proj_get_action_true_dynamics_updated/sweeps/ok4muk7m' target=\"_blank\">https://wandb.ai/zekai-wang/cs285_proj_get_action_true_dynamics_updated/sweeps/ok4muk7m</a>"
      ],
      "text/plain": [
       "<IPython.core.display.HTML object>"
      ]
     },
     "metadata": {},
     "output_type": "display_data"
    },
    {
     "data": {
      "text/html": [
       " View run at <a href='https://wandb.ai/zekai-wang/cs285_proj_get_action_true_dynamics_updated/runs/d9kv1d7u' target=\"_blank\">https://wandb.ai/zekai-wang/cs285_proj_get_action_true_dynamics_updated/runs/d9kv1d7u</a>"
      ],
      "text/plain": [
       "<IPython.core.display.HTML object>"
      ]
     },
     "metadata": {},
     "output_type": "display_data"
    },
    {
     "name": "stderr",
     "output_type": "stream",
     "text": [
      "100%|██████████| 10/10 [00:16<00:00,  1.66s/it]\n"
     ]
    },
    {
     "name": "stdout",
     "output_type": "stream",
     "text": [
      "mean -1155.2046\n",
      "std 380.90805\n",
      "min -1849.4736\n",
      "max -751.0587\n"
     ]
    },
    {
     "data": {
      "application/vnd.jupyter.widget-view+json": {
       "model_id": "75350d62f92f4e379d96bbb85bf5d916",
       "version_major": 2,
       "version_minor": 0
      },
      "text/plain": [
       "VBox(children=(Label(value='0.004 MB of 0.004 MB uploaded\\r'), FloatProgress(value=1.0, max=1.0)))"
      ]
     },
     "metadata": {},
     "output_type": "display_data"
    },
    {
     "data": {
      "text/html": [
       "<style>\n",
       "    table.wandb td:nth-child(1) { padding: 0 10px; text-align: left ; width: auto;} td:nth-child(2) {text-align: left ; width: 100%}\n",
       "    .wandb-row { display: flex; flex-direction: row; flex-wrap: wrap; justify-content: flex-start; width: 100% }\n",
       "    .wandb-col { display: flex; flex-direction: column; flex-basis: 100%; flex: 1; padding: 10px; }\n",
       "    </style>\n",
       "<div class=\"wandb-row\"><div class=\"wandb-col\"><h3>Run history:</h3><br/><table class=\"wandb\"><tr><td>max</td><td>▁</td></tr><tr><td>mean</td><td>▁</td></tr><tr><td>min</td><td>▁</td></tr><tr><td>std</td><td>▁</td></tr></table><br/></div><div class=\"wandb-col\"><h3>Run summary:</h3><br/><table class=\"wandb\"><tr><td>max</td><td>-751.05872</td></tr><tr><td>mean</td><td>-1155.20459</td></tr><tr><td>min</td><td>-1849.47363</td></tr><tr><td>std</td><td>380.90805</td></tr></table><br/></div></div>"
      ],
      "text/plain": [
       "<IPython.core.display.HTML object>"
      ]
     },
     "metadata": {},
     "output_type": "display_data"
    },
    {
     "data": {
      "text/html": [
       " View run <strong style=\"color:#cdcd00\">sweepy-sweep-46</strong> at: <a href='https://wandb.ai/zekai-wang/cs285_proj_get_action_true_dynamics_updated/runs/d9kv1d7u' target=\"_blank\">https://wandb.ai/zekai-wang/cs285_proj_get_action_true_dynamics_updated/runs/d9kv1d7u</a><br/>Synced 6 W&B file(s), 0 media file(s), 0 artifact file(s) and 0 other file(s)"
      ],
      "text/plain": [
       "<IPython.core.display.HTML object>"
      ]
     },
     "metadata": {},
     "output_type": "display_data"
    },
    {
     "data": {
      "text/html": [
       "Find logs at: <code>./wandb/run-20231210_000633-d9kv1d7u/logs</code>"
      ],
      "text/plain": [
       "<IPython.core.display.HTML object>"
      ]
     },
     "metadata": {},
     "output_type": "display_data"
    },
    {
     "name": "stderr",
     "output_type": "stream",
     "text": [
      "\u001b[34m\u001b[1mwandb\u001b[0m: Agent Starting Run: bfq2j98n with config:\n",
      "\u001b[34m\u001b[1mwandb\u001b[0m: \tcem_alpha: 0.5\n",
      "\u001b[34m\u001b[1mwandb\u001b[0m: \tcem_num_elites: 16\n",
      "\u001b[34m\u001b[1mwandb\u001b[0m: \tcem_num_iters: 2\n",
      "\u001b[34m\u001b[1mwandb\u001b[0m: \tmpc_discount: 0.5\n",
      "\u001b[34m\u001b[1mwandb\u001b[0m: \tmpc_horizon_steps: 100\n",
      "\u001b[34m\u001b[1mwandb\u001b[0m: \tmpc_num_action_sequences: 500\n",
      "\u001b[34m\u001b[1mwandb\u001b[0m: \tmpc_strategy: cem\n",
      "/home/zekai/miniconda3/envs/cs285_proj/lib/python3.9/site-packages/ipywidgets/widgets/widget.py:528: DeprecationWarning: The `ipykernel.comm.Comm` class has been deprecated. Please use the `comm` module instead.For creating comms, use the function `from comm import create_comm`.\n",
      "  self.comm = Comm(**args)\n",
      "/home/zekai/miniconda3/envs/cs285_proj/lib/python3.9/site-packages/wandb/sdk/lib/ipython.py:77: DeprecationWarning: Importing display from IPython.core.display is deprecated since IPython 7.14, please import from IPython display\n",
      "  from IPython.core.display import HTML, display  # type: ignore\n"
     ]
    },
    {
     "data": {
      "text/html": [
       "Tracking run with wandb version 0.16.1"
      ],
      "text/plain": [
       "<IPython.core.display.HTML object>"
      ]
     },
     "metadata": {},
     "output_type": "display_data"
    },
    {
     "data": {
      "text/html": [
       "Run data is saved locally in <code>/home/zekai/repos/cs285_proj/notebooks/wandb/run-20231210_000703-bfq2j98n</code>"
      ],
      "text/plain": [
       "<IPython.core.display.HTML object>"
      ]
     },
     "metadata": {},
     "output_type": "display_data"
    },
    {
     "data": {
      "text/html": [
       "Syncing run <strong><a href='https://wandb.ai/zekai-wang/cs285_proj_get_action_true_dynamics_updated/runs/bfq2j98n' target=\"_blank\">comic-sweep-47</a></strong> to <a href='https://wandb.ai/zekai-wang/cs285_proj_get_action_true_dynamics_updated' target=\"_blank\">Weights & Biases</a> (<a href='https://wandb.me/run' target=\"_blank\">docs</a>)<br/>Sweep page: <a href='https://wandb.ai/zekai-wang/cs285_proj_get_action_true_dynamics_updated/sweeps/ok4muk7m' target=\"_blank\">https://wandb.ai/zekai-wang/cs285_proj_get_action_true_dynamics_updated/sweeps/ok4muk7m</a>"
      ],
      "text/plain": [
       "<IPython.core.display.HTML object>"
      ]
     },
     "metadata": {},
     "output_type": "display_data"
    },
    {
     "data": {
      "text/html": [
       " View project at <a href='https://wandb.ai/zekai-wang/cs285_proj_get_action_true_dynamics_updated' target=\"_blank\">https://wandb.ai/zekai-wang/cs285_proj_get_action_true_dynamics_updated</a>"
      ],
      "text/plain": [
       "<IPython.core.display.HTML object>"
      ]
     },
     "metadata": {},
     "output_type": "display_data"
    },
    {
     "data": {
      "text/html": [
       " View sweep at <a href='https://wandb.ai/zekai-wang/cs285_proj_get_action_true_dynamics_updated/sweeps/ok4muk7m' target=\"_blank\">https://wandb.ai/zekai-wang/cs285_proj_get_action_true_dynamics_updated/sweeps/ok4muk7m</a>"
      ],
      "text/plain": [
       "<IPython.core.display.HTML object>"
      ]
     },
     "metadata": {},
     "output_type": "display_data"
    },
    {
     "data": {
      "text/html": [
       " View run at <a href='https://wandb.ai/zekai-wang/cs285_proj_get_action_true_dynamics_updated/runs/bfq2j98n' target=\"_blank\">https://wandb.ai/zekai-wang/cs285_proj_get_action_true_dynamics_updated/runs/bfq2j98n</a>"
      ],
      "text/plain": [
       "<IPython.core.display.HTML object>"
      ]
     },
     "metadata": {},
     "output_type": "display_data"
    },
    {
     "name": "stderr",
     "output_type": "stream",
     "text": [
      "100%|██████████| 10/10 [00:15<00:00,  1.53s/it]\n"
     ]
    },
    {
     "name": "stdout",
     "output_type": "stream",
     "text": [
      "mean -1090.6594\n",
      "std 348.196\n",
      "min -1708.6108\n",
      "max -627.8274\n"
     ]
    },
    {
     "data": {
      "application/vnd.jupyter.widget-view+json": {
       "model_id": "10c89f9a25204885833c11bde8aa7a10",
       "version_major": 2,
       "version_minor": 0
      },
      "text/plain": [
       "VBox(children=(Label(value='0.004 MB of 0.004 MB uploaded\\r'), FloatProgress(value=1.0, max=1.0)))"
      ]
     },
     "metadata": {},
     "output_type": "display_data"
    },
    {
     "data": {
      "text/html": [
       "<style>\n",
       "    table.wandb td:nth-child(1) { padding: 0 10px; text-align: left ; width: auto;} td:nth-child(2) {text-align: left ; width: 100%}\n",
       "    .wandb-row { display: flex; flex-direction: row; flex-wrap: wrap; justify-content: flex-start; width: 100% }\n",
       "    .wandb-col { display: flex; flex-direction: column; flex-basis: 100%; flex: 1; padding: 10px; }\n",
       "    </style>\n",
       "<div class=\"wandb-row\"><div class=\"wandb-col\"><h3>Run history:</h3><br/><table class=\"wandb\"><tr><td>max</td><td>▁</td></tr><tr><td>mean</td><td>▁</td></tr><tr><td>min</td><td>▁</td></tr><tr><td>std</td><td>▁</td></tr></table><br/></div><div class=\"wandb-col\"><h3>Run summary:</h3><br/><table class=\"wandb\"><tr><td>max</td><td>-627.82739</td></tr><tr><td>mean</td><td>-1090.65942</td></tr><tr><td>min</td><td>-1708.61084</td></tr><tr><td>std</td><td>348.19601</td></tr></table><br/></div></div>"
      ],
      "text/plain": [
       "<IPython.core.display.HTML object>"
      ]
     },
     "metadata": {},
     "output_type": "display_data"
    },
    {
     "data": {
      "text/html": [
       " View run <strong style=\"color:#cdcd00\">comic-sweep-47</strong> at: <a href='https://wandb.ai/zekai-wang/cs285_proj_get_action_true_dynamics_updated/runs/bfq2j98n' target=\"_blank\">https://wandb.ai/zekai-wang/cs285_proj_get_action_true_dynamics_updated/runs/bfq2j98n</a><br/>Synced 6 W&B file(s), 0 media file(s), 0 artifact file(s) and 0 other file(s)"
      ],
      "text/plain": [
       "<IPython.core.display.HTML object>"
      ]
     },
     "metadata": {},
     "output_type": "display_data"
    },
    {
     "data": {
      "text/html": [
       "Find logs at: <code>./wandb/run-20231210_000703-bfq2j98n/logs</code>"
      ],
      "text/plain": [
       "<IPython.core.display.HTML object>"
      ]
     },
     "metadata": {},
     "output_type": "display_data"
    },
    {
     "name": "stderr",
     "output_type": "stream",
     "text": [
      "\u001b[34m\u001b[1mwandb\u001b[0m: Agent Starting Run: 3i3gab48 with config:\n",
      "\u001b[34m\u001b[1mwandb\u001b[0m: \tcem_alpha: 1\n",
      "\u001b[34m\u001b[1mwandb\u001b[0m: \tcem_num_elites: 32\n",
      "\u001b[34m\u001b[1mwandb\u001b[0m: \tcem_num_iters: 4\n",
      "\u001b[34m\u001b[1mwandb\u001b[0m: \tmpc_discount: 0.99\n",
      "\u001b[34m\u001b[1mwandb\u001b[0m: \tmpc_horizon_steps: 2\n",
      "\u001b[34m\u001b[1mwandb\u001b[0m: \tmpc_num_action_sequences: 100\n",
      "\u001b[34m\u001b[1mwandb\u001b[0m: \tmpc_strategy: cem\n",
      "/home/zekai/miniconda3/envs/cs285_proj/lib/python3.9/site-packages/ipywidgets/widgets/widget.py:528: DeprecationWarning: The `ipykernel.comm.Comm` class has been deprecated. Please use the `comm` module instead.For creating comms, use the function `from comm import create_comm`.\n",
      "  self.comm = Comm(**args)\n",
      "/home/zekai/miniconda3/envs/cs285_proj/lib/python3.9/site-packages/wandb/sdk/lib/ipython.py:77: DeprecationWarning: Importing display from IPython.core.display is deprecated since IPython 7.14, please import from IPython display\n",
      "  from IPython.core.display import HTML, display  # type: ignore\n"
     ]
    },
    {
     "data": {
      "text/html": [
       "Tracking run with wandb version 0.16.1"
      ],
      "text/plain": [
       "<IPython.core.display.HTML object>"
      ]
     },
     "metadata": {},
     "output_type": "display_data"
    },
    {
     "data": {
      "text/html": [
       "Run data is saved locally in <code>/home/zekai/repos/cs285_proj/notebooks/wandb/run-20231210_000729-3i3gab48</code>"
      ],
      "text/plain": [
       "<IPython.core.display.HTML object>"
      ]
     },
     "metadata": {},
     "output_type": "display_data"
    },
    {
     "data": {
      "text/html": [
       "Syncing run <strong><a href='https://wandb.ai/zekai-wang/cs285_proj_get_action_true_dynamics_updated/runs/3i3gab48' target=\"_blank\">glad-sweep-48</a></strong> to <a href='https://wandb.ai/zekai-wang/cs285_proj_get_action_true_dynamics_updated' target=\"_blank\">Weights & Biases</a> (<a href='https://wandb.me/run' target=\"_blank\">docs</a>)<br/>Sweep page: <a href='https://wandb.ai/zekai-wang/cs285_proj_get_action_true_dynamics_updated/sweeps/ok4muk7m' target=\"_blank\">https://wandb.ai/zekai-wang/cs285_proj_get_action_true_dynamics_updated/sweeps/ok4muk7m</a>"
      ],
      "text/plain": [
       "<IPython.core.display.HTML object>"
      ]
     },
     "metadata": {},
     "output_type": "display_data"
    },
    {
     "data": {
      "text/html": [
       " View project at <a href='https://wandb.ai/zekai-wang/cs285_proj_get_action_true_dynamics_updated' target=\"_blank\">https://wandb.ai/zekai-wang/cs285_proj_get_action_true_dynamics_updated</a>"
      ],
      "text/plain": [
       "<IPython.core.display.HTML object>"
      ]
     },
     "metadata": {},
     "output_type": "display_data"
    },
    {
     "data": {
      "text/html": [
       " View sweep at <a href='https://wandb.ai/zekai-wang/cs285_proj_get_action_true_dynamics_updated/sweeps/ok4muk7m' target=\"_blank\">https://wandb.ai/zekai-wang/cs285_proj_get_action_true_dynamics_updated/sweeps/ok4muk7m</a>"
      ],
      "text/plain": [
       "<IPython.core.display.HTML object>"
      ]
     },
     "metadata": {},
     "output_type": "display_data"
    },
    {
     "data": {
      "text/html": [
       " View run at <a href='https://wandb.ai/zekai-wang/cs285_proj_get_action_true_dynamics_updated/runs/3i3gab48' target=\"_blank\">https://wandb.ai/zekai-wang/cs285_proj_get_action_true_dynamics_updated/runs/3i3gab48</a>"
      ],
      "text/plain": [
       "<IPython.core.display.HTML object>"
      ]
     },
     "metadata": {},
     "output_type": "display_data"
    },
    {
     "name": "stderr",
     "output_type": "stream",
     "text": [
      "100%|██████████| 10/10 [00:15<00:00,  1.57s/it]\n"
     ]
    },
    {
     "name": "stdout",
     "output_type": "stream",
     "text": [
      "mean -1187.574\n",
      "std 339.697\n",
      "min -1809.2703\n",
      "max -752.6034\n"
     ]
    },
    {
     "data": {
      "application/vnd.jupyter.widget-view+json": {
       "model_id": "b5a04e6848b946c1a0ce0966958227bc",
       "version_major": 2,
       "version_minor": 0
      },
      "text/plain": [
       "VBox(children=(Label(value='0.004 MB of 0.004 MB uploaded\\r'), FloatProgress(value=1.0, max=1.0)))"
      ]
     },
     "metadata": {},
     "output_type": "display_data"
    },
    {
     "data": {
      "text/html": [
       "<style>\n",
       "    table.wandb td:nth-child(1) { padding: 0 10px; text-align: left ; width: auto;} td:nth-child(2) {text-align: left ; width: 100%}\n",
       "    .wandb-row { display: flex; flex-direction: row; flex-wrap: wrap; justify-content: flex-start; width: 100% }\n",
       "    .wandb-col { display: flex; flex-direction: column; flex-basis: 100%; flex: 1; padding: 10px; }\n",
       "    </style>\n",
       "<div class=\"wandb-row\"><div class=\"wandb-col\"><h3>Run history:</h3><br/><table class=\"wandb\"><tr><td>max</td><td>▁</td></tr><tr><td>mean</td><td>▁</td></tr><tr><td>min</td><td>▁</td></tr><tr><td>std</td><td>▁</td></tr></table><br/></div><div class=\"wandb-col\"><h3>Run summary:</h3><br/><table class=\"wandb\"><tr><td>max</td><td>-752.60339</td></tr><tr><td>mean</td><td>-1187.57397</td></tr><tr><td>min</td><td>-1809.27026</td></tr><tr><td>std</td><td>339.69699</td></tr></table><br/></div></div>"
      ],
      "text/plain": [
       "<IPython.core.display.HTML object>"
      ]
     },
     "metadata": {},
     "output_type": "display_data"
    },
    {
     "data": {
      "text/html": [
       " View run <strong style=\"color:#cdcd00\">glad-sweep-48</strong> at: <a href='https://wandb.ai/zekai-wang/cs285_proj_get_action_true_dynamics_updated/runs/3i3gab48' target=\"_blank\">https://wandb.ai/zekai-wang/cs285_proj_get_action_true_dynamics_updated/runs/3i3gab48</a><br/>Synced 6 W&B file(s), 0 media file(s), 0 artifact file(s) and 0 other file(s)"
      ],
      "text/plain": [
       "<IPython.core.display.HTML object>"
      ]
     },
     "metadata": {},
     "output_type": "display_data"
    },
    {
     "data": {
      "text/html": [
       "Find logs at: <code>./wandb/run-20231210_000729-3i3gab48/logs</code>"
      ],
      "text/plain": [
       "<IPython.core.display.HTML object>"
      ]
     },
     "metadata": {},
     "output_type": "display_data"
    },
    {
     "name": "stderr",
     "output_type": "stream",
     "text": [
      "\u001b[34m\u001b[1mwandb\u001b[0m: Agent Starting Run: xlbp9oll with config:\n",
      "\u001b[34m\u001b[1mwandb\u001b[0m: \tcem_alpha: 0.5\n",
      "\u001b[34m\u001b[1mwandb\u001b[0m: \tcem_num_elites: 16\n",
      "\u001b[34m\u001b[1mwandb\u001b[0m: \tcem_num_iters: 2\n",
      "\u001b[34m\u001b[1mwandb\u001b[0m: \tmpc_discount: 1\n",
      "\u001b[34m\u001b[1mwandb\u001b[0m: \tmpc_horizon_steps: 50\n",
      "\u001b[34m\u001b[1mwandb\u001b[0m: \tmpc_num_action_sequences: 1000\n",
      "\u001b[34m\u001b[1mwandb\u001b[0m: \tmpc_strategy: cem\n",
      "/home/zekai/miniconda3/envs/cs285_proj/lib/python3.9/site-packages/ipywidgets/widgets/widget.py:528: DeprecationWarning: The `ipykernel.comm.Comm` class has been deprecated. Please use the `comm` module instead.For creating comms, use the function `from comm import create_comm`.\n",
      "  self.comm = Comm(**args)\n",
      "/home/zekai/miniconda3/envs/cs285_proj/lib/python3.9/site-packages/wandb/sdk/lib/ipython.py:77: DeprecationWarning: Importing display from IPython.core.display is deprecated since IPython 7.14, please import from IPython display\n",
      "  from IPython.core.display import HTML, display  # type: ignore\n"
     ]
    },
    {
     "data": {
      "text/html": [
       "Tracking run with wandb version 0.16.1"
      ],
      "text/plain": [
       "<IPython.core.display.HTML object>"
      ]
     },
     "metadata": {},
     "output_type": "display_data"
    },
    {
     "data": {
      "text/html": [
       "Run data is saved locally in <code>/home/zekai/repos/cs285_proj/notebooks/wandb/run-20231210_000754-xlbp9oll</code>"
      ],
      "text/plain": [
       "<IPython.core.display.HTML object>"
      ]
     },
     "metadata": {},
     "output_type": "display_data"
    },
    {
     "data": {
      "text/html": [
       "Syncing run <strong><a href='https://wandb.ai/zekai-wang/cs285_proj_get_action_true_dynamics_updated/runs/xlbp9oll' target=\"_blank\">visionary-sweep-49</a></strong> to <a href='https://wandb.ai/zekai-wang/cs285_proj_get_action_true_dynamics_updated' target=\"_blank\">Weights & Biases</a> (<a href='https://wandb.me/run' target=\"_blank\">docs</a>)<br/>Sweep page: <a href='https://wandb.ai/zekai-wang/cs285_proj_get_action_true_dynamics_updated/sweeps/ok4muk7m' target=\"_blank\">https://wandb.ai/zekai-wang/cs285_proj_get_action_true_dynamics_updated/sweeps/ok4muk7m</a>"
      ],
      "text/plain": [
       "<IPython.core.display.HTML object>"
      ]
     },
     "metadata": {},
     "output_type": "display_data"
    },
    {
     "data": {
      "text/html": [
       " View project at <a href='https://wandb.ai/zekai-wang/cs285_proj_get_action_true_dynamics_updated' target=\"_blank\">https://wandb.ai/zekai-wang/cs285_proj_get_action_true_dynamics_updated</a>"
      ],
      "text/plain": [
       "<IPython.core.display.HTML object>"
      ]
     },
     "metadata": {},
     "output_type": "display_data"
    },
    {
     "data": {
      "text/html": [
       " View sweep at <a href='https://wandb.ai/zekai-wang/cs285_proj_get_action_true_dynamics_updated/sweeps/ok4muk7m' target=\"_blank\">https://wandb.ai/zekai-wang/cs285_proj_get_action_true_dynamics_updated/sweeps/ok4muk7m</a>"
      ],
      "text/plain": [
       "<IPython.core.display.HTML object>"
      ]
     },
     "metadata": {},
     "output_type": "display_data"
    },
    {
     "data": {
      "text/html": [
       " View run at <a href='https://wandb.ai/zekai-wang/cs285_proj_get_action_true_dynamics_updated/runs/xlbp9oll' target=\"_blank\">https://wandb.ai/zekai-wang/cs285_proj_get_action_true_dynamics_updated/runs/xlbp9oll</a>"
      ],
      "text/plain": [
       "<IPython.core.display.HTML object>"
      ]
     },
     "metadata": {},
     "output_type": "display_data"
    },
    {
     "name": "stderr",
     "output_type": "stream",
     "text": [
      "100%|██████████| 10/10 [00:15<00:00,  1.56s/it]\n"
     ]
    },
    {
     "name": "stdout",
     "output_type": "stream",
     "text": [
      "mean -1183.105\n",
      "std 297.1539\n",
      "min -1656.151\n",
      "max -732.812\n"
     ]
    },
    {
     "data": {
      "application/vnd.jupyter.widget-view+json": {
       "model_id": "2e2360ecda2b4cb0b253d88ee0326ca3",
       "version_major": 2,
       "version_minor": 0
      },
      "text/plain": [
       "VBox(children=(Label(value='0.004 MB of 0.004 MB uploaded\\r'), FloatProgress(value=1.0, max=1.0)))"
      ]
     },
     "metadata": {},
     "output_type": "display_data"
    },
    {
     "data": {
      "text/html": [
       "<style>\n",
       "    table.wandb td:nth-child(1) { padding: 0 10px; text-align: left ; width: auto;} td:nth-child(2) {text-align: left ; width: 100%}\n",
       "    .wandb-row { display: flex; flex-direction: row; flex-wrap: wrap; justify-content: flex-start; width: 100% }\n",
       "    .wandb-col { display: flex; flex-direction: column; flex-basis: 100%; flex: 1; padding: 10px; }\n",
       "    </style>\n",
       "<div class=\"wandb-row\"><div class=\"wandb-col\"><h3>Run history:</h3><br/><table class=\"wandb\"><tr><td>max</td><td>▁</td></tr><tr><td>mean</td><td>▁</td></tr><tr><td>min</td><td>▁</td></tr><tr><td>std</td><td>▁</td></tr></table><br/></div><div class=\"wandb-col\"><h3>Run summary:</h3><br/><table class=\"wandb\"><tr><td>max</td><td>-732.81201</td></tr><tr><td>mean</td><td>-1183.10498</td></tr><tr><td>min</td><td>-1656.151</td></tr><tr><td>std</td><td>297.1539</td></tr></table><br/></div></div>"
      ],
      "text/plain": [
       "<IPython.core.display.HTML object>"
      ]
     },
     "metadata": {},
     "output_type": "display_data"
    },
    {
     "data": {
      "text/html": [
       " View run <strong style=\"color:#cdcd00\">visionary-sweep-49</strong> at: <a href='https://wandb.ai/zekai-wang/cs285_proj_get_action_true_dynamics_updated/runs/xlbp9oll' target=\"_blank\">https://wandb.ai/zekai-wang/cs285_proj_get_action_true_dynamics_updated/runs/xlbp9oll</a><br/>Synced 6 W&B file(s), 0 media file(s), 0 artifact file(s) and 0 other file(s)"
      ],
      "text/plain": [
       "<IPython.core.display.HTML object>"
      ]
     },
     "metadata": {},
     "output_type": "display_data"
    },
    {
     "data": {
      "text/html": [
       "Find logs at: <code>./wandb/run-20231210_000754-xlbp9oll/logs</code>"
      ],
      "text/plain": [
       "<IPython.core.display.HTML object>"
      ]
     },
     "metadata": {},
     "output_type": "display_data"
    },
    {
     "name": "stderr",
     "output_type": "stream",
     "text": [
      "\u001b[34m\u001b[1mwandb\u001b[0m: Agent Starting Run: y1qi1jfv with config:\n",
      "\u001b[34m\u001b[1mwandb\u001b[0m: \tcem_alpha: 1\n",
      "\u001b[34m\u001b[1mwandb\u001b[0m: \tcem_num_elites: 64\n",
      "\u001b[34m\u001b[1mwandb\u001b[0m: \tcem_num_iters: 16\n",
      "\u001b[34m\u001b[1mwandb\u001b[0m: \tmpc_discount: 0.8\n",
      "\u001b[34m\u001b[1mwandb\u001b[0m: \tmpc_horizon_steps: 5\n",
      "\u001b[34m\u001b[1mwandb\u001b[0m: \tmpc_num_action_sequences: 1000\n",
      "\u001b[34m\u001b[1mwandb\u001b[0m: \tmpc_strategy: cem\n",
      "/home/zekai/miniconda3/envs/cs285_proj/lib/python3.9/site-packages/ipywidgets/widgets/widget.py:528: DeprecationWarning: The `ipykernel.comm.Comm` class has been deprecated. Please use the `comm` module instead.For creating comms, use the function `from comm import create_comm`.\n",
      "  self.comm = Comm(**args)\n",
      "/home/zekai/miniconda3/envs/cs285_proj/lib/python3.9/site-packages/wandb/sdk/lib/ipython.py:77: DeprecationWarning: Importing display from IPython.core.display is deprecated since IPython 7.14, please import from IPython display\n",
      "  from IPython.core.display import HTML, display  # type: ignore\n"
     ]
    },
    {
     "data": {
      "text/html": [
       "Tracking run with wandb version 0.16.1"
      ],
      "text/plain": [
       "<IPython.core.display.HTML object>"
      ]
     },
     "metadata": {},
     "output_type": "display_data"
    },
    {
     "data": {
      "text/html": [
       "Run data is saved locally in <code>/home/zekai/repos/cs285_proj/notebooks/wandb/run-20231210_000820-y1qi1jfv</code>"
      ],
      "text/plain": [
       "<IPython.core.display.HTML object>"
      ]
     },
     "metadata": {},
     "output_type": "display_data"
    },
    {
     "data": {
      "text/html": [
       "Syncing run <strong><a href='https://wandb.ai/zekai-wang/cs285_proj_get_action_true_dynamics_updated/runs/y1qi1jfv' target=\"_blank\">fearless-sweep-50</a></strong> to <a href='https://wandb.ai/zekai-wang/cs285_proj_get_action_true_dynamics_updated' target=\"_blank\">Weights & Biases</a> (<a href='https://wandb.me/run' target=\"_blank\">docs</a>)<br/>Sweep page: <a href='https://wandb.ai/zekai-wang/cs285_proj_get_action_true_dynamics_updated/sweeps/ok4muk7m' target=\"_blank\">https://wandb.ai/zekai-wang/cs285_proj_get_action_true_dynamics_updated/sweeps/ok4muk7m</a>"
      ],
      "text/plain": [
       "<IPython.core.display.HTML object>"
      ]
     },
     "metadata": {},
     "output_type": "display_data"
    },
    {
     "data": {
      "text/html": [
       " View project at <a href='https://wandb.ai/zekai-wang/cs285_proj_get_action_true_dynamics_updated' target=\"_blank\">https://wandb.ai/zekai-wang/cs285_proj_get_action_true_dynamics_updated</a>"
      ],
      "text/plain": [
       "<IPython.core.display.HTML object>"
      ]
     },
     "metadata": {},
     "output_type": "display_data"
    },
    {
     "data": {
      "text/html": [
       " View sweep at <a href='https://wandb.ai/zekai-wang/cs285_proj_get_action_true_dynamics_updated/sweeps/ok4muk7m' target=\"_blank\">https://wandb.ai/zekai-wang/cs285_proj_get_action_true_dynamics_updated/sweeps/ok4muk7m</a>"
      ],
      "text/plain": [
       "<IPython.core.display.HTML object>"
      ]
     },
     "metadata": {},
     "output_type": "display_data"
    },
    {
     "data": {
      "text/html": [
       " View run at <a href='https://wandb.ai/zekai-wang/cs285_proj_get_action_true_dynamics_updated/runs/y1qi1jfv' target=\"_blank\">https://wandb.ai/zekai-wang/cs285_proj_get_action_true_dynamics_updated/runs/y1qi1jfv</a>"
      ],
      "text/plain": [
       "<IPython.core.display.HTML object>"
      ]
     },
     "metadata": {},
     "output_type": "display_data"
    },
    {
     "name": "stderr",
     "output_type": "stream",
     "text": [
      "100%|██████████| 10/10 [00:16<00:00,  1.60s/it]\n"
     ]
    },
    {
     "name": "stdout",
     "output_type": "stream",
     "text": [
      "mean -1289.9298\n",
      "std 361.4654\n",
      "min -1843.5892\n",
      "max -717.72595\n"
     ]
    },
    {
     "data": {
      "application/vnd.jupyter.widget-view+json": {
       "model_id": "c1b305d6c66e42718f00acc435bc0e86",
       "version_major": 2,
       "version_minor": 0
      },
      "text/plain": [
       "VBox(children=(Label(value='0.004 MB of 0.004 MB uploaded\\r'), FloatProgress(value=1.0, max=1.0)))"
      ]
     },
     "metadata": {},
     "output_type": "display_data"
    },
    {
     "data": {
      "text/html": [
       "<style>\n",
       "    table.wandb td:nth-child(1) { padding: 0 10px; text-align: left ; width: auto;} td:nth-child(2) {text-align: left ; width: 100%}\n",
       "    .wandb-row { display: flex; flex-direction: row; flex-wrap: wrap; justify-content: flex-start; width: 100% }\n",
       "    .wandb-col { display: flex; flex-direction: column; flex-basis: 100%; flex: 1; padding: 10px; }\n",
       "    </style>\n",
       "<div class=\"wandb-row\"><div class=\"wandb-col\"><h3>Run history:</h3><br/><table class=\"wandb\"><tr><td>max</td><td>▁</td></tr><tr><td>mean</td><td>▁</td></tr><tr><td>min</td><td>▁</td></tr><tr><td>std</td><td>▁</td></tr></table><br/></div><div class=\"wandb-col\"><h3>Run summary:</h3><br/><table class=\"wandb\"><tr><td>max</td><td>-717.72595</td></tr><tr><td>mean</td><td>-1289.92981</td></tr><tr><td>min</td><td>-1843.58923</td></tr><tr><td>std</td><td>361.46539</td></tr></table><br/></div></div>"
      ],
      "text/plain": [
       "<IPython.core.display.HTML object>"
      ]
     },
     "metadata": {},
     "output_type": "display_data"
    },
    {
     "data": {
      "text/html": [
       " View run <strong style=\"color:#cdcd00\">fearless-sweep-50</strong> at: <a href='https://wandb.ai/zekai-wang/cs285_proj_get_action_true_dynamics_updated/runs/y1qi1jfv' target=\"_blank\">https://wandb.ai/zekai-wang/cs285_proj_get_action_true_dynamics_updated/runs/y1qi1jfv</a><br/>Synced 6 W&B file(s), 0 media file(s), 0 artifact file(s) and 0 other file(s)"
      ],
      "text/plain": [
       "<IPython.core.display.HTML object>"
      ]
     },
     "metadata": {},
     "output_type": "display_data"
    },
    {
     "data": {
      "text/html": [
       "Find logs at: <code>./wandb/run-20231210_000820-y1qi1jfv/logs</code>"
      ],
      "text/plain": [
       "<IPython.core.display.HTML object>"
      ]
     },
     "metadata": {},
     "output_type": "display_data"
    },
    {
     "name": "stderr",
     "output_type": "stream",
     "text": [
      "\u001b[34m\u001b[1mwandb\u001b[0m: Agent Starting Run: ke3kpmy5 with config:\n",
      "\u001b[34m\u001b[1mwandb\u001b[0m: \tcem_alpha: 0.8\n",
      "\u001b[34m\u001b[1mwandb\u001b[0m: \tcem_num_elites: 4\n",
      "\u001b[34m\u001b[1mwandb\u001b[0m: \tcem_num_iters: 16\n",
      "\u001b[34m\u001b[1mwandb\u001b[0m: \tmpc_discount: 0.9\n",
      "\u001b[34m\u001b[1mwandb\u001b[0m: \tmpc_horizon_steps: 100\n",
      "\u001b[34m\u001b[1mwandb\u001b[0m: \tmpc_num_action_sequences: 2000\n",
      "\u001b[34m\u001b[1mwandb\u001b[0m: \tmpc_strategy: random\n",
      "/home/zekai/miniconda3/envs/cs285_proj/lib/python3.9/site-packages/ipywidgets/widgets/widget.py:528: DeprecationWarning: The `ipykernel.comm.Comm` class has been deprecated. Please use the `comm` module instead.For creating comms, use the function `from comm import create_comm`.\n",
      "  self.comm = Comm(**args)\n",
      "/home/zekai/miniconda3/envs/cs285_proj/lib/python3.9/site-packages/wandb/sdk/lib/ipython.py:77: DeprecationWarning: Importing display from IPython.core.display is deprecated since IPython 7.14, please import from IPython display\n",
      "  from IPython.core.display import HTML, display  # type: ignore\n"
     ]
    },
    {
     "data": {
      "text/html": [
       "Tracking run with wandb version 0.16.1"
      ],
      "text/plain": [
       "<IPython.core.display.HTML object>"
      ]
     },
     "metadata": {},
     "output_type": "display_data"
    },
    {
     "data": {
      "text/html": [
       "Run data is saved locally in <code>/home/zekai/repos/cs285_proj/notebooks/wandb/run-20231210_000850-ke3kpmy5</code>"
      ],
      "text/plain": [
       "<IPython.core.display.HTML object>"
      ]
     },
     "metadata": {},
     "output_type": "display_data"
    },
    {
     "data": {
      "text/html": [
       "Syncing run <strong><a href='https://wandb.ai/zekai-wang/cs285_proj_get_action_true_dynamics_updated/runs/ke3kpmy5' target=\"_blank\">prime-sweep-51</a></strong> to <a href='https://wandb.ai/zekai-wang/cs285_proj_get_action_true_dynamics_updated' target=\"_blank\">Weights & Biases</a> (<a href='https://wandb.me/run' target=\"_blank\">docs</a>)<br/>Sweep page: <a href='https://wandb.ai/zekai-wang/cs285_proj_get_action_true_dynamics_updated/sweeps/ok4muk7m' target=\"_blank\">https://wandb.ai/zekai-wang/cs285_proj_get_action_true_dynamics_updated/sweeps/ok4muk7m</a>"
      ],
      "text/plain": [
       "<IPython.core.display.HTML object>"
      ]
     },
     "metadata": {},
     "output_type": "display_data"
    },
    {
     "data": {
      "text/html": [
       " View project at <a href='https://wandb.ai/zekai-wang/cs285_proj_get_action_true_dynamics_updated' target=\"_blank\">https://wandb.ai/zekai-wang/cs285_proj_get_action_true_dynamics_updated</a>"
      ],
      "text/plain": [
       "<IPython.core.display.HTML object>"
      ]
     },
     "metadata": {},
     "output_type": "display_data"
    },
    {
     "data": {
      "text/html": [
       " View sweep at <a href='https://wandb.ai/zekai-wang/cs285_proj_get_action_true_dynamics_updated/sweeps/ok4muk7m' target=\"_blank\">https://wandb.ai/zekai-wang/cs285_proj_get_action_true_dynamics_updated/sweeps/ok4muk7m</a>"
      ],
      "text/plain": [
       "<IPython.core.display.HTML object>"
      ]
     },
     "metadata": {},
     "output_type": "display_data"
    },
    {
     "data": {
      "text/html": [
       " View run at <a href='https://wandb.ai/zekai-wang/cs285_proj_get_action_true_dynamics_updated/runs/ke3kpmy5' target=\"_blank\">https://wandb.ai/zekai-wang/cs285_proj_get_action_true_dynamics_updated/runs/ke3kpmy5</a>"
      ],
      "text/plain": [
       "<IPython.core.display.HTML object>"
      ]
     },
     "metadata": {},
     "output_type": "display_data"
    },
    {
     "name": "stderr",
     "output_type": "stream",
     "text": [
      "100%|██████████| 10/10 [00:15<00:00,  1.55s/it]\n"
     ]
    },
    {
     "name": "stdout",
     "output_type": "stream",
     "text": [
      "mean -1134.9773\n",
      "std 287.70038\n",
      "min -1575.0593\n",
      "max -764.75714\n"
     ]
    },
    {
     "data": {
      "application/vnd.jupyter.widget-view+json": {
       "model_id": "f848504228ab4791bc9af878a5e5e28e",
       "version_major": 2,
       "version_minor": 0
      },
      "text/plain": [
       "VBox(children=(Label(value='0.004 MB of 0.004 MB uploaded\\r'), FloatProgress(value=1.0, max=1.0)))"
      ]
     },
     "metadata": {},
     "output_type": "display_data"
    },
    {
     "data": {
      "text/html": [
       "<style>\n",
       "    table.wandb td:nth-child(1) { padding: 0 10px; text-align: left ; width: auto;} td:nth-child(2) {text-align: left ; width: 100%}\n",
       "    .wandb-row { display: flex; flex-direction: row; flex-wrap: wrap; justify-content: flex-start; width: 100% }\n",
       "    .wandb-col { display: flex; flex-direction: column; flex-basis: 100%; flex: 1; padding: 10px; }\n",
       "    </style>\n",
       "<div class=\"wandb-row\"><div class=\"wandb-col\"><h3>Run history:</h3><br/><table class=\"wandb\"><tr><td>max</td><td>▁</td></tr><tr><td>mean</td><td>▁</td></tr><tr><td>min</td><td>▁</td></tr><tr><td>std</td><td>▁</td></tr></table><br/></div><div class=\"wandb-col\"><h3>Run summary:</h3><br/><table class=\"wandb\"><tr><td>max</td><td>-764.75714</td></tr><tr><td>mean</td><td>-1134.97729</td></tr><tr><td>min</td><td>-1575.05933</td></tr><tr><td>std</td><td>287.70038</td></tr></table><br/></div></div>"
      ],
      "text/plain": [
       "<IPython.core.display.HTML object>"
      ]
     },
     "metadata": {},
     "output_type": "display_data"
    },
    {
     "data": {
      "text/html": [
       " View run <strong style=\"color:#cdcd00\">prime-sweep-51</strong> at: <a href='https://wandb.ai/zekai-wang/cs285_proj_get_action_true_dynamics_updated/runs/ke3kpmy5' target=\"_blank\">https://wandb.ai/zekai-wang/cs285_proj_get_action_true_dynamics_updated/runs/ke3kpmy5</a><br/>Synced 6 W&B file(s), 0 media file(s), 0 artifact file(s) and 0 other file(s)"
      ],
      "text/plain": [
       "<IPython.core.display.HTML object>"
      ]
     },
     "metadata": {},
     "output_type": "display_data"
    },
    {
     "data": {
      "text/html": [
       "Find logs at: <code>./wandb/run-20231210_000850-ke3kpmy5/logs</code>"
      ],
      "text/plain": [
       "<IPython.core.display.HTML object>"
      ]
     },
     "metadata": {},
     "output_type": "display_data"
    },
    {
     "name": "stderr",
     "output_type": "stream",
     "text": [
      "\u001b[34m\u001b[1mwandb\u001b[0m: Agent Starting Run: mfl9ni9b with config:\n",
      "\u001b[34m\u001b[1mwandb\u001b[0m: \tcem_alpha: 0.99\n",
      "\u001b[34m\u001b[1mwandb\u001b[0m: \tcem_num_elites: 8\n",
      "\u001b[34m\u001b[1mwandb\u001b[0m: \tcem_num_iters: 8\n",
      "\u001b[34m\u001b[1mwandb\u001b[0m: \tmpc_discount: 0.9\n",
      "\u001b[34m\u001b[1mwandb\u001b[0m: \tmpc_horizon_steps: 5\n",
      "\u001b[34m\u001b[1mwandb\u001b[0m: \tmpc_num_action_sequences: 500\n",
      "\u001b[34m\u001b[1mwandb\u001b[0m: \tmpc_strategy: cem\n",
      "/home/zekai/miniconda3/envs/cs285_proj/lib/python3.9/site-packages/ipywidgets/widgets/widget.py:528: DeprecationWarning: The `ipykernel.comm.Comm` class has been deprecated. Please use the `comm` module instead.For creating comms, use the function `from comm import create_comm`.\n",
      "  self.comm = Comm(**args)\n",
      "/home/zekai/miniconda3/envs/cs285_proj/lib/python3.9/site-packages/wandb/sdk/lib/ipython.py:77: DeprecationWarning: Importing display from IPython.core.display is deprecated since IPython 7.14, please import from IPython display\n",
      "  from IPython.core.display import HTML, display  # type: ignore\n"
     ]
    },
    {
     "data": {
      "text/html": [
       "Tracking run with wandb version 0.16.1"
      ],
      "text/plain": [
       "<IPython.core.display.HTML object>"
      ]
     },
     "metadata": {},
     "output_type": "display_data"
    },
    {
     "data": {
      "text/html": [
       "Run data is saved locally in <code>/home/zekai/repos/cs285_proj/notebooks/wandb/run-20231210_000916-mfl9ni9b</code>"
      ],
      "text/plain": [
       "<IPython.core.display.HTML object>"
      ]
     },
     "metadata": {},
     "output_type": "display_data"
    },
    {
     "data": {
      "text/html": [
       "Syncing run <strong><a href='https://wandb.ai/zekai-wang/cs285_proj_get_action_true_dynamics_updated/runs/mfl9ni9b' target=\"_blank\">wise-sweep-52</a></strong> to <a href='https://wandb.ai/zekai-wang/cs285_proj_get_action_true_dynamics_updated' target=\"_blank\">Weights & Biases</a> (<a href='https://wandb.me/run' target=\"_blank\">docs</a>)<br/>Sweep page: <a href='https://wandb.ai/zekai-wang/cs285_proj_get_action_true_dynamics_updated/sweeps/ok4muk7m' target=\"_blank\">https://wandb.ai/zekai-wang/cs285_proj_get_action_true_dynamics_updated/sweeps/ok4muk7m</a>"
      ],
      "text/plain": [
       "<IPython.core.display.HTML object>"
      ]
     },
     "metadata": {},
     "output_type": "display_data"
    },
    {
     "data": {
      "text/html": [
       " View project at <a href='https://wandb.ai/zekai-wang/cs285_proj_get_action_true_dynamics_updated' target=\"_blank\">https://wandb.ai/zekai-wang/cs285_proj_get_action_true_dynamics_updated</a>"
      ],
      "text/plain": [
       "<IPython.core.display.HTML object>"
      ]
     },
     "metadata": {},
     "output_type": "display_data"
    },
    {
     "data": {
      "text/html": [
       " View sweep at <a href='https://wandb.ai/zekai-wang/cs285_proj_get_action_true_dynamics_updated/sweeps/ok4muk7m' target=\"_blank\">https://wandb.ai/zekai-wang/cs285_proj_get_action_true_dynamics_updated/sweeps/ok4muk7m</a>"
      ],
      "text/plain": [
       "<IPython.core.display.HTML object>"
      ]
     },
     "metadata": {},
     "output_type": "display_data"
    },
    {
     "data": {
      "text/html": [
       " View run at <a href='https://wandb.ai/zekai-wang/cs285_proj_get_action_true_dynamics_updated/runs/mfl9ni9b' target=\"_blank\">https://wandb.ai/zekai-wang/cs285_proj_get_action_true_dynamics_updated/runs/mfl9ni9b</a>"
      ],
      "text/plain": [
       "<IPython.core.display.HTML object>"
      ]
     },
     "metadata": {},
     "output_type": "display_data"
    },
    {
     "name": "stderr",
     "output_type": "stream",
     "text": [
      "100%|██████████| 10/10 [00:15<00:00,  1.58s/it]\n"
     ]
    },
    {
     "name": "stdout",
     "output_type": "stream",
     "text": [
      "mean -1286.9467\n",
      "std 344.98163\n",
      "min -1815.3748\n",
      "max -790.56726\n"
     ]
    },
    {
     "data": {
      "application/vnd.jupyter.widget-view+json": {
       "model_id": "36c0d049d389434785513ead73425cd7",
       "version_major": 2,
       "version_minor": 0
      },
      "text/plain": [
       "VBox(children=(Label(value='0.004 MB of 0.004 MB uploaded\\r'), FloatProgress(value=1.0, max=1.0)))"
      ]
     },
     "metadata": {},
     "output_type": "display_data"
    },
    {
     "data": {
      "text/html": [
       "<style>\n",
       "    table.wandb td:nth-child(1) { padding: 0 10px; text-align: left ; width: auto;} td:nth-child(2) {text-align: left ; width: 100%}\n",
       "    .wandb-row { display: flex; flex-direction: row; flex-wrap: wrap; justify-content: flex-start; width: 100% }\n",
       "    .wandb-col { display: flex; flex-direction: column; flex-basis: 100%; flex: 1; padding: 10px; }\n",
       "    </style>\n",
       "<div class=\"wandb-row\"><div class=\"wandb-col\"><h3>Run history:</h3><br/><table class=\"wandb\"><tr><td>max</td><td>▁</td></tr><tr><td>mean</td><td>▁</td></tr><tr><td>min</td><td>▁</td></tr><tr><td>std</td><td>▁</td></tr></table><br/></div><div class=\"wandb-col\"><h3>Run summary:</h3><br/><table class=\"wandb\"><tr><td>max</td><td>-790.56726</td></tr><tr><td>mean</td><td>-1286.94666</td></tr><tr><td>min</td><td>-1815.37476</td></tr><tr><td>std</td><td>344.98163</td></tr></table><br/></div></div>"
      ],
      "text/plain": [
       "<IPython.core.display.HTML object>"
      ]
     },
     "metadata": {},
     "output_type": "display_data"
    },
    {
     "data": {
      "text/html": [
       " View run <strong style=\"color:#cdcd00\">wise-sweep-52</strong> at: <a href='https://wandb.ai/zekai-wang/cs285_proj_get_action_true_dynamics_updated/runs/mfl9ni9b' target=\"_blank\">https://wandb.ai/zekai-wang/cs285_proj_get_action_true_dynamics_updated/runs/mfl9ni9b</a><br/>Synced 6 W&B file(s), 0 media file(s), 0 artifact file(s) and 0 other file(s)"
      ],
      "text/plain": [
       "<IPython.core.display.HTML object>"
      ]
     },
     "metadata": {},
     "output_type": "display_data"
    },
    {
     "data": {
      "text/html": [
       "Find logs at: <code>./wandb/run-20231210_000916-mfl9ni9b/logs</code>"
      ],
      "text/plain": [
       "<IPython.core.display.HTML object>"
      ]
     },
     "metadata": {},
     "output_type": "display_data"
    },
    {
     "name": "stderr",
     "output_type": "stream",
     "text": [
      "\u001b[34m\u001b[1mwandb\u001b[0m: Agent Starting Run: pbkp79fh with config:\n",
      "\u001b[34m\u001b[1mwandb\u001b[0m: \tcem_alpha: 0.8\n",
      "\u001b[34m\u001b[1mwandb\u001b[0m: \tcem_num_elites: 64\n",
      "\u001b[34m\u001b[1mwandb\u001b[0m: \tcem_num_iters: 2\n",
      "\u001b[34m\u001b[1mwandb\u001b[0m: \tmpc_discount: 0.99\n",
      "\u001b[34m\u001b[1mwandb\u001b[0m: \tmpc_horizon_steps: 2\n",
      "\u001b[34m\u001b[1mwandb\u001b[0m: \tmpc_num_action_sequences: 2000\n",
      "\u001b[34m\u001b[1mwandb\u001b[0m: \tmpc_strategy: cem\n",
      "/home/zekai/miniconda3/envs/cs285_proj/lib/python3.9/site-packages/ipywidgets/widgets/widget.py:528: DeprecationWarning: The `ipykernel.comm.Comm` class has been deprecated. Please use the `comm` module instead.For creating comms, use the function `from comm import create_comm`.\n",
      "  self.comm = Comm(**args)\n",
      "/home/zekai/miniconda3/envs/cs285_proj/lib/python3.9/site-packages/wandb/sdk/lib/ipython.py:77: DeprecationWarning: Importing display from IPython.core.display is deprecated since IPython 7.14, please import from IPython display\n",
      "  from IPython.core.display import HTML, display  # type: ignore\n"
     ]
    },
    {
     "data": {
      "text/html": [
       "Tracking run with wandb version 0.16.1"
      ],
      "text/plain": [
       "<IPython.core.display.HTML object>"
      ]
     },
     "metadata": {},
     "output_type": "display_data"
    },
    {
     "data": {
      "text/html": [
       "Run data is saved locally in <code>/home/zekai/repos/cs285_proj/notebooks/wandb/run-20231210_000947-pbkp79fh</code>"
      ],
      "text/plain": [
       "<IPython.core.display.HTML object>"
      ]
     },
     "metadata": {},
     "output_type": "display_data"
    },
    {
     "data": {
      "text/html": [
       "Syncing run <strong><a href='https://wandb.ai/zekai-wang/cs285_proj_get_action_true_dynamics_updated/runs/pbkp79fh' target=\"_blank\">helpful-sweep-53</a></strong> to <a href='https://wandb.ai/zekai-wang/cs285_proj_get_action_true_dynamics_updated' target=\"_blank\">Weights & Biases</a> (<a href='https://wandb.me/run' target=\"_blank\">docs</a>)<br/>Sweep page: <a href='https://wandb.ai/zekai-wang/cs285_proj_get_action_true_dynamics_updated/sweeps/ok4muk7m' target=\"_blank\">https://wandb.ai/zekai-wang/cs285_proj_get_action_true_dynamics_updated/sweeps/ok4muk7m</a>"
      ],
      "text/plain": [
       "<IPython.core.display.HTML object>"
      ]
     },
     "metadata": {},
     "output_type": "display_data"
    },
    {
     "data": {
      "text/html": [
       " View project at <a href='https://wandb.ai/zekai-wang/cs285_proj_get_action_true_dynamics_updated' target=\"_blank\">https://wandb.ai/zekai-wang/cs285_proj_get_action_true_dynamics_updated</a>"
      ],
      "text/plain": [
       "<IPython.core.display.HTML object>"
      ]
     },
     "metadata": {},
     "output_type": "display_data"
    },
    {
     "data": {
      "text/html": [
       " View sweep at <a href='https://wandb.ai/zekai-wang/cs285_proj_get_action_true_dynamics_updated/sweeps/ok4muk7m' target=\"_blank\">https://wandb.ai/zekai-wang/cs285_proj_get_action_true_dynamics_updated/sweeps/ok4muk7m</a>"
      ],
      "text/plain": [
       "<IPython.core.display.HTML object>"
      ]
     },
     "metadata": {},
     "output_type": "display_data"
    },
    {
     "data": {
      "text/html": [
       " View run at <a href='https://wandb.ai/zekai-wang/cs285_proj_get_action_true_dynamics_updated/runs/pbkp79fh' target=\"_blank\">https://wandb.ai/zekai-wang/cs285_proj_get_action_true_dynamics_updated/runs/pbkp79fh</a>"
      ],
      "text/plain": [
       "<IPython.core.display.HTML object>"
      ]
     },
     "metadata": {},
     "output_type": "display_data"
    },
    {
     "name": "stderr",
     "output_type": "stream",
     "text": [
      "100%|██████████| 10/10 [00:15<00:00,  1.55s/it]\n"
     ]
    },
    {
     "name": "stdout",
     "output_type": "stream",
     "text": [
      "mean -1206.8158\n",
      "std 313.94543\n",
      "min -1782.554\n",
      "max -859.0941\n"
     ]
    },
    {
     "data": {
      "application/vnd.jupyter.widget-view+json": {
       "model_id": "4a190c18c3ea428b8e9ab6cbf6136bdc",
       "version_major": 2,
       "version_minor": 0
      },
      "text/plain": [
       "VBox(children=(Label(value='0.004 MB of 0.004 MB uploaded\\r'), FloatProgress(value=1.0, max=1.0)))"
      ]
     },
     "metadata": {},
     "output_type": "display_data"
    },
    {
     "data": {
      "text/html": [
       "<style>\n",
       "    table.wandb td:nth-child(1) { padding: 0 10px; text-align: left ; width: auto;} td:nth-child(2) {text-align: left ; width: 100%}\n",
       "    .wandb-row { display: flex; flex-direction: row; flex-wrap: wrap; justify-content: flex-start; width: 100% }\n",
       "    .wandb-col { display: flex; flex-direction: column; flex-basis: 100%; flex: 1; padding: 10px; }\n",
       "    </style>\n",
       "<div class=\"wandb-row\"><div class=\"wandb-col\"><h3>Run history:</h3><br/><table class=\"wandb\"><tr><td>max</td><td>▁</td></tr><tr><td>mean</td><td>▁</td></tr><tr><td>min</td><td>▁</td></tr><tr><td>std</td><td>▁</td></tr></table><br/></div><div class=\"wandb-col\"><h3>Run summary:</h3><br/><table class=\"wandb\"><tr><td>max</td><td>-859.09412</td></tr><tr><td>mean</td><td>-1206.8158</td></tr><tr><td>min</td><td>-1782.55396</td></tr><tr><td>std</td><td>313.94543</td></tr></table><br/></div></div>"
      ],
      "text/plain": [
       "<IPython.core.display.HTML object>"
      ]
     },
     "metadata": {},
     "output_type": "display_data"
    },
    {
     "data": {
      "text/html": [
       " View run <strong style=\"color:#cdcd00\">helpful-sweep-53</strong> at: <a href='https://wandb.ai/zekai-wang/cs285_proj_get_action_true_dynamics_updated/runs/pbkp79fh' target=\"_blank\">https://wandb.ai/zekai-wang/cs285_proj_get_action_true_dynamics_updated/runs/pbkp79fh</a><br/>Synced 6 W&B file(s), 0 media file(s), 0 artifact file(s) and 0 other file(s)"
      ],
      "text/plain": [
       "<IPython.core.display.HTML object>"
      ]
     },
     "metadata": {},
     "output_type": "display_data"
    },
    {
     "data": {
      "text/html": [
       "Find logs at: <code>./wandb/run-20231210_000947-pbkp79fh/logs</code>"
      ],
      "text/plain": [
       "<IPython.core.display.HTML object>"
      ]
     },
     "metadata": {},
     "output_type": "display_data"
    },
    {
     "name": "stderr",
     "output_type": "stream",
     "text": [
      "\u001b[34m\u001b[1mwandb\u001b[0m: Agent Starting Run: 73ietlk7 with config:\n",
      "\u001b[34m\u001b[1mwandb\u001b[0m: \tcem_alpha: 0.99\n",
      "\u001b[34m\u001b[1mwandb\u001b[0m: \tcem_num_elites: 1\n",
      "\u001b[34m\u001b[1mwandb\u001b[0m: \tcem_num_iters: 16\n",
      "\u001b[34m\u001b[1mwandb\u001b[0m: \tmpc_discount: 0.95\n",
      "\u001b[34m\u001b[1mwandb\u001b[0m: \tmpc_horizon_steps: 20\n",
      "\u001b[34m\u001b[1mwandb\u001b[0m: \tmpc_num_action_sequences: 1000\n",
      "\u001b[34m\u001b[1mwandb\u001b[0m: \tmpc_strategy: random\n",
      "/home/zekai/miniconda3/envs/cs285_proj/lib/python3.9/site-packages/ipywidgets/widgets/widget.py:528: DeprecationWarning: The `ipykernel.comm.Comm` class has been deprecated. Please use the `comm` module instead.For creating comms, use the function `from comm import create_comm`.\n",
      "  self.comm = Comm(**args)\n",
      "/home/zekai/miniconda3/envs/cs285_proj/lib/python3.9/site-packages/wandb/sdk/lib/ipython.py:77: DeprecationWarning: Importing display from IPython.core.display is deprecated since IPython 7.14, please import from IPython display\n",
      "  from IPython.core.display import HTML, display  # type: ignore\n"
     ]
    },
    {
     "data": {
      "text/html": [
       "Tracking run with wandb version 0.16.1"
      ],
      "text/plain": [
       "<IPython.core.display.HTML object>"
      ]
     },
     "metadata": {},
     "output_type": "display_data"
    },
    {
     "data": {
      "text/html": [
       "Run data is saved locally in <code>/home/zekai/repos/cs285_proj/notebooks/wandb/run-20231210_001013-73ietlk7</code>"
      ],
      "text/plain": [
       "<IPython.core.display.HTML object>"
      ]
     },
     "metadata": {},
     "output_type": "display_data"
    },
    {
     "data": {
      "text/html": [
       "Syncing run <strong><a href='https://wandb.ai/zekai-wang/cs285_proj_get_action_true_dynamics_updated/runs/73ietlk7' target=\"_blank\">serene-sweep-54</a></strong> to <a href='https://wandb.ai/zekai-wang/cs285_proj_get_action_true_dynamics_updated' target=\"_blank\">Weights & Biases</a> (<a href='https://wandb.me/run' target=\"_blank\">docs</a>)<br/>Sweep page: <a href='https://wandb.ai/zekai-wang/cs285_proj_get_action_true_dynamics_updated/sweeps/ok4muk7m' target=\"_blank\">https://wandb.ai/zekai-wang/cs285_proj_get_action_true_dynamics_updated/sweeps/ok4muk7m</a>"
      ],
      "text/plain": [
       "<IPython.core.display.HTML object>"
      ]
     },
     "metadata": {},
     "output_type": "display_data"
    },
    {
     "data": {
      "text/html": [
       " View project at <a href='https://wandb.ai/zekai-wang/cs285_proj_get_action_true_dynamics_updated' target=\"_blank\">https://wandb.ai/zekai-wang/cs285_proj_get_action_true_dynamics_updated</a>"
      ],
      "text/plain": [
       "<IPython.core.display.HTML object>"
      ]
     },
     "metadata": {},
     "output_type": "display_data"
    },
    {
     "data": {
      "text/html": [
       " View sweep at <a href='https://wandb.ai/zekai-wang/cs285_proj_get_action_true_dynamics_updated/sweeps/ok4muk7m' target=\"_blank\">https://wandb.ai/zekai-wang/cs285_proj_get_action_true_dynamics_updated/sweeps/ok4muk7m</a>"
      ],
      "text/plain": [
       "<IPython.core.display.HTML object>"
      ]
     },
     "metadata": {},
     "output_type": "display_data"
    },
    {
     "data": {
      "text/html": [
       " View run at <a href='https://wandb.ai/zekai-wang/cs285_proj_get_action_true_dynamics_updated/runs/73ietlk7' target=\"_blank\">https://wandb.ai/zekai-wang/cs285_proj_get_action_true_dynamics_updated/runs/73ietlk7</a>"
      ],
      "text/plain": [
       "<IPython.core.display.HTML object>"
      ]
     },
     "metadata": {},
     "output_type": "display_data"
    },
    {
     "name": "stderr",
     "output_type": "stream",
     "text": [
      "100%|██████████| 10/10 [00:15<00:00,  1.52s/it]\n"
     ]
    },
    {
     "name": "stdout",
     "output_type": "stream",
     "text": [
      "mean -1145.2073\n",
      "std 153.64545\n",
      "min -1342.6375\n",
      "max -869.70667\n"
     ]
    },
    {
     "data": {
      "application/vnd.jupyter.widget-view+json": {
       "model_id": "d36b9ddc1d5946c48eadedfeab6c6e76",
       "version_major": 2,
       "version_minor": 0
      },
      "text/plain": [
       "VBox(children=(Label(value='0.004 MB of 0.004 MB uploaded\\r'), FloatProgress(value=1.0, max=1.0)))"
      ]
     },
     "metadata": {},
     "output_type": "display_data"
    },
    {
     "data": {
      "text/html": [
       "<style>\n",
       "    table.wandb td:nth-child(1) { padding: 0 10px; text-align: left ; width: auto;} td:nth-child(2) {text-align: left ; width: 100%}\n",
       "    .wandb-row { display: flex; flex-direction: row; flex-wrap: wrap; justify-content: flex-start; width: 100% }\n",
       "    .wandb-col { display: flex; flex-direction: column; flex-basis: 100%; flex: 1; padding: 10px; }\n",
       "    </style>\n",
       "<div class=\"wandb-row\"><div class=\"wandb-col\"><h3>Run history:</h3><br/><table class=\"wandb\"><tr><td>max</td><td>▁</td></tr><tr><td>mean</td><td>▁</td></tr><tr><td>min</td><td>▁</td></tr><tr><td>std</td><td>▁</td></tr></table><br/></div><div class=\"wandb-col\"><h3>Run summary:</h3><br/><table class=\"wandb\"><tr><td>max</td><td>-869.70667</td></tr><tr><td>mean</td><td>-1145.20728</td></tr><tr><td>min</td><td>-1342.63745</td></tr><tr><td>std</td><td>153.64545</td></tr></table><br/></div></div>"
      ],
      "text/plain": [
       "<IPython.core.display.HTML object>"
      ]
     },
     "metadata": {},
     "output_type": "display_data"
    },
    {
     "data": {
      "text/html": [
       " View run <strong style=\"color:#cdcd00\">serene-sweep-54</strong> at: <a href='https://wandb.ai/zekai-wang/cs285_proj_get_action_true_dynamics_updated/runs/73ietlk7' target=\"_blank\">https://wandb.ai/zekai-wang/cs285_proj_get_action_true_dynamics_updated/runs/73ietlk7</a><br/>Synced 6 W&B file(s), 0 media file(s), 0 artifact file(s) and 0 other file(s)"
      ],
      "text/plain": [
       "<IPython.core.display.HTML object>"
      ]
     },
     "metadata": {},
     "output_type": "display_data"
    },
    {
     "data": {
      "text/html": [
       "Find logs at: <code>./wandb/run-20231210_001013-73ietlk7/logs</code>"
      ],
      "text/plain": [
       "<IPython.core.display.HTML object>"
      ]
     },
     "metadata": {},
     "output_type": "display_data"
    },
    {
     "name": "stderr",
     "output_type": "stream",
     "text": [
      "\u001b[34m\u001b[1mwandb\u001b[0m: Agent Starting Run: br7fow7t with config:\n",
      "\u001b[34m\u001b[1mwandb\u001b[0m: \tcem_alpha: 0.8\n",
      "\u001b[34m\u001b[1mwandb\u001b[0m: \tcem_num_elites: 1\n",
      "\u001b[34m\u001b[1mwandb\u001b[0m: \tcem_num_iters: 16\n",
      "\u001b[34m\u001b[1mwandb\u001b[0m: \tmpc_discount: 0.5\n",
      "\u001b[34m\u001b[1mwandb\u001b[0m: \tmpc_horizon_steps: 5\n",
      "\u001b[34m\u001b[1mwandb\u001b[0m: \tmpc_num_action_sequences: 1000\n",
      "\u001b[34m\u001b[1mwandb\u001b[0m: \tmpc_strategy: random\n",
      "/home/zekai/miniconda3/envs/cs285_proj/lib/python3.9/site-packages/ipywidgets/widgets/widget.py:528: DeprecationWarning: The `ipykernel.comm.Comm` class has been deprecated. Please use the `comm` module instead.For creating comms, use the function `from comm import create_comm`.\n",
      "  self.comm = Comm(**args)\n",
      "/home/zekai/miniconda3/envs/cs285_proj/lib/python3.9/site-packages/wandb/sdk/lib/ipython.py:77: DeprecationWarning: Importing display from IPython.core.display is deprecated since IPython 7.14, please import from IPython display\n",
      "  from IPython.core.display import HTML, display  # type: ignore\n"
     ]
    },
    {
     "data": {
      "text/html": [
       "Tracking run with wandb version 0.16.1"
      ],
      "text/plain": [
       "<IPython.core.display.HTML object>"
      ]
     },
     "metadata": {},
     "output_type": "display_data"
    },
    {
     "data": {
      "text/html": [
       "Run data is saved locally in <code>/home/zekai/repos/cs285_proj/notebooks/wandb/run-20231210_001038-br7fow7t</code>"
      ],
      "text/plain": [
       "<IPython.core.display.HTML object>"
      ]
     },
     "metadata": {},
     "output_type": "display_data"
    },
    {
     "data": {
      "text/html": [
       "Syncing run <strong><a href='https://wandb.ai/zekai-wang/cs285_proj_get_action_true_dynamics_updated/runs/br7fow7t' target=\"_blank\">lunar-sweep-55</a></strong> to <a href='https://wandb.ai/zekai-wang/cs285_proj_get_action_true_dynamics_updated' target=\"_blank\">Weights & Biases</a> (<a href='https://wandb.me/run' target=\"_blank\">docs</a>)<br/>Sweep page: <a href='https://wandb.ai/zekai-wang/cs285_proj_get_action_true_dynamics_updated/sweeps/ok4muk7m' target=\"_blank\">https://wandb.ai/zekai-wang/cs285_proj_get_action_true_dynamics_updated/sweeps/ok4muk7m</a>"
      ],
      "text/plain": [
       "<IPython.core.display.HTML object>"
      ]
     },
     "metadata": {},
     "output_type": "display_data"
    },
    {
     "data": {
      "text/html": [
       " View project at <a href='https://wandb.ai/zekai-wang/cs285_proj_get_action_true_dynamics_updated' target=\"_blank\">https://wandb.ai/zekai-wang/cs285_proj_get_action_true_dynamics_updated</a>"
      ],
      "text/plain": [
       "<IPython.core.display.HTML object>"
      ]
     },
     "metadata": {},
     "output_type": "display_data"
    },
    {
     "data": {
      "text/html": [
       " View sweep at <a href='https://wandb.ai/zekai-wang/cs285_proj_get_action_true_dynamics_updated/sweeps/ok4muk7m' target=\"_blank\">https://wandb.ai/zekai-wang/cs285_proj_get_action_true_dynamics_updated/sweeps/ok4muk7m</a>"
      ],
      "text/plain": [
       "<IPython.core.display.HTML object>"
      ]
     },
     "metadata": {},
     "output_type": "display_data"
    },
    {
     "data": {
      "text/html": [
       " View run at <a href='https://wandb.ai/zekai-wang/cs285_proj_get_action_true_dynamics_updated/runs/br7fow7t' target=\"_blank\">https://wandb.ai/zekai-wang/cs285_proj_get_action_true_dynamics_updated/runs/br7fow7t</a>"
      ],
      "text/plain": [
       "<IPython.core.display.HTML object>"
      ]
     },
     "metadata": {},
     "output_type": "display_data"
    },
    {
     "name": "stderr",
     "output_type": "stream",
     "text": [
      "100%|██████████| 10/10 [00:15<00:00,  1.53s/it]\n"
     ]
    },
    {
     "name": "stdout",
     "output_type": "stream",
     "text": [
      "mean -1380.2034\n",
      "std 247.88675\n",
      "min -1711.669\n",
      "max -970.1911\n"
     ]
    },
    {
     "data": {
      "application/vnd.jupyter.widget-view+json": {
       "model_id": "5dc451876a3d48d684bb9766586f69de",
       "version_major": 2,
       "version_minor": 0
      },
      "text/plain": [
       "VBox(children=(Label(value='0.004 MB of 0.004 MB uploaded\\r'), FloatProgress(value=1.0, max=1.0)))"
      ]
     },
     "metadata": {},
     "output_type": "display_data"
    },
    {
     "data": {
      "text/html": [
       "<style>\n",
       "    table.wandb td:nth-child(1) { padding: 0 10px; text-align: left ; width: auto;} td:nth-child(2) {text-align: left ; width: 100%}\n",
       "    .wandb-row { display: flex; flex-direction: row; flex-wrap: wrap; justify-content: flex-start; width: 100% }\n",
       "    .wandb-col { display: flex; flex-direction: column; flex-basis: 100%; flex: 1; padding: 10px; }\n",
       "    </style>\n",
       "<div class=\"wandb-row\"><div class=\"wandb-col\"><h3>Run history:</h3><br/><table class=\"wandb\"><tr><td>max</td><td>▁</td></tr><tr><td>mean</td><td>▁</td></tr><tr><td>min</td><td>▁</td></tr><tr><td>std</td><td>▁</td></tr></table><br/></div><div class=\"wandb-col\"><h3>Run summary:</h3><br/><table class=\"wandb\"><tr><td>max</td><td>-970.1911</td></tr><tr><td>mean</td><td>-1380.20337</td></tr><tr><td>min</td><td>-1711.66895</td></tr><tr><td>std</td><td>247.88675</td></tr></table><br/></div></div>"
      ],
      "text/plain": [
       "<IPython.core.display.HTML object>"
      ]
     },
     "metadata": {},
     "output_type": "display_data"
    },
    {
     "data": {
      "text/html": [
       " View run <strong style=\"color:#cdcd00\">lunar-sweep-55</strong> at: <a href='https://wandb.ai/zekai-wang/cs285_proj_get_action_true_dynamics_updated/runs/br7fow7t' target=\"_blank\">https://wandb.ai/zekai-wang/cs285_proj_get_action_true_dynamics_updated/runs/br7fow7t</a><br/>Synced 6 W&B file(s), 0 media file(s), 0 artifact file(s) and 0 other file(s)"
      ],
      "text/plain": [
       "<IPython.core.display.HTML object>"
      ]
     },
     "metadata": {},
     "output_type": "display_data"
    },
    {
     "data": {
      "text/html": [
       "Find logs at: <code>./wandb/run-20231210_001038-br7fow7t/logs</code>"
      ],
      "text/plain": [
       "<IPython.core.display.HTML object>"
      ]
     },
     "metadata": {},
     "output_type": "display_data"
    },
    {
     "name": "stderr",
     "output_type": "stream",
     "text": [
      "\u001b[34m\u001b[1mwandb\u001b[0m: Agent Starting Run: 7ihz9e2c with config:\n",
      "\u001b[34m\u001b[1mwandb\u001b[0m: \tcem_alpha: 0.5\n",
      "\u001b[34m\u001b[1mwandb\u001b[0m: \tcem_num_elites: 16\n",
      "\u001b[34m\u001b[1mwandb\u001b[0m: \tcem_num_iters: 2\n",
      "\u001b[34m\u001b[1mwandb\u001b[0m: \tmpc_discount: 0.95\n",
      "\u001b[34m\u001b[1mwandb\u001b[0m: \tmpc_horizon_steps: 20\n",
      "\u001b[34m\u001b[1mwandb\u001b[0m: \tmpc_num_action_sequences: 500\n",
      "\u001b[34m\u001b[1mwandb\u001b[0m: \tmpc_strategy: random\n",
      "/home/zekai/miniconda3/envs/cs285_proj/lib/python3.9/site-packages/ipywidgets/widgets/widget.py:528: DeprecationWarning: The `ipykernel.comm.Comm` class has been deprecated. Please use the `comm` module instead.For creating comms, use the function `from comm import create_comm`.\n",
      "  self.comm = Comm(**args)\n",
      "/home/zekai/miniconda3/envs/cs285_proj/lib/python3.9/site-packages/wandb/sdk/lib/ipython.py:77: DeprecationWarning: Importing display from IPython.core.display is deprecated since IPython 7.14, please import from IPython display\n",
      "  from IPython.core.display import HTML, display  # type: ignore\n"
     ]
    },
    {
     "data": {
      "text/html": [
       "Tracking run with wandb version 0.16.1"
      ],
      "text/plain": [
       "<IPython.core.display.HTML object>"
      ]
     },
     "metadata": {},
     "output_type": "display_data"
    },
    {
     "data": {
      "text/html": [
       "Run data is saved locally in <code>/home/zekai/repos/cs285_proj/notebooks/wandb/run-20231210_001103-7ihz9e2c</code>"
      ],
      "text/plain": [
       "<IPython.core.display.HTML object>"
      ]
     },
     "metadata": {},
     "output_type": "display_data"
    },
    {
     "data": {
      "text/html": [
       "Syncing run <strong><a href='https://wandb.ai/zekai-wang/cs285_proj_get_action_true_dynamics_updated/runs/7ihz9e2c' target=\"_blank\">stoic-sweep-56</a></strong> to <a href='https://wandb.ai/zekai-wang/cs285_proj_get_action_true_dynamics_updated' target=\"_blank\">Weights & Biases</a> (<a href='https://wandb.me/run' target=\"_blank\">docs</a>)<br/>Sweep page: <a href='https://wandb.ai/zekai-wang/cs285_proj_get_action_true_dynamics_updated/sweeps/ok4muk7m' target=\"_blank\">https://wandb.ai/zekai-wang/cs285_proj_get_action_true_dynamics_updated/sweeps/ok4muk7m</a>"
      ],
      "text/plain": [
       "<IPython.core.display.HTML object>"
      ]
     },
     "metadata": {},
     "output_type": "display_data"
    },
    {
     "data": {
      "text/html": [
       " View project at <a href='https://wandb.ai/zekai-wang/cs285_proj_get_action_true_dynamics_updated' target=\"_blank\">https://wandb.ai/zekai-wang/cs285_proj_get_action_true_dynamics_updated</a>"
      ],
      "text/plain": [
       "<IPython.core.display.HTML object>"
      ]
     },
     "metadata": {},
     "output_type": "display_data"
    },
    {
     "data": {
      "text/html": [
       " View sweep at <a href='https://wandb.ai/zekai-wang/cs285_proj_get_action_true_dynamics_updated/sweeps/ok4muk7m' target=\"_blank\">https://wandb.ai/zekai-wang/cs285_proj_get_action_true_dynamics_updated/sweeps/ok4muk7m</a>"
      ],
      "text/plain": [
       "<IPython.core.display.HTML object>"
      ]
     },
     "metadata": {},
     "output_type": "display_data"
    },
    {
     "data": {
      "text/html": [
       " View run at <a href='https://wandb.ai/zekai-wang/cs285_proj_get_action_true_dynamics_updated/runs/7ihz9e2c' target=\"_blank\">https://wandb.ai/zekai-wang/cs285_proj_get_action_true_dynamics_updated/runs/7ihz9e2c</a>"
      ],
      "text/plain": [
       "<IPython.core.display.HTML object>"
      ]
     },
     "metadata": {},
     "output_type": "display_data"
    },
    {
     "name": "stderr",
     "output_type": "stream",
     "text": [
      "100%|██████████| 10/10 [00:15<00:00,  1.51s/it]\n"
     ]
    },
    {
     "name": "stdout",
     "output_type": "stream",
     "text": [
      "mean -1212.8126\n",
      "std 275.92957\n",
      "min -1625.1586\n",
      "max -891.19586\n"
     ]
    },
    {
     "data": {
      "application/vnd.jupyter.widget-view+json": {
       "model_id": "b6d4beab0b5c4c48ade008c351cb4ab9",
       "version_major": 2,
       "version_minor": 0
      },
      "text/plain": [
       "VBox(children=(Label(value='0.004 MB of 0.004 MB uploaded\\r'), FloatProgress(value=1.0, max=1.0)))"
      ]
     },
     "metadata": {},
     "output_type": "display_data"
    },
    {
     "data": {
      "text/html": [
       "<style>\n",
       "    table.wandb td:nth-child(1) { padding: 0 10px; text-align: left ; width: auto;} td:nth-child(2) {text-align: left ; width: 100%}\n",
       "    .wandb-row { display: flex; flex-direction: row; flex-wrap: wrap; justify-content: flex-start; width: 100% }\n",
       "    .wandb-col { display: flex; flex-direction: column; flex-basis: 100%; flex: 1; padding: 10px; }\n",
       "    </style>\n",
       "<div class=\"wandb-row\"><div class=\"wandb-col\"><h3>Run history:</h3><br/><table class=\"wandb\"><tr><td>max</td><td>▁</td></tr><tr><td>mean</td><td>▁</td></tr><tr><td>min</td><td>▁</td></tr><tr><td>std</td><td>▁</td></tr></table><br/></div><div class=\"wandb-col\"><h3>Run summary:</h3><br/><table class=\"wandb\"><tr><td>max</td><td>-891.19586</td></tr><tr><td>mean</td><td>-1212.81262</td></tr><tr><td>min</td><td>-1625.15857</td></tr><tr><td>std</td><td>275.92957</td></tr></table><br/></div></div>"
      ],
      "text/plain": [
       "<IPython.core.display.HTML object>"
      ]
     },
     "metadata": {},
     "output_type": "display_data"
    },
    {
     "data": {
      "text/html": [
       " View run <strong style=\"color:#cdcd00\">stoic-sweep-56</strong> at: <a href='https://wandb.ai/zekai-wang/cs285_proj_get_action_true_dynamics_updated/runs/7ihz9e2c' target=\"_blank\">https://wandb.ai/zekai-wang/cs285_proj_get_action_true_dynamics_updated/runs/7ihz9e2c</a><br/>Synced 6 W&B file(s), 0 media file(s), 0 artifact file(s) and 0 other file(s)"
      ],
      "text/plain": [
       "<IPython.core.display.HTML object>"
      ]
     },
     "metadata": {},
     "output_type": "display_data"
    },
    {
     "data": {
      "text/html": [
       "Find logs at: <code>./wandb/run-20231210_001103-7ihz9e2c/logs</code>"
      ],
      "text/plain": [
       "<IPython.core.display.HTML object>"
      ]
     },
     "metadata": {},
     "output_type": "display_data"
    },
    {
     "name": "stderr",
     "output_type": "stream",
     "text": [
      "\u001b[34m\u001b[1mwandb\u001b[0m: Agent Starting Run: qn4who61 with config:\n",
      "\u001b[34m\u001b[1mwandb\u001b[0m: \tcem_alpha: 1\n",
      "\u001b[34m\u001b[1mwandb\u001b[0m: \tcem_num_elites: 8\n",
      "\u001b[34m\u001b[1mwandb\u001b[0m: \tcem_num_iters: 16\n",
      "\u001b[34m\u001b[1mwandb\u001b[0m: \tmpc_discount: 0.9\n",
      "\u001b[34m\u001b[1mwandb\u001b[0m: \tmpc_horizon_steps: 50\n",
      "\u001b[34m\u001b[1mwandb\u001b[0m: \tmpc_num_action_sequences: 100\n",
      "\u001b[34m\u001b[1mwandb\u001b[0m: \tmpc_strategy: random\n",
      "/home/zekai/miniconda3/envs/cs285_proj/lib/python3.9/site-packages/ipywidgets/widgets/widget.py:528: DeprecationWarning: The `ipykernel.comm.Comm` class has been deprecated. Please use the `comm` module instead.For creating comms, use the function `from comm import create_comm`.\n",
      "  self.comm = Comm(**args)\n",
      "/home/zekai/miniconda3/envs/cs285_proj/lib/python3.9/site-packages/wandb/sdk/lib/ipython.py:77: DeprecationWarning: Importing display from IPython.core.display is deprecated since IPython 7.14, please import from IPython display\n",
      "  from IPython.core.display import HTML, display  # type: ignore\n"
     ]
    },
    {
     "data": {
      "text/html": [
       "Tracking run with wandb version 0.16.1"
      ],
      "text/plain": [
       "<IPython.core.display.HTML object>"
      ]
     },
     "metadata": {},
     "output_type": "display_data"
    },
    {
     "data": {
      "text/html": [
       "Run data is saved locally in <code>/home/zekai/repos/cs285_proj/notebooks/wandb/run-20231210_001132-qn4who61</code>"
      ],
      "text/plain": [
       "<IPython.core.display.HTML object>"
      ]
     },
     "metadata": {},
     "output_type": "display_data"
    },
    {
     "data": {
      "text/html": [
       "Syncing run <strong><a href='https://wandb.ai/zekai-wang/cs285_proj_get_action_true_dynamics_updated/runs/qn4who61' target=\"_blank\">devout-sweep-57</a></strong> to <a href='https://wandb.ai/zekai-wang/cs285_proj_get_action_true_dynamics_updated' target=\"_blank\">Weights & Biases</a> (<a href='https://wandb.me/run' target=\"_blank\">docs</a>)<br/>Sweep page: <a href='https://wandb.ai/zekai-wang/cs285_proj_get_action_true_dynamics_updated/sweeps/ok4muk7m' target=\"_blank\">https://wandb.ai/zekai-wang/cs285_proj_get_action_true_dynamics_updated/sweeps/ok4muk7m</a>"
      ],
      "text/plain": [
       "<IPython.core.display.HTML object>"
      ]
     },
     "metadata": {},
     "output_type": "display_data"
    },
    {
     "data": {
      "text/html": [
       " View project at <a href='https://wandb.ai/zekai-wang/cs285_proj_get_action_true_dynamics_updated' target=\"_blank\">https://wandb.ai/zekai-wang/cs285_proj_get_action_true_dynamics_updated</a>"
      ],
      "text/plain": [
       "<IPython.core.display.HTML object>"
      ]
     },
     "metadata": {},
     "output_type": "display_data"
    },
    {
     "data": {
      "text/html": [
       " View sweep at <a href='https://wandb.ai/zekai-wang/cs285_proj_get_action_true_dynamics_updated/sweeps/ok4muk7m' target=\"_blank\">https://wandb.ai/zekai-wang/cs285_proj_get_action_true_dynamics_updated/sweeps/ok4muk7m</a>"
      ],
      "text/plain": [
       "<IPython.core.display.HTML object>"
      ]
     },
     "metadata": {},
     "output_type": "display_data"
    },
    {
     "data": {
      "text/html": [
       " View run at <a href='https://wandb.ai/zekai-wang/cs285_proj_get_action_true_dynamics_updated/runs/qn4who61' target=\"_blank\">https://wandb.ai/zekai-wang/cs285_proj_get_action_true_dynamics_updated/runs/qn4who61</a>"
      ],
      "text/plain": [
       "<IPython.core.display.HTML object>"
      ]
     },
     "metadata": {},
     "output_type": "display_data"
    },
    {
     "name": "stderr",
     "output_type": "stream",
     "text": [
      "100%|██████████| 10/10 [00:15<00:00,  1.52s/it]\n"
     ]
    },
    {
     "name": "stdout",
     "output_type": "stream",
     "text": [
      "mean -1085.1796\n",
      "std 259.10425\n",
      "min -1604.2644\n",
      "max -736.98816\n"
     ]
    },
    {
     "data": {
      "application/vnd.jupyter.widget-view+json": {
       "model_id": "149b242a3d034d3d80d753102ac6e446",
       "version_major": 2,
       "version_minor": 0
      },
      "text/plain": [
       "VBox(children=(Label(value='0.004 MB of 0.004 MB uploaded\\r'), FloatProgress(value=1.0, max=1.0)))"
      ]
     },
     "metadata": {},
     "output_type": "display_data"
    },
    {
     "data": {
      "text/html": [
       "<style>\n",
       "    table.wandb td:nth-child(1) { padding: 0 10px; text-align: left ; width: auto;} td:nth-child(2) {text-align: left ; width: 100%}\n",
       "    .wandb-row { display: flex; flex-direction: row; flex-wrap: wrap; justify-content: flex-start; width: 100% }\n",
       "    .wandb-col { display: flex; flex-direction: column; flex-basis: 100%; flex: 1; padding: 10px; }\n",
       "    </style>\n",
       "<div class=\"wandb-row\"><div class=\"wandb-col\"><h3>Run history:</h3><br/><table class=\"wandb\"><tr><td>max</td><td>▁</td></tr><tr><td>mean</td><td>▁</td></tr><tr><td>min</td><td>▁</td></tr><tr><td>std</td><td>▁</td></tr></table><br/></div><div class=\"wandb-col\"><h3>Run summary:</h3><br/><table class=\"wandb\"><tr><td>max</td><td>-736.98816</td></tr><tr><td>mean</td><td>-1085.17957</td></tr><tr><td>min</td><td>-1604.2644</td></tr><tr><td>std</td><td>259.10425</td></tr></table><br/></div></div>"
      ],
      "text/plain": [
       "<IPython.core.display.HTML object>"
      ]
     },
     "metadata": {},
     "output_type": "display_data"
    },
    {
     "data": {
      "text/html": [
       " View run <strong style=\"color:#cdcd00\">devout-sweep-57</strong> at: <a href='https://wandb.ai/zekai-wang/cs285_proj_get_action_true_dynamics_updated/runs/qn4who61' target=\"_blank\">https://wandb.ai/zekai-wang/cs285_proj_get_action_true_dynamics_updated/runs/qn4who61</a><br/>Synced 6 W&B file(s), 0 media file(s), 0 artifact file(s) and 0 other file(s)"
      ],
      "text/plain": [
       "<IPython.core.display.HTML object>"
      ]
     },
     "metadata": {},
     "output_type": "display_data"
    },
    {
     "data": {
      "text/html": [
       "Find logs at: <code>./wandb/run-20231210_001132-qn4who61/logs</code>"
      ],
      "text/plain": [
       "<IPython.core.display.HTML object>"
      ]
     },
     "metadata": {},
     "output_type": "display_data"
    },
    {
     "name": "stderr",
     "output_type": "stream",
     "text": [
      "\u001b[34m\u001b[1mwandb\u001b[0m: Agent Starting Run: 2kykarou with config:\n",
      "\u001b[34m\u001b[1mwandb\u001b[0m: \tcem_alpha: 0.95\n",
      "\u001b[34m\u001b[1mwandb\u001b[0m: \tcem_num_elites: 1\n",
      "\u001b[34m\u001b[1mwandb\u001b[0m: \tcem_num_iters: 4\n",
      "\u001b[34m\u001b[1mwandb\u001b[0m: \tmpc_discount: 0.99\n",
      "\u001b[34m\u001b[1mwandb\u001b[0m: \tmpc_horizon_steps: 5\n",
      "\u001b[34m\u001b[1mwandb\u001b[0m: \tmpc_num_action_sequences: 5000\n",
      "\u001b[34m\u001b[1mwandb\u001b[0m: \tmpc_strategy: random\n",
      "/home/zekai/miniconda3/envs/cs285_proj/lib/python3.9/site-packages/ipywidgets/widgets/widget.py:528: DeprecationWarning: The `ipykernel.comm.Comm` class has been deprecated. Please use the `comm` module instead.For creating comms, use the function `from comm import create_comm`.\n",
      "  self.comm = Comm(**args)\n",
      "/home/zekai/miniconda3/envs/cs285_proj/lib/python3.9/site-packages/wandb/sdk/lib/ipython.py:77: DeprecationWarning: Importing display from IPython.core.display is deprecated since IPython 7.14, please import from IPython display\n",
      "  from IPython.core.display import HTML, display  # type: ignore\n"
     ]
    },
    {
     "data": {
      "text/html": [
       "Tracking run with wandb version 0.16.1"
      ],
      "text/plain": [
       "<IPython.core.display.HTML object>"
      ]
     },
     "metadata": {},
     "output_type": "display_data"
    },
    {
     "data": {
      "text/html": [
       "Run data is saved locally in <code>/home/zekai/repos/cs285_proj/notebooks/wandb/run-20231210_001158-2kykarou</code>"
      ],
      "text/plain": [
       "<IPython.core.display.HTML object>"
      ]
     },
     "metadata": {},
     "output_type": "display_data"
    },
    {
     "data": {
      "text/html": [
       "Syncing run <strong><a href='https://wandb.ai/zekai-wang/cs285_proj_get_action_true_dynamics_updated/runs/2kykarou' target=\"_blank\">true-sweep-58</a></strong> to <a href='https://wandb.ai/zekai-wang/cs285_proj_get_action_true_dynamics_updated' target=\"_blank\">Weights & Biases</a> (<a href='https://wandb.me/run' target=\"_blank\">docs</a>)<br/>Sweep page: <a href='https://wandb.ai/zekai-wang/cs285_proj_get_action_true_dynamics_updated/sweeps/ok4muk7m' target=\"_blank\">https://wandb.ai/zekai-wang/cs285_proj_get_action_true_dynamics_updated/sweeps/ok4muk7m</a>"
      ],
      "text/plain": [
       "<IPython.core.display.HTML object>"
      ]
     },
     "metadata": {},
     "output_type": "display_data"
    },
    {
     "data": {
      "text/html": [
       " View project at <a href='https://wandb.ai/zekai-wang/cs285_proj_get_action_true_dynamics_updated' target=\"_blank\">https://wandb.ai/zekai-wang/cs285_proj_get_action_true_dynamics_updated</a>"
      ],
      "text/plain": [
       "<IPython.core.display.HTML object>"
      ]
     },
     "metadata": {},
     "output_type": "display_data"
    },
    {
     "data": {
      "text/html": [
       " View sweep at <a href='https://wandb.ai/zekai-wang/cs285_proj_get_action_true_dynamics_updated/sweeps/ok4muk7m' target=\"_blank\">https://wandb.ai/zekai-wang/cs285_proj_get_action_true_dynamics_updated/sweeps/ok4muk7m</a>"
      ],
      "text/plain": [
       "<IPython.core.display.HTML object>"
      ]
     },
     "metadata": {},
     "output_type": "display_data"
    },
    {
     "data": {
      "text/html": [
       " View run at <a href='https://wandb.ai/zekai-wang/cs285_proj_get_action_true_dynamics_updated/runs/2kykarou' target=\"_blank\">https://wandb.ai/zekai-wang/cs285_proj_get_action_true_dynamics_updated/runs/2kykarou</a>"
      ],
      "text/plain": [
       "<IPython.core.display.HTML object>"
      ]
     },
     "metadata": {},
     "output_type": "display_data"
    },
    {
     "name": "stderr",
     "output_type": "stream",
     "text": [
      "100%|██████████| 10/10 [00:14<00:00,  1.50s/it]\n"
     ]
    },
    {
     "name": "stdout",
     "output_type": "stream",
     "text": [
      "mean -1185.4568\n",
      "std 267.01956\n",
      "min -1497.8552\n",
      "max -749.23846\n"
     ]
    },
    {
     "data": {
      "application/vnd.jupyter.widget-view+json": {
       "model_id": "35ff2ee33dec4c9a92be7efd6388c04d",
       "version_major": 2,
       "version_minor": 0
      },
      "text/plain": [
       "VBox(children=(Label(value='0.004 MB of 0.004 MB uploaded\\r'), FloatProgress(value=1.0, max=1.0)))"
      ]
     },
     "metadata": {},
     "output_type": "display_data"
    },
    {
     "data": {
      "text/html": [
       "<style>\n",
       "    table.wandb td:nth-child(1) { padding: 0 10px; text-align: left ; width: auto;} td:nth-child(2) {text-align: left ; width: 100%}\n",
       "    .wandb-row { display: flex; flex-direction: row; flex-wrap: wrap; justify-content: flex-start; width: 100% }\n",
       "    .wandb-col { display: flex; flex-direction: column; flex-basis: 100%; flex: 1; padding: 10px; }\n",
       "    </style>\n",
       "<div class=\"wandb-row\"><div class=\"wandb-col\"><h3>Run history:</h3><br/><table class=\"wandb\"><tr><td>max</td><td>▁</td></tr><tr><td>mean</td><td>▁</td></tr><tr><td>min</td><td>▁</td></tr><tr><td>std</td><td>▁</td></tr></table><br/></div><div class=\"wandb-col\"><h3>Run summary:</h3><br/><table class=\"wandb\"><tr><td>max</td><td>-749.23846</td></tr><tr><td>mean</td><td>-1185.45679</td></tr><tr><td>min</td><td>-1497.85522</td></tr><tr><td>std</td><td>267.01956</td></tr></table><br/></div></div>"
      ],
      "text/plain": [
       "<IPython.core.display.HTML object>"
      ]
     },
     "metadata": {},
     "output_type": "display_data"
    },
    {
     "data": {
      "text/html": [
       " View run <strong style=\"color:#cdcd00\">true-sweep-58</strong> at: <a href='https://wandb.ai/zekai-wang/cs285_proj_get_action_true_dynamics_updated/runs/2kykarou' target=\"_blank\">https://wandb.ai/zekai-wang/cs285_proj_get_action_true_dynamics_updated/runs/2kykarou</a><br/>Synced 6 W&B file(s), 0 media file(s), 0 artifact file(s) and 0 other file(s)"
      ],
      "text/plain": [
       "<IPython.core.display.HTML object>"
      ]
     },
     "metadata": {},
     "output_type": "display_data"
    },
    {
     "data": {
      "text/html": [
       "Find logs at: <code>./wandb/run-20231210_001158-2kykarou/logs</code>"
      ],
      "text/plain": [
       "<IPython.core.display.HTML object>"
      ]
     },
     "metadata": {},
     "output_type": "display_data"
    },
    {
     "name": "stderr",
     "output_type": "stream",
     "text": [
      "\u001b[34m\u001b[1mwandb\u001b[0m: Agent Starting Run: x165jpb8 with config:\n",
      "\u001b[34m\u001b[1mwandb\u001b[0m: \tcem_alpha: 1\n",
      "\u001b[34m\u001b[1mwandb\u001b[0m: \tcem_num_elites: 1\n",
      "\u001b[34m\u001b[1mwandb\u001b[0m: \tcem_num_iters: 8\n",
      "\u001b[34m\u001b[1mwandb\u001b[0m: \tmpc_discount: 0.8\n",
      "\u001b[34m\u001b[1mwandb\u001b[0m: \tmpc_horizon_steps: 10\n",
      "\u001b[34m\u001b[1mwandb\u001b[0m: \tmpc_num_action_sequences: 500\n",
      "\u001b[34m\u001b[1mwandb\u001b[0m: \tmpc_strategy: random\n",
      "/home/zekai/miniconda3/envs/cs285_proj/lib/python3.9/site-packages/ipywidgets/widgets/widget.py:528: DeprecationWarning: The `ipykernel.comm.Comm` class has been deprecated. Please use the `comm` module instead.For creating comms, use the function `from comm import create_comm`.\n",
      "  self.comm = Comm(**args)\n",
      "/home/zekai/miniconda3/envs/cs285_proj/lib/python3.9/site-packages/wandb/sdk/lib/ipython.py:77: DeprecationWarning: Importing display from IPython.core.display is deprecated since IPython 7.14, please import from IPython display\n",
      "  from IPython.core.display import HTML, display  # type: ignore\n"
     ]
    },
    {
     "data": {
      "text/html": [
       "Tracking run with wandb version 0.16.1"
      ],
      "text/plain": [
       "<IPython.core.display.HTML object>"
      ]
     },
     "metadata": {},
     "output_type": "display_data"
    },
    {
     "data": {
      "text/html": [
       "Run data is saved locally in <code>/home/zekai/repos/cs285_proj/notebooks/wandb/run-20231210_001223-x165jpb8</code>"
      ],
      "text/plain": [
       "<IPython.core.display.HTML object>"
      ]
     },
     "metadata": {},
     "output_type": "display_data"
    },
    {
     "data": {
      "text/html": [
       "Syncing run <strong><a href='https://wandb.ai/zekai-wang/cs285_proj_get_action_true_dynamics_updated/runs/x165jpb8' target=\"_blank\">glad-sweep-59</a></strong> to <a href='https://wandb.ai/zekai-wang/cs285_proj_get_action_true_dynamics_updated' target=\"_blank\">Weights & Biases</a> (<a href='https://wandb.me/run' target=\"_blank\">docs</a>)<br/>Sweep page: <a href='https://wandb.ai/zekai-wang/cs285_proj_get_action_true_dynamics_updated/sweeps/ok4muk7m' target=\"_blank\">https://wandb.ai/zekai-wang/cs285_proj_get_action_true_dynamics_updated/sweeps/ok4muk7m</a>"
      ],
      "text/plain": [
       "<IPython.core.display.HTML object>"
      ]
     },
     "metadata": {},
     "output_type": "display_data"
    },
    {
     "data": {
      "text/html": [
       " View project at <a href='https://wandb.ai/zekai-wang/cs285_proj_get_action_true_dynamics_updated' target=\"_blank\">https://wandb.ai/zekai-wang/cs285_proj_get_action_true_dynamics_updated</a>"
      ],
      "text/plain": [
       "<IPython.core.display.HTML object>"
      ]
     },
     "metadata": {},
     "output_type": "display_data"
    },
    {
     "data": {
      "text/html": [
       " View sweep at <a href='https://wandb.ai/zekai-wang/cs285_proj_get_action_true_dynamics_updated/sweeps/ok4muk7m' target=\"_blank\">https://wandb.ai/zekai-wang/cs285_proj_get_action_true_dynamics_updated/sweeps/ok4muk7m</a>"
      ],
      "text/plain": [
       "<IPython.core.display.HTML object>"
      ]
     },
     "metadata": {},
     "output_type": "display_data"
    },
    {
     "data": {
      "text/html": [
       " View run at <a href='https://wandb.ai/zekai-wang/cs285_proj_get_action_true_dynamics_updated/runs/x165jpb8' target=\"_blank\">https://wandb.ai/zekai-wang/cs285_proj_get_action_true_dynamics_updated/runs/x165jpb8</a>"
      ],
      "text/plain": [
       "<IPython.core.display.HTML object>"
      ]
     },
     "metadata": {},
     "output_type": "display_data"
    },
    {
     "name": "stderr",
     "output_type": "stream",
     "text": [
      "100%|██████████| 10/10 [00:15<00:00,  1.52s/it]\n"
     ]
    },
    {
     "name": "stdout",
     "output_type": "stream",
     "text": [
      "mean -1195.5797\n",
      "std 305.48813\n",
      "min -1754.2183\n",
      "max -845.0111\n"
     ]
    },
    {
     "data": {
      "application/vnd.jupyter.widget-view+json": {
       "model_id": "9d5684f1eafd44309839ea77678cd869",
       "version_major": 2,
       "version_minor": 0
      },
      "text/plain": [
       "VBox(children=(Label(value='0.004 MB of 0.004 MB uploaded\\r'), FloatProgress(value=1.0, max=1.0)))"
      ]
     },
     "metadata": {},
     "output_type": "display_data"
    },
    {
     "data": {
      "text/html": [
       "<style>\n",
       "    table.wandb td:nth-child(1) { padding: 0 10px; text-align: left ; width: auto;} td:nth-child(2) {text-align: left ; width: 100%}\n",
       "    .wandb-row { display: flex; flex-direction: row; flex-wrap: wrap; justify-content: flex-start; width: 100% }\n",
       "    .wandb-col { display: flex; flex-direction: column; flex-basis: 100%; flex: 1; padding: 10px; }\n",
       "    </style>\n",
       "<div class=\"wandb-row\"><div class=\"wandb-col\"><h3>Run history:</h3><br/><table class=\"wandb\"><tr><td>max</td><td>▁</td></tr><tr><td>mean</td><td>▁</td></tr><tr><td>min</td><td>▁</td></tr><tr><td>std</td><td>▁</td></tr></table><br/></div><div class=\"wandb-col\"><h3>Run summary:</h3><br/><table class=\"wandb\"><tr><td>max</td><td>-845.01111</td></tr><tr><td>mean</td><td>-1195.57971</td></tr><tr><td>min</td><td>-1754.21826</td></tr><tr><td>std</td><td>305.48813</td></tr></table><br/></div></div>"
      ],
      "text/plain": [
       "<IPython.core.display.HTML object>"
      ]
     },
     "metadata": {},
     "output_type": "display_data"
    },
    {
     "data": {
      "text/html": [
       " View run <strong style=\"color:#cdcd00\">glad-sweep-59</strong> at: <a href='https://wandb.ai/zekai-wang/cs285_proj_get_action_true_dynamics_updated/runs/x165jpb8' target=\"_blank\">https://wandb.ai/zekai-wang/cs285_proj_get_action_true_dynamics_updated/runs/x165jpb8</a><br/>Synced 6 W&B file(s), 0 media file(s), 0 artifact file(s) and 0 other file(s)"
      ],
      "text/plain": [
       "<IPython.core.display.HTML object>"
      ]
     },
     "metadata": {},
     "output_type": "display_data"
    },
    {
     "data": {
      "text/html": [
       "Find logs at: <code>./wandb/run-20231210_001223-x165jpb8/logs</code>"
      ],
      "text/plain": [
       "<IPython.core.display.HTML object>"
      ]
     },
     "metadata": {},
     "output_type": "display_data"
    },
    {
     "name": "stderr",
     "output_type": "stream",
     "text": [
      "\u001b[34m\u001b[1mwandb\u001b[0m: Agent Starting Run: 87okyxs9 with config:\n",
      "\u001b[34m\u001b[1mwandb\u001b[0m: \tcem_alpha: 0.9\n",
      "\u001b[34m\u001b[1mwandb\u001b[0m: \tcem_num_elites: 1\n",
      "\u001b[34m\u001b[1mwandb\u001b[0m: \tcem_num_iters: 2\n",
      "\u001b[34m\u001b[1mwandb\u001b[0m: \tmpc_discount: 1\n",
      "\u001b[34m\u001b[1mwandb\u001b[0m: \tmpc_horizon_steps: 50\n",
      "\u001b[34m\u001b[1mwandb\u001b[0m: \tmpc_num_action_sequences: 500\n",
      "\u001b[34m\u001b[1mwandb\u001b[0m: \tmpc_strategy: random\n",
      "/home/zekai/miniconda3/envs/cs285_proj/lib/python3.9/site-packages/ipywidgets/widgets/widget.py:528: DeprecationWarning: The `ipykernel.comm.Comm` class has been deprecated. Please use the `comm` module instead.For creating comms, use the function `from comm import create_comm`.\n",
      "  self.comm = Comm(**args)\n",
      "/home/zekai/miniconda3/envs/cs285_proj/lib/python3.9/site-packages/wandb/sdk/lib/ipython.py:77: DeprecationWarning: Importing display from IPython.core.display is deprecated since IPython 7.14, please import from IPython display\n",
      "  from IPython.core.display import HTML, display  # type: ignore\n"
     ]
    },
    {
     "data": {
      "text/html": [
       "Tracking run with wandb version 0.16.1"
      ],
      "text/plain": [
       "<IPython.core.display.HTML object>"
      ]
     },
     "metadata": {},
     "output_type": "display_data"
    },
    {
     "data": {
      "text/html": [
       "Run data is saved locally in <code>/home/zekai/repos/cs285_proj/notebooks/wandb/run-20231210_001249-87okyxs9</code>"
      ],
      "text/plain": [
       "<IPython.core.display.HTML object>"
      ]
     },
     "metadata": {},
     "output_type": "display_data"
    },
    {
     "data": {
      "text/html": [
       "Syncing run <strong><a href='https://wandb.ai/zekai-wang/cs285_proj_get_action_true_dynamics_updated/runs/87okyxs9' target=\"_blank\">earnest-sweep-60</a></strong> to <a href='https://wandb.ai/zekai-wang/cs285_proj_get_action_true_dynamics_updated' target=\"_blank\">Weights & Biases</a> (<a href='https://wandb.me/run' target=\"_blank\">docs</a>)<br/>Sweep page: <a href='https://wandb.ai/zekai-wang/cs285_proj_get_action_true_dynamics_updated/sweeps/ok4muk7m' target=\"_blank\">https://wandb.ai/zekai-wang/cs285_proj_get_action_true_dynamics_updated/sweeps/ok4muk7m</a>"
      ],
      "text/plain": [
       "<IPython.core.display.HTML object>"
      ]
     },
     "metadata": {},
     "output_type": "display_data"
    },
    {
     "data": {
      "text/html": [
       " View project at <a href='https://wandb.ai/zekai-wang/cs285_proj_get_action_true_dynamics_updated' target=\"_blank\">https://wandb.ai/zekai-wang/cs285_proj_get_action_true_dynamics_updated</a>"
      ],
      "text/plain": [
       "<IPython.core.display.HTML object>"
      ]
     },
     "metadata": {},
     "output_type": "display_data"
    },
    {
     "data": {
      "text/html": [
       " View sweep at <a href='https://wandb.ai/zekai-wang/cs285_proj_get_action_true_dynamics_updated/sweeps/ok4muk7m' target=\"_blank\">https://wandb.ai/zekai-wang/cs285_proj_get_action_true_dynamics_updated/sweeps/ok4muk7m</a>"
      ],
      "text/plain": [
       "<IPython.core.display.HTML object>"
      ]
     },
     "metadata": {},
     "output_type": "display_data"
    },
    {
     "data": {
      "text/html": [
       " View run at <a href='https://wandb.ai/zekai-wang/cs285_proj_get_action_true_dynamics_updated/runs/87okyxs9' target=\"_blank\">https://wandb.ai/zekai-wang/cs285_proj_get_action_true_dynamics_updated/runs/87okyxs9</a>"
      ],
      "text/plain": [
       "<IPython.core.display.HTML object>"
      ]
     },
     "metadata": {},
     "output_type": "display_data"
    },
    {
     "name": "stderr",
     "output_type": "stream",
     "text": [
      "100%|██████████| 10/10 [00:15<00:00,  1.56s/it]\n"
     ]
    },
    {
     "name": "stdout",
     "output_type": "stream",
     "text": [
      "mean -1190.904\n",
      "std 290.26846\n",
      "min -1811.5952\n",
      "max -873.4375\n"
     ]
    },
    {
     "data": {
      "application/vnd.jupyter.widget-view+json": {
       "model_id": "04dcafa2bc5649889f3c985661f8af20",
       "version_major": 2,
       "version_minor": 0
      },
      "text/plain": [
       "VBox(children=(Label(value='0.004 MB of 0.004 MB uploaded\\r'), FloatProgress(value=1.0, max=1.0)))"
      ]
     },
     "metadata": {},
     "output_type": "display_data"
    },
    {
     "data": {
      "text/html": [
       "<style>\n",
       "    table.wandb td:nth-child(1) { padding: 0 10px; text-align: left ; width: auto;} td:nth-child(2) {text-align: left ; width: 100%}\n",
       "    .wandb-row { display: flex; flex-direction: row; flex-wrap: wrap; justify-content: flex-start; width: 100% }\n",
       "    .wandb-col { display: flex; flex-direction: column; flex-basis: 100%; flex: 1; padding: 10px; }\n",
       "    </style>\n",
       "<div class=\"wandb-row\"><div class=\"wandb-col\"><h3>Run history:</h3><br/><table class=\"wandb\"><tr><td>max</td><td>▁</td></tr><tr><td>mean</td><td>▁</td></tr><tr><td>min</td><td>▁</td></tr><tr><td>std</td><td>▁</td></tr></table><br/></div><div class=\"wandb-col\"><h3>Run summary:</h3><br/><table class=\"wandb\"><tr><td>max</td><td>-873.4375</td></tr><tr><td>mean</td><td>-1190.90405</td></tr><tr><td>min</td><td>-1811.59521</td></tr><tr><td>std</td><td>290.26846</td></tr></table><br/></div></div>"
      ],
      "text/plain": [
       "<IPython.core.display.HTML object>"
      ]
     },
     "metadata": {},
     "output_type": "display_data"
    },
    {
     "data": {
      "text/html": [
       " View run <strong style=\"color:#cdcd00\">earnest-sweep-60</strong> at: <a href='https://wandb.ai/zekai-wang/cs285_proj_get_action_true_dynamics_updated/runs/87okyxs9' target=\"_blank\">https://wandb.ai/zekai-wang/cs285_proj_get_action_true_dynamics_updated/runs/87okyxs9</a><br/>Synced 6 W&B file(s), 0 media file(s), 0 artifact file(s) and 0 other file(s)"
      ],
      "text/plain": [
       "<IPython.core.display.HTML object>"
      ]
     },
     "metadata": {},
     "output_type": "display_data"
    },
    {
     "data": {
      "text/html": [
       "Find logs at: <code>./wandb/run-20231210_001249-87okyxs9/logs</code>"
      ],
      "text/plain": [
       "<IPython.core.display.HTML object>"
      ]
     },
     "metadata": {},
     "output_type": "display_data"
    },
    {
     "name": "stderr",
     "output_type": "stream",
     "text": [
      "\u001b[34m\u001b[1mwandb\u001b[0m: Agent Starting Run: tl1exfyb with config:\n",
      "\u001b[34m\u001b[1mwandb\u001b[0m: \tcem_alpha: 0.5\n",
      "\u001b[34m\u001b[1mwandb\u001b[0m: \tcem_num_elites: 64\n",
      "\u001b[34m\u001b[1mwandb\u001b[0m: \tcem_num_iters: 8\n",
      "\u001b[34m\u001b[1mwandb\u001b[0m: \tmpc_discount: 0.8\n",
      "\u001b[34m\u001b[1mwandb\u001b[0m: \tmpc_horizon_steps: 2\n",
      "\u001b[34m\u001b[1mwandb\u001b[0m: \tmpc_num_action_sequences: 1000\n",
      "\u001b[34m\u001b[1mwandb\u001b[0m: \tmpc_strategy: cem\n",
      "/home/zekai/miniconda3/envs/cs285_proj/lib/python3.9/site-packages/ipywidgets/widgets/widget.py:528: DeprecationWarning: The `ipykernel.comm.Comm` class has been deprecated. Please use the `comm` module instead.For creating comms, use the function `from comm import create_comm`.\n",
      "  self.comm = Comm(**args)\n",
      "/home/zekai/miniconda3/envs/cs285_proj/lib/python3.9/site-packages/wandb/sdk/lib/ipython.py:77: DeprecationWarning: Importing display from IPython.core.display is deprecated since IPython 7.14, please import from IPython display\n",
      "  from IPython.core.display import HTML, display  # type: ignore\n"
     ]
    },
    {
     "data": {
      "text/html": [
       "Tracking run with wandb version 0.16.1"
      ],
      "text/plain": [
       "<IPython.core.display.HTML object>"
      ]
     },
     "metadata": {},
     "output_type": "display_data"
    },
    {
     "data": {
      "text/html": [
       "Run data is saved locally in <code>/home/zekai/repos/cs285_proj/notebooks/wandb/run-20231210_001315-tl1exfyb</code>"
      ],
      "text/plain": [
       "<IPython.core.display.HTML object>"
      ]
     },
     "metadata": {},
     "output_type": "display_data"
    },
    {
     "data": {
      "text/html": [
       "Syncing run <strong><a href='https://wandb.ai/zekai-wang/cs285_proj_get_action_true_dynamics_updated/runs/tl1exfyb' target=\"_blank\">winter-sweep-61</a></strong> to <a href='https://wandb.ai/zekai-wang/cs285_proj_get_action_true_dynamics_updated' target=\"_blank\">Weights & Biases</a> (<a href='https://wandb.me/run' target=\"_blank\">docs</a>)<br/>Sweep page: <a href='https://wandb.ai/zekai-wang/cs285_proj_get_action_true_dynamics_updated/sweeps/ok4muk7m' target=\"_blank\">https://wandb.ai/zekai-wang/cs285_proj_get_action_true_dynamics_updated/sweeps/ok4muk7m</a>"
      ],
      "text/plain": [
       "<IPython.core.display.HTML object>"
      ]
     },
     "metadata": {},
     "output_type": "display_data"
    },
    {
     "data": {
      "text/html": [
       " View project at <a href='https://wandb.ai/zekai-wang/cs285_proj_get_action_true_dynamics_updated' target=\"_blank\">https://wandb.ai/zekai-wang/cs285_proj_get_action_true_dynamics_updated</a>"
      ],
      "text/plain": [
       "<IPython.core.display.HTML object>"
      ]
     },
     "metadata": {},
     "output_type": "display_data"
    },
    {
     "data": {
      "text/html": [
       " View sweep at <a href='https://wandb.ai/zekai-wang/cs285_proj_get_action_true_dynamics_updated/sweeps/ok4muk7m' target=\"_blank\">https://wandb.ai/zekai-wang/cs285_proj_get_action_true_dynamics_updated/sweeps/ok4muk7m</a>"
      ],
      "text/plain": [
       "<IPython.core.display.HTML object>"
      ]
     },
     "metadata": {},
     "output_type": "display_data"
    },
    {
     "data": {
      "text/html": [
       " View run at <a href='https://wandb.ai/zekai-wang/cs285_proj_get_action_true_dynamics_updated/runs/tl1exfyb' target=\"_blank\">https://wandb.ai/zekai-wang/cs285_proj_get_action_true_dynamics_updated/runs/tl1exfyb</a>"
      ],
      "text/plain": [
       "<IPython.core.display.HTML object>"
      ]
     },
     "metadata": {},
     "output_type": "display_data"
    },
    {
     "name": "stderr",
     "output_type": "stream",
     "text": [
      "100%|██████████| 10/10 [00:16<00:00,  1.68s/it]\n"
     ]
    },
    {
     "name": "stdout",
     "output_type": "stream",
     "text": [
      "mean -1171.1364\n",
      "std 381.14987\n",
      "min -1938.2712\n",
      "max -738.5451\n"
     ]
    },
    {
     "data": {
      "application/vnd.jupyter.widget-view+json": {
       "model_id": "e22904419bdd4da6a3ec7de1762a64bb",
       "version_major": 2,
       "version_minor": 0
      },
      "text/plain": [
       "VBox(children=(Label(value='0.004 MB of 0.004 MB uploaded\\r'), FloatProgress(value=1.0, max=1.0)))"
      ]
     },
     "metadata": {},
     "output_type": "display_data"
    },
    {
     "data": {
      "text/html": [
       "<style>\n",
       "    table.wandb td:nth-child(1) { padding: 0 10px; text-align: left ; width: auto;} td:nth-child(2) {text-align: left ; width: 100%}\n",
       "    .wandb-row { display: flex; flex-direction: row; flex-wrap: wrap; justify-content: flex-start; width: 100% }\n",
       "    .wandb-col { display: flex; flex-direction: column; flex-basis: 100%; flex: 1; padding: 10px; }\n",
       "    </style>\n",
       "<div class=\"wandb-row\"><div class=\"wandb-col\"><h3>Run history:</h3><br/><table class=\"wandb\"><tr><td>max</td><td>▁</td></tr><tr><td>mean</td><td>▁</td></tr><tr><td>min</td><td>▁</td></tr><tr><td>std</td><td>▁</td></tr></table><br/></div><div class=\"wandb-col\"><h3>Run summary:</h3><br/><table class=\"wandb\"><tr><td>max</td><td>-738.5451</td></tr><tr><td>mean</td><td>-1171.13635</td></tr><tr><td>min</td><td>-1938.27124</td></tr><tr><td>std</td><td>381.14987</td></tr></table><br/></div></div>"
      ],
      "text/plain": [
       "<IPython.core.display.HTML object>"
      ]
     },
     "metadata": {},
     "output_type": "display_data"
    },
    {
     "data": {
      "text/html": [
       " View run <strong style=\"color:#cdcd00\">winter-sweep-61</strong> at: <a href='https://wandb.ai/zekai-wang/cs285_proj_get_action_true_dynamics_updated/runs/tl1exfyb' target=\"_blank\">https://wandb.ai/zekai-wang/cs285_proj_get_action_true_dynamics_updated/runs/tl1exfyb</a><br/>Synced 6 W&B file(s), 0 media file(s), 0 artifact file(s) and 0 other file(s)"
      ],
      "text/plain": [
       "<IPython.core.display.HTML object>"
      ]
     },
     "metadata": {},
     "output_type": "display_data"
    },
    {
     "data": {
      "text/html": [
       "Find logs at: <code>./wandb/run-20231210_001315-tl1exfyb/logs</code>"
      ],
      "text/plain": [
       "<IPython.core.display.HTML object>"
      ]
     },
     "metadata": {},
     "output_type": "display_data"
    },
    {
     "name": "stderr",
     "output_type": "stream",
     "text": [
      "\u001b[34m\u001b[1mwandb\u001b[0m: Agent Starting Run: fl4pbuut with config:\n",
      "\u001b[34m\u001b[1mwandb\u001b[0m: \tcem_alpha: 0.99\n",
      "\u001b[34m\u001b[1mwandb\u001b[0m: \tcem_num_elites: 16\n",
      "\u001b[34m\u001b[1mwandb\u001b[0m: \tcem_num_iters: 2\n",
      "\u001b[34m\u001b[1mwandb\u001b[0m: \tmpc_discount: 1\n",
      "\u001b[34m\u001b[1mwandb\u001b[0m: \tmpc_horizon_steps: 100\n",
      "\u001b[34m\u001b[1mwandb\u001b[0m: \tmpc_num_action_sequences: 500\n",
      "\u001b[34m\u001b[1mwandb\u001b[0m: \tmpc_strategy: random\n",
      "/home/zekai/miniconda3/envs/cs285_proj/lib/python3.9/site-packages/ipywidgets/widgets/widget.py:528: DeprecationWarning: The `ipykernel.comm.Comm` class has been deprecated. Please use the `comm` module instead.For creating comms, use the function `from comm import create_comm`.\n",
      "  self.comm = Comm(**args)\n",
      "/home/zekai/miniconda3/envs/cs285_proj/lib/python3.9/site-packages/wandb/sdk/lib/ipython.py:77: DeprecationWarning: Importing display from IPython.core.display is deprecated since IPython 7.14, please import from IPython display\n",
      "  from IPython.core.display import HTML, display  # type: ignore\n"
     ]
    },
    {
     "data": {
      "text/html": [
       "Tracking run with wandb version 0.16.1"
      ],
      "text/plain": [
       "<IPython.core.display.HTML object>"
      ]
     },
     "metadata": {},
     "output_type": "display_data"
    },
    {
     "data": {
      "text/html": [
       "Run data is saved locally in <code>/home/zekai/repos/cs285_proj/notebooks/wandb/run-20231210_001345-fl4pbuut</code>"
      ],
      "text/plain": [
       "<IPython.core.display.HTML object>"
      ]
     },
     "metadata": {},
     "output_type": "display_data"
    },
    {
     "data": {
      "text/html": [
       "Syncing run <strong><a href='https://wandb.ai/zekai-wang/cs285_proj_get_action_true_dynamics_updated/runs/fl4pbuut' target=\"_blank\">light-sweep-62</a></strong> to <a href='https://wandb.ai/zekai-wang/cs285_proj_get_action_true_dynamics_updated' target=\"_blank\">Weights & Biases</a> (<a href='https://wandb.me/run' target=\"_blank\">docs</a>)<br/>Sweep page: <a href='https://wandb.ai/zekai-wang/cs285_proj_get_action_true_dynamics_updated/sweeps/ok4muk7m' target=\"_blank\">https://wandb.ai/zekai-wang/cs285_proj_get_action_true_dynamics_updated/sweeps/ok4muk7m</a>"
      ],
      "text/plain": [
       "<IPython.core.display.HTML object>"
      ]
     },
     "metadata": {},
     "output_type": "display_data"
    },
    {
     "data": {
      "text/html": [
       " View project at <a href='https://wandb.ai/zekai-wang/cs285_proj_get_action_true_dynamics_updated' target=\"_blank\">https://wandb.ai/zekai-wang/cs285_proj_get_action_true_dynamics_updated</a>"
      ],
      "text/plain": [
       "<IPython.core.display.HTML object>"
      ]
     },
     "metadata": {},
     "output_type": "display_data"
    },
    {
     "data": {
      "text/html": [
       " View sweep at <a href='https://wandb.ai/zekai-wang/cs285_proj_get_action_true_dynamics_updated/sweeps/ok4muk7m' target=\"_blank\">https://wandb.ai/zekai-wang/cs285_proj_get_action_true_dynamics_updated/sweeps/ok4muk7m</a>"
      ],
      "text/plain": [
       "<IPython.core.display.HTML object>"
      ]
     },
     "metadata": {},
     "output_type": "display_data"
    },
    {
     "data": {
      "text/html": [
       " View run at <a href='https://wandb.ai/zekai-wang/cs285_proj_get_action_true_dynamics_updated/runs/fl4pbuut' target=\"_blank\">https://wandb.ai/zekai-wang/cs285_proj_get_action_true_dynamics_updated/runs/fl4pbuut</a>"
      ],
      "text/plain": [
       "<IPython.core.display.HTML object>"
      ]
     },
     "metadata": {},
     "output_type": "display_data"
    },
    {
     "name": "stderr",
     "output_type": "stream",
     "text": [
      "100%|██████████| 10/10 [00:14<00:00,  1.44s/it]\n"
     ]
    },
    {
     "name": "stdout",
     "output_type": "stream",
     "text": [
      "mean -1225.7504\n",
      "std 253.46216\n",
      "min -1601.5271\n",
      "max -870.3392\n"
     ]
    },
    {
     "data": {
      "application/vnd.jupyter.widget-view+json": {
       "model_id": "7b041abb54a54761849f7d1a8b1efa32",
       "version_major": 2,
       "version_minor": 0
      },
      "text/plain": [
       "VBox(children=(Label(value='0.004 MB of 0.004 MB uploaded\\r'), FloatProgress(value=1.0, max=1.0)))"
      ]
     },
     "metadata": {},
     "output_type": "display_data"
    },
    {
     "data": {
      "text/html": [
       "<style>\n",
       "    table.wandb td:nth-child(1) { padding: 0 10px; text-align: left ; width: auto;} td:nth-child(2) {text-align: left ; width: 100%}\n",
       "    .wandb-row { display: flex; flex-direction: row; flex-wrap: wrap; justify-content: flex-start; width: 100% }\n",
       "    .wandb-col { display: flex; flex-direction: column; flex-basis: 100%; flex: 1; padding: 10px; }\n",
       "    </style>\n",
       "<div class=\"wandb-row\"><div class=\"wandb-col\"><h3>Run history:</h3><br/><table class=\"wandb\"><tr><td>max</td><td>▁</td></tr><tr><td>mean</td><td>▁</td></tr><tr><td>min</td><td>▁</td></tr><tr><td>std</td><td>▁</td></tr></table><br/></div><div class=\"wandb-col\"><h3>Run summary:</h3><br/><table class=\"wandb\"><tr><td>max</td><td>-870.33917</td></tr><tr><td>mean</td><td>-1225.75037</td></tr><tr><td>min</td><td>-1601.5271</td></tr><tr><td>std</td><td>253.46216</td></tr></table><br/></div></div>"
      ],
      "text/plain": [
       "<IPython.core.display.HTML object>"
      ]
     },
     "metadata": {},
     "output_type": "display_data"
    },
    {
     "data": {
      "text/html": [
       " View run <strong style=\"color:#cdcd00\">light-sweep-62</strong> at: <a href='https://wandb.ai/zekai-wang/cs285_proj_get_action_true_dynamics_updated/runs/fl4pbuut' target=\"_blank\">https://wandb.ai/zekai-wang/cs285_proj_get_action_true_dynamics_updated/runs/fl4pbuut</a><br/>Synced 6 W&B file(s), 0 media file(s), 0 artifact file(s) and 0 other file(s)"
      ],
      "text/plain": [
       "<IPython.core.display.HTML object>"
      ]
     },
     "metadata": {},
     "output_type": "display_data"
    },
    {
     "data": {
      "text/html": [
       "Find logs at: <code>./wandb/run-20231210_001345-fl4pbuut/logs</code>"
      ],
      "text/plain": [
       "<IPython.core.display.HTML object>"
      ]
     },
     "metadata": {},
     "output_type": "display_data"
    },
    {
     "name": "stderr",
     "output_type": "stream",
     "text": [
      "\u001b[34m\u001b[1mwandb\u001b[0m: Agent Starting Run: v5gdr8c1 with config:\n",
      "\u001b[34m\u001b[1mwandb\u001b[0m: \tcem_alpha: 0.95\n",
      "\u001b[34m\u001b[1mwandb\u001b[0m: \tcem_num_elites: 4\n",
      "\u001b[34m\u001b[1mwandb\u001b[0m: \tcem_num_iters: 8\n",
      "\u001b[34m\u001b[1mwandb\u001b[0m: \tmpc_discount: 0.9\n",
      "\u001b[34m\u001b[1mwandb\u001b[0m: \tmpc_horizon_steps: 10\n",
      "\u001b[34m\u001b[1mwandb\u001b[0m: \tmpc_num_action_sequences: 5000\n",
      "\u001b[34m\u001b[1mwandb\u001b[0m: \tmpc_strategy: cem\n",
      "/home/zekai/miniconda3/envs/cs285_proj/lib/python3.9/site-packages/ipywidgets/widgets/widget.py:528: DeprecationWarning: The `ipykernel.comm.Comm` class has been deprecated. Please use the `comm` module instead.For creating comms, use the function `from comm import create_comm`.\n",
      "  self.comm = Comm(**args)\n",
      "/home/zekai/miniconda3/envs/cs285_proj/lib/python3.9/site-packages/wandb/sdk/lib/ipython.py:77: DeprecationWarning: Importing display from IPython.core.display is deprecated since IPython 7.14, please import from IPython display\n",
      "  from IPython.core.display import HTML, display  # type: ignore\n"
     ]
    },
    {
     "data": {
      "text/html": [
       "Tracking run with wandb version 0.16.1"
      ],
      "text/plain": [
       "<IPython.core.display.HTML object>"
      ]
     },
     "metadata": {},
     "output_type": "display_data"
    },
    {
     "data": {
      "text/html": [
       "Run data is saved locally in <code>/home/zekai/repos/cs285_proj/notebooks/wandb/run-20231210_001410-v5gdr8c1</code>"
      ],
      "text/plain": [
       "<IPython.core.display.HTML object>"
      ]
     },
     "metadata": {},
     "output_type": "display_data"
    },
    {
     "data": {
      "text/html": [
       "Syncing run <strong><a href='https://wandb.ai/zekai-wang/cs285_proj_get_action_true_dynamics_updated/runs/v5gdr8c1' target=\"_blank\">dauntless-sweep-63</a></strong> to <a href='https://wandb.ai/zekai-wang/cs285_proj_get_action_true_dynamics_updated' target=\"_blank\">Weights & Biases</a> (<a href='https://wandb.me/run' target=\"_blank\">docs</a>)<br/>Sweep page: <a href='https://wandb.ai/zekai-wang/cs285_proj_get_action_true_dynamics_updated/sweeps/ok4muk7m' target=\"_blank\">https://wandb.ai/zekai-wang/cs285_proj_get_action_true_dynamics_updated/sweeps/ok4muk7m</a>"
      ],
      "text/plain": [
       "<IPython.core.display.HTML object>"
      ]
     },
     "metadata": {},
     "output_type": "display_data"
    },
    {
     "data": {
      "text/html": [
       " View project at <a href='https://wandb.ai/zekai-wang/cs285_proj_get_action_true_dynamics_updated' target=\"_blank\">https://wandb.ai/zekai-wang/cs285_proj_get_action_true_dynamics_updated</a>"
      ],
      "text/plain": [
       "<IPython.core.display.HTML object>"
      ]
     },
     "metadata": {},
     "output_type": "display_data"
    },
    {
     "data": {
      "text/html": [
       " View sweep at <a href='https://wandb.ai/zekai-wang/cs285_proj_get_action_true_dynamics_updated/sweeps/ok4muk7m' target=\"_blank\">https://wandb.ai/zekai-wang/cs285_proj_get_action_true_dynamics_updated/sweeps/ok4muk7m</a>"
      ],
      "text/plain": [
       "<IPython.core.display.HTML object>"
      ]
     },
     "metadata": {},
     "output_type": "display_data"
    },
    {
     "data": {
      "text/html": [
       " View run at <a href='https://wandb.ai/zekai-wang/cs285_proj_get_action_true_dynamics_updated/runs/v5gdr8c1' target=\"_blank\">https://wandb.ai/zekai-wang/cs285_proj_get_action_true_dynamics_updated/runs/v5gdr8c1</a>"
      ],
      "text/plain": [
       "<IPython.core.display.HTML object>"
      ]
     },
     "metadata": {},
     "output_type": "display_data"
    },
    {
     "name": "stderr",
     "output_type": "stream",
     "text": [
      "100%|██████████| 10/10 [00:15<00:00,  1.55s/it]\n"
     ]
    },
    {
     "name": "stdout",
     "output_type": "stream",
     "text": [
      "mean -1325.9407\n",
      "std 286.0732\n",
      "min -1727.9459\n",
      "max -748.0342\n"
     ]
    },
    {
     "data": {
      "application/vnd.jupyter.widget-view+json": {
       "model_id": "946f29f0ce584b6b9bc01d9b0b063151",
       "version_major": 2,
       "version_minor": 0
      },
      "text/plain": [
       "VBox(children=(Label(value='0.004 MB of 0.004 MB uploaded\\r'), FloatProgress(value=1.0, max=1.0)))"
      ]
     },
     "metadata": {},
     "output_type": "display_data"
    },
    {
     "data": {
      "text/html": [
       "<style>\n",
       "    table.wandb td:nth-child(1) { padding: 0 10px; text-align: left ; width: auto;} td:nth-child(2) {text-align: left ; width: 100%}\n",
       "    .wandb-row { display: flex; flex-direction: row; flex-wrap: wrap; justify-content: flex-start; width: 100% }\n",
       "    .wandb-col { display: flex; flex-direction: column; flex-basis: 100%; flex: 1; padding: 10px; }\n",
       "    </style>\n",
       "<div class=\"wandb-row\"><div class=\"wandb-col\"><h3>Run history:</h3><br/><table class=\"wandb\"><tr><td>max</td><td>▁</td></tr><tr><td>mean</td><td>▁</td></tr><tr><td>min</td><td>▁</td></tr><tr><td>std</td><td>▁</td></tr></table><br/></div><div class=\"wandb-col\"><h3>Run summary:</h3><br/><table class=\"wandb\"><tr><td>max</td><td>-748.03418</td></tr><tr><td>mean</td><td>-1325.94067</td></tr><tr><td>min</td><td>-1727.94592</td></tr><tr><td>std</td><td>286.07321</td></tr></table><br/></div></div>"
      ],
      "text/plain": [
       "<IPython.core.display.HTML object>"
      ]
     },
     "metadata": {},
     "output_type": "display_data"
    },
    {
     "data": {
      "text/html": [
       " View run <strong style=\"color:#cdcd00\">dauntless-sweep-63</strong> at: <a href='https://wandb.ai/zekai-wang/cs285_proj_get_action_true_dynamics_updated/runs/v5gdr8c1' target=\"_blank\">https://wandb.ai/zekai-wang/cs285_proj_get_action_true_dynamics_updated/runs/v5gdr8c1</a><br/>Synced 6 W&B file(s), 0 media file(s), 0 artifact file(s) and 0 other file(s)"
      ],
      "text/plain": [
       "<IPython.core.display.HTML object>"
      ]
     },
     "metadata": {},
     "output_type": "display_data"
    },
    {
     "data": {
      "text/html": [
       "Find logs at: <code>./wandb/run-20231210_001410-v5gdr8c1/logs</code>"
      ],
      "text/plain": [
       "<IPython.core.display.HTML object>"
      ]
     },
     "metadata": {},
     "output_type": "display_data"
    },
    {
     "name": "stderr",
     "output_type": "stream",
     "text": [
      "\u001b[34m\u001b[1mwandb\u001b[0m: Agent Starting Run: e0lfxwvp with config:\n",
      "\u001b[34m\u001b[1mwandb\u001b[0m: \tcem_alpha: 0.95\n",
      "\u001b[34m\u001b[1mwandb\u001b[0m: \tcem_num_elites: 16\n",
      "\u001b[34m\u001b[1mwandb\u001b[0m: \tcem_num_iters: 4\n",
      "\u001b[34m\u001b[1mwandb\u001b[0m: \tmpc_discount: 0.8\n",
      "\u001b[34m\u001b[1mwandb\u001b[0m: \tmpc_horizon_steps: 100\n",
      "\u001b[34m\u001b[1mwandb\u001b[0m: \tmpc_num_action_sequences: 5000\n",
      "\u001b[34m\u001b[1mwandb\u001b[0m: \tmpc_strategy: cem\n",
      "/home/zekai/miniconda3/envs/cs285_proj/lib/python3.9/site-packages/ipywidgets/widgets/widget.py:528: DeprecationWarning: The `ipykernel.comm.Comm` class has been deprecated. Please use the `comm` module instead.For creating comms, use the function `from comm import create_comm`.\n",
      "  self.comm = Comm(**args)\n",
      "/home/zekai/miniconda3/envs/cs285_proj/lib/python3.9/site-packages/wandb/sdk/lib/ipython.py:77: DeprecationWarning: Importing display from IPython.core.display is deprecated since IPython 7.14, please import from IPython display\n",
      "  from IPython.core.display import HTML, display  # type: ignore\n"
     ]
    },
    {
     "data": {
      "text/html": [
       "Tracking run with wandb version 0.16.1"
      ],
      "text/plain": [
       "<IPython.core.display.HTML object>"
      ]
     },
     "metadata": {},
     "output_type": "display_data"
    },
    {
     "data": {
      "text/html": [
       "Run data is saved locally in <code>/home/zekai/repos/cs285_proj/notebooks/wandb/run-20231210_001436-e0lfxwvp</code>"
      ],
      "text/plain": [
       "<IPython.core.display.HTML object>"
      ]
     },
     "metadata": {},
     "output_type": "display_data"
    },
    {
     "data": {
      "text/html": [
       "Syncing run <strong><a href='https://wandb.ai/zekai-wang/cs285_proj_get_action_true_dynamics_updated/runs/e0lfxwvp' target=\"_blank\">denim-sweep-64</a></strong> to <a href='https://wandb.ai/zekai-wang/cs285_proj_get_action_true_dynamics_updated' target=\"_blank\">Weights & Biases</a> (<a href='https://wandb.me/run' target=\"_blank\">docs</a>)<br/>Sweep page: <a href='https://wandb.ai/zekai-wang/cs285_proj_get_action_true_dynamics_updated/sweeps/ok4muk7m' target=\"_blank\">https://wandb.ai/zekai-wang/cs285_proj_get_action_true_dynamics_updated/sweeps/ok4muk7m</a>"
      ],
      "text/plain": [
       "<IPython.core.display.HTML object>"
      ]
     },
     "metadata": {},
     "output_type": "display_data"
    },
    {
     "data": {
      "text/html": [
       " View project at <a href='https://wandb.ai/zekai-wang/cs285_proj_get_action_true_dynamics_updated' target=\"_blank\">https://wandb.ai/zekai-wang/cs285_proj_get_action_true_dynamics_updated</a>"
      ],
      "text/plain": [
       "<IPython.core.display.HTML object>"
      ]
     },
     "metadata": {},
     "output_type": "display_data"
    },
    {
     "data": {
      "text/html": [
       " View sweep at <a href='https://wandb.ai/zekai-wang/cs285_proj_get_action_true_dynamics_updated/sweeps/ok4muk7m' target=\"_blank\">https://wandb.ai/zekai-wang/cs285_proj_get_action_true_dynamics_updated/sweeps/ok4muk7m</a>"
      ],
      "text/plain": [
       "<IPython.core.display.HTML object>"
      ]
     },
     "metadata": {},
     "output_type": "display_data"
    },
    {
     "data": {
      "text/html": [
       " View run at <a href='https://wandb.ai/zekai-wang/cs285_proj_get_action_true_dynamics_updated/runs/e0lfxwvp' target=\"_blank\">https://wandb.ai/zekai-wang/cs285_proj_get_action_true_dynamics_updated/runs/e0lfxwvp</a>"
      ],
      "text/plain": [
       "<IPython.core.display.HTML object>"
      ]
     },
     "metadata": {},
     "output_type": "display_data"
    },
    {
     "name": "stderr",
     "output_type": "stream",
     "text": [
      "100%|██████████| 10/10 [00:14<00:00,  1.49s/it]\n"
     ]
    },
    {
     "name": "stdout",
     "output_type": "stream",
     "text": [
      "mean -1248.0541\n",
      "std 308.80817\n",
      "min -1757.4994\n",
      "max -749.6032\n"
     ]
    },
    {
     "data": {
      "application/vnd.jupyter.widget-view+json": {
       "model_id": "3af3a3b890d44d939a741f468f190ad7",
       "version_major": 2,
       "version_minor": 0
      },
      "text/plain": [
       "VBox(children=(Label(value='0.004 MB of 0.004 MB uploaded\\r'), FloatProgress(value=1.0, max=1.0)))"
      ]
     },
     "metadata": {},
     "output_type": "display_data"
    },
    {
     "data": {
      "text/html": [
       "<style>\n",
       "    table.wandb td:nth-child(1) { padding: 0 10px; text-align: left ; width: auto;} td:nth-child(2) {text-align: left ; width: 100%}\n",
       "    .wandb-row { display: flex; flex-direction: row; flex-wrap: wrap; justify-content: flex-start; width: 100% }\n",
       "    .wandb-col { display: flex; flex-direction: column; flex-basis: 100%; flex: 1; padding: 10px; }\n",
       "    </style>\n",
       "<div class=\"wandb-row\"><div class=\"wandb-col\"><h3>Run history:</h3><br/><table class=\"wandb\"><tr><td>max</td><td>▁</td></tr><tr><td>mean</td><td>▁</td></tr><tr><td>min</td><td>▁</td></tr><tr><td>std</td><td>▁</td></tr></table><br/></div><div class=\"wandb-col\"><h3>Run summary:</h3><br/><table class=\"wandb\"><tr><td>max</td><td>-749.60321</td></tr><tr><td>mean</td><td>-1248.05408</td></tr><tr><td>min</td><td>-1757.49939</td></tr><tr><td>std</td><td>308.80817</td></tr></table><br/></div></div>"
      ],
      "text/plain": [
       "<IPython.core.display.HTML object>"
      ]
     },
     "metadata": {},
     "output_type": "display_data"
    },
    {
     "data": {
      "text/html": [
       " View run <strong style=\"color:#cdcd00\">denim-sweep-64</strong> at: <a href='https://wandb.ai/zekai-wang/cs285_proj_get_action_true_dynamics_updated/runs/e0lfxwvp' target=\"_blank\">https://wandb.ai/zekai-wang/cs285_proj_get_action_true_dynamics_updated/runs/e0lfxwvp</a><br/>Synced 6 W&B file(s), 0 media file(s), 0 artifact file(s) and 0 other file(s)"
      ],
      "text/plain": [
       "<IPython.core.display.HTML object>"
      ]
     },
     "metadata": {},
     "output_type": "display_data"
    },
    {
     "data": {
      "text/html": [
       "Find logs at: <code>./wandb/run-20231210_001436-e0lfxwvp/logs</code>"
      ],
      "text/plain": [
       "<IPython.core.display.HTML object>"
      ]
     },
     "metadata": {},
     "output_type": "display_data"
    },
    {
     "name": "stderr",
     "output_type": "stream",
     "text": [
      "\u001b[34m\u001b[1mwandb\u001b[0m: Agent Starting Run: z3ealyfh with config:\n",
      "\u001b[34m\u001b[1mwandb\u001b[0m: \tcem_alpha: 0.95\n",
      "\u001b[34m\u001b[1mwandb\u001b[0m: \tcem_num_elites: 32\n",
      "\u001b[34m\u001b[1mwandb\u001b[0m: \tcem_num_iters: 16\n",
      "\u001b[34m\u001b[1mwandb\u001b[0m: \tmpc_discount: 0.99\n",
      "\u001b[34m\u001b[1mwandb\u001b[0m: \tmpc_horizon_steps: 1\n",
      "\u001b[34m\u001b[1mwandb\u001b[0m: \tmpc_num_action_sequences: 500\n",
      "\u001b[34m\u001b[1mwandb\u001b[0m: \tmpc_strategy: cem\n",
      "/home/zekai/miniconda3/envs/cs285_proj/lib/python3.9/site-packages/ipywidgets/widgets/widget.py:528: DeprecationWarning: The `ipykernel.comm.Comm` class has been deprecated. Please use the `comm` module instead.For creating comms, use the function `from comm import create_comm`.\n",
      "  self.comm = Comm(**args)\n",
      "/home/zekai/miniconda3/envs/cs285_proj/lib/python3.9/site-packages/wandb/sdk/lib/ipython.py:77: DeprecationWarning: Importing display from IPython.core.display is deprecated since IPython 7.14, please import from IPython display\n",
      "  from IPython.core.display import HTML, display  # type: ignore\n"
     ]
    },
    {
     "data": {
      "text/html": [
       "Tracking run with wandb version 0.16.1"
      ],
      "text/plain": [
       "<IPython.core.display.HTML object>"
      ]
     },
     "metadata": {},
     "output_type": "display_data"
    },
    {
     "data": {
      "text/html": [
       "Run data is saved locally in <code>/home/zekai/repos/cs285_proj/notebooks/wandb/run-20231210_001502-z3ealyfh</code>"
      ],
      "text/plain": [
       "<IPython.core.display.HTML object>"
      ]
     },
     "metadata": {},
     "output_type": "display_data"
    },
    {
     "data": {
      "text/html": [
       "Syncing run <strong><a href='https://wandb.ai/zekai-wang/cs285_proj_get_action_true_dynamics_updated/runs/z3ealyfh' target=\"_blank\">decent-sweep-65</a></strong> to <a href='https://wandb.ai/zekai-wang/cs285_proj_get_action_true_dynamics_updated' target=\"_blank\">Weights & Biases</a> (<a href='https://wandb.me/run' target=\"_blank\">docs</a>)<br/>Sweep page: <a href='https://wandb.ai/zekai-wang/cs285_proj_get_action_true_dynamics_updated/sweeps/ok4muk7m' target=\"_blank\">https://wandb.ai/zekai-wang/cs285_proj_get_action_true_dynamics_updated/sweeps/ok4muk7m</a>"
      ],
      "text/plain": [
       "<IPython.core.display.HTML object>"
      ]
     },
     "metadata": {},
     "output_type": "display_data"
    },
    {
     "data": {
      "text/html": [
       " View project at <a href='https://wandb.ai/zekai-wang/cs285_proj_get_action_true_dynamics_updated' target=\"_blank\">https://wandb.ai/zekai-wang/cs285_proj_get_action_true_dynamics_updated</a>"
      ],
      "text/plain": [
       "<IPython.core.display.HTML object>"
      ]
     },
     "metadata": {},
     "output_type": "display_data"
    },
    {
     "data": {
      "text/html": [
       " View sweep at <a href='https://wandb.ai/zekai-wang/cs285_proj_get_action_true_dynamics_updated/sweeps/ok4muk7m' target=\"_blank\">https://wandb.ai/zekai-wang/cs285_proj_get_action_true_dynamics_updated/sweeps/ok4muk7m</a>"
      ],
      "text/plain": [
       "<IPython.core.display.HTML object>"
      ]
     },
     "metadata": {},
     "output_type": "display_data"
    },
    {
     "data": {
      "text/html": [
       " View run at <a href='https://wandb.ai/zekai-wang/cs285_proj_get_action_true_dynamics_updated/runs/z3ealyfh' target=\"_blank\">https://wandb.ai/zekai-wang/cs285_proj_get_action_true_dynamics_updated/runs/z3ealyfh</a>"
      ],
      "text/plain": [
       "<IPython.core.display.HTML object>"
      ]
     },
     "metadata": {},
     "output_type": "display_data"
    },
    {
     "name": "stderr",
     "output_type": "stream",
     "text": [
      "100%|██████████| 10/10 [00:16<00:00,  1.64s/it]\n"
     ]
    },
    {
     "name": "stdout",
     "output_type": "stream",
     "text": [
      "mean -1333.3987\n",
      "std 323.98734\n",
      "min -1802.2666\n",
      "max -782.5547\n"
     ]
    },
    {
     "data": {
      "application/vnd.jupyter.widget-view+json": {
       "model_id": "622272b56dc04e21b9b46a89456492e8",
       "version_major": 2,
       "version_minor": 0
      },
      "text/plain": [
       "VBox(children=(Label(value='0.004 MB of 0.004 MB uploaded\\r'), FloatProgress(value=1.0, max=1.0)))"
      ]
     },
     "metadata": {},
     "output_type": "display_data"
    },
    {
     "data": {
      "text/html": [
       "<style>\n",
       "    table.wandb td:nth-child(1) { padding: 0 10px; text-align: left ; width: auto;} td:nth-child(2) {text-align: left ; width: 100%}\n",
       "    .wandb-row { display: flex; flex-direction: row; flex-wrap: wrap; justify-content: flex-start; width: 100% }\n",
       "    .wandb-col { display: flex; flex-direction: column; flex-basis: 100%; flex: 1; padding: 10px; }\n",
       "    </style>\n",
       "<div class=\"wandb-row\"><div class=\"wandb-col\"><h3>Run history:</h3><br/><table class=\"wandb\"><tr><td>max</td><td>▁</td></tr><tr><td>mean</td><td>▁</td></tr><tr><td>min</td><td>▁</td></tr><tr><td>std</td><td>▁</td></tr></table><br/></div><div class=\"wandb-col\"><h3>Run summary:</h3><br/><table class=\"wandb\"><tr><td>max</td><td>-782.55469</td></tr><tr><td>mean</td><td>-1333.39868</td></tr><tr><td>min</td><td>-1802.2666</td></tr><tr><td>std</td><td>323.98734</td></tr></table><br/></div></div>"
      ],
      "text/plain": [
       "<IPython.core.display.HTML object>"
      ]
     },
     "metadata": {},
     "output_type": "display_data"
    },
    {
     "data": {
      "text/html": [
       " View run <strong style=\"color:#cdcd00\">decent-sweep-65</strong> at: <a href='https://wandb.ai/zekai-wang/cs285_proj_get_action_true_dynamics_updated/runs/z3ealyfh' target=\"_blank\">https://wandb.ai/zekai-wang/cs285_proj_get_action_true_dynamics_updated/runs/z3ealyfh</a><br/>Synced 6 W&B file(s), 0 media file(s), 0 artifact file(s) and 0 other file(s)"
      ],
      "text/plain": [
       "<IPython.core.display.HTML object>"
      ]
     },
     "metadata": {},
     "output_type": "display_data"
    },
    {
     "data": {
      "text/html": [
       "Find logs at: <code>./wandb/run-20231210_001502-z3ealyfh/logs</code>"
      ],
      "text/plain": [
       "<IPython.core.display.HTML object>"
      ]
     },
     "metadata": {},
     "output_type": "display_data"
    },
    {
     "name": "stderr",
     "output_type": "stream",
     "text": [
      "\u001b[34m\u001b[1mwandb\u001b[0m: Sweep Agent: Waiting for job.\n",
      "\u001b[34m\u001b[1mwandb\u001b[0m: Job received.\n",
      "\u001b[34m\u001b[1mwandb\u001b[0m: Agent Starting Run: 06x26vpq with config:\n",
      "\u001b[34m\u001b[1mwandb\u001b[0m: \tcem_alpha: 0.5\n",
      "\u001b[34m\u001b[1mwandb\u001b[0m: \tcem_num_elites: 32\n",
      "\u001b[34m\u001b[1mwandb\u001b[0m: \tcem_num_iters: 2\n",
      "\u001b[34m\u001b[1mwandb\u001b[0m: \tmpc_discount: 0.8\n",
      "\u001b[34m\u001b[1mwandb\u001b[0m: \tmpc_horizon_steps: 50\n",
      "\u001b[34m\u001b[1mwandb\u001b[0m: \tmpc_num_action_sequences: 500\n",
      "\u001b[34m\u001b[1mwandb\u001b[0m: \tmpc_strategy: cem\n",
      "/home/zekai/miniconda3/envs/cs285_proj/lib/python3.9/site-packages/ipywidgets/widgets/widget.py:528: DeprecationWarning: The `ipykernel.comm.Comm` class has been deprecated. Please use the `comm` module instead.For creating comms, use the function `from comm import create_comm`.\n",
      "  self.comm = Comm(**args)\n",
      "/home/zekai/miniconda3/envs/cs285_proj/lib/python3.9/site-packages/wandb/sdk/lib/ipython.py:77: DeprecationWarning: Importing display from IPython.core.display is deprecated since IPython 7.14, please import from IPython display\n",
      "  from IPython.core.display import HTML, display  # type: ignore\n"
     ]
    },
    {
     "data": {
      "text/html": [
       "Tracking run with wandb version 0.16.1"
      ],
      "text/plain": [
       "<IPython.core.display.HTML object>"
      ]
     },
     "metadata": {},
     "output_type": "display_data"
    },
    {
     "data": {
      "text/html": [
       "Run data is saved locally in <code>/home/zekai/repos/cs285_proj/notebooks/wandb/run-20231210_001538-06x26vpq</code>"
      ],
      "text/plain": [
       "<IPython.core.display.HTML object>"
      ]
     },
     "metadata": {},
     "output_type": "display_data"
    },
    {
     "data": {
      "text/html": [
       "Syncing run <strong><a href='https://wandb.ai/zekai-wang/cs285_proj_get_action_true_dynamics_updated/runs/06x26vpq' target=\"_blank\">zany-sweep-66</a></strong> to <a href='https://wandb.ai/zekai-wang/cs285_proj_get_action_true_dynamics_updated' target=\"_blank\">Weights & Biases</a> (<a href='https://wandb.me/run' target=\"_blank\">docs</a>)<br/>Sweep page: <a href='https://wandb.ai/zekai-wang/cs285_proj_get_action_true_dynamics_updated/sweeps/ok4muk7m' target=\"_blank\">https://wandb.ai/zekai-wang/cs285_proj_get_action_true_dynamics_updated/sweeps/ok4muk7m</a>"
      ],
      "text/plain": [
       "<IPython.core.display.HTML object>"
      ]
     },
     "metadata": {},
     "output_type": "display_data"
    },
    {
     "data": {
      "text/html": [
       " View project at <a href='https://wandb.ai/zekai-wang/cs285_proj_get_action_true_dynamics_updated' target=\"_blank\">https://wandb.ai/zekai-wang/cs285_proj_get_action_true_dynamics_updated</a>"
      ],
      "text/plain": [
       "<IPython.core.display.HTML object>"
      ]
     },
     "metadata": {},
     "output_type": "display_data"
    },
    {
     "data": {
      "text/html": [
       " View sweep at <a href='https://wandb.ai/zekai-wang/cs285_proj_get_action_true_dynamics_updated/sweeps/ok4muk7m' target=\"_blank\">https://wandb.ai/zekai-wang/cs285_proj_get_action_true_dynamics_updated/sweeps/ok4muk7m</a>"
      ],
      "text/plain": [
       "<IPython.core.display.HTML object>"
      ]
     },
     "metadata": {},
     "output_type": "display_data"
    },
    {
     "data": {
      "text/html": [
       " View run at <a href='https://wandb.ai/zekai-wang/cs285_proj_get_action_true_dynamics_updated/runs/06x26vpq' target=\"_blank\">https://wandb.ai/zekai-wang/cs285_proj_get_action_true_dynamics_updated/runs/06x26vpq</a>"
      ],
      "text/plain": [
       "<IPython.core.display.HTML object>"
      ]
     },
     "metadata": {},
     "output_type": "display_data"
    },
    {
     "name": "stderr",
     "output_type": "stream",
     "text": [
      "100%|██████████| 10/10 [00:15<00:00,  1.53s/it]\n"
     ]
    },
    {
     "name": "stdout",
     "output_type": "stream",
     "text": [
      "mean -1376.031\n",
      "std 274.0681\n",
      "min -1746.9506\n",
      "max -811.7743\n"
     ]
    },
    {
     "data": {
      "application/vnd.jupyter.widget-view+json": {
       "model_id": "9d7513a29db14fb5a5020402f74371a2",
       "version_major": 2,
       "version_minor": 0
      },
      "text/plain": [
       "VBox(children=(Label(value='0.004 MB of 0.004 MB uploaded\\r'), FloatProgress(value=1.0, max=1.0)))"
      ]
     },
     "metadata": {},
     "output_type": "display_data"
    },
    {
     "data": {
      "text/html": [
       "<style>\n",
       "    table.wandb td:nth-child(1) { padding: 0 10px; text-align: left ; width: auto;} td:nth-child(2) {text-align: left ; width: 100%}\n",
       "    .wandb-row { display: flex; flex-direction: row; flex-wrap: wrap; justify-content: flex-start; width: 100% }\n",
       "    .wandb-col { display: flex; flex-direction: column; flex-basis: 100%; flex: 1; padding: 10px; }\n",
       "    </style>\n",
       "<div class=\"wandb-row\"><div class=\"wandb-col\"><h3>Run history:</h3><br/><table class=\"wandb\"><tr><td>max</td><td>▁</td></tr><tr><td>mean</td><td>▁</td></tr><tr><td>min</td><td>▁</td></tr><tr><td>std</td><td>▁</td></tr></table><br/></div><div class=\"wandb-col\"><h3>Run summary:</h3><br/><table class=\"wandb\"><tr><td>max</td><td>-811.77429</td></tr><tr><td>mean</td><td>-1376.03101</td></tr><tr><td>min</td><td>-1746.95056</td></tr><tr><td>std</td><td>274.06812</td></tr></table><br/></div></div>"
      ],
      "text/plain": [
       "<IPython.core.display.HTML object>"
      ]
     },
     "metadata": {},
     "output_type": "display_data"
    },
    {
     "data": {
      "text/html": [
       " View run <strong style=\"color:#cdcd00\">zany-sweep-66</strong> at: <a href='https://wandb.ai/zekai-wang/cs285_proj_get_action_true_dynamics_updated/runs/06x26vpq' target=\"_blank\">https://wandb.ai/zekai-wang/cs285_proj_get_action_true_dynamics_updated/runs/06x26vpq</a><br/>Synced 6 W&B file(s), 0 media file(s), 0 artifact file(s) and 0 other file(s)"
      ],
      "text/plain": [
       "<IPython.core.display.HTML object>"
      ]
     },
     "metadata": {},
     "output_type": "display_data"
    },
    {
     "data": {
      "text/html": [
       "Find logs at: <code>./wandb/run-20231210_001538-06x26vpq/logs</code>"
      ],
      "text/plain": [
       "<IPython.core.display.HTML object>"
      ]
     },
     "metadata": {},
     "output_type": "display_data"
    },
    {
     "name": "stderr",
     "output_type": "stream",
     "text": [
      "\u001b[34m\u001b[1mwandb\u001b[0m: Agent Starting Run: 8d45pwtb with config:\n",
      "\u001b[34m\u001b[1mwandb\u001b[0m: \tcem_alpha: 1\n",
      "\u001b[34m\u001b[1mwandb\u001b[0m: \tcem_num_elites: 1\n",
      "\u001b[34m\u001b[1mwandb\u001b[0m: \tcem_num_iters: 2\n",
      "\u001b[34m\u001b[1mwandb\u001b[0m: \tmpc_discount: 1\n",
      "\u001b[34m\u001b[1mwandb\u001b[0m: \tmpc_horizon_steps: 1\n",
      "\u001b[34m\u001b[1mwandb\u001b[0m: \tmpc_num_action_sequences: 100\n",
      "\u001b[34m\u001b[1mwandb\u001b[0m: \tmpc_strategy: cem\n",
      "/home/zekai/miniconda3/envs/cs285_proj/lib/python3.9/site-packages/ipywidgets/widgets/widget.py:528: DeprecationWarning: The `ipykernel.comm.Comm` class has been deprecated. Please use the `comm` module instead.For creating comms, use the function `from comm import create_comm`.\n",
      "  self.comm = Comm(**args)\n",
      "/home/zekai/miniconda3/envs/cs285_proj/lib/python3.9/site-packages/wandb/sdk/lib/ipython.py:77: DeprecationWarning: Importing display from IPython.core.display is deprecated since IPython 7.14, please import from IPython display\n",
      "  from IPython.core.display import HTML, display  # type: ignore\n"
     ]
    },
    {
     "data": {
      "text/html": [
       "Tracking run with wandb version 0.16.1"
      ],
      "text/plain": [
       "<IPython.core.display.HTML object>"
      ]
     },
     "metadata": {},
     "output_type": "display_data"
    },
    {
     "data": {
      "text/html": [
       "Run data is saved locally in <code>/home/zekai/repos/cs285_proj/notebooks/wandb/run-20231210_001603-8d45pwtb</code>"
      ],
      "text/plain": [
       "<IPython.core.display.HTML object>"
      ]
     },
     "metadata": {},
     "output_type": "display_data"
    },
    {
     "data": {
      "text/html": [
       "Syncing run <strong><a href='https://wandb.ai/zekai-wang/cs285_proj_get_action_true_dynamics_updated/runs/8d45pwtb' target=\"_blank\">neat-sweep-67</a></strong> to <a href='https://wandb.ai/zekai-wang/cs285_proj_get_action_true_dynamics_updated' target=\"_blank\">Weights & Biases</a> (<a href='https://wandb.me/run' target=\"_blank\">docs</a>)<br/>Sweep page: <a href='https://wandb.ai/zekai-wang/cs285_proj_get_action_true_dynamics_updated/sweeps/ok4muk7m' target=\"_blank\">https://wandb.ai/zekai-wang/cs285_proj_get_action_true_dynamics_updated/sweeps/ok4muk7m</a>"
      ],
      "text/plain": [
       "<IPython.core.display.HTML object>"
      ]
     },
     "metadata": {},
     "output_type": "display_data"
    },
    {
     "data": {
      "text/html": [
       " View project at <a href='https://wandb.ai/zekai-wang/cs285_proj_get_action_true_dynamics_updated' target=\"_blank\">https://wandb.ai/zekai-wang/cs285_proj_get_action_true_dynamics_updated</a>"
      ],
      "text/plain": [
       "<IPython.core.display.HTML object>"
      ]
     },
     "metadata": {},
     "output_type": "display_data"
    },
    {
     "data": {
      "text/html": [
       " View sweep at <a href='https://wandb.ai/zekai-wang/cs285_proj_get_action_true_dynamics_updated/sweeps/ok4muk7m' target=\"_blank\">https://wandb.ai/zekai-wang/cs285_proj_get_action_true_dynamics_updated/sweeps/ok4muk7m</a>"
      ],
      "text/plain": [
       "<IPython.core.display.HTML object>"
      ]
     },
     "metadata": {},
     "output_type": "display_data"
    },
    {
     "data": {
      "text/html": [
       " View run at <a href='https://wandb.ai/zekai-wang/cs285_proj_get_action_true_dynamics_updated/runs/8d45pwtb' target=\"_blank\">https://wandb.ai/zekai-wang/cs285_proj_get_action_true_dynamics_updated/runs/8d45pwtb</a>"
      ],
      "text/plain": [
       "<IPython.core.display.HTML object>"
      ]
     },
     "metadata": {},
     "output_type": "display_data"
    },
    {
     "name": "stderr",
     "output_type": "stream",
     "text": [
      "100%|██████████| 10/10 [00:15<00:00,  1.59s/it]\n"
     ]
    },
    {
     "name": "stdout",
     "output_type": "stream",
     "text": [
      "mean -1210.4695\n",
      "std 234.09045\n",
      "min -1570.788\n",
      "max -883.8288\n"
     ]
    },
    {
     "data": {
      "application/vnd.jupyter.widget-view+json": {
       "model_id": "08eb401a4fa84dacacb34d3ee1d7967d",
       "version_major": 2,
       "version_minor": 0
      },
      "text/plain": [
       "VBox(children=(Label(value='0.004 MB of 0.004 MB uploaded\\r'), FloatProgress(value=1.0, max=1.0)))"
      ]
     },
     "metadata": {},
     "output_type": "display_data"
    },
    {
     "data": {
      "text/html": [
       "<style>\n",
       "    table.wandb td:nth-child(1) { padding: 0 10px; text-align: left ; width: auto;} td:nth-child(2) {text-align: left ; width: 100%}\n",
       "    .wandb-row { display: flex; flex-direction: row; flex-wrap: wrap; justify-content: flex-start; width: 100% }\n",
       "    .wandb-col { display: flex; flex-direction: column; flex-basis: 100%; flex: 1; padding: 10px; }\n",
       "    </style>\n",
       "<div class=\"wandb-row\"><div class=\"wandb-col\"><h3>Run history:</h3><br/><table class=\"wandb\"><tr><td>max</td><td>▁</td></tr><tr><td>mean</td><td>▁</td></tr><tr><td>min</td><td>▁</td></tr><tr><td>std</td><td>▁</td></tr></table><br/></div><div class=\"wandb-col\"><h3>Run summary:</h3><br/><table class=\"wandb\"><tr><td>max</td><td>-883.8288</td></tr><tr><td>mean</td><td>-1210.46948</td></tr><tr><td>min</td><td>-1570.78796</td></tr><tr><td>std</td><td>234.09045</td></tr></table><br/></div></div>"
      ],
      "text/plain": [
       "<IPython.core.display.HTML object>"
      ]
     },
     "metadata": {},
     "output_type": "display_data"
    },
    {
     "data": {
      "text/html": [
       " View run <strong style=\"color:#cdcd00\">neat-sweep-67</strong> at: <a href='https://wandb.ai/zekai-wang/cs285_proj_get_action_true_dynamics_updated/runs/8d45pwtb' target=\"_blank\">https://wandb.ai/zekai-wang/cs285_proj_get_action_true_dynamics_updated/runs/8d45pwtb</a><br/>Synced 6 W&B file(s), 0 media file(s), 0 artifact file(s) and 0 other file(s)"
      ],
      "text/plain": [
       "<IPython.core.display.HTML object>"
      ]
     },
     "metadata": {},
     "output_type": "display_data"
    },
    {
     "data": {
      "text/html": [
       "Find logs at: <code>./wandb/run-20231210_001603-8d45pwtb/logs</code>"
      ],
      "text/plain": [
       "<IPython.core.display.HTML object>"
      ]
     },
     "metadata": {},
     "output_type": "display_data"
    },
    {
     "name": "stderr",
     "output_type": "stream",
     "text": [
      "\u001b[34m\u001b[1mwandb\u001b[0m: Agent Starting Run: vwmx67ir with config:\n",
      "\u001b[34m\u001b[1mwandb\u001b[0m: \tcem_alpha: 0.99\n",
      "\u001b[34m\u001b[1mwandb\u001b[0m: \tcem_num_elites: 8\n",
      "\u001b[34m\u001b[1mwandb\u001b[0m: \tcem_num_iters: 2\n",
      "\u001b[34m\u001b[1mwandb\u001b[0m: \tmpc_discount: 0.99\n",
      "\u001b[34m\u001b[1mwandb\u001b[0m: \tmpc_horizon_steps: 200\n",
      "\u001b[34m\u001b[1mwandb\u001b[0m: \tmpc_num_action_sequences: 1000\n",
      "\u001b[34m\u001b[1mwandb\u001b[0m: \tmpc_strategy: cem\n",
      "/home/zekai/miniconda3/envs/cs285_proj/lib/python3.9/site-packages/ipywidgets/widgets/widget.py:528: DeprecationWarning: The `ipykernel.comm.Comm` class has been deprecated. Please use the `comm` module instead.For creating comms, use the function `from comm import create_comm`.\n",
      "  self.comm = Comm(**args)\n",
      "/home/zekai/miniconda3/envs/cs285_proj/lib/python3.9/site-packages/wandb/sdk/lib/ipython.py:77: DeprecationWarning: Importing display from IPython.core.display is deprecated since IPython 7.14, please import from IPython display\n",
      "  from IPython.core.display import HTML, display  # type: ignore\n"
     ]
    },
    {
     "data": {
      "text/html": [
       "Tracking run with wandb version 0.16.1"
      ],
      "text/plain": [
       "<IPython.core.display.HTML object>"
      ]
     },
     "metadata": {},
     "output_type": "display_data"
    },
    {
     "data": {
      "text/html": [
       "Run data is saved locally in <code>/home/zekai/repos/cs285_proj/notebooks/wandb/run-20231210_001634-vwmx67ir</code>"
      ],
      "text/plain": [
       "<IPython.core.display.HTML object>"
      ]
     },
     "metadata": {},
     "output_type": "display_data"
    },
    {
     "data": {
      "text/html": [
       "Syncing run <strong><a href='https://wandb.ai/zekai-wang/cs285_proj_get_action_true_dynamics_updated/runs/vwmx67ir' target=\"_blank\">dry-sweep-68</a></strong> to <a href='https://wandb.ai/zekai-wang/cs285_proj_get_action_true_dynamics_updated' target=\"_blank\">Weights & Biases</a> (<a href='https://wandb.me/run' target=\"_blank\">docs</a>)<br/>Sweep page: <a href='https://wandb.ai/zekai-wang/cs285_proj_get_action_true_dynamics_updated/sweeps/ok4muk7m' target=\"_blank\">https://wandb.ai/zekai-wang/cs285_proj_get_action_true_dynamics_updated/sweeps/ok4muk7m</a>"
      ],
      "text/plain": [
       "<IPython.core.display.HTML object>"
      ]
     },
     "metadata": {},
     "output_type": "display_data"
    },
    {
     "data": {
      "text/html": [
       " View project at <a href='https://wandb.ai/zekai-wang/cs285_proj_get_action_true_dynamics_updated' target=\"_blank\">https://wandb.ai/zekai-wang/cs285_proj_get_action_true_dynamics_updated</a>"
      ],
      "text/plain": [
       "<IPython.core.display.HTML object>"
      ]
     },
     "metadata": {},
     "output_type": "display_data"
    },
    {
     "data": {
      "text/html": [
       " View sweep at <a href='https://wandb.ai/zekai-wang/cs285_proj_get_action_true_dynamics_updated/sweeps/ok4muk7m' target=\"_blank\">https://wandb.ai/zekai-wang/cs285_proj_get_action_true_dynamics_updated/sweeps/ok4muk7m</a>"
      ],
      "text/plain": [
       "<IPython.core.display.HTML object>"
      ]
     },
     "metadata": {},
     "output_type": "display_data"
    },
    {
     "data": {
      "text/html": [
       " View run at <a href='https://wandb.ai/zekai-wang/cs285_proj_get_action_true_dynamics_updated/runs/vwmx67ir' target=\"_blank\">https://wandb.ai/zekai-wang/cs285_proj_get_action_true_dynamics_updated/runs/vwmx67ir</a>"
      ],
      "text/plain": [
       "<IPython.core.display.HTML object>"
      ]
     },
     "metadata": {},
     "output_type": "display_data"
    },
    {
     "name": "stderr",
     "output_type": "stream",
     "text": [
      "100%|██████████| 10/10 [00:14<00:00,  1.44s/it]\n"
     ]
    },
    {
     "name": "stdout",
     "output_type": "stream",
     "text": [
      "mean -1319.1261\n",
      "std 218.3975\n",
      "min -1621.8206\n",
      "max -863.39124\n"
     ]
    },
    {
     "data": {
      "application/vnd.jupyter.widget-view+json": {
       "model_id": "9f858859438240cf80645dfb107ebcd9",
       "version_major": 2,
       "version_minor": 0
      },
      "text/plain": [
       "VBox(children=(Label(value='0.004 MB of 0.004 MB uploaded\\r'), FloatProgress(value=1.0, max=1.0)))"
      ]
     },
     "metadata": {},
     "output_type": "display_data"
    },
    {
     "data": {
      "text/html": [
       "<style>\n",
       "    table.wandb td:nth-child(1) { padding: 0 10px; text-align: left ; width: auto;} td:nth-child(2) {text-align: left ; width: 100%}\n",
       "    .wandb-row { display: flex; flex-direction: row; flex-wrap: wrap; justify-content: flex-start; width: 100% }\n",
       "    .wandb-col { display: flex; flex-direction: column; flex-basis: 100%; flex: 1; padding: 10px; }\n",
       "    </style>\n",
       "<div class=\"wandb-row\"><div class=\"wandb-col\"><h3>Run history:</h3><br/><table class=\"wandb\"><tr><td>max</td><td>▁</td></tr><tr><td>mean</td><td>▁</td></tr><tr><td>min</td><td>▁</td></tr><tr><td>std</td><td>▁</td></tr></table><br/></div><div class=\"wandb-col\"><h3>Run summary:</h3><br/><table class=\"wandb\"><tr><td>max</td><td>-863.39124</td></tr><tr><td>mean</td><td>-1319.1261</td></tr><tr><td>min</td><td>-1621.82056</td></tr><tr><td>std</td><td>218.39751</td></tr></table><br/></div></div>"
      ],
      "text/plain": [
       "<IPython.core.display.HTML object>"
      ]
     },
     "metadata": {},
     "output_type": "display_data"
    },
    {
     "data": {
      "text/html": [
       " View run <strong style=\"color:#cdcd00\">dry-sweep-68</strong> at: <a href='https://wandb.ai/zekai-wang/cs285_proj_get_action_true_dynamics_updated/runs/vwmx67ir' target=\"_blank\">https://wandb.ai/zekai-wang/cs285_proj_get_action_true_dynamics_updated/runs/vwmx67ir</a><br/>Synced 6 W&B file(s), 0 media file(s), 0 artifact file(s) and 0 other file(s)"
      ],
      "text/plain": [
       "<IPython.core.display.HTML object>"
      ]
     },
     "metadata": {},
     "output_type": "display_data"
    },
    {
     "data": {
      "text/html": [
       "Find logs at: <code>./wandb/run-20231210_001634-vwmx67ir/logs</code>"
      ],
      "text/plain": [
       "<IPython.core.display.HTML object>"
      ]
     },
     "metadata": {},
     "output_type": "display_data"
    },
    {
     "name": "stderr",
     "output_type": "stream",
     "text": [
      "\u001b[34m\u001b[1mwandb\u001b[0m: Agent Starting Run: r9wxcbcr with config:\n",
      "\u001b[34m\u001b[1mwandb\u001b[0m: \tcem_alpha: 0.99\n",
      "\u001b[34m\u001b[1mwandb\u001b[0m: \tcem_num_elites: 4\n",
      "\u001b[34m\u001b[1mwandb\u001b[0m: \tcem_num_iters: 8\n",
      "\u001b[34m\u001b[1mwandb\u001b[0m: \tmpc_discount: 1\n",
      "\u001b[34m\u001b[1mwandb\u001b[0m: \tmpc_horizon_steps: 5\n",
      "\u001b[34m\u001b[1mwandb\u001b[0m: \tmpc_num_action_sequences: 200\n",
      "\u001b[34m\u001b[1mwandb\u001b[0m: \tmpc_strategy: random\n",
      "/home/zekai/miniconda3/envs/cs285_proj/lib/python3.9/site-packages/ipywidgets/widgets/widget.py:528: DeprecationWarning: The `ipykernel.comm.Comm` class has been deprecated. Please use the `comm` module instead.For creating comms, use the function `from comm import create_comm`.\n",
      "  self.comm = Comm(**args)\n",
      "/home/zekai/miniconda3/envs/cs285_proj/lib/python3.9/site-packages/wandb/sdk/lib/ipython.py:77: DeprecationWarning: Importing display from IPython.core.display is deprecated since IPython 7.14, please import from IPython display\n",
      "  from IPython.core.display import HTML, display  # type: ignore\n"
     ]
    },
    {
     "data": {
      "text/html": [
       "Tracking run with wandb version 0.16.1"
      ],
      "text/plain": [
       "<IPython.core.display.HTML object>"
      ]
     },
     "metadata": {},
     "output_type": "display_data"
    },
    {
     "data": {
      "text/html": [
       "Run data is saved locally in <code>/home/zekai/repos/cs285_proj/notebooks/wandb/run-20231210_001700-r9wxcbcr</code>"
      ],
      "text/plain": [
       "<IPython.core.display.HTML object>"
      ]
     },
     "metadata": {},
     "output_type": "display_data"
    },
    {
     "data": {
      "text/html": [
       "Syncing run <strong><a href='https://wandb.ai/zekai-wang/cs285_proj_get_action_true_dynamics_updated/runs/r9wxcbcr' target=\"_blank\">eager-sweep-69</a></strong> to <a href='https://wandb.ai/zekai-wang/cs285_proj_get_action_true_dynamics_updated' target=\"_blank\">Weights & Biases</a> (<a href='https://wandb.me/run' target=\"_blank\">docs</a>)<br/>Sweep page: <a href='https://wandb.ai/zekai-wang/cs285_proj_get_action_true_dynamics_updated/sweeps/ok4muk7m' target=\"_blank\">https://wandb.ai/zekai-wang/cs285_proj_get_action_true_dynamics_updated/sweeps/ok4muk7m</a>"
      ],
      "text/plain": [
       "<IPython.core.display.HTML object>"
      ]
     },
     "metadata": {},
     "output_type": "display_data"
    },
    {
     "data": {
      "text/html": [
       " View project at <a href='https://wandb.ai/zekai-wang/cs285_proj_get_action_true_dynamics_updated' target=\"_blank\">https://wandb.ai/zekai-wang/cs285_proj_get_action_true_dynamics_updated</a>"
      ],
      "text/plain": [
       "<IPython.core.display.HTML object>"
      ]
     },
     "metadata": {},
     "output_type": "display_data"
    },
    {
     "data": {
      "text/html": [
       " View sweep at <a href='https://wandb.ai/zekai-wang/cs285_proj_get_action_true_dynamics_updated/sweeps/ok4muk7m' target=\"_blank\">https://wandb.ai/zekai-wang/cs285_proj_get_action_true_dynamics_updated/sweeps/ok4muk7m</a>"
      ],
      "text/plain": [
       "<IPython.core.display.HTML object>"
      ]
     },
     "metadata": {},
     "output_type": "display_data"
    },
    {
     "data": {
      "text/html": [
       " View run at <a href='https://wandb.ai/zekai-wang/cs285_proj_get_action_true_dynamics_updated/runs/r9wxcbcr' target=\"_blank\">https://wandb.ai/zekai-wang/cs285_proj_get_action_true_dynamics_updated/runs/r9wxcbcr</a>"
      ],
      "text/plain": [
       "<IPython.core.display.HTML object>"
      ]
     },
     "metadata": {},
     "output_type": "display_data"
    },
    {
     "name": "stderr",
     "output_type": "stream",
     "text": [
      "100%|██████████| 10/10 [00:14<00:00,  1.48s/it]\n"
     ]
    },
    {
     "name": "stdout",
     "output_type": "stream",
     "text": [
      "mean -1438.0288\n",
      "std 308.49335\n",
      "min -1826.0308\n",
      "max -978.27844\n"
     ]
    },
    {
     "data": {
      "application/vnd.jupyter.widget-view+json": {
       "model_id": "66d9a3e2f4904009838bb97e8b04c52e",
       "version_major": 2,
       "version_minor": 0
      },
      "text/plain": [
       "VBox(children=(Label(value='0.004 MB of 0.004 MB uploaded\\r'), FloatProgress(value=1.0, max=1.0)))"
      ]
     },
     "metadata": {},
     "output_type": "display_data"
    },
    {
     "data": {
      "text/html": [
       "<style>\n",
       "    table.wandb td:nth-child(1) { padding: 0 10px; text-align: left ; width: auto;} td:nth-child(2) {text-align: left ; width: 100%}\n",
       "    .wandb-row { display: flex; flex-direction: row; flex-wrap: wrap; justify-content: flex-start; width: 100% }\n",
       "    .wandb-col { display: flex; flex-direction: column; flex-basis: 100%; flex: 1; padding: 10px; }\n",
       "    </style>\n",
       "<div class=\"wandb-row\"><div class=\"wandb-col\"><h3>Run history:</h3><br/><table class=\"wandb\"><tr><td>max</td><td>▁</td></tr><tr><td>mean</td><td>▁</td></tr><tr><td>min</td><td>▁</td></tr><tr><td>std</td><td>▁</td></tr></table><br/></div><div class=\"wandb-col\"><h3>Run summary:</h3><br/><table class=\"wandb\"><tr><td>max</td><td>-978.27844</td></tr><tr><td>mean</td><td>-1438.02881</td></tr><tr><td>min</td><td>-1826.03076</td></tr><tr><td>std</td><td>308.49335</td></tr></table><br/></div></div>"
      ],
      "text/plain": [
       "<IPython.core.display.HTML object>"
      ]
     },
     "metadata": {},
     "output_type": "display_data"
    },
    {
     "data": {
      "text/html": [
       " View run <strong style=\"color:#cdcd00\">eager-sweep-69</strong> at: <a href='https://wandb.ai/zekai-wang/cs285_proj_get_action_true_dynamics_updated/runs/r9wxcbcr' target=\"_blank\">https://wandb.ai/zekai-wang/cs285_proj_get_action_true_dynamics_updated/runs/r9wxcbcr</a><br/>Synced 6 W&B file(s), 0 media file(s), 0 artifact file(s) and 0 other file(s)"
      ],
      "text/plain": [
       "<IPython.core.display.HTML object>"
      ]
     },
     "metadata": {},
     "output_type": "display_data"
    },
    {
     "data": {
      "text/html": [
       "Find logs at: <code>./wandb/run-20231210_001700-r9wxcbcr/logs</code>"
      ],
      "text/plain": [
       "<IPython.core.display.HTML object>"
      ]
     },
     "metadata": {},
     "output_type": "display_data"
    },
    {
     "name": "stderr",
     "output_type": "stream",
     "text": [
      "\u001b[34m\u001b[1mwandb\u001b[0m: Agent Starting Run: xvn1w6pk with config:\n",
      "\u001b[34m\u001b[1mwandb\u001b[0m: \tcem_alpha: 0.8\n",
      "\u001b[34m\u001b[1mwandb\u001b[0m: \tcem_num_elites: 2\n",
      "\u001b[34m\u001b[1mwandb\u001b[0m: \tcem_num_iters: 2\n",
      "\u001b[34m\u001b[1mwandb\u001b[0m: \tmpc_discount: 0.5\n",
      "\u001b[34m\u001b[1mwandb\u001b[0m: \tmpc_horizon_steps: 200\n",
      "\u001b[34m\u001b[1mwandb\u001b[0m: \tmpc_num_action_sequences: 100\n",
      "\u001b[34m\u001b[1mwandb\u001b[0m: \tmpc_strategy: random\n",
      "/home/zekai/miniconda3/envs/cs285_proj/lib/python3.9/site-packages/ipywidgets/widgets/widget.py:528: DeprecationWarning: The `ipykernel.comm.Comm` class has been deprecated. Please use the `comm` module instead.For creating comms, use the function `from comm import create_comm`.\n",
      "  self.comm = Comm(**args)\n",
      "/home/zekai/miniconda3/envs/cs285_proj/lib/python3.9/site-packages/wandb/sdk/lib/ipython.py:77: DeprecationWarning: Importing display from IPython.core.display is deprecated since IPython 7.14, please import from IPython display\n",
      "  from IPython.core.display import HTML, display  # type: ignore\n"
     ]
    },
    {
     "data": {
      "text/html": [
       "Tracking run with wandb version 0.16.1"
      ],
      "text/plain": [
       "<IPython.core.display.HTML object>"
      ]
     },
     "metadata": {},
     "output_type": "display_data"
    },
    {
     "data": {
      "text/html": [
       "Run data is saved locally in <code>/home/zekai/repos/cs285_proj/notebooks/wandb/run-20231210_001725-xvn1w6pk</code>"
      ],
      "text/plain": [
       "<IPython.core.display.HTML object>"
      ]
     },
     "metadata": {},
     "output_type": "display_data"
    },
    {
     "data": {
      "text/html": [
       "Syncing run <strong><a href='https://wandb.ai/zekai-wang/cs285_proj_get_action_true_dynamics_updated/runs/xvn1w6pk' target=\"_blank\">helpful-sweep-70</a></strong> to <a href='https://wandb.ai/zekai-wang/cs285_proj_get_action_true_dynamics_updated' target=\"_blank\">Weights & Biases</a> (<a href='https://wandb.me/run' target=\"_blank\">docs</a>)<br/>Sweep page: <a href='https://wandb.ai/zekai-wang/cs285_proj_get_action_true_dynamics_updated/sweeps/ok4muk7m' target=\"_blank\">https://wandb.ai/zekai-wang/cs285_proj_get_action_true_dynamics_updated/sweeps/ok4muk7m</a>"
      ],
      "text/plain": [
       "<IPython.core.display.HTML object>"
      ]
     },
     "metadata": {},
     "output_type": "display_data"
    },
    {
     "data": {
      "text/html": [
       " View project at <a href='https://wandb.ai/zekai-wang/cs285_proj_get_action_true_dynamics_updated' target=\"_blank\">https://wandb.ai/zekai-wang/cs285_proj_get_action_true_dynamics_updated</a>"
      ],
      "text/plain": [
       "<IPython.core.display.HTML object>"
      ]
     },
     "metadata": {},
     "output_type": "display_data"
    },
    {
     "data": {
      "text/html": [
       " View sweep at <a href='https://wandb.ai/zekai-wang/cs285_proj_get_action_true_dynamics_updated/sweeps/ok4muk7m' target=\"_blank\">https://wandb.ai/zekai-wang/cs285_proj_get_action_true_dynamics_updated/sweeps/ok4muk7m</a>"
      ],
      "text/plain": [
       "<IPython.core.display.HTML object>"
      ]
     },
     "metadata": {},
     "output_type": "display_data"
    },
    {
     "data": {
      "text/html": [
       " View run at <a href='https://wandb.ai/zekai-wang/cs285_proj_get_action_true_dynamics_updated/runs/xvn1w6pk' target=\"_blank\">https://wandb.ai/zekai-wang/cs285_proj_get_action_true_dynamics_updated/runs/xvn1w6pk</a>"
      ],
      "text/plain": [
       "<IPython.core.display.HTML object>"
      ]
     },
     "metadata": {},
     "output_type": "display_data"
    },
    {
     "name": "stderr",
     "output_type": "stream",
     "text": [
      "100%|██████████| 10/10 [00:14<00:00,  1.46s/it]\n"
     ]
    },
    {
     "name": "stdout",
     "output_type": "stream",
     "text": [
      "mean -1299.076\n",
      "std 323.31464\n",
      "min -1750.2788\n",
      "max -784.4679\n"
     ]
    },
    {
     "data": {
      "application/vnd.jupyter.widget-view+json": {
       "model_id": "33c70460b4394bcc893da8ee8ff0ab63",
       "version_major": 2,
       "version_minor": 0
      },
      "text/plain": [
       "VBox(children=(Label(value='0.004 MB of 0.004 MB uploaded\\r'), FloatProgress(value=1.0, max=1.0)))"
      ]
     },
     "metadata": {},
     "output_type": "display_data"
    },
    {
     "data": {
      "text/html": [
       "<style>\n",
       "    table.wandb td:nth-child(1) { padding: 0 10px; text-align: left ; width: auto;} td:nth-child(2) {text-align: left ; width: 100%}\n",
       "    .wandb-row { display: flex; flex-direction: row; flex-wrap: wrap; justify-content: flex-start; width: 100% }\n",
       "    .wandb-col { display: flex; flex-direction: column; flex-basis: 100%; flex: 1; padding: 10px; }\n",
       "    </style>\n",
       "<div class=\"wandb-row\"><div class=\"wandb-col\"><h3>Run history:</h3><br/><table class=\"wandb\"><tr><td>max</td><td>▁</td></tr><tr><td>mean</td><td>▁</td></tr><tr><td>min</td><td>▁</td></tr><tr><td>std</td><td>▁</td></tr></table><br/></div><div class=\"wandb-col\"><h3>Run summary:</h3><br/><table class=\"wandb\"><tr><td>max</td><td>-784.4679</td></tr><tr><td>mean</td><td>-1299.07605</td></tr><tr><td>min</td><td>-1750.27881</td></tr><tr><td>std</td><td>323.31464</td></tr></table><br/></div></div>"
      ],
      "text/plain": [
       "<IPython.core.display.HTML object>"
      ]
     },
     "metadata": {},
     "output_type": "display_data"
    },
    {
     "data": {
      "text/html": [
       " View run <strong style=\"color:#cdcd00\">helpful-sweep-70</strong> at: <a href='https://wandb.ai/zekai-wang/cs285_proj_get_action_true_dynamics_updated/runs/xvn1w6pk' target=\"_blank\">https://wandb.ai/zekai-wang/cs285_proj_get_action_true_dynamics_updated/runs/xvn1w6pk</a><br/>Synced 6 W&B file(s), 0 media file(s), 0 artifact file(s) and 0 other file(s)"
      ],
      "text/plain": [
       "<IPython.core.display.HTML object>"
      ]
     },
     "metadata": {},
     "output_type": "display_data"
    },
    {
     "data": {
      "text/html": [
       "Find logs at: <code>./wandb/run-20231210_001725-xvn1w6pk/logs</code>"
      ],
      "text/plain": [
       "<IPython.core.display.HTML object>"
      ]
     },
     "metadata": {},
     "output_type": "display_data"
    },
    {
     "name": "stderr",
     "output_type": "stream",
     "text": [
      "\u001b[34m\u001b[1mwandb\u001b[0m: Agent Starting Run: o2wl18nh with config:\n",
      "\u001b[34m\u001b[1mwandb\u001b[0m: \tcem_alpha: 0.8\n",
      "\u001b[34m\u001b[1mwandb\u001b[0m: \tcem_num_elites: 2\n",
      "\u001b[34m\u001b[1mwandb\u001b[0m: \tcem_num_iters: 2\n",
      "\u001b[34m\u001b[1mwandb\u001b[0m: \tmpc_discount: 0.99\n",
      "\u001b[34m\u001b[1mwandb\u001b[0m: \tmpc_horizon_steps: 200\n",
      "\u001b[34m\u001b[1mwandb\u001b[0m: \tmpc_num_action_sequences: 2000\n",
      "\u001b[34m\u001b[1mwandb\u001b[0m: \tmpc_strategy: random\n",
      "/home/zekai/miniconda3/envs/cs285_proj/lib/python3.9/site-packages/ipywidgets/widgets/widget.py:528: DeprecationWarning: The `ipykernel.comm.Comm` class has been deprecated. Please use the `comm` module instead.For creating comms, use the function `from comm import create_comm`.\n",
      "  self.comm = Comm(**args)\n",
      "/home/zekai/miniconda3/envs/cs285_proj/lib/python3.9/site-packages/wandb/sdk/lib/ipython.py:77: DeprecationWarning: Importing display from IPython.core.display is deprecated since IPython 7.14, please import from IPython display\n",
      "  from IPython.core.display import HTML, display  # type: ignore\n"
     ]
    },
    {
     "data": {
      "text/html": [
       "Tracking run with wandb version 0.16.1"
      ],
      "text/plain": [
       "<IPython.core.display.HTML object>"
      ]
     },
     "metadata": {},
     "output_type": "display_data"
    },
    {
     "data": {
      "text/html": [
       "Run data is saved locally in <code>/home/zekai/repos/cs285_proj/notebooks/wandb/run-20231210_001751-o2wl18nh</code>"
      ],
      "text/plain": [
       "<IPython.core.display.HTML object>"
      ]
     },
     "metadata": {},
     "output_type": "display_data"
    },
    {
     "data": {
      "text/html": [
       "Syncing run <strong><a href='https://wandb.ai/zekai-wang/cs285_proj_get_action_true_dynamics_updated/runs/o2wl18nh' target=\"_blank\">vague-sweep-71</a></strong> to <a href='https://wandb.ai/zekai-wang/cs285_proj_get_action_true_dynamics_updated' target=\"_blank\">Weights & Biases</a> (<a href='https://wandb.me/run' target=\"_blank\">docs</a>)<br/>Sweep page: <a href='https://wandb.ai/zekai-wang/cs285_proj_get_action_true_dynamics_updated/sweeps/ok4muk7m' target=\"_blank\">https://wandb.ai/zekai-wang/cs285_proj_get_action_true_dynamics_updated/sweeps/ok4muk7m</a>"
      ],
      "text/plain": [
       "<IPython.core.display.HTML object>"
      ]
     },
     "metadata": {},
     "output_type": "display_data"
    },
    {
     "data": {
      "text/html": [
       " View project at <a href='https://wandb.ai/zekai-wang/cs285_proj_get_action_true_dynamics_updated' target=\"_blank\">https://wandb.ai/zekai-wang/cs285_proj_get_action_true_dynamics_updated</a>"
      ],
      "text/plain": [
       "<IPython.core.display.HTML object>"
      ]
     },
     "metadata": {},
     "output_type": "display_data"
    },
    {
     "data": {
      "text/html": [
       " View sweep at <a href='https://wandb.ai/zekai-wang/cs285_proj_get_action_true_dynamics_updated/sweeps/ok4muk7m' target=\"_blank\">https://wandb.ai/zekai-wang/cs285_proj_get_action_true_dynamics_updated/sweeps/ok4muk7m</a>"
      ],
      "text/plain": [
       "<IPython.core.display.HTML object>"
      ]
     },
     "metadata": {},
     "output_type": "display_data"
    },
    {
     "data": {
      "text/html": [
       " View run at <a href='https://wandb.ai/zekai-wang/cs285_proj_get_action_true_dynamics_updated/runs/o2wl18nh' target=\"_blank\">https://wandb.ai/zekai-wang/cs285_proj_get_action_true_dynamics_updated/runs/o2wl18nh</a>"
      ],
      "text/plain": [
       "<IPython.core.display.HTML object>"
      ]
     },
     "metadata": {},
     "output_type": "display_data"
    },
    {
     "name": "stderr",
     "output_type": "stream",
     "text": [
      "100%|██████████| 10/10 [00:15<00:00,  1.50s/it]\n"
     ]
    },
    {
     "name": "stdout",
     "output_type": "stream",
     "text": [
      "mean -1280.3842\n",
      "std 235.06746\n",
      "min -1788.3253\n",
      "max -862.2379\n"
     ]
    },
    {
     "data": {
      "application/vnd.jupyter.widget-view+json": {
       "model_id": "b7f168196029406db16289dc2d19395b",
       "version_major": 2,
       "version_minor": 0
      },
      "text/plain": [
       "VBox(children=(Label(value='0.004 MB of 0.004 MB uploaded\\r'), FloatProgress(value=1.0, max=1.0)))"
      ]
     },
     "metadata": {},
     "output_type": "display_data"
    },
    {
     "data": {
      "text/html": [
       "<style>\n",
       "    table.wandb td:nth-child(1) { padding: 0 10px; text-align: left ; width: auto;} td:nth-child(2) {text-align: left ; width: 100%}\n",
       "    .wandb-row { display: flex; flex-direction: row; flex-wrap: wrap; justify-content: flex-start; width: 100% }\n",
       "    .wandb-col { display: flex; flex-direction: column; flex-basis: 100%; flex: 1; padding: 10px; }\n",
       "    </style>\n",
       "<div class=\"wandb-row\"><div class=\"wandb-col\"><h3>Run history:</h3><br/><table class=\"wandb\"><tr><td>max</td><td>▁</td></tr><tr><td>mean</td><td>▁</td></tr><tr><td>min</td><td>▁</td></tr><tr><td>std</td><td>▁</td></tr></table><br/></div><div class=\"wandb-col\"><h3>Run summary:</h3><br/><table class=\"wandb\"><tr><td>max</td><td>-862.23792</td></tr><tr><td>mean</td><td>-1280.38416</td></tr><tr><td>min</td><td>-1788.32532</td></tr><tr><td>std</td><td>235.06746</td></tr></table><br/></div></div>"
      ],
      "text/plain": [
       "<IPython.core.display.HTML object>"
      ]
     },
     "metadata": {},
     "output_type": "display_data"
    },
    {
     "data": {
      "text/html": [
       " View run <strong style=\"color:#cdcd00\">vague-sweep-71</strong> at: <a href='https://wandb.ai/zekai-wang/cs285_proj_get_action_true_dynamics_updated/runs/o2wl18nh' target=\"_blank\">https://wandb.ai/zekai-wang/cs285_proj_get_action_true_dynamics_updated/runs/o2wl18nh</a><br/>Synced 6 W&B file(s), 0 media file(s), 0 artifact file(s) and 0 other file(s)"
      ],
      "text/plain": [
       "<IPython.core.display.HTML object>"
      ]
     },
     "metadata": {},
     "output_type": "display_data"
    },
    {
     "data": {
      "text/html": [
       "Find logs at: <code>./wandb/run-20231210_001751-o2wl18nh/logs</code>"
      ],
      "text/plain": [
       "<IPython.core.display.HTML object>"
      ]
     },
     "metadata": {},
     "output_type": "display_data"
    },
    {
     "name": "stderr",
     "output_type": "stream",
     "text": [
      "\u001b[34m\u001b[1mwandb\u001b[0m: Agent Starting Run: p2x41sg4 with config:\n",
      "\u001b[34m\u001b[1mwandb\u001b[0m: \tcem_alpha: 0.5\n",
      "\u001b[34m\u001b[1mwandb\u001b[0m: \tcem_num_elites: 32\n",
      "\u001b[34m\u001b[1mwandb\u001b[0m: \tcem_num_iters: 4\n",
      "\u001b[34m\u001b[1mwandb\u001b[0m: \tmpc_discount: 0.8\n",
      "\u001b[34m\u001b[1mwandb\u001b[0m: \tmpc_horizon_steps: 5\n",
      "\u001b[34m\u001b[1mwandb\u001b[0m: \tmpc_num_action_sequences: 1000\n",
      "\u001b[34m\u001b[1mwandb\u001b[0m: \tmpc_strategy: cem\n",
      "/home/zekai/miniconda3/envs/cs285_proj/lib/python3.9/site-packages/ipywidgets/widgets/widget.py:528: DeprecationWarning: The `ipykernel.comm.Comm` class has been deprecated. Please use the `comm` module instead.For creating comms, use the function `from comm import create_comm`.\n",
      "  self.comm = Comm(**args)\n",
      "/home/zekai/miniconda3/envs/cs285_proj/lib/python3.9/site-packages/wandb/sdk/lib/ipython.py:77: DeprecationWarning: Importing display from IPython.core.display is deprecated since IPython 7.14, please import from IPython display\n",
      "  from IPython.core.display import HTML, display  # type: ignore\n"
     ]
    },
    {
     "data": {
      "text/html": [
       "Tracking run with wandb version 0.16.1"
      ],
      "text/plain": [
       "<IPython.core.display.HTML object>"
      ]
     },
     "metadata": {},
     "output_type": "display_data"
    },
    {
     "data": {
      "text/html": [
       "Run data is saved locally in <code>/home/zekai/repos/cs285_proj/notebooks/wandb/run-20231210_001816-p2x41sg4</code>"
      ],
      "text/plain": [
       "<IPython.core.display.HTML object>"
      ]
     },
     "metadata": {},
     "output_type": "display_data"
    },
    {
     "data": {
      "text/html": [
       "Syncing run <strong><a href='https://wandb.ai/zekai-wang/cs285_proj_get_action_true_dynamics_updated/runs/p2x41sg4' target=\"_blank\">trim-sweep-72</a></strong> to <a href='https://wandb.ai/zekai-wang/cs285_proj_get_action_true_dynamics_updated' target=\"_blank\">Weights & Biases</a> (<a href='https://wandb.me/run' target=\"_blank\">docs</a>)<br/>Sweep page: <a href='https://wandb.ai/zekai-wang/cs285_proj_get_action_true_dynamics_updated/sweeps/ok4muk7m' target=\"_blank\">https://wandb.ai/zekai-wang/cs285_proj_get_action_true_dynamics_updated/sweeps/ok4muk7m</a>"
      ],
      "text/plain": [
       "<IPython.core.display.HTML object>"
      ]
     },
     "metadata": {},
     "output_type": "display_data"
    },
    {
     "data": {
      "text/html": [
       " View project at <a href='https://wandb.ai/zekai-wang/cs285_proj_get_action_true_dynamics_updated' target=\"_blank\">https://wandb.ai/zekai-wang/cs285_proj_get_action_true_dynamics_updated</a>"
      ],
      "text/plain": [
       "<IPython.core.display.HTML object>"
      ]
     },
     "metadata": {},
     "output_type": "display_data"
    },
    {
     "data": {
      "text/html": [
       " View sweep at <a href='https://wandb.ai/zekai-wang/cs285_proj_get_action_true_dynamics_updated/sweeps/ok4muk7m' target=\"_blank\">https://wandb.ai/zekai-wang/cs285_proj_get_action_true_dynamics_updated/sweeps/ok4muk7m</a>"
      ],
      "text/plain": [
       "<IPython.core.display.HTML object>"
      ]
     },
     "metadata": {},
     "output_type": "display_data"
    },
    {
     "data": {
      "text/html": [
       " View run at <a href='https://wandb.ai/zekai-wang/cs285_proj_get_action_true_dynamics_updated/runs/p2x41sg4' target=\"_blank\">https://wandb.ai/zekai-wang/cs285_proj_get_action_true_dynamics_updated/runs/p2x41sg4</a>"
      ],
      "text/plain": [
       "<IPython.core.display.HTML object>"
      ]
     },
     "metadata": {},
     "output_type": "display_data"
    },
    {
     "name": "stderr",
     "output_type": "stream",
     "text": [
      "100%|██████████| 10/10 [00:15<00:00,  1.59s/it]\n"
     ]
    },
    {
     "name": "stdout",
     "output_type": "stream",
     "text": [
      "mean -1342.5403\n",
      "std 299.6917\n",
      "min -1870.6536\n",
      "max -862.86694\n"
     ]
    },
    {
     "data": {
      "application/vnd.jupyter.widget-view+json": {
       "model_id": "3121a56996a04f4ab3c1cc3db49b56f1",
       "version_major": 2,
       "version_minor": 0
      },
      "text/plain": [
       "VBox(children=(Label(value='0.004 MB of 0.004 MB uploaded\\r'), FloatProgress(value=1.0, max=1.0)))"
      ]
     },
     "metadata": {},
     "output_type": "display_data"
    },
    {
     "data": {
      "text/html": [
       "<style>\n",
       "    table.wandb td:nth-child(1) { padding: 0 10px; text-align: left ; width: auto;} td:nth-child(2) {text-align: left ; width: 100%}\n",
       "    .wandb-row { display: flex; flex-direction: row; flex-wrap: wrap; justify-content: flex-start; width: 100% }\n",
       "    .wandb-col { display: flex; flex-direction: column; flex-basis: 100%; flex: 1; padding: 10px; }\n",
       "    </style>\n",
       "<div class=\"wandb-row\"><div class=\"wandb-col\"><h3>Run history:</h3><br/><table class=\"wandb\"><tr><td>max</td><td>▁</td></tr><tr><td>mean</td><td>▁</td></tr><tr><td>min</td><td>▁</td></tr><tr><td>std</td><td>▁</td></tr></table><br/></div><div class=\"wandb-col\"><h3>Run summary:</h3><br/><table class=\"wandb\"><tr><td>max</td><td>-862.86694</td></tr><tr><td>mean</td><td>-1342.54028</td></tr><tr><td>min</td><td>-1870.65356</td></tr><tr><td>std</td><td>299.69171</td></tr></table><br/></div></div>"
      ],
      "text/plain": [
       "<IPython.core.display.HTML object>"
      ]
     },
     "metadata": {},
     "output_type": "display_data"
    },
    {
     "data": {
      "text/html": [
       " View run <strong style=\"color:#cdcd00\">trim-sweep-72</strong> at: <a href='https://wandb.ai/zekai-wang/cs285_proj_get_action_true_dynamics_updated/runs/p2x41sg4' target=\"_blank\">https://wandb.ai/zekai-wang/cs285_proj_get_action_true_dynamics_updated/runs/p2x41sg4</a><br/>Synced 6 W&B file(s), 0 media file(s), 0 artifact file(s) and 0 other file(s)"
      ],
      "text/plain": [
       "<IPython.core.display.HTML object>"
      ]
     },
     "metadata": {},
     "output_type": "display_data"
    },
    {
     "data": {
      "text/html": [
       "Find logs at: <code>./wandb/run-20231210_001816-p2x41sg4/logs</code>"
      ],
      "text/plain": [
       "<IPython.core.display.HTML object>"
      ]
     },
     "metadata": {},
     "output_type": "display_data"
    },
    {
     "name": "stderr",
     "output_type": "stream",
     "text": [
      "\u001b[34m\u001b[1mwandb\u001b[0m: Agent Starting Run: gf2yl508 with config:\n",
      "\u001b[34m\u001b[1mwandb\u001b[0m: \tcem_alpha: 0.9\n",
      "\u001b[34m\u001b[1mwandb\u001b[0m: \tcem_num_elites: 4\n",
      "\u001b[34m\u001b[1mwandb\u001b[0m: \tcem_num_iters: 4\n",
      "\u001b[34m\u001b[1mwandb\u001b[0m: \tmpc_discount: 0.8\n",
      "\u001b[34m\u001b[1mwandb\u001b[0m: \tmpc_horizon_steps: 2\n",
      "\u001b[34m\u001b[1mwandb\u001b[0m: \tmpc_num_action_sequences: 100\n",
      "\u001b[34m\u001b[1mwandb\u001b[0m: \tmpc_strategy: random\n",
      "/home/zekai/miniconda3/envs/cs285_proj/lib/python3.9/site-packages/ipywidgets/widgets/widget.py:528: DeprecationWarning: The `ipykernel.comm.Comm` class has been deprecated. Please use the `comm` module instead.For creating comms, use the function `from comm import create_comm`.\n",
      "  self.comm = Comm(**args)\n",
      "/home/zekai/miniconda3/envs/cs285_proj/lib/python3.9/site-packages/wandb/sdk/lib/ipython.py:77: DeprecationWarning: Importing display from IPython.core.display is deprecated since IPython 7.14, please import from IPython display\n",
      "  from IPython.core.display import HTML, display  # type: ignore\n"
     ]
    },
    {
     "data": {
      "text/html": [
       "Tracking run with wandb version 0.16.1"
      ],
      "text/plain": [
       "<IPython.core.display.HTML object>"
      ]
     },
     "metadata": {},
     "output_type": "display_data"
    },
    {
     "data": {
      "text/html": [
       "Run data is saved locally in <code>/home/zekai/repos/cs285_proj/notebooks/wandb/run-20231210_001847-gf2yl508</code>"
      ],
      "text/plain": [
       "<IPython.core.display.HTML object>"
      ]
     },
     "metadata": {},
     "output_type": "display_data"
    },
    {
     "data": {
      "text/html": [
       "Syncing run <strong><a href='https://wandb.ai/zekai-wang/cs285_proj_get_action_true_dynamics_updated/runs/gf2yl508' target=\"_blank\">sweet-sweep-73</a></strong> to <a href='https://wandb.ai/zekai-wang/cs285_proj_get_action_true_dynamics_updated' target=\"_blank\">Weights & Biases</a> (<a href='https://wandb.me/run' target=\"_blank\">docs</a>)<br/>Sweep page: <a href='https://wandb.ai/zekai-wang/cs285_proj_get_action_true_dynamics_updated/sweeps/ok4muk7m' target=\"_blank\">https://wandb.ai/zekai-wang/cs285_proj_get_action_true_dynamics_updated/sweeps/ok4muk7m</a>"
      ],
      "text/plain": [
       "<IPython.core.display.HTML object>"
      ]
     },
     "metadata": {},
     "output_type": "display_data"
    },
    {
     "data": {
      "text/html": [
       " View project at <a href='https://wandb.ai/zekai-wang/cs285_proj_get_action_true_dynamics_updated' target=\"_blank\">https://wandb.ai/zekai-wang/cs285_proj_get_action_true_dynamics_updated</a>"
      ],
      "text/plain": [
       "<IPython.core.display.HTML object>"
      ]
     },
     "metadata": {},
     "output_type": "display_data"
    },
    {
     "data": {
      "text/html": [
       " View sweep at <a href='https://wandb.ai/zekai-wang/cs285_proj_get_action_true_dynamics_updated/sweeps/ok4muk7m' target=\"_blank\">https://wandb.ai/zekai-wang/cs285_proj_get_action_true_dynamics_updated/sweeps/ok4muk7m</a>"
      ],
      "text/plain": [
       "<IPython.core.display.HTML object>"
      ]
     },
     "metadata": {},
     "output_type": "display_data"
    },
    {
     "data": {
      "text/html": [
       " View run at <a href='https://wandb.ai/zekai-wang/cs285_proj_get_action_true_dynamics_updated/runs/gf2yl508' target=\"_blank\">https://wandb.ai/zekai-wang/cs285_proj_get_action_true_dynamics_updated/runs/gf2yl508</a>"
      ],
      "text/plain": [
       "<IPython.core.display.HTML object>"
      ]
     },
     "metadata": {},
     "output_type": "display_data"
    },
    {
     "name": "stderr",
     "output_type": "stream",
     "text": [
      "100%|██████████| 10/10 [00:16<00:00,  1.63s/it]\n"
     ]
    },
    {
     "name": "stdout",
     "output_type": "stream",
     "text": [
      "mean -1159.5209\n",
      "std 328.25\n",
      "min -1755.5392\n",
      "max -866.83124\n"
     ]
    },
    {
     "data": {
      "application/vnd.jupyter.widget-view+json": {
       "model_id": "98da4bd4565d4bb4a2a7c6cec25dc955",
       "version_major": 2,
       "version_minor": 0
      },
      "text/plain": [
       "VBox(children=(Label(value='0.004 MB of 0.004 MB uploaded\\r'), FloatProgress(value=1.0, max=1.0)))"
      ]
     },
     "metadata": {},
     "output_type": "display_data"
    },
    {
     "data": {
      "text/html": [
       "<style>\n",
       "    table.wandb td:nth-child(1) { padding: 0 10px; text-align: left ; width: auto;} td:nth-child(2) {text-align: left ; width: 100%}\n",
       "    .wandb-row { display: flex; flex-direction: row; flex-wrap: wrap; justify-content: flex-start; width: 100% }\n",
       "    .wandb-col { display: flex; flex-direction: column; flex-basis: 100%; flex: 1; padding: 10px; }\n",
       "    </style>\n",
       "<div class=\"wandb-row\"><div class=\"wandb-col\"><h3>Run history:</h3><br/><table class=\"wandb\"><tr><td>max</td><td>▁</td></tr><tr><td>mean</td><td>▁</td></tr><tr><td>min</td><td>▁</td></tr><tr><td>std</td><td>▁</td></tr></table><br/></div><div class=\"wandb-col\"><h3>Run summary:</h3><br/><table class=\"wandb\"><tr><td>max</td><td>-866.83124</td></tr><tr><td>mean</td><td>-1159.52087</td></tr><tr><td>min</td><td>-1755.53918</td></tr><tr><td>std</td><td>328.25</td></tr></table><br/></div></div>"
      ],
      "text/plain": [
       "<IPython.core.display.HTML object>"
      ]
     },
     "metadata": {},
     "output_type": "display_data"
    },
    {
     "data": {
      "text/html": [
       " View run <strong style=\"color:#cdcd00\">sweet-sweep-73</strong> at: <a href='https://wandb.ai/zekai-wang/cs285_proj_get_action_true_dynamics_updated/runs/gf2yl508' target=\"_blank\">https://wandb.ai/zekai-wang/cs285_proj_get_action_true_dynamics_updated/runs/gf2yl508</a><br/>Synced 6 W&B file(s), 0 media file(s), 0 artifact file(s) and 0 other file(s)"
      ],
      "text/plain": [
       "<IPython.core.display.HTML object>"
      ]
     },
     "metadata": {},
     "output_type": "display_data"
    },
    {
     "data": {
      "text/html": [
       "Find logs at: <code>./wandb/run-20231210_001847-gf2yl508/logs</code>"
      ],
      "text/plain": [
       "<IPython.core.display.HTML object>"
      ]
     },
     "metadata": {},
     "output_type": "display_data"
    },
    {
     "name": "stderr",
     "output_type": "stream",
     "text": [
      "\u001b[34m\u001b[1mwandb\u001b[0m: Agent Starting Run: kborgb9x with config:\n",
      "\u001b[34m\u001b[1mwandb\u001b[0m: \tcem_alpha: 1\n",
      "\u001b[34m\u001b[1mwandb\u001b[0m: \tcem_num_elites: 8\n",
      "\u001b[34m\u001b[1mwandb\u001b[0m: \tcem_num_iters: 2\n",
      "\u001b[34m\u001b[1mwandb\u001b[0m: \tmpc_discount: 1\n",
      "\u001b[34m\u001b[1mwandb\u001b[0m: \tmpc_horizon_steps: 100\n",
      "\u001b[34m\u001b[1mwandb\u001b[0m: \tmpc_num_action_sequences: 500\n",
      "\u001b[34m\u001b[1mwandb\u001b[0m: \tmpc_strategy: cem\n",
      "/home/zekai/miniconda3/envs/cs285_proj/lib/python3.9/site-packages/ipywidgets/widgets/widget.py:528: DeprecationWarning: The `ipykernel.comm.Comm` class has been deprecated. Please use the `comm` module instead.For creating comms, use the function `from comm import create_comm`.\n",
      "  self.comm = Comm(**args)\n",
      "/home/zekai/miniconda3/envs/cs285_proj/lib/python3.9/site-packages/wandb/sdk/lib/ipython.py:77: DeprecationWarning: Importing display from IPython.core.display is deprecated since IPython 7.14, please import from IPython display\n",
      "  from IPython.core.display import HTML, display  # type: ignore\n"
     ]
    },
    {
     "data": {
      "text/html": [
       "Tracking run with wandb version 0.16.1"
      ],
      "text/plain": [
       "<IPython.core.display.HTML object>"
      ]
     },
     "metadata": {},
     "output_type": "display_data"
    },
    {
     "data": {
      "text/html": [
       "Run data is saved locally in <code>/home/zekai/repos/cs285_proj/notebooks/wandb/run-20231210_001914-kborgb9x</code>"
      ],
      "text/plain": [
       "<IPython.core.display.HTML object>"
      ]
     },
     "metadata": {},
     "output_type": "display_data"
    },
    {
     "data": {
      "text/html": [
       "Syncing run <strong><a href='https://wandb.ai/zekai-wang/cs285_proj_get_action_true_dynamics_updated/runs/kborgb9x' target=\"_blank\">sparkling-sweep-74</a></strong> to <a href='https://wandb.ai/zekai-wang/cs285_proj_get_action_true_dynamics_updated' target=\"_blank\">Weights & Biases</a> (<a href='https://wandb.me/run' target=\"_blank\">docs</a>)<br/>Sweep page: <a href='https://wandb.ai/zekai-wang/cs285_proj_get_action_true_dynamics_updated/sweeps/ok4muk7m' target=\"_blank\">https://wandb.ai/zekai-wang/cs285_proj_get_action_true_dynamics_updated/sweeps/ok4muk7m</a>"
      ],
      "text/plain": [
       "<IPython.core.display.HTML object>"
      ]
     },
     "metadata": {},
     "output_type": "display_data"
    },
    {
     "data": {
      "text/html": [
       " View project at <a href='https://wandb.ai/zekai-wang/cs285_proj_get_action_true_dynamics_updated' target=\"_blank\">https://wandb.ai/zekai-wang/cs285_proj_get_action_true_dynamics_updated</a>"
      ],
      "text/plain": [
       "<IPython.core.display.HTML object>"
      ]
     },
     "metadata": {},
     "output_type": "display_data"
    },
    {
     "data": {
      "text/html": [
       " View sweep at <a href='https://wandb.ai/zekai-wang/cs285_proj_get_action_true_dynamics_updated/sweeps/ok4muk7m' target=\"_blank\">https://wandb.ai/zekai-wang/cs285_proj_get_action_true_dynamics_updated/sweeps/ok4muk7m</a>"
      ],
      "text/plain": [
       "<IPython.core.display.HTML object>"
      ]
     },
     "metadata": {},
     "output_type": "display_data"
    },
    {
     "data": {
      "text/html": [
       " View run at <a href='https://wandb.ai/zekai-wang/cs285_proj_get_action_true_dynamics_updated/runs/kborgb9x' target=\"_blank\">https://wandb.ai/zekai-wang/cs285_proj_get_action_true_dynamics_updated/runs/kborgb9x</a>"
      ],
      "text/plain": [
       "<IPython.core.display.HTML object>"
      ]
     },
     "metadata": {},
     "output_type": "display_data"
    },
    {
     "name": "stderr",
     "output_type": "stream",
     "text": [
      "100%|██████████| 10/10 [00:16<00:00,  1.63s/it]\n"
     ]
    },
    {
     "name": "stdout",
     "output_type": "stream",
     "text": [
      "mean -1247.6193\n",
      "std 315.98\n",
      "min -1719.2054\n",
      "max -753.2404\n"
     ]
    },
    {
     "data": {
      "application/vnd.jupyter.widget-view+json": {
       "model_id": "6158f70b9a3b48be81dcf36a6c0ce819",
       "version_major": 2,
       "version_minor": 0
      },
      "text/plain": [
       "VBox(children=(Label(value='0.004 MB of 0.004 MB uploaded\\r'), FloatProgress(value=1.0, max=1.0)))"
      ]
     },
     "metadata": {},
     "output_type": "display_data"
    },
    {
     "data": {
      "text/html": [
       "<style>\n",
       "    table.wandb td:nth-child(1) { padding: 0 10px; text-align: left ; width: auto;} td:nth-child(2) {text-align: left ; width: 100%}\n",
       "    .wandb-row { display: flex; flex-direction: row; flex-wrap: wrap; justify-content: flex-start; width: 100% }\n",
       "    .wandb-col { display: flex; flex-direction: column; flex-basis: 100%; flex: 1; padding: 10px; }\n",
       "    </style>\n",
       "<div class=\"wandb-row\"><div class=\"wandb-col\"><h3>Run history:</h3><br/><table class=\"wandb\"><tr><td>max</td><td>▁</td></tr><tr><td>mean</td><td>▁</td></tr><tr><td>min</td><td>▁</td></tr><tr><td>std</td><td>▁</td></tr></table><br/></div><div class=\"wandb-col\"><h3>Run summary:</h3><br/><table class=\"wandb\"><tr><td>max</td><td>-753.24042</td></tr><tr><td>mean</td><td>-1247.61926</td></tr><tr><td>min</td><td>-1719.20544</td></tr><tr><td>std</td><td>315.98001</td></tr></table><br/></div></div>"
      ],
      "text/plain": [
       "<IPython.core.display.HTML object>"
      ]
     },
     "metadata": {},
     "output_type": "display_data"
    },
    {
     "data": {
      "text/html": [
       " View run <strong style=\"color:#cdcd00\">sparkling-sweep-74</strong> at: <a href='https://wandb.ai/zekai-wang/cs285_proj_get_action_true_dynamics_updated/runs/kborgb9x' target=\"_blank\">https://wandb.ai/zekai-wang/cs285_proj_get_action_true_dynamics_updated/runs/kborgb9x</a><br/>Synced 6 W&B file(s), 0 media file(s), 0 artifact file(s) and 0 other file(s)"
      ],
      "text/plain": [
       "<IPython.core.display.HTML object>"
      ]
     },
     "metadata": {},
     "output_type": "display_data"
    },
    {
     "data": {
      "text/html": [
       "Find logs at: <code>./wandb/run-20231210_001914-kborgb9x/logs</code>"
      ],
      "text/plain": [
       "<IPython.core.display.HTML object>"
      ]
     },
     "metadata": {},
     "output_type": "display_data"
    },
    {
     "name": "stderr",
     "output_type": "stream",
     "text": [
      "\u001b[34m\u001b[1mwandb\u001b[0m: Agent Starting Run: sp70fw61 with config:\n",
      "\u001b[34m\u001b[1mwandb\u001b[0m: \tcem_alpha: 0.99\n",
      "\u001b[34m\u001b[1mwandb\u001b[0m: \tcem_num_elites: 2\n",
      "\u001b[34m\u001b[1mwandb\u001b[0m: \tcem_num_iters: 8\n",
      "\u001b[34m\u001b[1mwandb\u001b[0m: \tmpc_discount: 0.99\n",
      "\u001b[34m\u001b[1mwandb\u001b[0m: \tmpc_horizon_steps: 100\n",
      "\u001b[34m\u001b[1mwandb\u001b[0m: \tmpc_num_action_sequences: 1000\n",
      "\u001b[34m\u001b[1mwandb\u001b[0m: \tmpc_strategy: random\n",
      "/home/zekai/miniconda3/envs/cs285_proj/lib/python3.9/site-packages/ipywidgets/widgets/widget.py:528: DeprecationWarning: The `ipykernel.comm.Comm` class has been deprecated. Please use the `comm` module instead.For creating comms, use the function `from comm import create_comm`.\n",
      "  self.comm = Comm(**args)\n",
      "/home/zekai/miniconda3/envs/cs285_proj/lib/python3.9/site-packages/wandb/sdk/lib/ipython.py:77: DeprecationWarning: Importing display from IPython.core.display is deprecated since IPython 7.14, please import from IPython display\n",
      "  from IPython.core.display import HTML, display  # type: ignore\n"
     ]
    },
    {
     "data": {
      "text/html": [
       "Tracking run with wandb version 0.16.1"
      ],
      "text/plain": [
       "<IPython.core.display.HTML object>"
      ]
     },
     "metadata": {},
     "output_type": "display_data"
    },
    {
     "data": {
      "text/html": [
       "Run data is saved locally in <code>/home/zekai/repos/cs285_proj/notebooks/wandb/run-20231210_001940-sp70fw61</code>"
      ],
      "text/plain": [
       "<IPython.core.display.HTML object>"
      ]
     },
     "metadata": {},
     "output_type": "display_data"
    },
    {
     "data": {
      "text/html": [
       "Syncing run <strong><a href='https://wandb.ai/zekai-wang/cs285_proj_get_action_true_dynamics_updated/runs/sp70fw61' target=\"_blank\">wandering-sweep-75</a></strong> to <a href='https://wandb.ai/zekai-wang/cs285_proj_get_action_true_dynamics_updated' target=\"_blank\">Weights & Biases</a> (<a href='https://wandb.me/run' target=\"_blank\">docs</a>)<br/>Sweep page: <a href='https://wandb.ai/zekai-wang/cs285_proj_get_action_true_dynamics_updated/sweeps/ok4muk7m' target=\"_blank\">https://wandb.ai/zekai-wang/cs285_proj_get_action_true_dynamics_updated/sweeps/ok4muk7m</a>"
      ],
      "text/plain": [
       "<IPython.core.display.HTML object>"
      ]
     },
     "metadata": {},
     "output_type": "display_data"
    },
    {
     "data": {
      "text/html": [
       " View project at <a href='https://wandb.ai/zekai-wang/cs285_proj_get_action_true_dynamics_updated' target=\"_blank\">https://wandb.ai/zekai-wang/cs285_proj_get_action_true_dynamics_updated</a>"
      ],
      "text/plain": [
       "<IPython.core.display.HTML object>"
      ]
     },
     "metadata": {},
     "output_type": "display_data"
    },
    {
     "data": {
      "text/html": [
       " View sweep at <a href='https://wandb.ai/zekai-wang/cs285_proj_get_action_true_dynamics_updated/sweeps/ok4muk7m' target=\"_blank\">https://wandb.ai/zekai-wang/cs285_proj_get_action_true_dynamics_updated/sweeps/ok4muk7m</a>"
      ],
      "text/plain": [
       "<IPython.core.display.HTML object>"
      ]
     },
     "metadata": {},
     "output_type": "display_data"
    },
    {
     "data": {
      "text/html": [
       " View run at <a href='https://wandb.ai/zekai-wang/cs285_proj_get_action_true_dynamics_updated/runs/sp70fw61' target=\"_blank\">https://wandb.ai/zekai-wang/cs285_proj_get_action_true_dynamics_updated/runs/sp70fw61</a>"
      ],
      "text/plain": [
       "<IPython.core.display.HTML object>"
      ]
     },
     "metadata": {},
     "output_type": "display_data"
    },
    {
     "name": "stderr",
     "output_type": "stream",
     "text": [
      "100%|██████████| 10/10 [00:16<00:00,  1.61s/it]\n"
     ]
    },
    {
     "name": "stdout",
     "output_type": "stream",
     "text": [
      "mean -1191.506\n",
      "std 249.8792\n",
      "min -1810.8491\n",
      "max -894.81085\n"
     ]
    },
    {
     "data": {
      "application/vnd.jupyter.widget-view+json": {
       "model_id": "9acebccabc1c419794248f469db0ca9d",
       "version_major": 2,
       "version_minor": 0
      },
      "text/plain": [
       "VBox(children=(Label(value='0.004 MB of 0.004 MB uploaded\\r'), FloatProgress(value=1.0, max=1.0)))"
      ]
     },
     "metadata": {},
     "output_type": "display_data"
    },
    {
     "data": {
      "text/html": [
       "<style>\n",
       "    table.wandb td:nth-child(1) { padding: 0 10px; text-align: left ; width: auto;} td:nth-child(2) {text-align: left ; width: 100%}\n",
       "    .wandb-row { display: flex; flex-direction: row; flex-wrap: wrap; justify-content: flex-start; width: 100% }\n",
       "    .wandb-col { display: flex; flex-direction: column; flex-basis: 100%; flex: 1; padding: 10px; }\n",
       "    </style>\n",
       "<div class=\"wandb-row\"><div class=\"wandb-col\"><h3>Run history:</h3><br/><table class=\"wandb\"><tr><td>max</td><td>▁</td></tr><tr><td>mean</td><td>▁</td></tr><tr><td>min</td><td>▁</td></tr><tr><td>std</td><td>▁</td></tr></table><br/></div><div class=\"wandb-col\"><h3>Run summary:</h3><br/><table class=\"wandb\"><tr><td>max</td><td>-894.81085</td></tr><tr><td>mean</td><td>-1191.50598</td></tr><tr><td>min</td><td>-1810.84912</td></tr><tr><td>std</td><td>249.8792</td></tr></table><br/></div></div>"
      ],
      "text/plain": [
       "<IPython.core.display.HTML object>"
      ]
     },
     "metadata": {},
     "output_type": "display_data"
    },
    {
     "data": {
      "text/html": [
       " View run <strong style=\"color:#cdcd00\">wandering-sweep-75</strong> at: <a href='https://wandb.ai/zekai-wang/cs285_proj_get_action_true_dynamics_updated/runs/sp70fw61' target=\"_blank\">https://wandb.ai/zekai-wang/cs285_proj_get_action_true_dynamics_updated/runs/sp70fw61</a><br/>Synced 6 W&B file(s), 0 media file(s), 0 artifact file(s) and 0 other file(s)"
      ],
      "text/plain": [
       "<IPython.core.display.HTML object>"
      ]
     },
     "metadata": {},
     "output_type": "display_data"
    },
    {
     "data": {
      "text/html": [
       "Find logs at: <code>./wandb/run-20231210_001940-sp70fw61/logs</code>"
      ],
      "text/plain": [
       "<IPython.core.display.HTML object>"
      ]
     },
     "metadata": {},
     "output_type": "display_data"
    },
    {
     "name": "stderr",
     "output_type": "stream",
     "text": [
      "\u001b[34m\u001b[1mwandb\u001b[0m: Agent Starting Run: ffrnz4qb with config:\n",
      "\u001b[34m\u001b[1mwandb\u001b[0m: \tcem_alpha: 0.8\n",
      "\u001b[34m\u001b[1mwandb\u001b[0m: \tcem_num_elites: 8\n",
      "\u001b[34m\u001b[1mwandb\u001b[0m: \tcem_num_iters: 16\n",
      "\u001b[34m\u001b[1mwandb\u001b[0m: \tmpc_discount: 0.99\n",
      "\u001b[34m\u001b[1mwandb\u001b[0m: \tmpc_horizon_steps: 2\n",
      "\u001b[34m\u001b[1mwandb\u001b[0m: \tmpc_num_action_sequences: 500\n",
      "\u001b[34m\u001b[1mwandb\u001b[0m: \tmpc_strategy: cem\n",
      "/home/zekai/miniconda3/envs/cs285_proj/lib/python3.9/site-packages/ipywidgets/widgets/widget.py:528: DeprecationWarning: The `ipykernel.comm.Comm` class has been deprecated. Please use the `comm` module instead.For creating comms, use the function `from comm import create_comm`.\n",
      "  self.comm = Comm(**args)\n",
      "/home/zekai/miniconda3/envs/cs285_proj/lib/python3.9/site-packages/wandb/sdk/lib/ipython.py:77: DeprecationWarning: Importing display from IPython.core.display is deprecated since IPython 7.14, please import from IPython display\n",
      "  from IPython.core.display import HTML, display  # type: ignore\n"
     ]
    },
    {
     "data": {
      "text/html": [
       "Tracking run with wandb version 0.16.1"
      ],
      "text/plain": [
       "<IPython.core.display.HTML object>"
      ]
     },
     "metadata": {},
     "output_type": "display_data"
    },
    {
     "data": {
      "text/html": [
       "Run data is saved locally in <code>/home/zekai/repos/cs285_proj/notebooks/wandb/run-20231210_002010-ffrnz4qb</code>"
      ],
      "text/plain": [
       "<IPython.core.display.HTML object>"
      ]
     },
     "metadata": {},
     "output_type": "display_data"
    },
    {
     "data": {
      "text/html": [
       "Syncing run <strong><a href='https://wandb.ai/zekai-wang/cs285_proj_get_action_true_dynamics_updated/runs/ffrnz4qb' target=\"_blank\">whole-sweep-76</a></strong> to <a href='https://wandb.ai/zekai-wang/cs285_proj_get_action_true_dynamics_updated' target=\"_blank\">Weights & Biases</a> (<a href='https://wandb.me/run' target=\"_blank\">docs</a>)<br/>Sweep page: <a href='https://wandb.ai/zekai-wang/cs285_proj_get_action_true_dynamics_updated/sweeps/ok4muk7m' target=\"_blank\">https://wandb.ai/zekai-wang/cs285_proj_get_action_true_dynamics_updated/sweeps/ok4muk7m</a>"
      ],
      "text/plain": [
       "<IPython.core.display.HTML object>"
      ]
     },
     "metadata": {},
     "output_type": "display_data"
    },
    {
     "data": {
      "text/html": [
       " View project at <a href='https://wandb.ai/zekai-wang/cs285_proj_get_action_true_dynamics_updated' target=\"_blank\">https://wandb.ai/zekai-wang/cs285_proj_get_action_true_dynamics_updated</a>"
      ],
      "text/plain": [
       "<IPython.core.display.HTML object>"
      ]
     },
     "metadata": {},
     "output_type": "display_data"
    },
    {
     "data": {
      "text/html": [
       " View sweep at <a href='https://wandb.ai/zekai-wang/cs285_proj_get_action_true_dynamics_updated/sweeps/ok4muk7m' target=\"_blank\">https://wandb.ai/zekai-wang/cs285_proj_get_action_true_dynamics_updated/sweeps/ok4muk7m</a>"
      ],
      "text/plain": [
       "<IPython.core.display.HTML object>"
      ]
     },
     "metadata": {},
     "output_type": "display_data"
    },
    {
     "data": {
      "text/html": [
       " View run at <a href='https://wandb.ai/zekai-wang/cs285_proj_get_action_true_dynamics_updated/runs/ffrnz4qb' target=\"_blank\">https://wandb.ai/zekai-wang/cs285_proj_get_action_true_dynamics_updated/runs/ffrnz4qb</a>"
      ],
      "text/plain": [
       "<IPython.core.display.HTML object>"
      ]
     },
     "metadata": {},
     "output_type": "display_data"
    },
    {
     "name": "stderr",
     "output_type": "stream",
     "text": [
      "100%|██████████| 10/10 [00:17<00:00,  1.74s/it]\n"
     ]
    },
    {
     "name": "stdout",
     "output_type": "stream",
     "text": [
      "mean -1108.5139\n",
      "std 283.40802\n",
      "min -1659.2349\n",
      "max -679.5001\n"
     ]
    },
    {
     "data": {
      "application/vnd.jupyter.widget-view+json": {
       "model_id": "224c3061ea0d41a2b21217e427fb78fb",
       "version_major": 2,
       "version_minor": 0
      },
      "text/plain": [
       "VBox(children=(Label(value='0.004 MB of 0.004 MB uploaded\\r'), FloatProgress(value=1.0, max=1.0)))"
      ]
     },
     "metadata": {},
     "output_type": "display_data"
    },
    {
     "data": {
      "text/html": [
       "<style>\n",
       "    table.wandb td:nth-child(1) { padding: 0 10px; text-align: left ; width: auto;} td:nth-child(2) {text-align: left ; width: 100%}\n",
       "    .wandb-row { display: flex; flex-direction: row; flex-wrap: wrap; justify-content: flex-start; width: 100% }\n",
       "    .wandb-col { display: flex; flex-direction: column; flex-basis: 100%; flex: 1; padding: 10px; }\n",
       "    </style>\n",
       "<div class=\"wandb-row\"><div class=\"wandb-col\"><h3>Run history:</h3><br/><table class=\"wandb\"><tr><td>max</td><td>▁</td></tr><tr><td>mean</td><td>▁</td></tr><tr><td>min</td><td>▁</td></tr><tr><td>std</td><td>▁</td></tr></table><br/></div><div class=\"wandb-col\"><h3>Run summary:</h3><br/><table class=\"wandb\"><tr><td>max</td><td>-679.50012</td></tr><tr><td>mean</td><td>-1108.51392</td></tr><tr><td>min</td><td>-1659.23486</td></tr><tr><td>std</td><td>283.40802</td></tr></table><br/></div></div>"
      ],
      "text/plain": [
       "<IPython.core.display.HTML object>"
      ]
     },
     "metadata": {},
     "output_type": "display_data"
    },
    {
     "data": {
      "text/html": [
       " View run <strong style=\"color:#cdcd00\">whole-sweep-76</strong> at: <a href='https://wandb.ai/zekai-wang/cs285_proj_get_action_true_dynamics_updated/runs/ffrnz4qb' target=\"_blank\">https://wandb.ai/zekai-wang/cs285_proj_get_action_true_dynamics_updated/runs/ffrnz4qb</a><br/>Synced 6 W&B file(s), 0 media file(s), 0 artifact file(s) and 0 other file(s)"
      ],
      "text/plain": [
       "<IPython.core.display.HTML object>"
      ]
     },
     "metadata": {},
     "output_type": "display_data"
    },
    {
     "data": {
      "text/html": [
       "Find logs at: <code>./wandb/run-20231210_002010-ffrnz4qb/logs</code>"
      ],
      "text/plain": [
       "<IPython.core.display.HTML object>"
      ]
     },
     "metadata": {},
     "output_type": "display_data"
    },
    {
     "name": "stderr",
     "output_type": "stream",
     "text": [
      "\u001b[34m\u001b[1mwandb\u001b[0m: Agent Starting Run: vm1vdyom with config:\n",
      "\u001b[34m\u001b[1mwandb\u001b[0m: \tcem_alpha: 0.5\n",
      "\u001b[34m\u001b[1mwandb\u001b[0m: \tcem_num_elites: 2\n",
      "\u001b[34m\u001b[1mwandb\u001b[0m: \tcem_num_iters: 4\n",
      "\u001b[34m\u001b[1mwandb\u001b[0m: \tmpc_discount: 0.8\n",
      "\u001b[34m\u001b[1mwandb\u001b[0m: \tmpc_horizon_steps: 2\n",
      "\u001b[34m\u001b[1mwandb\u001b[0m: \tmpc_num_action_sequences: 100\n",
      "\u001b[34m\u001b[1mwandb\u001b[0m: \tmpc_strategy: random\n",
      "/home/zekai/miniconda3/envs/cs285_proj/lib/python3.9/site-packages/ipywidgets/widgets/widget.py:528: DeprecationWarning: The `ipykernel.comm.Comm` class has been deprecated. Please use the `comm` module instead.For creating comms, use the function `from comm import create_comm`.\n",
      "  self.comm = Comm(**args)\n",
      "/home/zekai/miniconda3/envs/cs285_proj/lib/python3.9/site-packages/wandb/sdk/lib/ipython.py:77: DeprecationWarning: Importing display from IPython.core.display is deprecated since IPython 7.14, please import from IPython display\n",
      "  from IPython.core.display import HTML, display  # type: ignore\n"
     ]
    },
    {
     "data": {
      "text/html": [
       "Tracking run with wandb version 0.16.1"
      ],
      "text/plain": [
       "<IPython.core.display.HTML object>"
      ]
     },
     "metadata": {},
     "output_type": "display_data"
    },
    {
     "data": {
      "text/html": [
       "Run data is saved locally in <code>/home/zekai/repos/cs285_proj/notebooks/wandb/run-20231210_002040-vm1vdyom</code>"
      ],
      "text/plain": [
       "<IPython.core.display.HTML object>"
      ]
     },
     "metadata": {},
     "output_type": "display_data"
    },
    {
     "data": {
      "text/html": [
       "Syncing run <strong><a href='https://wandb.ai/zekai-wang/cs285_proj_get_action_true_dynamics_updated/runs/vm1vdyom' target=\"_blank\">iconic-sweep-77</a></strong> to <a href='https://wandb.ai/zekai-wang/cs285_proj_get_action_true_dynamics_updated' target=\"_blank\">Weights & Biases</a> (<a href='https://wandb.me/run' target=\"_blank\">docs</a>)<br/>Sweep page: <a href='https://wandb.ai/zekai-wang/cs285_proj_get_action_true_dynamics_updated/sweeps/ok4muk7m' target=\"_blank\">https://wandb.ai/zekai-wang/cs285_proj_get_action_true_dynamics_updated/sweeps/ok4muk7m</a>"
      ],
      "text/plain": [
       "<IPython.core.display.HTML object>"
      ]
     },
     "metadata": {},
     "output_type": "display_data"
    },
    {
     "data": {
      "text/html": [
       " View project at <a href='https://wandb.ai/zekai-wang/cs285_proj_get_action_true_dynamics_updated' target=\"_blank\">https://wandb.ai/zekai-wang/cs285_proj_get_action_true_dynamics_updated</a>"
      ],
      "text/plain": [
       "<IPython.core.display.HTML object>"
      ]
     },
     "metadata": {},
     "output_type": "display_data"
    },
    {
     "data": {
      "text/html": [
       " View sweep at <a href='https://wandb.ai/zekai-wang/cs285_proj_get_action_true_dynamics_updated/sweeps/ok4muk7m' target=\"_blank\">https://wandb.ai/zekai-wang/cs285_proj_get_action_true_dynamics_updated/sweeps/ok4muk7m</a>"
      ],
      "text/plain": [
       "<IPython.core.display.HTML object>"
      ]
     },
     "metadata": {},
     "output_type": "display_data"
    },
    {
     "data": {
      "text/html": [
       " View run at <a href='https://wandb.ai/zekai-wang/cs285_proj_get_action_true_dynamics_updated/runs/vm1vdyom' target=\"_blank\">https://wandb.ai/zekai-wang/cs285_proj_get_action_true_dynamics_updated/runs/vm1vdyom</a>"
      ],
      "text/plain": [
       "<IPython.core.display.HTML object>"
      ]
     },
     "metadata": {},
     "output_type": "display_data"
    },
    {
     "name": "stderr",
     "output_type": "stream",
     "text": [
      "100%|██████████| 10/10 [00:16<00:00,  1.61s/it]\n"
     ]
    },
    {
     "name": "stdout",
     "output_type": "stream",
     "text": [
      "mean -1146.1224\n",
      "std 160.46446\n",
      "min -1372.4745\n",
      "max -879.66626\n"
     ]
    },
    {
     "data": {
      "application/vnd.jupyter.widget-view+json": {
       "model_id": "d1740b11fc4a4a40893731f2dba586ff",
       "version_major": 2,
       "version_minor": 0
      },
      "text/plain": [
       "VBox(children=(Label(value='0.004 MB of 0.004 MB uploaded\\r'), FloatProgress(value=1.0, max=1.0)))"
      ]
     },
     "metadata": {},
     "output_type": "display_data"
    },
    {
     "data": {
      "text/html": [
       "<style>\n",
       "    table.wandb td:nth-child(1) { padding: 0 10px; text-align: left ; width: auto;} td:nth-child(2) {text-align: left ; width: 100%}\n",
       "    .wandb-row { display: flex; flex-direction: row; flex-wrap: wrap; justify-content: flex-start; width: 100% }\n",
       "    .wandb-col { display: flex; flex-direction: column; flex-basis: 100%; flex: 1; padding: 10px; }\n",
       "    </style>\n",
       "<div class=\"wandb-row\"><div class=\"wandb-col\"><h3>Run history:</h3><br/><table class=\"wandb\"><tr><td>max</td><td>▁</td></tr><tr><td>mean</td><td>▁</td></tr><tr><td>min</td><td>▁</td></tr><tr><td>std</td><td>▁</td></tr></table><br/></div><div class=\"wandb-col\"><h3>Run summary:</h3><br/><table class=\"wandb\"><tr><td>max</td><td>-879.66626</td></tr><tr><td>mean</td><td>-1146.12244</td></tr><tr><td>min</td><td>-1372.47449</td></tr><tr><td>std</td><td>160.46446</td></tr></table><br/></div></div>"
      ],
      "text/plain": [
       "<IPython.core.display.HTML object>"
      ]
     },
     "metadata": {},
     "output_type": "display_data"
    },
    {
     "data": {
      "text/html": [
       " View run <strong style=\"color:#cdcd00\">iconic-sweep-77</strong> at: <a href='https://wandb.ai/zekai-wang/cs285_proj_get_action_true_dynamics_updated/runs/vm1vdyom' target=\"_blank\">https://wandb.ai/zekai-wang/cs285_proj_get_action_true_dynamics_updated/runs/vm1vdyom</a><br/>Synced 6 W&B file(s), 0 media file(s), 0 artifact file(s) and 0 other file(s)"
      ],
      "text/plain": [
       "<IPython.core.display.HTML object>"
      ]
     },
     "metadata": {},
     "output_type": "display_data"
    },
    {
     "data": {
      "text/html": [
       "Find logs at: <code>./wandb/run-20231210_002040-vm1vdyom/logs</code>"
      ],
      "text/plain": [
       "<IPython.core.display.HTML object>"
      ]
     },
     "metadata": {},
     "output_type": "display_data"
    },
    {
     "name": "stderr",
     "output_type": "stream",
     "text": [
      "\u001b[34m\u001b[1mwandb\u001b[0m: Agent Starting Run: qh16ab5t with config:\n",
      "\u001b[34m\u001b[1mwandb\u001b[0m: \tcem_alpha: 0.5\n",
      "\u001b[34m\u001b[1mwandb\u001b[0m: \tcem_num_elites: 4\n",
      "\u001b[34m\u001b[1mwandb\u001b[0m: \tcem_num_iters: 4\n",
      "\u001b[34m\u001b[1mwandb\u001b[0m: \tmpc_discount: 0.95\n",
      "\u001b[34m\u001b[1mwandb\u001b[0m: \tmpc_horizon_steps: 50\n",
      "\u001b[34m\u001b[1mwandb\u001b[0m: \tmpc_num_action_sequences: 500\n",
      "\u001b[34m\u001b[1mwandb\u001b[0m: \tmpc_strategy: random\n",
      "/home/zekai/miniconda3/envs/cs285_proj/lib/python3.9/site-packages/ipywidgets/widgets/widget.py:528: DeprecationWarning: The `ipykernel.comm.Comm` class has been deprecated. Please use the `comm` module instead.For creating comms, use the function `from comm import create_comm`.\n",
      "  self.comm = Comm(**args)\n",
      "/home/zekai/miniconda3/envs/cs285_proj/lib/python3.9/site-packages/wandb/sdk/lib/ipython.py:77: DeprecationWarning: Importing display from IPython.core.display is deprecated since IPython 7.14, please import from IPython display\n",
      "  from IPython.core.display import HTML, display  # type: ignore\n"
     ]
    },
    {
     "data": {
      "text/html": [
       "Tracking run with wandb version 0.16.1"
      ],
      "text/plain": [
       "<IPython.core.display.HTML object>"
      ]
     },
     "metadata": {},
     "output_type": "display_data"
    },
    {
     "data": {
      "text/html": [
       "Run data is saved locally in <code>/home/zekai/repos/cs285_proj/notebooks/wandb/run-20231210_002111-qh16ab5t</code>"
      ],
      "text/plain": [
       "<IPython.core.display.HTML object>"
      ]
     },
     "metadata": {},
     "output_type": "display_data"
    },
    {
     "data": {
      "text/html": [
       "Syncing run <strong><a href='https://wandb.ai/zekai-wang/cs285_proj_get_action_true_dynamics_updated/runs/qh16ab5t' target=\"_blank\">woven-sweep-78</a></strong> to <a href='https://wandb.ai/zekai-wang/cs285_proj_get_action_true_dynamics_updated' target=\"_blank\">Weights & Biases</a> (<a href='https://wandb.me/run' target=\"_blank\">docs</a>)<br/>Sweep page: <a href='https://wandb.ai/zekai-wang/cs285_proj_get_action_true_dynamics_updated/sweeps/ok4muk7m' target=\"_blank\">https://wandb.ai/zekai-wang/cs285_proj_get_action_true_dynamics_updated/sweeps/ok4muk7m</a>"
      ],
      "text/plain": [
       "<IPython.core.display.HTML object>"
      ]
     },
     "metadata": {},
     "output_type": "display_data"
    },
    {
     "data": {
      "text/html": [
       " View project at <a href='https://wandb.ai/zekai-wang/cs285_proj_get_action_true_dynamics_updated' target=\"_blank\">https://wandb.ai/zekai-wang/cs285_proj_get_action_true_dynamics_updated</a>"
      ],
      "text/plain": [
       "<IPython.core.display.HTML object>"
      ]
     },
     "metadata": {},
     "output_type": "display_data"
    },
    {
     "data": {
      "text/html": [
       " View sweep at <a href='https://wandb.ai/zekai-wang/cs285_proj_get_action_true_dynamics_updated/sweeps/ok4muk7m' target=\"_blank\">https://wandb.ai/zekai-wang/cs285_proj_get_action_true_dynamics_updated/sweeps/ok4muk7m</a>"
      ],
      "text/plain": [
       "<IPython.core.display.HTML object>"
      ]
     },
     "metadata": {},
     "output_type": "display_data"
    },
    {
     "data": {
      "text/html": [
       " View run at <a href='https://wandb.ai/zekai-wang/cs285_proj_get_action_true_dynamics_updated/runs/qh16ab5t' target=\"_blank\">https://wandb.ai/zekai-wang/cs285_proj_get_action_true_dynamics_updated/runs/qh16ab5t</a>"
      ],
      "text/plain": [
       "<IPython.core.display.HTML object>"
      ]
     },
     "metadata": {},
     "output_type": "display_data"
    },
    {
     "name": "stderr",
     "output_type": "stream",
     "text": [
      "100%|██████████| 10/10 [00:16<00:00,  1.60s/it]\n"
     ]
    },
    {
     "name": "stdout",
     "output_type": "stream",
     "text": [
      "mean -1345.1628\n",
      "std 317.59686\n",
      "min -1758.4111\n",
      "max -871.7427\n"
     ]
    },
    {
     "data": {
      "application/vnd.jupyter.widget-view+json": {
       "model_id": "3a13778e1a114e799ec36240e2506868",
       "version_major": 2,
       "version_minor": 0
      },
      "text/plain": [
       "VBox(children=(Label(value='0.004 MB of 0.004 MB uploaded\\r'), FloatProgress(value=1.0, max=1.0)))"
      ]
     },
     "metadata": {},
     "output_type": "display_data"
    },
    {
     "data": {
      "text/html": [
       "<style>\n",
       "    table.wandb td:nth-child(1) { padding: 0 10px; text-align: left ; width: auto;} td:nth-child(2) {text-align: left ; width: 100%}\n",
       "    .wandb-row { display: flex; flex-direction: row; flex-wrap: wrap; justify-content: flex-start; width: 100% }\n",
       "    .wandb-col { display: flex; flex-direction: column; flex-basis: 100%; flex: 1; padding: 10px; }\n",
       "    </style>\n",
       "<div class=\"wandb-row\"><div class=\"wandb-col\"><h3>Run history:</h3><br/><table class=\"wandb\"><tr><td>max</td><td>▁</td></tr><tr><td>mean</td><td>▁</td></tr><tr><td>min</td><td>▁</td></tr><tr><td>std</td><td>▁</td></tr></table><br/></div><div class=\"wandb-col\"><h3>Run summary:</h3><br/><table class=\"wandb\"><tr><td>max</td><td>-871.74268</td></tr><tr><td>mean</td><td>-1345.16284</td></tr><tr><td>min</td><td>-1758.41113</td></tr><tr><td>std</td><td>317.59686</td></tr></table><br/></div></div>"
      ],
      "text/plain": [
       "<IPython.core.display.HTML object>"
      ]
     },
     "metadata": {},
     "output_type": "display_data"
    },
    {
     "data": {
      "text/html": [
       " View run <strong style=\"color:#cdcd00\">woven-sweep-78</strong> at: <a href='https://wandb.ai/zekai-wang/cs285_proj_get_action_true_dynamics_updated/runs/qh16ab5t' target=\"_blank\">https://wandb.ai/zekai-wang/cs285_proj_get_action_true_dynamics_updated/runs/qh16ab5t</a><br/>Synced 6 W&B file(s), 0 media file(s), 0 artifact file(s) and 0 other file(s)"
      ],
      "text/plain": [
       "<IPython.core.display.HTML object>"
      ]
     },
     "metadata": {},
     "output_type": "display_data"
    },
    {
     "data": {
      "text/html": [
       "Find logs at: <code>./wandb/run-20231210_002111-qh16ab5t/logs</code>"
      ],
      "text/plain": [
       "<IPython.core.display.HTML object>"
      ]
     },
     "metadata": {},
     "output_type": "display_data"
    },
    {
     "name": "stderr",
     "output_type": "stream",
     "text": [
      "\u001b[34m\u001b[1mwandb\u001b[0m: Agent Starting Run: zqajrrdj with config:\n",
      "\u001b[34m\u001b[1mwandb\u001b[0m: \tcem_alpha: 0.9\n",
      "\u001b[34m\u001b[1mwandb\u001b[0m: \tcem_num_elites: 32\n",
      "\u001b[34m\u001b[1mwandb\u001b[0m: \tcem_num_iters: 16\n",
      "\u001b[34m\u001b[1mwandb\u001b[0m: \tmpc_discount: 1\n",
      "\u001b[34m\u001b[1mwandb\u001b[0m: \tmpc_horizon_steps: 2\n",
      "\u001b[34m\u001b[1mwandb\u001b[0m: \tmpc_num_action_sequences: 2000\n",
      "\u001b[34m\u001b[1mwandb\u001b[0m: \tmpc_strategy: cem\n",
      "/home/zekai/miniconda3/envs/cs285_proj/lib/python3.9/site-packages/ipywidgets/widgets/widget.py:528: DeprecationWarning: The `ipykernel.comm.Comm` class has been deprecated. Please use the `comm` module instead.For creating comms, use the function `from comm import create_comm`.\n",
      "  self.comm = Comm(**args)\n",
      "/home/zekai/miniconda3/envs/cs285_proj/lib/python3.9/site-packages/wandb/sdk/lib/ipython.py:77: DeprecationWarning: Importing display from IPython.core.display is deprecated since IPython 7.14, please import from IPython display\n",
      "  from IPython.core.display import HTML, display  # type: ignore\n"
     ]
    },
    {
     "data": {
      "text/html": [
       "Tracking run with wandb version 0.16.1"
      ],
      "text/plain": [
       "<IPython.core.display.HTML object>"
      ]
     },
     "metadata": {},
     "output_type": "display_data"
    },
    {
     "data": {
      "text/html": [
       "Run data is saved locally in <code>/home/zekai/repos/cs285_proj/notebooks/wandb/run-20231210_002142-zqajrrdj</code>"
      ],
      "text/plain": [
       "<IPython.core.display.HTML object>"
      ]
     },
     "metadata": {},
     "output_type": "display_data"
    },
    {
     "data": {
      "text/html": [
       "Syncing run <strong><a href='https://wandb.ai/zekai-wang/cs285_proj_get_action_true_dynamics_updated/runs/zqajrrdj' target=\"_blank\">polished-sweep-79</a></strong> to <a href='https://wandb.ai/zekai-wang/cs285_proj_get_action_true_dynamics_updated' target=\"_blank\">Weights & Biases</a> (<a href='https://wandb.me/run' target=\"_blank\">docs</a>)<br/>Sweep page: <a href='https://wandb.ai/zekai-wang/cs285_proj_get_action_true_dynamics_updated/sweeps/ok4muk7m' target=\"_blank\">https://wandb.ai/zekai-wang/cs285_proj_get_action_true_dynamics_updated/sweeps/ok4muk7m</a>"
      ],
      "text/plain": [
       "<IPython.core.display.HTML object>"
      ]
     },
     "metadata": {},
     "output_type": "display_data"
    },
    {
     "data": {
      "text/html": [
       " View project at <a href='https://wandb.ai/zekai-wang/cs285_proj_get_action_true_dynamics_updated' target=\"_blank\">https://wandb.ai/zekai-wang/cs285_proj_get_action_true_dynamics_updated</a>"
      ],
      "text/plain": [
       "<IPython.core.display.HTML object>"
      ]
     },
     "metadata": {},
     "output_type": "display_data"
    },
    {
     "data": {
      "text/html": [
       " View sweep at <a href='https://wandb.ai/zekai-wang/cs285_proj_get_action_true_dynamics_updated/sweeps/ok4muk7m' target=\"_blank\">https://wandb.ai/zekai-wang/cs285_proj_get_action_true_dynamics_updated/sweeps/ok4muk7m</a>"
      ],
      "text/plain": [
       "<IPython.core.display.HTML object>"
      ]
     },
     "metadata": {},
     "output_type": "display_data"
    },
    {
     "data": {
      "text/html": [
       " View run at <a href='https://wandb.ai/zekai-wang/cs285_proj_get_action_true_dynamics_updated/runs/zqajrrdj' target=\"_blank\">https://wandb.ai/zekai-wang/cs285_proj_get_action_true_dynamics_updated/runs/zqajrrdj</a>"
      ],
      "text/plain": [
       "<IPython.core.display.HTML object>"
      ]
     },
     "metadata": {},
     "output_type": "display_data"
    },
    {
     "name": "stderr",
     "output_type": "stream",
     "text": [
      "100%|██████████| 10/10 [00:17<00:00,  1.79s/it]\n"
     ]
    },
    {
     "name": "stdout",
     "output_type": "stream",
     "text": [
      "mean -1238.6855\n",
      "std 315.182\n",
      "min -1668.4321\n",
      "max -710.6528\n"
     ]
    },
    {
     "data": {
      "application/vnd.jupyter.widget-view+json": {
       "model_id": "e45f503900ba4964b09987f0573cfc8a",
       "version_major": 2,
       "version_minor": 0
      },
      "text/plain": [
       "VBox(children=(Label(value='0.004 MB of 0.004 MB uploaded\\r'), FloatProgress(value=1.0, max=1.0)))"
      ]
     },
     "metadata": {},
     "output_type": "display_data"
    },
    {
     "data": {
      "text/html": [
       "<style>\n",
       "    table.wandb td:nth-child(1) { padding: 0 10px; text-align: left ; width: auto;} td:nth-child(2) {text-align: left ; width: 100%}\n",
       "    .wandb-row { display: flex; flex-direction: row; flex-wrap: wrap; justify-content: flex-start; width: 100% }\n",
       "    .wandb-col { display: flex; flex-direction: column; flex-basis: 100%; flex: 1; padding: 10px; }\n",
       "    </style>\n",
       "<div class=\"wandb-row\"><div class=\"wandb-col\"><h3>Run history:</h3><br/><table class=\"wandb\"><tr><td>max</td><td>▁</td></tr><tr><td>mean</td><td>▁</td></tr><tr><td>min</td><td>▁</td></tr><tr><td>std</td><td>▁</td></tr></table><br/></div><div class=\"wandb-col\"><h3>Run summary:</h3><br/><table class=\"wandb\"><tr><td>max</td><td>-710.65277</td></tr><tr><td>mean</td><td>-1238.68555</td></tr><tr><td>min</td><td>-1668.43213</td></tr><tr><td>std</td><td>315.18201</td></tr></table><br/></div></div>"
      ],
      "text/plain": [
       "<IPython.core.display.HTML object>"
      ]
     },
     "metadata": {},
     "output_type": "display_data"
    },
    {
     "data": {
      "text/html": [
       " View run <strong style=\"color:#cdcd00\">polished-sweep-79</strong> at: <a href='https://wandb.ai/zekai-wang/cs285_proj_get_action_true_dynamics_updated/runs/zqajrrdj' target=\"_blank\">https://wandb.ai/zekai-wang/cs285_proj_get_action_true_dynamics_updated/runs/zqajrrdj</a><br/>Synced 6 W&B file(s), 0 media file(s), 0 artifact file(s) and 0 other file(s)"
      ],
      "text/plain": [
       "<IPython.core.display.HTML object>"
      ]
     },
     "metadata": {},
     "output_type": "display_data"
    },
    {
     "data": {
      "text/html": [
       "Find logs at: <code>./wandb/run-20231210_002142-zqajrrdj/logs</code>"
      ],
      "text/plain": [
       "<IPython.core.display.HTML object>"
      ]
     },
     "metadata": {},
     "output_type": "display_data"
    },
    {
     "name": "stderr",
     "output_type": "stream",
     "text": [
      "\u001b[34m\u001b[1mwandb\u001b[0m: Agent Starting Run: uukna4sh with config:\n",
      "\u001b[34m\u001b[1mwandb\u001b[0m: \tcem_alpha: 0.95\n",
      "\u001b[34m\u001b[1mwandb\u001b[0m: \tcem_num_elites: 1\n",
      "\u001b[34m\u001b[1mwandb\u001b[0m: \tcem_num_iters: 2\n",
      "\u001b[34m\u001b[1mwandb\u001b[0m: \tmpc_discount: 0.8\n",
      "\u001b[34m\u001b[1mwandb\u001b[0m: \tmpc_horizon_steps: 20\n",
      "\u001b[34m\u001b[1mwandb\u001b[0m: \tmpc_num_action_sequences: 5000\n",
      "\u001b[34m\u001b[1mwandb\u001b[0m: \tmpc_strategy: random\n",
      "/home/zekai/miniconda3/envs/cs285_proj/lib/python3.9/site-packages/ipywidgets/widgets/widget.py:528: DeprecationWarning: The `ipykernel.comm.Comm` class has been deprecated. Please use the `comm` module instead.For creating comms, use the function `from comm import create_comm`.\n",
      "  self.comm = Comm(**args)\n",
      "/home/zekai/miniconda3/envs/cs285_proj/lib/python3.9/site-packages/wandb/sdk/lib/ipython.py:77: DeprecationWarning: Importing display from IPython.core.display is deprecated since IPython 7.14, please import from IPython display\n",
      "  from IPython.core.display import HTML, display  # type: ignore\n"
     ]
    },
    {
     "data": {
      "text/html": [
       "Tracking run with wandb version 0.16.1"
      ],
      "text/plain": [
       "<IPython.core.display.HTML object>"
      ]
     },
     "metadata": {},
     "output_type": "display_data"
    },
    {
     "data": {
      "text/html": [
       "Run data is saved locally in <code>/home/zekai/repos/cs285_proj/notebooks/wandb/run-20231210_002212-uukna4sh</code>"
      ],
      "text/plain": [
       "<IPython.core.display.HTML object>"
      ]
     },
     "metadata": {},
     "output_type": "display_data"
    },
    {
     "data": {
      "text/html": [
       "Syncing run <strong><a href='https://wandb.ai/zekai-wang/cs285_proj_get_action_true_dynamics_updated/runs/uukna4sh' target=\"_blank\">brisk-sweep-80</a></strong> to <a href='https://wandb.ai/zekai-wang/cs285_proj_get_action_true_dynamics_updated' target=\"_blank\">Weights & Biases</a> (<a href='https://wandb.me/run' target=\"_blank\">docs</a>)<br/>Sweep page: <a href='https://wandb.ai/zekai-wang/cs285_proj_get_action_true_dynamics_updated/sweeps/ok4muk7m' target=\"_blank\">https://wandb.ai/zekai-wang/cs285_proj_get_action_true_dynamics_updated/sweeps/ok4muk7m</a>"
      ],
      "text/plain": [
       "<IPython.core.display.HTML object>"
      ]
     },
     "metadata": {},
     "output_type": "display_data"
    },
    {
     "data": {
      "text/html": [
       " View project at <a href='https://wandb.ai/zekai-wang/cs285_proj_get_action_true_dynamics_updated' target=\"_blank\">https://wandb.ai/zekai-wang/cs285_proj_get_action_true_dynamics_updated</a>"
      ],
      "text/plain": [
       "<IPython.core.display.HTML object>"
      ]
     },
     "metadata": {},
     "output_type": "display_data"
    },
    {
     "data": {
      "text/html": [
       " View sweep at <a href='https://wandb.ai/zekai-wang/cs285_proj_get_action_true_dynamics_updated/sweeps/ok4muk7m' target=\"_blank\">https://wandb.ai/zekai-wang/cs285_proj_get_action_true_dynamics_updated/sweeps/ok4muk7m</a>"
      ],
      "text/plain": [
       "<IPython.core.display.HTML object>"
      ]
     },
     "metadata": {},
     "output_type": "display_data"
    },
    {
     "data": {
      "text/html": [
       " View run at <a href='https://wandb.ai/zekai-wang/cs285_proj_get_action_true_dynamics_updated/runs/uukna4sh' target=\"_blank\">https://wandb.ai/zekai-wang/cs285_proj_get_action_true_dynamics_updated/runs/uukna4sh</a>"
      ],
      "text/plain": [
       "<IPython.core.display.HTML object>"
      ]
     },
     "metadata": {},
     "output_type": "display_data"
    },
    {
     "name": "stderr",
     "output_type": "stream",
     "text": [
      "100%|██████████| 10/10 [00:15<00:00,  1.58s/it]\n"
     ]
    },
    {
     "name": "stdout",
     "output_type": "stream",
     "text": [
      "mean -1431.9863\n",
      "std 276.7351\n",
      "min -1811.5049\n",
      "max -968.8311\n"
     ]
    },
    {
     "data": {
      "application/vnd.jupyter.widget-view+json": {
       "model_id": "2fe11aa35dbc4277a1ac449c11cba9be",
       "version_major": 2,
       "version_minor": 0
      },
      "text/plain": [
       "VBox(children=(Label(value='0.004 MB of 0.004 MB uploaded\\r'), FloatProgress(value=1.0, max=1.0)))"
      ]
     },
     "metadata": {},
     "output_type": "display_data"
    },
    {
     "data": {
      "text/html": [
       "<style>\n",
       "    table.wandb td:nth-child(1) { padding: 0 10px; text-align: left ; width: auto;} td:nth-child(2) {text-align: left ; width: 100%}\n",
       "    .wandb-row { display: flex; flex-direction: row; flex-wrap: wrap; justify-content: flex-start; width: 100% }\n",
       "    .wandb-col { display: flex; flex-direction: column; flex-basis: 100%; flex: 1; padding: 10px; }\n",
       "    </style>\n",
       "<div class=\"wandb-row\"><div class=\"wandb-col\"><h3>Run history:</h3><br/><table class=\"wandb\"><tr><td>max</td><td>▁</td></tr><tr><td>mean</td><td>▁</td></tr><tr><td>min</td><td>▁</td></tr><tr><td>std</td><td>▁</td></tr></table><br/></div><div class=\"wandb-col\"><h3>Run summary:</h3><br/><table class=\"wandb\"><tr><td>max</td><td>-968.83112</td></tr><tr><td>mean</td><td>-1431.98633</td></tr><tr><td>min</td><td>-1811.50488</td></tr><tr><td>std</td><td>276.73511</td></tr></table><br/></div></div>"
      ],
      "text/plain": [
       "<IPython.core.display.HTML object>"
      ]
     },
     "metadata": {},
     "output_type": "display_data"
    },
    {
     "data": {
      "text/html": [
       " View run <strong style=\"color:#cdcd00\">brisk-sweep-80</strong> at: <a href='https://wandb.ai/zekai-wang/cs285_proj_get_action_true_dynamics_updated/runs/uukna4sh' target=\"_blank\">https://wandb.ai/zekai-wang/cs285_proj_get_action_true_dynamics_updated/runs/uukna4sh</a><br/>Synced 6 W&B file(s), 0 media file(s), 0 artifact file(s) and 0 other file(s)"
      ],
      "text/plain": [
       "<IPython.core.display.HTML object>"
      ]
     },
     "metadata": {},
     "output_type": "display_data"
    },
    {
     "data": {
      "text/html": [
       "Find logs at: <code>./wandb/run-20231210_002212-uukna4sh/logs</code>"
      ],
      "text/plain": [
       "<IPython.core.display.HTML object>"
      ]
     },
     "metadata": {},
     "output_type": "display_data"
    },
    {
     "name": "stderr",
     "output_type": "stream",
     "text": [
      "\u001b[34m\u001b[1mwandb\u001b[0m: Agent Starting Run: msq06duh with config:\n",
      "\u001b[34m\u001b[1mwandb\u001b[0m: \tcem_alpha: 0.5\n",
      "\u001b[34m\u001b[1mwandb\u001b[0m: \tcem_num_elites: 4\n",
      "\u001b[34m\u001b[1mwandb\u001b[0m: \tcem_num_iters: 2\n",
      "\u001b[34m\u001b[1mwandb\u001b[0m: \tmpc_discount: 0.8\n",
      "\u001b[34m\u001b[1mwandb\u001b[0m: \tmpc_horizon_steps: 20\n",
      "\u001b[34m\u001b[1mwandb\u001b[0m: \tmpc_num_action_sequences: 2000\n",
      "\u001b[34m\u001b[1mwandb\u001b[0m: \tmpc_strategy: cem\n",
      "/home/zekai/miniconda3/envs/cs285_proj/lib/python3.9/site-packages/ipywidgets/widgets/widget.py:528: DeprecationWarning: The `ipykernel.comm.Comm` class has been deprecated. Please use the `comm` module instead.For creating comms, use the function `from comm import create_comm`.\n",
      "  self.comm = Comm(**args)\n",
      "/home/zekai/miniconda3/envs/cs285_proj/lib/python3.9/site-packages/wandb/sdk/lib/ipython.py:77: DeprecationWarning: Importing display from IPython.core.display is deprecated since IPython 7.14, please import from IPython display\n",
      "  from IPython.core.display import HTML, display  # type: ignore\n"
     ]
    },
    {
     "data": {
      "text/html": [
       "Tracking run with wandb version 0.16.1"
      ],
      "text/plain": [
       "<IPython.core.display.HTML object>"
      ]
     },
     "metadata": {},
     "output_type": "display_data"
    },
    {
     "data": {
      "text/html": [
       "Run data is saved locally in <code>/home/zekai/repos/cs285_proj/notebooks/wandb/run-20231210_002238-msq06duh</code>"
      ],
      "text/plain": [
       "<IPython.core.display.HTML object>"
      ]
     },
     "metadata": {},
     "output_type": "display_data"
    },
    {
     "data": {
      "text/html": [
       "Syncing run <strong><a href='https://wandb.ai/zekai-wang/cs285_proj_get_action_true_dynamics_updated/runs/msq06duh' target=\"_blank\">legendary-sweep-81</a></strong> to <a href='https://wandb.ai/zekai-wang/cs285_proj_get_action_true_dynamics_updated' target=\"_blank\">Weights & Biases</a> (<a href='https://wandb.me/run' target=\"_blank\">docs</a>)<br/>Sweep page: <a href='https://wandb.ai/zekai-wang/cs285_proj_get_action_true_dynamics_updated/sweeps/ok4muk7m' target=\"_blank\">https://wandb.ai/zekai-wang/cs285_proj_get_action_true_dynamics_updated/sweeps/ok4muk7m</a>"
      ],
      "text/plain": [
       "<IPython.core.display.HTML object>"
      ]
     },
     "metadata": {},
     "output_type": "display_data"
    },
    {
     "data": {
      "text/html": [
       " View project at <a href='https://wandb.ai/zekai-wang/cs285_proj_get_action_true_dynamics_updated' target=\"_blank\">https://wandb.ai/zekai-wang/cs285_proj_get_action_true_dynamics_updated</a>"
      ],
      "text/plain": [
       "<IPython.core.display.HTML object>"
      ]
     },
     "metadata": {},
     "output_type": "display_data"
    },
    {
     "data": {
      "text/html": [
       " View sweep at <a href='https://wandb.ai/zekai-wang/cs285_proj_get_action_true_dynamics_updated/sweeps/ok4muk7m' target=\"_blank\">https://wandb.ai/zekai-wang/cs285_proj_get_action_true_dynamics_updated/sweeps/ok4muk7m</a>"
      ],
      "text/plain": [
       "<IPython.core.display.HTML object>"
      ]
     },
     "metadata": {},
     "output_type": "display_data"
    },
    {
     "data": {
      "text/html": [
       " View run at <a href='https://wandb.ai/zekai-wang/cs285_proj_get_action_true_dynamics_updated/runs/msq06duh' target=\"_blank\">https://wandb.ai/zekai-wang/cs285_proj_get_action_true_dynamics_updated/runs/msq06duh</a>"
      ],
      "text/plain": [
       "<IPython.core.display.HTML object>"
      ]
     },
     "metadata": {},
     "output_type": "display_data"
    },
    {
     "name": "stderr",
     "output_type": "stream",
     "text": [
      "100%|██████████| 10/10 [00:14<00:00,  1.46s/it]\n"
     ]
    },
    {
     "name": "stdout",
     "output_type": "stream",
     "text": [
      "mean -1381.2649\n",
      "std 296.45508\n",
      "min -1782.6815\n",
      "max -972.78516\n"
     ]
    },
    {
     "data": {
      "application/vnd.jupyter.widget-view+json": {
       "model_id": "4bbd8d1b1a3445ee87a6e79f795bab18",
       "version_major": 2,
       "version_minor": 0
      },
      "text/plain": [
       "VBox(children=(Label(value='0.004 MB of 0.004 MB uploaded\\r'), FloatProgress(value=1.0, max=1.0)))"
      ]
     },
     "metadata": {},
     "output_type": "display_data"
    },
    {
     "data": {
      "text/html": [
       "<style>\n",
       "    table.wandb td:nth-child(1) { padding: 0 10px; text-align: left ; width: auto;} td:nth-child(2) {text-align: left ; width: 100%}\n",
       "    .wandb-row { display: flex; flex-direction: row; flex-wrap: wrap; justify-content: flex-start; width: 100% }\n",
       "    .wandb-col { display: flex; flex-direction: column; flex-basis: 100%; flex: 1; padding: 10px; }\n",
       "    </style>\n",
       "<div class=\"wandb-row\"><div class=\"wandb-col\"><h3>Run history:</h3><br/><table class=\"wandb\"><tr><td>max</td><td>▁</td></tr><tr><td>mean</td><td>▁</td></tr><tr><td>min</td><td>▁</td></tr><tr><td>std</td><td>▁</td></tr></table><br/></div><div class=\"wandb-col\"><h3>Run summary:</h3><br/><table class=\"wandb\"><tr><td>max</td><td>-972.78516</td></tr><tr><td>mean</td><td>-1381.26489</td></tr><tr><td>min</td><td>-1782.68152</td></tr><tr><td>std</td><td>296.45508</td></tr></table><br/></div></div>"
      ],
      "text/plain": [
       "<IPython.core.display.HTML object>"
      ]
     },
     "metadata": {},
     "output_type": "display_data"
    },
    {
     "data": {
      "text/html": [
       " View run <strong style=\"color:#cdcd00\">legendary-sweep-81</strong> at: <a href='https://wandb.ai/zekai-wang/cs285_proj_get_action_true_dynamics_updated/runs/msq06duh' target=\"_blank\">https://wandb.ai/zekai-wang/cs285_proj_get_action_true_dynamics_updated/runs/msq06duh</a><br/>Synced 6 W&B file(s), 0 media file(s), 0 artifact file(s) and 0 other file(s)"
      ],
      "text/plain": [
       "<IPython.core.display.HTML object>"
      ]
     },
     "metadata": {},
     "output_type": "display_data"
    },
    {
     "data": {
      "text/html": [
       "Find logs at: <code>./wandb/run-20231210_002238-msq06duh/logs</code>"
      ],
      "text/plain": [
       "<IPython.core.display.HTML object>"
      ]
     },
     "metadata": {},
     "output_type": "display_data"
    },
    {
     "name": "stderr",
     "output_type": "stream",
     "text": [
      "\u001b[34m\u001b[1mwandb\u001b[0m: Agent Starting Run: 1ptrjx8o with config:\n",
      "\u001b[34m\u001b[1mwandb\u001b[0m: \tcem_alpha: 1\n",
      "\u001b[34m\u001b[1mwandb\u001b[0m: \tcem_num_elites: 4\n",
      "\u001b[34m\u001b[1mwandb\u001b[0m: \tcem_num_iters: 16\n",
      "\u001b[34m\u001b[1mwandb\u001b[0m: \tmpc_discount: 0.9\n",
      "\u001b[34m\u001b[1mwandb\u001b[0m: \tmpc_horizon_steps: 50\n",
      "\u001b[34m\u001b[1mwandb\u001b[0m: \tmpc_num_action_sequences: 5000\n",
      "\u001b[34m\u001b[1mwandb\u001b[0m: \tmpc_strategy: random\n",
      "/home/zekai/miniconda3/envs/cs285_proj/lib/python3.9/site-packages/ipywidgets/widgets/widget.py:528: DeprecationWarning: The `ipykernel.comm.Comm` class has been deprecated. Please use the `comm` module instead.For creating comms, use the function `from comm import create_comm`.\n",
      "  self.comm = Comm(**args)\n",
      "/home/zekai/miniconda3/envs/cs285_proj/lib/python3.9/site-packages/wandb/sdk/lib/ipython.py:77: DeprecationWarning: Importing display from IPython.core.display is deprecated since IPython 7.14, please import from IPython display\n",
      "  from IPython.core.display import HTML, display  # type: ignore\n"
     ]
    },
    {
     "data": {
      "text/html": [
       "Tracking run with wandb version 0.16.1"
      ],
      "text/plain": [
       "<IPython.core.display.HTML object>"
      ]
     },
     "metadata": {},
     "output_type": "display_data"
    },
    {
     "data": {
      "text/html": [
       "Run data is saved locally in <code>/home/zekai/repos/cs285_proj/notebooks/wandb/run-20231210_002303-1ptrjx8o</code>"
      ],
      "text/plain": [
       "<IPython.core.display.HTML object>"
      ]
     },
     "metadata": {},
     "output_type": "display_data"
    },
    {
     "data": {
      "text/html": [
       "Syncing run <strong><a href='https://wandb.ai/zekai-wang/cs285_proj_get_action_true_dynamics_updated/runs/1ptrjx8o' target=\"_blank\">deft-sweep-82</a></strong> to <a href='https://wandb.ai/zekai-wang/cs285_proj_get_action_true_dynamics_updated' target=\"_blank\">Weights & Biases</a> (<a href='https://wandb.me/run' target=\"_blank\">docs</a>)<br/>Sweep page: <a href='https://wandb.ai/zekai-wang/cs285_proj_get_action_true_dynamics_updated/sweeps/ok4muk7m' target=\"_blank\">https://wandb.ai/zekai-wang/cs285_proj_get_action_true_dynamics_updated/sweeps/ok4muk7m</a>"
      ],
      "text/plain": [
       "<IPython.core.display.HTML object>"
      ]
     },
     "metadata": {},
     "output_type": "display_data"
    },
    {
     "data": {
      "text/html": [
       " View project at <a href='https://wandb.ai/zekai-wang/cs285_proj_get_action_true_dynamics_updated' target=\"_blank\">https://wandb.ai/zekai-wang/cs285_proj_get_action_true_dynamics_updated</a>"
      ],
      "text/plain": [
       "<IPython.core.display.HTML object>"
      ]
     },
     "metadata": {},
     "output_type": "display_data"
    },
    {
     "data": {
      "text/html": [
       " View sweep at <a href='https://wandb.ai/zekai-wang/cs285_proj_get_action_true_dynamics_updated/sweeps/ok4muk7m' target=\"_blank\">https://wandb.ai/zekai-wang/cs285_proj_get_action_true_dynamics_updated/sweeps/ok4muk7m</a>"
      ],
      "text/plain": [
       "<IPython.core.display.HTML object>"
      ]
     },
     "metadata": {},
     "output_type": "display_data"
    },
    {
     "data": {
      "text/html": [
       " View run at <a href='https://wandb.ai/zekai-wang/cs285_proj_get_action_true_dynamics_updated/runs/1ptrjx8o' target=\"_blank\">https://wandb.ai/zekai-wang/cs285_proj_get_action_true_dynamics_updated/runs/1ptrjx8o</a>"
      ],
      "text/plain": [
       "<IPython.core.display.HTML object>"
      ]
     },
     "metadata": {},
     "output_type": "display_data"
    },
    {
     "name": "stderr",
     "output_type": "stream",
     "text": [
      "100%|██████████| 10/10 [00:15<00:00,  1.53s/it]\n"
     ]
    },
    {
     "name": "stdout",
     "output_type": "stream",
     "text": [
      "mean -1315.2356\n",
      "std 356.55197\n",
      "min -1808.1365\n",
      "max -853.6538\n"
     ]
    },
    {
     "data": {
      "application/vnd.jupyter.widget-view+json": {
       "model_id": "34e020f6e6ad43178a6f656aeb49ef03",
       "version_major": 2,
       "version_minor": 0
      },
      "text/plain": [
       "VBox(children=(Label(value='0.004 MB of 0.004 MB uploaded\\r'), FloatProgress(value=1.0, max=1.0)))"
      ]
     },
     "metadata": {},
     "output_type": "display_data"
    },
    {
     "data": {
      "text/html": [
       "<style>\n",
       "    table.wandb td:nth-child(1) { padding: 0 10px; text-align: left ; width: auto;} td:nth-child(2) {text-align: left ; width: 100%}\n",
       "    .wandb-row { display: flex; flex-direction: row; flex-wrap: wrap; justify-content: flex-start; width: 100% }\n",
       "    .wandb-col { display: flex; flex-direction: column; flex-basis: 100%; flex: 1; padding: 10px; }\n",
       "    </style>\n",
       "<div class=\"wandb-row\"><div class=\"wandb-col\"><h3>Run history:</h3><br/><table class=\"wandb\"><tr><td>max</td><td>▁</td></tr><tr><td>mean</td><td>▁</td></tr><tr><td>min</td><td>▁</td></tr><tr><td>std</td><td>▁</td></tr></table><br/></div><div class=\"wandb-col\"><h3>Run summary:</h3><br/><table class=\"wandb\"><tr><td>max</td><td>-853.65381</td></tr><tr><td>mean</td><td>-1315.2356</td></tr><tr><td>min</td><td>-1808.13647</td></tr><tr><td>std</td><td>356.55197</td></tr></table><br/></div></div>"
      ],
      "text/plain": [
       "<IPython.core.display.HTML object>"
      ]
     },
     "metadata": {},
     "output_type": "display_data"
    },
    {
     "data": {
      "text/html": [
       " View run <strong style=\"color:#cdcd00\">deft-sweep-82</strong> at: <a href='https://wandb.ai/zekai-wang/cs285_proj_get_action_true_dynamics_updated/runs/1ptrjx8o' target=\"_blank\">https://wandb.ai/zekai-wang/cs285_proj_get_action_true_dynamics_updated/runs/1ptrjx8o</a><br/>Synced 6 W&B file(s), 0 media file(s), 0 artifact file(s) and 0 other file(s)"
      ],
      "text/plain": [
       "<IPython.core.display.HTML object>"
      ]
     },
     "metadata": {},
     "output_type": "display_data"
    },
    {
     "data": {
      "text/html": [
       "Find logs at: <code>./wandb/run-20231210_002303-1ptrjx8o/logs</code>"
      ],
      "text/plain": [
       "<IPython.core.display.HTML object>"
      ]
     },
     "metadata": {},
     "output_type": "display_data"
    },
    {
     "name": "stderr",
     "output_type": "stream",
     "text": [
      "\u001b[34m\u001b[1mwandb\u001b[0m: Agent Starting Run: c4lgtf2a with config:\n",
      "\u001b[34m\u001b[1mwandb\u001b[0m: \tcem_alpha: 0.8\n",
      "\u001b[34m\u001b[1mwandb\u001b[0m: \tcem_num_elites: 2\n",
      "\u001b[34m\u001b[1mwandb\u001b[0m: \tcem_num_iters: 8\n",
      "\u001b[34m\u001b[1mwandb\u001b[0m: \tmpc_discount: 0.9\n",
      "\u001b[34m\u001b[1mwandb\u001b[0m: \tmpc_horizon_steps: 50\n",
      "\u001b[34m\u001b[1mwandb\u001b[0m: \tmpc_num_action_sequences: 100\n",
      "\u001b[34m\u001b[1mwandb\u001b[0m: \tmpc_strategy: random\n",
      "/home/zekai/miniconda3/envs/cs285_proj/lib/python3.9/site-packages/ipywidgets/widgets/widget.py:528: DeprecationWarning: The `ipykernel.comm.Comm` class has been deprecated. Please use the `comm` module instead.For creating comms, use the function `from comm import create_comm`.\n",
      "  self.comm = Comm(**args)\n",
      "/home/zekai/miniconda3/envs/cs285_proj/lib/python3.9/site-packages/wandb/sdk/lib/ipython.py:77: DeprecationWarning: Importing display from IPython.core.display is deprecated since IPython 7.14, please import from IPython display\n",
      "  from IPython.core.display import HTML, display  # type: ignore\n"
     ]
    },
    {
     "data": {
      "text/html": [
       "Tracking run with wandb version 0.16.1"
      ],
      "text/plain": [
       "<IPython.core.display.HTML object>"
      ]
     },
     "metadata": {},
     "output_type": "display_data"
    },
    {
     "data": {
      "text/html": [
       "Run data is saved locally in <code>/home/zekai/repos/cs285_proj/notebooks/wandb/run-20231210_002330-c4lgtf2a</code>"
      ],
      "text/plain": [
       "<IPython.core.display.HTML object>"
      ]
     },
     "metadata": {},
     "output_type": "display_data"
    },
    {
     "data": {
      "text/html": [
       "Syncing run <strong><a href='https://wandb.ai/zekai-wang/cs285_proj_get_action_true_dynamics_updated/runs/c4lgtf2a' target=\"_blank\">elated-sweep-83</a></strong> to <a href='https://wandb.ai/zekai-wang/cs285_proj_get_action_true_dynamics_updated' target=\"_blank\">Weights & Biases</a> (<a href='https://wandb.me/run' target=\"_blank\">docs</a>)<br/>Sweep page: <a href='https://wandb.ai/zekai-wang/cs285_proj_get_action_true_dynamics_updated/sweeps/ok4muk7m' target=\"_blank\">https://wandb.ai/zekai-wang/cs285_proj_get_action_true_dynamics_updated/sweeps/ok4muk7m</a>"
      ],
      "text/plain": [
       "<IPython.core.display.HTML object>"
      ]
     },
     "metadata": {},
     "output_type": "display_data"
    },
    {
     "data": {
      "text/html": [
       " View project at <a href='https://wandb.ai/zekai-wang/cs285_proj_get_action_true_dynamics_updated' target=\"_blank\">https://wandb.ai/zekai-wang/cs285_proj_get_action_true_dynamics_updated</a>"
      ],
      "text/plain": [
       "<IPython.core.display.HTML object>"
      ]
     },
     "metadata": {},
     "output_type": "display_data"
    },
    {
     "data": {
      "text/html": [
       " View sweep at <a href='https://wandb.ai/zekai-wang/cs285_proj_get_action_true_dynamics_updated/sweeps/ok4muk7m' target=\"_blank\">https://wandb.ai/zekai-wang/cs285_proj_get_action_true_dynamics_updated/sweeps/ok4muk7m</a>"
      ],
      "text/plain": [
       "<IPython.core.display.HTML object>"
      ]
     },
     "metadata": {},
     "output_type": "display_data"
    },
    {
     "data": {
      "text/html": [
       " View run at <a href='https://wandb.ai/zekai-wang/cs285_proj_get_action_true_dynamics_updated/runs/c4lgtf2a' target=\"_blank\">https://wandb.ai/zekai-wang/cs285_proj_get_action_true_dynamics_updated/runs/c4lgtf2a</a>"
      ],
      "text/plain": [
       "<IPython.core.display.HTML object>"
      ]
     },
     "metadata": {},
     "output_type": "display_data"
    },
    {
     "name": "stderr",
     "output_type": "stream",
     "text": [
      "100%|██████████| 10/10 [00:15<00:00,  1.51s/it]\n"
     ]
    },
    {
     "name": "stdout",
     "output_type": "stream",
     "text": [
      "mean -1268.819\n",
      "std 307.31158\n",
      "min -1685.9613\n",
      "max -866.5443\n"
     ]
    },
    {
     "data": {
      "application/vnd.jupyter.widget-view+json": {
       "model_id": "5227f7c1a6a141749d637c9d4cac8517",
       "version_major": 2,
       "version_minor": 0
      },
      "text/plain": [
       "VBox(children=(Label(value='0.004 MB of 0.004 MB uploaded\\r'), FloatProgress(value=1.0, max=1.0)))"
      ]
     },
     "metadata": {},
     "output_type": "display_data"
    },
    {
     "data": {
      "text/html": [
       "<style>\n",
       "    table.wandb td:nth-child(1) { padding: 0 10px; text-align: left ; width: auto;} td:nth-child(2) {text-align: left ; width: 100%}\n",
       "    .wandb-row { display: flex; flex-direction: row; flex-wrap: wrap; justify-content: flex-start; width: 100% }\n",
       "    .wandb-col { display: flex; flex-direction: column; flex-basis: 100%; flex: 1; padding: 10px; }\n",
       "    </style>\n",
       "<div class=\"wandb-row\"><div class=\"wandb-col\"><h3>Run history:</h3><br/><table class=\"wandb\"><tr><td>max</td><td>▁</td></tr><tr><td>mean</td><td>▁</td></tr><tr><td>min</td><td>▁</td></tr><tr><td>std</td><td>▁</td></tr></table><br/></div><div class=\"wandb-col\"><h3>Run summary:</h3><br/><table class=\"wandb\"><tr><td>max</td><td>-866.54431</td></tr><tr><td>mean</td><td>-1268.81897</td></tr><tr><td>min</td><td>-1685.9613</td></tr><tr><td>std</td><td>307.31158</td></tr></table><br/></div></div>"
      ],
      "text/plain": [
       "<IPython.core.display.HTML object>"
      ]
     },
     "metadata": {},
     "output_type": "display_data"
    },
    {
     "data": {
      "text/html": [
       " View run <strong style=\"color:#cdcd00\">elated-sweep-83</strong> at: <a href='https://wandb.ai/zekai-wang/cs285_proj_get_action_true_dynamics_updated/runs/c4lgtf2a' target=\"_blank\">https://wandb.ai/zekai-wang/cs285_proj_get_action_true_dynamics_updated/runs/c4lgtf2a</a><br/>Synced 6 W&B file(s), 0 media file(s), 0 artifact file(s) and 0 other file(s)"
      ],
      "text/plain": [
       "<IPython.core.display.HTML object>"
      ]
     },
     "metadata": {},
     "output_type": "display_data"
    },
    {
     "data": {
      "text/html": [
       "Find logs at: <code>./wandb/run-20231210_002330-c4lgtf2a/logs</code>"
      ],
      "text/plain": [
       "<IPython.core.display.HTML object>"
      ]
     },
     "metadata": {},
     "output_type": "display_data"
    },
    {
     "name": "stderr",
     "output_type": "stream",
     "text": [
      "\u001b[34m\u001b[1mwandb\u001b[0m: Agent Starting Run: 1s3i7ft3 with config:\n",
      "\u001b[34m\u001b[1mwandb\u001b[0m: \tcem_alpha: 0.5\n",
      "\u001b[34m\u001b[1mwandb\u001b[0m: \tcem_num_elites: 4\n",
      "\u001b[34m\u001b[1mwandb\u001b[0m: \tcem_num_iters: 4\n",
      "\u001b[34m\u001b[1mwandb\u001b[0m: \tmpc_discount: 1\n",
      "\u001b[34m\u001b[1mwandb\u001b[0m: \tmpc_horizon_steps: 10\n",
      "\u001b[34m\u001b[1mwandb\u001b[0m: \tmpc_num_action_sequences: 500\n",
      "\u001b[34m\u001b[1mwandb\u001b[0m: \tmpc_strategy: cem\n",
      "/home/zekai/miniconda3/envs/cs285_proj/lib/python3.9/site-packages/ipywidgets/widgets/widget.py:528: DeprecationWarning: The `ipykernel.comm.Comm` class has been deprecated. Please use the `comm` module instead.For creating comms, use the function `from comm import create_comm`.\n",
      "  self.comm = Comm(**args)\n",
      "/home/zekai/miniconda3/envs/cs285_proj/lib/python3.9/site-packages/wandb/sdk/lib/ipython.py:77: DeprecationWarning: Importing display from IPython.core.display is deprecated since IPython 7.14, please import from IPython display\n",
      "  from IPython.core.display import HTML, display  # type: ignore\n"
     ]
    },
    {
     "data": {
      "text/html": [
       "Tracking run with wandb version 0.16.1"
      ],
      "text/plain": [
       "<IPython.core.display.HTML object>"
      ]
     },
     "metadata": {},
     "output_type": "display_data"
    },
    {
     "data": {
      "text/html": [
       "Run data is saved locally in <code>/home/zekai/repos/cs285_proj/notebooks/wandb/run-20231210_002355-1s3i7ft3</code>"
      ],
      "text/plain": [
       "<IPython.core.display.HTML object>"
      ]
     },
     "metadata": {},
     "output_type": "display_data"
    },
    {
     "data": {
      "text/html": [
       "Syncing run <strong><a href='https://wandb.ai/zekai-wang/cs285_proj_get_action_true_dynamics_updated/runs/1s3i7ft3' target=\"_blank\">breezy-sweep-84</a></strong> to <a href='https://wandb.ai/zekai-wang/cs285_proj_get_action_true_dynamics_updated' target=\"_blank\">Weights & Biases</a> (<a href='https://wandb.me/run' target=\"_blank\">docs</a>)<br/>Sweep page: <a href='https://wandb.ai/zekai-wang/cs285_proj_get_action_true_dynamics_updated/sweeps/ok4muk7m' target=\"_blank\">https://wandb.ai/zekai-wang/cs285_proj_get_action_true_dynamics_updated/sweeps/ok4muk7m</a>"
      ],
      "text/plain": [
       "<IPython.core.display.HTML object>"
      ]
     },
     "metadata": {},
     "output_type": "display_data"
    },
    {
     "data": {
      "text/html": [
       " View project at <a href='https://wandb.ai/zekai-wang/cs285_proj_get_action_true_dynamics_updated' target=\"_blank\">https://wandb.ai/zekai-wang/cs285_proj_get_action_true_dynamics_updated</a>"
      ],
      "text/plain": [
       "<IPython.core.display.HTML object>"
      ]
     },
     "metadata": {},
     "output_type": "display_data"
    },
    {
     "data": {
      "text/html": [
       " View sweep at <a href='https://wandb.ai/zekai-wang/cs285_proj_get_action_true_dynamics_updated/sweeps/ok4muk7m' target=\"_blank\">https://wandb.ai/zekai-wang/cs285_proj_get_action_true_dynamics_updated/sweeps/ok4muk7m</a>"
      ],
      "text/plain": [
       "<IPython.core.display.HTML object>"
      ]
     },
     "metadata": {},
     "output_type": "display_data"
    },
    {
     "data": {
      "text/html": [
       " View run at <a href='https://wandb.ai/zekai-wang/cs285_proj_get_action_true_dynamics_updated/runs/1s3i7ft3' target=\"_blank\">https://wandb.ai/zekai-wang/cs285_proj_get_action_true_dynamics_updated/runs/1s3i7ft3</a>"
      ],
      "text/plain": [
       "<IPython.core.display.HTML object>"
      ]
     },
     "metadata": {},
     "output_type": "display_data"
    },
    {
     "name": "stderr",
     "output_type": "stream",
     "text": [
      "100%|██████████| 10/10 [00:15<00:00,  1.53s/it]\n"
     ]
    },
    {
     "name": "stdout",
     "output_type": "stream",
     "text": [
      "mean -1152.2273\n",
      "std 295.01566\n",
      "min -1671.2285\n",
      "max -749.2793\n"
     ]
    },
    {
     "data": {
      "application/vnd.jupyter.widget-view+json": {
       "model_id": "9540048d018947eaa63085c891dd41c5",
       "version_major": 2,
       "version_minor": 0
      },
      "text/plain": [
       "VBox(children=(Label(value='0.004 MB of 0.004 MB uploaded\\r'), FloatProgress(value=1.0, max=1.0)))"
      ]
     },
     "metadata": {},
     "output_type": "display_data"
    },
    {
     "data": {
      "text/html": [
       "<style>\n",
       "    table.wandb td:nth-child(1) { padding: 0 10px; text-align: left ; width: auto;} td:nth-child(2) {text-align: left ; width: 100%}\n",
       "    .wandb-row { display: flex; flex-direction: row; flex-wrap: wrap; justify-content: flex-start; width: 100% }\n",
       "    .wandb-col { display: flex; flex-direction: column; flex-basis: 100%; flex: 1; padding: 10px; }\n",
       "    </style>\n",
       "<div class=\"wandb-row\"><div class=\"wandb-col\"><h3>Run history:</h3><br/><table class=\"wandb\"><tr><td>max</td><td>▁</td></tr><tr><td>mean</td><td>▁</td></tr><tr><td>min</td><td>▁</td></tr><tr><td>std</td><td>▁</td></tr></table><br/></div><div class=\"wandb-col\"><h3>Run summary:</h3><br/><table class=\"wandb\"><tr><td>max</td><td>-749.2793</td></tr><tr><td>mean</td><td>-1152.22729</td></tr><tr><td>min</td><td>-1671.22852</td></tr><tr><td>std</td><td>295.01566</td></tr></table><br/></div></div>"
      ],
      "text/plain": [
       "<IPython.core.display.HTML object>"
      ]
     },
     "metadata": {},
     "output_type": "display_data"
    },
    {
     "data": {
      "text/html": [
       " View run <strong style=\"color:#cdcd00\">breezy-sweep-84</strong> at: <a href='https://wandb.ai/zekai-wang/cs285_proj_get_action_true_dynamics_updated/runs/1s3i7ft3' target=\"_blank\">https://wandb.ai/zekai-wang/cs285_proj_get_action_true_dynamics_updated/runs/1s3i7ft3</a><br/>Synced 6 W&B file(s), 0 media file(s), 0 artifact file(s) and 0 other file(s)"
      ],
      "text/plain": [
       "<IPython.core.display.HTML object>"
      ]
     },
     "metadata": {},
     "output_type": "display_data"
    },
    {
     "data": {
      "text/html": [
       "Find logs at: <code>./wandb/run-20231210_002355-1s3i7ft3/logs</code>"
      ],
      "text/plain": [
       "<IPython.core.display.HTML object>"
      ]
     },
     "metadata": {},
     "output_type": "display_data"
    },
    {
     "name": "stderr",
     "output_type": "stream",
     "text": [
      "\u001b[34m\u001b[1mwandb\u001b[0m: Agent Starting Run: rxlkesqy with config:\n",
      "\u001b[34m\u001b[1mwandb\u001b[0m: \tcem_alpha: 0.8\n",
      "\u001b[34m\u001b[1mwandb\u001b[0m: \tcem_num_elites: 4\n",
      "\u001b[34m\u001b[1mwandb\u001b[0m: \tcem_num_iters: 16\n",
      "\u001b[34m\u001b[1mwandb\u001b[0m: \tmpc_discount: 0.95\n",
      "\u001b[34m\u001b[1mwandb\u001b[0m: \tmpc_horizon_steps: 1\n",
      "\u001b[34m\u001b[1mwandb\u001b[0m: \tmpc_num_action_sequences: 5000\n",
      "\u001b[34m\u001b[1mwandb\u001b[0m: \tmpc_strategy: cem\n",
      "/home/zekai/miniconda3/envs/cs285_proj/lib/python3.9/site-packages/ipywidgets/widgets/widget.py:528: DeprecationWarning: The `ipykernel.comm.Comm` class has been deprecated. Please use the `comm` module instead.For creating comms, use the function `from comm import create_comm`.\n",
      "  self.comm = Comm(**args)\n",
      "/home/zekai/miniconda3/envs/cs285_proj/lib/python3.9/site-packages/wandb/sdk/lib/ipython.py:77: DeprecationWarning: Importing display from IPython.core.display is deprecated since IPython 7.14, please import from IPython display\n",
      "  from IPython.core.display import HTML, display  # type: ignore\n"
     ]
    },
    {
     "data": {
      "text/html": [
       "Tracking run with wandb version 0.16.1"
      ],
      "text/plain": [
       "<IPython.core.display.HTML object>"
      ]
     },
     "metadata": {},
     "output_type": "display_data"
    },
    {
     "data": {
      "text/html": [
       "Run data is saved locally in <code>/home/zekai/repos/cs285_proj/notebooks/wandb/run-20231210_002420-rxlkesqy</code>"
      ],
      "text/plain": [
       "<IPython.core.display.HTML object>"
      ]
     },
     "metadata": {},
     "output_type": "display_data"
    },
    {
     "data": {
      "text/html": [
       "Syncing run <strong><a href='https://wandb.ai/zekai-wang/cs285_proj_get_action_true_dynamics_updated/runs/rxlkesqy' target=\"_blank\">eager-sweep-85</a></strong> to <a href='https://wandb.ai/zekai-wang/cs285_proj_get_action_true_dynamics_updated' target=\"_blank\">Weights & Biases</a> (<a href='https://wandb.me/run' target=\"_blank\">docs</a>)<br/>Sweep page: <a href='https://wandb.ai/zekai-wang/cs285_proj_get_action_true_dynamics_updated/sweeps/ok4muk7m' target=\"_blank\">https://wandb.ai/zekai-wang/cs285_proj_get_action_true_dynamics_updated/sweeps/ok4muk7m</a>"
      ],
      "text/plain": [
       "<IPython.core.display.HTML object>"
      ]
     },
     "metadata": {},
     "output_type": "display_data"
    },
    {
     "data": {
      "text/html": [
       " View project at <a href='https://wandb.ai/zekai-wang/cs285_proj_get_action_true_dynamics_updated' target=\"_blank\">https://wandb.ai/zekai-wang/cs285_proj_get_action_true_dynamics_updated</a>"
      ],
      "text/plain": [
       "<IPython.core.display.HTML object>"
      ]
     },
     "metadata": {},
     "output_type": "display_data"
    },
    {
     "data": {
      "text/html": [
       " View sweep at <a href='https://wandb.ai/zekai-wang/cs285_proj_get_action_true_dynamics_updated/sweeps/ok4muk7m' target=\"_blank\">https://wandb.ai/zekai-wang/cs285_proj_get_action_true_dynamics_updated/sweeps/ok4muk7m</a>"
      ],
      "text/plain": [
       "<IPython.core.display.HTML object>"
      ]
     },
     "metadata": {},
     "output_type": "display_data"
    },
    {
     "data": {
      "text/html": [
       " View run at <a href='https://wandb.ai/zekai-wang/cs285_proj_get_action_true_dynamics_updated/runs/rxlkesqy' target=\"_blank\">https://wandb.ai/zekai-wang/cs285_proj_get_action_true_dynamics_updated/runs/rxlkesqy</a>"
      ],
      "text/plain": [
       "<IPython.core.display.HTML object>"
      ]
     },
     "metadata": {},
     "output_type": "display_data"
    },
    {
     "name": "stderr",
     "output_type": "stream",
     "text": [
      "100%|██████████| 10/10 [00:15<00:00,  1.60s/it]\n"
     ]
    },
    {
     "name": "stdout",
     "output_type": "stream",
     "text": [
      "mean -1297.3783\n",
      "std 301.0483\n",
      "min -1804.1279\n",
      "max -822.7306\n"
     ]
    },
    {
     "data": {
      "application/vnd.jupyter.widget-view+json": {
       "model_id": "f8b73ec29dee4024872be5902943c206",
       "version_major": 2,
       "version_minor": 0
      },
      "text/plain": [
       "VBox(children=(Label(value='0.004 MB of 0.004 MB uploaded\\r'), FloatProgress(value=1.0, max=1.0)))"
      ]
     },
     "metadata": {},
     "output_type": "display_data"
    },
    {
     "data": {
      "text/html": [
       "<style>\n",
       "    table.wandb td:nth-child(1) { padding: 0 10px; text-align: left ; width: auto;} td:nth-child(2) {text-align: left ; width: 100%}\n",
       "    .wandb-row { display: flex; flex-direction: row; flex-wrap: wrap; justify-content: flex-start; width: 100% }\n",
       "    .wandb-col { display: flex; flex-direction: column; flex-basis: 100%; flex: 1; padding: 10px; }\n",
       "    </style>\n",
       "<div class=\"wandb-row\"><div class=\"wandb-col\"><h3>Run history:</h3><br/><table class=\"wandb\"><tr><td>max</td><td>▁</td></tr><tr><td>mean</td><td>▁</td></tr><tr><td>min</td><td>▁</td></tr><tr><td>std</td><td>▁</td></tr></table><br/></div><div class=\"wandb-col\"><h3>Run summary:</h3><br/><table class=\"wandb\"><tr><td>max</td><td>-822.73059</td></tr><tr><td>mean</td><td>-1297.3783</td></tr><tr><td>min</td><td>-1804.12793</td></tr><tr><td>std</td><td>301.04831</td></tr></table><br/></div></div>"
      ],
      "text/plain": [
       "<IPython.core.display.HTML object>"
      ]
     },
     "metadata": {},
     "output_type": "display_data"
    },
    {
     "data": {
      "text/html": [
       " View run <strong style=\"color:#cdcd00\">eager-sweep-85</strong> at: <a href='https://wandb.ai/zekai-wang/cs285_proj_get_action_true_dynamics_updated/runs/rxlkesqy' target=\"_blank\">https://wandb.ai/zekai-wang/cs285_proj_get_action_true_dynamics_updated/runs/rxlkesqy</a><br/>Synced 6 W&B file(s), 0 media file(s), 0 artifact file(s) and 0 other file(s)"
      ],
      "text/plain": [
       "<IPython.core.display.HTML object>"
      ]
     },
     "metadata": {},
     "output_type": "display_data"
    },
    {
     "data": {
      "text/html": [
       "Find logs at: <code>./wandb/run-20231210_002420-rxlkesqy/logs</code>"
      ],
      "text/plain": [
       "<IPython.core.display.HTML object>"
      ]
     },
     "metadata": {},
     "output_type": "display_data"
    },
    {
     "name": "stderr",
     "output_type": "stream",
     "text": [
      "\u001b[34m\u001b[1mwandb\u001b[0m: Agent Starting Run: ykqxh95w with config:\n",
      "\u001b[34m\u001b[1mwandb\u001b[0m: \tcem_alpha: 0.9\n",
      "\u001b[34m\u001b[1mwandb\u001b[0m: \tcem_num_elites: 32\n",
      "\u001b[34m\u001b[1mwandb\u001b[0m: \tcem_num_iters: 8\n",
      "\u001b[34m\u001b[1mwandb\u001b[0m: \tmpc_discount: 1\n",
      "\u001b[34m\u001b[1mwandb\u001b[0m: \tmpc_horizon_steps: 10\n",
      "\u001b[34m\u001b[1mwandb\u001b[0m: \tmpc_num_action_sequences: 100\n",
      "\u001b[34m\u001b[1mwandb\u001b[0m: \tmpc_strategy: cem\n",
      "/home/zekai/miniconda3/envs/cs285_proj/lib/python3.9/site-packages/ipywidgets/widgets/widget.py:528: DeprecationWarning: The `ipykernel.comm.Comm` class has been deprecated. Please use the `comm` module instead.For creating comms, use the function `from comm import create_comm`.\n",
      "  self.comm = Comm(**args)\n",
      "/home/zekai/miniconda3/envs/cs285_proj/lib/python3.9/site-packages/wandb/sdk/lib/ipython.py:77: DeprecationWarning: Importing display from IPython.core.display is deprecated since IPython 7.14, please import from IPython display\n",
      "  from IPython.core.display import HTML, display  # type: ignore\n"
     ]
    },
    {
     "data": {
      "text/html": [
       "Tracking run with wandb version 0.16.1"
      ],
      "text/plain": [
       "<IPython.core.display.HTML object>"
      ]
     },
     "metadata": {},
     "output_type": "display_data"
    },
    {
     "data": {
      "text/html": [
       "Run data is saved locally in <code>/home/zekai/repos/cs285_proj/notebooks/wandb/run-20231210_002451-ykqxh95w</code>"
      ],
      "text/plain": [
       "<IPython.core.display.HTML object>"
      ]
     },
     "metadata": {},
     "output_type": "display_data"
    },
    {
     "data": {
      "text/html": [
       "Syncing run <strong><a href='https://wandb.ai/zekai-wang/cs285_proj_get_action_true_dynamics_updated/runs/ykqxh95w' target=\"_blank\">deft-sweep-86</a></strong> to <a href='https://wandb.ai/zekai-wang/cs285_proj_get_action_true_dynamics_updated' target=\"_blank\">Weights & Biases</a> (<a href='https://wandb.me/run' target=\"_blank\">docs</a>)<br/>Sweep page: <a href='https://wandb.ai/zekai-wang/cs285_proj_get_action_true_dynamics_updated/sweeps/ok4muk7m' target=\"_blank\">https://wandb.ai/zekai-wang/cs285_proj_get_action_true_dynamics_updated/sweeps/ok4muk7m</a>"
      ],
      "text/plain": [
       "<IPython.core.display.HTML object>"
      ]
     },
     "metadata": {},
     "output_type": "display_data"
    },
    {
     "data": {
      "text/html": [
       " View project at <a href='https://wandb.ai/zekai-wang/cs285_proj_get_action_true_dynamics_updated' target=\"_blank\">https://wandb.ai/zekai-wang/cs285_proj_get_action_true_dynamics_updated</a>"
      ],
      "text/plain": [
       "<IPython.core.display.HTML object>"
      ]
     },
     "metadata": {},
     "output_type": "display_data"
    },
    {
     "data": {
      "text/html": [
       " View sweep at <a href='https://wandb.ai/zekai-wang/cs285_proj_get_action_true_dynamics_updated/sweeps/ok4muk7m' target=\"_blank\">https://wandb.ai/zekai-wang/cs285_proj_get_action_true_dynamics_updated/sweeps/ok4muk7m</a>"
      ],
      "text/plain": [
       "<IPython.core.display.HTML object>"
      ]
     },
     "metadata": {},
     "output_type": "display_data"
    },
    {
     "data": {
      "text/html": [
       " View run at <a href='https://wandb.ai/zekai-wang/cs285_proj_get_action_true_dynamics_updated/runs/ykqxh95w' target=\"_blank\">https://wandb.ai/zekai-wang/cs285_proj_get_action_true_dynamics_updated/runs/ykqxh95w</a>"
      ],
      "text/plain": [
       "<IPython.core.display.HTML object>"
      ]
     },
     "metadata": {},
     "output_type": "display_data"
    },
    {
     "name": "stderr",
     "output_type": "stream",
     "text": [
      "100%|██████████| 10/10 [00:15<00:00,  1.55s/it]\n"
     ]
    },
    {
     "name": "stdout",
     "output_type": "stream",
     "text": [
      "mean -1150.5627\n",
      "std 228.27188\n",
      "min -1631.2346\n",
      "max -754.4673\n"
     ]
    },
    {
     "data": {
      "application/vnd.jupyter.widget-view+json": {
       "model_id": "580bd913f9fa491cba64abf3458862f6",
       "version_major": 2,
       "version_minor": 0
      },
      "text/plain": [
       "VBox(children=(Label(value='0.004 MB of 0.004 MB uploaded\\r'), FloatProgress(value=1.0, max=1.0)))"
      ]
     },
     "metadata": {},
     "output_type": "display_data"
    },
    {
     "data": {
      "text/html": [
       "<style>\n",
       "    table.wandb td:nth-child(1) { padding: 0 10px; text-align: left ; width: auto;} td:nth-child(2) {text-align: left ; width: 100%}\n",
       "    .wandb-row { display: flex; flex-direction: row; flex-wrap: wrap; justify-content: flex-start; width: 100% }\n",
       "    .wandb-col { display: flex; flex-direction: column; flex-basis: 100%; flex: 1; padding: 10px; }\n",
       "    </style>\n",
       "<div class=\"wandb-row\"><div class=\"wandb-col\"><h3>Run history:</h3><br/><table class=\"wandb\"><tr><td>max</td><td>▁</td></tr><tr><td>mean</td><td>▁</td></tr><tr><td>min</td><td>▁</td></tr><tr><td>std</td><td>▁</td></tr></table><br/></div><div class=\"wandb-col\"><h3>Run summary:</h3><br/><table class=\"wandb\"><tr><td>max</td><td>-754.46729</td></tr><tr><td>mean</td><td>-1150.56274</td></tr><tr><td>min</td><td>-1631.23462</td></tr><tr><td>std</td><td>228.27188</td></tr></table><br/></div></div>"
      ],
      "text/plain": [
       "<IPython.core.display.HTML object>"
      ]
     },
     "metadata": {},
     "output_type": "display_data"
    },
    {
     "data": {
      "text/html": [
       " View run <strong style=\"color:#cdcd00\">deft-sweep-86</strong> at: <a href='https://wandb.ai/zekai-wang/cs285_proj_get_action_true_dynamics_updated/runs/ykqxh95w' target=\"_blank\">https://wandb.ai/zekai-wang/cs285_proj_get_action_true_dynamics_updated/runs/ykqxh95w</a><br/>Synced 6 W&B file(s), 0 media file(s), 0 artifact file(s) and 0 other file(s)"
      ],
      "text/plain": [
       "<IPython.core.display.HTML object>"
      ]
     },
     "metadata": {},
     "output_type": "display_data"
    },
    {
     "data": {
      "text/html": [
       "Find logs at: <code>./wandb/run-20231210_002451-ykqxh95w/logs</code>"
      ],
      "text/plain": [
       "<IPython.core.display.HTML object>"
      ]
     },
     "metadata": {},
     "output_type": "display_data"
    },
    {
     "name": "stderr",
     "output_type": "stream",
     "text": [
      "\u001b[34m\u001b[1mwandb\u001b[0m: Agent Starting Run: mcqigp1j with config:\n",
      "\u001b[34m\u001b[1mwandb\u001b[0m: \tcem_alpha: 0.5\n",
      "\u001b[34m\u001b[1mwandb\u001b[0m: \tcem_num_elites: 16\n",
      "\u001b[34m\u001b[1mwandb\u001b[0m: \tcem_num_iters: 4\n",
      "\u001b[34m\u001b[1mwandb\u001b[0m: \tmpc_discount: 0.9\n",
      "\u001b[34m\u001b[1mwandb\u001b[0m: \tmpc_horizon_steps: 10\n",
      "\u001b[34m\u001b[1mwandb\u001b[0m: \tmpc_num_action_sequences: 200\n",
      "\u001b[34m\u001b[1mwandb\u001b[0m: \tmpc_strategy: random\n",
      "/home/zekai/miniconda3/envs/cs285_proj/lib/python3.9/site-packages/ipywidgets/widgets/widget.py:528: DeprecationWarning: The `ipykernel.comm.Comm` class has been deprecated. Please use the `comm` module instead.For creating comms, use the function `from comm import create_comm`.\n",
      "  self.comm = Comm(**args)\n",
      "/home/zekai/miniconda3/envs/cs285_proj/lib/python3.9/site-packages/wandb/sdk/lib/ipython.py:77: DeprecationWarning: Importing display from IPython.core.display is deprecated since IPython 7.14, please import from IPython display\n",
      "  from IPython.core.display import HTML, display  # type: ignore\n"
     ]
    },
    {
     "data": {
      "text/html": [
       "Tracking run with wandb version 0.16.1"
      ],
      "text/plain": [
       "<IPython.core.display.HTML object>"
      ]
     },
     "metadata": {},
     "output_type": "display_data"
    },
    {
     "data": {
      "text/html": [
       "Run data is saved locally in <code>/home/zekai/repos/cs285_proj/notebooks/wandb/run-20231210_002517-mcqigp1j</code>"
      ],
      "text/plain": [
       "<IPython.core.display.HTML object>"
      ]
     },
     "metadata": {},
     "output_type": "display_data"
    },
    {
     "data": {
      "text/html": [
       "Syncing run <strong><a href='https://wandb.ai/zekai-wang/cs285_proj_get_action_true_dynamics_updated/runs/mcqigp1j' target=\"_blank\">rich-sweep-87</a></strong> to <a href='https://wandb.ai/zekai-wang/cs285_proj_get_action_true_dynamics_updated' target=\"_blank\">Weights & Biases</a> (<a href='https://wandb.me/run' target=\"_blank\">docs</a>)<br/>Sweep page: <a href='https://wandb.ai/zekai-wang/cs285_proj_get_action_true_dynamics_updated/sweeps/ok4muk7m' target=\"_blank\">https://wandb.ai/zekai-wang/cs285_proj_get_action_true_dynamics_updated/sweeps/ok4muk7m</a>"
      ],
      "text/plain": [
       "<IPython.core.display.HTML object>"
      ]
     },
     "metadata": {},
     "output_type": "display_data"
    },
    {
     "data": {
      "text/html": [
       " View project at <a href='https://wandb.ai/zekai-wang/cs285_proj_get_action_true_dynamics_updated' target=\"_blank\">https://wandb.ai/zekai-wang/cs285_proj_get_action_true_dynamics_updated</a>"
      ],
      "text/plain": [
       "<IPython.core.display.HTML object>"
      ]
     },
     "metadata": {},
     "output_type": "display_data"
    },
    {
     "data": {
      "text/html": [
       " View sweep at <a href='https://wandb.ai/zekai-wang/cs285_proj_get_action_true_dynamics_updated/sweeps/ok4muk7m' target=\"_blank\">https://wandb.ai/zekai-wang/cs285_proj_get_action_true_dynamics_updated/sweeps/ok4muk7m</a>"
      ],
      "text/plain": [
       "<IPython.core.display.HTML object>"
      ]
     },
     "metadata": {},
     "output_type": "display_data"
    },
    {
     "data": {
      "text/html": [
       " View run at <a href='https://wandb.ai/zekai-wang/cs285_proj_get_action_true_dynamics_updated/runs/mcqigp1j' target=\"_blank\">https://wandb.ai/zekai-wang/cs285_proj_get_action_true_dynamics_updated/runs/mcqigp1j</a>"
      ],
      "text/plain": [
       "<IPython.core.display.HTML object>"
      ]
     },
     "metadata": {},
     "output_type": "display_data"
    },
    {
     "name": "stderr",
     "output_type": "stream",
     "text": [
      "100%|██████████| 10/10 [00:14<00:00,  1.49s/it]\n"
     ]
    },
    {
     "name": "stdout",
     "output_type": "stream",
     "text": [
      "mean -1261.957\n",
      "std 262.12308\n",
      "min -1840.0826\n",
      "max -884.3689\n"
     ]
    },
    {
     "data": {
      "application/vnd.jupyter.widget-view+json": {
       "model_id": "aa171993b9484bb5806991fd41a98b0e",
       "version_major": 2,
       "version_minor": 0
      },
      "text/plain": [
       "VBox(children=(Label(value='0.004 MB of 0.004 MB uploaded\\r'), FloatProgress(value=1.0, max=1.0)))"
      ]
     },
     "metadata": {},
     "output_type": "display_data"
    },
    {
     "data": {
      "text/html": [
       "<style>\n",
       "    table.wandb td:nth-child(1) { padding: 0 10px; text-align: left ; width: auto;} td:nth-child(2) {text-align: left ; width: 100%}\n",
       "    .wandb-row { display: flex; flex-direction: row; flex-wrap: wrap; justify-content: flex-start; width: 100% }\n",
       "    .wandb-col { display: flex; flex-direction: column; flex-basis: 100%; flex: 1; padding: 10px; }\n",
       "    </style>\n",
       "<div class=\"wandb-row\"><div class=\"wandb-col\"><h3>Run history:</h3><br/><table class=\"wandb\"><tr><td>max</td><td>▁</td></tr><tr><td>mean</td><td>▁</td></tr><tr><td>min</td><td>▁</td></tr><tr><td>std</td><td>▁</td></tr></table><br/></div><div class=\"wandb-col\"><h3>Run summary:</h3><br/><table class=\"wandb\"><tr><td>max</td><td>-884.3689</td></tr><tr><td>mean</td><td>-1261.95703</td></tr><tr><td>min</td><td>-1840.08264</td></tr><tr><td>std</td><td>262.12308</td></tr></table><br/></div></div>"
      ],
      "text/plain": [
       "<IPython.core.display.HTML object>"
      ]
     },
     "metadata": {},
     "output_type": "display_data"
    },
    {
     "data": {
      "text/html": [
       " View run <strong style=\"color:#cdcd00\">rich-sweep-87</strong> at: <a href='https://wandb.ai/zekai-wang/cs285_proj_get_action_true_dynamics_updated/runs/mcqigp1j' target=\"_blank\">https://wandb.ai/zekai-wang/cs285_proj_get_action_true_dynamics_updated/runs/mcqigp1j</a><br/>Synced 6 W&B file(s), 0 media file(s), 0 artifact file(s) and 0 other file(s)"
      ],
      "text/plain": [
       "<IPython.core.display.HTML object>"
      ]
     },
     "metadata": {},
     "output_type": "display_data"
    },
    {
     "data": {
      "text/html": [
       "Find logs at: <code>./wandb/run-20231210_002517-mcqigp1j/logs</code>"
      ],
      "text/plain": [
       "<IPython.core.display.HTML object>"
      ]
     },
     "metadata": {},
     "output_type": "display_data"
    },
    {
     "name": "stderr",
     "output_type": "stream",
     "text": [
      "\u001b[34m\u001b[1mwandb\u001b[0m: Agent Starting Run: ca4yaxiw with config:\n",
      "\u001b[34m\u001b[1mwandb\u001b[0m: \tcem_alpha: 1\n",
      "\u001b[34m\u001b[1mwandb\u001b[0m: \tcem_num_elites: 1\n",
      "\u001b[34m\u001b[1mwandb\u001b[0m: \tcem_num_iters: 4\n",
      "\u001b[34m\u001b[1mwandb\u001b[0m: \tmpc_discount: 0.99\n",
      "\u001b[34m\u001b[1mwandb\u001b[0m: \tmpc_horizon_steps: 10\n",
      "\u001b[34m\u001b[1mwandb\u001b[0m: \tmpc_num_action_sequences: 500\n",
      "\u001b[34m\u001b[1mwandb\u001b[0m: \tmpc_strategy: cem\n",
      "/home/zekai/miniconda3/envs/cs285_proj/lib/python3.9/site-packages/ipywidgets/widgets/widget.py:528: DeprecationWarning: The `ipykernel.comm.Comm` class has been deprecated. Please use the `comm` module instead.For creating comms, use the function `from comm import create_comm`.\n",
      "  self.comm = Comm(**args)\n",
      "/home/zekai/miniconda3/envs/cs285_proj/lib/python3.9/site-packages/wandb/sdk/lib/ipython.py:77: DeprecationWarning: Importing display from IPython.core.display is deprecated since IPython 7.14, please import from IPython display\n",
      "  from IPython.core.display import HTML, display  # type: ignore\n"
     ]
    },
    {
     "data": {
      "text/html": [
       "Tracking run with wandb version 0.16.1"
      ],
      "text/plain": [
       "<IPython.core.display.HTML object>"
      ]
     },
     "metadata": {},
     "output_type": "display_data"
    },
    {
     "data": {
      "text/html": [
       "Run data is saved locally in <code>/home/zekai/repos/cs285_proj/notebooks/wandb/run-20231210_002543-ca4yaxiw</code>"
      ],
      "text/plain": [
       "<IPython.core.display.HTML object>"
      ]
     },
     "metadata": {},
     "output_type": "display_data"
    },
    {
     "data": {
      "text/html": [
       "Syncing run <strong><a href='https://wandb.ai/zekai-wang/cs285_proj_get_action_true_dynamics_updated/runs/ca4yaxiw' target=\"_blank\">driven-sweep-88</a></strong> to <a href='https://wandb.ai/zekai-wang/cs285_proj_get_action_true_dynamics_updated' target=\"_blank\">Weights & Biases</a> (<a href='https://wandb.me/run' target=\"_blank\">docs</a>)<br/>Sweep page: <a href='https://wandb.ai/zekai-wang/cs285_proj_get_action_true_dynamics_updated/sweeps/ok4muk7m' target=\"_blank\">https://wandb.ai/zekai-wang/cs285_proj_get_action_true_dynamics_updated/sweeps/ok4muk7m</a>"
      ],
      "text/plain": [
       "<IPython.core.display.HTML object>"
      ]
     },
     "metadata": {},
     "output_type": "display_data"
    },
    {
     "data": {
      "text/html": [
       " View project at <a href='https://wandb.ai/zekai-wang/cs285_proj_get_action_true_dynamics_updated' target=\"_blank\">https://wandb.ai/zekai-wang/cs285_proj_get_action_true_dynamics_updated</a>"
      ],
      "text/plain": [
       "<IPython.core.display.HTML object>"
      ]
     },
     "metadata": {},
     "output_type": "display_data"
    },
    {
     "data": {
      "text/html": [
       " View sweep at <a href='https://wandb.ai/zekai-wang/cs285_proj_get_action_true_dynamics_updated/sweeps/ok4muk7m' target=\"_blank\">https://wandb.ai/zekai-wang/cs285_proj_get_action_true_dynamics_updated/sweeps/ok4muk7m</a>"
      ],
      "text/plain": [
       "<IPython.core.display.HTML object>"
      ]
     },
     "metadata": {},
     "output_type": "display_data"
    },
    {
     "data": {
      "text/html": [
       " View run at <a href='https://wandb.ai/zekai-wang/cs285_proj_get_action_true_dynamics_updated/runs/ca4yaxiw' target=\"_blank\">https://wandb.ai/zekai-wang/cs285_proj_get_action_true_dynamics_updated/runs/ca4yaxiw</a>"
      ],
      "text/plain": [
       "<IPython.core.display.HTML object>"
      ]
     },
     "metadata": {},
     "output_type": "display_data"
    },
    {
     "name": "stderr",
     "output_type": "stream",
     "text": [
      "100%|██████████| 10/10 [00:14<00:00,  1.50s/it]\n"
     ]
    },
    {
     "name": "stdout",
     "output_type": "stream",
     "text": [
      "mean -1291.2878\n",
      "std 234.02458\n",
      "min -1693.5803\n",
      "max -999.2748\n"
     ]
    },
    {
     "data": {
      "application/vnd.jupyter.widget-view+json": {
       "model_id": "a1d4d93ed7914303a38b6a69e7190b1e",
       "version_major": 2,
       "version_minor": 0
      },
      "text/plain": [
       "VBox(children=(Label(value='0.004 MB of 0.004 MB uploaded\\r'), FloatProgress(value=1.0, max=1.0)))"
      ]
     },
     "metadata": {},
     "output_type": "display_data"
    },
    {
     "data": {
      "text/html": [
       "<style>\n",
       "    table.wandb td:nth-child(1) { padding: 0 10px; text-align: left ; width: auto;} td:nth-child(2) {text-align: left ; width: 100%}\n",
       "    .wandb-row { display: flex; flex-direction: row; flex-wrap: wrap; justify-content: flex-start; width: 100% }\n",
       "    .wandb-col { display: flex; flex-direction: column; flex-basis: 100%; flex: 1; padding: 10px; }\n",
       "    </style>\n",
       "<div class=\"wandb-row\"><div class=\"wandb-col\"><h3>Run history:</h3><br/><table class=\"wandb\"><tr><td>max</td><td>▁</td></tr><tr><td>mean</td><td>▁</td></tr><tr><td>min</td><td>▁</td></tr><tr><td>std</td><td>▁</td></tr></table><br/></div><div class=\"wandb-col\"><h3>Run summary:</h3><br/><table class=\"wandb\"><tr><td>max</td><td>-999.27478</td></tr><tr><td>mean</td><td>-1291.28784</td></tr><tr><td>min</td><td>-1693.58032</td></tr><tr><td>std</td><td>234.02458</td></tr></table><br/></div></div>"
      ],
      "text/plain": [
       "<IPython.core.display.HTML object>"
      ]
     },
     "metadata": {},
     "output_type": "display_data"
    },
    {
     "data": {
      "text/html": [
       " View run <strong style=\"color:#cdcd00\">driven-sweep-88</strong> at: <a href='https://wandb.ai/zekai-wang/cs285_proj_get_action_true_dynamics_updated/runs/ca4yaxiw' target=\"_blank\">https://wandb.ai/zekai-wang/cs285_proj_get_action_true_dynamics_updated/runs/ca4yaxiw</a><br/>Synced 6 W&B file(s), 0 media file(s), 0 artifact file(s) and 0 other file(s)"
      ],
      "text/plain": [
       "<IPython.core.display.HTML object>"
      ]
     },
     "metadata": {},
     "output_type": "display_data"
    },
    {
     "data": {
      "text/html": [
       "Find logs at: <code>./wandb/run-20231210_002543-ca4yaxiw/logs</code>"
      ],
      "text/plain": [
       "<IPython.core.display.HTML object>"
      ]
     },
     "metadata": {},
     "output_type": "display_data"
    },
    {
     "name": "stderr",
     "output_type": "stream",
     "text": [
      "\u001b[34m\u001b[1mwandb\u001b[0m: Agent Starting Run: ct6vg7dg with config:\n",
      "\u001b[34m\u001b[1mwandb\u001b[0m: \tcem_alpha: 0.8\n",
      "\u001b[34m\u001b[1mwandb\u001b[0m: \tcem_num_elites: 8\n",
      "\u001b[34m\u001b[1mwandb\u001b[0m: \tcem_num_iters: 8\n",
      "\u001b[34m\u001b[1mwandb\u001b[0m: \tmpc_discount: 0.9\n",
      "\u001b[34m\u001b[1mwandb\u001b[0m: \tmpc_horizon_steps: 1\n",
      "\u001b[34m\u001b[1mwandb\u001b[0m: \tmpc_num_action_sequences: 500\n",
      "\u001b[34m\u001b[1mwandb\u001b[0m: \tmpc_strategy: cem\n",
      "/home/zekai/miniconda3/envs/cs285_proj/lib/python3.9/site-packages/ipywidgets/widgets/widget.py:528: DeprecationWarning: The `ipykernel.comm.Comm` class has been deprecated. Please use the `comm` module instead.For creating comms, use the function `from comm import create_comm`.\n",
      "  self.comm = Comm(**args)\n",
      "/home/zekai/miniconda3/envs/cs285_proj/lib/python3.9/site-packages/wandb/sdk/lib/ipython.py:77: DeprecationWarning: Importing display from IPython.core.display is deprecated since IPython 7.14, please import from IPython display\n",
      "  from IPython.core.display import HTML, display  # type: ignore\n"
     ]
    },
    {
     "data": {
      "text/html": [
       "Tracking run with wandb version 0.16.1"
      ],
      "text/plain": [
       "<IPython.core.display.HTML object>"
      ]
     },
     "metadata": {},
     "output_type": "display_data"
    },
    {
     "data": {
      "text/html": [
       "Run data is saved locally in <code>/home/zekai/repos/cs285_proj/notebooks/wandb/run-20231210_002608-ct6vg7dg</code>"
      ],
      "text/plain": [
       "<IPython.core.display.HTML object>"
      ]
     },
     "metadata": {},
     "output_type": "display_data"
    },
    {
     "data": {
      "text/html": [
       "Syncing run <strong><a href='https://wandb.ai/zekai-wang/cs285_proj_get_action_true_dynamics_updated/runs/ct6vg7dg' target=\"_blank\">restful-sweep-89</a></strong> to <a href='https://wandb.ai/zekai-wang/cs285_proj_get_action_true_dynamics_updated' target=\"_blank\">Weights & Biases</a> (<a href='https://wandb.me/run' target=\"_blank\">docs</a>)<br/>Sweep page: <a href='https://wandb.ai/zekai-wang/cs285_proj_get_action_true_dynamics_updated/sweeps/ok4muk7m' target=\"_blank\">https://wandb.ai/zekai-wang/cs285_proj_get_action_true_dynamics_updated/sweeps/ok4muk7m</a>"
      ],
      "text/plain": [
       "<IPython.core.display.HTML object>"
      ]
     },
     "metadata": {},
     "output_type": "display_data"
    },
    {
     "data": {
      "text/html": [
       " View project at <a href='https://wandb.ai/zekai-wang/cs285_proj_get_action_true_dynamics_updated' target=\"_blank\">https://wandb.ai/zekai-wang/cs285_proj_get_action_true_dynamics_updated</a>"
      ],
      "text/plain": [
       "<IPython.core.display.HTML object>"
      ]
     },
     "metadata": {},
     "output_type": "display_data"
    },
    {
     "data": {
      "text/html": [
       " View sweep at <a href='https://wandb.ai/zekai-wang/cs285_proj_get_action_true_dynamics_updated/sweeps/ok4muk7m' target=\"_blank\">https://wandb.ai/zekai-wang/cs285_proj_get_action_true_dynamics_updated/sweeps/ok4muk7m</a>"
      ],
      "text/plain": [
       "<IPython.core.display.HTML object>"
      ]
     },
     "metadata": {},
     "output_type": "display_data"
    },
    {
     "data": {
      "text/html": [
       " View run at <a href='https://wandb.ai/zekai-wang/cs285_proj_get_action_true_dynamics_updated/runs/ct6vg7dg' target=\"_blank\">https://wandb.ai/zekai-wang/cs285_proj_get_action_true_dynamics_updated/runs/ct6vg7dg</a>"
      ],
      "text/plain": [
       "<IPython.core.display.HTML object>"
      ]
     },
     "metadata": {},
     "output_type": "display_data"
    },
    {
     "name": "stderr",
     "output_type": "stream",
     "text": [
      "100%|██████████| 10/10 [00:15<00:00,  1.56s/it]\n"
     ]
    },
    {
     "name": "stdout",
     "output_type": "stream",
     "text": [
      "mean -1344.8064\n",
      "std 297.38773\n",
      "min -1816.894\n",
      "max -784.28516\n"
     ]
    },
    {
     "data": {
      "application/vnd.jupyter.widget-view+json": {
       "model_id": "02d36d31b5dc4d7fbc78fb5487633287",
       "version_major": 2,
       "version_minor": 0
      },
      "text/plain": [
       "VBox(children=(Label(value='0.004 MB of 0.004 MB uploaded\\r'), FloatProgress(value=1.0, max=1.0)))"
      ]
     },
     "metadata": {},
     "output_type": "display_data"
    },
    {
     "data": {
      "text/html": [
       "<style>\n",
       "    table.wandb td:nth-child(1) { padding: 0 10px; text-align: left ; width: auto;} td:nth-child(2) {text-align: left ; width: 100%}\n",
       "    .wandb-row { display: flex; flex-direction: row; flex-wrap: wrap; justify-content: flex-start; width: 100% }\n",
       "    .wandb-col { display: flex; flex-direction: column; flex-basis: 100%; flex: 1; padding: 10px; }\n",
       "    </style>\n",
       "<div class=\"wandb-row\"><div class=\"wandb-col\"><h3>Run history:</h3><br/><table class=\"wandb\"><tr><td>max</td><td>▁</td></tr><tr><td>mean</td><td>▁</td></tr><tr><td>min</td><td>▁</td></tr><tr><td>std</td><td>▁</td></tr></table><br/></div><div class=\"wandb-col\"><h3>Run summary:</h3><br/><table class=\"wandb\"><tr><td>max</td><td>-784.28516</td></tr><tr><td>mean</td><td>-1344.8064</td></tr><tr><td>min</td><td>-1816.89404</td></tr><tr><td>std</td><td>297.38773</td></tr></table><br/></div></div>"
      ],
      "text/plain": [
       "<IPython.core.display.HTML object>"
      ]
     },
     "metadata": {},
     "output_type": "display_data"
    },
    {
     "data": {
      "text/html": [
       " View run <strong style=\"color:#cdcd00\">restful-sweep-89</strong> at: <a href='https://wandb.ai/zekai-wang/cs285_proj_get_action_true_dynamics_updated/runs/ct6vg7dg' target=\"_blank\">https://wandb.ai/zekai-wang/cs285_proj_get_action_true_dynamics_updated/runs/ct6vg7dg</a><br/>Synced 6 W&B file(s), 0 media file(s), 0 artifact file(s) and 0 other file(s)"
      ],
      "text/plain": [
       "<IPython.core.display.HTML object>"
      ]
     },
     "metadata": {},
     "output_type": "display_data"
    },
    {
     "data": {
      "text/html": [
       "Find logs at: <code>./wandb/run-20231210_002608-ct6vg7dg/logs</code>"
      ],
      "text/plain": [
       "<IPython.core.display.HTML object>"
      ]
     },
     "metadata": {},
     "output_type": "display_data"
    },
    {
     "name": "stderr",
     "output_type": "stream",
     "text": [
      "\u001b[34m\u001b[1mwandb\u001b[0m: Agent Starting Run: glopahfk with config:\n",
      "\u001b[34m\u001b[1mwandb\u001b[0m: \tcem_alpha: 0.95\n",
      "\u001b[34m\u001b[1mwandb\u001b[0m: \tcem_num_elites: 4\n",
      "\u001b[34m\u001b[1mwandb\u001b[0m: \tcem_num_iters: 8\n",
      "\u001b[34m\u001b[1mwandb\u001b[0m: \tmpc_discount: 0.95\n",
      "\u001b[34m\u001b[1mwandb\u001b[0m: \tmpc_horizon_steps: 200\n",
      "\u001b[34m\u001b[1mwandb\u001b[0m: \tmpc_num_action_sequences: 5000\n",
      "\u001b[34m\u001b[1mwandb\u001b[0m: \tmpc_strategy: random\n",
      "/home/zekai/miniconda3/envs/cs285_proj/lib/python3.9/site-packages/ipywidgets/widgets/widget.py:528: DeprecationWarning: The `ipykernel.comm.Comm` class has been deprecated. Please use the `comm` module instead.For creating comms, use the function `from comm import create_comm`.\n",
      "  self.comm = Comm(**args)\n",
      "/home/zekai/miniconda3/envs/cs285_proj/lib/python3.9/site-packages/wandb/sdk/lib/ipython.py:77: DeprecationWarning: Importing display from IPython.core.display is deprecated since IPython 7.14, please import from IPython display\n",
      "  from IPython.core.display import HTML, display  # type: ignore\n"
     ]
    },
    {
     "data": {
      "text/html": [
       "Tracking run with wandb version 0.16.1"
      ],
      "text/plain": [
       "<IPython.core.display.HTML object>"
      ]
     },
     "metadata": {},
     "output_type": "display_data"
    },
    {
     "data": {
      "text/html": [
       "Run data is saved locally in <code>/home/zekai/repos/cs285_proj/notebooks/wandb/run-20231210_002634-glopahfk</code>"
      ],
      "text/plain": [
       "<IPython.core.display.HTML object>"
      ]
     },
     "metadata": {},
     "output_type": "display_data"
    },
    {
     "data": {
      "text/html": [
       "Syncing run <strong><a href='https://wandb.ai/zekai-wang/cs285_proj_get_action_true_dynamics_updated/runs/glopahfk' target=\"_blank\">easy-sweep-90</a></strong> to <a href='https://wandb.ai/zekai-wang/cs285_proj_get_action_true_dynamics_updated' target=\"_blank\">Weights & Biases</a> (<a href='https://wandb.me/run' target=\"_blank\">docs</a>)<br/>Sweep page: <a href='https://wandb.ai/zekai-wang/cs285_proj_get_action_true_dynamics_updated/sweeps/ok4muk7m' target=\"_blank\">https://wandb.ai/zekai-wang/cs285_proj_get_action_true_dynamics_updated/sweeps/ok4muk7m</a>"
      ],
      "text/plain": [
       "<IPython.core.display.HTML object>"
      ]
     },
     "metadata": {},
     "output_type": "display_data"
    },
    {
     "data": {
      "text/html": [
       " View project at <a href='https://wandb.ai/zekai-wang/cs285_proj_get_action_true_dynamics_updated' target=\"_blank\">https://wandb.ai/zekai-wang/cs285_proj_get_action_true_dynamics_updated</a>"
      ],
      "text/plain": [
       "<IPython.core.display.HTML object>"
      ]
     },
     "metadata": {},
     "output_type": "display_data"
    },
    {
     "data": {
      "text/html": [
       " View sweep at <a href='https://wandb.ai/zekai-wang/cs285_proj_get_action_true_dynamics_updated/sweeps/ok4muk7m' target=\"_blank\">https://wandb.ai/zekai-wang/cs285_proj_get_action_true_dynamics_updated/sweeps/ok4muk7m</a>"
      ],
      "text/plain": [
       "<IPython.core.display.HTML object>"
      ]
     },
     "metadata": {},
     "output_type": "display_data"
    },
    {
     "data": {
      "text/html": [
       " View run at <a href='https://wandb.ai/zekai-wang/cs285_proj_get_action_true_dynamics_updated/runs/glopahfk' target=\"_blank\">https://wandb.ai/zekai-wang/cs285_proj_get_action_true_dynamics_updated/runs/glopahfk</a>"
      ],
      "text/plain": [
       "<IPython.core.display.HTML object>"
      ]
     },
     "metadata": {},
     "output_type": "display_data"
    },
    {
     "name": "stderr",
     "output_type": "stream",
     "text": [
      "100%|██████████| 10/10 [00:14<00:00,  1.49s/it]\n"
     ]
    },
    {
     "name": "stdout",
     "output_type": "stream",
     "text": [
      "mean -1386.3263\n",
      "std 294.62094\n",
      "min -1840.6211\n",
      "max -864.7551\n"
     ]
    },
    {
     "data": {
      "application/vnd.jupyter.widget-view+json": {
       "model_id": "c13b7cfbdd6c4930a2500564a39852f8",
       "version_major": 2,
       "version_minor": 0
      },
      "text/plain": [
       "VBox(children=(Label(value='0.004 MB of 0.004 MB uploaded\\r'), FloatProgress(value=1.0, max=1.0)))"
      ]
     },
     "metadata": {},
     "output_type": "display_data"
    },
    {
     "data": {
      "text/html": [
       "<style>\n",
       "    table.wandb td:nth-child(1) { padding: 0 10px; text-align: left ; width: auto;} td:nth-child(2) {text-align: left ; width: 100%}\n",
       "    .wandb-row { display: flex; flex-direction: row; flex-wrap: wrap; justify-content: flex-start; width: 100% }\n",
       "    .wandb-col { display: flex; flex-direction: column; flex-basis: 100%; flex: 1; padding: 10px; }\n",
       "    </style>\n",
       "<div class=\"wandb-row\"><div class=\"wandb-col\"><h3>Run history:</h3><br/><table class=\"wandb\"><tr><td>max</td><td>▁</td></tr><tr><td>mean</td><td>▁</td></tr><tr><td>min</td><td>▁</td></tr><tr><td>std</td><td>▁</td></tr></table><br/></div><div class=\"wandb-col\"><h3>Run summary:</h3><br/><table class=\"wandb\"><tr><td>max</td><td>-864.75513</td></tr><tr><td>mean</td><td>-1386.32629</td></tr><tr><td>min</td><td>-1840.62109</td></tr><tr><td>std</td><td>294.62094</td></tr></table><br/></div></div>"
      ],
      "text/plain": [
       "<IPython.core.display.HTML object>"
      ]
     },
     "metadata": {},
     "output_type": "display_data"
    },
    {
     "data": {
      "text/html": [
       " View run <strong style=\"color:#cdcd00\">easy-sweep-90</strong> at: <a href='https://wandb.ai/zekai-wang/cs285_proj_get_action_true_dynamics_updated/runs/glopahfk' target=\"_blank\">https://wandb.ai/zekai-wang/cs285_proj_get_action_true_dynamics_updated/runs/glopahfk</a><br/>Synced 6 W&B file(s), 0 media file(s), 0 artifact file(s) and 0 other file(s)"
      ],
      "text/plain": [
       "<IPython.core.display.HTML object>"
      ]
     },
     "metadata": {},
     "output_type": "display_data"
    },
    {
     "data": {
      "text/html": [
       "Find logs at: <code>./wandb/run-20231210_002634-glopahfk/logs</code>"
      ],
      "text/plain": [
       "<IPython.core.display.HTML object>"
      ]
     },
     "metadata": {},
     "output_type": "display_data"
    },
    {
     "name": "stderr",
     "output_type": "stream",
     "text": [
      "\u001b[34m\u001b[1mwandb\u001b[0m: Agent Starting Run: qtw1kaza with config:\n",
      "\u001b[34m\u001b[1mwandb\u001b[0m: \tcem_alpha: 0.99\n",
      "\u001b[34m\u001b[1mwandb\u001b[0m: \tcem_num_elites: 4\n",
      "\u001b[34m\u001b[1mwandb\u001b[0m: \tcem_num_iters: 2\n",
      "\u001b[34m\u001b[1mwandb\u001b[0m: \tmpc_discount: 0.9\n",
      "\u001b[34m\u001b[1mwandb\u001b[0m: \tmpc_horizon_steps: 20\n",
      "\u001b[34m\u001b[1mwandb\u001b[0m: \tmpc_num_action_sequences: 500\n",
      "\u001b[34m\u001b[1mwandb\u001b[0m: \tmpc_strategy: random\n",
      "/home/zekai/miniconda3/envs/cs285_proj/lib/python3.9/site-packages/ipywidgets/widgets/widget.py:528: DeprecationWarning: The `ipykernel.comm.Comm` class has been deprecated. Please use the `comm` module instead.For creating comms, use the function `from comm import create_comm`.\n",
      "  self.comm = Comm(**args)\n",
      "/home/zekai/miniconda3/envs/cs285_proj/lib/python3.9/site-packages/wandb/sdk/lib/ipython.py:77: DeprecationWarning: Importing display from IPython.core.display is deprecated since IPython 7.14, please import from IPython display\n",
      "  from IPython.core.display import HTML, display  # type: ignore\n"
     ]
    },
    {
     "data": {
      "text/html": [
       "Tracking run with wandb version 0.16.1"
      ],
      "text/plain": [
       "<IPython.core.display.HTML object>"
      ]
     },
     "metadata": {},
     "output_type": "display_data"
    },
    {
     "data": {
      "text/html": [
       "Run data is saved locally in <code>/home/zekai/repos/cs285_proj/notebooks/wandb/run-20231210_002659-qtw1kaza</code>"
      ],
      "text/plain": [
       "<IPython.core.display.HTML object>"
      ]
     },
     "metadata": {},
     "output_type": "display_data"
    },
    {
     "data": {
      "text/html": [
       "Syncing run <strong><a href='https://wandb.ai/zekai-wang/cs285_proj_get_action_true_dynamics_updated/runs/qtw1kaza' target=\"_blank\">earthy-sweep-91</a></strong> to <a href='https://wandb.ai/zekai-wang/cs285_proj_get_action_true_dynamics_updated' target=\"_blank\">Weights & Biases</a> (<a href='https://wandb.me/run' target=\"_blank\">docs</a>)<br/>Sweep page: <a href='https://wandb.ai/zekai-wang/cs285_proj_get_action_true_dynamics_updated/sweeps/ok4muk7m' target=\"_blank\">https://wandb.ai/zekai-wang/cs285_proj_get_action_true_dynamics_updated/sweeps/ok4muk7m</a>"
      ],
      "text/plain": [
       "<IPython.core.display.HTML object>"
      ]
     },
     "metadata": {},
     "output_type": "display_data"
    },
    {
     "data": {
      "text/html": [
       " View project at <a href='https://wandb.ai/zekai-wang/cs285_proj_get_action_true_dynamics_updated' target=\"_blank\">https://wandb.ai/zekai-wang/cs285_proj_get_action_true_dynamics_updated</a>"
      ],
      "text/plain": [
       "<IPython.core.display.HTML object>"
      ]
     },
     "metadata": {},
     "output_type": "display_data"
    },
    {
     "data": {
      "text/html": [
       " View sweep at <a href='https://wandb.ai/zekai-wang/cs285_proj_get_action_true_dynamics_updated/sweeps/ok4muk7m' target=\"_blank\">https://wandb.ai/zekai-wang/cs285_proj_get_action_true_dynamics_updated/sweeps/ok4muk7m</a>"
      ],
      "text/plain": [
       "<IPython.core.display.HTML object>"
      ]
     },
     "metadata": {},
     "output_type": "display_data"
    },
    {
     "data": {
      "text/html": [
       " View run at <a href='https://wandb.ai/zekai-wang/cs285_proj_get_action_true_dynamics_updated/runs/qtw1kaza' target=\"_blank\">https://wandb.ai/zekai-wang/cs285_proj_get_action_true_dynamics_updated/runs/qtw1kaza</a>"
      ],
      "text/plain": [
       "<IPython.core.display.HTML object>"
      ]
     },
     "metadata": {},
     "output_type": "display_data"
    },
    {
     "name": "stderr",
     "output_type": "stream",
     "text": [
      "100%|██████████| 10/10 [00:14<00:00,  1.47s/it]\n"
     ]
    },
    {
     "name": "stdout",
     "output_type": "stream",
     "text": [
      "mean -1110.739\n",
      "std 261.12662\n",
      "min -1620.3611\n",
      "max -852.84033\n"
     ]
    },
    {
     "data": {
      "application/vnd.jupyter.widget-view+json": {
       "model_id": "5710348be42c434eb3dd5c82884f76d7",
       "version_major": 2,
       "version_minor": 0
      },
      "text/plain": [
       "VBox(children=(Label(value='0.004 MB of 0.004 MB uploaded\\r'), FloatProgress(value=1.0, max=1.0)))"
      ]
     },
     "metadata": {},
     "output_type": "display_data"
    },
    {
     "data": {
      "text/html": [
       "<style>\n",
       "    table.wandb td:nth-child(1) { padding: 0 10px; text-align: left ; width: auto;} td:nth-child(2) {text-align: left ; width: 100%}\n",
       "    .wandb-row { display: flex; flex-direction: row; flex-wrap: wrap; justify-content: flex-start; width: 100% }\n",
       "    .wandb-col { display: flex; flex-direction: column; flex-basis: 100%; flex: 1; padding: 10px; }\n",
       "    </style>\n",
       "<div class=\"wandb-row\"><div class=\"wandb-col\"><h3>Run history:</h3><br/><table class=\"wandb\"><tr><td>max</td><td>▁</td></tr><tr><td>mean</td><td>▁</td></tr><tr><td>min</td><td>▁</td></tr><tr><td>std</td><td>▁</td></tr></table><br/></div><div class=\"wandb-col\"><h3>Run summary:</h3><br/><table class=\"wandb\"><tr><td>max</td><td>-852.84033</td></tr><tr><td>mean</td><td>-1110.73901</td></tr><tr><td>min</td><td>-1620.36108</td></tr><tr><td>std</td><td>261.12662</td></tr></table><br/></div></div>"
      ],
      "text/plain": [
       "<IPython.core.display.HTML object>"
      ]
     },
     "metadata": {},
     "output_type": "display_data"
    },
    {
     "data": {
      "text/html": [
       " View run <strong style=\"color:#cdcd00\">earthy-sweep-91</strong> at: <a href='https://wandb.ai/zekai-wang/cs285_proj_get_action_true_dynamics_updated/runs/qtw1kaza' target=\"_blank\">https://wandb.ai/zekai-wang/cs285_proj_get_action_true_dynamics_updated/runs/qtw1kaza</a><br/>Synced 6 W&B file(s), 0 media file(s), 0 artifact file(s) and 0 other file(s)"
      ],
      "text/plain": [
       "<IPython.core.display.HTML object>"
      ]
     },
     "metadata": {},
     "output_type": "display_data"
    },
    {
     "data": {
      "text/html": [
       "Find logs at: <code>./wandb/run-20231210_002659-qtw1kaza/logs</code>"
      ],
      "text/plain": [
       "<IPython.core.display.HTML object>"
      ]
     },
     "metadata": {},
     "output_type": "display_data"
    },
    {
     "name": "stderr",
     "output_type": "stream",
     "text": [
      "\u001b[34m\u001b[1mwandb\u001b[0m: Agent Starting Run: 1sh96t71 with config:\n",
      "\u001b[34m\u001b[1mwandb\u001b[0m: \tcem_alpha: 0.9\n",
      "\u001b[34m\u001b[1mwandb\u001b[0m: \tcem_num_elites: 2\n",
      "\u001b[34m\u001b[1mwandb\u001b[0m: \tcem_num_iters: 8\n",
      "\u001b[34m\u001b[1mwandb\u001b[0m: \tmpc_discount: 0.5\n",
      "\u001b[34m\u001b[1mwandb\u001b[0m: \tmpc_horizon_steps: 5\n",
      "\u001b[34m\u001b[1mwandb\u001b[0m: \tmpc_num_action_sequences: 200\n",
      "\u001b[34m\u001b[1mwandb\u001b[0m: \tmpc_strategy: random\n",
      "/home/zekai/miniconda3/envs/cs285_proj/lib/python3.9/site-packages/ipywidgets/widgets/widget.py:528: DeprecationWarning: The `ipykernel.comm.Comm` class has been deprecated. Please use the `comm` module instead.For creating comms, use the function `from comm import create_comm`.\n",
      "  self.comm = Comm(**args)\n",
      "/home/zekai/miniconda3/envs/cs285_proj/lib/python3.9/site-packages/wandb/sdk/lib/ipython.py:77: DeprecationWarning: Importing display from IPython.core.display is deprecated since IPython 7.14, please import from IPython display\n",
      "  from IPython.core.display import HTML, display  # type: ignore\n"
     ]
    },
    {
     "data": {
      "text/html": [
       "Tracking run with wandb version 0.16.1"
      ],
      "text/plain": [
       "<IPython.core.display.HTML object>"
      ]
     },
     "metadata": {},
     "output_type": "display_data"
    },
    {
     "data": {
      "text/html": [
       "Run data is saved locally in <code>/home/zekai/repos/cs285_proj/notebooks/wandb/run-20231210_002724-1sh96t71</code>"
      ],
      "text/plain": [
       "<IPython.core.display.HTML object>"
      ]
     },
     "metadata": {},
     "output_type": "display_data"
    },
    {
     "data": {
      "text/html": [
       "Syncing run <strong><a href='https://wandb.ai/zekai-wang/cs285_proj_get_action_true_dynamics_updated/runs/1sh96t71' target=\"_blank\">snowy-sweep-92</a></strong> to <a href='https://wandb.ai/zekai-wang/cs285_proj_get_action_true_dynamics_updated' target=\"_blank\">Weights & Biases</a> (<a href='https://wandb.me/run' target=\"_blank\">docs</a>)<br/>Sweep page: <a href='https://wandb.ai/zekai-wang/cs285_proj_get_action_true_dynamics_updated/sweeps/ok4muk7m' target=\"_blank\">https://wandb.ai/zekai-wang/cs285_proj_get_action_true_dynamics_updated/sweeps/ok4muk7m</a>"
      ],
      "text/plain": [
       "<IPython.core.display.HTML object>"
      ]
     },
     "metadata": {},
     "output_type": "display_data"
    },
    {
     "data": {
      "text/html": [
       " View project at <a href='https://wandb.ai/zekai-wang/cs285_proj_get_action_true_dynamics_updated' target=\"_blank\">https://wandb.ai/zekai-wang/cs285_proj_get_action_true_dynamics_updated</a>"
      ],
      "text/plain": [
       "<IPython.core.display.HTML object>"
      ]
     },
     "metadata": {},
     "output_type": "display_data"
    },
    {
     "data": {
      "text/html": [
       " View sweep at <a href='https://wandb.ai/zekai-wang/cs285_proj_get_action_true_dynamics_updated/sweeps/ok4muk7m' target=\"_blank\">https://wandb.ai/zekai-wang/cs285_proj_get_action_true_dynamics_updated/sweeps/ok4muk7m</a>"
      ],
      "text/plain": [
       "<IPython.core.display.HTML object>"
      ]
     },
     "metadata": {},
     "output_type": "display_data"
    },
    {
     "data": {
      "text/html": [
       " View run at <a href='https://wandb.ai/zekai-wang/cs285_proj_get_action_true_dynamics_updated/runs/1sh96t71' target=\"_blank\">https://wandb.ai/zekai-wang/cs285_proj_get_action_true_dynamics_updated/runs/1sh96t71</a>"
      ],
      "text/plain": [
       "<IPython.core.display.HTML object>"
      ]
     },
     "metadata": {},
     "output_type": "display_data"
    },
    {
     "name": "stderr",
     "output_type": "stream",
     "text": [
      "100%|██████████| 10/10 [00:14<00:00,  1.49s/it]\n"
     ]
    },
    {
     "name": "stdout",
     "output_type": "stream",
     "text": [
      "mean -1178.3754\n",
      "std 304.72522\n",
      "min -1572.3945\n",
      "max -746.48975\n"
     ]
    },
    {
     "data": {
      "application/vnd.jupyter.widget-view+json": {
       "model_id": "1ade3dda630f470cb8de6151e222fdc4",
       "version_major": 2,
       "version_minor": 0
      },
      "text/plain": [
       "VBox(children=(Label(value='0.004 MB of 0.004 MB uploaded\\r'), FloatProgress(value=1.0, max=1.0)))"
      ]
     },
     "metadata": {},
     "output_type": "display_data"
    },
    {
     "data": {
      "text/html": [
       "<style>\n",
       "    table.wandb td:nth-child(1) { padding: 0 10px; text-align: left ; width: auto;} td:nth-child(2) {text-align: left ; width: 100%}\n",
       "    .wandb-row { display: flex; flex-direction: row; flex-wrap: wrap; justify-content: flex-start; width: 100% }\n",
       "    .wandb-col { display: flex; flex-direction: column; flex-basis: 100%; flex: 1; padding: 10px; }\n",
       "    </style>\n",
       "<div class=\"wandb-row\"><div class=\"wandb-col\"><h3>Run history:</h3><br/><table class=\"wandb\"><tr><td>max</td><td>▁</td></tr><tr><td>mean</td><td>▁</td></tr><tr><td>min</td><td>▁</td></tr><tr><td>std</td><td>▁</td></tr></table><br/></div><div class=\"wandb-col\"><h3>Run summary:</h3><br/><table class=\"wandb\"><tr><td>max</td><td>-746.48975</td></tr><tr><td>mean</td><td>-1178.37537</td></tr><tr><td>min</td><td>-1572.39453</td></tr><tr><td>std</td><td>304.72522</td></tr></table><br/></div></div>"
      ],
      "text/plain": [
       "<IPython.core.display.HTML object>"
      ]
     },
     "metadata": {},
     "output_type": "display_data"
    },
    {
     "data": {
      "text/html": [
       " View run <strong style=\"color:#cdcd00\">snowy-sweep-92</strong> at: <a href='https://wandb.ai/zekai-wang/cs285_proj_get_action_true_dynamics_updated/runs/1sh96t71' target=\"_blank\">https://wandb.ai/zekai-wang/cs285_proj_get_action_true_dynamics_updated/runs/1sh96t71</a><br/>Synced 6 W&B file(s), 0 media file(s), 0 artifact file(s) and 0 other file(s)"
      ],
      "text/plain": [
       "<IPython.core.display.HTML object>"
      ]
     },
     "metadata": {},
     "output_type": "display_data"
    },
    {
     "data": {
      "text/html": [
       "Find logs at: <code>./wandb/run-20231210_002724-1sh96t71/logs</code>"
      ],
      "text/plain": [
       "<IPython.core.display.HTML object>"
      ]
     },
     "metadata": {},
     "output_type": "display_data"
    },
    {
     "name": "stderr",
     "output_type": "stream",
     "text": [
      "\u001b[34m\u001b[1mwandb\u001b[0m: Agent Starting Run: k40wvovq with config:\n",
      "\u001b[34m\u001b[1mwandb\u001b[0m: \tcem_alpha: 0.9\n",
      "\u001b[34m\u001b[1mwandb\u001b[0m: \tcem_num_elites: 16\n",
      "\u001b[34m\u001b[1mwandb\u001b[0m: \tcem_num_iters: 16\n",
      "\u001b[34m\u001b[1mwandb\u001b[0m: \tmpc_discount: 0.95\n",
      "\u001b[34m\u001b[1mwandb\u001b[0m: \tmpc_horizon_steps: 10\n",
      "\u001b[34m\u001b[1mwandb\u001b[0m: \tmpc_num_action_sequences: 5000\n",
      "\u001b[34m\u001b[1mwandb\u001b[0m: \tmpc_strategy: cem\n",
      "/home/zekai/miniconda3/envs/cs285_proj/lib/python3.9/site-packages/ipywidgets/widgets/widget.py:528: DeprecationWarning: The `ipykernel.comm.Comm` class has been deprecated. Please use the `comm` module instead.For creating comms, use the function `from comm import create_comm`.\n",
      "  self.comm = Comm(**args)\n",
      "/home/zekai/miniconda3/envs/cs285_proj/lib/python3.9/site-packages/wandb/sdk/lib/ipython.py:77: DeprecationWarning: Importing display from IPython.core.display is deprecated since IPython 7.14, please import from IPython display\n",
      "  from IPython.core.display import HTML, display  # type: ignore\n"
     ]
    },
    {
     "data": {
      "text/html": [
       "Tracking run with wandb version 0.16.1"
      ],
      "text/plain": [
       "<IPython.core.display.HTML object>"
      ]
     },
     "metadata": {},
     "output_type": "display_data"
    },
    {
     "data": {
      "text/html": [
       "Run data is saved locally in <code>/home/zekai/repos/cs285_proj/notebooks/wandb/run-20231210_002751-k40wvovq</code>"
      ],
      "text/plain": [
       "<IPython.core.display.HTML object>"
      ]
     },
     "metadata": {},
     "output_type": "display_data"
    },
    {
     "data": {
      "text/html": [
       "Syncing run <strong><a href='https://wandb.ai/zekai-wang/cs285_proj_get_action_true_dynamics_updated/runs/k40wvovq' target=\"_blank\">rosy-sweep-93</a></strong> to <a href='https://wandb.ai/zekai-wang/cs285_proj_get_action_true_dynamics_updated' target=\"_blank\">Weights & Biases</a> (<a href='https://wandb.me/run' target=\"_blank\">docs</a>)<br/>Sweep page: <a href='https://wandb.ai/zekai-wang/cs285_proj_get_action_true_dynamics_updated/sweeps/ok4muk7m' target=\"_blank\">https://wandb.ai/zekai-wang/cs285_proj_get_action_true_dynamics_updated/sweeps/ok4muk7m</a>"
      ],
      "text/plain": [
       "<IPython.core.display.HTML object>"
      ]
     },
     "metadata": {},
     "output_type": "display_data"
    },
    {
     "data": {
      "text/html": [
       " View project at <a href='https://wandb.ai/zekai-wang/cs285_proj_get_action_true_dynamics_updated' target=\"_blank\">https://wandb.ai/zekai-wang/cs285_proj_get_action_true_dynamics_updated</a>"
      ],
      "text/plain": [
       "<IPython.core.display.HTML object>"
      ]
     },
     "metadata": {},
     "output_type": "display_data"
    },
    {
     "data": {
      "text/html": [
       " View sweep at <a href='https://wandb.ai/zekai-wang/cs285_proj_get_action_true_dynamics_updated/sweeps/ok4muk7m' target=\"_blank\">https://wandb.ai/zekai-wang/cs285_proj_get_action_true_dynamics_updated/sweeps/ok4muk7m</a>"
      ],
      "text/plain": [
       "<IPython.core.display.HTML object>"
      ]
     },
     "metadata": {},
     "output_type": "display_data"
    },
    {
     "data": {
      "text/html": [
       " View run at <a href='https://wandb.ai/zekai-wang/cs285_proj_get_action_true_dynamics_updated/runs/k40wvovq' target=\"_blank\">https://wandb.ai/zekai-wang/cs285_proj_get_action_true_dynamics_updated/runs/k40wvovq</a>"
      ],
      "text/plain": [
       "<IPython.core.display.HTML object>"
      ]
     },
     "metadata": {},
     "output_type": "display_data"
    },
    {
     "name": "stderr",
     "output_type": "stream",
     "text": [
      "100%|██████████| 10/10 [00:16<00:00,  1.60s/it]\n"
     ]
    },
    {
     "name": "stdout",
     "output_type": "stream",
     "text": [
      "mean -1143.2009\n",
      "std 237.42201\n",
      "min -1684.926\n",
      "max -867.2285\n"
     ]
    },
    {
     "data": {
      "application/vnd.jupyter.widget-view+json": {
       "model_id": "2e691df50bb14deb97aa9cd791ca4258",
       "version_major": 2,
       "version_minor": 0
      },
      "text/plain": [
       "VBox(children=(Label(value='0.004 MB of 0.004 MB uploaded\\r'), FloatProgress(value=1.0, max=1.0)))"
      ]
     },
     "metadata": {},
     "output_type": "display_data"
    },
    {
     "data": {
      "text/html": [
       "<style>\n",
       "    table.wandb td:nth-child(1) { padding: 0 10px; text-align: left ; width: auto;} td:nth-child(2) {text-align: left ; width: 100%}\n",
       "    .wandb-row { display: flex; flex-direction: row; flex-wrap: wrap; justify-content: flex-start; width: 100% }\n",
       "    .wandb-col { display: flex; flex-direction: column; flex-basis: 100%; flex: 1; padding: 10px; }\n",
       "    </style>\n",
       "<div class=\"wandb-row\"><div class=\"wandb-col\"><h3>Run history:</h3><br/><table class=\"wandb\"><tr><td>max</td><td>▁</td></tr><tr><td>mean</td><td>▁</td></tr><tr><td>min</td><td>▁</td></tr><tr><td>std</td><td>▁</td></tr></table><br/></div><div class=\"wandb-col\"><h3>Run summary:</h3><br/><table class=\"wandb\"><tr><td>max</td><td>-867.22852</td></tr><tr><td>mean</td><td>-1143.20093</td></tr><tr><td>min</td><td>-1684.92603</td></tr><tr><td>std</td><td>237.42201</td></tr></table><br/></div></div>"
      ],
      "text/plain": [
       "<IPython.core.display.HTML object>"
      ]
     },
     "metadata": {},
     "output_type": "display_data"
    },
    {
     "data": {
      "text/html": [
       " View run <strong style=\"color:#cdcd00\">rosy-sweep-93</strong> at: <a href='https://wandb.ai/zekai-wang/cs285_proj_get_action_true_dynamics_updated/runs/k40wvovq' target=\"_blank\">https://wandb.ai/zekai-wang/cs285_proj_get_action_true_dynamics_updated/runs/k40wvovq</a><br/>Synced 6 W&B file(s), 0 media file(s), 0 artifact file(s) and 0 other file(s)"
      ],
      "text/plain": [
       "<IPython.core.display.HTML object>"
      ]
     },
     "metadata": {},
     "output_type": "display_data"
    },
    {
     "data": {
      "text/html": [
       "Find logs at: <code>./wandb/run-20231210_002751-k40wvovq/logs</code>"
      ],
      "text/plain": [
       "<IPython.core.display.HTML object>"
      ]
     },
     "metadata": {},
     "output_type": "display_data"
    },
    {
     "name": "stderr",
     "output_type": "stream",
     "text": [
      "\u001b[34m\u001b[1mwandb\u001b[0m: Agent Starting Run: mbunf8q9 with config:\n",
      "\u001b[34m\u001b[1mwandb\u001b[0m: \tcem_alpha: 0.9\n",
      "\u001b[34m\u001b[1mwandb\u001b[0m: \tcem_num_elites: 4\n",
      "\u001b[34m\u001b[1mwandb\u001b[0m: \tcem_num_iters: 2\n",
      "\u001b[34m\u001b[1mwandb\u001b[0m: \tmpc_discount: 0.8\n",
      "\u001b[34m\u001b[1mwandb\u001b[0m: \tmpc_horizon_steps: 1\n",
      "\u001b[34m\u001b[1mwandb\u001b[0m: \tmpc_num_action_sequences: 2000\n",
      "\u001b[34m\u001b[1mwandb\u001b[0m: \tmpc_strategy: cem\n",
      "/home/zekai/miniconda3/envs/cs285_proj/lib/python3.9/site-packages/ipywidgets/widgets/widget.py:528: DeprecationWarning: The `ipykernel.comm.Comm` class has been deprecated. Please use the `comm` module instead.For creating comms, use the function `from comm import create_comm`.\n",
      "  self.comm = Comm(**args)\n",
      "/home/zekai/miniconda3/envs/cs285_proj/lib/python3.9/site-packages/wandb/sdk/lib/ipython.py:77: DeprecationWarning: Importing display from IPython.core.display is deprecated since IPython 7.14, please import from IPython display\n",
      "  from IPython.core.display import HTML, display  # type: ignore\n"
     ]
    },
    {
     "data": {
      "text/html": [
       "Tracking run with wandb version 0.16.1"
      ],
      "text/plain": [
       "<IPython.core.display.HTML object>"
      ]
     },
     "metadata": {},
     "output_type": "display_data"
    },
    {
     "data": {
      "text/html": [
       "Run data is saved locally in <code>/home/zekai/repos/cs285_proj/notebooks/wandb/run-20231210_002821-mbunf8q9</code>"
      ],
      "text/plain": [
       "<IPython.core.display.HTML object>"
      ]
     },
     "metadata": {},
     "output_type": "display_data"
    },
    {
     "data": {
      "text/html": [
       "Syncing run <strong><a href='https://wandb.ai/zekai-wang/cs285_proj_get_action_true_dynamics_updated/runs/mbunf8q9' target=\"_blank\">charmed-sweep-94</a></strong> to <a href='https://wandb.ai/zekai-wang/cs285_proj_get_action_true_dynamics_updated' target=\"_blank\">Weights & Biases</a> (<a href='https://wandb.me/run' target=\"_blank\">docs</a>)<br/>Sweep page: <a href='https://wandb.ai/zekai-wang/cs285_proj_get_action_true_dynamics_updated/sweeps/ok4muk7m' target=\"_blank\">https://wandb.ai/zekai-wang/cs285_proj_get_action_true_dynamics_updated/sweeps/ok4muk7m</a>"
      ],
      "text/plain": [
       "<IPython.core.display.HTML object>"
      ]
     },
     "metadata": {},
     "output_type": "display_data"
    },
    {
     "data": {
      "text/html": [
       " View project at <a href='https://wandb.ai/zekai-wang/cs285_proj_get_action_true_dynamics_updated' target=\"_blank\">https://wandb.ai/zekai-wang/cs285_proj_get_action_true_dynamics_updated</a>"
      ],
      "text/plain": [
       "<IPython.core.display.HTML object>"
      ]
     },
     "metadata": {},
     "output_type": "display_data"
    },
    {
     "data": {
      "text/html": [
       " View sweep at <a href='https://wandb.ai/zekai-wang/cs285_proj_get_action_true_dynamics_updated/sweeps/ok4muk7m' target=\"_blank\">https://wandb.ai/zekai-wang/cs285_proj_get_action_true_dynamics_updated/sweeps/ok4muk7m</a>"
      ],
      "text/plain": [
       "<IPython.core.display.HTML object>"
      ]
     },
     "metadata": {},
     "output_type": "display_data"
    },
    {
     "data": {
      "text/html": [
       " View run at <a href='https://wandb.ai/zekai-wang/cs285_proj_get_action_true_dynamics_updated/runs/mbunf8q9' target=\"_blank\">https://wandb.ai/zekai-wang/cs285_proj_get_action_true_dynamics_updated/runs/mbunf8q9</a>"
      ],
      "text/plain": [
       "<IPython.core.display.HTML object>"
      ]
     },
     "metadata": {},
     "output_type": "display_data"
    },
    {
     "name": "stderr",
     "output_type": "stream",
     "text": [
      "100%|██████████| 10/10 [00:14<00:00,  1.49s/it]\n"
     ]
    },
    {
     "name": "stdout",
     "output_type": "stream",
     "text": [
      "mean -1383.9897\n",
      "std 196.7398\n",
      "min -1845.3081\n",
      "max -1148.7828\n"
     ]
    },
    {
     "data": {
      "application/vnd.jupyter.widget-view+json": {
       "model_id": "c9cd5e5ba7e1463aa88ac8d5619cb4c1",
       "version_major": 2,
       "version_minor": 0
      },
      "text/plain": [
       "VBox(children=(Label(value='0.004 MB of 0.004 MB uploaded\\r'), FloatProgress(value=1.0, max=1.0)))"
      ]
     },
     "metadata": {},
     "output_type": "display_data"
    },
    {
     "data": {
      "text/html": [
       "<style>\n",
       "    table.wandb td:nth-child(1) { padding: 0 10px; text-align: left ; width: auto;} td:nth-child(2) {text-align: left ; width: 100%}\n",
       "    .wandb-row { display: flex; flex-direction: row; flex-wrap: wrap; justify-content: flex-start; width: 100% }\n",
       "    .wandb-col { display: flex; flex-direction: column; flex-basis: 100%; flex: 1; padding: 10px; }\n",
       "    </style>\n",
       "<div class=\"wandb-row\"><div class=\"wandb-col\"><h3>Run history:</h3><br/><table class=\"wandb\"><tr><td>max</td><td>▁</td></tr><tr><td>mean</td><td>▁</td></tr><tr><td>min</td><td>▁</td></tr><tr><td>std</td><td>▁</td></tr></table><br/></div><div class=\"wandb-col\"><h3>Run summary:</h3><br/><table class=\"wandb\"><tr><td>max</td><td>-1148.78284</td></tr><tr><td>mean</td><td>-1383.98975</td></tr><tr><td>min</td><td>-1845.30811</td></tr><tr><td>std</td><td>196.73981</td></tr></table><br/></div></div>"
      ],
      "text/plain": [
       "<IPython.core.display.HTML object>"
      ]
     },
     "metadata": {},
     "output_type": "display_data"
    },
    {
     "data": {
      "text/html": [
       " View run <strong style=\"color:#cdcd00\">charmed-sweep-94</strong> at: <a href='https://wandb.ai/zekai-wang/cs285_proj_get_action_true_dynamics_updated/runs/mbunf8q9' target=\"_blank\">https://wandb.ai/zekai-wang/cs285_proj_get_action_true_dynamics_updated/runs/mbunf8q9</a><br/>Synced 6 W&B file(s), 0 media file(s), 0 artifact file(s) and 0 other file(s)"
      ],
      "text/plain": [
       "<IPython.core.display.HTML object>"
      ]
     },
     "metadata": {},
     "output_type": "display_data"
    },
    {
     "data": {
      "text/html": [
       "Find logs at: <code>./wandb/run-20231210_002821-mbunf8q9/logs</code>"
      ],
      "text/plain": [
       "<IPython.core.display.HTML object>"
      ]
     },
     "metadata": {},
     "output_type": "display_data"
    },
    {
     "name": "stderr",
     "output_type": "stream",
     "text": [
      "\u001b[34m\u001b[1mwandb\u001b[0m: Agent Starting Run: r7dh7x7x with config:\n",
      "\u001b[34m\u001b[1mwandb\u001b[0m: \tcem_alpha: 0.5\n",
      "\u001b[34m\u001b[1mwandb\u001b[0m: \tcem_num_elites: 64\n",
      "\u001b[34m\u001b[1mwandb\u001b[0m: \tcem_num_iters: 8\n",
      "\u001b[34m\u001b[1mwandb\u001b[0m: \tmpc_discount: 0.9\n",
      "\u001b[34m\u001b[1mwandb\u001b[0m: \tmpc_horizon_steps: 1\n",
      "\u001b[34m\u001b[1mwandb\u001b[0m: \tmpc_num_action_sequences: 1000\n",
      "\u001b[34m\u001b[1mwandb\u001b[0m: \tmpc_strategy: random\n",
      "/home/zekai/miniconda3/envs/cs285_proj/lib/python3.9/site-packages/ipywidgets/widgets/widget.py:528: DeprecationWarning: The `ipykernel.comm.Comm` class has been deprecated. Please use the `comm` module instead.For creating comms, use the function `from comm import create_comm`.\n",
      "  self.comm = Comm(**args)\n",
      "/home/zekai/miniconda3/envs/cs285_proj/lib/python3.9/site-packages/wandb/sdk/lib/ipython.py:77: DeprecationWarning: Importing display from IPython.core.display is deprecated since IPython 7.14, please import from IPython display\n",
      "  from IPython.core.display import HTML, display  # type: ignore\n"
     ]
    },
    {
     "data": {
      "text/html": [
       "Tracking run with wandb version 0.16.1"
      ],
      "text/plain": [
       "<IPython.core.display.HTML object>"
      ]
     },
     "metadata": {},
     "output_type": "display_data"
    },
    {
     "data": {
      "text/html": [
       "Run data is saved locally in <code>/home/zekai/repos/cs285_proj/notebooks/wandb/run-20231210_002847-r7dh7x7x</code>"
      ],
      "text/plain": [
       "<IPython.core.display.HTML object>"
      ]
     },
     "metadata": {},
     "output_type": "display_data"
    },
    {
     "data": {
      "text/html": [
       "Syncing run <strong><a href='https://wandb.ai/zekai-wang/cs285_proj_get_action_true_dynamics_updated/runs/r7dh7x7x' target=\"_blank\">divine-sweep-95</a></strong> to <a href='https://wandb.ai/zekai-wang/cs285_proj_get_action_true_dynamics_updated' target=\"_blank\">Weights & Biases</a> (<a href='https://wandb.me/run' target=\"_blank\">docs</a>)<br/>Sweep page: <a href='https://wandb.ai/zekai-wang/cs285_proj_get_action_true_dynamics_updated/sweeps/ok4muk7m' target=\"_blank\">https://wandb.ai/zekai-wang/cs285_proj_get_action_true_dynamics_updated/sweeps/ok4muk7m</a>"
      ],
      "text/plain": [
       "<IPython.core.display.HTML object>"
      ]
     },
     "metadata": {},
     "output_type": "display_data"
    },
    {
     "data": {
      "text/html": [
       " View project at <a href='https://wandb.ai/zekai-wang/cs285_proj_get_action_true_dynamics_updated' target=\"_blank\">https://wandb.ai/zekai-wang/cs285_proj_get_action_true_dynamics_updated</a>"
      ],
      "text/plain": [
       "<IPython.core.display.HTML object>"
      ]
     },
     "metadata": {},
     "output_type": "display_data"
    },
    {
     "data": {
      "text/html": [
       " View sweep at <a href='https://wandb.ai/zekai-wang/cs285_proj_get_action_true_dynamics_updated/sweeps/ok4muk7m' target=\"_blank\">https://wandb.ai/zekai-wang/cs285_proj_get_action_true_dynamics_updated/sweeps/ok4muk7m</a>"
      ],
      "text/plain": [
       "<IPython.core.display.HTML object>"
      ]
     },
     "metadata": {},
     "output_type": "display_data"
    },
    {
     "data": {
      "text/html": [
       " View run at <a href='https://wandb.ai/zekai-wang/cs285_proj_get_action_true_dynamics_updated/runs/r7dh7x7x' target=\"_blank\">https://wandb.ai/zekai-wang/cs285_proj_get_action_true_dynamics_updated/runs/r7dh7x7x</a>"
      ],
      "text/plain": [
       "<IPython.core.display.HTML object>"
      ]
     },
     "metadata": {},
     "output_type": "display_data"
    },
    {
     "name": "stderr",
     "output_type": "stream",
     "text": [
      "100%|██████████| 10/10 [00:15<00:00,  1.55s/it]\n"
     ]
    },
    {
     "name": "stdout",
     "output_type": "stream",
     "text": [
      "mean -1236.3474\n",
      "std 280.258\n",
      "min -1711.8993\n",
      "max -862.9424\n"
     ]
    },
    {
     "data": {
      "application/vnd.jupyter.widget-view+json": {
       "model_id": "9a801f6adb704fdfa918d22bf5673210",
       "version_major": 2,
       "version_minor": 0
      },
      "text/plain": [
       "VBox(children=(Label(value='0.004 MB of 0.004 MB uploaded\\r'), FloatProgress(value=1.0, max=1.0)))"
      ]
     },
     "metadata": {},
     "output_type": "display_data"
    },
    {
     "data": {
      "text/html": [
       "<style>\n",
       "    table.wandb td:nth-child(1) { padding: 0 10px; text-align: left ; width: auto;} td:nth-child(2) {text-align: left ; width: 100%}\n",
       "    .wandb-row { display: flex; flex-direction: row; flex-wrap: wrap; justify-content: flex-start; width: 100% }\n",
       "    .wandb-col { display: flex; flex-direction: column; flex-basis: 100%; flex: 1; padding: 10px; }\n",
       "    </style>\n",
       "<div class=\"wandb-row\"><div class=\"wandb-col\"><h3>Run history:</h3><br/><table class=\"wandb\"><tr><td>max</td><td>▁</td></tr><tr><td>mean</td><td>▁</td></tr><tr><td>min</td><td>▁</td></tr><tr><td>std</td><td>▁</td></tr></table><br/></div><div class=\"wandb-col\"><h3>Run summary:</h3><br/><table class=\"wandb\"><tr><td>max</td><td>-862.94238</td></tr><tr><td>mean</td><td>-1236.34741</td></tr><tr><td>min</td><td>-1711.89929</td></tr><tr><td>std</td><td>280.258</td></tr></table><br/></div></div>"
      ],
      "text/plain": [
       "<IPython.core.display.HTML object>"
      ]
     },
     "metadata": {},
     "output_type": "display_data"
    },
    {
     "data": {
      "text/html": [
       " View run <strong style=\"color:#cdcd00\">divine-sweep-95</strong> at: <a href='https://wandb.ai/zekai-wang/cs285_proj_get_action_true_dynamics_updated/runs/r7dh7x7x' target=\"_blank\">https://wandb.ai/zekai-wang/cs285_proj_get_action_true_dynamics_updated/runs/r7dh7x7x</a><br/>Synced 6 W&B file(s), 0 media file(s), 0 artifact file(s) and 0 other file(s)"
      ],
      "text/plain": [
       "<IPython.core.display.HTML object>"
      ]
     },
     "metadata": {},
     "output_type": "display_data"
    },
    {
     "data": {
      "text/html": [
       "Find logs at: <code>./wandb/run-20231210_002847-r7dh7x7x/logs</code>"
      ],
      "text/plain": [
       "<IPython.core.display.HTML object>"
      ]
     },
     "metadata": {},
     "output_type": "display_data"
    },
    {
     "name": "stderr",
     "output_type": "stream",
     "text": [
      "\u001b[34m\u001b[1mwandb\u001b[0m: Sweep Agent: Waiting for job.\n",
      "\u001b[34m\u001b[1mwandb\u001b[0m: Job received.\n",
      "\u001b[34m\u001b[1mwandb\u001b[0m: Agent Starting Run: 1j19mbb1 with config:\n",
      "\u001b[34m\u001b[1mwandb\u001b[0m: \tcem_alpha: 0.5\n",
      "\u001b[34m\u001b[1mwandb\u001b[0m: \tcem_num_elites: 2\n",
      "\u001b[34m\u001b[1mwandb\u001b[0m: \tcem_num_iters: 16\n",
      "\u001b[34m\u001b[1mwandb\u001b[0m: \tmpc_discount: 0.5\n",
      "\u001b[34m\u001b[1mwandb\u001b[0m: \tmpc_horizon_steps: 50\n",
      "\u001b[34m\u001b[1mwandb\u001b[0m: \tmpc_num_action_sequences: 500\n",
      "\u001b[34m\u001b[1mwandb\u001b[0m: \tmpc_strategy: cem\n",
      "/home/zekai/miniconda3/envs/cs285_proj/lib/python3.9/site-packages/ipywidgets/widgets/widget.py:528: DeprecationWarning: The `ipykernel.comm.Comm` class has been deprecated. Please use the `comm` module instead.For creating comms, use the function `from comm import create_comm`.\n",
      "  self.comm = Comm(**args)\n",
      "/home/zekai/miniconda3/envs/cs285_proj/lib/python3.9/site-packages/wandb/sdk/lib/ipython.py:77: DeprecationWarning: Importing display from IPython.core.display is deprecated since IPython 7.14, please import from IPython display\n",
      "  from IPython.core.display import HTML, display  # type: ignore\n"
     ]
    },
    {
     "data": {
      "text/html": [
       "Tracking run with wandb version 0.16.1"
      ],
      "text/plain": [
       "<IPython.core.display.HTML object>"
      ]
     },
     "metadata": {},
     "output_type": "display_data"
    },
    {
     "data": {
      "text/html": [
       "Run data is saved locally in <code>/home/zekai/repos/cs285_proj/notebooks/wandb/run-20231210_002922-1j19mbb1</code>"
      ],
      "text/plain": [
       "<IPython.core.display.HTML object>"
      ]
     },
     "metadata": {},
     "output_type": "display_data"
    },
    {
     "data": {
      "text/html": [
       "Syncing run <strong><a href='https://wandb.ai/zekai-wang/cs285_proj_get_action_true_dynamics_updated/runs/1j19mbb1' target=\"_blank\">swift-sweep-96</a></strong> to <a href='https://wandb.ai/zekai-wang/cs285_proj_get_action_true_dynamics_updated' target=\"_blank\">Weights & Biases</a> (<a href='https://wandb.me/run' target=\"_blank\">docs</a>)<br/>Sweep page: <a href='https://wandb.ai/zekai-wang/cs285_proj_get_action_true_dynamics_updated/sweeps/ok4muk7m' target=\"_blank\">https://wandb.ai/zekai-wang/cs285_proj_get_action_true_dynamics_updated/sweeps/ok4muk7m</a>"
      ],
      "text/plain": [
       "<IPython.core.display.HTML object>"
      ]
     },
     "metadata": {},
     "output_type": "display_data"
    },
    {
     "data": {
      "text/html": [
       " View project at <a href='https://wandb.ai/zekai-wang/cs285_proj_get_action_true_dynamics_updated' target=\"_blank\">https://wandb.ai/zekai-wang/cs285_proj_get_action_true_dynamics_updated</a>"
      ],
      "text/plain": [
       "<IPython.core.display.HTML object>"
      ]
     },
     "metadata": {},
     "output_type": "display_data"
    },
    {
     "data": {
      "text/html": [
       " View sweep at <a href='https://wandb.ai/zekai-wang/cs285_proj_get_action_true_dynamics_updated/sweeps/ok4muk7m' target=\"_blank\">https://wandb.ai/zekai-wang/cs285_proj_get_action_true_dynamics_updated/sweeps/ok4muk7m</a>"
      ],
      "text/plain": [
       "<IPython.core.display.HTML object>"
      ]
     },
     "metadata": {},
     "output_type": "display_data"
    },
    {
     "data": {
      "text/html": [
       " View run at <a href='https://wandb.ai/zekai-wang/cs285_proj_get_action_true_dynamics_updated/runs/1j19mbb1' target=\"_blank\">https://wandb.ai/zekai-wang/cs285_proj_get_action_true_dynamics_updated/runs/1j19mbb1</a>"
      ],
      "text/plain": [
       "<IPython.core.display.HTML object>"
      ]
     },
     "metadata": {},
     "output_type": "display_data"
    },
    {
     "name": "stderr",
     "output_type": "stream",
     "text": [
      "100%|██████████| 10/10 [00:15<00:00,  1.58s/it]\n"
     ]
    },
    {
     "name": "stdout",
     "output_type": "stream",
     "text": [
      "mean -1090.6086\n",
      "std 241.47893\n",
      "min -1733.9749\n",
      "max -776.3515\n"
     ]
    },
    {
     "data": {
      "application/vnd.jupyter.widget-view+json": {
       "model_id": "9d601fd376674d129f32ca3ce82e9353",
       "version_major": 2,
       "version_minor": 0
      },
      "text/plain": [
       "VBox(children=(Label(value='0.004 MB of 0.004 MB uploaded\\r'), FloatProgress(value=1.0, max=1.0)))"
      ]
     },
     "metadata": {},
     "output_type": "display_data"
    },
    {
     "data": {
      "text/html": [
       "<style>\n",
       "    table.wandb td:nth-child(1) { padding: 0 10px; text-align: left ; width: auto;} td:nth-child(2) {text-align: left ; width: 100%}\n",
       "    .wandb-row { display: flex; flex-direction: row; flex-wrap: wrap; justify-content: flex-start; width: 100% }\n",
       "    .wandb-col { display: flex; flex-direction: column; flex-basis: 100%; flex: 1; padding: 10px; }\n",
       "    </style>\n",
       "<div class=\"wandb-row\"><div class=\"wandb-col\"><h3>Run history:</h3><br/><table class=\"wandb\"><tr><td>max</td><td>▁</td></tr><tr><td>mean</td><td>▁</td></tr><tr><td>min</td><td>▁</td></tr><tr><td>std</td><td>▁</td></tr></table><br/></div><div class=\"wandb-col\"><h3>Run summary:</h3><br/><table class=\"wandb\"><tr><td>max</td><td>-776.3515</td></tr><tr><td>mean</td><td>-1090.60864</td></tr><tr><td>min</td><td>-1733.97485</td></tr><tr><td>std</td><td>241.47893</td></tr></table><br/></div></div>"
      ],
      "text/plain": [
       "<IPython.core.display.HTML object>"
      ]
     },
     "metadata": {},
     "output_type": "display_data"
    },
    {
     "data": {
      "text/html": [
       " View run <strong style=\"color:#cdcd00\">swift-sweep-96</strong> at: <a href='https://wandb.ai/zekai-wang/cs285_proj_get_action_true_dynamics_updated/runs/1j19mbb1' target=\"_blank\">https://wandb.ai/zekai-wang/cs285_proj_get_action_true_dynamics_updated/runs/1j19mbb1</a><br/>Synced 6 W&B file(s), 0 media file(s), 0 artifact file(s) and 0 other file(s)"
      ],
      "text/plain": [
       "<IPython.core.display.HTML object>"
      ]
     },
     "metadata": {},
     "output_type": "display_data"
    },
    {
     "data": {
      "text/html": [
       "Find logs at: <code>./wandb/run-20231210_002922-1j19mbb1/logs</code>"
      ],
      "text/plain": [
       "<IPython.core.display.HTML object>"
      ]
     },
     "metadata": {},
     "output_type": "display_data"
    },
    {
     "name": "stderr",
     "output_type": "stream",
     "text": [
      "\u001b[34m\u001b[1mwandb\u001b[0m: Agent Starting Run: lmc0rvnw with config:\n",
      "\u001b[34m\u001b[1mwandb\u001b[0m: \tcem_alpha: 0.99\n",
      "\u001b[34m\u001b[1mwandb\u001b[0m: \tcem_num_elites: 4\n",
      "\u001b[34m\u001b[1mwandb\u001b[0m: \tcem_num_iters: 4\n",
      "\u001b[34m\u001b[1mwandb\u001b[0m: \tmpc_discount: 0.5\n",
      "\u001b[34m\u001b[1mwandb\u001b[0m: \tmpc_horizon_steps: 10\n",
      "\u001b[34m\u001b[1mwandb\u001b[0m: \tmpc_num_action_sequences: 500\n",
      "\u001b[34m\u001b[1mwandb\u001b[0m: \tmpc_strategy: cem\n",
      "/home/zekai/miniconda3/envs/cs285_proj/lib/python3.9/site-packages/ipywidgets/widgets/widget.py:528: DeprecationWarning: The `ipykernel.comm.Comm` class has been deprecated. Please use the `comm` module instead.For creating comms, use the function `from comm import create_comm`.\n",
      "  self.comm = Comm(**args)\n",
      "/home/zekai/miniconda3/envs/cs285_proj/lib/python3.9/site-packages/wandb/sdk/lib/ipython.py:77: DeprecationWarning: Importing display from IPython.core.display is deprecated since IPython 7.14, please import from IPython display\n",
      "  from IPython.core.display import HTML, display  # type: ignore\n"
     ]
    },
    {
     "data": {
      "text/html": [
       "Tracking run with wandb version 0.16.1"
      ],
      "text/plain": [
       "<IPython.core.display.HTML object>"
      ]
     },
     "metadata": {},
     "output_type": "display_data"
    },
    {
     "data": {
      "text/html": [
       "Run data is saved locally in <code>/home/zekai/repos/cs285_proj/notebooks/wandb/run-20231210_002952-lmc0rvnw</code>"
      ],
      "text/plain": [
       "<IPython.core.display.HTML object>"
      ]
     },
     "metadata": {},
     "output_type": "display_data"
    },
    {
     "data": {
      "text/html": [
       "Syncing run <strong><a href='https://wandb.ai/zekai-wang/cs285_proj_get_action_true_dynamics_updated/runs/lmc0rvnw' target=\"_blank\">driven-sweep-97</a></strong> to <a href='https://wandb.ai/zekai-wang/cs285_proj_get_action_true_dynamics_updated' target=\"_blank\">Weights & Biases</a> (<a href='https://wandb.me/run' target=\"_blank\">docs</a>)<br/>Sweep page: <a href='https://wandb.ai/zekai-wang/cs285_proj_get_action_true_dynamics_updated/sweeps/ok4muk7m' target=\"_blank\">https://wandb.ai/zekai-wang/cs285_proj_get_action_true_dynamics_updated/sweeps/ok4muk7m</a>"
      ],
      "text/plain": [
       "<IPython.core.display.HTML object>"
      ]
     },
     "metadata": {},
     "output_type": "display_data"
    },
    {
     "data": {
      "text/html": [
       " View project at <a href='https://wandb.ai/zekai-wang/cs285_proj_get_action_true_dynamics_updated' target=\"_blank\">https://wandb.ai/zekai-wang/cs285_proj_get_action_true_dynamics_updated</a>"
      ],
      "text/plain": [
       "<IPython.core.display.HTML object>"
      ]
     },
     "metadata": {},
     "output_type": "display_data"
    },
    {
     "data": {
      "text/html": [
       " View sweep at <a href='https://wandb.ai/zekai-wang/cs285_proj_get_action_true_dynamics_updated/sweeps/ok4muk7m' target=\"_blank\">https://wandb.ai/zekai-wang/cs285_proj_get_action_true_dynamics_updated/sweeps/ok4muk7m</a>"
      ],
      "text/plain": [
       "<IPython.core.display.HTML object>"
      ]
     },
     "metadata": {},
     "output_type": "display_data"
    },
    {
     "data": {
      "text/html": [
       " View run at <a href='https://wandb.ai/zekai-wang/cs285_proj_get_action_true_dynamics_updated/runs/lmc0rvnw' target=\"_blank\">https://wandb.ai/zekai-wang/cs285_proj_get_action_true_dynamics_updated/runs/lmc0rvnw</a>"
      ],
      "text/plain": [
       "<IPython.core.display.HTML object>"
      ]
     },
     "metadata": {},
     "output_type": "display_data"
    },
    {
     "name": "stderr",
     "output_type": "stream",
     "text": [
      "100%|██████████| 10/10 [00:14<00:00,  1.50s/it]\n"
     ]
    },
    {
     "name": "stdout",
     "output_type": "stream",
     "text": [
      "mean -1387.9436\n",
      "std 301.7238\n",
      "min -1734.9336\n",
      "max -875.39154\n"
     ]
    },
    {
     "data": {
      "application/vnd.jupyter.widget-view+json": {
       "model_id": "f5fd02d0317d43b190c6020b5d913c95",
       "version_major": 2,
       "version_minor": 0
      },
      "text/plain": [
       "VBox(children=(Label(value='0.004 MB of 0.004 MB uploaded\\r'), FloatProgress(value=1.0, max=1.0)))"
      ]
     },
     "metadata": {},
     "output_type": "display_data"
    },
    {
     "data": {
      "text/html": [
       "<style>\n",
       "    table.wandb td:nth-child(1) { padding: 0 10px; text-align: left ; width: auto;} td:nth-child(2) {text-align: left ; width: 100%}\n",
       "    .wandb-row { display: flex; flex-direction: row; flex-wrap: wrap; justify-content: flex-start; width: 100% }\n",
       "    .wandb-col { display: flex; flex-direction: column; flex-basis: 100%; flex: 1; padding: 10px; }\n",
       "    </style>\n",
       "<div class=\"wandb-row\"><div class=\"wandb-col\"><h3>Run history:</h3><br/><table class=\"wandb\"><tr><td>max</td><td>▁</td></tr><tr><td>mean</td><td>▁</td></tr><tr><td>min</td><td>▁</td></tr><tr><td>std</td><td>▁</td></tr></table><br/></div><div class=\"wandb-col\"><h3>Run summary:</h3><br/><table class=\"wandb\"><tr><td>max</td><td>-875.39154</td></tr><tr><td>mean</td><td>-1387.9436</td></tr><tr><td>min</td><td>-1734.93359</td></tr><tr><td>std</td><td>301.72379</td></tr></table><br/></div></div>"
      ],
      "text/plain": [
       "<IPython.core.display.HTML object>"
      ]
     },
     "metadata": {},
     "output_type": "display_data"
    },
    {
     "data": {
      "text/html": [
       " View run <strong style=\"color:#cdcd00\">driven-sweep-97</strong> at: <a href='https://wandb.ai/zekai-wang/cs285_proj_get_action_true_dynamics_updated/runs/lmc0rvnw' target=\"_blank\">https://wandb.ai/zekai-wang/cs285_proj_get_action_true_dynamics_updated/runs/lmc0rvnw</a><br/>Synced 6 W&B file(s), 0 media file(s), 0 artifact file(s) and 0 other file(s)"
      ],
      "text/plain": [
       "<IPython.core.display.HTML object>"
      ]
     },
     "metadata": {},
     "output_type": "display_data"
    },
    {
     "data": {
      "text/html": [
       "Find logs at: <code>./wandb/run-20231210_002952-lmc0rvnw/logs</code>"
      ],
      "text/plain": [
       "<IPython.core.display.HTML object>"
      ]
     },
     "metadata": {},
     "output_type": "display_data"
    },
    {
     "name": "stderr",
     "output_type": "stream",
     "text": [
      "\u001b[34m\u001b[1mwandb\u001b[0m: Agent Starting Run: pe9ok9tj with config:\n",
      "\u001b[34m\u001b[1mwandb\u001b[0m: \tcem_alpha: 1\n",
      "\u001b[34m\u001b[1mwandb\u001b[0m: \tcem_num_elites: 64\n",
      "\u001b[34m\u001b[1mwandb\u001b[0m: \tcem_num_iters: 4\n",
      "\u001b[34m\u001b[1mwandb\u001b[0m: \tmpc_discount: 0.5\n",
      "\u001b[34m\u001b[1mwandb\u001b[0m: \tmpc_horizon_steps: 1\n",
      "\u001b[34m\u001b[1mwandb\u001b[0m: \tmpc_num_action_sequences: 5000\n",
      "\u001b[34m\u001b[1mwandb\u001b[0m: \tmpc_strategy: cem\n",
      "/home/zekai/miniconda3/envs/cs285_proj/lib/python3.9/site-packages/ipywidgets/widgets/widget.py:528: DeprecationWarning: The `ipykernel.comm.Comm` class has been deprecated. Please use the `comm` module instead.For creating comms, use the function `from comm import create_comm`.\n",
      "  self.comm = Comm(**args)\n",
      "/home/zekai/miniconda3/envs/cs285_proj/lib/python3.9/site-packages/wandb/sdk/lib/ipython.py:77: DeprecationWarning: Importing display from IPython.core.display is deprecated since IPython 7.14, please import from IPython display\n",
      "  from IPython.core.display import HTML, display  # type: ignore\n"
     ]
    },
    {
     "data": {
      "text/html": [
       "Tracking run with wandb version 0.16.1"
      ],
      "text/plain": [
       "<IPython.core.display.HTML object>"
      ]
     },
     "metadata": {},
     "output_type": "display_data"
    },
    {
     "data": {
      "text/html": [
       "Run data is saved locally in <code>/home/zekai/repos/cs285_proj/notebooks/wandb/run-20231210_003019-pe9ok9tj</code>"
      ],
      "text/plain": [
       "<IPython.core.display.HTML object>"
      ]
     },
     "metadata": {},
     "output_type": "display_data"
    },
    {
     "data": {
      "text/html": [
       "Syncing run <strong><a href='https://wandb.ai/zekai-wang/cs285_proj_get_action_true_dynamics_updated/runs/pe9ok9tj' target=\"_blank\">silvery-sweep-98</a></strong> to <a href='https://wandb.ai/zekai-wang/cs285_proj_get_action_true_dynamics_updated' target=\"_blank\">Weights & Biases</a> (<a href='https://wandb.me/run' target=\"_blank\">docs</a>)<br/>Sweep page: <a href='https://wandb.ai/zekai-wang/cs285_proj_get_action_true_dynamics_updated/sweeps/ok4muk7m' target=\"_blank\">https://wandb.ai/zekai-wang/cs285_proj_get_action_true_dynamics_updated/sweeps/ok4muk7m</a>"
      ],
      "text/plain": [
       "<IPython.core.display.HTML object>"
      ]
     },
     "metadata": {},
     "output_type": "display_data"
    },
    {
     "data": {
      "text/html": [
       " View project at <a href='https://wandb.ai/zekai-wang/cs285_proj_get_action_true_dynamics_updated' target=\"_blank\">https://wandb.ai/zekai-wang/cs285_proj_get_action_true_dynamics_updated</a>"
      ],
      "text/plain": [
       "<IPython.core.display.HTML object>"
      ]
     },
     "metadata": {},
     "output_type": "display_data"
    },
    {
     "data": {
      "text/html": [
       " View sweep at <a href='https://wandb.ai/zekai-wang/cs285_proj_get_action_true_dynamics_updated/sweeps/ok4muk7m' target=\"_blank\">https://wandb.ai/zekai-wang/cs285_proj_get_action_true_dynamics_updated/sweeps/ok4muk7m</a>"
      ],
      "text/plain": [
       "<IPython.core.display.HTML object>"
      ]
     },
     "metadata": {},
     "output_type": "display_data"
    },
    {
     "data": {
      "text/html": [
       " View run at <a href='https://wandb.ai/zekai-wang/cs285_proj_get_action_true_dynamics_updated/runs/pe9ok9tj' target=\"_blank\">https://wandb.ai/zekai-wang/cs285_proj_get_action_true_dynamics_updated/runs/pe9ok9tj</a>"
      ],
      "text/plain": [
       "<IPython.core.display.HTML object>"
      ]
     },
     "metadata": {},
     "output_type": "display_data"
    },
    {
     "name": "stderr",
     "output_type": "stream",
     "text": [
      "100%|██████████| 10/10 [00:14<00:00,  1.49s/it]\n"
     ]
    },
    {
     "name": "stdout",
     "output_type": "stream",
     "text": [
      "mean -1287.4578\n",
      "std 298.9417\n",
      "min -1718.0896\n",
      "max -758.911\n"
     ]
    },
    {
     "data": {
      "application/vnd.jupyter.widget-view+json": {
       "model_id": "91dd3e53c10c4537b8202a2ffeb93cbe",
       "version_major": 2,
       "version_minor": 0
      },
      "text/plain": [
       "VBox(children=(Label(value='0.004 MB of 0.004 MB uploaded\\r'), FloatProgress(value=1.0, max=1.0)))"
      ]
     },
     "metadata": {},
     "output_type": "display_data"
    },
    {
     "data": {
      "text/html": [
       "<style>\n",
       "    table.wandb td:nth-child(1) { padding: 0 10px; text-align: left ; width: auto;} td:nth-child(2) {text-align: left ; width: 100%}\n",
       "    .wandb-row { display: flex; flex-direction: row; flex-wrap: wrap; justify-content: flex-start; width: 100% }\n",
       "    .wandb-col { display: flex; flex-direction: column; flex-basis: 100%; flex: 1; padding: 10px; }\n",
       "    </style>\n",
       "<div class=\"wandb-row\"><div class=\"wandb-col\"><h3>Run history:</h3><br/><table class=\"wandb\"><tr><td>max</td><td>▁</td></tr><tr><td>mean</td><td>▁</td></tr><tr><td>min</td><td>▁</td></tr><tr><td>std</td><td>▁</td></tr></table><br/></div><div class=\"wandb-col\"><h3>Run summary:</h3><br/><table class=\"wandb\"><tr><td>max</td><td>-758.91101</td></tr><tr><td>mean</td><td>-1287.45776</td></tr><tr><td>min</td><td>-1718.0896</td></tr><tr><td>std</td><td>298.94171</td></tr></table><br/></div></div>"
      ],
      "text/plain": [
       "<IPython.core.display.HTML object>"
      ]
     },
     "metadata": {},
     "output_type": "display_data"
    },
    {
     "data": {
      "text/html": [
       " View run <strong style=\"color:#cdcd00\">silvery-sweep-98</strong> at: <a href='https://wandb.ai/zekai-wang/cs285_proj_get_action_true_dynamics_updated/runs/pe9ok9tj' target=\"_blank\">https://wandb.ai/zekai-wang/cs285_proj_get_action_true_dynamics_updated/runs/pe9ok9tj</a><br/>Synced 6 W&B file(s), 0 media file(s), 0 artifact file(s) and 0 other file(s)"
      ],
      "text/plain": [
       "<IPython.core.display.HTML object>"
      ]
     },
     "metadata": {},
     "output_type": "display_data"
    },
    {
     "data": {
      "text/html": [
       "Find logs at: <code>./wandb/run-20231210_003019-pe9ok9tj/logs</code>"
      ],
      "text/plain": [
       "<IPython.core.display.HTML object>"
      ]
     },
     "metadata": {},
     "output_type": "display_data"
    },
    {
     "name": "stderr",
     "output_type": "stream",
     "text": [
      "\u001b[34m\u001b[1mwandb\u001b[0m: Agent Starting Run: 8rhj4fnw with config:\n",
      "\u001b[34m\u001b[1mwandb\u001b[0m: \tcem_alpha: 0.99\n",
      "\u001b[34m\u001b[1mwandb\u001b[0m: \tcem_num_elites: 16\n",
      "\u001b[34m\u001b[1mwandb\u001b[0m: \tcem_num_iters: 4\n",
      "\u001b[34m\u001b[1mwandb\u001b[0m: \tmpc_discount: 0.8\n",
      "\u001b[34m\u001b[1mwandb\u001b[0m: \tmpc_horizon_steps: 100\n",
      "\u001b[34m\u001b[1mwandb\u001b[0m: \tmpc_num_action_sequences: 1000\n",
      "\u001b[34m\u001b[1mwandb\u001b[0m: \tmpc_strategy: cem\n",
      "/home/zekai/miniconda3/envs/cs285_proj/lib/python3.9/site-packages/ipywidgets/widgets/widget.py:528: DeprecationWarning: The `ipykernel.comm.Comm` class has been deprecated. Please use the `comm` module instead.For creating comms, use the function `from comm import create_comm`.\n",
      "  self.comm = Comm(**args)\n",
      "/home/zekai/miniconda3/envs/cs285_proj/lib/python3.9/site-packages/wandb/sdk/lib/ipython.py:77: DeprecationWarning: Importing display from IPython.core.display is deprecated since IPython 7.14, please import from IPython display\n",
      "  from IPython.core.display import HTML, display  # type: ignore\n"
     ]
    },
    {
     "data": {
      "text/html": [
       "Tracking run with wandb version 0.16.1"
      ],
      "text/plain": [
       "<IPython.core.display.HTML object>"
      ]
     },
     "metadata": {},
     "output_type": "display_data"
    },
    {
     "data": {
      "text/html": [
       "Run data is saved locally in <code>/home/zekai/repos/cs285_proj/notebooks/wandb/run-20231210_003044-8rhj4fnw</code>"
      ],
      "text/plain": [
       "<IPython.core.display.HTML object>"
      ]
     },
     "metadata": {},
     "output_type": "display_data"
    },
    {
     "data": {
      "text/html": [
       "Syncing run <strong><a href='https://wandb.ai/zekai-wang/cs285_proj_get_action_true_dynamics_updated/runs/8rhj4fnw' target=\"_blank\">tough-sweep-99</a></strong> to <a href='https://wandb.ai/zekai-wang/cs285_proj_get_action_true_dynamics_updated' target=\"_blank\">Weights & Biases</a> (<a href='https://wandb.me/run' target=\"_blank\">docs</a>)<br/>Sweep page: <a href='https://wandb.ai/zekai-wang/cs285_proj_get_action_true_dynamics_updated/sweeps/ok4muk7m' target=\"_blank\">https://wandb.ai/zekai-wang/cs285_proj_get_action_true_dynamics_updated/sweeps/ok4muk7m</a>"
      ],
      "text/plain": [
       "<IPython.core.display.HTML object>"
      ]
     },
     "metadata": {},
     "output_type": "display_data"
    },
    {
     "data": {
      "text/html": [
       " View project at <a href='https://wandb.ai/zekai-wang/cs285_proj_get_action_true_dynamics_updated' target=\"_blank\">https://wandb.ai/zekai-wang/cs285_proj_get_action_true_dynamics_updated</a>"
      ],
      "text/plain": [
       "<IPython.core.display.HTML object>"
      ]
     },
     "metadata": {},
     "output_type": "display_data"
    },
    {
     "data": {
      "text/html": [
       " View sweep at <a href='https://wandb.ai/zekai-wang/cs285_proj_get_action_true_dynamics_updated/sweeps/ok4muk7m' target=\"_blank\">https://wandb.ai/zekai-wang/cs285_proj_get_action_true_dynamics_updated/sweeps/ok4muk7m</a>"
      ],
      "text/plain": [
       "<IPython.core.display.HTML object>"
      ]
     },
     "metadata": {},
     "output_type": "display_data"
    },
    {
     "data": {
      "text/html": [
       " View run at <a href='https://wandb.ai/zekai-wang/cs285_proj_get_action_true_dynamics_updated/runs/8rhj4fnw' target=\"_blank\">https://wandb.ai/zekai-wang/cs285_proj_get_action_true_dynamics_updated/runs/8rhj4fnw</a>"
      ],
      "text/plain": [
       "<IPython.core.display.HTML object>"
      ]
     },
     "metadata": {},
     "output_type": "display_data"
    },
    {
     "name": "stderr",
     "output_type": "stream",
     "text": [
      "100%|██████████| 10/10 [00:15<00:00,  1.53s/it]\n"
     ]
    },
    {
     "name": "stdout",
     "output_type": "stream",
     "text": [
      "mean -1189.502\n",
      "std 357.77454\n",
      "min -1913.8984\n",
      "max -725.9192\n"
     ]
    },
    {
     "data": {
      "application/vnd.jupyter.widget-view+json": {
       "model_id": "50da1b87894f472898db1b99f875040a",
       "version_major": 2,
       "version_minor": 0
      },
      "text/plain": [
       "VBox(children=(Label(value='0.004 MB of 0.004 MB uploaded\\r'), FloatProgress(value=1.0, max=1.0)))"
      ]
     },
     "metadata": {},
     "output_type": "display_data"
    },
    {
     "data": {
      "text/html": [
       "<style>\n",
       "    table.wandb td:nth-child(1) { padding: 0 10px; text-align: left ; width: auto;} td:nth-child(2) {text-align: left ; width: 100%}\n",
       "    .wandb-row { display: flex; flex-direction: row; flex-wrap: wrap; justify-content: flex-start; width: 100% }\n",
       "    .wandb-col { display: flex; flex-direction: column; flex-basis: 100%; flex: 1; padding: 10px; }\n",
       "    </style>\n",
       "<div class=\"wandb-row\"><div class=\"wandb-col\"><h3>Run history:</h3><br/><table class=\"wandb\"><tr><td>max</td><td>▁</td></tr><tr><td>mean</td><td>▁</td></tr><tr><td>min</td><td>▁</td></tr><tr><td>std</td><td>▁</td></tr></table><br/></div><div class=\"wandb-col\"><h3>Run summary:</h3><br/><table class=\"wandb\"><tr><td>max</td><td>-725.91919</td></tr><tr><td>mean</td><td>-1189.50195</td></tr><tr><td>min</td><td>-1913.89844</td></tr><tr><td>std</td><td>357.77454</td></tr></table><br/></div></div>"
      ],
      "text/plain": [
       "<IPython.core.display.HTML object>"
      ]
     },
     "metadata": {},
     "output_type": "display_data"
    },
    {
     "data": {
      "text/html": [
       " View run <strong style=\"color:#cdcd00\">tough-sweep-99</strong> at: <a href='https://wandb.ai/zekai-wang/cs285_proj_get_action_true_dynamics_updated/runs/8rhj4fnw' target=\"_blank\">https://wandb.ai/zekai-wang/cs285_proj_get_action_true_dynamics_updated/runs/8rhj4fnw</a><br/>Synced 6 W&B file(s), 0 media file(s), 0 artifact file(s) and 0 other file(s)"
      ],
      "text/plain": [
       "<IPython.core.display.HTML object>"
      ]
     },
     "metadata": {},
     "output_type": "display_data"
    },
    {
     "data": {
      "text/html": [
       "Find logs at: <code>./wandb/run-20231210_003044-8rhj4fnw/logs</code>"
      ],
      "text/plain": [
       "<IPython.core.display.HTML object>"
      ]
     },
     "metadata": {},
     "output_type": "display_data"
    },
    {
     "name": "stderr",
     "output_type": "stream",
     "text": [
      "\u001b[34m\u001b[1mwandb\u001b[0m: Agent Starting Run: hufe77y8 with config:\n",
      "\u001b[34m\u001b[1mwandb\u001b[0m: \tcem_alpha: 1\n",
      "\u001b[34m\u001b[1mwandb\u001b[0m: \tcem_num_elites: 16\n",
      "\u001b[34m\u001b[1mwandb\u001b[0m: \tcem_num_iters: 4\n",
      "\u001b[34m\u001b[1mwandb\u001b[0m: \tmpc_discount: 0.5\n",
      "\u001b[34m\u001b[1mwandb\u001b[0m: \tmpc_horizon_steps: 1\n",
      "\u001b[34m\u001b[1mwandb\u001b[0m: \tmpc_num_action_sequences: 2000\n",
      "\u001b[34m\u001b[1mwandb\u001b[0m: \tmpc_strategy: cem\n",
      "/home/zekai/miniconda3/envs/cs285_proj/lib/python3.9/site-packages/ipywidgets/widgets/widget.py:528: DeprecationWarning: The `ipykernel.comm.Comm` class has been deprecated. Please use the `comm` module instead.For creating comms, use the function `from comm import create_comm`.\n",
      "  self.comm = Comm(**args)\n",
      "/home/zekai/miniconda3/envs/cs285_proj/lib/python3.9/site-packages/wandb/sdk/lib/ipython.py:77: DeprecationWarning: Importing display from IPython.core.display is deprecated since IPython 7.14, please import from IPython display\n",
      "  from IPython.core.display import HTML, display  # type: ignore\n"
     ]
    },
    {
     "data": {
      "text/html": [
       "Tracking run with wandb version 0.16.1"
      ],
      "text/plain": [
       "<IPython.core.display.HTML object>"
      ]
     },
     "metadata": {},
     "output_type": "display_data"
    },
    {
     "data": {
      "text/html": [
       "Run data is saved locally in <code>/home/zekai/repos/cs285_proj/notebooks/wandb/run-20231210_003110-hufe77y8</code>"
      ],
      "text/plain": [
       "<IPython.core.display.HTML object>"
      ]
     },
     "metadata": {},
     "output_type": "display_data"
    },
    {
     "data": {
      "text/html": [
       "Syncing run <strong><a href='https://wandb.ai/zekai-wang/cs285_proj_get_action_true_dynamics_updated/runs/hufe77y8' target=\"_blank\">earthy-sweep-100</a></strong> to <a href='https://wandb.ai/zekai-wang/cs285_proj_get_action_true_dynamics_updated' target=\"_blank\">Weights & Biases</a> (<a href='https://wandb.me/run' target=\"_blank\">docs</a>)<br/>Sweep page: <a href='https://wandb.ai/zekai-wang/cs285_proj_get_action_true_dynamics_updated/sweeps/ok4muk7m' target=\"_blank\">https://wandb.ai/zekai-wang/cs285_proj_get_action_true_dynamics_updated/sweeps/ok4muk7m</a>"
      ],
      "text/plain": [
       "<IPython.core.display.HTML object>"
      ]
     },
     "metadata": {},
     "output_type": "display_data"
    },
    {
     "data": {
      "text/html": [
       " View project at <a href='https://wandb.ai/zekai-wang/cs285_proj_get_action_true_dynamics_updated' target=\"_blank\">https://wandb.ai/zekai-wang/cs285_proj_get_action_true_dynamics_updated</a>"
      ],
      "text/plain": [
       "<IPython.core.display.HTML object>"
      ]
     },
     "metadata": {},
     "output_type": "display_data"
    },
    {
     "data": {
      "text/html": [
       " View sweep at <a href='https://wandb.ai/zekai-wang/cs285_proj_get_action_true_dynamics_updated/sweeps/ok4muk7m' target=\"_blank\">https://wandb.ai/zekai-wang/cs285_proj_get_action_true_dynamics_updated/sweeps/ok4muk7m</a>"
      ],
      "text/plain": [
       "<IPython.core.display.HTML object>"
      ]
     },
     "metadata": {},
     "output_type": "display_data"
    },
    {
     "data": {
      "text/html": [
       " View run at <a href='https://wandb.ai/zekai-wang/cs285_proj_get_action_true_dynamics_updated/runs/hufe77y8' target=\"_blank\">https://wandb.ai/zekai-wang/cs285_proj_get_action_true_dynamics_updated/runs/hufe77y8</a>"
      ],
      "text/plain": [
       "<IPython.core.display.HTML object>"
      ]
     },
     "metadata": {},
     "output_type": "display_data"
    },
    {
     "name": "stderr",
     "output_type": "stream",
     "text": [
      "100%|██████████| 10/10 [00:15<00:00,  1.54s/it]\n"
     ]
    },
    {
     "name": "stdout",
     "output_type": "stream",
     "text": [
      "mean -1353.9994\n",
      "std 255.70158\n",
      "min -1853.8348\n",
      "max -1073.6519\n"
     ]
    },
    {
     "data": {
      "application/vnd.jupyter.widget-view+json": {
       "model_id": "8b6782e45aaa49a09cf57b236fc8de80",
       "version_major": 2,
       "version_minor": 0
      },
      "text/plain": [
       "VBox(children=(Label(value='0.004 MB of 0.004 MB uploaded\\r'), FloatProgress(value=1.0, max=1.0)))"
      ]
     },
     "metadata": {},
     "output_type": "display_data"
    },
    {
     "data": {
      "text/html": [
       "<style>\n",
       "    table.wandb td:nth-child(1) { padding: 0 10px; text-align: left ; width: auto;} td:nth-child(2) {text-align: left ; width: 100%}\n",
       "    .wandb-row { display: flex; flex-direction: row; flex-wrap: wrap; justify-content: flex-start; width: 100% }\n",
       "    .wandb-col { display: flex; flex-direction: column; flex-basis: 100%; flex: 1; padding: 10px; }\n",
       "    </style>\n",
       "<div class=\"wandb-row\"><div class=\"wandb-col\"><h3>Run history:</h3><br/><table class=\"wandb\"><tr><td>max</td><td>▁</td></tr><tr><td>mean</td><td>▁</td></tr><tr><td>min</td><td>▁</td></tr><tr><td>std</td><td>▁</td></tr></table><br/></div><div class=\"wandb-col\"><h3>Run summary:</h3><br/><table class=\"wandb\"><tr><td>max</td><td>-1073.65186</td></tr><tr><td>mean</td><td>-1353.99939</td></tr><tr><td>min</td><td>-1853.83484</td></tr><tr><td>std</td><td>255.70158</td></tr></table><br/></div></div>"
      ],
      "text/plain": [
       "<IPython.core.display.HTML object>"
      ]
     },
     "metadata": {},
     "output_type": "display_data"
    },
    {
     "data": {
      "text/html": [
       " View run <strong style=\"color:#cdcd00\">earthy-sweep-100</strong> at: <a href='https://wandb.ai/zekai-wang/cs285_proj_get_action_true_dynamics_updated/runs/hufe77y8' target=\"_blank\">https://wandb.ai/zekai-wang/cs285_proj_get_action_true_dynamics_updated/runs/hufe77y8</a><br/>Synced 6 W&B file(s), 0 media file(s), 0 artifact file(s) and 0 other file(s)"
      ],
      "text/plain": [
       "<IPython.core.display.HTML object>"
      ]
     },
     "metadata": {},
     "output_type": "display_data"
    },
    {
     "data": {
      "text/html": [
       "Find logs at: <code>./wandb/run-20231210_003110-hufe77y8/logs</code>"
      ],
      "text/plain": [
       "<IPython.core.display.HTML object>"
      ]
     },
     "metadata": {},
     "output_type": "display_data"
    },
    {
     "name": "stdout",
     "output_type": "stream",
     "text": [
      "Error in callback <bound method _WandbInit._pause_backend of <wandb.sdk.wandb_init._WandbInit object at 0x7f82cc060f10>> (for post_run_cell):\n"
     ]
    },
    {
     "ename": "BrokenPipeError",
     "evalue": "[Errno 32] Broken pipe",
     "output_type": "error",
     "traceback": [
      "\u001b[0;31m---------------------------------------------------------------------------\u001b[0m",
      "\u001b[0;31mBrokenPipeError\u001b[0m                           Traceback (most recent call last)",
      "File \u001b[0;32m~/miniconda3/envs/cs285_proj/lib/python3.9/site-packages/wandb/sdk/wandb_init.py:436\u001b[0m, in \u001b[0;36m_WandbInit._pause_backend\u001b[0;34m(self, *args, **kwargs)\u001b[0m\n\u001b[1;32m    434\u001b[0m \u001b[38;5;28;01mif\u001b[39;00m \u001b[38;5;28mself\u001b[39m\u001b[38;5;241m.\u001b[39mbackend\u001b[38;5;241m.\u001b[39minterface \u001b[38;5;129;01mis\u001b[39;00m \u001b[38;5;129;01mnot\u001b[39;00m \u001b[38;5;28;01mNone\u001b[39;00m:\n\u001b[1;32m    435\u001b[0m     logger\u001b[38;5;241m.\u001b[39minfo(\u001b[38;5;124m\"\u001b[39m\u001b[38;5;124mpausing backend\u001b[39m\u001b[38;5;124m\"\u001b[39m)  \u001b[38;5;66;03m# type: ignore\u001b[39;00m\n\u001b[0;32m--> 436\u001b[0m     \u001b[38;5;28;43mself\u001b[39;49m\u001b[38;5;241;43m.\u001b[39;49m\u001b[43mbackend\u001b[49m\u001b[38;5;241;43m.\u001b[39;49m\u001b[43minterface\u001b[49m\u001b[38;5;241;43m.\u001b[39;49m\u001b[43mpublish_pause\u001b[49m\u001b[43m(\u001b[49m\u001b[43m)\u001b[49m\n",
      "File \u001b[0;32m~/miniconda3/envs/cs285_proj/lib/python3.9/site-packages/wandb/sdk/interface/interface.py:647\u001b[0m, in \u001b[0;36mInterfaceBase.publish_pause\u001b[0;34m(self)\u001b[0m\n\u001b[1;32m    645\u001b[0m \u001b[38;5;28;01mdef\u001b[39;00m \u001b[38;5;21mpublish_pause\u001b[39m(\u001b[38;5;28mself\u001b[39m) \u001b[38;5;241m-\u001b[39m\u001b[38;5;241m>\u001b[39m \u001b[38;5;28;01mNone\u001b[39;00m:\n\u001b[1;32m    646\u001b[0m     pause \u001b[38;5;241m=\u001b[39m pb\u001b[38;5;241m.\u001b[39mPauseRequest()\n\u001b[0;32m--> 647\u001b[0m     \u001b[38;5;28;43mself\u001b[39;49m\u001b[38;5;241;43m.\u001b[39;49m\u001b[43m_publish_pause\u001b[49m\u001b[43m(\u001b[49m\u001b[43mpause\u001b[49m\u001b[43m)\u001b[49m\n",
      "File \u001b[0;32m~/miniconda3/envs/cs285_proj/lib/python3.9/site-packages/wandb/sdk/interface/interface_shared.py:349\u001b[0m, in \u001b[0;36mInterfaceShared._publish_pause\u001b[0;34m(self, pause)\u001b[0m\n\u001b[1;32m    347\u001b[0m \u001b[38;5;28;01mdef\u001b[39;00m \u001b[38;5;21m_publish_pause\u001b[39m(\u001b[38;5;28mself\u001b[39m, pause: pb\u001b[38;5;241m.\u001b[39mPauseRequest) \u001b[38;5;241m-\u001b[39m\u001b[38;5;241m>\u001b[39m \u001b[38;5;28;01mNone\u001b[39;00m:\n\u001b[1;32m    348\u001b[0m     rec \u001b[38;5;241m=\u001b[39m \u001b[38;5;28mself\u001b[39m\u001b[38;5;241m.\u001b[39m_make_request(pause\u001b[38;5;241m=\u001b[39mpause)\n\u001b[0;32m--> 349\u001b[0m     \u001b[38;5;28;43mself\u001b[39;49m\u001b[38;5;241;43m.\u001b[39;49m\u001b[43m_publish\u001b[49m\u001b[43m(\u001b[49m\u001b[43mrec\u001b[49m\u001b[43m)\u001b[49m\n",
      "File \u001b[0;32m~/miniconda3/envs/cs285_proj/lib/python3.9/site-packages/wandb/sdk/interface/interface_sock.py:51\u001b[0m, in \u001b[0;36mInterfaceSock._publish\u001b[0;34m(self, record, local)\u001b[0m\n\u001b[1;32m     49\u001b[0m \u001b[38;5;28;01mdef\u001b[39;00m \u001b[38;5;21m_publish\u001b[39m(\u001b[38;5;28mself\u001b[39m, record: \u001b[38;5;124m\"\u001b[39m\u001b[38;5;124mpb.Record\u001b[39m\u001b[38;5;124m\"\u001b[39m, local: Optional[\u001b[38;5;28mbool\u001b[39m] \u001b[38;5;241m=\u001b[39m \u001b[38;5;28;01mNone\u001b[39;00m) \u001b[38;5;241m-\u001b[39m\u001b[38;5;241m>\u001b[39m \u001b[38;5;28;01mNone\u001b[39;00m:\n\u001b[1;32m     50\u001b[0m     \u001b[38;5;28mself\u001b[39m\u001b[38;5;241m.\u001b[39m_assign(record)\n\u001b[0;32m---> 51\u001b[0m     \u001b[38;5;28;43mself\u001b[39;49m\u001b[38;5;241;43m.\u001b[39;49m\u001b[43m_sock_client\u001b[49m\u001b[38;5;241;43m.\u001b[39;49m\u001b[43msend_record_publish\u001b[49m\u001b[43m(\u001b[49m\u001b[43mrecord\u001b[49m\u001b[43m)\u001b[49m\n",
      "File \u001b[0;32m~/miniconda3/envs/cs285_proj/lib/python3.9/site-packages/wandb/sdk/lib/sock_client.py:221\u001b[0m, in \u001b[0;36mSockClient.send_record_publish\u001b[0;34m(self, record)\u001b[0m\n\u001b[1;32m    219\u001b[0m server_req \u001b[38;5;241m=\u001b[39m spb\u001b[38;5;241m.\u001b[39mServerRequest()\n\u001b[1;32m    220\u001b[0m server_req\u001b[38;5;241m.\u001b[39mrecord_publish\u001b[38;5;241m.\u001b[39mCopyFrom(record)\n\u001b[0;32m--> 221\u001b[0m \u001b[38;5;28;43mself\u001b[39;49m\u001b[38;5;241;43m.\u001b[39;49m\u001b[43msend_server_request\u001b[49m\u001b[43m(\u001b[49m\u001b[43mserver_req\u001b[49m\u001b[43m)\u001b[49m\n",
      "File \u001b[0;32m~/miniconda3/envs/cs285_proj/lib/python3.9/site-packages/wandb/sdk/lib/sock_client.py:155\u001b[0m, in \u001b[0;36mSockClient.send_server_request\u001b[0;34m(self, msg)\u001b[0m\n\u001b[1;32m    154\u001b[0m \u001b[38;5;28;01mdef\u001b[39;00m \u001b[38;5;21msend_server_request\u001b[39m(\u001b[38;5;28mself\u001b[39m, msg: Any) \u001b[38;5;241m-\u001b[39m\u001b[38;5;241m>\u001b[39m \u001b[38;5;28;01mNone\u001b[39;00m:\n\u001b[0;32m--> 155\u001b[0m     \u001b[38;5;28;43mself\u001b[39;49m\u001b[38;5;241;43m.\u001b[39;49m\u001b[43m_send_message\u001b[49m\u001b[43m(\u001b[49m\u001b[43mmsg\u001b[49m\u001b[43m)\u001b[49m\n",
      "File \u001b[0;32m~/miniconda3/envs/cs285_proj/lib/python3.9/site-packages/wandb/sdk/lib/sock_client.py:152\u001b[0m, in \u001b[0;36mSockClient._send_message\u001b[0;34m(self, msg)\u001b[0m\n\u001b[1;32m    150\u001b[0m header \u001b[38;5;241m=\u001b[39m struct\u001b[38;5;241m.\u001b[39mpack(\u001b[38;5;124m\"\u001b[39m\u001b[38;5;124m<BI\u001b[39m\u001b[38;5;124m\"\u001b[39m, \u001b[38;5;28mord\u001b[39m(\u001b[38;5;124m\"\u001b[39m\u001b[38;5;124mW\u001b[39m\u001b[38;5;124m\"\u001b[39m), raw_size)\n\u001b[1;32m    151\u001b[0m \u001b[38;5;28;01mwith\u001b[39;00m \u001b[38;5;28mself\u001b[39m\u001b[38;5;241m.\u001b[39m_lock:\n\u001b[0;32m--> 152\u001b[0m     \u001b[38;5;28;43mself\u001b[39;49m\u001b[38;5;241;43m.\u001b[39;49m\u001b[43m_sendall_with_error_handle\u001b[49m\u001b[43m(\u001b[49m\u001b[43mheader\u001b[49m\u001b[43m \u001b[49m\u001b[38;5;241;43m+\u001b[39;49m\u001b[43m \u001b[49m\u001b[43mdata\u001b[49m\u001b[43m)\u001b[49m\n",
      "File \u001b[0;32m~/miniconda3/envs/cs285_proj/lib/python3.9/site-packages/wandb/sdk/lib/sock_client.py:130\u001b[0m, in \u001b[0;36mSockClient._sendall_with_error_handle\u001b[0;34m(self, data)\u001b[0m\n\u001b[1;32m    128\u001b[0m start_time \u001b[38;5;241m=\u001b[39m time\u001b[38;5;241m.\u001b[39mmonotonic()\n\u001b[1;32m    129\u001b[0m \u001b[38;5;28;01mtry\u001b[39;00m:\n\u001b[0;32m--> 130\u001b[0m     sent \u001b[38;5;241m=\u001b[39m \u001b[38;5;28;43mself\u001b[39;49m\u001b[38;5;241;43m.\u001b[39;49m\u001b[43m_sock\u001b[49m\u001b[38;5;241;43m.\u001b[39;49m\u001b[43msend\u001b[49m\u001b[43m(\u001b[49m\u001b[43mdata\u001b[49m\u001b[43m)\u001b[49m\n\u001b[1;32m    131\u001b[0m     \u001b[38;5;66;03m# sent equal to 0 indicates a closed socket\u001b[39;00m\n\u001b[1;32m    132\u001b[0m     \u001b[38;5;28;01mif\u001b[39;00m sent \u001b[38;5;241m==\u001b[39m \u001b[38;5;241m0\u001b[39m:\n",
      "\u001b[0;31mBrokenPipeError\u001b[0m: [Errno 32] Broken pipe"
     ]
    }
   ],
   "source": [
    "wandb.agent(sweep_id, evaluate, count=100)"
   ]
  },
  {
   "cell_type": "code",
   "execution_count": null,
   "metadata": {},
   "outputs": [],
   "source": []
  }
 ],
 "metadata": {
  "kernelspec": {
   "display_name": "cs285_proj",
   "language": "python",
   "name": "python3"
  },
  "language_info": {
   "codemirror_mode": {
    "name": "ipython",
    "version": 3
   },
   "file_extension": ".py",
   "mimetype": "text/x-python",
   "name": "python",
   "nbconvert_exporter": "python",
   "pygments_lexer": "ipython3",
   "version": "3.9.18"
  }
 },
 "nbformat": 4,
 "nbformat_minor": 2
}
