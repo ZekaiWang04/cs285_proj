{
 "cells": [
  {
   "cell_type": "code",
   "execution_count": 1,
   "metadata": {},
   "outputs": [],
   "source": [
    "%load_ext autoreload\n",
    "%autoreload 2\n",
    "from cs285.envs.pendulum.pendulum_env import PendulumEnv\n",
    "from cs285.envs.dt_sampler import ConstantSampler\n",
    "from cs285.infrastructure.replay_buffer import ReplayBufferTrajectories\n",
    "from cs285.infrastructure.utils import sample_n_trajectories, RandomPolicy\n",
    "from cs285.agents.ode_agent import ODEAgent\n",
    "from typing import Callable, Optional, Tuple, Sequence\n",
    "import numpy as np\n",
    "import gym\n",
    "from cs285.infrastructure import pytorch_util as ptu\n",
    "from tqdm import trange\n",
    "import jax\n",
    "import jax.numpy as jnp\n",
    "import equinox as eqx\n",
    "import diffrax\n",
    "from diffrax import diffeqsolve, Dopri5\n",
    "import optax\n",
    "import matplotlib.pyplot as plt\n",
    "import wandb\n",
    "import pprint\n",
    "import pprint"
   ]
  },
  {
   "cell_type": "code",
   "execution_count": 2,
   "metadata": {},
   "outputs": [
    {
     "name": "stdout",
     "output_type": "stream",
     "text": [
      "gpu\n"
     ]
    }
   ],
   "source": [
    "key = jax.random.PRNGKey(0)\n",
    "from jax.lib import xla_bridge\n",
    "print(xla_bridge.get_backend().platform)"
   ]
  },
  {
   "cell_type": "code",
   "execution_count": 3,
   "metadata": {},
   "outputs": [],
   "source": [
    "def test_true_dynamics_agent(agent, ntraj, plot=False):\n",
    "    trajs, _ = sample_n_trajectories(agent.env, agent, ntraj=ntraj, max_length=200, key=key)\n",
    "    rewards = [t[\"episode_statistics\"][\"r\"] for t in trajs]\n",
    "    if plot:\n",
    "        plt.hist(rewards, bins=20)\n",
    "    mean, std, min, max = np.mean(rewards), np.std(rewards), np.min(rewards), np.max(rewards)\n",
    "    print(\"mean\", mean)\n",
    "    print(\"std\", std)\n",
    "    print(\"min\", min)\n",
    "    print(\"max\", max)\n",
    "    stats = {\n",
    "        \"mean\": mean,\n",
    "        \"std\": std,\n",
    "        \"min\": min,\n",
    "        \"max\": max\n",
    "    }\n",
    "    return rewards, stats"
   ]
  },
  {
   "cell_type": "code",
   "execution_count": 4,
   "metadata": {},
   "outputs": [],
   "source": [
    "dt_sampler = ConstantSampler(dt=0.05)\n",
    "env = PendulumEnv(\n",
    "    dt_sampler=dt_sampler\n",
    ")\n",
    "mpc_dt_sampler = ConstantSampler(dt=0.05)\n",
    "agent_key, key = jax.random.split(key)\n",
    "neural_ode_name = \"pendulum_true_dynamics\"\n",
    "neural_ode_kwargs = {\n",
    "    \"ode_dt0\": 0.005,\n",
    "}\n",
    "optimizer_name = \"adamw\"\n",
    "optimizer_kwargs = {\"learning_rate\": 1e-3}\n",
    "mb_agent = ODEAgent(\n",
    "    env=env,\n",
    "    key=agent_key,\n",
    "    neural_ode_name=neural_ode_name,\n",
    "    neural_ode_kwargs=neural_ode_kwargs,\n",
    "    optimizer_name=optimizer_name,\n",
    "    optimizer_kwargs=optimizer_kwargs,\n",
    "    ensemble_size=1,\n",
    "    train_discount=1,\n",
    "    mpc_horizon_steps=20,\n",
    "    mpc_dt_sampler=mpc_dt_sampler,\n",
    "    mpc_strategy=\"random\",\n",
    "    mpc_discount=0.95,\n",
    "    mpc_num_action_sequences=1000,\n",
    "    cem_num_iters=4,\n",
    "    cem_num_elites=5,\n",
    "    cem_alpha=1,\n",
    ")"
   ]
  },
  {
   "cell_type": "code",
   "execution_count": 5,
   "metadata": {},
   "outputs": [
    {
     "name": "stderr",
     "output_type": "stream",
     "text": [
      "100%|██████████| 100/100 [02:41<00:00,  1.62s/it]"
     ]
    },
    {
     "name": "stdout",
     "output_type": "stream",
     "text": [
      "mean -1198.1469\n",
      "std 276.66138\n",
      "min -1839.6028\n",
      "max -721.12476\n"
     ]
    },
    {
     "name": "stderr",
     "output_type": "stream",
     "text": [
      "\n"
     ]
    },
    {
     "data": {
      "text/plain": [
       "([-1715.5911,\n",
       "  -1075.523,\n",
       "  -1256.1973,\n",
       "  -1673.6987,\n",
       "  -1793.1582,\n",
       "  -1317.0759,\n",
       "  -1070.4153,\n",
       "  -1278.8779,\n",
       "  -1353.1873,\n",
       "  -992.12024,\n",
       "  -1363.3391,\n",
       "  -1072.8632,\n",
       "  -1138.0256,\n",
       "  -1346.6162,\n",
       "  -1444.9705,\n",
       "  -1159.9937,\n",
       "  -1080.5519,\n",
       "  -870.8106,\n",
       "  -1080.271,\n",
       "  -1740.8087,\n",
       "  -1316.4354,\n",
       "  -1297.7012,\n",
       "  -1369.384,\n",
       "  -1097.9888,\n",
       "  -761.76904,\n",
       "  -1785.231,\n",
       "  -1638.9424,\n",
       "  -1126.6602,\n",
       "  -1072.7823,\n",
       "  -1531.939,\n",
       "  -1298.7985,\n",
       "  -1072.0841,\n",
       "  -1211.3765,\n",
       "  -1099.9697,\n",
       "  -876.459,\n",
       "  -1183.5226,\n",
       "  -901.4381,\n",
       "  -873.0941,\n",
       "  -1109.0576,\n",
       "  -889.7103,\n",
       "  -1073.5306,\n",
       "  -1362.0928,\n",
       "  -1596.7524,\n",
       "  -765.11926,\n",
       "  -1358.604,\n",
       "  -1381.981,\n",
       "  -1839.6028,\n",
       "  -1140.6223,\n",
       "  -970.66235,\n",
       "  -866.9221,\n",
       "  -1414.1278,\n",
       "  -1369.7277,\n",
       "  -1366.863,\n",
       "  -869.23535,\n",
       "  -777.3425,\n",
       "  -1289.4082,\n",
       "  -1167.5671,\n",
       "  -1725.9231,\n",
       "  -909.00366,\n",
       "  -1067.5465,\n",
       "  -1467.0972,\n",
       "  -1289.7932,\n",
       "  -1082.6465,\n",
       "  -1170.4003,\n",
       "  -1079.8466,\n",
       "  -986.9471,\n",
       "  -1100.6404,\n",
       "  -1308.3818,\n",
       "  -883.3982,\n",
       "  -750.3158,\n",
       "  -1169.0527,\n",
       "  -1797.0911,\n",
       "  -1419.6826,\n",
       "  -1049.2249,\n",
       "  -925.26495,\n",
       "  -1299.4685,\n",
       "  -970.3524,\n",
       "  -1004.454,\n",
       "  -878.46814,\n",
       "  -1132.5426,\n",
       "  -1441.5577,\n",
       "  -840.2523,\n",
       "  -903.3469,\n",
       "  -971.27814,\n",
       "  -1197.5576,\n",
       "  -971.7942,\n",
       "  -1243.4167,\n",
       "  -1369.001,\n",
       "  -856.771,\n",
       "  -1186.7998,\n",
       "  -1545.7563,\n",
       "  -1372.4413,\n",
       "  -1795.9917,\n",
       "  -817.6316,\n",
       "  -1511.999,\n",
       "  -1461.7894,\n",
       "  -1370.0066,\n",
       "  -863.6564,\n",
       "  -721.12476,\n",
       "  -956.361],\n",
       " {'mean': -1198.1469, 'std': 276.66138, 'min': -1839.6028, 'max': -721.12476})"
      ]
     },
     "execution_count": 5,
     "metadata": {},
     "output_type": "execute_result"
    },
    {
     "data": {
      "image/png": "[encoded data removed]",
      "text/plain": [
       "<Figure size 640x480 with 1 Axes>"
      ]
     },
     "metadata": {},
     "output_type": "display_data"
    }
   ],
   "source": [
    "test_true_dynamics_agent(mb_agent, ntraj=100, plot=True)"
   ]
  },
  {
   "cell_type": "code",
   "execution_count": 9,
   "metadata": {},
   "outputs": [
    {
     "name": "stderr",
     "output_type": "stream",
     "text": [
      "Failed to detect the name of this notebook, you can set it manually with the WANDB_NOTEBOOK_NAME environment variable to enable code saving.\n",
      "/home/zekai/miniconda3/envs/cs285_proj/lib/python3.9/site-packages/ipywidgets/widgets/widget.py:528: DeprecationWarning: The `ipykernel.comm.Comm` class has been deprecated. Please use the `comm` module instead.For creating comms, use the function `from comm import create_comm`.\n",
      "  self.comm = Comm(**args)\n",
      "\u001b[34m\u001b[1mwandb\u001b[0m: Currently logged in as: \u001b[33mzekai-wang\u001b[0m. Use \u001b[1m`wandb login --relogin`\u001b[0m to force relogin\n",
      "/home/zekai/miniconda3/envs/cs285_proj/lib/python3.9/site-packages/wandb/sdk/lib/ipython.py:77: DeprecationWarning: Importing display from IPython.core.display is deprecated since IPython 7.14, please import from IPython display\n",
      "  from IPython.core.display import HTML, display  # type: ignore\n"
     ]
    },
    {
     "data": {
      "text/html": [
       "Tracking run with wandb version 0.16.1"
      ],
      "text/plain": [
       "<IPython.core.display.HTML object>"
      ]
     },
     "metadata": {},
     "output_type": "display_data"
    },
    {
     "data": {
      "text/html": [
       "Run data is saved locally in <code>/home/zekai/repos/cs285_proj/notebooks/wandb/run-20231209_234507-wxstz200</code>"
      ],
      "text/plain": [
       "<IPython.core.display.HTML object>"
      ]
     },
     "metadata": {},
     "output_type": "display_data"
    },
    {
     "data": {
      "text/html": [
       "Syncing run <strong><a href='https://wandb.ai/zekai-wang/cs285_proj-notebooks/runs/wxstz200' target=\"_blank\">trim-lion-4</a></strong> to <a href='https://wandb.ai/zekai-wang/cs285_proj-notebooks' target=\"_blank\">Weights & Biases</a> (<a href='https://wandb.me/run' target=\"_blank\">docs</a>)<br/>"
      ],
      "text/plain": [
       "<IPython.core.display.HTML object>"
      ]
     },
     "metadata": {},
     "output_type": "display_data"
    },
    {
     "data": {
      "text/html": [
       " View project at <a href='https://wandb.ai/zekai-wang/cs285_proj-notebooks' target=\"_blank\">https://wandb.ai/zekai-wang/cs285_proj-notebooks</a>"
      ],
      "text/plain": [
       "<IPython.core.display.HTML object>"
      ]
     },
     "metadata": {},
     "output_type": "display_data"
    },
    {
     "data": {
      "text/html": [
       " View run at <a href='https://wandb.ai/zekai-wang/cs285_proj-notebooks/runs/wxstz200' target=\"_blank\">https://wandb.ai/zekai-wang/cs285_proj-notebooks/runs/wxstz200</a>"
      ],
      "text/plain": [
       "<IPython.core.display.HTML object>"
      ]
     },
     "metadata": {},
     "output_type": "display_data"
    },
    {
     "data": {
      "text/html": [
       "<button onClick=\"this.nextSibling.style.display='block';this.style.display='none';\">Display W&B run</button><iframe src='https://wandb.ai/zekai-wang/cs285_proj-notebooks/runs/wxstz200?jupyter=true' style='border:none;width:100%;height:420px;display:none;'></iframe>"
      ],
      "text/plain": [
       "<wandb.sdk.wandb_run.Run at 0x7f82307fbdf0>"
      ]
     },
     "execution_count": 9,
     "metadata": {},
     "output_type": "execute_result"
    }
   ],
   "source": [
    "wandb.init()"
   ]
  },
  {
   "cell_type": "code",
   "execution_count": 11,
   "metadata": {},
   "outputs": [
    {
     "name": "stdout",
     "output_type": "stream",
     "text": [
      "{'method': 'random',\n",
      " 'metric': {'goal': 'maximize', 'name': 'mean'},\n",
      " 'parameters': {'cem_alpha': {'values': [1.0, 0.99, 0.95, 0.9, 0.8, 0.5]},\n",
      "                'cem_num_elites': {'values': [1, 2, 4, 8, 16, 32, 64]},\n",
      "                'cem_num_iters': {'values': [2, 4, 8, 16]},\n",
      "                'mpc_discount': {'values': [1.0, 0.99, 0.95, 0.9, 0.8, 0.5]},\n",
      "                'mpc_horizon_steps': {'values': [1,\n",
      "                                                 2,\n",
      "                                                 5,\n",
      "                                                 10,\n",
      "                                                 20,\n",
      "                                                 50,\n",
      "                                                 100,\n",
      "                                                 200]},\n",
      "                'mpc_num_action_sequences': {'values': [100,\n",
      "                                                        200,\n",
      "                                                        500,\n",
      "                                                        1000,\n",
      "                                                        2000,\n",
      "                                                        5000]},\n",
      "                'mpc_strategy': {'values': ['random', 'cem']}}}\n"
     ]
    }
   ],
   "source": [
    "sweep_config = {\n",
    "    'method': 'random'\n",
    "    }\n",
    "metric = {\n",
    "    'name': 'mean',\n",
    "    'goal': 'maximize'   \n",
    "    }\n",
    "\n",
    "sweep_config['metric'] = metric\n",
    "\n",
    "parameters_dict = {\n",
    "    'mpc_horizon_steps': {\n",
    "        'values': [1, 2, 5, 10, 20, 50, 100, 200]\n",
    "        },\n",
    "    'mpc_discount': {\n",
    "        'values': [1.0, 0.99, 0.95, 0.9, 0.8, 0.5]\n",
    "        },\n",
    "    \"mpc_num_action_sequences\": {\n",
    "        'values': [100, 200, 500, 1000, 2000, 5000]\n",
    "        },\n",
    "    'mpc_strategy': {\n",
    "        'values': [\"random\", \"cem\"]\n",
    "        },\n",
    "    'cem_num_iters': {\n",
    "        'values': [2, 4, 8, 16],\n",
    "        },\n",
    "    'cem_num_elites': {\n",
    "        'values': [1, 2, 4, 8, 16, 32, 64],\n",
    "        },\n",
    "    'cem_alpha': {\n",
    "        'values': [1.0, 0.99, 0.95, 0.9, 0.8, 0.5],\n",
    "        },\n",
    "    }\n",
    "\n",
    "sweep_config['parameters'] = parameters_dict\n",
    "pprint.pprint(sweep_config)\n"
   ]
  },
  {
   "cell_type": "code",
   "execution_count": 12,
   "metadata": {},
   "outputs": [
    {
     "name": "stdout",
     "output_type": "stream",
     "text": [
      "Create sweep with ID: ok4muk7m\n",
      "Sweep URL: https://wandb.ai/zekai-wang/cs285_proj_get_action_true_dynamics_updated/sweeps/ok4muk7m\n"
     ]
    }
   ],
   "source": [
    "sweep_id = wandb.sweep(sweep_config, project=\"cs285_proj_get_action_true_dynamics_updated\")"
   ]
  },
  {
   "cell_type": "code",
   "execution_count": 13,
   "metadata": {},
   "outputs": [],
   "source": [
    "key = jax.random.PRNGKey(0)"
   ]
  },
  {
   "cell_type": "code",
   "execution_count": 14,
   "metadata": {},
   "outputs": [],
   "source": [
    "def evaluate(config=None):\n",
    "    with wandb.init(config=config):\n",
    "        config = wandb.config\n",
    "        dt_sampler = ConstantSampler(dt=0.05)\n",
    "        env = PendulumEnv(\n",
    "            dt_sampler=dt_sampler\n",
    "        )\n",
    "        mpc_dt_sampler = ConstantSampler(dt=0.05)\n",
    "        neural_ode_name = \"pendulum_true_dynamics\"\n",
    "        neural_ode_kwargs = {\n",
    "            \"ode_dt0\": 0.005,\n",
    "        }\n",
    "        optimizer_name = \"adamw\"\n",
    "        optimizer_kwargs = {\"learning_rate\": 1e-3}\n",
    "        agent = ODEAgent(\n",
    "            env=env,\n",
    "            key=key,\n",
    "            neural_ode_name=neural_ode_name,\n",
    "            neural_ode_kwargs=neural_ode_kwargs,\n",
    "            optimizer_name=optimizer_name,\n",
    "            optimizer_kwargs=optimizer_kwargs,\n",
    "            ensemble_size=1,\n",
    "            train_discount=1,\n",
    "            mpc_horizon_steps=config.mpc_horizon_steps,\n",
    "            mpc_dt_sampler=mpc_dt_sampler,\n",
    "            mpc_strategy=config.mpc_strategy,\n",
    "            mpc_discount=config.mpc_discount,\n",
    "            mpc_num_action_sequences=config.mpc_num_action_sequences,\n",
    "            cem_num_iters=config.cem_num_iters,\n",
    "            cem_num_elites=config.cem_num_elites,\n",
    "            cem_alpha=config.cem_alpha,\n",
    "        )\n",
    "        rewards, stats = test_true_dynamics_agent(agent, ntraj=10)\n",
    "        wandb.log({\"rewards\": rewards,\n",
    "                   \"min\": stats[\"min\"],\n",
    "                   \"max\": stats[\"max\"],\n",
    "                   \"mean\": stats[\"mean\"],\n",
    "                   \"std\": stats[\"std\"],})\n"
   ]
  },
  {
   "cell_type": "code",
   "execution_count": 15,
   "metadata": {},
   "outputs": [
    {
     "name": "stderr",
     "output_type": "stream",
     "text": [
      "\u001b[34m\u001b[1mwandb\u001b[0m: \u001b[33mWARNING\u001b[0m Calling wandb.login() after wandb.init() has no effect.\n",
      "wandb: WARNING Source type is set to 'repo' but some required information is missing from the environment. A job will not be created from this run. See https://docs.wandb.ai/guides/launch/create-job\n"
     ]
    }
   ],
   "source": [
    "wandb.agent(sweep_id, evaluate, count=100)"
   ]
  },
  {
   "cell_type": "code",
   "execution_count": null,
   "metadata": {},
   "outputs": [],
   "source": []
  }
 ],
 "metadata": {
  "kernelspec": {
   "display_name": "cs285_proj",
   "language": "python",
   "name": "python3"
  },
  "language_info": {
   "codemirror_mode": {
    "name": "ipython",
    "version": 3
   },
   "file_extension": ".py",
   "mimetype": "text/x-python",
   "name": "python",
   "nbconvert_exporter": "python",
   "pygments_lexer": "ipython3",
   "version": "3.9.18"
  }
 },
 "nbformat": 4,
 "nbformat_minor": 2
}
