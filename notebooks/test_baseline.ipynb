{
 "cells": [
  {
   "cell_type": "code",
   "execution_count": 1,
   "metadata": {},
   "outputs": [],
   "source": [
    "%load_ext autoreload\n",
    "%autoreload 2\n",
    "from cs285.envs.pendulum.pendulum_env import PendulumEnv\n",
    "from cs285.envs.dt_sampler import ConstantSampler\n",
    "from cs285.infrastructure.replay_buffer import ReplayBufferTransitions\n",
    "from cs285.infrastructure.utils import sample_n_trajectories, RandomPolicy\n",
    "from cs285.agents.model_based_agent import ModelBasedAgent\n",
    "from typing import Callable, Optional, Tuple, Sequence\n",
    "import numpy as np\n",
    "import torch.nn as nn\n",
    "import torch\n",
    "import gym\n",
    "from cs285.infrastructure import pytorch_util as ptu\n",
    "from torchdiffeq import odeint\n",
    "from tqdm import trange\n",
    "import jax\n",
    "import jax.numpy as jnp\n",
    "import equinox as eqx\n",
    "import diffrax\n",
    "from diffrax import diffeqsolve, Dopri5\n",
    "import optax"
   ]
  },
  {
   "cell_type": "code",
   "execution_count": 2,
   "metadata": {},
   "outputs": [
    {
     "name": "stdout",
     "output_type": "stream",
     "text": [
      "gpu\n",
      "Using GPU id 0\n"
     ]
    }
   ],
   "source": [
    "key = jax.random.PRNGKey(0)\n",
    "from jax.lib import xla_bridge\n",
    "print(xla_bridge.get_backend().platform)\n",
    "device = \"cuda\" if torch.cuda.is_available() else \"cpu\"\n",
    "ptu.init_gpu(use_gpu=True if device==\"cuda\" else False)"
   ]
  },
  {
   "cell_type": "code",
   "execution_count": 3,
   "metadata": {},
   "outputs": [
    {
     "name": "stderr",
     "output_type": "stream",
     "text": [
      "100%|██████████| 10/10 [00:00<00:00, 30.84it/s]\n"
     ]
    }
   ],
   "source": [
    "dt_sampler = ConstantSampler(dt=0.05)\n",
    "env = PendulumEnv(\n",
    "    dt_sampler=dt_sampler\n",
    ")\n",
    "num_layers = 4\n",
    "hidden_size = 128\n",
    "lr=0.001\n",
    "agent_key, key = jax.random.split(key)\n",
    "def make_dynamic_model(ob_dim: int, ac_dim: int):\n",
    "    return ptu.build_mlp(\n",
    "        input_size=ob_dim+ac_dim,\n",
    "        output_size=ob_dim,\n",
    "        n_layers=num_layers,\n",
    "        size=hidden_size\n",
    "    )\n",
    "def make_optimizer(parameters):\n",
    "    return torch.optim.Adam(parameters, lr=lr)\n",
    "\n",
    "mb_agent = ModelBasedAgent(\n",
    "    env=env,\n",
    "    make_dynamics_model=make_dynamic_model,\n",
    "    make_optimizer=make_optimizer,\n",
    "    ensemble_size=10,\n",
    "    mpc_horizon=100,\n",
    "    mpc_strategy=\"cem\",\n",
    "    mpc_discount=1.0,\n",
    "    mpc_num_action_sequences=1000,\n",
    "    mpc_dt=0.05,\n",
    "    cem_num_iters=4,\n",
    "    cem_num_elites=5,\n",
    "    cem_alpha=1,\n",
    "    mode=\"vanilla\"\n",
    ")\n",
    "replay_buffer = ReplayBufferTransitions()\n",
    "trajs, _ = sample_n_trajectories(env, RandomPolicy(env=env), ntraj=10, max_length=200, key=key)\n",
    "for traj in trajs:\n",
    "    replay_buffer.batched_insert(\n",
    "    observations=traj[\"observation\"],\n",
    "    actions=traj[\"action\"],\n",
    "    rewards=traj[\"reward\"],\n",
    "    next_observations=traj[\"next_observation\"],\n",
    "    dones=traj[\"done\"],\n",
    "    dts=traj[\"dt\"]\n",
    ")"
   ]
  },
  {
   "cell_type": "code",
   "execution_count": 4,
   "metadata": {},
   "outputs": [],
   "source": [
    "mb_agent.update_statistics(\n",
    "    obs=replay_buffer.observations,\n",
    "    acs=replay_buffer.actions,\n",
    "    next_obs = replay_buffer.next_observations\n",
    ")"
   ]
  },
  {
   "cell_type": "code",
   "execution_count": 5,
   "metadata": {},
   "outputs": [
    {
     "name": "stderr",
     "output_type": "stream",
     "text": [
      "100%|██████████| 10/10 [00:00<00:00, 13.50it/s]\n"
     ]
    }
   ],
   "source": [
    "for n in trange(10):\n",
    "    for i in range(mb_agent.ensemble_size):\n",
    "        batch = replay_buffer.sample(64)\n",
    "        mb_agent.update(i, batch[\"observations\"], batch[\"actions\"], batch[\"next_observations\"], batch[\"dts\"])"
   ]
  },
  {
   "cell_type": "code",
   "execution_count": 10,
   "metadata": {},
   "outputs": [
    {
     "name": "stderr",
     "output_type": "stream",
     "text": [
      " 10%|█         | 1/10 [01:55<17:22, 115.84s/it]"
     ]
    }
   ],
   "source": [
    "trajs, _ = sample_n_trajectories(\n",
    "    env=env,\n",
    "    policy=mb_agent,\n",
    "    ntraj=10,\n",
    "    max_length=200,\n",
    "    key=key\n",
    ")"
   ]
  },
  {
   "cell_type": "code",
   "execution_count": 7,
   "metadata": {},
   "outputs": [],
   "source": [
    "ob = env.reset()\n",
    "ac = mb_agent.get_action(ob, key=None)"
   ]
  },
  {
   "cell_type": "code",
   "execution_count": 8,
   "metadata": {},
   "outputs": [
    {
     "data": {
      "text/plain": [
       "array([0.30612447])"
      ]
     },
     "execution_count": 8,
     "metadata": {},
     "output_type": "execute_result"
    }
   ],
   "source": [
    "ac"
   ]
  },
  {
   "cell_type": "code",
   "execution_count": null,
   "metadata": {},
   "outputs": [],
   "source": []
  }
 ],
 "metadata": {
  "kernelspec": {
   "display_name": "cs285_proj",
   "language": "python",
   "name": "python3"
  },
  "language_info": {
   "codemirror_mode": {
    "name": "ipython",
    "version": 3
   },
   "file_extension": ".py",
   "mimetype": "text/x-python",
   "name": "python",
   "nbconvert_exporter": "python",
   "pygments_lexer": "ipython3",
   "version": "3.9.18"
  }
 },
 "nbformat": 4,
 "nbformat_minor": 2
}
